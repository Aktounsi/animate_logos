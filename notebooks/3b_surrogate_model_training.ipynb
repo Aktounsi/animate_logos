{
 "cells": [
  {
   "cell_type": "markdown",
   "metadata": {
    "pycharm": {
     "name": "#%% md\n"
    }
   },
   "source": [
    "# Surrogate Model\n",
    "### Training of Feedforward Neural Network with special architecture for Ordinal Classification"
   ]
  },
  {
   "cell_type": "code",
   "execution_count": 1,
   "metadata": {
    "jupyter": {
     "outputs_hidden": false
    },
    "pycharm": {
     "name": "#%%\n"
    }
   },
   "outputs": [],
   "source": [
    "import torch\n",
    "import torch.nn as nn\n",
    "import numpy as np\n",
    "import random\n",
    "import matplotlib.pyplot as plt\n",
    "import os\n",
    "import pickle\n",
    "os.chdir(\"..\")\n",
    "from sklearn.preprocessing import StandardScaler\n",
    "from src.models.ordinal_classifier_fnn import *\n",
    "from src.models.coral_loss import *\n",
    "from src.data.sm_dataloader import *\n",
    "from src.preprocessing.sm_label_transformer import *\n",
    "import torch.nn.functional as F\n",
    "from sklearn.metrics import mean_absolute_error"
   ]
  },
  {
   "cell_type": "markdown",
   "metadata": {},
   "source": [
    "### 1. Set seeds"
   ]
  },
  {
   "cell_type": "code",
   "execution_count": 2,
   "metadata": {
    "jupyter": {
     "outputs_hidden": false
    },
    "pycharm": {
     "name": "#%%\n"
    }
   },
   "outputs": [],
   "source": [
    "# Set seeds in order to reproduce results\n",
    "torch.manual_seed(73)\n",
    "random.seed(73)\n",
    "np.random.seed(73)"
   ]
  },
  {
   "cell_type": "markdown",
   "metadata": {
    "pycharm": {
     "name": "#%% md\n"
    }
   },
   "source": [
    "### 2. Load dataset"
   ]
  },
  {
   "cell_type": "code",
   "execution_count": 3,
   "metadata": {
    "jupyter": {
     "outputs_hidden": false
    },
    "pycharm": {
     "name": "#%%\n"
    }
   },
   "outputs": [
    {
     "data": {
      "text/plain": [
       "torch.Size([9650, 38])"
      ]
     },
     "execution_count": 3,
     "metadata": {},
     "output_type": "execute_result"
    }
   ],
   "source": [
    "# Replace by true labeled dataset if available\n",
    "train_dataset = DatasetSM(train=True, path=\"data/surrogate_model\")\n",
    "test_dataset = DatasetSM(train=False, path=\"data/surrogate_model\")\n",
    "train_dataset.X.shape"
   ]
  },
  {
   "cell_type": "code",
   "execution_count": 5,
   "metadata": {
    "jupyter": {
     "outputs_hidden": false
    },
    "pycharm": {
     "name": "#%%\n"
    }
   },
   "outputs": [
    {
     "data": {
      "text/plain": [
       "tensor([[1., 1., 1., 0.],\n",
       "        [1., 1., 1., 0.],\n",
       "        [0., 0., 0., 0.],\n",
       "        ...,\n",
       "        [1., 1., 0., 0.],\n",
       "        [0., 0., 0., 0.],\n",
       "        [0., 0., 0., 0.]])"
      ]
     },
     "execution_count": 5,
     "metadata": {},
     "output_type": "execute_result"
    }
   ],
   "source": [
    "train_dataset.y"
   ]
  },
  {
   "cell_type": "markdown",
   "metadata": {
    "pycharm": {
     "name": "#%% md\n"
    }
   },
   "source": [
    "### 3. Scale training and test data"
   ]
  },
  {
   "cell_type": "code",
   "execution_count": 6,
   "metadata": {
    "jupyter": {
     "outputs_hidden": false
    },
    "pycharm": {
     "name": "#%%\n"
    }
   },
   "outputs": [],
   "source": [
    "scaler = StandardScaler()\n",
    "\n",
    "# only scale numeric variables that are not one-hot encoded\n",
    "scaler.fit(train_dataset.X[:, 12:])\n",
    "train_dataset.scale(scaler)\n",
    "test_dataset.scale(scaler)\n",
    "\n",
    "with open('models/sm_train_standard_scaler_skew_-1_70.pkl', 'wb') as output:\n",
    "    pickle.dump(scaler, output, pickle.HIGHEST_PROTOCOL)"
   ]
  },
  {
   "cell_type": "code",
   "execution_count": 7,
   "metadata": {},
   "outputs": [
    {
     "data": {
      "text/plain": [
       "tensor([[ 0.0000,  0.0000,  0.0000,  ...,  0.8262,  0.9302,  0.0199],\n",
       "        [ 0.0000,  0.0000,  0.0000,  ...,  0.8262,  1.2502,  0.0199],\n",
       "        [ 1.0000,  0.0000,  0.0000,  ..., -1.8865, -2.0006,  0.0199],\n",
       "        ...,\n",
       "        [ 0.0000,  0.0000,  0.0000,  ...,  1.4181,  0.0049,  0.0199],\n",
       "        [ 1.0000,  0.0000,  0.0000,  ...,  0.4089, -0.0364,  0.0199],\n",
       "        [ 0.0000,  1.0000,  0.0000,  ...,  1.4181,  0.0049,  0.0199]])"
      ]
     },
     "execution_count": 7,
     "metadata": {},
     "output_type": "execute_result"
    }
   ],
   "source": [
    "train_dataset.X"
   ]
  },
  {
   "cell_type": "markdown",
   "metadata": {},
   "source": [
    "### 4. Train model"
   ]
  },
  {
   "cell_type": "markdown",
   "metadata": {
    "pycharm": {
     "name": "#%% md\n"
    }
   },
   "source": [
    "#### 4.1 Build model and switch to GPU if available"
   ]
  },
  {
   "cell_type": "code",
   "execution_count": 10,
   "metadata": {
    "jupyter": {
     "outputs_hidden": false
    },
    "pycharm": {
     "name": "#%%\n"
    }
   },
   "outputs": [
    {
     "name": "stdout",
     "output_type": "stream",
     "text": [
      "cpu\n"
     ]
    },
    {
     "data": {
      "text/plain": [
       "OrdinalClassifierFNN(\n",
       "  (hidden): ModuleList(\n",
       "    (0): Linear(in_features=38, out_features=28, bias=True)\n",
       "  )\n",
       "  (coral_weights): Linear(in_features=28, out_features=1, bias=False)\n",
       ")"
      ]
     },
     "execution_count": 10,
     "metadata": {},
     "output_type": "execute_result"
    }
   ],
   "source": [
    "fitness_function = OrdinalClassifierFNN(num_classes=5, layer_sizes=[38,28])\n",
    "\n",
    "device = torch.device(\"cuda:0\" if torch.cuda.is_available() else \"cpu\")\n",
    "print(device)\n",
    "fitness_function.to(device)"
   ]
  },
  {
   "cell_type": "code",
   "execution_count": 11,
   "metadata": {},
   "outputs": [
    {
     "name": "stdout",
     "output_type": "stream",
     "text": [
      "tensor([[ 0.6286,  0.3786,  0.1286, -0.1214],\n",
      "        [ 0.6286,  0.3786,  0.1286, -0.1214],\n",
      "        [ 0.5995,  0.3495,  0.0995, -0.1505],\n",
      "        [ 0.6286,  0.3786,  0.1286, -0.1214],\n",
      "        [ 0.7219,  0.4719,  0.2219, -0.0281]], grad_fn=<AddBackward0>)\n"
     ]
    },
    {
     "data": {
      "text/plain": [
       "tensor([[0.6522, 0.5935, 0.5321, 0.4697],\n",
       "        [0.6522, 0.5935, 0.5321, 0.4697],\n",
       "        [0.6455, 0.5865, 0.5249, 0.4625],\n",
       "        [0.6522, 0.5935, 0.5321, 0.4697],\n",
       "        [0.6730, 0.6158, 0.5553, 0.4930]], grad_fn=<SigmoidBackward>)"
      ]
     },
     "execution_count": 11,
     "metadata": {},
     "output_type": "execute_result"
    }
   ],
   "source": [
    "res = fitness_function(test_dataset.X[:5])\n",
    "print(res)\n",
    "torch.sigmoid(res)"
   ]
  },
  {
   "cell_type": "markdown",
   "metadata": {
    "pycharm": {
     "name": "#%% md\n"
    }
   },
   "source": [
    "#### 4.2 Define optimizer and additional measure to report (optional)"
   ]
  },
  {
   "cell_type": "code",
   "execution_count": 12,
   "metadata": {
    "jupyter": {
     "outputs_hidden": false
    },
    "pycharm": {
     "name": "#%%\n"
    }
   },
   "outputs": [],
   "source": [
    "#criterion = nn.L1Loss()\n",
    "report_measure = nn.L1Loss()\n",
    "optimizer = torch.optim.Adam(fitness_function.parameters())"
   ]
  },
  {
   "cell_type": "markdown",
   "metadata": {
    "pycharm": {
     "name": "#%% md\n"
    }
   },
   "source": [
    "#### 4.3 Define Data loaders"
   ]
  },
  {
   "cell_type": "code",
   "execution_count": 13,
   "metadata": {
    "jupyter": {
     "outputs_hidden": false
    },
    "pycharm": {
     "name": "#%%\n"
    }
   },
   "outputs": [],
   "source": [
    "# Useful because it automatically generates batches in the training loop and takes care of shuffling\n",
    "\n",
    "batch_size = 128\n",
    "train_loader = torch.utils.data.DataLoader(dataset=train_dataset,\n",
    "                                           batch_size=batch_size,\n",
    "                                           shuffle=True)\n",
    "\n",
    "test_loader = torch.utils.data.DataLoader(dataset=test_dataset,\n",
    "                                          batch_size=batch_size,\n",
    "                                          shuffle=False)"
   ]
  },
  {
   "cell_type": "markdown",
   "metadata": {
    "pycharm": {
     "name": "#%% md\n"
    }
   },
   "source": [
    "#### 4.4 Actual Model training"
   ]
  },
  {
   "cell_type": "code",
   "execution_count": 14,
   "metadata": {
    "jupyter": {
     "outputs_hidden": false
    },
    "pycharm": {
     "name": "#%%\n"
    }
   },
   "outputs": [
    {
     "name": "stdout",
     "output_type": "stream",
     "text": [
      "Epoch 1/70, Train Loss: 2.4223, Test Loss: 2.2931 Train Binary MAE: 0.4420, Test Binary MAE: 0.4168, Train Accuracy: 0.2537, Test Accuracy: 0.2751, Train Label MAE:  1.2436, Test Label MAE:  1.1445\n",
      "Epoch 10/70, Train Loss: 1.7805, Test Loss: 1.7768 Train Binary MAE: 0.3225, Test Binary MAE: 0.3237, Train Accuracy: 0.4678, Test Accuracy: 0.4740, Train Label MAE:  0.7105, Test Label MAE:  0.6667\n",
      "Epoch 20/70, Train Loss: 1.6282, Test Loss: 1.6423 Train Binary MAE: 0.2852, Test Binary MAE: 0.2872, Train Accuracy: 0.4607, Test Accuracy: 0.4616, Train Label MAE:  0.6875, Test Label MAE:  0.6610\n",
      "Epoch 30/70, Train Loss: 1.5580, Test Loss: 1.5834 Train Binary MAE: 0.2649, Test Binary MAE: 0.2667, Train Accuracy: 0.4585, Test Accuracy: 0.4708, Train Label MAE:  0.6779, Test Label MAE:  0.6489\n",
      "Epoch 40/70, Train Loss: 1.5230, Test Loss: 1.5457 Train Binary MAE: 0.2531, Test Binary MAE: 0.2544, Train Accuracy: 0.4565, Test Accuracy: 0.4713, Train Label MAE:  0.6736, Test Label MAE:  0.6385\n",
      "Epoch 50/70, Train Loss: 1.5037, Test Loss: 1.5373 Train Binary MAE: 0.2460, Test Binary MAE: 0.2490, Train Accuracy: 0.4591, Test Accuracy: 0.4639, Train Label MAE:  0.6644, Test Label MAE:  0.6406\n",
      "Epoch 60/70, Train Loss: 1.4957, Test Loss: 1.5287 Train Binary MAE: 0.2418, Test Binary MAE: 0.2438, Train Accuracy: 0.4588, Test Accuracy: 0.4653, Train Label MAE:  0.6646, Test Label MAE:  0.6389\n",
      "Epoch 70/70, Train Loss: 1.4846, Test Loss: 1.5280 Train Binary MAE: 0.2387, Test Binary MAE: 0.2417, Train Accuracy: 0.4561, Test Accuracy: 0.4580, Train Label MAE:  0.6648, Test Label MAE:  0.6471\n"
     ]
    }
   ],
   "source": [
    "n_epochs = 70\n",
    "\n",
    "# Stuff to store\n",
    "train_losses = np.zeros(n_epochs)\n",
    "train_bin_maes = np.zeros(n_epochs)\n",
    "train_accuracies = np.zeros(n_epochs)\n",
    "train_label_maes = np.zeros(n_epochs)\n",
    "\n",
    "test_losses = np.zeros(n_epochs)\n",
    "test_bin_maes = np.zeros(n_epochs)\n",
    "test_accuracies = np.zeros(n_epochs)\n",
    "test_label_maes = np.zeros(n_epochs)\n",
    "\n",
    "\n",
    "for it in range(n_epochs):\n",
    "    train_loss = []\n",
    "    test_loss = []\n",
    "    train_bin_mae = []\n",
    "    test_bin_mae = []\n",
    "    train_label_mae = []\n",
    "    test_label_mae = []\n",
    "    correct_train = 0\n",
    "    correct_test = 0\n",
    "    for inputs, targets in train_loader:\n",
    "        # move data to GPU\n",
    "        inputs, targets = inputs.to(device), targets.to(device)\n",
    "\n",
    "        # zero the parameter gradients\n",
    "        optimizer.zero_grad()\n",
    "        \n",
    "        # Forward pass\n",
    "        outputs = fitness_function(inputs)\n",
    "        loss = coral_loss(outputs, targets)\n",
    "\n",
    "        # Backward and optimize\n",
    "        loss.backward()\n",
    "        optimizer.step()\n",
    "\n",
    "        # Store loss and other report measures\n",
    "        train_loss.append(loss.item())\n",
    "        train_bin_mae.append(report_measure(torch.sigmoid(outputs), targets).item())\n",
    "        train_label_mae.append(mean_absolute_error(decode_classes(targets), decode_classes(torch.sigmoid(outputs))))\n",
    "        \n",
    "        # Count correct predictions\n",
    "        correct_train += (decode_classes(torch.sigmoid(outputs)) == decode_classes(targets)).sum()\n",
    "        \n",
    "    # Get train loss and test loss\n",
    "    train_loss = np.mean(train_loss)\n",
    "    train_bin_mae = np.mean(train_bin_mae)\n",
    "    train_label_mae = np.mean(train_label_mae)\n",
    "    \n",
    "    # Get train accuracy\n",
    "    train_accuracy = correct_train / len(train_dataset.X)\n",
    "    \n",
    "    predicted_classes = []\n",
    "    for inputs, targets in test_loader:\n",
    "        inputs, targets = inputs.to(device), targets.to(device)\n",
    "        outputs = fitness_function(inputs)\n",
    "        loss = coral_loss(outputs, targets)\n",
    "        test_loss.append(loss.item())\n",
    "        test_bin_mae.append(report_measure(torch.sigmoid(outputs), targets).item())\n",
    "        test_label_mae.append(mean_absolute_error(decode_classes(targets), decode_classes(torch.sigmoid(outputs))))\n",
    "        correct_test += (decode_classes(torch.sigmoid(outputs)) == decode_classes(targets)).sum()\n",
    "    test_loss = np.mean(test_loss)\n",
    "    test_bin_mae = np.mean(test_bin_mae)\n",
    "    test_label_mae = np.mean(test_label_mae)\n",
    "    test_accuracy = correct_test / len(test_dataset.X)\n",
    "\n",
    "    # Save losses\n",
    "    train_losses[it] = train_loss\n",
    "    train_bin_maes[it] = train_bin_mae\n",
    "    test_losses[it] = test_loss\n",
    "    test_bin_maes[it] = test_bin_mae\n",
    "    train_label_maes[it] = train_label_mae\n",
    "    test_label_maes[it] = test_label_mae\n",
    "    train_accuracies[it] = train_accuracy\n",
    "    test_accuracies[it] = test_accuracy\n",
    "\n",
    "    if (it + 1) % 10 == 0 or it==0:\n",
    "        print(f'Epoch {it + 1}/{n_epochs}, Train Loss: {train_loss:.4f}, Test Loss: {test_loss:.4f}'\n",
    "              f' Train Binary MAE: {train_bin_mae:.4f}, Test Binary MAE: {test_bin_mae:.4f}, Train Accuracy: {train_accuracy:.4f}, Test Accuracy: {test_accuracy:.4f}, Train Label MAE:  {train_label_mae:.4f}, Test Label MAE:  {test_label_mae:.4f}')"
   ]
  },
  {
   "cell_type": "markdown",
   "metadata": {},
   "source": [
    "### 5. Evaluate model performance"
   ]
  },
  {
   "cell_type": "markdown",
   "metadata": {},
   "source": [
    "#### 5.1 Compute benchmark performance values"
   ]
  },
  {
   "cell_type": "code",
   "execution_count": 27,
   "metadata": {},
   "outputs": [
    {
     "name": "stdout",
     "output_type": "stream",
     "text": [
      "Number of training instances: 9650\n",
      "Distribution of reward classes in training dataset: {0: 2580, 1: 2143, 2: 3096, 3: 1521, 4: 310}\n"
     ]
    }
   ],
   "source": [
    "unique_train, counts_train = np.unique(decode_classes(train_dataset.y).flatten(), return_counts=True)\n",
    "train_scores = dict(zip(unique_train, counts_train))\n",
    "n_train = len(train_dataset)\n",
    "\n",
    "print(f'Number of training instances: {n_train}')\n",
    "print(f'Distribution of reward classes in training dataset: {train_scores}')"
   ]
  },
  {
   "cell_type": "code",
   "execution_count": 28,
   "metadata": {},
   "outputs": [
    {
     "name": "stdout",
     "output_type": "stream",
     "text": [
      "Number of test instances: 2177\n",
      "Distribution of reward classes in test dataset: {0: 498, 1: 414, 2: 763, 3: 412, 4: 90}\n"
     ]
    }
   ],
   "source": [
    "unique_test, counts_test = np.unique(decode_classes(test_dataset.y).flatten(), return_counts=True)\n",
    "test_scores = dict(zip(unique_test, counts_test))\n",
    "n_test = len(test_dataset)\n",
    "\n",
    "print(f'Number of test instances: {n_test}')\n",
    "print(f'Distribution of reward classes in test dataset: {test_scores}')"
   ]
  },
  {
   "cell_type": "code",
   "execution_count": 36,
   "metadata": {},
   "outputs": [
    {
     "name": "stdout",
     "output_type": "stream",
     "text": [
      "Test Benchmark Accuracy: 0.3505\n"
     ]
    }
   ],
   "source": [
    "# Accuracy for majority classifier\n",
    "acc = test_scores[2]/n_test\n",
    "print(f'Test Benchmark Accuracy: {acc :.4f}')"
   ]
  },
  {
   "cell_type": "code",
   "execution_count": 35,
   "metadata": {},
   "outputs": [
    {
     "name": "stdout",
     "output_type": "stream",
     "text": [
      "Test Benchmark Label MAE: 0.9196\n"
     ]
    }
   ],
   "source": [
    "# Label MAE for constant prediction of class 2\n",
    "label_mae = 2*(test_scores[0]+test_scores[4])/n_test + 1*(test_scores[1]+test_scores[3])/n_test\n",
    "print(f'Test Benchmark Label MAE: {label_mae :.4f}')"
   ]
  },
  {
   "cell_type": "code",
   "execution_count": 34,
   "metadata": {},
   "outputs": [
    {
     "name": "stdout",
     "output_type": "stream",
     "text": [
      "Test Benchmark Binary MAE: 0.2299\n"
     ]
    }
   ],
   "source": [
    "# Binary MAE for constant prediction of class 2 (1,1,0,0)\n",
    "binary_mae = (test_scores[0]*0.5 + test_scores[1]*0.25 + test_scores[3]*0.25 + test_scores[4]*0.5)/n_test\n",
    "print(f'Test Benchmark Binary MAE: {binary_mae :.4f}')"
   ]
  },
  {
   "cell_type": "markdown",
   "metadata": {
    "pycharm": {
     "name": "#%% md\n"
    }
   },
   "source": [
    "#### 5.2 Plot the train loss and test loss per epoch"
   ]
  },
  {
   "cell_type": "code",
   "execution_count": 32,
   "metadata": {
    "jupyter": {
     "outputs_hidden": false
    },
    "pycharm": {
     "name": "#%%\n"
    }
   },
   "outputs": [
    {
     "data": {
      "image/png": "[encoded data removed]",
      "text/plain": [
       "<Figure size 432x288 with 1 Axes>"
      ]
     },
     "metadata": {
      "needs_background": "light"
     },
     "output_type": "display_data"
    }
   ],
   "source": [
    "plt.plot(train_losses, label='train loss')\n",
    "plt.plot(test_losses, label='test loss')\n",
    "plt.legend()\n",
    "plt.show()"
   ]
  },
  {
   "cell_type": "code",
   "execution_count": 37,
   "metadata": {},
   "outputs": [
    {
     "data": {
      "image/png": "[encoded data removed]",
      "text/plain": [
       "<Figure size 432x288 with 1 Axes>"
      ]
     },
     "metadata": {
      "needs_background": "light"
     },
     "output_type": "display_data"
    }
   ],
   "source": [
    "plt.plot(train_bin_maes, label='train binary MAE')\n",
    "plt.plot(test_bin_maes, label='test binary MAE')\n",
    "plt.hlines(binary_mae, xmin=0, xmax=n_epochs, color='red')\n",
    "plt.legend()\n",
    "plt.show()"
   ]
  },
  {
   "cell_type": "code",
   "execution_count": 38,
   "metadata": {},
   "outputs": [
    {
     "data": {
      "image/png": "[encoded data removed]",
      "text/plain": [
       "<Figure size 432x288 with 1 Axes>"
      ]
     },
     "metadata": {
      "needs_background": "light"
     },
     "output_type": "display_data"
    }
   ],
   "source": [
    "plt.plot(train_label_maes, label='train label MAE')\n",
    "plt.plot(test_label_maes, label='test label MAE')\n",
    "plt.hlines(label_mae, xmin=0, xmax=n_epochs, color='red')\n",
    "plt.legend()\n",
    "plt.show()"
   ]
  },
  {
   "cell_type": "code",
   "execution_count": 39,
   "metadata": {},
   "outputs": [
    {
     "data": {
      "image/png": "[encoded data removed]",
      "text/plain": [
       "<Figure size 432x288 with 1 Axes>"
      ]
     },
     "metadata": {
      "needs_background": "light"
     },
     "output_type": "display_data"
    }
   ],
   "source": [
    "plt.plot(train_accuracies, label='train accuracy')\n",
    "plt.plot(test_accuracies, label='test accuracy')\n",
    "plt.hlines(acc, xmin=0, xmax=n_epochs, color='red')\n",
    "plt.legend()\n",
    "plt.show()"
   ]
  },
  {
   "cell_type": "markdown",
   "metadata": {},
   "source": [
    "### 6. Save trained model"
   ]
  },
  {
   "cell_type": "code",
   "execution_count": 15,
   "metadata": {
    "jupyter": {
     "outputs_hidden": false
    },
    "pycharm": {
     "name": "#%%\n"
    }
   },
   "outputs": [],
   "source": [
    "torch.save(fitness_function.state_dict(), \"models/sm_fnn_skew_-1_70.pth\")"
   ]
  }
 ],
 "metadata": {
  "kernelspec": {
   "display_name": "Python 3",
   "language": "python",
   "name": "python3"
  },
  "language_info": {
   "codemirror_mode": {
    "name": "ipython",
    "version": 3
   },
   "file_extension": ".py",
   "mimetype": "text/x-python",
   "name": "python",
   "nbconvert_exporter": "python",
   "pygments_lexer": "ipython3",
   "version": "3.8.5"
  }
 },
 "nbformat": 4,
 "nbformat_minor": 4
}
