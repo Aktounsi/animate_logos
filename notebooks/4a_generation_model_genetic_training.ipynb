{
 "cells": [
  {
   "cell_type": "code",
   "execution_count": 1,
   "metadata": {},
   "outputs": [],
   "source": [
    "import os\n",
    "from datetime import datetime\n",
    "\n",
    "from src.models.train_animation_predictor import main"
   ]
  },
  {
   "cell_type": "code",
   "execution_count": 2,
   "metadata": {},
   "outputs": [],
   "source": [
    "os.chdir('..')"
   ]
  },
  {
   "cell_type": "markdown",
   "metadata": {},
   "source": [
    "## 1. Set algorithm hyperparameters"
   ]
  },
  {
   "cell_type": "code",
   "execution_count": 3,
   "metadata": {},
   "outputs": [],
   "source": [
    "# Whether or not to drop paths that shouldn't be animated according to path selector from training\n",
    "drop = True\n",
    "\n",
    "# Whether or not to apply path selector and scaling to input data before training\n",
    "m1 = True\n",
    "\n",
    "# Number of agents in the genetic algorithm\n",
    "n_agents = 100\n",
    "\n",
    "# Number of top agents to be considered in subsequent generations\n",
    "n_top_parents = 20\n",
    "\n",
    "# Number of generations to train for\n",
    "generations = 35\n",
    "\n",
    "# Paths to training and test datasets\n",
    "train_path = 'data/path_selector/path_selector_train.csv'\n",
    "test_path = 'data/path_selector/path_selector_test.csv'"
   ]
  },
  {
   "cell_type": "code",
   "execution_count": 4,
   "metadata": {},
   "outputs": [],
   "source": [
    "# Timestamp which is used as an ID for saving best models\n",
    "timestamp = datetime.now().strftime('%Y%m%d_%H%M')"
   ]
  },
  {
   "cell_type": "markdown",
   "metadata": {},
   "source": [
    "## 2. Start training"
   ]
  },
  {
   "cell_type": "code",
   "execution_count": null,
   "metadata": {},
   "outputs": [],
   "source": [
    "best_model = main(train_path=train_path, test_path=test_path, num_agents=n_agents, top_parent_limit=n_top_parents, \n",
    "                  generations=generations, drop=drop, timestamp=timestamp, model1=m1)"
   ]
  }
 ],
 "metadata": {
  "kernelspec": {
   "display_name": "Python 3",
   "language": "python",
   "name": "python3"
  },
  "language_info": {
   "codemirror_mode": {
    "name": "ipython",
    "version": 3
   },
   "file_extension": ".py",
   "mimetype": "text/x-python",
   "name": "python",
   "nbconvert_exporter": "python",
   "pygments_lexer": "ipython3",
   "version": "3.8.5"
  }
 },
 "nbformat": 4,
 "nbformat_minor": 4
}
