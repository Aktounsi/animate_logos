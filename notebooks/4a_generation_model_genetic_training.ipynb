{
 "cells": [
  {
   "cell_type": "code",
   "execution_count": 1,
   "metadata": {},
   "outputs": [],
   "source": [
    "import os\n",
    "os.chdir('..')"
   ]
  },
  {
   "cell_type": "code",
   "execution_count": 2,
   "metadata": {},
   "outputs": [],
   "source": [
    "from datetime import datetime\n",
    "from src.models.train_animation_predictor import main"
   ]
  },
  {
   "cell_type": "markdown",
   "metadata": {},
   "source": [
    "## 1. Set algorithm hyperparameters"
   ]
  },
  {
   "cell_type": "code",
   "execution_count": 3,
   "metadata": {},
   "outputs": [],
   "source": [
    "# Whether or not to drop paths that shouldn't be animated according to path selector from training\n",
    "drop = True\n",
    "\n",
    "# Whether or not to apply path selector and scaling to input data before training\n",
    "m1 = True\n",
    "\n",
    "# Number of agents in the genetic algorithm\n",
    "n_agents = 100\n",
    "\n",
    "# Number of top agents to be considered in subsequent generations\n",
    "n_top_parents = 20\n",
    "\n",
    "# Number of generations to train for\n",
    "generations = 35\n",
    "\n",
    "# Paths to training and test datasets\n",
    "train_path = 'data/path_selector/path_selector_train.csv'\n",
    "test_path = 'data/path_selector/path_selector_test.csv'"
   ]
  },
  {
   "cell_type": "code",
   "execution_count": 4,
   "metadata": {},
   "outputs": [],
   "source": [
    "# Timestamp which is used as an ID for saving best models\n",
    "timestamp = datetime.now().strftime('%Y%m%d_%H%M')"
   ]
  },
  {
   "cell_type": "markdown",
   "metadata": {},
   "source": [
    "## 2. Start training"
   ]
  },
  {
   "cell_type": "code",
   "execution_count": 5,
   "metadata": {},
   "outputs": [
    {
     "name": "stdout",
     "output_type": "stream",
     "text": [
      "2021-05-28 11:19:40::INFO::Train data source: data/path_selector/path_selector_train.csv\n",
      "2021-05-28 11:19:40::INFO::Test data source: data/path_selector/path_selector_test.csv\n",
      "2021-05-28 11:19:40::INFO::Surrogate model in use: models/sm_fnn.pth\n",
      "2021-05-28 11:19:40::INFO::Replacement value for animation vector elements not in use: 0\n",
      "2021-05-28 11:19:40::INFO::Mutation power: 0.2\n",
      "2021-05-28 11:19:40::INFO::Number of animated paths: 2141/8921\n",
      "2021-05-28 11:19:40::INFO::Number of animated paths: 448/1892\n",
      "2021-05-28 11:19:40::INFO::Non-animated paths won't be used for training\n",
      "2021-05-28 11:19:40::INFO::Start extraction midpoint of animated paths as feature\n",
      "data/svgs_preprocessed/logo_253.svg, animation ID 24: svg2path fails and path bbox cannot be computed. list index out of range\n",
      "data/svgs_preprocessed/logo_253.svg: svg2path fails and bbox of multiple paths cannot be computed. list index out of range\n",
      "data/svgs_preprocessed/logo_253.svg, animation_id 24, animated_animation_ids [24, 25, 27, 26]: rel_x_position not defined and set to 0.5. float division by zero\n",
      "data/svgs_preprocessed/logo_253.svg, animation_id 24, animated_animation_ids [24, 25, 27, 26]: rel_y_position not defined and set to 0.5. float division by zero\n",
      "data/svgs_preprocessed/logo_253.svg, animation ID 25: svg2path fails and path bbox cannot be computed. list index out of range\n",
      "data/svgs_preprocessed/logo_253.svg: svg2path fails and bbox of multiple paths cannot be computed. list index out of range\n",
      "data/svgs_preprocessed/logo_253.svg, animation_id 25, animated_animation_ids [24, 25, 27, 26]: rel_x_position not defined and set to 0.5. float division by zero\n",
      "data/svgs_preprocessed/logo_253.svg, animation_id 25, animated_animation_ids [24, 25, 27, 26]: rel_y_position not defined and set to 0.5. float division by zero\n",
      "data/svgs_preprocessed/logo_253.svg, animation ID 27: svg2path fails and path bbox cannot be computed. list index out of range\n",
      "data/svgs_preprocessed/logo_253.svg: svg2path fails and bbox of multiple paths cannot be computed. list index out of range\n",
      "data/svgs_preprocessed/logo_253.svg, animation_id 27, animated_animation_ids [24, 25, 27, 26]: rel_x_position not defined and set to 0.5. float division by zero\n",
      "data/svgs_preprocessed/logo_253.svg, animation_id 27, animated_animation_ids [24, 25, 27, 26]: rel_y_position not defined and set to 0.5. float division by zero\n",
      "data/svgs_preprocessed/logo_253.svg, animation ID 26: svg2path fails and path bbox cannot be computed. list index out of range\n",
      "data/svgs_preprocessed/logo_253.svg: svg2path fails and bbox of multiple paths cannot be computed. list index out of range\n",
      "data/svgs_preprocessed/logo_253.svg, animation_id 26, animated_animation_ids [24, 25, 27, 26]: rel_x_position not defined and set to 0.5. float division by zero\n",
      "data/svgs_preprocessed/logo_253.svg, animation_id 26, animated_animation_ids [24, 25, 27, 26]: rel_y_position not defined and set to 0.5. float division by zero\n",
      "2021-05-28 11:20:49::INFO::Non-animated paths won't be used for training\n",
      "2021-05-28 11:20:49::INFO::Start extraction midpoint of animated paths as feature\n",
      "2021-05-28 11:21:02::INFO::Scaled input data for surrogate model\n"
     ]
    },
    {
     "ename": "NameError",
     "evalue": "name 'create_random_agents' is not defined",
     "output_type": "error",
     "traceback": [
      "\u001b[1;31m---------------------------------------------------------------------------\u001b[0m",
      "\u001b[1;31mNameError\u001b[0m                                 Traceback (most recent call last)",
      "\u001b[1;32m<ipython-input-5-e845ac8da2b9>\u001b[0m in \u001b[0;36m<module>\u001b[1;34m\u001b[0m\n\u001b[0;32m      1\u001b[0m best_model = main(train_path=train_path, test_path=test_path, num_agents=n_agents, top_parent_limit=n_top_parents, \n\u001b[1;32m----> 2\u001b[1;33m                   generations=generations, drop=drop, timestamp=timestamp, model1=m1)\n\u001b[0m",
      "\u001b[1;32m~\\PycharmProjects\\animate_logos\\src\\models\\train_animation_predictor.py\u001b[0m in \u001b[0;36mmain\u001b[1;34m(train_path, test_path, drop, num_agents, top_parent_limit, generations, timestamp, model1)\u001b[0m\n\u001b[0;32m    272\u001b[0m     top_model = train_animation_predictor(train_paths=train_paths, test_paths=test_paths, num_agents=num_agents,\n\u001b[0;32m    273\u001b[0m                                           \u001b[0mtop_parent_limit\u001b[0m\u001b[1;33m=\u001b[0m\u001b[0mtop_parent_limit\u001b[0m\u001b[1;33m,\u001b[0m \u001b[0mgenerations\u001b[0m\u001b[1;33m=\u001b[0m\u001b[0mgenerations\u001b[0m\u001b[1;33m,\u001b[0m\u001b[1;33m\u001b[0m\u001b[1;33m\u001b[0m\u001b[0m\n\u001b[1;32m--> 274\u001b[1;33m                                           timestamp=timestamp)\n\u001b[0m\u001b[0;32m    275\u001b[0m \u001b[1;33m\u001b[0m\u001b[0m\n\u001b[0;32m    276\u001b[0m     \u001b[1;31m# Save best model for animation prediction\u001b[0m\u001b[1;33m\u001b[0m\u001b[1;33m\u001b[0m\u001b[1;33m\u001b[0m\u001b[0m\n",
      "\u001b[1;32m~\\PycharmProjects\\animate_logos\\src\\models\\train_animation_predictor.py\u001b[0m in \u001b[0;36mtrain_animation_predictor\u001b[1;34m(train_paths, test_paths, hidden_sizes, out_sizes, num_agents, top_parent_limit, generations, timestamp)\u001b[0m\n\u001b[0;32m    161\u001b[0m     \u001b[1;31m# initialize number of agents\u001b[0m\u001b[1;33m\u001b[0m\u001b[1;33m\u001b[0m\u001b[1;33m\u001b[0m\u001b[0m\n\u001b[0;32m    162\u001b[0m     \u001b[0moverall_start\u001b[0m \u001b[1;33m=\u001b[0m \u001b[0mdatetime\u001b[0m\u001b[1;33m.\u001b[0m\u001b[0mnow\u001b[0m\u001b[1;33m(\u001b[0m\u001b[1;33m)\u001b[0m\u001b[1;33m\u001b[0m\u001b[1;33m\u001b[0m\u001b[0m\n\u001b[1;32m--> 163\u001b[1;33m     \u001b[0magents\u001b[0m \u001b[1;33m=\u001b[0m \u001b[0mcreate_random_agents\u001b[0m\u001b[1;33m(\u001b[0m\u001b[0mnum_agents\u001b[0m\u001b[1;33m=\u001b[0m\u001b[0mnum_agents\u001b[0m\u001b[1;33m)\u001b[0m\u001b[1;33m\u001b[0m\u001b[1;33m\u001b[0m\u001b[0m\n\u001b[0m\u001b[0;32m    164\u001b[0m \u001b[1;33m\u001b[0m\u001b[0m\n\u001b[0;32m    165\u001b[0m     \u001b[0minfo\u001b[0m\u001b[1;33m(\u001b[0m\u001b[1;34m'AP model summary'\u001b[0m\u001b[1;33m)\u001b[0m\u001b[1;33m\u001b[0m\u001b[1;33m\u001b[0m\u001b[0m\n",
      "\u001b[1;31mNameError\u001b[0m: name 'create_random_agents' is not defined"
     ]
    }
   ],
   "source": [
    "best_model = main(train_path=train_path, test_path=test_path, num_agents=n_agents, top_parent_limit=n_top_parents, \n",
    "                  generations=generations, drop=drop, timestamp=timestamp, model1=m1)"
   ]
  },
  {
   "cell_type": "code",
   "execution_count": null,
   "metadata": {},
   "outputs": [],
   "source": []
  }
 ],
 "metadata": {
  "kernelspec": {
   "display_name": "animate_logos",
   "language": "python",
   "name": "animate_logos"
  },
  "language_info": {
   "codemirror_mode": {
    "name": "ipython",
    "version": 3
   },
   "file_extension": ".py",
   "mimetype": "text/x-python",
   "name": "python",
   "nbconvert_exporter": "python",
   "pygments_lexer": "ipython3",
   "version": "3.7.10"
  }
 },
 "nbformat": 4,
 "nbformat_minor": 4
}
