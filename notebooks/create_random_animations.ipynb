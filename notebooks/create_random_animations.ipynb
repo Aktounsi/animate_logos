{
 "cells": [
  {
   "cell_type": "markdown",
   "metadata": {},
   "source": [
    "## Create random animations\n",
    "\n",
    "Animated SVGs are saved to the folder data/animated_svgs"
   ]
  },
  {
   "cell_type": "code",
   "execution_count": 1,
   "metadata": {},
   "outputs": [],
   "source": [
    "import os\n",
    "os.chdir(\"..\")"
   ]
  },
  {
   "cell_type": "code",
   "execution_count": 2,
   "metadata": {},
   "outputs": [
    {
     "name": "stderr",
     "output_type": "stream",
     "text": [
      "C:\\Users\\sarah\\Anaconda3\\lib\\site-packages\\scipy\\__init__.py:137: UserWarning: NumPy 1.16.5 or above is required for this version of SciPy (detected version 1.16.1)\n",
      "  UserWarning)\n"
     ]
    }
   ],
   "source": [
    "import pickle\n",
    "import warnings\n",
    "import pandas as pd\n",
    "from src.animations.create_random_animations import create_random_animations, random_animation_vector\n",
    "from src.animations.get_path_probabilities import get_path_probabilities\n",
    "warnings.filterwarnings('ignore')"
   ]
  },
  {
   "cell_type": "markdown",
   "metadata": {},
   "source": [
    "##### Specify number of animations per logo"
   ]
  },
  {
   "cell_type": "code",
   "execution_count": 3,
   "metadata": {},
   "outputs": [],
   "source": [
    "nb_animations = 4"
   ]
  },
  {
   "cell_type": "markdown",
   "metadata": {},
   "source": [
    "##### Animation vectors are saved as dataframe in animate_logos/data/animated_svgs_dataframes\n",
    "If split_df=true, animation vectors are saved to multiple dataframes (one dataframe per logo).  \n",
    "If split_df=false, animation vectors are saved to one dataframe and returned.\n",
    "\n",
    "Not sure which one is more efficient? If nb_animations very high, then split_df=true?"
   ]
  },
  {
   "cell_type": "code",
   "execution_count": 4,
   "metadata": {},
   "outputs": [],
   "source": [
    "split_df = False"
   ]
  },
  {
   "cell_type": "markdown",
   "metadata": {},
   "source": [
    "##### Create animations\n",
    "Animations are not completely random. Probabilies of path labeling are considered."
   ]
  },
  {
   "cell_type": "code",
   "execution_count": 5,
   "metadata": {},
   "outputs": [
    {
     "name": "stdout",
     "output_type": "stream",
     "text": [
      "File data/svgs/logo_0.svg, animation 10 can't be animated. single positional indexer is out-of-bounds\n",
      "File data/svgs/logo_0.svg, animation 10 can't be animated. single positional indexer is out-of-bounds\n",
      "File data/svgs/logo_0.svg, animation 10 can't be animated. single positional indexer is out-of-bounds\n",
      "File data/svgs/logo_0.svg, animation 10 can't be animated. single positional indexer is out-of-bounds\n",
      "No probability for path 6 in logo logo_101. Probability is set to 0.5. single positional indexer is out-of-bounds\n",
      "No probability for path 7 in logo logo_125. Probability is set to 0.5. single positional indexer is out-of-bounds\n",
      "No probability for path 7 in logo logo_129. Probability is set to 0.5. single positional indexer is out-of-bounds\n",
      "No probability for path 7 in logo logo_136. Probability is set to 0.5. single positional indexer is out-of-bounds\n",
      "No probability for path 7 in logo logo_151. Probability is set to 0.5. single positional indexer is out-of-bounds\n",
      "No probability for path 7 in logo logo_153. Probability is set to 0.5. single positional indexer is out-of-bounds\n",
      "No probability for path 6 in logo logo_154. Probability is set to 0.5. single positional indexer is out-of-bounds\n",
      "No probability for path 7 in logo logo_154. Probability is set to 0.5. single positional indexer is out-of-bounds\n",
      "No probability for path 6 in logo logo_155. Probability is set to 0.5. single positional indexer is out-of-bounds\n",
      "No probability for path 7 in logo logo_155. Probability is set to 0.5. single positional indexer is out-of-bounds\n",
      "No probability for path 7 in logo logo_158. Probability is set to 0.5. single positional indexer is out-of-bounds\n",
      "No probability for path 6 in logo logo_159. Probability is set to 0.5. single positional indexer is out-of-bounds\n",
      "No probability for path 7 in logo logo_159. Probability is set to 0.5. single positional indexer is out-of-bounds\n",
      "No probability for path 6 in logo logo_16. Probability is set to 0.5. single positional indexer is out-of-bounds\n",
      "No probability for path 6 in logo logo_160. Probability is set to 0.5. single positional indexer is out-of-bounds\n",
      "No probability for path 7 in logo logo_162. Probability is set to 0.5. single positional indexer is out-of-bounds\n",
      "No probability for path 4 in logo logo_168. Probability is set to 0.5. single positional indexer is out-of-bounds\n",
      "No probability for path 6 in logo logo_168. Probability is set to 0.5. single positional indexer is out-of-bounds\n",
      "No probability for path 4 in logo logo_169. Probability is set to 0.5. single positional indexer is out-of-bounds\n",
      "No probability for path 5 in logo logo_169. Probability is set to 0.5. single positional indexer is out-of-bounds\n",
      "No probability for path 6 in logo logo_169. Probability is set to 0.5. single positional indexer is out-of-bounds\n",
      "No probability for path 5 in logo logo_170. Probability is set to 0.5. single positional indexer is out-of-bounds\n",
      "No probability for path 6 in logo logo_170. Probability is set to 0.5. single positional indexer is out-of-bounds\n",
      "No probability for path 0 in logo logo_173. Probability is set to 0.5. single positional indexer is out-of-bounds\n",
      "No probability for path 0 in logo logo_174. Probability is set to 0.5. single positional indexer is out-of-bounds\n",
      "File data/svgs/logo_174.svg, animation 11 can't be animated. single positional indexer is out-of-bounds\n",
      "File data/svgs/logo_174.svg, animation 11 can't be animated. single positional indexer is out-of-bounds\n",
      "No probability for path 0 in logo logo_175. Probability is set to 0.5. single positional indexer is out-of-bounds\n",
      "No probability for path 0 in logo logo_176. Probability is set to 0.5. single positional indexer is out-of-bounds\n",
      "No probability for path 0 in logo logo_177. Probability is set to 0.5. single positional indexer is out-of-bounds\n",
      "No probability for path 7 in logo logo_184. Probability is set to 0.5. single positional indexer is out-of-bounds\n",
      "No probability for path 7 in logo logo_185. Probability is set to 0.5. single positional indexer is out-of-bounds\n",
      "No probability for path 7 in logo logo_187. Probability is set to 0.5. single positional indexer is out-of-bounds\n",
      "No probability for path 7 in logo logo_21. Probability is set to 0.5. single positional indexer is out-of-bounds\n",
      "File data/svgs/logo_28.svg, animation 128 can't be animated. single positional indexer is out-of-bounds\n",
      "File data/svgs/logo_28.svg, animation 128 can't be animated. single positional indexer is out-of-bounds\n",
      "No probability for path 7 in logo logo_30. Probability is set to 0.5. single positional indexer is out-of-bounds\n",
      "No probability for path 6 in logo logo_35. Probability is set to 0.5. single positional indexer is out-of-bounds\n",
      "No probability for path 6 in logo logo_47. Probability is set to 0.5. single positional indexer is out-of-bounds\n",
      "No probability for path 7 in logo logo_47. Probability is set to 0.5. single positional indexer is out-of-bounds\n",
      "No probability for path 7 in logo logo_48. Probability is set to 0.5. single positional indexer is out-of-bounds\n",
      "No probability for path 7 in logo logo_49. Probability is set to 0.5. single positional indexer is out-of-bounds\n",
      "No probability for path 7 in logo logo_51. Probability is set to 0.5. single positional indexer is out-of-bounds\n",
      "No probability for path 7 in logo logo_52. Probability is set to 0.5. single positional indexer is out-of-bounds\n",
      "No probability for path 7 in logo logo_56. Probability is set to 0.5. single positional indexer is out-of-bounds\n",
      "No probability for path 5 in logo logo_96. Probability is set to 0.5. single positional indexer is out-of-bounds\n",
      "No probability for path 7 in logo logo_99. Probability is set to 0.5. single positional indexer is out-of-bounds\n"
     ]
    }
   ],
   "source": [
    "df = create_random_animations(\"data/svgs\", nb_animations, split_df)"
   ]
  },
  {
   "cell_type": "markdown",
   "metadata": {},
   "source": [
    "##### Check animation vectors"
   ]
  },
  {
   "cell_type": "code",
   "execution_count": null,
   "metadata": {},
   "outputs": [],
   "source": [
    "#pd.set_option('display.max_columns', None)"
   ]
  },
  {
   "cell_type": "code",
   "execution_count": 146,
   "metadata": {},
   "outputs": [],
   "source": [
    "with open('data/animated_svgs_dataframes/1646_animation_vectors.pkl', 'rb') as f:\n",
    "    df = pickle.load(f)"
   ]
  },
  {
   "cell_type": "code",
   "execution_count": null,
   "metadata": {},
   "outputs": [],
   "source": [
    "df"
   ]
  }
 ],
 "metadata": {
  "kernelspec": {
   "display_name": "Python 3",
   "language": "python",
   "name": "python3"
  },
  "language_info": {
   "codemirror_mode": {
    "name": "ipython",
    "version": 3
   },
   "file_extension": ".py",
   "mimetype": "text/x-python",
   "name": "python",
   "nbconvert_exporter": "python",
   "pygments_lexer": "ipython3",
   "version": "3.7.9"
  }
 },
 "nbformat": 4,
 "nbformat_minor": 4
}
