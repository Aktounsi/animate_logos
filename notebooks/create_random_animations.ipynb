{
 "cells": [
  {
   "cell_type": "markdown",
   "metadata": {},
   "source": [
    "## Create random animations\n",
    "\n",
    "Animated SVGs are saved to the folder data/animated_svgs"
   ]
  },
  {
   "cell_type": "code",
   "execution_count": 1,
   "metadata": {},
   "outputs": [],
   "source": [
    "import os\n",
    "os.chdir(\"..\")"
   ]
  },
  {
   "cell_type": "code",
   "execution_count": 2,
   "metadata": {},
   "outputs": [
    {
     "name": "stderr",
     "output_type": "stream",
     "text": [
      "C:\\Users\\sarah\\Anaconda3\\lib\\site-packages\\scipy\\__init__.py:137: UserWarning: NumPy 1.16.5 or above is required for this version of SciPy (detected version 1.16.1)\n",
      "  UserWarning)\n"
     ]
    }
   ],
   "source": [
    "import pickle\n",
    "import warnings\n",
    "from src.models_output.create_random_animations import create_random_animations\n",
    "from src.models_output.get_path_probabilities import get_path_probabilities\n",
    "warnings.filterwarnings('ignore')"
   ]
  },
  {
   "cell_type": "markdown",
   "metadata": {},
   "source": [
    "##### Specify number of animations per logo"
   ]
  },
  {
   "cell_type": "code",
   "execution_count": 3,
   "metadata": {},
   "outputs": [],
   "source": [
    "nb_animations = 5"
   ]
  },
  {
   "cell_type": "markdown",
   "metadata": {},
   "source": [
    "##### Animation vectors are saved as dataframe in animate_logos/data/animated_svgs_dataframes\n",
    "If split_df=true, animation vectors are saved to multiple dataframes (one dataframe per logo).  \n",
    "If split_df=false, animation vectors are saved to one dataframe and returned.\n",
    "\n",
    "Not sure which one is more efficient? If nb_animations very high, then split_df=true?"
   ]
  },
  {
   "cell_type": "code",
   "execution_count": 14,
   "metadata": {},
   "outputs": [],
   "source": [
    "split_df = True"
   ]
  },
  {
   "cell_type": "markdown",
   "metadata": {},
   "source": [
    "##### Create animations\n",
    "Animations are not completely random. Probabilies of path labeling are considered."
   ]
  },
  {
   "cell_type": "code",
   "execution_count": 15,
   "metadata": {},
   "outputs": [],
   "source": [
    "create_random_animations(\"data/0_test\", nb_animations, split_df)"
   ]
  },
  {
   "cell_type": "markdown",
   "metadata": {},
   "source": [
    "##### Check animation vectors"
   ]
  },
  {
   "cell_type": "code",
   "execution_count": 18,
   "metadata": {},
   "outputs": [],
   "source": [
    "with open('data/animated_svgs_dataframes/logo_73_animation_vectors.pkl', 'rb') as f:\n",
    "    animation_vectors_df = pickle.load(f)"
   ]
  },
  {
   "cell_type": "code",
   "execution_count": 19,
   "metadata": {},
   "outputs": [
    {
     "data": {
      "text/html": [
       "<div>\n",
       "<style scoped>\n",
       "    .dataframe tbody tr th:only-of-type {\n",
       "        vertical-align: middle;\n",
       "    }\n",
       "\n",
       "    .dataframe tbody tr th {\n",
       "        vertical-align: top;\n",
       "    }\n",
       "\n",
       "    .dataframe thead th {\n",
       "        text-align: right;\n",
       "    }\n",
       "</style>\n",
       "<table border=\"1\" class=\"dataframe\">\n",
       "  <thead>\n",
       "    <tr style=\"text-align: right;\">\n",
       "      <th></th>\n",
       "      <th>file</th>\n",
       "      <th>animation_ids</th>\n",
       "      <th>path_probabilities</th>\n",
       "      <th>model_output</th>\n",
       "    </tr>\n",
       "  </thead>\n",
       "  <tbody>\n",
       "    <tr>\n",
       "      <th>0</th>\n",
       "      <td>logo_73_animation_0</td>\n",
       "      <td>[6, 0, 7, 1, 13, 8, 2, 45]</td>\n",
       "      <td>[1.0, 1.0, 1.0, 1.0, 0.8181818181818182, 0.909...</td>\n",
       "      <td>[[0.0, 1.0, 0.0, 0.0, 0.0, 0.0, 0.844421851525...</td>\n",
       "    </tr>\n",
       "    <tr>\n",
       "      <th>1</th>\n",
       "      <td>logo_73_animation_1</td>\n",
       "      <td>[6, 0, 7, 1, 13, 8, 2, 45]</td>\n",
       "      <td>[1.0, 1.0, 1.0, 1.0, 0.8181818181818182, 0.909...</td>\n",
       "      <td>[[0.0, 0.0, 0.0, 0.0, 1.0, 0.0, 0.134364244112...</td>\n",
       "    </tr>\n",
       "  </tbody>\n",
       "</table>\n",
       "</div>"
      ],
      "text/plain": [
       "                  file               animation_ids  \\\n",
       "0  logo_73_animation_0  [6, 0, 7, 1, 13, 8, 2, 45]   \n",
       "1  logo_73_animation_1  [6, 0, 7, 1, 13, 8, 2, 45]   \n",
       "\n",
       "                                  path_probabilities  \\\n",
       "0  [1.0, 1.0, 1.0, 1.0, 0.8181818181818182, 0.909...   \n",
       "1  [1.0, 1.0, 1.0, 1.0, 0.8181818181818182, 0.909...   \n",
       "\n",
       "                                        model_output  \n",
       "0  [[0.0, 1.0, 0.0, 0.0, 0.0, 0.0, 0.844421851525...  \n",
       "1  [[0.0, 0.0, 0.0, 0.0, 1.0, 0.0, 0.134364244112...  "
      ]
     },
     "execution_count": 19,
     "metadata": {},
     "output_type": "execute_result"
    }
   ],
   "source": [
    "animation_vectors_df"
   ]
  },
  {
   "cell_type": "code",
   "execution_count": null,
   "metadata": {},
   "outputs": [],
   "source": []
  }
 ],
 "metadata": {
  "kernelspec": {
   "display_name": "Python 3",
   "language": "python",
   "name": "python3"
  },
  "language_info": {
   "codemirror_mode": {
    "name": "ipython",
    "version": 3
   },
   "file_extension": ".py",
   "mimetype": "text/x-python",
   "name": "python",
   "nbconvert_exporter": "python",
   "pygments_lexer": "ipython3",
   "version": "3.7.9"
  }
 },
 "nbformat": 4,
 "nbformat_minor": 4
}
