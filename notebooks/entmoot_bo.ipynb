{
 "cells": [
  {
   "cell_type": "code",
   "execution_count": 1,
   "metadata": {},
   "outputs": [],
   "source": [
    "import os\n",
    "from entmoot.space.space import Space\n",
    "from entmoot.optimizer.gurobi_utils import get_core_gurobi_model\n",
    "import pandas as pd\n",
    "os.chdir(\"..\")\n",
    "from src.models.blackbox_sm_fnn import *"
   ]
  },
  {
   "cell_type": "code",
   "execution_count": 2,
   "metadata": {},
   "outputs": [],
   "source": [
    "# Load data\n",
    "initial_data = pd.read_csv('data/surrogate_model/sm_train_data_scaled.csv')\n",
    "\n",
    "X_train = initial_data.iloc[0:20,:-4]\n",
    "X_train.replace(to_replace=-1, value=0, inplace=True\n",
    "               )\n",
    "y_train = initial_data.iloc[0:20,-4:]\n",
    "\n",
    "y_train = pd.Series(decode_classes(y_train.to_numpy()).flatten())\n",
    "\n",
    "X_train = X_train.values.tolist()\n",
    "y_train = y_train.values.tolist()"
   ]
  },
  {
   "cell_type": "code",
   "execution_count": 3,
   "metadata": {},
   "outputs": [],
   "source": [
    "# Load surrogate model\n",
    "func = SurrogateModelFNN()\n",
    "# initialize the search space manually\n",
    "space = Space(func.get_bounds())"
   ]
  },
  {
   "cell_type": "code",
   "execution_count": 4,
   "metadata": {},
   "outputs": [
    {
     "name": "stdout",
     "output_type": "stream",
     "text": [
      "Academic license - for non-commercial use only - expires 2021-06-18\n",
      "Using license file /Users/jani/gurobi.lic\n"
     ]
    }
   ],
   "source": [
    "# get the core of the gurobi model from helper function 'get_core_gurobi_model'\n",
    "core_model = get_core_gurobi_model(space)\n",
    "\n",
    "# ordering of variable indices is dependent on space definition \n",
    "an_vec_0 = core_model._cont_var_dict[0]\n",
    "an_vec_1 = core_model._cont_var_dict[1]\n",
    "an_vec_2 = core_model._cont_var_dict[2]\n",
    "an_vec_3 = core_model._cont_var_dict[3]\n",
    "an_vec_4 = core_model._cont_var_dict[4]\n",
    "an_vec_5 = core_model._cont_var_dict[5]\n",
    "an_vec_6 = core_model._cont_var_dict[6]\n",
    "an_vec_7 = core_model._cont_var_dict[7]\n",
    "an_vec_8 = core_model._cont_var_dict[8]\n",
    "an_vec_9 = core_model._cont_var_dict[9]\n",
    "an_vec_10 = core_model._cont_var_dict[10]\n",
    "an_vec_11 = core_model._cont_var_dict[11]\n",
    "emb_0 = core_model._cont_var_dict[12]\n",
    "emb_1 = core_model._cont_var_dict[13]\n",
    "emb_2 = core_model._cont_var_dict[14]\n",
    "emb_3 = core_model._cont_var_dict[15]\n",
    "emb_4 = core_model._cont_var_dict[16]\n",
    "emb_5 = core_model._cont_var_dict[17]\n",
    "emb_6 = core_model._cont_var_dict[18]\n",
    "emb_7 = core_model._cont_var_dict[19]\n",
    "emb_8 = core_model._cont_var_dict[20]\n",
    "emb_9 = core_model._cont_var_dict[21]\n",
    "fill_r = core_model._cont_var_dict[22]\n",
    "fill_g = core_model._cont_var_dict[23]\n",
    "fill_b = core_model._cont_var_dict[24]\n",
    "svg_fill_r = core_model._cont_var_dict[25]\n",
    "svg_fill_g = core_model._cont_var_dict[26]\n",
    "svg_fill_b = core_model._cont_var_dict[27]\n",
    "diff_fill_r = core_model._cont_var_dict[28]\n",
    "diff_fill_g = core_model._cont_var_dict[29]\n",
    "diff_fill_b = core_model._cont_var_dict[30]\n",
    "rel_height = core_model._cont_var_dict[31]\n",
    "rel_width = core_model._cont_var_dict[32]\n",
    "rel_x_position = core_model._cont_var_dict[33]\n",
    "rel_y_position = core_model._cont_var_dict[34]\n",
    "rel_x_position_to_animations = core_model._cont_var_dict[35]\n",
    "rel_y_position_to_animations = core_model._cont_var_dict[36]\n",
    "nr_paths_svg = core_model._cont_var_dict[37]"
   ]
  },
  {
   "cell_type": "code",
   "execution_count": 5,
   "metadata": {},
   "outputs": [
    {
     "data": {
      "text/plain": [
       "<gurobi.Constr *Awaiting Model Update*>"
      ]
     },
     "execution_count": 5,
     "metadata": {},
     "output_type": "execute_result"
    }
   ],
   "source": [
    "core_model.addConstr(emb_0 == 1)\n",
    "core_model.addConstr(emb_1 == 1)\n",
    "core_model.addConstr(emb_2 == 1)\n",
    "core_model.addConstr(emb_3 == 1)\n",
    "core_model.addConstr(emb_4 == 1)\n",
    "core_model.addConstr(emb_5 == 1)\n",
    "core_model.addConstr(emb_6 == 1)\n",
    "core_model.addConstr(emb_7 == 1)\n",
    "core_model.addConstr(emb_8 == 1)\n",
    "core_model.addConstr(emb_9 == 1)\n",
    "core_model.addConstr(fill_r == 1)\n",
    "core_model.addConstr(fill_g == 1)\n",
    "core_model.addConstr(fill_b == 1)\n",
    "core_model.addConstr(svg_fill_r == 1)\n",
    "core_model.addConstr(svg_fill_g == 1)\n",
    "core_model.addConstr(svg_fill_b == 1)\n",
    "core_model.addConstr(diff_fill_r == 1)\n",
    "core_model.addConstr(diff_fill_g == 1)\n",
    "core_model.addConstr(diff_fill_b == 1)\n",
    "core_model.addConstr(rel_height == 1)\n",
    "core_model.addConstr(rel_width == 1)\n",
    "core_model.addConstr(rel_x_position == 1)\n",
    "core_model.addConstr(rel_y_position == 1)\n",
    "core_model.addConstr(rel_x_position_to_animations == 1)\n",
    "core_model.addConstr(rel_y_position_to_animations == 1)\n",
    "core_model.addConstr(nr_paths_svg == 1)"
   ]
  },
  {
   "cell_type": "code",
   "execution_count": 6,
   "metadata": {},
   "outputs": [
    {
     "data": {
      "text/plain": [
       "<gurobi.Model MIP instance Unnamed: 26 constrs, 38 vars, No parameter changes>"
      ]
     },
     "execution_count": 6,
     "metadata": {},
     "output_type": "execute_result"
    }
   ],
   "source": [
    "core_model.update()\n",
    "core_model"
   ]
  },
  {
   "cell_type": "code",
   "execution_count": 7,
   "metadata": {},
   "outputs": [
    {
     "name": "stdout",
     "output_type": "stream",
     "text": [
      "\n",
      "SOLVER: initial points exhausted\n",
      "   -> switch to model-based optimization\n",
      "\n",
      "SOLVER: start solution process...\n",
      "\n",
      "SOLVER: generate \u001b[1m 20\u001b[0m initial points...\n",
      "\n",
      "\u001b[1m itr_1\u001b[0m\n",
      "   new point obj.: -2\n",
      "   best obj.:       -2\n",
      "\n",
      "SOLVER: finished run!\n",
      "SOLVER: best obj.: -2\n",
      "\n"
     ]
    }
   ],
   "source": [
    "from entmoot.optimizer.entmoot_minimize import entmoot_minimize\n",
    "\n",
    "# cont_var_dict contains all continuous variabl\n",
    "\n",
    "# specify the model core in `acq_optimizer_kwargs`\n",
    "res = entmoot_minimize(\n",
    "    func,\n",
    "    func.get_bounds(),\n",
    "    n_calls=1,\n",
    "    base_estimator=\"GBRT\",\n",
    "    std_estimator=\"L1DDP\", \n",
    "    n_initial_points=0, \n",
    "    acq_func=\"LCB\", \n",
    "    acq_optimizer=\"global\",\n",
    "    x0=X_train,\n",
    "    y0=y_train,  \n",
    "    random_state=100, \n",
    "    acq_func_kwargs=None, \n",
    "    acq_optimizer_kwargs={\n",
    "      \"add_model_core\": core_model\n",
    "    },\n",
    "    std_estimator_kwargs=None,\n",
    "    model_queue_size=None,\n",
    "    base_estimator_kwargs={\n",
    "        \"min_child_samples\": 2\n",
    "    },\n",
    "    verbose = True,\n",
    ")"
   ]
  },
  {
   "cell_type": "code",
   "execution_count": 1,
   "metadata": {},
   "outputs": [
    {
     "ename": "NameError",
     "evalue": "name 'res' is not defined",
     "output_type": "error",
     "traceback": [
      "\u001b[0;31m---------------------------------------------------------------------------\u001b[0m",
      "\u001b[0;31mNameError\u001b[0m                                 Traceback (most recent call last)",
      "\u001b[0;32m<ipython-input-1-c08785e04264>\u001b[0m in \u001b[0;36m<module>\u001b[0;34m\u001b[0m\n\u001b[0;32m----> 1\u001b[0;31m \u001b[0mres\u001b[0m\u001b[0;34m\u001b[0m\u001b[0;34m\u001b[0m\u001b[0m\n\u001b[0m",
      "\u001b[0;31mNameError\u001b[0m: name 'res' is not defined"
     ]
    }
   ],
   "source": [
    "res"
   ]
  },
  {
   "cell_type": "code",
   "execution_count": null,
   "metadata": {},
   "outputs": [],
   "source": []
  }
 ],
 "metadata": {
  "kernelspec": {
   "display_name": "animate_logos",
   "language": "python",
   "name": "animate_logos"
  },
  "language_info": {
   "codemirror_mode": {
    "name": "ipython",
    "version": 3
   },
   "file_extension": ".py",
   "mimetype": "text/x-python",
   "name": "python",
   "nbconvert_exporter": "python",
   "pygments_lexer": "ipython3",
   "version": "3.8.8"
  }
 },
 "nbformat": 4,
 "nbformat_minor": 4
}
