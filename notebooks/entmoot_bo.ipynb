{
 "cells": [
  {
   "cell_type": "code",
   "execution_count": 1,
   "metadata": {},
   "outputs": [],
   "source": [
    "import os\n",
    "from entmoot.space.space import Space\n",
    "from entmoot.optimizer.gurobi_utils import get_core_gurobi_model\n",
    "os.chdir(\"..\")\n",
    "from src.models.blackbox_sm_fnn import *"
   ]
  },
  {
   "cell_type": "code",
   "execution_count": 3,
   "metadata": {},
   "outputs": [],
   "source": [
    "# Load surrogate model\n",
    "func = SurrogateModelFNN()\n",
    "# initialize the search space manually\n",
    "space = Space(func.get_bounds())"
   ]
  },
  {
   "cell_type": "code",
   "execution_count": 4,
   "metadata": {},
   "outputs": [
    {
     "data": {
      "text/plain": [
       "[Integer(low=0, high=1, prior='uniform', transform='identity'),\n",
       " Integer(low=0, high=1, prior='uniform', transform='identity'),\n",
       " (0.0, 1.0),\n",
       " (0.0, 1.0)]"
      ]
     },
     "execution_count": 4,
     "metadata": {},
     "output_type": "execute_result"
    }
   ],
   "source": [
    "# get bounds of model\n",
    "func.get_bounds()"
   ]
  },
  {
   "cell_type": "code",
   "execution_count": 5,
   "metadata": {},
   "outputs": [
    {
     "name": "stdout",
     "output_type": "stream",
     "text": [
      "Academic license - for non-commercial use only - expires 2021-06-18\n",
      "Using license file /Users/jani/gurobi.lic\n"
     ]
    }
   ],
   "source": [
    "# get the core of the gurobi model from helper function 'get_core_gurobi_model'\n",
    "core_model = get_core_gurobi_model(space)\n",
    "\n",
    "# ordering of variable indices is dependent on space definition \n"
   ]
  },
  {
   "cell_type": "code",
   "execution_count": 6,
   "metadata": {},
   "outputs": [],
   "source": [
    "x0 = core_model._cont_var_dict[0]\n",
    "x1 = core_model._cont_var_dict[1]\n",
    "x2 = core_model._cont_var_dict[2]\n",
    "x3 = core_model._cont_var_dict[3]"
   ]
  },
  {
   "cell_type": "code",
   "execution_count": 7,
   "metadata": {},
   "outputs": [
    {
     "data": {
      "text/plain": [
       "<gurobi.Constr *Awaiting Model Update*>"
      ]
     },
     "execution_count": 7,
     "metadata": {},
     "output_type": "execute_result"
    }
   ],
   "source": [
    "core_model.addConstr(x0 + x1 == 1, name=\"hi\")\n",
    "core_model.addConstr(x2 == 0.5, name=\"hallo\")"
   ]
  },
  {
   "cell_type": "code",
   "execution_count": 8,
   "metadata": {},
   "outputs": [
    {
     "data": {
      "text/plain": [
       "<gurobi.Model MIP instance Unnamed: 2 constrs, 4 vars, No parameter changes>"
      ]
     },
     "execution_count": 8,
     "metadata": {},
     "output_type": "execute_result"
    }
   ],
   "source": [
    "core_model.update()\n",
    "core_model"
   ]
  },
  {
   "cell_type": "code",
   "execution_count": 9,
   "metadata": {},
   "outputs": [
    {
     "data": {
      "text/plain": [
       "[Integer(low=0, high=1, prior='uniform', transform='identity'),\n",
       " Integer(low=0, high=1, prior='uniform', transform='identity'),\n",
       " (0.0, 1.0),\n",
       " (0.0, 1.0)]"
      ]
     },
     "execution_count": 9,
     "metadata": {},
     "output_type": "execute_result"
    }
   ],
   "source": [
    "func.get_bounds()"
   ]
  },
  {
   "cell_type": "code",
   "execution_count": 10,
   "metadata": {},
   "outputs": [
    {
     "name": "stdout",
     "output_type": "stream",
     "text": [
      "\n",
      "SOLVER: start solution process...\n",
      "\n",
      "SOLVER: generate \u001b[1m 10\u001b[0m initial points...\n",
      "\n",
      "\u001b[1m itr_1\u001b[0m\n",
      "   new point obj.: 1.93843\n",
      "   best obj.:       1.93843\n",
      "\n",
      "\u001b[1m itr_2\u001b[0m\n",
      "   new point obj.: 0.34318\n",
      "   best obj.:       1.93843\n",
      "\n",
      "\u001b[1m itr_3\u001b[0m\n",
      "   new point obj.: 1.32288\n",
      "   best obj.:       0.34318\n",
      "\n",
      "\u001b[1m itr_4\u001b[0m\n",
      "   new point obj.: 2.14766\n",
      "   best obj.:       0.34318\n",
      "\n",
      "\u001b[1m itr_5\u001b[0m\n",
      "   new point obj.: 2.31324\n",
      "   best obj.:       0.34318\n",
      "\n",
      "\u001b[1m itr_6\u001b[0m\n",
      "   new point obj.: 0.20564\n",
      "   best obj.:       0.34318\n",
      "\n",
      "\u001b[1m itr_7\u001b[0m\n",
      "   new point obj.: 2.33174\n",
      "   best obj.:       0.20564\n",
      "\n",
      "\u001b[1m itr_8\u001b[0m\n",
      "   new point obj.: 3.2189\n",
      "   best obj.:       0.20564\n",
      "\n",
      "\u001b[1m itr_9\u001b[0m\n",
      "   new point obj.: 2.7112\n",
      "   best obj.:       0.20564\n",
      "\n",
      "\u001b[1m itr_10\u001b[0m\n",
      "   new point obj.: 1.72345\n",
      "   best obj.:       0.20564\n",
      "\n",
      "SOLVER: initial points exhausted\n",
      "   -> switch to model-based optimization\n",
      "\n",
      "\u001b[1m itr_11\u001b[0m\n",
      "   new point obj.: 2.02948\n",
      "   best obj.:       0.20564\n",
      "\n",
      "\u001b[1m itr_12\u001b[0m\n",
      "   new point obj.: 2.02948\n",
      "   best obj.:       0.20564\n"
     ]
    },
    {
     "name": "stderr",
     "output_type": "stream",
     "text": [
      "/Users/jani/.conda/envs/animate_logos/lib/python3.8/site-packages/entmoot/optimizer/optimizer.py:518: UserWarning: The objective has been evaluated at this point before.\n",
      "  warnings.warn(\"The objective has been evaluated \"\n",
      "/Users/jani/.conda/envs/animate_logos/lib/python3.8/site-packages/entmoot/optimizer/optimizer.py:518: UserWarning: The objective has been evaluated at this point before.\n",
      "  warnings.warn(\"The objective has been evaluated \"\n"
     ]
    },
    {
     "name": "stdout",
     "output_type": "stream",
     "text": [
      "\n",
      "\u001b[1m itr_13\u001b[0m\n",
      "   new point obj.: 2.02948\n",
      "   best obj.:       0.20564\n",
      "\n",
      "\u001b[1m itr_14\u001b[0m\n",
      "   new point obj.: 2.02793\n",
      "   best obj.:       0.20564\n",
      "\n",
      "\u001b[1m itr_15\u001b[0m\n",
      "   new point obj.: 2.02716\n",
      "   best obj.:       0.20564\n",
      "\n",
      "SOLVER: finished run!\n",
      "SOLVER: best obj.: 0.20564\n",
      "\n"
     ]
    }
   ],
   "source": [
    "from entmoot.optimizer.entmoot_minimize import entmoot_minimize\n",
    "\n",
    "# cont_var_dict contains all continuous variables\n",
    "\n",
    "\n",
    "# define constraints accordingly\n",
    "core_model.addConstr(x0 + x1 == 1)\n",
    "core_model.addConstr(x2 == 0.5)\n",
    "\n",
    "# specify the model core in `acq_optimizer_kwargs`\n",
    "res = entmoot_minimize(\n",
    "    func,\n",
    "    func.get_bounds(),\n",
    "    n_calls=15,\n",
    "    n_points=10000,\n",
    "    base_estimator=\"GBRT\",\n",
    "    std_estimator=\"L1DDP\", \n",
    "    n_initial_points=10, \n",
    "    initial_point_generator=\"random\",\n",
    "    acq_func=\"LCB\", \n",
    "    acq_optimizer=\"global\",\n",
    "    x0=None,\n",
    "    y0=None,  \n",
    "    random_state=100, \n",
    "    acq_func_kwargs=None, \n",
    "    acq_optimizer_kwargs={\n",
    "      \"add_model_core\": core_model\n",
    "    },\n",
    "    std_estimator_kwargs=None,\n",
    "    model_queue_size=None,\n",
    "    base_estimator_kwargs={\n",
    "        \"min_child_samples\": 2\n",
    "    },\n",
    "    verbose = True,\n",
    ")"
   ]
  },
  {
   "cell_type": "code",
   "execution_count": 11,
   "metadata": {},
   "outputs": [
    {
     "data": {
      "text/plain": [
       "           fun: 0.20564211151127337\n",
       "     func_vals: array([1.93842887, 0.34317826, 1.32288254, 2.14765963, 2.3132404 ,\n",
       "       0.20564211, 2.33174251, 3.21890013, 2.71119803, 1.72345434,\n",
       "       2.02947809, 2.02947809, 2.02947809, 2.02793028, 2.02715637])\n",
       " gurobi_mipgap: [0.0, 0.0, 0.0, 0.0, 0.0]\n",
       "      model_mu: [array([1.95616533]), array([2.04448004]), array([2.03384405]), array([1.95117299]), array([2.02945069])]\n",
       "     model_std: [array([-0.33042684]), array([-0.]), array([-0.]), array([-0.00763591]), array([-0.00395297])]\n",
       "        models: [EntingRegressor(base_estimator=LGBMRegressor(min_child_samples=2,\n",
       "                                             objective='regression',\n",
       "                                             random_state=186422792,\n",
       "                                             verbose=-1),\n",
       "                random_state=186422792,\n",
       "                std_estimator=<entmoot.learning.distance_based_std.DistanceBasedPenalty object at 0x7ff027e2c460>), EntingRegressor(base_estimator=LGBMRegressor(min_child_samples=2,\n",
       "                                             objective='regression',\n",
       "                                             random_state=186422792,\n",
       "                                             verbose=-1),\n",
       "                random_state=186422792,\n",
       "                std_estimator=<entmoot.learning.distance_based_std.DistanceBasedPenalty object at 0x7ff027ee0d30>), EntingRegressor(base_estimator=LGBMRegressor(min_child_samples=2,\n",
       "                                             objective='regression',\n",
       "                                             random_state=186422792,\n",
       "                                             verbose=-1),\n",
       "                random_state=186422792,\n",
       "                std_estimator=<entmoot.learning.distance_based_std.DistanceBasedPenalty object at 0x7ff027f069d0>), EntingRegressor(base_estimator=LGBMRegressor(min_child_samples=2,\n",
       "                                             objective='regression',\n",
       "                                             random_state=186422792,\n",
       "                                             verbose=-1),\n",
       "                random_state=186422792,\n",
       "                std_estimator=<entmoot.learning.distance_based_std.DistanceBasedPenalty object at 0x7ff027ffaf70>), EntingRegressor(base_estimator=LGBMRegressor(min_child_samples=2,\n",
       "                                             objective='regression',\n",
       "                                             random_state=186422792,\n",
       "                                             verbose=-1),\n",
       "                random_state=186422792,\n",
       "                std_estimator=<entmoot.learning.distance_based_std.DistanceBasedPenalty object at 0x7ff02805e370>)]\n",
       "  random_state: RandomState(MT19937) at 0x7FF026230640\n",
       "         space: Space([Integer(low=0, high=1, prior='uniform', transform='identity'),\n",
       "       Integer(low=0, high=1, prior='uniform', transform='identity'),\n",
       "       Real(low=0.0, high=1.0, prior='uniform', transform='identity'),\n",
       "       Real(low=0.0, high=1.0, prior='uniform', transform='identity')])\n",
       "         specs: {'args': {'func': <src.models.blackbox_sm_fnn.SurrogateModelFNN object at 0x7ff024b42310>, 'dimensions': [Integer(low=0, high=1, prior='uniform', transform='identity'), Integer(low=0, high=1, prior='uniform', transform='identity'), (0.0, 1.0), (0.0, 1.0)], 'n_calls': 15, 'batch_size': None, 'batch_strategy': 'cl_mean', 'n_points': 10000, 'base_estimator': 'GBRT', 'std_estimator': 'L1DDP', 'n_initial_points': 10, 'initial_point_generator': 'random', 'acq_func': 'LCB', 'acq_optimizer': 'global', 'x0': None, 'y0': None, 'random_state': 100, 'acq_func_kwargs': None, 'acq_optimizer_kwargs': {'add_model_core': <gurobi.Model MIP instance Unnamed: 4361 constrs, 2816 vars, Parameter changes: LogToConsole=0>, 'n_points': 10000}, 'base_estimator_kwargs': {'min_child_samples': 2}, 'std_estimator_kwargs': None, 'model_queue_size': None, 'verbose': True}, 'function': 'entmoot_minimize'}\n",
       "             x: [0, 0, 0.1266542387898342, 0.07898787272143916]\n",
       "       x_iters: [[0, 1, 0.4120463984051168, 0.5263824674842964], [0, 0, 0.15671108008600113, 0.18646718316338276], [0, 0, 0.45273990285923027, 0.8701426355175179], [1, 0, 0.6243118882864872, 0.5233477442363518], [1, 1, 0.005817191449534077, 0.3074232114748939], [0, 0, 0.1266542387898342, 0.07898787272143916], [1, 0, 0.6323835881926432, 0.6993589247765379], [1, 1, 0.9200237790950535, 0.29887635391511364], [1, 1, 0.17862432454294344, 0.5325737018318948], [1, 0, 0.14206537615697803, 0.5813889622602119], [0, 1, 0.5, 0.529478085], [0, 1, 0.5, 0.529478085], [0, 1, 0.5, 0.529478085], [0, 1, 0.5, 0.527930276], [0, 1, 0.5, 0.527156372]]"
      ]
     },
     "execution_count": 11,
     "metadata": {},
     "output_type": "execute_result"
    }
   ],
   "source": [
    "res"
   ]
  },
  {
   "cell_type": "code",
   "execution_count": null,
   "metadata": {},
   "outputs": [],
   "source": []
  }
 ],
 "metadata": {
  "kernelspec": {
   "display_name": "animate_logos",
   "language": "python",
   "name": "animate_logos"
  },
  "language_info": {
   "codemirror_mode": {
    "name": "ipython",
    "version": 3
   },
   "file_extension": ".py",
   "mimetype": "text/x-python",
   "name": "python",
   "nbconvert_exporter": "python",
   "pygments_lexer": "ipython3",
   "version": "3.8.8"
  }
 },
 "nbformat": 4,
 "nbformat_minor": 4
}
