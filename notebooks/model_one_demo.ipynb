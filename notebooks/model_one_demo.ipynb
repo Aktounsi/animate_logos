{
 "cells": [
  {
   "cell_type": "markdown",
   "metadata": {},
   "source": [
    "# Model One\n",
    "### Logistic Regression, Random Forest, Extra Trees Classifier"
   ]
  },
  {
   "cell_type": "markdown",
   "metadata": {},
   "source": [
    "This Notbook should predict whether a certain path in a model should be animated or not based on the embedding and additional features created.\n",
    "\n",
    "For training we are using self-labeled data."
   ]
  },
  {
   "cell_type": "code",
   "execution_count": 2,
   "metadata": {},
   "outputs": [],
   "source": [
    "import os\n",
    "os.chdir(\"..\")"
   ]
  },
  {
   "cell_type": "code",
   "execution_count": 3,
   "metadata": {},
   "outputs": [
    {
     "name": "stderr",
     "output_type": "stream",
     "text": [
      "C:\\Users\\sarah\\Anaconda3\\lib\\site-packages\\scipy\\__init__.py:137: UserWarning: NumPy 1.16.5 or above is required for this version of SciPy (detected version 1.16.1)\n",
      "  UserWarning)\n"
     ]
    }
   ],
   "source": [
    "import pickle\n",
    "import pandas as pd\n",
    "import numpy as np\n",
    "import seaborn as sn\n",
    "import matplotlib.pyplot as plt\n",
    "import statsmodels.api as sm\n",
    "from sklearn.linear_model import LogisticRegression\n",
    "from sklearn.feature_selection import RFE\n",
    "from sklearn.model_selection import train_test_split, RandomizedSearchCV\n",
    "from sklearn.metrics import classification_report, confusion_matrix\n",
    "from sklearn.ensemble import RandomForestClassifier, ExtraTreesClassifier, GradientBoostingClassifier\n",
    "import matplotlib.pyplot as plt\n",
    "from matplotlib import pyplot\n",
    "from pprint import pprint"
   ]
  },
  {
   "cell_type": "markdown",
   "metadata": {},
   "source": [
    "### 1. Load and map data"
   ]
  },
  {
   "cell_type": "markdown",
   "metadata": {},
   "source": [
    "Delete rows of logo_id (provided through filename) and order_id (not important)"
   ]
  },
  {
   "cell_type": "code",
   "execution_count": 4,
   "metadata": {},
   "outputs": [
    {
     "data": {
      "text/html": [
       "<div>\n",
       "<style scoped>\n",
       "    .dataframe tbody tr th:only-of-type {\n",
       "        vertical-align: middle;\n",
       "    }\n",
       "\n",
       "    .dataframe tbody tr th {\n",
       "        vertical-align: top;\n",
       "    }\n",
       "\n",
       "    .dataframe thead th {\n",
       "        text-align: right;\n",
       "    }\n",
       "</style>\n",
       "<table border=\"1\" class=\"dataframe\">\n",
       "  <thead>\n",
       "    <tr style=\"text-align: right;\">\n",
       "      <th></th>\n",
       "      <th>animation_id</th>\n",
       "      <th>animate</th>\n",
       "      <th>filename</th>\n",
       "    </tr>\n",
       "  </thead>\n",
       "  <tbody>\n",
       "    <tr>\n",
       "      <th>0</th>\n",
       "      <td>5</td>\n",
       "      <td>0.578947</td>\n",
       "      <td>logo_0</td>\n",
       "    </tr>\n",
       "    <tr>\n",
       "      <th>1</th>\n",
       "      <td>0</td>\n",
       "      <td>0.526316</td>\n",
       "      <td>logo_0</td>\n",
       "    </tr>\n",
       "    <tr>\n",
       "      <th>2</th>\n",
       "      <td>2</td>\n",
       "      <td>0.526316</td>\n",
       "      <td>logo_0</td>\n",
       "    </tr>\n",
       "    <tr>\n",
       "      <th>3</th>\n",
       "      <td>4</td>\n",
       "      <td>0.684211</td>\n",
       "      <td>logo_0</td>\n",
       "    </tr>\n",
       "    <tr>\n",
       "      <th>4</th>\n",
       "      <td>3</td>\n",
       "      <td>0.526316</td>\n",
       "      <td>logo_0</td>\n",
       "    </tr>\n",
       "  </tbody>\n",
       "</table>\n",
       "</div>"
      ],
      "text/plain": [
       "   animation_id   animate filename\n",
       "0             5  0.578947   logo_0\n",
       "1             0  0.526316   logo_0\n",
       "2             2  0.526316   logo_0\n",
       "3             4  0.684211   logo_0\n",
       "4             3  0.526316   logo_0"
      ]
     },
     "execution_count": 4,
     "metadata": {},
     "output_type": "execute_result"
    }
   ],
   "source": [
    "target = pd.read_csv(\"data/model_1/model_1_path_label.csv\")\n",
    "target[\"logo\"] = target[\"logo_id\"].apply(lambda row: \"logo_\" + str(row)) # set up logo numeration for labeling\n",
    "target = target.drop(['logo_id','order_id','filename'], axis = 1) # drop unnecessary attributes\n",
    "target['animation_id'] = target['animation_id'].astype(int) #transform animation_id to int for mapping with feature table\n",
    "target=target.rename(columns={\"logo\": \"filename\"}) # transform for feature mapping\n",
    "target.head()"
   ]
  },
  {
   "cell_type": "markdown",
   "metadata": {},
   "source": [
    "Load an match of training data"
   ]
  },
  {
   "cell_type": "code",
   "execution_count": 5,
   "metadata": {},
   "outputs": [
    {
     "data": {
      "text/html": [
       "<div>\n",
       "<style scoped>\n",
       "    .dataframe tbody tr th:only-of-type {\n",
       "        vertical-align: middle;\n",
       "    }\n",
       "\n",
       "    .dataframe tbody tr th {\n",
       "        vertical-align: top;\n",
       "    }\n",
       "\n",
       "    .dataframe thead th {\n",
       "        text-align: right;\n",
       "    }\n",
       "</style>\n",
       "<table border=\"1\" class=\"dataframe\">\n",
       "  <thead>\n",
       "    <tr style=\"text-align: right;\">\n",
       "      <th></th>\n",
       "      <th>filename</th>\n",
       "      <th>animation_id</th>\n",
       "      <th>emb_0</th>\n",
       "      <th>emb_1</th>\n",
       "      <th>emb_2</th>\n",
       "      <th>emb_3</th>\n",
       "      <th>emb_4</th>\n",
       "      <th>emb_5</th>\n",
       "      <th>emb_6</th>\n",
       "      <th>emb_7</th>\n",
       "      <th>...</th>\n",
       "      <th>diff_stroke_r</th>\n",
       "      <th>svg_stroke_g</th>\n",
       "      <th>diff_stroke_g</th>\n",
       "      <th>svg_stroke_b</th>\n",
       "      <th>diff_stroke_b</th>\n",
       "      <th>rel_width</th>\n",
       "      <th>rel_height</th>\n",
       "      <th>rel_x_position</th>\n",
       "      <th>rel_y_position</th>\n",
       "      <th>nr_paths_svg</th>\n",
       "    </tr>\n",
       "  </thead>\n",
       "  <tbody>\n",
       "    <tr>\n",
       "      <th>0</th>\n",
       "      <td>logo_0</td>\n",
       "      <td>1</td>\n",
       "      <td>11.268934</td>\n",
       "      <td>10.784905</td>\n",
       "      <td>-1.795118</td>\n",
       "      <td>-1.315936</td>\n",
       "      <td>0.699395</td>\n",
       "      <td>4.745064</td>\n",
       "      <td>2.583316</td>\n",
       "      <td>0.997763</td>\n",
       "      <td>...</td>\n",
       "      <td>0.0</td>\n",
       "      <td>0.0</td>\n",
       "      <td>0.0</td>\n",
       "      <td>0.0</td>\n",
       "      <td>0.0</td>\n",
       "      <td>0.391017</td>\n",
       "      <td>0.458231</td>\n",
       "      <td>0.706957</td>\n",
       "      <td>0.577049</td>\n",
       "      <td>10</td>\n",
       "    </tr>\n",
       "    <tr>\n",
       "      <th>1</th>\n",
       "      <td>logo_0</td>\n",
       "      <td>0</td>\n",
       "      <td>-4.928805</td>\n",
       "      <td>1.693890</td>\n",
       "      <td>2.650219</td>\n",
       "      <td>0.417880</td>\n",
       "      <td>2.906058</td>\n",
       "      <td>5.822047</td>\n",
       "      <td>1.973111</td>\n",
       "      <td>-0.043525</td>\n",
       "      <td>...</td>\n",
       "      <td>0.0</td>\n",
       "      <td>0.0</td>\n",
       "      <td>0.0</td>\n",
       "      <td>0.0</td>\n",
       "      <td>0.0</td>\n",
       "      <td>0.488551</td>\n",
       "      <td>0.651937</td>\n",
       "      <td>0.267174</td>\n",
       "      <td>0.355178</td>\n",
       "      <td>10</td>\n",
       "    </tr>\n",
       "    <tr>\n",
       "      <th>2</th>\n",
       "      <td>logo_0</td>\n",
       "      <td>3</td>\n",
       "      <td>8.363034</td>\n",
       "      <td>-0.790123</td>\n",
       "      <td>4.012104</td>\n",
       "      <td>0.711058</td>\n",
       "      <td>-2.457028</td>\n",
       "      <td>3.136327</td>\n",
       "      <td>2.176535</td>\n",
       "      <td>0.519116</td>\n",
       "      <td>...</td>\n",
       "      <td>0.0</td>\n",
       "      <td>0.0</td>\n",
       "      <td>0.0</td>\n",
       "      <td>0.0</td>\n",
       "      <td>0.0</td>\n",
       "      <td>0.391042</td>\n",
       "      <td>0.458231</td>\n",
       "      <td>0.315928</td>\n",
       "      <td>0.577049</td>\n",
       "      <td>10</td>\n",
       "    </tr>\n",
       "    <tr>\n",
       "      <th>3</th>\n",
       "      <td>logo_0</td>\n",
       "      <td>2</td>\n",
       "      <td>11.966211</td>\n",
       "      <td>2.788607</td>\n",
       "      <td>3.678947</td>\n",
       "      <td>0.402484</td>\n",
       "      <td>-2.509481</td>\n",
       "      <td>0.135113</td>\n",
       "      <td>1.815825</td>\n",
       "      <td>5.770873</td>\n",
       "      <td>...</td>\n",
       "      <td>0.0</td>\n",
       "      <td>0.0</td>\n",
       "      <td>0.0</td>\n",
       "      <td>0.0</td>\n",
       "      <td>0.0</td>\n",
       "      <td>0.769168</td>\n",
       "      <td>0.318733</td>\n",
       "      <td>0.511441</td>\n",
       "      <td>0.840633</td>\n",
       "      <td>10</td>\n",
       "    </tr>\n",
       "    <tr>\n",
       "      <th>4</th>\n",
       "      <td>logo_0</td>\n",
       "      <td>5</td>\n",
       "      <td>8.457268</td>\n",
       "      <td>14.647492</td>\n",
       "      <td>2.389777</td>\n",
       "      <td>-1.438775</td>\n",
       "      <td>-3.225150</td>\n",
       "      <td>0.856066</td>\n",
       "      <td>1.528019</td>\n",
       "      <td>1.883333</td>\n",
       "      <td>...</td>\n",
       "      <td>0.0</td>\n",
       "      <td>0.0</td>\n",
       "      <td>0.0</td>\n",
       "      <td>0.0</td>\n",
       "      <td>0.0</td>\n",
       "      <td>0.488551</td>\n",
       "      <td>0.651931</td>\n",
       "      <td>0.755725</td>\n",
       "      <td>0.355181</td>\n",
       "      <td>10</td>\n",
       "    </tr>\n",
       "  </tbody>\n",
       "</table>\n",
       "<p>5 rows × 38 columns</p>\n",
       "</div>"
      ],
      "text/plain": [
       "  filename  animation_id      emb_0      emb_1     emb_2     emb_3     emb_4  \\\n",
       "0   logo_0             1  11.268934  10.784905 -1.795118 -1.315936  0.699395   \n",
       "1   logo_0             0  -4.928805   1.693890  2.650219  0.417880  2.906058   \n",
       "2   logo_0             3   8.363034  -0.790123  4.012104  0.711058 -2.457028   \n",
       "3   logo_0             2  11.966211   2.788607  3.678947  0.402484 -2.509481   \n",
       "4   logo_0             5   8.457268  14.647492  2.389777 -1.438775 -3.225150   \n",
       "\n",
       "      emb_5     emb_6     emb_7  ...  diff_stroke_r  svg_stroke_g  \\\n",
       "0  4.745064  2.583316  0.997763  ...            0.0           0.0   \n",
       "1  5.822047  1.973111 -0.043525  ...            0.0           0.0   \n",
       "2  3.136327  2.176535  0.519116  ...            0.0           0.0   \n",
       "3  0.135113  1.815825  5.770873  ...            0.0           0.0   \n",
       "4  0.856066  1.528019  1.883333  ...            0.0           0.0   \n",
       "\n",
       "   diff_stroke_g  svg_stroke_b  diff_stroke_b  rel_width  rel_height  \\\n",
       "0            0.0           0.0            0.0   0.391017    0.458231   \n",
       "1            0.0           0.0            0.0   0.488551    0.651937   \n",
       "2            0.0           0.0            0.0   0.391042    0.458231   \n",
       "3            0.0           0.0            0.0   0.769168    0.318733   \n",
       "4            0.0           0.0            0.0   0.488551    0.651931   \n",
       "\n",
       "   rel_x_position  rel_y_position  nr_paths_svg  \n",
       "0        0.706957        0.577049            10  \n",
       "1        0.267174        0.355178            10  \n",
       "2        0.315928        0.577049            10  \n",
       "3        0.511441        0.840633            10  \n",
       "4        0.755725        0.355181            10  \n",
       "\n",
       "[5 rows x 38 columns]"
      ]
     },
     "execution_count": 5,
     "metadata": {},
     "output_type": "execute_result"
    }
   ],
   "source": [
    "X_train = pd.read_csv(\"data/model_1/model_1_train.csv\")\n",
    "X_train = X_train.drop(\"Unnamed: 0\", axis=1) # Delete unneccessary columnd which was copied as indice\n",
    "X_train.head()"
   ]
  },
  {
   "cell_type": "markdown",
   "metadata": {},
   "source": [
    "Merge Darframe based on the paths for which we have an annotation (df)"
   ]
  },
  {
   "cell_type": "code",
   "execution_count": 6,
   "metadata": {},
   "outputs": [
    {
     "data": {
      "text/html": [
       "<div>\n",
       "<style scoped>\n",
       "    .dataframe tbody tr th:only-of-type {\n",
       "        vertical-align: middle;\n",
       "    }\n",
       "\n",
       "    .dataframe tbody tr th {\n",
       "        vertical-align: top;\n",
       "    }\n",
       "\n",
       "    .dataframe thead th {\n",
       "        text-align: right;\n",
       "    }\n",
       "</style>\n",
       "<table border=\"1\" class=\"dataframe\">\n",
       "  <thead>\n",
       "    <tr style=\"text-align: right;\">\n",
       "      <th></th>\n",
       "      <th>animation_id</th>\n",
       "      <th>animate</th>\n",
       "      <th>filename</th>\n",
       "      <th>emb_0</th>\n",
       "      <th>emb_1</th>\n",
       "      <th>emb_2</th>\n",
       "      <th>emb_3</th>\n",
       "      <th>emb_4</th>\n",
       "      <th>emb_5</th>\n",
       "      <th>emb_6</th>\n",
       "      <th>...</th>\n",
       "      <th>diff_stroke_r</th>\n",
       "      <th>svg_stroke_g</th>\n",
       "      <th>diff_stroke_g</th>\n",
       "      <th>svg_stroke_b</th>\n",
       "      <th>diff_stroke_b</th>\n",
       "      <th>rel_width</th>\n",
       "      <th>rel_height</th>\n",
       "      <th>rel_x_position</th>\n",
       "      <th>rel_y_position</th>\n",
       "      <th>nr_paths_svg</th>\n",
       "    </tr>\n",
       "  </thead>\n",
       "  <tbody>\n",
       "    <tr>\n",
       "      <th>0</th>\n",
       "      <td>5</td>\n",
       "      <td>0.578947</td>\n",
       "      <td>logo_0</td>\n",
       "      <td>8.457268</td>\n",
       "      <td>14.647492</td>\n",
       "      <td>2.389777</td>\n",
       "      <td>-1.438775</td>\n",
       "      <td>-3.225150</td>\n",
       "      <td>0.856066</td>\n",
       "      <td>1.528019</td>\n",
       "      <td>...</td>\n",
       "      <td>0.0</td>\n",
       "      <td>0.0</td>\n",
       "      <td>0.0</td>\n",
       "      <td>0.0</td>\n",
       "      <td>0.0</td>\n",
       "      <td>0.488551</td>\n",
       "      <td>0.651931</td>\n",
       "      <td>0.755725</td>\n",
       "      <td>0.355181</td>\n",
       "      <td>10.0</td>\n",
       "    </tr>\n",
       "    <tr>\n",
       "      <th>1</th>\n",
       "      <td>0</td>\n",
       "      <td>0.526316</td>\n",
       "      <td>logo_0</td>\n",
       "      <td>-4.928805</td>\n",
       "      <td>1.693890</td>\n",
       "      <td>2.650219</td>\n",
       "      <td>0.417880</td>\n",
       "      <td>2.906058</td>\n",
       "      <td>5.822047</td>\n",
       "      <td>1.973111</td>\n",
       "      <td>...</td>\n",
       "      <td>0.0</td>\n",
       "      <td>0.0</td>\n",
       "      <td>0.0</td>\n",
       "      <td>0.0</td>\n",
       "      <td>0.0</td>\n",
       "      <td>0.488551</td>\n",
       "      <td>0.651937</td>\n",
       "      <td>0.267174</td>\n",
       "      <td>0.355178</td>\n",
       "      <td>10.0</td>\n",
       "    </tr>\n",
       "    <tr>\n",
       "      <th>2</th>\n",
       "      <td>2</td>\n",
       "      <td>0.526316</td>\n",
       "      <td>logo_0</td>\n",
       "      <td>11.966211</td>\n",
       "      <td>2.788607</td>\n",
       "      <td>3.678947</td>\n",
       "      <td>0.402484</td>\n",
       "      <td>-2.509481</td>\n",
       "      <td>0.135113</td>\n",
       "      <td>1.815825</td>\n",
       "      <td>...</td>\n",
       "      <td>0.0</td>\n",
       "      <td>0.0</td>\n",
       "      <td>0.0</td>\n",
       "      <td>0.0</td>\n",
       "      <td>0.0</td>\n",
       "      <td>0.769168</td>\n",
       "      <td>0.318733</td>\n",
       "      <td>0.511441</td>\n",
       "      <td>0.840633</td>\n",
       "      <td>10.0</td>\n",
       "    </tr>\n",
       "    <tr>\n",
       "      <th>3</th>\n",
       "      <td>4</td>\n",
       "      <td>0.684211</td>\n",
       "      <td>logo_0</td>\n",
       "      <td>1.638388</td>\n",
       "      <td>1.885517</td>\n",
       "      <td>1.183481</td>\n",
       "      <td>0.626105</td>\n",
       "      <td>-1.238035</td>\n",
       "      <td>5.465185</td>\n",
       "      <td>3.710409</td>\n",
       "      <td>...</td>\n",
       "      <td>0.0</td>\n",
       "      <td>0.0</td>\n",
       "      <td>0.0</td>\n",
       "      <td>0.0</td>\n",
       "      <td>0.0</td>\n",
       "      <td>0.573461</td>\n",
       "      <td>0.306260</td>\n",
       "      <td>0.511553</td>\n",
       "      <td>0.194615</td>\n",
       "      <td>10.0</td>\n",
       "    </tr>\n",
       "    <tr>\n",
       "      <th>4</th>\n",
       "      <td>3</td>\n",
       "      <td>0.526316</td>\n",
       "      <td>logo_0</td>\n",
       "      <td>8.363034</td>\n",
       "      <td>-0.790123</td>\n",
       "      <td>4.012104</td>\n",
       "      <td>0.711058</td>\n",
       "      <td>-2.457028</td>\n",
       "      <td>3.136327</td>\n",
       "      <td>2.176535</td>\n",
       "      <td>...</td>\n",
       "      <td>0.0</td>\n",
       "      <td>0.0</td>\n",
       "      <td>0.0</td>\n",
       "      <td>0.0</td>\n",
       "      <td>0.0</td>\n",
       "      <td>0.391042</td>\n",
       "      <td>0.458231</td>\n",
       "      <td>0.315928</td>\n",
       "      <td>0.577049</td>\n",
       "      <td>10.0</td>\n",
       "    </tr>\n",
       "  </tbody>\n",
       "</table>\n",
       "<p>5 rows × 39 columns</p>\n",
       "</div>"
      ],
      "text/plain": [
       "   animation_id   animate filename      emb_0      emb_1     emb_2     emb_3  \\\n",
       "0             5  0.578947   logo_0   8.457268  14.647492  2.389777 -1.438775   \n",
       "1             0  0.526316   logo_0  -4.928805   1.693890  2.650219  0.417880   \n",
       "2             2  0.526316   logo_0  11.966211   2.788607  3.678947  0.402484   \n",
       "3             4  0.684211   logo_0   1.638388   1.885517  1.183481  0.626105   \n",
       "4             3  0.526316   logo_0   8.363034  -0.790123  4.012104  0.711058   \n",
       "\n",
       "      emb_4     emb_5     emb_6  ...  diff_stroke_r  svg_stroke_g  \\\n",
       "0 -3.225150  0.856066  1.528019  ...            0.0           0.0   \n",
       "1  2.906058  5.822047  1.973111  ...            0.0           0.0   \n",
       "2 -2.509481  0.135113  1.815825  ...            0.0           0.0   \n",
       "3 -1.238035  5.465185  3.710409  ...            0.0           0.0   \n",
       "4 -2.457028  3.136327  2.176535  ...            0.0           0.0   \n",
       "\n",
       "   diff_stroke_g  svg_stroke_b  diff_stroke_b  rel_width  rel_height  \\\n",
       "0            0.0           0.0            0.0   0.488551    0.651931   \n",
       "1            0.0           0.0            0.0   0.488551    0.651937   \n",
       "2            0.0           0.0            0.0   0.769168    0.318733   \n",
       "3            0.0           0.0            0.0   0.573461    0.306260   \n",
       "4            0.0           0.0            0.0   0.391042    0.458231   \n",
       "\n",
       "   rel_x_position  rel_y_position  nr_paths_svg  \n",
       "0        0.755725        0.355181          10.0  \n",
       "1        0.267174        0.355178          10.0  \n",
       "2        0.511441        0.840633          10.0  \n",
       "3        0.511553        0.194615          10.0  \n",
       "4        0.315928        0.577049          10.0  \n",
       "\n",
       "[5 rows x 39 columns]"
      ]
     },
     "execution_count": 6,
     "metadata": {},
     "output_type": "execute_result"
    }
   ],
   "source": [
    "new_df = pd.merge(target, X_train,  how='left', left_on=['filename','animation_id'], right_on=['filename','animation_id'])\n",
    "new_df.head(5)"
   ]
  },
  {
   "cell_type": "markdown",
   "metadata": {},
   "source": [
    "Delete rows in which we have NaN embeddings"
   ]
  },
  {
   "cell_type": "code",
   "execution_count": 7,
   "metadata": {},
   "outputs": [],
   "source": [
    "new_df = new_df.dropna(axis=0,thresh=4)"
   ]
  },
  {
   "cell_type": "markdown",
   "metadata": {},
   "source": [
    "Load Test data set and drop same features"
   ]
  },
  {
   "cell_type": "code",
   "execution_count": 8,
   "metadata": {},
   "outputs": [
    {
     "data": {
      "text/html": [
       "<div>\n",
       "<style scoped>\n",
       "    .dataframe tbody tr th:only-of-type {\n",
       "        vertical-align: middle;\n",
       "    }\n",
       "\n",
       "    .dataframe tbody tr th {\n",
       "        vertical-align: top;\n",
       "    }\n",
       "\n",
       "    .dataframe thead th {\n",
       "        text-align: right;\n",
       "    }\n",
       "</style>\n",
       "<table border=\"1\" class=\"dataframe\">\n",
       "  <thead>\n",
       "    <tr style=\"text-align: right;\">\n",
       "      <th></th>\n",
       "      <th>filename</th>\n",
       "      <th>animation_id</th>\n",
       "      <th>emb_0</th>\n",
       "      <th>emb_1</th>\n",
       "      <th>emb_2</th>\n",
       "      <th>emb_3</th>\n",
       "      <th>emb_4</th>\n",
       "      <th>emb_5</th>\n",
       "      <th>emb_6</th>\n",
       "      <th>emb_7</th>\n",
       "      <th>...</th>\n",
       "      <th>diff_stroke_r</th>\n",
       "      <th>svg_stroke_g</th>\n",
       "      <th>diff_stroke_g</th>\n",
       "      <th>svg_stroke_b</th>\n",
       "      <th>diff_stroke_b</th>\n",
       "      <th>rel_width</th>\n",
       "      <th>rel_height</th>\n",
       "      <th>rel_x_position</th>\n",
       "      <th>rel_y_position</th>\n",
       "      <th>nr_paths_svg</th>\n",
       "    </tr>\n",
       "  </thead>\n",
       "  <tbody>\n",
       "    <tr>\n",
       "      <th>0</th>\n",
       "      <td>logo_147</td>\n",
       "      <td>1</td>\n",
       "      <td>-2.418838</td>\n",
       "      <td>-6.150059</td>\n",
       "      <td>-4.100762</td>\n",
       "      <td>3.168622</td>\n",
       "      <td>-2.697222</td>\n",
       "      <td>0.687456</td>\n",
       "      <td>0.082696</td>\n",
       "      <td>-0.084968</td>\n",
       "      <td>...</td>\n",
       "      <td>-15.461538</td>\n",
       "      <td>22.076923</td>\n",
       "      <td>-22.076923</td>\n",
       "      <td>34.769231</td>\n",
       "      <td>-34.769231</td>\n",
       "      <td>0.025447</td>\n",
       "      <td>0.357524</td>\n",
       "      <td>0.177258</td>\n",
       "      <td>0.461866</td>\n",
       "      <td>13</td>\n",
       "    </tr>\n",
       "    <tr>\n",
       "      <th>1</th>\n",
       "      <td>logo_147</td>\n",
       "      <td>0</td>\n",
       "      <td>-7.542565</td>\n",
       "      <td>-6.009832</td>\n",
       "      <td>-0.636685</td>\n",
       "      <td>2.111591</td>\n",
       "      <td>0.388539</td>\n",
       "      <td>-0.564557</td>\n",
       "      <td>2.733660</td>\n",
       "      <td>-1.164462</td>\n",
       "      <td>...</td>\n",
       "      <td>-15.461538</td>\n",
       "      <td>22.076923</td>\n",
       "      <td>-22.076923</td>\n",
       "      <td>34.769231</td>\n",
       "      <td>-34.769231</td>\n",
       "      <td>0.074259</td>\n",
       "      <td>0.540364</td>\n",
       "      <td>0.060423</td>\n",
       "      <td>0.547507</td>\n",
       "      <td>13</td>\n",
       "    </tr>\n",
       "    <tr>\n",
       "      <th>2</th>\n",
       "      <td>logo_147</td>\n",
       "      <td>10</td>\n",
       "      <td>6.748562</td>\n",
       "      <td>-5.192357</td>\n",
       "      <td>0.649270</td>\n",
       "      <td>-4.662319</td>\n",
       "      <td>-0.271619</td>\n",
       "      <td>-0.581692</td>\n",
       "      <td>-0.186817</td>\n",
       "      <td>1.081577</td>\n",
       "      <td>...</td>\n",
       "      <td>141.538462</td>\n",
       "      <td>22.076923</td>\n",
       "      <td>134.923077</td>\n",
       "      <td>34.769231</td>\n",
       "      <td>121.230769</td>\n",
       "      <td>0.017044</td>\n",
       "      <td>0.085221</td>\n",
       "      <td>0.183468</td>\n",
       "      <td>0.182756</td>\n",
       "      <td>13</td>\n",
       "    </tr>\n",
       "    <tr>\n",
       "      <th>3</th>\n",
       "      <td>logo_147</td>\n",
       "      <td>12</td>\n",
       "      <td>0.790715</td>\n",
       "      <td>0.447205</td>\n",
       "      <td>-3.142827</td>\n",
       "      <td>-2.614898</td>\n",
       "      <td>-0.818243</td>\n",
       "      <td>0.950761</td>\n",
       "      <td>-1.274994</td>\n",
       "      <td>-1.938930</td>\n",
       "      <td>...</td>\n",
       "      <td>6.538462</td>\n",
       "      <td>22.076923</td>\n",
       "      <td>42.923077</td>\n",
       "      <td>34.769231</td>\n",
       "      <td>113.230769</td>\n",
       "      <td>0.055225</td>\n",
       "      <td>0.207291</td>\n",
       "      <td>0.502015</td>\n",
       "      <td>0.221658</td>\n",
       "      <td>13</td>\n",
       "    </tr>\n",
       "    <tr>\n",
       "      <th>4</th>\n",
       "      <td>logo_147</td>\n",
       "      <td>2</td>\n",
       "      <td>-0.550477</td>\n",
       "      <td>-2.664404</td>\n",
       "      <td>-7.260686</td>\n",
       "      <td>4.091919</td>\n",
       "      <td>-1.184668</td>\n",
       "      <td>1.764147</td>\n",
       "      <td>0.267756</td>\n",
       "      <td>0.149615</td>\n",
       "      <td>...</td>\n",
       "      <td>-15.461538</td>\n",
       "      <td>22.076923</td>\n",
       "      <td>-22.076923</td>\n",
       "      <td>34.769231</td>\n",
       "      <td>-34.769231</td>\n",
       "      <td>0.047815</td>\n",
       "      <td>0.364758</td>\n",
       "      <td>0.131559</td>\n",
       "      <td>0.458241</td>\n",
       "      <td>13</td>\n",
       "    </tr>\n",
       "  </tbody>\n",
       "</table>\n",
       "<p>5 rows × 38 columns</p>\n",
       "</div>"
      ],
      "text/plain": [
       "   filename  animation_id     emb_0     emb_1     emb_2     emb_3     emb_4  \\\n",
       "0  logo_147             1 -2.418838 -6.150059 -4.100762  3.168622 -2.697222   \n",
       "1  logo_147             0 -7.542565 -6.009832 -0.636685  2.111591  0.388539   \n",
       "2  logo_147            10  6.748562 -5.192357  0.649270 -4.662319 -0.271619   \n",
       "3  logo_147            12  0.790715  0.447205 -3.142827 -2.614898 -0.818243   \n",
       "4  logo_147             2 -0.550477 -2.664404 -7.260686  4.091919 -1.184668   \n",
       "\n",
       "      emb_5     emb_6     emb_7  ...  diff_stroke_r  svg_stroke_g  \\\n",
       "0  0.687456  0.082696 -0.084968  ...     -15.461538     22.076923   \n",
       "1 -0.564557  2.733660 -1.164462  ...     -15.461538     22.076923   \n",
       "2 -0.581692 -0.186817  1.081577  ...     141.538462     22.076923   \n",
       "3  0.950761 -1.274994 -1.938930  ...       6.538462     22.076923   \n",
       "4  1.764147  0.267756  0.149615  ...     -15.461538     22.076923   \n",
       "\n",
       "   diff_stroke_g  svg_stroke_b  diff_stroke_b  rel_width  rel_height  \\\n",
       "0     -22.076923     34.769231     -34.769231   0.025447    0.357524   \n",
       "1     -22.076923     34.769231     -34.769231   0.074259    0.540364   \n",
       "2     134.923077     34.769231     121.230769   0.017044    0.085221   \n",
       "3      42.923077     34.769231     113.230769   0.055225    0.207291   \n",
       "4     -22.076923     34.769231     -34.769231   0.047815    0.364758   \n",
       "\n",
       "   rel_x_position  rel_y_position  nr_paths_svg  \n",
       "0        0.177258        0.461866            13  \n",
       "1        0.060423        0.547507            13  \n",
       "2        0.183468        0.182756            13  \n",
       "3        0.502015        0.221658            13  \n",
       "4        0.131559        0.458241            13  \n",
       "\n",
       "[5 rows x 38 columns]"
      ]
     },
     "execution_count": 8,
     "metadata": {},
     "output_type": "execute_result"
    }
   ],
   "source": [
    "X_test = pd.read_csv(\"data/model_1/model_1_test.csv\")\n",
    "X_test = X_test.drop(\"Unnamed: 0\",axis=1)\n",
    "X_test.head()"
   ]
  },
  {
   "cell_type": "code",
   "execution_count": 9,
   "metadata": {},
   "outputs": [
    {
     "data": {
      "text/html": [
       "<div>\n",
       "<style scoped>\n",
       "    .dataframe tbody tr th:only-of-type {\n",
       "        vertical-align: middle;\n",
       "    }\n",
       "\n",
       "    .dataframe tbody tr th {\n",
       "        vertical-align: top;\n",
       "    }\n",
       "\n",
       "    .dataframe thead th {\n",
       "        text-align: right;\n",
       "    }\n",
       "</style>\n",
       "<table border=\"1\" class=\"dataframe\">\n",
       "  <thead>\n",
       "    <tr style=\"text-align: right;\">\n",
       "      <th></th>\n",
       "      <th>animation_id</th>\n",
       "      <th>animate</th>\n",
       "      <th>filename</th>\n",
       "      <th>emb_0</th>\n",
       "      <th>emb_1</th>\n",
       "      <th>emb_2</th>\n",
       "      <th>emb_3</th>\n",
       "      <th>emb_4</th>\n",
       "      <th>emb_5</th>\n",
       "      <th>emb_6</th>\n",
       "      <th>...</th>\n",
       "      <th>diff_stroke_r</th>\n",
       "      <th>svg_stroke_g</th>\n",
       "      <th>diff_stroke_g</th>\n",
       "      <th>svg_stroke_b</th>\n",
       "      <th>diff_stroke_b</th>\n",
       "      <th>rel_width</th>\n",
       "      <th>rel_height</th>\n",
       "      <th>rel_x_position</th>\n",
       "      <th>rel_y_position</th>\n",
       "      <th>nr_paths_svg</th>\n",
       "    </tr>\n",
       "  </thead>\n",
       "  <tbody>\n",
       "    <tr>\n",
       "      <th>1150</th>\n",
       "      <td>11</td>\n",
       "      <td>1.0</td>\n",
       "      <td>logo_147</td>\n",
       "      <td>3.236627</td>\n",
       "      <td>0.373583</td>\n",
       "      <td>-7.378661</td>\n",
       "      <td>5.802886</td>\n",
       "      <td>0.187992</td>\n",
       "      <td>1.863424</td>\n",
       "      <td>-1.648710</td>\n",
       "      <td>...</td>\n",
       "      <td>6.538462</td>\n",
       "      <td>22.076923</td>\n",
       "      <td>42.923077</td>\n",
       "      <td>34.769231</td>\n",
       "      <td>113.230769</td>\n",
       "      <td>0.172791</td>\n",
       "      <td>0.610861</td>\n",
       "      <td>0.418358</td>\n",
       "      <td>0.576557</td>\n",
       "      <td>13.0</td>\n",
       "    </tr>\n",
       "    <tr>\n",
       "      <th>1151</th>\n",
       "      <td>3</td>\n",
       "      <td>0.0</td>\n",
       "      <td>logo_147</td>\n",
       "      <td>6.555051</td>\n",
       "      <td>-11.237650</td>\n",
       "      <td>-1.761144</td>\n",
       "      <td>9.656722</td>\n",
       "      <td>2.110759</td>\n",
       "      <td>2.052200</td>\n",
       "      <td>1.549353</td>\n",
       "      <td>...</td>\n",
       "      <td>-15.461538</td>\n",
       "      <td>22.076923</td>\n",
       "      <td>-22.076923</td>\n",
       "      <td>34.769231</td>\n",
       "      <td>-34.769231</td>\n",
       "      <td>0.113487</td>\n",
       "      <td>0.364979</td>\n",
       "      <td>0.259243</td>\n",
       "      <td>0.458139</td>\n",
       "      <td>13.0</td>\n",
       "    </tr>\n",
       "    <tr>\n",
       "      <th>1152</th>\n",
       "      <td>5</td>\n",
       "      <td>0.0</td>\n",
       "      <td>logo_147</td>\n",
       "      <td>15.187959</td>\n",
       "      <td>0.953012</td>\n",
       "      <td>-4.555714</td>\n",
       "      <td>0.081866</td>\n",
       "      <td>0.626855</td>\n",
       "      <td>-1.532500</td>\n",
       "      <td>2.397167</td>\n",
       "      <td>...</td>\n",
       "      <td>-15.461538</td>\n",
       "      <td>22.076923</td>\n",
       "      <td>-22.076923</td>\n",
       "      <td>34.769231</td>\n",
       "      <td>-34.769231</td>\n",
       "      <td>0.074262</td>\n",
       "      <td>0.540355</td>\n",
       "      <td>0.832217</td>\n",
       "      <td>0.547495</td>\n",
       "      <td>13.0</td>\n",
       "    </tr>\n",
       "    <tr>\n",
       "      <th>1153</th>\n",
       "      <td>4</td>\n",
       "      <td>0.0</td>\n",
       "      <td>logo_147</td>\n",
       "      <td>3.777620</td>\n",
       "      <td>-1.415217</td>\n",
       "      <td>-5.265458</td>\n",
       "      <td>0.380917</td>\n",
       "      <td>-1.089346</td>\n",
       "      <td>-0.729920</td>\n",
       "      <td>2.860979</td>\n",
       "      <td>...</td>\n",
       "      <td>-15.461538</td>\n",
       "      <td>22.076923</td>\n",
       "      <td>-22.076923</td>\n",
       "      <td>34.769231</td>\n",
       "      <td>-34.769231</td>\n",
       "      <td>0.074263</td>\n",
       "      <td>0.540364</td>\n",
       "      <td>0.595574</td>\n",
       "      <td>0.547499</td>\n",
       "      <td>13.0</td>\n",
       "    </tr>\n",
       "    <tr>\n",
       "      <th>1154</th>\n",
       "      <td>0</td>\n",
       "      <td>0.0</td>\n",
       "      <td>logo_147</td>\n",
       "      <td>-7.542565</td>\n",
       "      <td>-6.009832</td>\n",
       "      <td>-0.636685</td>\n",
       "      <td>2.111591</td>\n",
       "      <td>0.388539</td>\n",
       "      <td>-0.564557</td>\n",
       "      <td>2.733660</td>\n",
       "      <td>...</td>\n",
       "      <td>-15.461538</td>\n",
       "      <td>22.076923</td>\n",
       "      <td>-22.076923</td>\n",
       "      <td>34.769231</td>\n",
       "      <td>-34.769231</td>\n",
       "      <td>0.074259</td>\n",
       "      <td>0.540364</td>\n",
       "      <td>0.060423</td>\n",
       "      <td>0.547507</td>\n",
       "      <td>13.0</td>\n",
       "    </tr>\n",
       "  </tbody>\n",
       "</table>\n",
       "<p>5 rows × 39 columns</p>\n",
       "</div>"
      ],
      "text/plain": [
       "      animation_id  animate  filename      emb_0      emb_1     emb_2  \\\n",
       "1150            11      1.0  logo_147   3.236627   0.373583 -7.378661   \n",
       "1151             3      0.0  logo_147   6.555051 -11.237650 -1.761144   \n",
       "1152             5      0.0  logo_147  15.187959   0.953012 -4.555714   \n",
       "1153             4      0.0  logo_147   3.777620  -1.415217 -5.265458   \n",
       "1154             0      0.0  logo_147  -7.542565  -6.009832 -0.636685   \n",
       "\n",
       "         emb_3     emb_4     emb_5     emb_6  ...  diff_stroke_r  \\\n",
       "1150  5.802886  0.187992  1.863424 -1.648710  ...       6.538462   \n",
       "1151  9.656722  2.110759  2.052200  1.549353  ...     -15.461538   \n",
       "1152  0.081866  0.626855 -1.532500  2.397167  ...     -15.461538   \n",
       "1153  0.380917 -1.089346 -0.729920  2.860979  ...     -15.461538   \n",
       "1154  2.111591  0.388539 -0.564557  2.733660  ...     -15.461538   \n",
       "\n",
       "      svg_stroke_g  diff_stroke_g  svg_stroke_b  diff_stroke_b  rel_width  \\\n",
       "1150     22.076923      42.923077     34.769231     113.230769   0.172791   \n",
       "1151     22.076923     -22.076923     34.769231     -34.769231   0.113487   \n",
       "1152     22.076923     -22.076923     34.769231     -34.769231   0.074262   \n",
       "1153     22.076923     -22.076923     34.769231     -34.769231   0.074263   \n",
       "1154     22.076923     -22.076923     34.769231     -34.769231   0.074259   \n",
       "\n",
       "      rel_height  rel_x_position  rel_y_position  nr_paths_svg  \n",
       "1150    0.610861        0.418358        0.576557          13.0  \n",
       "1151    0.364979        0.259243        0.458139          13.0  \n",
       "1152    0.540355        0.832217        0.547495          13.0  \n",
       "1153    0.540364        0.595574        0.547499          13.0  \n",
       "1154    0.540364        0.060423        0.547507          13.0  \n",
       "\n",
       "[5 rows x 39 columns]"
      ]
     },
     "execution_count": 9,
     "metadata": {},
     "output_type": "execute_result"
    }
   ],
   "source": [
    "test_df = pd.merge(target, X_test,  how='left', left_on=['filename','animation_id'], right_on=['filename','animation_id'])\n",
    "test_df = test_df.dropna(axis=0, thresh=4)\n",
    "test_df.head()"
   ]
  },
  {
   "cell_type": "markdown",
   "metadata": {},
   "source": [
    "### 2. Feature Selection"
   ]
  },
  {
   "cell_type": "markdown",
   "metadata": {},
   "source": [
    "We want to take a look on the correlation matrix to identify features which can be excluded upfront."
   ]
  },
  {
   "cell_type": "code",
   "execution_count": 10,
   "metadata": {},
   "outputs": [
    {
     "name": "stderr",
     "output_type": "stream",
     "text": [
      "C:\\Users\\sarah\\Anaconda3\\lib\\site-packages\\ipykernel_launcher.py:4: UserWarning: Matplotlib is currently using module://ipykernel.pylab.backend_inline, which is a non-GUI backend, so cannot show the figure.\n",
      "  after removing the cwd from sys.path.\n"
     ]
    },
    {
     "data": {
      "image/png": "[encoded data removed]",
      "text/plain": [
       "<Figure size 1008x648 with 2 Axes>"
      ]
     },
     "metadata": {
      "needs_background": "light"
     },
     "output_type": "display_data"
    }
   ],
   "source": [
    "corrMatrix = new_df.corr()\n",
    "f = plt.figure(figsize=(14, 9))\n",
    "sn.heatmap(corrMatrix, annot=False)\n",
    "f.show()"
   ]
  },
  {
   "cell_type": "markdown",
   "metadata": {},
   "source": [
    "Since both _opacity_ and _stroke_opacity_ are always of value *one* we exclude them."
   ]
  },
  {
   "cell_type": "code",
   "execution_count": 11,
   "metadata": {},
   "outputs": [],
   "source": [
    "new_df = new_df.drop(['opacity','stroke_opacity'], axis=1, errors='ignore')\n",
    "test_df = test_df.drop(['opacity','stroke_opacity'], axis= 1, errors='ignore')"
   ]
  },
  {
   "cell_type": "markdown",
   "metadata": {},
   "source": [
    "Also exclude stroke attributes because they are mostly not given."
   ]
  },
  {
   "cell_type": "code",
   "execution_count": 12,
   "metadata": {},
   "outputs": [],
   "source": [
    "new_df = new_df.drop(['stroke_r','stroke_g', 'stroke_b', 'stroke_width'], axis= 1, errors='ignore')\n",
    "new_df = new_df.drop(['svg_stroke_r', 'diff_stroke_r'], axis= 1, errors='ignore')\n",
    "new_df = new_df.drop(['svg_stroke_g', 'diff_stroke_g'], axis= 1, errors='ignore')\n",
    "new_df = new_df.drop(['svg_stroke_b', 'diff_stroke_b'], axis= 1, errors='ignore')\n",
    "\n",
    "test_df = test_df.drop(['stroke_r','stroke_g', 'stroke_b', 'stroke_width'], axis= 1, errors='ignore')\n",
    "test_df = test_df.drop(['svg_stroke_r', 'diff_stroke_r'], axis= 1, errors='ignore')\n",
    "test_df = test_df.drop(['svg_stroke_g', 'diff_stroke_g'], axis= 1, errors='ignore')\n",
    "test_df = test_df.drop(['svg_stroke_b', 'diff_stroke_b'], axis= 1, errors='ignore')"
   ]
  },
  {
   "cell_type": "markdown",
   "metadata": {},
   "source": [
    "Check for features that have a to high correlation."
   ]
  },
  {
   "cell_type": "code",
   "execution_count": 13,
   "metadata": {},
   "outputs": [
    {
     "name": "stdout",
     "output_type": "stream",
     "text": [
      "The following features are correlated: fill_g and fill_r. Correlation = 0.81\n",
      "The following features are correlated: diff_fill_r and fill_r. Correlation = 0.82\n",
      "The following features are correlated: diff_fill_g and fill_g. Correlation = 0.82\n",
      "The following features are correlated: rel_x_position and emb_0. Correlation = 0.9\n",
      "The following features are correlated: rel_y_position and emb_0. Correlation = 0.85\n",
      "Drop the following features: {'rel_x_position', 'fill_g', 'diff_fill_r', 'diff_fill_g', 'rel_y_position'}\n"
     ]
    }
   ],
   "source": [
    "correlated_features = set()\n",
    "correlation_matrix = new_df.corr()\n",
    "\n",
    "for i in range(len(correlation_matrix.columns)):\n",
    "    for j in range(i):\n",
    "        if abs(correlation_matrix.iloc[i, j]) > 0.8:\n",
    "            print(f\"The following features are correlated: {correlation_matrix.columns[i]} and {correlation_matrix.columns[j]}. Correlation = {round(abs(correlation_matrix.iloc[i, j]),2)}\")\n",
    "            colname = correlation_matrix.columns[i]\n",
    "            correlated_features.add(colname)\n",
    "\n",
    "print(f\"Drop the following features: {correlated_features}\")\n",
    "#corr_features = list(correlated_features)\n",
    "#test_df = test_df.drop(corr_features, axis=1, errors='ignore')\n",
    "#new_df = new_df.drop(corr_features, axis=1, errors='ignore')"
   ]
  },
  {
   "cell_type": "markdown",
   "metadata": {},
   "source": [
    "Animation ID is only an identifier and is excluded later. Only drop rel_x_position for logistic regression (is done later). Decision Trees are not affected by multicollinearity in features."
   ]
  },
  {
   "cell_type": "markdown",
   "metadata": {},
   "source": [
    "### 3. Preprocessing"
   ]
  },
  {
   "cell_type": "markdown",
   "metadata": {},
   "source": [
    "Add function that replaces animate decision with binary integrer values"
   ]
  },
  {
   "cell_type": "code",
   "execution_count": 14,
   "metadata": {},
   "outputs": [],
   "source": [
    "new_df['animate']=[0 if x < 0.5 else 1 for x in new_df['animate']]\n",
    "test_df['animate']=[0 if x < 0.5 else 1 for x in test_df['animate']]"
   ]
  },
  {
   "cell_type": "markdown",
   "metadata": {},
   "source": [
    "#### Perform split between features and target"
   ]
  },
  {
   "cell_type": "code",
   "execution_count": 15,
   "metadata": {},
   "outputs": [],
   "source": [
    "x_train = new_df.drop(['filename','animation_id','animate'], axis=1, errors='ignore')\n",
    "y_train = new_df['animate']\n",
    "x_test = test_df.drop(['filename','animation_id','animate'], axis=1, errors='ignore')\n",
    "y_test = test_df['animate']"
   ]
  },
  {
   "cell_type": "markdown",
   "metadata": {},
   "source": [
    "### 4. Implement models"
   ]
  },
  {
   "cell_type": "markdown",
   "metadata": {},
   "source": [
    "#### 4.1 Random Forest"
   ]
  },
  {
   "cell_type": "markdown",
   "metadata": {},
   "source": [
    "#### Randomized search on hyperparameters"
   ]
  },
  {
   "cell_type": "code",
   "execution_count": 24,
   "metadata": {},
   "outputs": [
    {
     "name": "stdout",
     "output_type": "stream",
     "text": [
      "{'bootstrap': [True, False],\n",
      " 'max_depth': [10, 20, 30, 40, 50, 60, 70, 80, 90, 100, 110, None],\n",
      " 'max_features': ['auto', 'log2'],\n",
      " 'min_samples_leaf': [1, 2, 4],\n",
      " 'min_samples_split': [2, 5, 10],\n",
      " 'n_estimators': [20, 240, 460, 680, 900, 1120, 1340, 1560, 1780, 2000]}\n"
     ]
    }
   ],
   "source": [
    "# Number of trees in random forest\n",
    "n_estimators = [int(x) for x in np.linspace(start=20, stop=2000, num=10)]\n",
    "# Number of features to consider at every split\n",
    "max_features = ['auto', 'log2']\n",
    "# Maximum number of levels in tree\n",
    "max_depth = [int(x) for x in np.linspace(10, 110, num=11)]\n",
    "max_depth.append(None)\n",
    "# Minimum number of samples required to split a node\n",
    "min_samples_split = [2, 5, 10]\n",
    "# Minimum number of samples required at each leaf node\n",
    "min_samples_leaf = [1, 2, 4]\n",
    "# Method of selecting samples for training each tree\n",
    "bootstrap = [True, False]\n",
    "# Create the random grid\n",
    "random_grid = {'n_estimators': n_estimators,\n",
    "               'max_features': max_features,\n",
    "               'max_depth': max_depth,\n",
    "               'min_samples_split': min_samples_split,\n",
    "               'min_samples_leaf': min_samples_leaf,\n",
    "               'bootstrap': bootstrap}\n",
    "pprint(random_grid)"
   ]
  },
  {
   "cell_type": "code",
   "execution_count": 27,
   "metadata": {},
   "outputs": [
    {
     "name": "stdout",
     "output_type": "stream",
     "text": [
      "Fitting 3 folds for each of 100 candidates, totalling 300 fits\n",
      "[CV] END bootstrap=True, max_depth=30, max_features=log2, min_samples_leaf=1, min_samples_split=5, n_estimators=240; total time=   1.1s\n",
      "[CV] END bootstrap=True, max_depth=30, max_features=log2, min_samples_leaf=1, min_samples_split=5, n_estimators=240; total time=   1.2s\n",
      "[CV] END bootstrap=True, max_depth=30, max_features=log2, min_samples_leaf=1, min_samples_split=5, n_estimators=240; total time=   1.2s\n",
      "[CV] END bootstrap=True, max_depth=10, max_features=log2, min_samples_leaf=1, min_samples_split=5, n_estimators=2000; total time=   9.9s\n",
      "[CV] END bootstrap=True, max_depth=10, max_features=log2, min_samples_leaf=1, min_samples_split=5, n_estimators=2000; total time=  10.1s\n",
      "[CV] END bootstrap=True, max_depth=10, max_features=log2, min_samples_leaf=1, min_samples_split=5, n_estimators=2000; total time=   9.5s\n",
      "[CV] END bootstrap=False, max_depth=10, max_features=log2, min_samples_leaf=2, min_samples_split=5, n_estimators=1120; total time=   6.4s\n",
      "[CV] END bootstrap=False, max_depth=10, max_features=log2, min_samples_leaf=2, min_samples_split=5, n_estimators=1120; total time=   6.5s\n",
      "[CV] END bootstrap=False, max_depth=10, max_features=log2, min_samples_leaf=2, min_samples_split=5, n_estimators=1120; total time=   6.3s\n",
      "[CV] END bootstrap=False, max_depth=30, max_features=auto, min_samples_leaf=4, min_samples_split=2, n_estimators=2000; total time=  12.7s\n",
      "[CV] END bootstrap=False, max_depth=30, max_features=auto, min_samples_leaf=4, min_samples_split=2, n_estimators=2000; total time=  13.3s\n",
      "[CV] END bootstrap=False, max_depth=30, max_features=auto, min_samples_leaf=4, min_samples_split=2, n_estimators=2000; total time=  13.5s\n",
      "[CV] END bootstrap=True, max_depth=10, max_features=log2, min_samples_leaf=4, min_samples_split=2, n_estimators=1560; total time=   6.9s\n",
      "[CV] END bootstrap=True, max_depth=10, max_features=log2, min_samples_leaf=4, min_samples_split=2, n_estimators=1560; total time=   7.5s\n",
      "[CV] END bootstrap=True, max_depth=10, max_features=log2, min_samples_leaf=4, min_samples_split=2, n_estimators=1560; total time=   6.9s\n",
      "[CV] END bootstrap=False, max_depth=30, max_features=log2, min_samples_leaf=4, min_samples_split=5, n_estimators=680; total time=   3.9s\n",
      "[CV] END bootstrap=False, max_depth=30, max_features=log2, min_samples_leaf=4, min_samples_split=5, n_estimators=680; total time=   4.0s\n",
      "[CV] END bootstrap=False, max_depth=30, max_features=log2, min_samples_leaf=4, min_samples_split=5, n_estimators=680; total time=   3.9s\n",
      "[CV] END bootstrap=False, max_depth=100, max_features=log2, min_samples_leaf=2, min_samples_split=5, n_estimators=900; total time=   5.1s\n",
      "[CV] END bootstrap=False, max_depth=100, max_features=log2, min_samples_leaf=2, min_samples_split=5, n_estimators=900; total time=   5.6s\n",
      "[CV] END bootstrap=False, max_depth=100, max_features=log2, min_samples_leaf=2, min_samples_split=5, n_estimators=900; total time=   5.2s\n",
      "[CV] END bootstrap=False, max_depth=60, max_features=log2, min_samples_leaf=1, min_samples_split=5, n_estimators=460; total time=   2.6s\n",
      "[CV] END bootstrap=False, max_depth=60, max_features=log2, min_samples_leaf=1, min_samples_split=5, n_estimators=460; total time=   2.8s\n",
      "[CV] END bootstrap=False, max_depth=60, max_features=log2, min_samples_leaf=1, min_samples_split=5, n_estimators=460; total time=   2.8s\n",
      "[CV] END bootstrap=False, max_depth=50, max_features=auto, min_samples_leaf=1, min_samples_split=2, n_estimators=900; total time=   5.9s\n",
      "[CV] END bootstrap=False, max_depth=50, max_features=auto, min_samples_leaf=1, min_samples_split=2, n_estimators=900; total time=   6.4s\n",
      "[CV] END bootstrap=False, max_depth=50, max_features=auto, min_samples_leaf=1, min_samples_split=2, n_estimators=900; total time=   5.9s\n",
      "[CV] END bootstrap=False, max_depth=10, max_features=auto, min_samples_leaf=4, min_samples_split=5, n_estimators=1780; total time=  11.2s\n",
      "[CV] END bootstrap=False, max_depth=10, max_features=auto, min_samples_leaf=4, min_samples_split=5, n_estimators=1780; total time=  11.5s\n",
      "[CV] END bootstrap=False, max_depth=10, max_features=auto, min_samples_leaf=4, min_samples_split=5, n_estimators=1780; total time=  12.1s\n",
      "[CV] END bootstrap=True, max_depth=70, max_features=auto, min_samples_leaf=4, min_samples_split=10, n_estimators=240; total time=   1.1s\n",
      "[CV] END bootstrap=True, max_depth=70, max_features=auto, min_samples_leaf=4, min_samples_split=10, n_estimators=240; total time=   1.2s\n",
      "[CV] END bootstrap=True, max_depth=70, max_features=auto, min_samples_leaf=4, min_samples_split=10, n_estimators=240; total time=   1.3s\n",
      "[CV] END bootstrap=False, max_depth=90, max_features=log2, min_samples_leaf=1, min_samples_split=5, n_estimators=680; total time=   3.8s\n",
      "[CV] END bootstrap=False, max_depth=90, max_features=log2, min_samples_leaf=1, min_samples_split=5, n_estimators=680; total time=   4.0s\n",
      "[CV] END bootstrap=False, max_depth=90, max_features=log2, min_samples_leaf=1, min_samples_split=5, n_estimators=680; total time=   4.2s\n",
      "[CV] END bootstrap=False, max_depth=10, max_features=log2, min_samples_leaf=1, min_samples_split=10, n_estimators=2000; total time=  11.0s\n",
      "[CV] END bootstrap=False, max_depth=10, max_features=log2, min_samples_leaf=1, min_samples_split=10, n_estimators=2000; total time=  12.0s\n",
      "[CV] END bootstrap=False, max_depth=10, max_features=log2, min_samples_leaf=1, min_samples_split=10, n_estimators=2000; total time=  12.5s\n",
      "[CV] END bootstrap=False, max_depth=10, max_features=log2, min_samples_leaf=2, min_samples_split=5, n_estimators=1560; total time=   9.7s\n",
      "[CV] END bootstrap=False, max_depth=10, max_features=log2, min_samples_leaf=2, min_samples_split=5, n_estimators=1560; total time=   9.4s\n",
      "[CV] END bootstrap=False, max_depth=10, max_features=log2, min_samples_leaf=2, min_samples_split=5, n_estimators=1560; total time=   9.6s\n",
      "[CV] END bootstrap=False, max_depth=30, max_features=log2, min_samples_leaf=2, min_samples_split=10, n_estimators=680; total time=   4.0s\n",
      "[CV] END bootstrap=False, max_depth=30, max_features=log2, min_samples_leaf=2, min_samples_split=10, n_estimators=680; total time=   4.3s\n",
      "[CV] END bootstrap=False, max_depth=30, max_features=log2, min_samples_leaf=2, min_samples_split=10, n_estimators=680; total time=   2.8s\n",
      "[CV] END bootstrap=False, max_depth=50, max_features=auto, min_samples_leaf=4, min_samples_split=2, n_estimators=1780; total time=  12.3s\n",
      "[CV] END bootstrap=False, max_depth=50, max_features=auto, min_samples_leaf=4, min_samples_split=2, n_estimators=1780; total time=  12.8s\n",
      "[CV] END bootstrap=False, max_depth=50, max_features=auto, min_samples_leaf=4, min_samples_split=2, n_estimators=1780; total time=  14.0s\n",
      "[CV] END bootstrap=False, max_depth=70, max_features=auto, min_samples_leaf=2, min_samples_split=5, n_estimators=460; total time=   3.1s\n",
      "[CV] END bootstrap=False, max_depth=70, max_features=auto, min_samples_leaf=2, min_samples_split=5, n_estimators=460; total time=   3.3s\n",
      "[CV] END bootstrap=False, max_depth=70, max_features=auto, min_samples_leaf=2, min_samples_split=5, n_estimators=460; total time=   3.4s\n",
      "[CV] END bootstrap=True, max_depth=20, max_features=log2, min_samples_leaf=1, min_samples_split=2, n_estimators=900; total time=   4.2s\n",
      "[CV] END bootstrap=True, max_depth=20, max_features=log2, min_samples_leaf=1, min_samples_split=2, n_estimators=900; total time=   4.4s\n",
      "[CV] END bootstrap=True, max_depth=20, max_features=log2, min_samples_leaf=1, min_samples_split=2, n_estimators=900; total time=   4.6s\n",
      "[CV] END bootstrap=False, max_depth=110, max_features=auto, min_samples_leaf=2, min_samples_split=10, n_estimators=1780; total time=  11.0s\n",
      "[CV] END bootstrap=False, max_depth=110, max_features=auto, min_samples_leaf=2, min_samples_split=10, n_estimators=1780; total time=  11.7s\n",
      "[CV] END bootstrap=False, max_depth=110, max_features=auto, min_samples_leaf=2, min_samples_split=10, n_estimators=1780; total time=  13.7s\n",
      "[CV] END bootstrap=True, max_depth=80, max_features=auto, min_samples_leaf=1, min_samples_split=5, n_estimators=460; total time=   2.4s\n",
      "[CV] END bootstrap=True, max_depth=80, max_features=auto, min_samples_leaf=1, min_samples_split=5, n_estimators=460; total time=   2.8s\n",
      "[CV] END bootstrap=True, max_depth=80, max_features=auto, min_samples_leaf=1, min_samples_split=5, n_estimators=460; total time=   2.7s\n",
      "[CV] END bootstrap=False, max_depth=30, max_features=log2, min_samples_leaf=1, min_samples_split=10, n_estimators=1780; total time=  11.0s\n",
      "[CV] END bootstrap=False, max_depth=30, max_features=log2, min_samples_leaf=1, min_samples_split=10, n_estimators=1780; total time=  11.5s\n",
      "[CV] END bootstrap=False, max_depth=30, max_features=log2, min_samples_leaf=1, min_samples_split=10, n_estimators=1780; total time=  11.6s\n",
      "[CV] END bootstrap=False, max_depth=70, max_features=log2, min_samples_leaf=1, min_samples_split=5, n_estimators=1560; total time=   9.7s\n",
      "[CV] END bootstrap=False, max_depth=70, max_features=log2, min_samples_leaf=1, min_samples_split=5, n_estimators=1560; total time=  10.5s\n",
      "[CV] END bootstrap=False, max_depth=70, max_features=log2, min_samples_leaf=1, min_samples_split=5, n_estimators=1560; total time=  10.4s\n",
      "[CV] END bootstrap=True, max_depth=80, max_features=log2, min_samples_leaf=4, min_samples_split=5, n_estimators=1340; total time=   5.9s\n",
      "[CV] END bootstrap=True, max_depth=80, max_features=log2, min_samples_leaf=4, min_samples_split=5, n_estimators=1340; total time=   6.6s\n",
      "[CV] END bootstrap=True, max_depth=80, max_features=log2, min_samples_leaf=4, min_samples_split=5, n_estimators=1340; total time=   6.6s\n",
      "[CV] END bootstrap=True, max_depth=None, max_features=auto, min_samples_leaf=2, min_samples_split=2, n_estimators=1780; total time=   9.7s\n",
      "[CV] END bootstrap=True, max_depth=None, max_features=auto, min_samples_leaf=2, min_samples_split=2, n_estimators=1780; total time=   9.8s\n",
      "[CV] END bootstrap=True, max_depth=None, max_features=auto, min_samples_leaf=2, min_samples_split=2, n_estimators=1780; total time=  10.4s\n",
      "[CV] END bootstrap=False, max_depth=80, max_features=log2, min_samples_leaf=1, min_samples_split=5, n_estimators=1340; total time=   8.5s\n",
      "[CV] END bootstrap=False, max_depth=80, max_features=log2, min_samples_leaf=1, min_samples_split=5, n_estimators=1340; total time=   8.6s\n",
      "[CV] END bootstrap=False, max_depth=80, max_features=log2, min_samples_leaf=1, min_samples_split=5, n_estimators=1340; total time=   8.9s\n",
      "[CV] END bootstrap=False, max_depth=None, max_features=log2, min_samples_leaf=1, min_samples_split=2, n_estimators=240; total time=   1.5s\n",
      "[CV] END bootstrap=False, max_depth=None, max_features=log2, min_samples_leaf=1, min_samples_split=2, n_estimators=240; total time=   1.4s\n",
      "[CV] END bootstrap=False, max_depth=None, max_features=log2, min_samples_leaf=1, min_samples_split=2, n_estimators=240; total time=   1.5s\n",
      "[CV] END bootstrap=False, max_depth=40, max_features=auto, min_samples_leaf=1, min_samples_split=2, n_estimators=1340; total time=   9.6s\n",
      "[CV] END bootstrap=False, max_depth=40, max_features=auto, min_samples_leaf=1, min_samples_split=2, n_estimators=1340; total time=  10.3s\n",
      "[CV] END bootstrap=False, max_depth=40, max_features=auto, min_samples_leaf=1, min_samples_split=2, n_estimators=1340; total time=  10.8s\n",
      "[CV] END bootstrap=True, max_depth=20, max_features=log2, min_samples_leaf=2, min_samples_split=5, n_estimators=900; total time=   4.3s\n",
      "[CV] END bootstrap=True, max_depth=20, max_features=log2, min_samples_leaf=2, min_samples_split=5, n_estimators=900; total time=   4.5s\n",
      "[CV] END bootstrap=True, max_depth=20, max_features=log2, min_samples_leaf=2, min_samples_split=5, n_estimators=900; total time=   4.5s\n",
      "[CV] END bootstrap=False, max_depth=100, max_features=auto, min_samples_leaf=4, min_samples_split=10, n_estimators=2000; total time=  12.9s\n",
      "[CV] END bootstrap=False, max_depth=100, max_features=auto, min_samples_leaf=4, min_samples_split=10, n_estimators=2000; total time=  12.9s\n",
      "[CV] END bootstrap=False, max_depth=100, max_features=auto, min_samples_leaf=4, min_samples_split=10, n_estimators=2000; total time=  14.2s\n",
      "[CV] END bootstrap=True, max_depth=20, max_features=log2, min_samples_leaf=2, min_samples_split=2, n_estimators=1120; total time=   5.6s\n",
      "[CV] END bootstrap=True, max_depth=20, max_features=log2, min_samples_leaf=2, min_samples_split=2, n_estimators=1120; total time=   5.6s\n",
      "[CV] END bootstrap=True, max_depth=20, max_features=log2, min_samples_leaf=2, min_samples_split=2, n_estimators=1120; total time=   5.6s\n",
      "[CV] END bootstrap=False, max_depth=20, max_features=log2, min_samples_leaf=4, min_samples_split=10, n_estimators=1120; total time=   6.8s\n",
      "[CV] END bootstrap=False, max_depth=20, max_features=log2, min_samples_leaf=4, min_samples_split=10, n_estimators=1120; total time=   7.2s\n",
      "[CV] END bootstrap=False, max_depth=20, max_features=log2, min_samples_leaf=4, min_samples_split=10, n_estimators=1120; total time=   6.3s\n",
      "[CV] END bootstrap=False, max_depth=50, max_features=log2, min_samples_leaf=2, min_samples_split=2, n_estimators=680; total time=   3.2s\n",
      "[CV] END bootstrap=False, max_depth=50, max_features=log2, min_samples_leaf=2, min_samples_split=2, n_estimators=680; total time=   3.4s\n",
      "[CV] END bootstrap=False, max_depth=50, max_features=log2, min_samples_leaf=2, min_samples_split=2, n_estimators=680; total time=   3.4s\n",
      "[CV] END bootstrap=False, max_depth=100, max_features=log2, min_samples_leaf=1, min_samples_split=5, n_estimators=680; total time=   3.1s\n",
      "[CV] END bootstrap=False, max_depth=100, max_features=log2, min_samples_leaf=1, min_samples_split=5, n_estimators=680; total time=   3.6s\n",
      "[CV] END bootstrap=False, max_depth=100, max_features=log2, min_samples_leaf=1, min_samples_split=5, n_estimators=680; total time=   3.5s\n",
      "[CV] END bootstrap=True, max_depth=50, max_features=log2, min_samples_leaf=4, min_samples_split=10, n_estimators=680; total time=   2.5s\n",
      "[CV] END bootstrap=True, max_depth=50, max_features=log2, min_samples_leaf=4, min_samples_split=10, n_estimators=680; total time=   2.5s\n",
      "[CV] END bootstrap=True, max_depth=50, max_features=log2, min_samples_leaf=4, min_samples_split=10, n_estimators=680; total time=   2.5s\n",
      "[CV] END bootstrap=True, max_depth=90, max_features=log2, min_samples_leaf=4, min_samples_split=2, n_estimators=1780; total time=   6.7s\n",
      "[CV] END bootstrap=True, max_depth=90, max_features=log2, min_samples_leaf=4, min_samples_split=2, n_estimators=1780; total time=   6.8s\n",
      "[CV] END bootstrap=True, max_depth=90, max_features=log2, min_samples_leaf=4, min_samples_split=2, n_estimators=1780; total time=   8.3s\n",
      "[CV] END bootstrap=False, max_depth=20, max_features=log2, min_samples_leaf=2, min_samples_split=10, n_estimators=680; total time=   3.7s\n",
      "[CV] END bootstrap=False, max_depth=20, max_features=log2, min_samples_leaf=2, min_samples_split=10, n_estimators=680; total time=   4.6s\n",
      "[CV] END bootstrap=False, max_depth=20, max_features=log2, min_samples_leaf=2, min_samples_split=10, n_estimators=680; total time=   4.4s\n",
      "[CV] END bootstrap=True, max_depth=20, max_features=log2, min_samples_leaf=2, min_samples_split=5, n_estimators=1120; total time=   5.5s\n",
      "[CV] END bootstrap=True, max_depth=20, max_features=log2, min_samples_leaf=2, min_samples_split=5, n_estimators=1120; total time=   5.4s\n",
      "[CV] END bootstrap=True, max_depth=20, max_features=log2, min_samples_leaf=2, min_samples_split=5, n_estimators=1120; total time=   5.9s\n",
      "[CV] END bootstrap=True, max_depth=100, max_features=auto, min_samples_leaf=1, min_samples_split=2, n_estimators=680; total time=   3.7s\n",
      "[CV] END bootstrap=True, max_depth=100, max_features=auto, min_samples_leaf=1, min_samples_split=2, n_estimators=680; total time=   4.1s\n",
      "[CV] END bootstrap=True, max_depth=100, max_features=auto, min_samples_leaf=1, min_samples_split=2, n_estimators=680; total time=   4.1s\n",
      "[CV] END bootstrap=True, max_depth=None, max_features=auto, min_samples_leaf=2, min_samples_split=5, n_estimators=680; total time=   4.1s\n",
      "[CV] END bootstrap=True, max_depth=None, max_features=auto, min_samples_leaf=2, min_samples_split=5, n_estimators=680; total time=   3.8s\n",
      "[CV] END bootstrap=True, max_depth=None, max_features=auto, min_samples_leaf=2, min_samples_split=5, n_estimators=680; total time=   3.7s\n",
      "[CV] END bootstrap=True, max_depth=60, max_features=log2, min_samples_leaf=2, min_samples_split=2, n_estimators=900; total time=   4.3s\n",
      "[CV] END bootstrap=True, max_depth=60, max_features=log2, min_samples_leaf=2, min_samples_split=2, n_estimators=900; total time=   4.6s\n",
      "[CV] END bootstrap=True, max_depth=60, max_features=log2, min_samples_leaf=2, min_samples_split=2, n_estimators=900; total time=   4.5s\n",
      "[CV] END bootstrap=True, max_depth=10, max_features=auto, min_samples_leaf=4, min_samples_split=5, n_estimators=20; total time=   0.0s\n",
      "[CV] END bootstrap=True, max_depth=10, max_features=auto, min_samples_leaf=4, min_samples_split=5, n_estimators=20; total time=   0.0s\n",
      "[CV] END bootstrap=True, max_depth=10, max_features=auto, min_samples_leaf=4, min_samples_split=5, n_estimators=20; total time=   0.0s\n",
      "[CV] END bootstrap=True, max_depth=60, max_features=log2, min_samples_leaf=2, min_samples_split=10, n_estimators=460; total time=   2.1s\n",
      "[CV] END bootstrap=True, max_depth=60, max_features=log2, min_samples_leaf=2, min_samples_split=10, n_estimators=460; total time=   2.2s\n",
      "[CV] END bootstrap=True, max_depth=60, max_features=log2, min_samples_leaf=2, min_samples_split=10, n_estimators=460; total time=   2.1s\n",
      "[CV] END bootstrap=True, max_depth=90, max_features=log2, min_samples_leaf=4, min_samples_split=2, n_estimators=680; total time=   3.1s\n",
      "[CV] END bootstrap=True, max_depth=90, max_features=log2, min_samples_leaf=4, min_samples_split=2, n_estimators=680; total time=   3.2s\n",
      "[CV] END bootstrap=True, max_depth=90, max_features=log2, min_samples_leaf=4, min_samples_split=2, n_estimators=680; total time=   3.7s\n",
      "[CV] END bootstrap=True, max_depth=90, max_features=log2, min_samples_leaf=4, min_samples_split=10, n_estimators=240; total time=   1.4s\n",
      "[CV] END bootstrap=True, max_depth=90, max_features=log2, min_samples_leaf=4, min_samples_split=10, n_estimators=240; total time=   1.3s\n",
      "[CV] END bootstrap=True, max_depth=90, max_features=log2, min_samples_leaf=4, min_samples_split=10, n_estimators=240; total time=   1.0s\n",
      "[CV] END bootstrap=False, max_depth=90, max_features=auto, min_samples_leaf=2, min_samples_split=5, n_estimators=20; total time=   0.0s\n",
      "[CV] END bootstrap=False, max_depth=90, max_features=auto, min_samples_leaf=2, min_samples_split=5, n_estimators=20; total time=   0.0s\n",
      "[CV] END bootstrap=False, max_depth=90, max_features=auto, min_samples_leaf=2, min_samples_split=5, n_estimators=20; total time=   0.0s\n",
      "[CV] END bootstrap=True, max_depth=110, max_features=log2, min_samples_leaf=1, min_samples_split=2, n_estimators=900; total time=   3.4s\n",
      "[CV] END bootstrap=True, max_depth=110, max_features=log2, min_samples_leaf=1, min_samples_split=2, n_estimators=900; total time=   3.9s\n",
      "[CV] END bootstrap=True, max_depth=110, max_features=log2, min_samples_leaf=1, min_samples_split=2, n_estimators=900; total time=   3.8s\n",
      "[CV] END bootstrap=True, max_depth=90, max_features=auto, min_samples_leaf=2, min_samples_split=2, n_estimators=2000; total time=  10.7s\n",
      "[CV] END bootstrap=True, max_depth=90, max_features=auto, min_samples_leaf=2, min_samples_split=2, n_estimators=2000; total time=  11.4s\n",
      "[CV] END bootstrap=True, max_depth=90, max_features=auto, min_samples_leaf=2, min_samples_split=2, n_estimators=2000; total time=   8.8s\n",
      "[CV] END bootstrap=False, max_depth=80, max_features=log2, min_samples_leaf=4, min_samples_split=10, n_estimators=240; total time=   1.5s\n",
      "[CV] END bootstrap=False, max_depth=80, max_features=log2, min_samples_leaf=4, min_samples_split=10, n_estimators=240; total time=   1.5s\n",
      "[CV] END bootstrap=False, max_depth=80, max_features=log2, min_samples_leaf=4, min_samples_split=10, n_estimators=240; total time=   1.3s\n",
      "[CV] END bootstrap=False, max_depth=70, max_features=log2, min_samples_leaf=4, min_samples_split=2, n_estimators=1120; total time=   6.9s\n",
      "[CV] END bootstrap=False, max_depth=70, max_features=log2, min_samples_leaf=4, min_samples_split=2, n_estimators=1120; total time=   7.4s\n",
      "[CV] END bootstrap=False, max_depth=70, max_features=log2, min_samples_leaf=4, min_samples_split=2, n_estimators=1120; total time=   7.3s\n",
      "[CV] END bootstrap=False, max_depth=110, max_features=log2, min_samples_leaf=2, min_samples_split=2, n_estimators=460; total time=   2.6s\n",
      "[CV] END bootstrap=False, max_depth=110, max_features=log2, min_samples_leaf=2, min_samples_split=2, n_estimators=460; total time=   2.7s\n",
      "[CV] END bootstrap=False, max_depth=110, max_features=log2, min_samples_leaf=2, min_samples_split=2, n_estimators=460; total time=   2.9s\n",
      "[CV] END bootstrap=False, max_depth=20, max_features=auto, min_samples_leaf=1, min_samples_split=2, n_estimators=1780; total time=  12.8s\n",
      "[CV] END bootstrap=False, max_depth=20, max_features=auto, min_samples_leaf=1, min_samples_split=2, n_estimators=1780; total time=  14.2s\n",
      "[CV] END bootstrap=False, max_depth=20, max_features=auto, min_samples_leaf=1, min_samples_split=2, n_estimators=1780; total time=  13.9s\n",
      "[CV] END bootstrap=False, max_depth=50, max_features=auto, min_samples_leaf=2, min_samples_split=10, n_estimators=2000; total time=  13.3s\n",
      "[CV] END bootstrap=False, max_depth=50, max_features=auto, min_samples_leaf=2, min_samples_split=10, n_estimators=2000; total time=  14.6s\n",
      "[CV] END bootstrap=False, max_depth=50, max_features=auto, min_samples_leaf=2, min_samples_split=10, n_estimators=2000; total time=  15.6s\n",
      "[CV] END bootstrap=False, max_depth=50, max_features=auto, min_samples_leaf=4, min_samples_split=10, n_estimators=900; total time=   5.8s\n",
      "[CV] END bootstrap=False, max_depth=50, max_features=auto, min_samples_leaf=4, min_samples_split=10, n_estimators=900; total time=   6.3s\n",
      "[CV] END bootstrap=False, max_depth=50, max_features=auto, min_samples_leaf=4, min_samples_split=10, n_estimators=900; total time=   6.0s\n",
      "[CV] END bootstrap=False, max_depth=30, max_features=auto, min_samples_leaf=4, min_samples_split=5, n_estimators=900; total time=   6.1s\n",
      "[CV] END bootstrap=False, max_depth=30, max_features=auto, min_samples_leaf=4, min_samples_split=5, n_estimators=900; total time=   6.6s\n",
      "[CV] END bootstrap=False, max_depth=30, max_features=auto, min_samples_leaf=4, min_samples_split=5, n_estimators=900; total time=   6.4s\n",
      "[CV] END bootstrap=False, max_depth=None, max_features=log2, min_samples_leaf=2, min_samples_split=5, n_estimators=1340; total time=   8.4s\n",
      "[CV] END bootstrap=False, max_depth=None, max_features=log2, min_samples_leaf=2, min_samples_split=5, n_estimators=1340; total time=   8.3s\n",
      "[CV] END bootstrap=False, max_depth=None, max_features=log2, min_samples_leaf=2, min_samples_split=5, n_estimators=1340; total time=   8.4s\n",
      "[CV] END bootstrap=False, max_depth=60, max_features=log2, min_samples_leaf=4, min_samples_split=2, n_estimators=460; total time=   2.8s\n",
      "[CV] END bootstrap=False, max_depth=60, max_features=log2, min_samples_leaf=4, min_samples_split=2, n_estimators=460; total time=   2.8s\n",
      "[CV] END bootstrap=False, max_depth=60, max_features=log2, min_samples_leaf=4, min_samples_split=2, n_estimators=460; total time=   2.9s\n",
      "[CV] END bootstrap=True, max_depth=10, max_features=auto, min_samples_leaf=1, min_samples_split=5, n_estimators=1560; total time=   8.2s\n",
      "[CV] END bootstrap=True, max_depth=10, max_features=auto, min_samples_leaf=1, min_samples_split=5, n_estimators=1560; total time=   8.6s\n",
      "[CV] END bootstrap=True, max_depth=10, max_features=auto, min_samples_leaf=1, min_samples_split=5, n_estimators=1560; total time=   8.3s\n",
      "[CV] END bootstrap=True, max_depth=80, max_features=auto, min_samples_leaf=2, min_samples_split=2, n_estimators=1780; total time=   9.4s\n",
      "[CV] END bootstrap=True, max_depth=80, max_features=auto, min_samples_leaf=2, min_samples_split=2, n_estimators=1780; total time=   9.8s\n",
      "[CV] END bootstrap=True, max_depth=80, max_features=auto, min_samples_leaf=2, min_samples_split=2, n_estimators=1780; total time=  11.0s\n",
      "[CV] END bootstrap=True, max_depth=100, max_features=auto, min_samples_leaf=1, min_samples_split=2, n_estimators=1340; total time=   6.0s\n",
      "[CV] END bootstrap=True, max_depth=100, max_features=auto, min_samples_leaf=1, min_samples_split=2, n_estimators=1340; total time=   5.8s\n",
      "[CV] END bootstrap=True, max_depth=100, max_features=auto, min_samples_leaf=1, min_samples_split=2, n_estimators=1340; total time=   6.3s\n",
      "[CV] END bootstrap=True, max_depth=80, max_features=log2, min_samples_leaf=2, min_samples_split=10, n_estimators=1340; total time=   4.8s\n",
      "[CV] END bootstrap=True, max_depth=80, max_features=log2, min_samples_leaf=2, min_samples_split=10, n_estimators=1340; total time=   5.6s\n",
      "[CV] END bootstrap=True, max_depth=80, max_features=log2, min_samples_leaf=2, min_samples_split=10, n_estimators=1340; total time=   6.6s\n",
      "[CV] END bootstrap=True, max_depth=50, max_features=log2, min_samples_leaf=1, min_samples_split=2, n_estimators=20; total time=   0.0s\n",
      "[CV] END bootstrap=True, max_depth=50, max_features=log2, min_samples_leaf=1, min_samples_split=2, n_estimators=20; total time=   0.1s\n",
      "[CV] END bootstrap=True, max_depth=50, max_features=log2, min_samples_leaf=1, min_samples_split=2, n_estimators=20; total time=   0.0s\n",
      "[CV] END bootstrap=True, max_depth=10, max_features=log2, min_samples_leaf=4, min_samples_split=2, n_estimators=240; total time=   1.0s\n",
      "[CV] END bootstrap=True, max_depth=10, max_features=log2, min_samples_leaf=4, min_samples_split=2, n_estimators=240; total time=   1.1s\n",
      "[CV] END bootstrap=True, max_depth=10, max_features=log2, min_samples_leaf=4, min_samples_split=2, n_estimators=240; total time=   1.1s\n",
      "[CV] END bootstrap=False, max_depth=80, max_features=auto, min_samples_leaf=4, min_samples_split=10, n_estimators=900; total time=   5.8s\n",
      "[CV] END bootstrap=False, max_depth=80, max_features=auto, min_samples_leaf=4, min_samples_split=10, n_estimators=900; total time=   5.6s\n",
      "[CV] END bootstrap=False, max_depth=80, max_features=auto, min_samples_leaf=4, min_samples_split=10, n_estimators=900; total time=   6.3s\n",
      "[CV] END bootstrap=False, max_depth=None, max_features=auto, min_samples_leaf=2, min_samples_split=10, n_estimators=1120; total time=   8.2s\n",
      "[CV] END bootstrap=False, max_depth=None, max_features=auto, min_samples_leaf=2, min_samples_split=10, n_estimators=1120; total time=   8.5s\n",
      "[CV] END bootstrap=False, max_depth=None, max_features=auto, min_samples_leaf=2, min_samples_split=10, n_estimators=1120; total time=   8.3s\n",
      "[CV] END bootstrap=True, max_depth=20, max_features=log2, min_samples_leaf=1, min_samples_split=10, n_estimators=1560; total time=   7.5s\n",
      "[CV] END bootstrap=True, max_depth=20, max_features=log2, min_samples_leaf=1, min_samples_split=10, n_estimators=1560; total time=   7.5s\n",
      "[CV] END bootstrap=True, max_depth=20, max_features=log2, min_samples_leaf=1, min_samples_split=10, n_estimators=1560; total time=   7.7s\n",
      "[CV] END bootstrap=True, max_depth=None, max_features=auto, min_samples_leaf=2, min_samples_split=10, n_estimators=1560; total time=   8.4s\n",
      "[CV] END bootstrap=True, max_depth=None, max_features=auto, min_samples_leaf=2, min_samples_split=10, n_estimators=1560; total time=   8.7s\n",
      "[CV] END bootstrap=True, max_depth=None, max_features=auto, min_samples_leaf=2, min_samples_split=10, n_estimators=1560; total time=   8.4s\n",
      "[CV] END bootstrap=False, max_depth=10, max_features=auto, min_samples_leaf=4, min_samples_split=2, n_estimators=1780; total time=  11.6s\n",
      "[CV] END bootstrap=False, max_depth=10, max_features=auto, min_samples_leaf=4, min_samples_split=2, n_estimators=1780; total time=  10.2s\n",
      "[CV] END bootstrap=False, max_depth=10, max_features=auto, min_samples_leaf=4, min_samples_split=2, n_estimators=1780; total time=  10.1s\n",
      "[CV] END bootstrap=True, max_depth=70, max_features=auto, min_samples_leaf=2, min_samples_split=2, n_estimators=1340; total time=   5.6s\n",
      "[CV] END bootstrap=True, max_depth=70, max_features=auto, min_samples_leaf=2, min_samples_split=2, n_estimators=1340; total time=   6.0s\n",
      "[CV] END bootstrap=True, max_depth=70, max_features=auto, min_samples_leaf=2, min_samples_split=2, n_estimators=1340; total time=   6.0s\n",
      "[CV] END bootstrap=False, max_depth=80, max_features=log2, min_samples_leaf=1, min_samples_split=10, n_estimators=900; total time=   4.5s\n",
      "[CV] END bootstrap=False, max_depth=80, max_features=log2, min_samples_leaf=1, min_samples_split=10, n_estimators=900; total time=   4.7s\n",
      "[CV] END bootstrap=False, max_depth=80, max_features=log2, min_samples_leaf=1, min_samples_split=10, n_estimators=900; total time=   4.7s\n",
      "[CV] END bootstrap=False, max_depth=60, max_features=auto, min_samples_leaf=2, min_samples_split=10, n_estimators=2000; total time=  11.3s\n",
      "[CV] END bootstrap=False, max_depth=60, max_features=auto, min_samples_leaf=2, min_samples_split=10, n_estimators=2000; total time=  11.9s\n",
      "[CV] END bootstrap=False, max_depth=60, max_features=auto, min_samples_leaf=2, min_samples_split=10, n_estimators=2000; total time=  12.1s\n",
      "[CV] END bootstrap=False, max_depth=80, max_features=log2, min_samples_leaf=4, min_samples_split=2, n_estimators=1340; total time=   6.4s\n",
      "[CV] END bootstrap=False, max_depth=80, max_features=log2, min_samples_leaf=4, min_samples_split=2, n_estimators=1340; total time=   5.7s\n",
      "[CV] END bootstrap=False, max_depth=80, max_features=log2, min_samples_leaf=4, min_samples_split=2, n_estimators=1340; total time=   6.8s\n",
      "[CV] END bootstrap=False, max_depth=20, max_features=log2, min_samples_leaf=4, min_samples_split=2, n_estimators=680; total time=   3.2s\n",
      "[CV] END bootstrap=False, max_depth=20, max_features=log2, min_samples_leaf=4, min_samples_split=2, n_estimators=680; total time=   3.4s\n",
      "[CV] END bootstrap=False, max_depth=20, max_features=log2, min_samples_leaf=4, min_samples_split=2, n_estimators=680; total time=   3.4s\n",
      "[CV] END bootstrap=True, max_depth=60, max_features=log2, min_samples_leaf=2, min_samples_split=5, n_estimators=1780; total time=   6.8s\n",
      "[CV] END bootstrap=True, max_depth=60, max_features=log2, min_samples_leaf=2, min_samples_split=5, n_estimators=1780; total time=   7.1s\n",
      "[CV] END bootstrap=True, max_depth=60, max_features=log2, min_samples_leaf=2, min_samples_split=5, n_estimators=1780; total time=   7.1s\n",
      "[CV] END bootstrap=False, max_depth=90, max_features=auto, min_samples_leaf=1, min_samples_split=5, n_estimators=240; total time=   1.3s\n",
      "[CV] END bootstrap=False, max_depth=90, max_features=auto, min_samples_leaf=1, min_samples_split=5, n_estimators=240; total time=   1.4s\n",
      "[CV] END bootstrap=False, max_depth=90, max_features=auto, min_samples_leaf=1, min_samples_split=5, n_estimators=240; total time=   1.4s\n",
      "[CV] END bootstrap=True, max_depth=90, max_features=auto, min_samples_leaf=1, min_samples_split=5, n_estimators=1560; total time=   6.7s\n",
      "[CV] END bootstrap=True, max_depth=90, max_features=auto, min_samples_leaf=1, min_samples_split=5, n_estimators=1560; total time=   7.1s\n",
      "[CV] END bootstrap=True, max_depth=90, max_features=auto, min_samples_leaf=1, min_samples_split=5, n_estimators=1560; total time=   7.2s\n",
      "[CV] END bootstrap=False, max_depth=90, max_features=log2, min_samples_leaf=2, min_samples_split=10, n_estimators=240; total time=   1.1s\n",
      "[CV] END bootstrap=False, max_depth=90, max_features=log2, min_samples_leaf=2, min_samples_split=10, n_estimators=240; total time=   1.2s\n",
      "[CV] END bootstrap=False, max_depth=90, max_features=log2, min_samples_leaf=2, min_samples_split=10, n_estimators=240; total time=   1.2s\n",
      "[CV] END bootstrap=True, max_depth=None, max_features=log2, min_samples_leaf=1, min_samples_split=10, n_estimators=1560; total time=   6.0s\n",
      "[CV] END bootstrap=True, max_depth=None, max_features=log2, min_samples_leaf=1, min_samples_split=10, n_estimators=1560; total time=   6.2s\n",
      "[CV] END bootstrap=True, max_depth=None, max_features=log2, min_samples_leaf=1, min_samples_split=10, n_estimators=1560; total time=   6.3s\n",
      "[CV] END bootstrap=True, max_depth=100, max_features=log2, min_samples_leaf=1, min_samples_split=5, n_estimators=2000; total time=   7.8s\n",
      "[CV] END bootstrap=True, max_depth=100, max_features=log2, min_samples_leaf=1, min_samples_split=5, n_estimators=2000; total time=   8.3s\n",
      "[CV] END bootstrap=True, max_depth=100, max_features=log2, min_samples_leaf=1, min_samples_split=5, n_estimators=2000; total time=   8.2s\n",
      "[CV] END bootstrap=True, max_depth=10, max_features=log2, min_samples_leaf=2, min_samples_split=5, n_estimators=900; total time=   3.4s\n",
      "[CV] END bootstrap=True, max_depth=10, max_features=log2, min_samples_leaf=2, min_samples_split=5, n_estimators=900; total time=   3.5s\n",
      "[CV] END bootstrap=True, max_depth=10, max_features=log2, min_samples_leaf=2, min_samples_split=5, n_estimators=900; total time=   3.3s\n",
      "[CV] END bootstrap=True, max_depth=80, max_features=auto, min_samples_leaf=4, min_samples_split=5, n_estimators=20; total time=   0.0s\n",
      "[CV] END bootstrap=True, max_depth=80, max_features=auto, min_samples_leaf=4, min_samples_split=5, n_estimators=20; total time=   0.0s\n",
      "[CV] END bootstrap=True, max_depth=80, max_features=auto, min_samples_leaf=4, min_samples_split=5, n_estimators=20; total time=   0.0s\n",
      "[CV] END bootstrap=False, max_depth=60, max_features=auto, min_samples_leaf=4, min_samples_split=2, n_estimators=2000; total time=  10.7s\n",
      "[CV] END bootstrap=False, max_depth=60, max_features=auto, min_samples_leaf=4, min_samples_split=2, n_estimators=2000; total time=  13.5s\n",
      "[CV] END bootstrap=False, max_depth=60, max_features=auto, min_samples_leaf=4, min_samples_split=2, n_estimators=2000; total time=  11.9s\n",
      "[CV] END bootstrap=True, max_depth=100, max_features=auto, min_samples_leaf=2, min_samples_split=10, n_estimators=460; total time=   1.9s\n",
      "[CV] END bootstrap=True, max_depth=100, max_features=auto, min_samples_leaf=2, min_samples_split=10, n_estimators=460; total time=   2.0s\n",
      "[CV] END bootstrap=True, max_depth=100, max_features=auto, min_samples_leaf=2, min_samples_split=10, n_estimators=460; total time=   2.0s\n",
      "[CV] END bootstrap=True, max_depth=100, max_features=auto, min_samples_leaf=4, min_samples_split=5, n_estimators=900; total time=   3.6s\n",
      "[CV] END bootstrap=True, max_depth=100, max_features=auto, min_samples_leaf=4, min_samples_split=5, n_estimators=900; total time=   3.9s\n",
      "[CV] END bootstrap=True, max_depth=100, max_features=auto, min_samples_leaf=4, min_samples_split=5, n_estimators=900; total time=   3.9s\n",
      "[CV] END bootstrap=False, max_depth=None, max_features=auto, min_samples_leaf=2, min_samples_split=10, n_estimators=680; total time=   3.8s\n",
      "[CV] END bootstrap=False, max_depth=None, max_features=auto, min_samples_leaf=2, min_samples_split=10, n_estimators=680; total time=   4.0s\n",
      "[CV] END bootstrap=False, max_depth=None, max_features=auto, min_samples_leaf=2, min_samples_split=10, n_estimators=680; total time=   4.1s\n",
      "[CV] END bootstrap=False, max_depth=70, max_features=log2, min_samples_leaf=4, min_samples_split=5, n_estimators=680; total time=   3.2s\n",
      "[CV] END bootstrap=False, max_depth=70, max_features=log2, min_samples_leaf=4, min_samples_split=5, n_estimators=680; total time=   3.3s\n",
      "[CV] END bootstrap=False, max_depth=70, max_features=log2, min_samples_leaf=4, min_samples_split=5, n_estimators=680; total time=   3.4s\n",
      "[CV] END bootstrap=False, max_depth=40, max_features=log2, min_samples_leaf=1, min_samples_split=10, n_estimators=460; total time=   2.4s\n",
      "[CV] END bootstrap=False, max_depth=40, max_features=log2, min_samples_leaf=1, min_samples_split=10, n_estimators=460; total time=   2.4s\n",
      "[CV] END bootstrap=False, max_depth=40, max_features=log2, min_samples_leaf=1, min_samples_split=10, n_estimators=460; total time=   2.4s\n",
      "[CV] END bootstrap=True, max_depth=100, max_features=log2, min_samples_leaf=1, min_samples_split=5, n_estimators=240; total time=   0.9s\n",
      "[CV] END bootstrap=True, max_depth=100, max_features=log2, min_samples_leaf=1, min_samples_split=5, n_estimators=240; total time=   0.9s\n",
      "[CV] END bootstrap=True, max_depth=100, max_features=log2, min_samples_leaf=1, min_samples_split=5, n_estimators=240; total time=   0.9s\n",
      "[CV] END bootstrap=True, max_depth=80, max_features=log2, min_samples_leaf=4, min_samples_split=2, n_estimators=1560; total time=   5.8s\n",
      "[CV] END bootstrap=True, max_depth=80, max_features=log2, min_samples_leaf=4, min_samples_split=2, n_estimators=1560; total time=   6.1s\n",
      "[CV] END bootstrap=True, max_depth=80, max_features=log2, min_samples_leaf=4, min_samples_split=2, n_estimators=1560; total time=   6.0s\n",
      "[CV] END bootstrap=True, max_depth=100, max_features=log2, min_samples_leaf=4, min_samples_split=10, n_estimators=680; total time=   2.5s\n",
      "[CV] END bootstrap=True, max_depth=100, max_features=log2, min_samples_leaf=4, min_samples_split=10, n_estimators=680; total time=   2.5s\n",
      "[CV] END bootstrap=True, max_depth=100, max_features=log2, min_samples_leaf=4, min_samples_split=10, n_estimators=680; total time=   2.5s\n",
      "[CV] END bootstrap=True, max_depth=10, max_features=log2, min_samples_leaf=2, min_samples_split=10, n_estimators=900; total time=   3.4s\n",
      "[CV] END bootstrap=True, max_depth=10, max_features=log2, min_samples_leaf=2, min_samples_split=10, n_estimators=900; total time=   3.4s\n",
      "[CV] END bootstrap=True, max_depth=10, max_features=log2, min_samples_leaf=2, min_samples_split=10, n_estimators=900; total time=   3.5s\n",
      "[CV] END bootstrap=True, max_depth=110, max_features=log2, min_samples_leaf=1, min_samples_split=10, n_estimators=460; total time=   1.7s\n",
      "[CV] END bootstrap=True, max_depth=110, max_features=log2, min_samples_leaf=1, min_samples_split=10, n_estimators=460; total time=   1.8s\n",
      "[CV] END bootstrap=True, max_depth=110, max_features=log2, min_samples_leaf=1, min_samples_split=10, n_estimators=460; total time=   1.8s\n",
      "[CV] END bootstrap=False, max_depth=None, max_features=log2, min_samples_leaf=4, min_samples_split=5, n_estimators=2000; total time=   9.6s\n",
      "[CV] END bootstrap=False, max_depth=None, max_features=log2, min_samples_leaf=4, min_samples_split=5, n_estimators=2000; total time=  10.0s\n",
      "[CV] END bootstrap=False, max_depth=None, max_features=log2, min_samples_leaf=4, min_samples_split=5, n_estimators=2000; total time=  10.1s\n",
      "[CV] END bootstrap=True, max_depth=40, max_features=log2, min_samples_leaf=1, min_samples_split=5, n_estimators=680; total time=   2.6s\n",
      "[CV] END bootstrap=True, max_depth=40, max_features=log2, min_samples_leaf=1, min_samples_split=5, n_estimators=680; total time=   2.7s\n",
      "[CV] END bootstrap=True, max_depth=40, max_features=log2, min_samples_leaf=1, min_samples_split=5, n_estimators=680; total time=   2.7s\n",
      "[CV] END bootstrap=True, max_depth=40, max_features=auto, min_samples_leaf=4, min_samples_split=2, n_estimators=460; total time=   1.9s\n",
      "[CV] END bootstrap=True, max_depth=40, max_features=auto, min_samples_leaf=4, min_samples_split=2, n_estimators=460; total time=   1.9s\n",
      "[CV] END bootstrap=True, max_depth=40, max_features=auto, min_samples_leaf=4, min_samples_split=2, n_estimators=460; total time=   1.9s\n",
      "[CV] END bootstrap=False, max_depth=30, max_features=log2, min_samples_leaf=4, min_samples_split=2, n_estimators=460; total time=   2.1s\n",
      "[CV] END bootstrap=False, max_depth=30, max_features=log2, min_samples_leaf=4, min_samples_split=2, n_estimators=460; total time=   2.2s\n",
      "[CV] END bootstrap=False, max_depth=30, max_features=log2, min_samples_leaf=4, min_samples_split=2, n_estimators=460; total time=   2.3s\n",
      "[CV] END bootstrap=False, max_depth=40, max_features=auto, min_samples_leaf=2, min_samples_split=10, n_estimators=240; total time=   1.3s\n",
      "[CV] END bootstrap=False, max_depth=40, max_features=auto, min_samples_leaf=2, min_samples_split=10, n_estimators=240; total time=   1.3s\n",
      "[CV] END bootstrap=False, max_depth=40, max_features=auto, min_samples_leaf=2, min_samples_split=10, n_estimators=240; total time=   1.4s\n",
      "[CV] END bootstrap=False, max_depth=10, max_features=auto, min_samples_leaf=1, min_samples_split=2, n_estimators=900; total time=   5.0s\n",
      "[CV] END bootstrap=False, max_depth=10, max_features=auto, min_samples_leaf=1, min_samples_split=2, n_estimators=900; total time=   5.2s\n",
      "[CV] END bootstrap=False, max_depth=10, max_features=auto, min_samples_leaf=1, min_samples_split=2, n_estimators=900; total time=   5.2s\n",
      "[CV] END bootstrap=False, max_depth=100, max_features=auto, min_samples_leaf=4, min_samples_split=5, n_estimators=20; total time=   0.0s\n",
      "[CV] END bootstrap=False, max_depth=100, max_features=auto, min_samples_leaf=4, min_samples_split=5, n_estimators=20; total time=   0.0s\n",
      "[CV] END bootstrap=False, max_depth=100, max_features=auto, min_samples_leaf=4, min_samples_split=5, n_estimators=20; total time=   0.0s\n",
      "[CV] END bootstrap=True, max_depth=20, max_features=log2, min_samples_leaf=2, min_samples_split=2, n_estimators=2000; total time=   7.8s\n",
      "[CV] END bootstrap=True, max_depth=20, max_features=log2, min_samples_leaf=2, min_samples_split=2, n_estimators=2000; total time=   8.0s\n",
      "[CV] END bootstrap=True, max_depth=20, max_features=log2, min_samples_leaf=2, min_samples_split=2, n_estimators=2000; total time=   8.1s\n",
      "[CV] END bootstrap=True, max_depth=40, max_features=auto, min_samples_leaf=2, min_samples_split=10, n_estimators=2000; total time=   8.5s\n",
      "[CV] END bootstrap=True, max_depth=40, max_features=auto, min_samples_leaf=2, min_samples_split=10, n_estimators=2000; total time=   8.8s\n",
      "[CV] END bootstrap=True, max_depth=40, max_features=auto, min_samples_leaf=2, min_samples_split=10, n_estimators=2000; total time=   8.9s\n"
     ]
    },
    {
     "data": {
      "text/plain": [
       "RandomizedSearchCV(cv=3, estimator=RandomForestClassifier(), n_iter=100,\n",
       "                   param_distributions={'bootstrap': [True, False],\n",
       "                                        'max_depth': [10, 20, 30, 40, 50, 60,\n",
       "                                                      70, 80, 90, 100, 110,\n",
       "                                                      None],\n",
       "                                        'max_features': ['auto', 'log2'],\n",
       "                                        'min_samples_leaf': [1, 2, 4],\n",
       "                                        'min_samples_split': [2, 5, 10],\n",
       "                                        'n_estimators': [20, 240, 460, 680, 900,\n",
       "                                                         1120, 1340, 1560, 1780,\n",
       "                                                         2000]},\n",
       "                   random_state=42, verbose=2)"
      ]
     },
     "execution_count": 27,
     "metadata": {},
     "output_type": "execute_result"
    }
   ],
   "source": [
    "# Use the random grid to search for best hyperparameters\n",
    "# First create the base model to tune\n",
    "rf = RandomForestClassifier()\n",
    "# Random search of parameters, using 3 fold cross validation, search across 100 different combinations\n",
    "rf_random = RandomizedSearchCV(estimator = rf, param_distributions = random_grid, n_iter = 100, cv = 3, verbose=2, random_state=42)\n",
    "# Fit the random search model\n",
    "rf_random.fit(x_train, y_train)"
   ]
  },
  {
   "cell_type": "code",
   "execution_count": 28,
   "metadata": {},
   "outputs": [
    {
     "data": {
      "text/plain": [
       "{'n_estimators': 240,\n",
       " 'min_samples_split': 10,\n",
       " 'min_samples_leaf': 4,\n",
       " 'max_features': 'log2',\n",
       " 'max_depth': 90,\n",
       " 'bootstrap': True}"
      ]
     },
     "execution_count": 28,
     "metadata": {},
     "output_type": "execute_result"
    }
   ],
   "source": [
    "rf_random.best_params_"
   ]
  },
  {
   "cell_type": "code",
   "execution_count": 38,
   "metadata": {},
   "outputs": [
    {
     "name": "stdout",
     "output_type": "stream",
     "text": [
      "Accuracy of random forest classifier on test set without hyperparameter optimization: 0.9290882778581766\n"
     ]
    }
   ],
   "source": [
    "base_model = RandomForestClassifier(n_estimators = 10, random_state = 42)\n",
    "base_model.fit(x_train, y_train)\n",
    "y_pred = base_model.predict(x_test)\n",
    "print(f'Accuracy of random forest classifier on test set without hyperparameter optimization: {base_model.score(x_test, y_test)}')"
   ]
  },
  {
   "cell_type": "code",
   "execution_count": 38,
   "metadata": {},
   "outputs": [
    {
     "name": "stdout",
     "output_type": "stream",
     "text": [
      "Accuracy of random forest classifier with 261 estimators on test set: 0.9189944134078212\n"
     ]
    }
   ],
   "source": [
    "best_random = rf_random.best_estimator_\n",
    "best_random.fit(x_train, y_train)\n",
    "y_pred = best_random.predict(x_test)\n",
    "print(f'Accuracy of random forest classifier on test set with hyperparameter optimization: {best_random.score(x_test, y_test)}')"
   ]
  },
  {
   "cell_type": "code",
   "execution_count": 39,
   "metadata": {},
   "outputs": [],
   "source": [
    "# save model\n",
    "filename = 'models/model_1_random_forest.sav'\n",
    "pickle.dump(best_random, open(filename, 'wb'))"
   ]
  },
  {
   "cell_type": "code",
   "execution_count": 40,
   "metadata": {},
   "outputs": [],
   "source": [
    "# load model\n",
    "#loaded_model = pickle.load(open('models/model_1_random_forest.sav', 'rb'))\n",
    "#y_pred = loaded_model.predict(x_test)\n",
    "#result = loaded_model.score(x_test, y_test)\n",
    "#print(result)"
   ]
  },
  {
   "cell_type": "code",
   "execution_count": 19,
   "metadata": {},
   "outputs": [
    {
     "name": "stdout",
     "output_type": "stream",
     "text": [
      "              precision    recall  f1-score   support\n",
      "\n",
      "           0       0.93      0.96      0.95       267\n",
      "           1       0.87      0.80      0.83        91\n",
      "\n",
      "    accuracy                           0.92       358\n",
      "   macro avg       0.90      0.88      0.89       358\n",
      "weighted avg       0.92      0.92      0.92       358\n",
      "\n"
     ]
    }
   ],
   "source": [
    "print(classification_report(y_test, y_pred))"
   ]
  },
  {
   "cell_type": "code",
   "execution_count": null,
   "metadata": {},
   "outputs": [],
   "source": []
  },
  {
   "cell_type": "markdown",
   "metadata": {},
   "source": [
    "#### 4.2 Extra Trees Classifier"
   ]
  },
  {
   "cell_type": "code",
   "execution_count": 16,
   "metadata": {},
   "outputs": [
    {
     "data": {
      "text/plain": [
       "ExtraTreesClassifier(random_state=17)"
      ]
     },
     "execution_count": 16,
     "metadata": {},
     "output_type": "execute_result"
    }
   ],
   "source": [
    "et = ExtraTreesClassifier(random_state=17)\n",
    "et.fit(x_train, y_train)"
   ]
  },
  {
   "cell_type": "code",
   "execution_count": 17,
   "metadata": {},
   "outputs": [
    {
     "name": "stdout",
     "output_type": "stream",
     "text": [
      "Accuracy of extra trees classifier on test set: 0.95\n"
     ]
    }
   ],
   "source": [
    "# 0.94\n",
    "y_pred = et.predict(x_test)\n",
    "print('Accuracy of extra trees classifier on test set: {:.2f}'.format(et.score(x_test, y_test)))"
   ]
  },
  {
   "cell_type": "code",
   "execution_count": 18,
   "metadata": {},
   "outputs": [
    {
     "name": "stdout",
     "output_type": "stream",
     "text": [
      "              precision    recall  f1-score   support\n",
      "\n",
      "           0       0.97      0.96      0.97       525\n",
      "           1       0.89      0.90      0.89       166\n",
      "\n",
      "    accuracy                           0.95       691\n",
      "   macro avg       0.93      0.93      0.93       691\n",
      "weighted avg       0.95      0.95      0.95       691\n",
      "\n"
     ]
    }
   ],
   "source": [
    "print(classification_report(y_test, y_pred))"
   ]
  },
  {
   "cell_type": "code",
   "execution_count": 19,
   "metadata": {},
   "outputs": [
    {
     "name": "stdout",
     "output_type": "stream",
     "text": [
      "Feature ranking:\n",
      "1. feature 19: rel_width (9.17%)\n",
      "2. feature 10: fill_r (8.54%)\n",
      "3. feature 5: emb_5 (7.42%)\n",
      "4. feature 14: diff_fill_r (6.99%)\n",
      "5. feature 22: rel_y_position (6.7%)\n",
      "6. feature 16: diff_fill_g (6.39%)\n",
      "7. feature 11: fill_g (5.43%)\n",
      "8. feature 21: rel_x_position (4.94%)\n",
      "9. feature 12: fill_b (4.37%)\n",
      "10. feature 18: diff_fill_b (4.2%)\n",
      "11. feature 13: svg_fill_r (3.9%)\n",
      "12. feature 20: rel_height (3.8%)\n",
      "13. feature 17: svg_fill_b (3.73%)\n",
      "14. feature 23: nr_paths_svg (3.62%)\n",
      "15. feature 15: svg_fill_g (3.61%)\n",
      "16. feature 0: emb_0 (2.78%)\n",
      "17. feature 8: emb_8 (2.41%)\n",
      "18. feature 2: emb_2 (2.31%)\n",
      "19. feature 3: emb_3 (2.08%)\n",
      "20. feature 6: emb_6 (1.76%)\n",
      "21. feature 1: emb_1 (1.58%)\n",
      "22. feature 7: emb_7 (1.57%)\n",
      "23. feature 4: emb_4 (1.47%)\n",
      "24. feature 9: emb_9 (1.22%)\n"
     ]
    },
    {
     "data": {
      "image/png": "[encoded data removed]",
      "text/plain": [
       "<Figure size 432x288 with 1 Axes>"
      ]
     },
     "metadata": {
      "needs_background": "light"
     },
     "output_type": "display_data"
    }
   ],
   "source": [
    "importances = et.feature_importances_\n",
    "std = np.std([tree.feature_importances_ for tree in et.estimators_], axis=0)\n",
    "indices = np.argsort(importances)[::-1]\n",
    "\n",
    "# Print the feature ranking\n",
    "print(\"Feature ranking:\")\n",
    "\n",
    "for f in range(x_train.shape[1]):\n",
    "    print(f\"{f+1}. feature {indices[f]}: {x_train.columns[indices[f]]} ({round(importances[indices[f]]*100,2)}%)\")\n",
    "\n",
    "# Plot the impurity-based feature importances of the forest\n",
    "plt.figure()\n",
    "plt.title(\"Feature importances\")\n",
    "plt.bar(range(x_train.shape[1]), importances[indices], color=\"r\", yerr=std[indices], align=\"center\")\n",
    "plt.xticks(range(x_train.shape[1]), indices)\n",
    "plt.xlim([-1, x_train.shape[1]])\n",
    "plt.show()"
   ]
  },
  {
   "cell_type": "code",
   "execution_count": null,
   "metadata": {},
   "outputs": [],
   "source": []
  },
  {
   "cell_type": "markdown",
   "metadata": {},
   "source": [
    "#### 4.3 XGBoost"
   ]
  },
  {
   "cell_type": "code",
   "execution_count": 41,
   "metadata": {},
   "outputs": [
    {
     "name": "stdout",
     "output_type": "stream",
     "text": [
      "Accuracy of XGBoost on test set: 0.93\n"
     ]
    }
   ],
   "source": [
    "# 0.93\n",
    "xgb = GradientBoostingClassifier(n_estimators=100, learning_rate=1.0, max_depth=1, random_state=0).fit(x_train, y_train)\n",
    "y_pred = xgb.predict(x_test)\n",
    "print('Accuracy of XGBoost on test set: {:.2f}'.format(xgb.score(x_test, y_test)))"
   ]
  },
  {
   "cell_type": "code",
   "execution_count": 42,
   "metadata": {},
   "outputs": [
    {
     "name": "stdout",
     "output_type": "stream",
     "text": [
      "              precision    recall  f1-score   support\n",
      "\n",
      "           0       0.94      0.97      0.95       525\n",
      "           1       0.89      0.80      0.84       166\n",
      "\n",
      "    accuracy                           0.93       691\n",
      "   macro avg       0.91      0.88      0.90       691\n",
      "weighted avg       0.93      0.93      0.93       691\n",
      "\n"
     ]
    }
   ],
   "source": [
    "print(classification_report(y_test, y_pred))"
   ]
  },
  {
   "cell_type": "markdown",
   "metadata": {},
   "source": [
    "#### 4.4 Logistic Regression"
   ]
  },
  {
   "cell_type": "markdown",
   "metadata": {},
   "source": [
    "Features which are correlated to strong are ignored"
   ]
  },
  {
   "cell_type": "code",
   "execution_count": 21,
   "metadata": {},
   "outputs": [],
   "source": [
    "x_train_lr = x_train.drop(['rel_x_position'], axis=1, errors='ignore')\n",
    "x_test_lr = x_test.drop(['rel_x_position'], axis= 1, errors='ignore')"
   ]
  },
  {
   "cell_type": "markdown",
   "metadata": {},
   "source": [
    "Now we perform the actual regression"
   ]
  },
  {
   "cell_type": "code",
   "execution_count": 23,
   "metadata": {},
   "outputs": [
    {
     "data": {
      "text/plain": [
       "LogisticRegression(max_iter=200000)"
      ]
     },
     "execution_count": 23,
     "metadata": {},
     "output_type": "execute_result"
    }
   ],
   "source": [
    "logreg = LogisticRegression(solver='lbfgs', max_iter=200000)\n",
    "logreg.fit(x_train_lr, y_train)"
   ]
  },
  {
   "cell_type": "code",
   "execution_count": 25,
   "metadata": {},
   "outputs": [
    {
     "name": "stdout",
     "output_type": "stream",
     "text": [
      "Accuracy of logistic regression classifier on test set: 0.86\n"
     ]
    }
   ],
   "source": [
    "# 0.86\n",
    "y_pred = logreg.predict(x_test_lr)\n",
    "print('Accuracy of logistic regression classifier on test set: {:.2f}'.format(logreg.score(x_test_lr, y_test)))"
   ]
  },
  {
   "cell_type": "code",
   "execution_count": null,
   "metadata": {},
   "outputs": [],
   "source": [
    "print(classification_report(y_test, y_pred))"
   ]
  },
  {
   "cell_type": "markdown",
   "metadata": {},
   "source": [
    "### Result"
   ]
  },
  {
   "cell_type": "markdown",
   "metadata": {},
   "source": [
    "Extra Trees Classifier performed best"
   ]
  },
  {
   "cell_type": "code",
   "execution_count": 20,
   "metadata": {},
   "outputs": [],
   "source": [
    "# save model\n",
    "filename = 'models/model_1_extra_trees_classifier.sav'\n",
    "pickle.dump(et, open(filename, 'wb'))"
   ]
  },
  {
   "cell_type": "code",
   "execution_count": 23,
   "metadata": {},
   "outputs": [
    {
     "name": "stdout",
     "output_type": "stream",
     "text": [
      "0.9479015918958031\n"
     ]
    }
   ],
   "source": [
    "# load model\n",
    "loaded_model = pickle.load(open(filename, 'rb'))\n",
    "result = loaded_model.score(x_test, y_test)\n",
    "print(result)"
   ]
  },
  {
   "cell_type": "code",
   "execution_count": null,
   "metadata": {},
   "outputs": [],
   "source": []
  }
 ],
 "metadata": {
  "kernelspec": {
   "display_name": "Python 3",
   "language": "python",
   "name": "python3"
  },
  "language_info": {
   "codemirror_mode": {
    "name": "ipython",
    "version": 3
   },
   "file_extension": ".py",
   "mimetype": "text/x-python",
   "name": "python",
   "nbconvert_exporter": "python",
   "pygments_lexer": "ipython3",
   "version": "3.7.9"
  }
 },
 "nbformat": 4,
 "nbformat_minor": 4
}
