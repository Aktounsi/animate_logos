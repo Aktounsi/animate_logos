{
 "cells": [
  {
   "cell_type": "code",
   "execution_count": 1,
   "metadata": {},
   "outputs": [],
   "source": [
    "import os, statistics\n",
    "from os import listdir\n",
    "from os.path import isfile, join\n",
    "from xml.dom import minidom\n",
    "from pathlib import Path\n",
    "from datetime import datetime\n",
    "from shutil import copyfile"
   ]
  },
  {
   "cell_type": "code",
   "execution_count": 2,
   "metadata": {},
   "outputs": [],
   "source": [
    "os.chdir('..')"
   ]
  },
  {
   "cell_type": "code",
   "execution_count": 3,
   "metadata": {},
   "outputs": [],
   "source": [
    "from src.preprocessing.sort_paths import *\n",
    "from src.features.get_style_attributes import *\n",
    "from src.preprocessing.decompose_logo import *"
   ]
  },
  {
   "cell_type": "markdown",
   "metadata": {},
   "source": [
    "### 1. Paths and data"
   ]
  },
  {
   "cell_type": "code",
   "execution_count": 4,
   "metadata": {},
   "outputs": [],
   "source": [
    "svgs_path = './data/svgs'\n",
    "path_selection = './data/path_selection'"
   ]
  },
  {
   "cell_type": "code",
   "execution_count": 5,
   "metadata": {},
   "outputs": [],
   "source": [
    "logos = [f[:-4] for f in listdir(svgs_path) if isfile(join(svgs_path, f))]"
   ]
  },
  {
   "cell_type": "markdown",
   "metadata": {},
   "source": [
    "### 2. Decompose SVGs\n",
    "Creates folder data/decomposed_svgs"
   ]
  },
  {
   "cell_type": "code",
   "execution_count": 6,
   "metadata": {},
   "outputs": [
    {
     "name": "stdout",
     "output_type": "stream",
     "text": [
      "Current logo 1/192: logo_0\n",
      "Current logo 21/192: logo_116\n",
      "Current logo 41/192: logo_134\n",
      "Current logo 61/192: logo_152\n",
      "Current logo 81/192: logo_170\n",
      "Current logo 101/192: logo_189\n",
      "Current logo 121/192: logo_34\n",
      "Current logo 141/192: logo_52\n",
      "Current logo 161/192: logo_70\n",
      "Current logo 181/192: logo_89\n",
      "Time: 0:00:52.932978\n"
     ]
    }
   ],
   "source": [
    "start = datetime.now()\n",
    "for i, logo in enumerate(logos):\n",
    "    if (i) % 20 == 0:\n",
    "        print(f'Current logo {i+1}/{len(logos)}: {logo}')\n",
    "    decompose_logo(f'{svgs_path}/{logo}.svg')\n",
    "print(f'Time: {datetime.now() - start}')"
   ]
  },
  {
   "cell_type": "markdown",
   "metadata": {},
   "source": [
    "### 3. Create folders with logo PNGs for path selection\n",
    "Creates folder data/path_selection, requires folder data/decomposed_svgs"
   ]
  },
  {
   "cell_type": "code",
   "execution_count": 8,
   "metadata": {},
   "outputs": [
    {
     "name": "stdout",
     "output_type": "stream",
     "text": [
      "Current logo 1/192: logo_0\n",
      "Current logo 21/192: logo_116\n",
      "Current logo 41/192: logo_134\n",
      "Current logo 61/192: logo_152\n",
      "Current logo 81/192: logo_170\n",
      "Current logo 101/192: logo_189\n",
      "Current logo 121/192: logo_34\n",
      "Current logo 141/192: logo_52\n",
      "Current logo 161/192: logo_70\n",
      "Current logo 181/192: logo_89\n",
      "Time: 0:07:56.598909\n"
     ]
    }
   ],
   "source": [
    "start = datetime.now()\n",
    "for i, logo in enumerate(logos):\n",
    "    if (i) % 20 == 0:\n",
    "        print(f'Current logo {i+1}/{len(logos)}: {logo}')\n",
    "    delete_paths(logo)\n",
    "print(f'Time: {datetime.now() - start}')"
   ]
  },
  {
   "cell_type": "markdown",
   "metadata": {},
   "source": [
    "### 4. Retrieve not embedded paths"
   ]
  },
  {
   "cell_type": "code",
   "execution_count": 6,
   "metadata": {},
   "outputs": [],
   "source": [
    "paths = [f[:-4] for f in listdir('./data/decomposed_svgs') if isfile(join('./data/decomposed_svgs', f))]\n",
    "path_embeddings = pd.read_pickle('data/path_embedding.pkl')\n",
    "path_embeddings['path_file'] = path_embeddings.apply(lambda row: '_'.join([row['filename'], row['animation_id']]), axis=1)\n",
    "embedded_paths = list(path_embeddings['path_file'])"
   ]
  },
  {
   "cell_type": "code",
   "execution_count": 7,
   "metadata": {},
   "outputs": [],
   "source": [
    "not_embedded_paths = list(set(paths) - set(embedded_paths))"
   ]
  },
  {
   "cell_type": "markdown",
   "metadata": {},
   "source": [
    "### 5. Create folder with seleced paths for each logo\n",
    "Creates folder data/selected_paths, requires folder data/path_selection"
   ]
  },
  {
   "cell_type": "code",
   "execution_count": 8,
   "metadata": {
    "scrolled": true
   },
   "outputs": [
    {
     "name": "stdout",
     "output_type": "stream",
     "text": [
      "2021-03-30 13:12:37::INFO::Current logo: 0/192\n",
      "2021-03-30 13:12:38::WARNING::No embedding for path logo_0_10, actual MSE would be: 0.007172810461593753\n",
      "2021-03-30 13:12:38::WARNING::No embedding for path logo_0_11, actual MSE would be: 0.000590882989993921\n",
      "2021-03-30 13:12:38::WARNING::No embedding for path logo_0_12, actual MSE would be: 0.000529988498422822\n",
      "2021-03-30 13:12:38::WARNING::No embedding for path logo_0_13, actual MSE would be: 0.0005129584657534013\n",
      "2021-03-30 13:12:38::WARNING::No embedding for path logo_0_14, actual MSE would be: 0.0007062467113992621\n",
      "2021-03-30 13:12:38::WARNING::No embedding for path logo_0_15, actual MSE would be: 0.0007425181499121135\n",
      "2021-03-30 13:12:38::WARNING::Number of missed relevant paths due to embedding: 1\n",
      "2021-03-30 13:12:39::WARNING::No embedding for path logo_100_0, actual MSE would be: 0.011804832882345781\n",
      "2021-03-30 13:12:39::WARNING::Number of missed relevant paths due to embedding: 1\n",
      "2021-03-30 13:12:48::INFO::Current logo: 20/192\n",
      "2021-03-30 13:12:54::WARNING::No embedding for path logo_126_14, actual MSE would be: 0.0\n",
      "2021-03-30 13:12:55::WARNING::No embedding for path logo_126_37, actual MSE would be: 0.0\n",
      "2021-03-30 13:12:56::WARNING::No embedding for path logo_126_55, actual MSE would be: 0.0\n",
      "2021-03-30 13:12:56::WARNING::No embedding for path logo_126_58, actual MSE would be: 0.0\n",
      "2021-03-30 13:13:02::INFO::Current logo: 40/192\n",
      "2021-03-30 13:13:07::INFO::Current logo: 60/192\n",
      "2021-03-30 13:13:08::WARNING::No embedding for path logo_156_19, actual MSE would be: 0.005835278488170815\n",
      "2021-03-30 13:13:08::WARNING::Number of missed relevant paths due to embedding: 1\n",
      "2021-03-30 13:13:17::INFO::Current logo: 80/192\n",
      "2021-03-30 13:13:19::WARNING::No embedding for path logo_173_0, actual MSE would be: 0.007025767715478235\n",
      "2021-03-30 13:13:19::WARNING::Number of missed relevant paths due to embedding: 1\n",
      "2021-03-30 13:13:19::WARNING::No embedding for path logo_174_0, actual MSE would be: 0.0\n",
      "2021-03-30 13:13:19::WARNING::No embedding for path logo_174_11, actual MSE would be: 0.02789641143782168\n",
      "2021-03-30 13:13:19::WARNING::No embedding for path logo_174_12, actual MSE would be: 0.0010779761792912756\n",
      "2021-03-30 13:13:19::WARNING::Number of missed relevant paths due to embedding: 3\n",
      "2021-03-30 13:13:24::INFO::Current logo: 100/192\n",
      "2021-03-30 13:13:32::WARNING::No embedding for path logo_27_134, actual MSE would be: 0.012430055959283242\n",
      "2021-03-30 13:13:32::WARNING::Number of missed relevant paths due to embedding: 1\n",
      "2021-03-30 13:13:34::WARNING::No embedding for path logo_28_126, actual MSE would be: 0.012430055959283242\n",
      "2021-03-30 13:13:34::WARNING::No embedding for path logo_28_128, actual MSE would be: 0.017532040760846343\n",
      "2021-03-30 13:13:34::WARNING::Number of missed relevant paths due to embedding: 2\n",
      "2021-03-30 13:13:36::WARNING::No embedding for path logo_29_134, actual MSE would be: 0.013221075263990066\n",
      "2021-03-30 13:13:36::WARNING::Number of missed relevant paths due to embedding: 1\n",
      "2021-03-30 13:13:44::WARNING::No embedding for path logo_32_134, actual MSE would be: 0.009884810176076505\n",
      "2021-03-30 13:13:44::WARNING::Number of missed relevant paths due to embedding: 1\n",
      "2021-03-30 13:13:49::WARNING::No embedding for path logo_33_135, actual MSE would be: 0.0036259179297240805\n",
      "2021-03-30 13:13:49::WARNING::Number of missed relevant paths due to embedding: 1\n",
      "2021-03-30 13:13:49::INFO::Current logo: 120/192\n",
      "2021-03-30 13:13:52::WARNING::No embedding for path logo_34_134, actual MSE would be: 0.009395384055702342\n",
      "2021-03-30 13:13:52::WARNING::Number of missed relevant paths due to embedding: 1\n",
      "2021-03-30 13:13:54::WARNING::No embedding for path logo_36_0, actual MSE would be: 0.0054657635854582845\n",
      "2021-03-30 13:13:54::WARNING::Number of missed relevant paths due to embedding: 1\n",
      "2021-03-30 13:13:54::WARNING::No embedding for path logo_37_0, actual MSE would be: 0.006348252158870009\n",
      "2021-03-30 13:13:54::WARNING::Number of missed relevant paths due to embedding: 1\n",
      "2021-03-30 13:14:03::INFO::Current logo: 140/192\n",
      "2021-03-30 13:14:05::WARNING::No embedding for path logo_57_1, actual MSE would be: 0.002663417746477193\n",
      "2021-03-30 13:14:05::WARNING::Number of missed relevant paths due to embedding: 1\n",
      "2021-03-30 13:14:08::INFO::Current logo: 160/192\n",
      "2021-03-30 13:14:43::INFO::Current logo: 180/192\n",
      "2021-03-30 13:14:44::WARNING::No embedding for path logo_91_21, actual MSE would be: 0.007484646872214394\n",
      "2021-03-30 13:14:44::WARNING::Number of missed relevant paths due to embedding: 1\n",
      "2021-03-30 13:14:50::INFO::Total number of missed paths: 18\n",
      "2021-03-30 13:14:50::INFO::Time: 0:02:12.589785\n"
     ]
    }
   ],
   "source": [
    "missed_paths = select_paths(svgs_path, not_embedded_paths=not_embedded_paths)"
   ]
  },
  {
   "cell_type": "code",
   "execution_count": 11,
   "metadata": {},
   "outputs": [
    {
     "data": {
      "text/plain": [
       "['logo_0_10',\n",
       " 'logo_100_0',\n",
       " 'logo_156_19',\n",
       " 'logo_173_0',\n",
       " 'logo_174_0',\n",
       " 'logo_174_11',\n",
       " 'logo_174_12',\n",
       " 'logo_27_134',\n",
       " 'logo_28_126',\n",
       " 'logo_28_128',\n",
       " 'logo_29_134',\n",
       " 'logo_32_134',\n",
       " 'logo_33_135',\n",
       " 'logo_34_134',\n",
       " 'logo_36_0',\n",
       " 'logo_37_0',\n",
       " 'logo_57_1',\n",
       " 'logo_91_21']"
      ]
     },
     "execution_count": 11,
     "metadata": {},
     "output_type": "execute_result"
    }
   ],
   "source": [
    "missed_paths"
   ]
  },
  {
   "cell_type": "markdown",
   "metadata": {},
   "source": [
    "### 6. Truncate SVGs to most relevant paths\n",
    "Creates folder data/truncated_svgs, requires folder data/path_selection"
   ]
  },
  {
   "cell_type": "code",
   "execution_count": 12,
   "metadata": {
    "scrolled": true
   },
   "outputs": [
    {
     "name": "stdout",
     "output_type": "stream",
     "text": [
      "2021-03-30 13:24:53::INFO::Current logo 0/192: logo_0\n",
      "2021-03-30 13:24:53::WARNING::No embedding for path logo_0_10, actual MSE would be: 0.007172810461593753\n",
      "2021-03-30 13:24:53::WARNING::No embedding for path logo_0_11, actual MSE would be: 0.000590882989993921\n",
      "2021-03-30 13:24:53::WARNING::No embedding for path logo_0_12, actual MSE would be: 0.000529988498422822\n",
      "2021-03-30 13:24:54::WARNING::No embedding for path logo_0_13, actual MSE would be: 0.0005129584657534013\n",
      "2021-03-30 13:24:54::WARNING::No embedding for path logo_0_14, actual MSE would be: 0.0007062467113992621\n",
      "2021-03-30 13:24:54::WARNING::No embedding for path logo_0_15, actual MSE would be: 0.0007425181499121135\n",
      "2021-03-30 13:24:54::WARNING::Number of missed relevant paths due to embedding: 1\n",
      "2021-03-30 13:24:54::WARNING::No embedding for path logo_100_0, actual MSE would be: 0.011804832882345781\n",
      "2021-03-30 13:24:55::WARNING::Number of missed relevant paths due to embedding: 1\n",
      "2021-03-30 13:25:01::INFO::Current logo 20/192: logo_116\n",
      "2021-03-30 13:25:05::WARNING::No embedding for path logo_126_14, actual MSE would be: 0.0\n",
      "2021-03-30 13:25:05::WARNING::No embedding for path logo_126_37, actual MSE would be: 0.0\n",
      "2021-03-30 13:25:06::WARNING::No embedding for path logo_126_55, actual MSE would be: 0.0\n",
      "2021-03-30 13:25:06::WARNING::No embedding for path logo_126_58, actual MSE would be: 0.0\n",
      "2021-03-30 13:25:10::INFO::Current logo 40/192: logo_134\n",
      "2021-03-30 13:25:12::INFO::Current logo 60/192: logo_152\n",
      "2021-03-30 13:25:13::WARNING::No embedding for path logo_156_19, actual MSE would be: 0.005835278488170815\n",
      "2021-03-30 13:25:13::WARNING::Number of missed relevant paths due to embedding: 1\n",
      "2021-03-30 13:25:17::INFO::Current logo 80/192: logo_170\n",
      "2021-03-30 13:25:18::WARNING::No embedding for path logo_173_0, actual MSE would be: 0.007025767715478235\n",
      "2021-03-30 13:25:19::WARNING::Number of missed relevant paths due to embedding: 1\n",
      "2021-03-30 13:25:19::WARNING::No embedding for path logo_174_0, actual MSE would be: 0.0\n",
      "2021-03-30 13:25:19::WARNING::No embedding for path logo_174_11, actual MSE would be: 0.02789641143782168\n",
      "2021-03-30 13:25:19::WARNING::No embedding for path logo_174_12, actual MSE would be: 0.0010779761792912756\n",
      "2021-03-30 13:25:19::WARNING::Number of missed relevant paths due to embedding: 3\n",
      "2021-03-30 13:25:21::INFO::Current logo 100/192: logo_189\n",
      "2021-03-30 13:25:26::WARNING::No embedding for path logo_27_134, actual MSE would be: 0.012430055959283242\n",
      "2021-03-30 13:25:26::WARNING::Number of missed relevant paths due to embedding: 1\n",
      "2021-03-30 13:25:27::WARNING::No embedding for path logo_28_126, actual MSE would be: 0.012430055959283242\n",
      "2021-03-30 13:25:27::WARNING::No embedding for path logo_28_128, actual MSE would be: 0.017532040760846343\n",
      "2021-03-30 13:25:27::WARNING::Number of missed relevant paths due to embedding: 2\n",
      "2021-03-30 13:25:28::WARNING::No embedding for path logo_29_134, actual MSE would be: 0.013221075263990066\n",
      "2021-03-30 13:25:28::WARNING::Number of missed relevant paths due to embedding: 1\n",
      "2021-03-30 13:25:35::WARNING::No embedding for path logo_32_134, actual MSE would be: 0.009884810176076505\n",
      "2021-03-30 13:25:35::WARNING::Number of missed relevant paths due to embedding: 1\n",
      "2021-03-30 13:25:41::WARNING::No embedding for path logo_33_135, actual MSE would be: 0.0036259179297240805\n",
      "2021-03-30 13:25:41::WARNING::Number of missed relevant paths due to embedding: 1\n",
      "2021-03-30 13:25:41::INFO::Current logo 120/192: logo_34\n",
      "2021-03-30 13:25:45::WARNING::No embedding for path logo_34_134, actual MSE would be: 0.009395384055702342\n",
      "2021-03-30 13:25:45::WARNING::Number of missed relevant paths due to embedding: 1\n",
      "2021-03-30 13:25:48::WARNING::No embedding for path logo_36_0, actual MSE would be: 0.0054657635854582845\n",
      "2021-03-30 13:25:48::WARNING::Number of missed relevant paths due to embedding: 1\n",
      "2021-03-30 13:25:48::WARNING::No embedding for path logo_37_0, actual MSE would be: 0.006348252158870009\n",
      "2021-03-30 13:25:48::WARNING::Number of missed relevant paths due to embedding: 1\n",
      "2021-03-30 13:25:58::INFO::Current logo 140/192: logo_52\n",
      "2021-03-30 13:26:01::WARNING::No embedding for path logo_57_1, actual MSE would be: 0.002663417746477193\n",
      "2021-03-30 13:26:01::WARNING::Number of missed relevant paths due to embedding: 1\n",
      "2021-03-30 13:26:05::INFO::Current logo 160/192: logo_70\n",
      "2021-03-30 13:26:45::INFO::Current logo 180/192: logo_89\n",
      "2021-03-30 13:26:46::WARNING::No embedding for path logo_91_21, actual MSE would be: 0.007484646872214394\n",
      "2021-03-30 13:26:46::WARNING::Number of missed relevant paths due to embedding: 1\n",
      "2021-03-30 13:26:53::INFO::Time: 0:02:00.110975\n"
     ]
    }
   ],
   "source": [
    "truncate_svgs(svgs_path, not_embedded_paths=not_embedded_paths)"
   ]
  }
 ],
 "metadata": {
  "kernelspec": {
   "display_name": "Python 3",
   "language": "python",
   "name": "python3"
  },
  "language_info": {
   "codemirror_mode": {
    "name": "ipython",
    "version": 3
   },
   "file_extension": ".py",
   "mimetype": "text/x-python",
   "name": "python",
   "nbconvert_exporter": "python",
   "pygments_lexer": "ipython3",
   "version": "3.8.5"
  }
 },
 "nbformat": 4,
 "nbformat_minor": 4
}
