{
 "cells": [
  {
   "cell_type": "code",
   "execution_count": 1,
   "metadata": {},
   "outputs": [],
   "source": [
    "import os, statistics\n",
    "from os import listdir\n",
    "from os.path import isfile, join\n",
    "from xml.dom import minidom\n",
    "from pathlib import Path\n",
    "from datetime import datetime\n",
    "from shutil import copyfile"
   ]
  },
  {
   "cell_type": "code",
   "execution_count": 2,
   "metadata": {},
   "outputs": [],
   "source": [
    "os.chdir('..')"
   ]
  },
  {
   "cell_type": "code",
   "execution_count": 3,
   "metadata": {},
   "outputs": [],
   "source": [
    "from src.preprocessing.sort_paths import *\n",
    "from src.features.get_style_attributes import *\n",
    "from src.preprocessing.decompose_logo import *"
   ]
  },
  {
   "cell_type": "markdown",
   "metadata": {},
   "source": [
    "### Paths and data"
   ]
  },
  {
   "cell_type": "code",
   "execution_count": 4,
   "metadata": {},
   "outputs": [],
   "source": [
    "svgs_path = './data/svgs'\n",
    "path_selection = './data/path_selection'"
   ]
  },
  {
   "cell_type": "code",
   "execution_count": 5,
   "metadata": {},
   "outputs": [],
   "source": [
    "logos = [f[:-4] for f in listdir(svgs_path) if isfile(join(svgs_path, f))]"
   ]
  },
  {
   "cell_type": "markdown",
   "metadata": {},
   "source": [
    "### Decompose logos"
   ]
  },
  {
   "cell_type": "code",
   "execution_count": 7,
   "metadata": {},
   "outputs": [
    {
     "name": "stdout",
     "output_type": "stream",
     "text": [
      "Current logo 1/192: logo_0\n",
      "Current logo 21/192: logo_116\n",
      "Current logo 41/192: logo_134\n",
      "Current logo 61/192: logo_152\n",
      "Current logo 81/192: logo_170\n",
      "Current logo 101/192: logo_189\n",
      "Current logo 121/192: logo_34\n",
      "Current logo 141/192: logo_52\n",
      "Current logo 161/192: logo_70\n",
      "Current logo 181/192: logo_89\n",
      "Time: 0:00:51.417307\n"
     ]
    }
   ],
   "source": [
    "start = datetime.now()\n",
    "for i, logo in enumerate(logos):\n",
    "    if (i) % 20 == 0:\n",
    "        print(f'Current logo {i+1}/{len(logos)}: {logo}')\n",
    "    decompose_logo(f'{svgs_path}/{logo}.svg')\n",
    "print(f'Time: {datetime.now() - start}')"
   ]
  },
  {
   "cell_type": "markdown",
   "metadata": {},
   "source": [
    "### Create folders with logo PNGs for path selection"
   ]
  },
  {
   "cell_type": "code",
   "execution_count": 8,
   "metadata": {},
   "outputs": [
    {
     "name": "stdout",
     "output_type": "stream",
     "text": [
      "Current logo 1/192: logo_0\n",
      "Current logo 21/192: logo_116\n",
      "Current logo 41/192: logo_134\n",
      "Current logo 61/192: logo_152\n",
      "Current logo 81/192: logo_170\n",
      "Current logo 101/192: logo_189\n",
      "Current logo 121/192: logo_34\n",
      "Current logo 141/192: logo_52\n",
      "Current logo 161/192: logo_70\n",
      "Current logo 181/192: logo_89\n",
      "Time: 0:07:56.598909\n"
     ]
    }
   ],
   "source": [
    "start = datetime.now()\n",
    "for i, logo in enumerate(logos):\n",
    "    if (i) % 20 == 0:\n",
    "        print(f'Current logo {i+1}/{len(logos)}: {logo}')\n",
    "    delete_paths(logo)\n",
    "print(f'Time: {datetime.now() - start}')"
   ]
  },
  {
   "cell_type": "markdown",
   "metadata": {},
   "source": [
    "### Retrieve not embedded paths"
   ]
  },
  {
   "cell_type": "code",
   "execution_count": 6,
   "metadata": {},
   "outputs": [],
   "source": [
    "paths = [f[:-4] for f in listdir('./data/decomposed_svgs') if isfile(join('./data/decomposed_svgs', f))]\n",
    "path_embeddings = pd.read_pickle('data/path_embedding.pkl')\n",
    "path_embeddings['path_file'] = path_embeddings.apply(lambda row: '_'.join([row['filename'], row['animation_id']]), axis=1)\n",
    "embedded_paths = list(path_embeddings['path_file'])"
   ]
  },
  {
   "cell_type": "code",
   "execution_count": 7,
   "metadata": {},
   "outputs": [],
   "source": [
    "not_embedded_paths = list(set(paths) - set(embedded_paths))"
   ]
  },
  {
   "cell_type": "markdown",
   "metadata": {},
   "source": [
    "### Create folder with seleced paths for each logo"
   ]
  },
  {
   "cell_type": "code",
   "execution_count": 8,
   "metadata": {
    "scrolled": true
   },
   "outputs": [
    {
     "name": "stdout",
     "output_type": "stream",
     "text": [
      "Current logo: 0/192\n",
      "No path embedding for animation ID 10 in logo logo_0, actual MSE would be: 0.007172810461593753\n",
      "No path embedding for animation ID 11 in logo logo_0, actual MSE would be: 0.000590882989993921\n",
      "No path embedding for animation ID 12 in logo logo_0, actual MSE would be: 0.000529988498422822\n",
      "No path embedding for animation ID 13 in logo logo_0, actual MSE would be: 0.0005129584657534013\n",
      "No path embedding for animation ID 14 in logo logo_0, actual MSE would be: 0.0007062467113992621\n",
      "No path embedding for animation ID 15 in logo logo_0, actual MSE would be: 0.0007425181499121135\n",
      ">>> Number of missed relevant paths due to embedding: 1\n",
      "No path embedding for animation ID 0 in logo logo_100, actual MSE would be: 0.011804832882345781\n",
      ">>> Number of missed relevant paths due to embedding: 1\n",
      "Current logo: 20/192\n",
      "No path embedding for animation ID 14 in logo logo_126, actual MSE would be: 0.0\n",
      "No path embedding for animation ID 37 in logo logo_126, actual MSE would be: 0.0\n",
      "No path embedding for animation ID 55 in logo logo_126, actual MSE would be: 0.0\n",
      "No path embedding for animation ID 58 in logo logo_126, actual MSE would be: 0.0\n",
      "Current logo: 40/192\n",
      "Current logo: 60/192\n",
      "No path embedding for animation ID 19 in logo logo_156, actual MSE would be: 0.005835278488170815\n",
      ">>> Number of missed relevant paths due to embedding: 1\n",
      "Current logo: 80/192\n",
      "No path embedding for animation ID 0 in logo logo_173, actual MSE would be: 0.007025767715478235\n",
      ">>> Number of missed relevant paths due to embedding: 1\n",
      "No path embedding for animation ID 0 in logo logo_174, actual MSE would be: 0.0\n",
      "No path embedding for animation ID 11 in logo logo_174, actual MSE would be: 0.02789641143782168\n",
      "No path embedding for animation ID 12 in logo logo_174, actual MSE would be: 0.0010779761792912756\n",
      ">>> Number of missed relevant paths due to embedding: 3\n",
      "Current logo: 100/192\n",
      "No path embedding for animation ID 134 in logo logo_27, actual MSE would be: 0.012430055959283242\n",
      ">>> Number of missed relevant paths due to embedding: 1\n",
      "No path embedding for animation ID 126 in logo logo_28, actual MSE would be: 0.012430055959283242\n",
      "No path embedding for animation ID 128 in logo logo_28, actual MSE would be: 0.017532040760846343\n",
      ">>> Number of missed relevant paths due to embedding: 2\n",
      "No path embedding for animation ID 134 in logo logo_29, actual MSE would be: 0.013221075263990066\n",
      ">>> Number of missed relevant paths due to embedding: 1\n",
      "No path embedding for animation ID 134 in logo logo_32, actual MSE would be: 0.009884810176076505\n",
      ">>> Number of missed relevant paths due to embedding: 1\n",
      "No path embedding for animation ID 135 in logo logo_33, actual MSE would be: 0.0036259179297240805\n",
      ">>> Number of missed relevant paths due to embedding: 1\n",
      "Current logo: 120/192\n",
      "No path embedding for animation ID 134 in logo logo_34, actual MSE would be: 0.009395384055702342\n",
      ">>> Number of missed relevant paths due to embedding: 1\n",
      "No path embedding for animation ID 0 in logo logo_36, actual MSE would be: 0.0054657635854582845\n",
      ">>> Number of missed relevant paths due to embedding: 1\n",
      "No path embedding for animation ID 0 in logo logo_37, actual MSE would be: 0.006348252158870009\n",
      ">>> Number of missed relevant paths due to embedding: 1\n",
      "Current logo: 140/192\n",
      "No path embedding for animation ID 1 in logo logo_57, actual MSE would be: 0.002663417746477193\n",
      ">>> Number of missed relevant paths due to embedding: 1\n",
      "Current logo: 160/192\n",
      "Current logo: 180/192\n",
      "No path embedding for animation ID 21 in logo logo_91, actual MSE would be: 0.007484646872214394\n",
      ">>> Number of missed relevant paths due to embedding: 1\n",
      "Time: 0:02:06.221391\n",
      "Total number of missed paths: 18\n"
     ]
    }
   ],
   "source": [
    "select_paths(svgs_path, not_embedded_paths=not_embedded_paths)"
   ]
  },
  {
   "cell_type": "markdown",
   "metadata": {},
   "source": [
    "### Truncate SVGs to most relevant paths"
   ]
  },
  {
   "cell_type": "code",
   "execution_count": 8,
   "metadata": {
    "scrolled": true
   },
   "outputs": [
    {
     "name": "stdout",
     "output_type": "stream",
     "text": [
      "Current logo 0/192: logo_0\n",
      "No path embedding for animation ID 10 in logo logo_0, actual MSE would be: 0.007172810461593753\n",
      "No path embedding for animation ID 11 in logo logo_0, actual MSE would be: 0.000590882989993921\n",
      "No path embedding for animation ID 12 in logo logo_0, actual MSE would be: 0.000529988498422822\n",
      "No path embedding for animation ID 13 in logo logo_0, actual MSE would be: 0.0005129584657534013\n",
      "No path embedding for animation ID 14 in logo logo_0, actual MSE would be: 0.0007062467113992621\n",
      "No path embedding for animation ID 15 in logo logo_0, actual MSE would be: 0.0007425181499121135\n",
      ">>> Number of missed relevant paths due to embedding: 1\n",
      "No path embedding for animation ID 0 in logo logo_100, actual MSE would be: 0.011804832882345781\n",
      ">>> Number of missed relevant paths due to embedding: 1\n",
      "Current logo 20/192: logo_116\n",
      "No path embedding for animation ID 14 in logo logo_126, actual MSE would be: 0.0\n",
      "No path embedding for animation ID 37 in logo logo_126, actual MSE would be: 0.0\n",
      "No path embedding for animation ID 55 in logo logo_126, actual MSE would be: 0.0\n",
      "No path embedding for animation ID 58 in logo logo_126, actual MSE would be: 0.0\n",
      "Current logo 40/192: logo_134\n",
      "Current logo 60/192: logo_152\n",
      "No path embedding for animation ID 19 in logo logo_156, actual MSE would be: 0.005835278488170815\n",
      ">>> Number of missed relevant paths due to embedding: 1\n",
      "Current logo 80/192: logo_170\n",
      "No path embedding for animation ID 0 in logo logo_173, actual MSE would be: 0.007025767715478235\n",
      ">>> Number of missed relevant paths due to embedding: 1\n",
      "No path embedding for animation ID 0 in logo logo_174, actual MSE would be: 0.0\n",
      "No path embedding for animation ID 11 in logo logo_174, actual MSE would be: 0.02789641143782168\n",
      "No path embedding for animation ID 12 in logo logo_174, actual MSE would be: 0.0010779761792912756\n",
      ">>> Number of missed relevant paths due to embedding: 3\n",
      "Current logo 100/192: logo_189\n",
      "No path embedding for animation ID 134 in logo logo_27, actual MSE would be: 0.012430055959283242\n",
      ">>> Number of missed relevant paths due to embedding: 1\n",
      "No path embedding for animation ID 126 in logo logo_28, actual MSE would be: 0.012430055959283242\n",
      "No path embedding for animation ID 128 in logo logo_28, actual MSE would be: 0.017532040760846343\n",
      ">>> Number of missed relevant paths due to embedding: 2\n",
      "No path embedding for animation ID 134 in logo logo_29, actual MSE would be: 0.013221075263990066\n",
      ">>> Number of missed relevant paths due to embedding: 1\n",
      "No path embedding for animation ID 134 in logo logo_32, actual MSE would be: 0.009884810176076505\n",
      ">>> Number of missed relevant paths due to embedding: 1\n",
      "No path embedding for animation ID 135 in logo logo_33, actual MSE would be: 0.0036259179297240805\n",
      ">>> Number of missed relevant paths due to embedding: 1\n",
      "Current logo 120/192: logo_34\n",
      "No path embedding for animation ID 134 in logo logo_34, actual MSE would be: 0.009395384055702342\n",
      ">>> Number of missed relevant paths due to embedding: 1\n",
      "No path embedding for animation ID 0 in logo logo_36, actual MSE would be: 0.0054657635854582845\n",
      ">>> Number of missed relevant paths due to embedding: 1\n",
      "No path embedding for animation ID 0 in logo logo_37, actual MSE would be: 0.006348252158870009\n",
      ">>> Number of missed relevant paths due to embedding: 1\n",
      "Current logo 140/192: logo_52\n",
      "No path embedding for animation ID 1 in logo logo_57, actual MSE would be: 0.002663417746477193\n",
      ">>> Number of missed relevant paths due to embedding: 1\n",
      "Current logo 160/192: logo_70\n",
      "Current logo 180/192: logo_89\n",
      "No path embedding for animation ID 21 in logo logo_91, actual MSE would be: 0.007484646872214394\n",
      ">>> Number of missed relevant paths due to embedding: 1\n"
     ]
    }
   ],
   "source": [
    "truncate_svgs(svgs_path, not_embedded_paths=not_embedded_paths)"
   ]
  }
 ],
 "metadata": {
  "kernelspec": {
   "display_name": "Python 3",
   "language": "python",
   "name": "python3"
  },
  "language_info": {
   "codemirror_mode": {
    "name": "ipython",
    "version": 3
   },
   "file_extension": ".py",
   "mimetype": "text/x-python",
   "name": "python",
   "nbconvert_exporter": "python",
   "pygments_lexer": "ipython3",
   "version": "3.8.5"
  }
 },
 "nbformat": 4,
 "nbformat_minor": 4
}
