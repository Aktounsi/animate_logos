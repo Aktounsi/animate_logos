{
 "cells": [
  {
   "cell_type": "markdown",
   "metadata": {},
   "source": [
    "## SVG Pipeline"
   ]
  },
  {
   "cell_type": "code",
   "execution_count": 1,
   "metadata": {},
   "outputs": [],
   "source": [
    "import os\n",
    "os.chdir(\"..\")\n",
    "from src.pipeline import *"
   ]
  },
  {
   "cell_type": "markdown",
   "metadata": {},
   "source": [
    "#### Load Logo"
   ]
  },
  {
   "cell_type": "code",
<<<<<<< HEAD
   "execution_count": 2,
   "metadata": {},
   "outputs": [],
   "source": [
    "logo = Logo(data_dir=\"data/website/Hannover_96_Logo.svg\")"
=======
   "execution_count": 5,
   "metadata": {},
   "outputs": [],
   "source": [
    "logo = Logo(data_dir=\"data/website/Bayer.svg\")"
>>>>>>> b9c7b08918e96b0976b8ec3f2e37f078bf561bed
   ]
  },
  {
   "cell_type": "markdown",
   "metadata": {},
   "source": [
    "#### Print logo information"
   ]
  },
  {
   "cell_type": "code",
<<<<<<< HEAD
   "execution_count": 3,
=======
   "execution_count": 6,
>>>>>>> b9c7b08918e96b0976b8ec3f2e37f078bf561bed
   "metadata": {},
   "outputs": [
    {
     "name": "stdout",
     "output_type": "stream",
     "text": [
      "--------------------------- Logo Information ---------------------------\n",
<<<<<<< HEAD
      "data_dir: data/website/Hannover_96_Logo.svg\n",
      "parsed_doc: <xml.dom.minidom.Document object at 0x7fa42fba6b80>\n",
      "nr_paths: 8\n",
      "animation_ids: [0, 1, 2, 3, 4, 5, 6, 7]\n",
      "width, height: 566.0, 498.643\n",
      "bbox: 0.0, 566.0, -5.684341886080802e-14, 498.64200000000005\n"
=======
      "data_dir: data/website/Bayer.svg\n",
      "parsed_doc: <xml.dom.minidom.Document object at 0x000001DDA05EEDC8>\n",
      "nr_paths: 3\n",
      "animation_ids: [0, 1, 2]\n",
      "width, height: 120.0, 120.0\n",
      "bbox: 0.19999999999999998, 76.20000000000003, 0.0, 76.00000000000003\n"
>>>>>>> b9c7b08918e96b0976b8ec3f2e37f078bf561bed
     ]
    }
   ],
   "source": [
    "logo.print_logo_information()"
   ]
  },
  {
   "cell_type": "markdown",
   "metadata": {},
   "source": [
    "#### Create Animations\n",
    "Animations are saved to the same folder."
   ]
  },
  {
   "cell_type": "code",
<<<<<<< HEAD
   "execution_count": 4,
=======
   "execution_count": 7,
>>>>>>> b9c7b08918e96b0976b8ec3f2e37f078bf561bed
   "metadata": {},
   "outputs": [
    {
     "name": "stdout",
     "output_type": "stream",
     "text": [
<<<<<<< HEAD
      "2021-04-30 15:39:30::INFO::Number of animated paths: 8/8\n",
      "2021-04-30 15:39:30::INFO::Non-animated paths won't be used for training\n",
      "2021-04-30 15:39:30::INFO::Start extraction midpoint of animated paths as feature\n",
      "Academic license - for non-commercial use only - expires 2021-06-18\n",
      "Using license file /Users/jani/gurobi.lic\n"
=======
      "2021-05-02 16:17:59::INFO::Number of animated paths: 3/3\n",
      "2021-05-02 16:17:59::INFO::Non-animated paths won't be used for training\n",
      "2021-05-02 16:17:59::INFO::Start extraction midpoint of animated paths as feature\n"
>>>>>>> b9c7b08918e96b0976b8ec3f2e37f078bf561bed
     ]
    }
   ],
   "source": [
<<<<<<< HEAD
    "logo.animate()"
=======
    "logo.animate(model='ga')"
>>>>>>> b9c7b08918e96b0976b8ec3f2e37f078bf561bed
   ]
  },
  {
   "cell_type": "code",
   "execution_count": null,
   "metadata": {},
   "outputs": [],
   "source": []
  }
 ],
 "metadata": {
  "kernelspec": {
   "display_name": "animate_logos",
   "language": "python",
   "name": "animate_logos"
  },
  "language_info": {
   "codemirror_mode": {
    "name": "ipython",
    "version": 3
   },
   "file_extension": ".py",
   "mimetype": "text/x-python",
   "name": "python",
   "nbconvert_exporter": "python",
   "pygments_lexer": "ipython3",
   "version": "3.8.8"
  }
 },
 "nbformat": 4,
 "nbformat_minor": 4
}
