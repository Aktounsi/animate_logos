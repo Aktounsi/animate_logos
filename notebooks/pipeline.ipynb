{
 "cells": [
  {
   "cell_type": "markdown",
   "metadata": {},
   "source": [
    "## SVG Pipeline"
   ]
  },
  {
   "cell_type": "code",
   "execution_count": 1,
   "metadata": {},
   "outputs": [
    {
     "name": "stderr",
     "output_type": "stream",
     "text": [
      "C:\\Users\\sarah\\Anaconda3\\lib\\site-packages\\scipy\\__init__.py:137: UserWarning: NumPy 1.16.5 or above is required for this version of SciPy (detected version 1.16.1)\n",
      "  UserWarning)\n"
     ]
    }
   ],
   "source": [
    "import os\n",
    "os.chdir(\"..\")\n",
    "from src.pipeline import * "
   ]
  },
  {
   "cell_type": "markdown",
   "metadata": {},
   "source": [
    "### 1 Logo Preparation"
   ]
  },
  {
   "cell_type": "markdown",
   "metadata": {},
   "source": [
    "#### 1.1 Load Logo"
   ]
  },
  {
   "cell_type": "code",
   "execution_count": 2,
   "metadata": {},
   "outputs": [],
   "source": [
    "logo = Logo(data_dir=\"data/test_logos/FC Bayern München AG.svg\")"
   ]
  },
  {
   "cell_type": "code",
   "execution_count": 3,
   "metadata": {},
   "outputs": [
    {
     "name": "stdout",
     "output_type": "stream",
     "text": [
      "--------------------------- Logo Information ---------------------------\n",
      "data_dir: data/test_logos/FC Bayern München AG.svg\n",
      "parsed_doc: <xml.dom.minidom.Document object at 0x0000017F5EB31B88>\n",
      "nr_paths: 4\n",
      "animation_ids: [0, 1, 2, 3]\n",
      "width, height: 768.0, 768.0\n",
      "bbox: 3.218749999999993, 407.8118800000001, 3.1875, 822.6980000000004\n"
     ]
    }
   ],
   "source": [
    "logo.print_logo_information()"
   ]
  },
  {
   "cell_type": "markdown",
   "metadata": {},
   "source": [
    "#### 1.2 Insert Path IDs\n",
    "New file is created with suffix \"preprocessed.svg\". Data directory of logo instance is updated."
   ]
  },
  {
   "cell_type": "code",
   "execution_count": 4,
   "metadata": {},
   "outputs": [],
   "source": [
    "logo.insert_id()"
   ]
  },
  {
   "cell_type": "code",
   "execution_count": 5,
   "metadata": {},
   "outputs": [
    {
     "data": {
      "text/plain": [
       "'data/test_logos/FC Bayern München AG_preprocessed.svg'"
      ]
     },
     "execution_count": 5,
     "metadata": {},
     "output_type": "execute_result"
    }
   ],
   "source": [
    "logo.data_dir"
   ]
  },
  {
   "cell_type": "markdown",
   "metadata": {},
   "source": [
    "### 2 Model 1"
   ]
  },
  {
   "cell_type": "markdown",
   "metadata": {},
   "source": [
    "#### 2.1 Create Model 1 Input"
   ]
  },
  {
   "cell_type": "code",
   "execution_count": 6,
   "metadata": {},
   "outputs": [
    {
     "data": {
      "text/html": [
       "<div>\n",
       "<style scoped>\n",
       "    .dataframe tbody tr th:only-of-type {\n",
       "        vertical-align: middle;\n",
       "    }\n",
       "\n",
       "    .dataframe tbody tr th {\n",
       "        vertical-align: top;\n",
       "    }\n",
       "\n",
       "    .dataframe thead th {\n",
       "        text-align: right;\n",
       "    }\n",
       "</style>\n",
       "<table border=\"1\" class=\"dataframe\">\n",
       "  <thead>\n",
       "    <tr style=\"text-align: right;\">\n",
       "      <th></th>\n",
       "      <th>filename</th>\n",
       "      <th>animation_id</th>\n",
       "      <th>emb_0</th>\n",
       "      <th>emb_1</th>\n",
       "      <th>emb_2</th>\n",
       "      <th>emb_3</th>\n",
       "      <th>emb_4</th>\n",
       "      <th>emb_5</th>\n",
       "      <th>emb_6</th>\n",
       "      <th>emb_7</th>\n",
       "      <th>...</th>\n",
       "      <th>diff_fill_r</th>\n",
       "      <th>svg_fill_g</th>\n",
       "      <th>diff_fill_g</th>\n",
       "      <th>svg_fill_b</th>\n",
       "      <th>diff_fill_b</th>\n",
       "      <th>rel_width</th>\n",
       "      <th>rel_height</th>\n",
       "      <th>rel_x_position</th>\n",
       "      <th>rel_y_position</th>\n",
       "      <th>nr_paths_svg</th>\n",
       "    </tr>\n",
       "  </thead>\n",
       "  <tbody>\n",
       "    <tr>\n",
       "      <th>0</th>\n",
       "      <td>FC Bayern München AG_preprocessed</td>\n",
       "      <td>0</td>\n",
       "      <td>21.992174</td>\n",
       "      <td>12.024015</td>\n",
       "      <td>14.781804</td>\n",
       "      <td>4.057533</td>\n",
       "      <td>19.117723</td>\n",
       "      <td>8.551591</td>\n",
       "      <td>1.290962</td>\n",
       "      <td>-10.286520</td>\n",
       "      <td>...</td>\n",
       "      <td>-100</td>\n",
       "      <td>121.25</td>\n",
       "      <td>-15.25</td>\n",
       "      <td>176.25</td>\n",
       "      <td>12.75</td>\n",
       "      <td>0.135754</td>\n",
       "      <td>0.067023</td>\n",
       "      <td>0.515201</td>\n",
       "      <td>0.966489</td>\n",
       "      <td>4</td>\n",
       "    </tr>\n",
       "    <tr>\n",
       "      <th>1</th>\n",
       "      <td>FC Bayern München AG_preprocessed</td>\n",
       "      <td>1</td>\n",
       "      <td>21.959091</td>\n",
       "      <td>12.048253</td>\n",
       "      <td>14.697392</td>\n",
       "      <td>4.566595</td>\n",
       "      <td>19.175241</td>\n",
       "      <td>8.599972</td>\n",
       "      <td>1.251111</td>\n",
       "      <td>-10.259957</td>\n",
       "      <td>...</td>\n",
       "      <td>109</td>\n",
       "      <td>121.25</td>\n",
       "      <td>133.75</td>\n",
       "      <td>176.25</td>\n",
       "      <td>78.75</td>\n",
       "      <td>0.162246</td>\n",
       "      <td>0.080101</td>\n",
       "      <td>0.918877</td>\n",
       "      <td>0.645677</td>\n",
       "      <td>4</td>\n",
       "    </tr>\n",
       "    <tr>\n",
       "      <th>2</th>\n",
       "      <td>FC Bayern München AG_preprocessed</td>\n",
       "      <td>2</td>\n",
       "      <td>0.726267</td>\n",
       "      <td>13.336415</td>\n",
       "      <td>1.556958</td>\n",
       "      <td>5.083074</td>\n",
       "      <td>-0.110276</td>\n",
       "      <td>1.596757</td>\n",
       "      <td>3.166959</td>\n",
       "      <td>1.349248</td>\n",
       "      <td>...</td>\n",
       "      <td>91</td>\n",
       "      <td>121.25</td>\n",
       "      <td>-103.25</td>\n",
       "      <td>176.25</td>\n",
       "      <td>-104.25</td>\n",
       "      <td>0.155635</td>\n",
       "      <td>0.076837</td>\n",
       "      <td>0.077817</td>\n",
       "      <td>0.038419</td>\n",
       "      <td>4</td>\n",
       "    </tr>\n",
       "    <tr>\n",
       "      <th>3</th>\n",
       "      <td>FC Bayern München AG_preprocessed</td>\n",
       "      <td>3</td>\n",
       "      <td>4.157749</td>\n",
       "      <td>7.439279</td>\n",
       "      <td>0.359560</td>\n",
       "      <td>4.217697</td>\n",
       "      <td>0.284984</td>\n",
       "      <td>1.653431</td>\n",
       "      <td>3.682268</td>\n",
       "      <td>-0.350347</td>\n",
       "      <td>...</td>\n",
       "      <td>-100</td>\n",
       "      <td>121.25</td>\n",
       "      <td>-15.25</td>\n",
       "      <td>176.25</td>\n",
       "      <td>12.75</td>\n",
       "      <td>0.089751</td>\n",
       "      <td>0.044310</td>\n",
       "      <td>0.077702</td>\n",
       "      <td>0.038399</td>\n",
       "      <td>4</td>\n",
       "    </tr>\n",
       "  </tbody>\n",
       "</table>\n",
       "<p>4 rows × 28 columns</p>\n",
       "</div>"
      ],
      "text/plain": [
       "                            filename  animation_id      emb_0      emb_1  \\\n",
       "0  FC Bayern München AG_preprocessed             0  21.992174  12.024015   \n",
       "1  FC Bayern München AG_preprocessed             1  21.959091  12.048253   \n",
       "2  FC Bayern München AG_preprocessed             2   0.726267  13.336415   \n",
       "3  FC Bayern München AG_preprocessed             3   4.157749   7.439279   \n",
       "\n",
       "       emb_2     emb_3      emb_4     emb_5     emb_6      emb_7  ...  \\\n",
       "0  14.781804  4.057533  19.117723  8.551591  1.290962 -10.286520  ...   \n",
       "1  14.697392  4.566595  19.175241  8.599972  1.251111 -10.259957  ...   \n",
       "2   1.556958  5.083074  -0.110276  1.596757  3.166959   1.349248  ...   \n",
       "3   0.359560  4.217697   0.284984  1.653431  3.682268  -0.350347  ...   \n",
       "\n",
       "   diff_fill_r  svg_fill_g diff_fill_g svg_fill_b  diff_fill_b  rel_width  \\\n",
       "0         -100      121.25      -15.25     176.25        12.75   0.135754   \n",
       "1          109      121.25      133.75     176.25        78.75   0.162246   \n",
       "2           91      121.25     -103.25     176.25      -104.25   0.155635   \n",
       "3         -100      121.25      -15.25     176.25        12.75   0.089751   \n",
       "\n",
       "   rel_height  rel_x_position  rel_y_position  nr_paths_svg  \n",
       "0    0.067023        0.515201        0.966489             4  \n",
       "1    0.080101        0.918877        0.645677             4  \n",
       "2    0.076837        0.077817        0.038419             4  \n",
       "3    0.044310        0.077702        0.038399             4  \n",
       "\n",
       "[4 rows x 28 columns]"
      ]
     },
     "execution_count": 6,
     "metadata": {},
     "output_type": "execute_result"
    }
   ],
   "source": [
    "logo.create_df()"
   ]
  },
  {
   "cell_type": "markdown",
   "metadata": {},
   "source": [
    "#### 2.2 Apply Model 1"
   ]
  },
  {
   "cell_type": "code",
   "execution_count": null,
   "metadata": {},
   "outputs": [],
   "source": []
  },
  {
   "cell_type": "code",
   "execution_count": null,
   "metadata": {},
   "outputs": [],
   "source": []
  },
  {
   "cell_type": "markdown",
   "metadata": {},
   "source": [
    "### 3. Genetic Algorithm"
   ]
  },
  {
   "cell_type": "code",
   "execution_count": null,
   "metadata": {},
   "outputs": [],
   "source": []
  },
  {
   "cell_type": "code",
   "execution_count": null,
   "metadata": {},
   "outputs": [],
   "source": []
  }
 ],
 "metadata": {
  "kernelspec": {
   "display_name": "Python 3",
   "language": "python",
   "name": "python3"
  },
  "language_info": {
   "codemirror_mode": {
    "name": "ipython",
    "version": 3
   },
   "file_extension": ".py",
   "mimetype": "text/x-python",
   "name": "python",
   "nbconvert_exporter": "python",
   "pygments_lexer": "ipython3",
   "version": "3.7.9"
  }
 },
 "nbformat": 4,
 "nbformat_minor": 4
}
