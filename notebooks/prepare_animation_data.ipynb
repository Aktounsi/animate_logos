{
 "cells": [
  {
   "cell_type": "code",
   "execution_count": null,
   "metadata": {},
   "outputs": [],
   "source": [
    "backend_mapping = pd.read_csv(\"../../data/animated_svgs_dataframes/backend_mapping.csv\")"
   ]
  },
  {
   "cell_type": "code",
   "execution_count": null,
   "metadata": {},
   "outputs": [],
   "source": [
    "backend_mapping_id = backend_mapping.assign(\n",
    "    logo_id=backend_mapping.file.str.extract(\"logo_(\\d+)\"),\n",
    "    animation_id = backend_mapping.file.str.extract(\"animation_(\\d+)\"),\n",
    "    animation_file = \"animation/\" + backend_mapping.file + \".svg\").astype({\"logo_id\": 'int64',\n",
    "                                                                                \"animation_id\": 'int64',\n",
    "                                                                                \"0\" : \"Bool\",\n",
    "                                                                                \"1\" : \"Bool\",\n",
    "                                                                                \"2\" : \"Bool\",\n",
    "                                                                                \"3\" : \"Bool\",\n",
    "                                                                                \"4\" : \"Bool\",\n",
    "                                                                                \"5\" : \"Bool\",\n",
    "                                                                                \"6\" : \"Bool\",\n",
    "                                                                                \"7\" : \"Bool\",\n",
    "                                                                               \"animation_file\" : \"object\"\n",
    "                                                                               }).drop(\"file\",1)"
   ]
  },
  {
   "cell_type": "code",
   "execution_count": null,
   "metadata": {},
   "outputs": [],
   "source": [
    "backend_mapping_final = backend_mapping_id.rename(columns={\"0\": \"path_0\",\n",
    "                                  \"1\": \"path_1\",\n",
    "                                  \"2\": \"path_2\",\n",
    "                                  \"3\": \"path_3\",\n",
    "                                  \"4\": \"path_4\",\n",
    "                                  \"5\": \"path_5\",\n",
    "                                  \"6\": \"path_6\",\n",
    "                                  \"7\": \"path_7\"\n",
    "                                  })"
   ]
  },
  {
   "cell_type": "code",
   "execution_count": null,
   "metadata": {},
   "outputs": [],
   "source": [
    "backend_mapping_final"
   ]
  },
  {
   "cell_type": "code",
   "execution_count": null,
   "metadata": {},
   "outputs": [],
   "source": [
    "# export data\n",
    "backend_mapping_final.to_csv(\"../../data/animated_svgs_dataframes/backend_mapping_firestore_import.csv\", index=False)"
   ]
  },
  {
   "cell_type": "code",
   "execution_count": null,
   "metadata": {},
   "outputs": [],
   "source": [
    "backend_mapping_final_rest = backend_mapping_final[backend_mapping_final.logo_id > 349]"
   ]
  },
  {
   "cell_type": "code",
   "execution_count": null,
   "metadata": {},
   "outputs": [],
   "source": [
    "backend_mapping_final_rest"
   ]
  },
  {
   "cell_type": "code",
   "execution_count": 1,
   "metadata": {},
   "outputs": [],
   "source": [
    "import pandas as pd\n",
    "import firebase_admin\n",
    "from firebase_admin import credentials, firestore, initialize_app, storage"
   ]
  },
  {
   "cell_type": "code",
   "execution_count": 2,
   "metadata": {},
   "outputs": [],
   "source": [
    "cred = credentials.Certificate(\"animate-logos-firebase-adminsdk-q6gps-dbbb0557ed.json\")"
   ]
  },
  {
   "cell_type": "code",
   "execution_count": 3,
   "metadata": {},
   "outputs": [
    {
     "data": {
      "text/plain": [
       "<firebase_admin.App at 0x7fd16b5003d0>"
      ]
     },
     "execution_count": 3,
     "metadata": {},
     "output_type": "execute_result"
    }
   ],
   "source": [
    "firebase_admin.initialize_app(cred, \n",
    "{\n",
    "\"databaseURL\": \"https://animate-logos.firebaseio.com/\"\n",
    "})"
   ]
  },
  {
   "cell_type": "code",
   "execution_count": 4,
   "metadata": {},
   "outputs": [],
   "source": [
    "db = firestore.client()\n",
    "doc_ref = db.collection(u\"animatedlogos\")"
   ]
  },
  {
   "cell_type": "code",
   "execution_count": null,
   "metadata": {},
   "outputs": [],
   "source": [
    "batch = db.batch()"
   ]
  },
  {
   "cell_type": "code",
   "execution_count": 11,
   "metadata": {},
   "outputs": [],
   "source": [
    "doc_ref = db.collection(\"label_animation_path\").where(\"alias\",\"==\",\"Tim\").get()"
   ]
  },
  {
   "cell_type": "code",
   "execution_count": 12,
   "metadata": {},
   "outputs": [
    {
     "data": {
      "text/plain": [
       "490"
      ]
     },
     "execution_count": 12,
     "metadata": {},
     "output_type": "execute_result"
    }
   ],
   "source": [
    "len(doc_ref)"
   ]
  },
  {
   "cell_type": "code",
   "execution_count": 10,
   "metadata": {},
   "outputs": [],
   "source": [
    "# for doc in doc_ref:\n",
    "#    doc.reference.delete()"
   ]
  },
  {
   "cell_type": "code",
   "execution_count": 6,
   "metadata": {},
   "outputs": [
    {
     "data": {
      "text/plain": [
       "[]"
      ]
     },
     "execution_count": 6,
     "metadata": {},
     "output_type": "execute_result"
    }
   ],
   "source": [
    "doc_ref"
   ]
  },
  {
   "cell_type": "code",
   "execution_count": null,
   "metadata": {},
   "outputs": [],
   "source": [
    "# Import data\n",
    "tmp = backend_mapping_final_rest.to_dict(orient=\"records\")\n",
    "list(map(lambda x: doc_ref.add(x), tmp))"
   ]
  },
  {
   "cell_type": "code",
   "execution_count": null,
   "metadata": {},
   "outputs": [],
   "source": [
    "# Upload images\n",
    "\n",
    "# Init firebase with your credentials\n",
    "initialize_app(cred, {'storageBucket': \"animate-logos.appspot.com/animation_path\"})"
   ]
  },
  {
   "cell_type": "code",
   "execution_count": null,
   "metadata": {},
   "outputs": [],
   "source": [
    "import glob\n",
    "list_files = glob.glob(\"/Users/jakob/PycharmProjects/animate_logos/data/PNG_selected_paths_expanded/*.png\")"
   ]
  },
  {
   "cell_type": "code",
   "execution_count": null,
   "metadata": {},
   "outputs": [],
   "source": [
    "list_files_cut = list_files[0]\n",
    "bucket = storage.bucket()"
   ]
  },
  {
   "cell_type": "code",
   "execution_count": null,
   "metadata": {},
   "outputs": [],
   "source": [
    "list_files_cut = \"/Users/jakob/PycharmProjects/animate_logos/data/PNG_selected_paths_expanded/logo_288_path_6.png\""
   ]
  },
  {
   "cell_type": "code",
   "execution_count": null,
   "metadata": {},
   "outputs": [],
   "source": [
    "fileName = list_files_cut"
   ]
  },
  {
   "cell_type": "code",
   "execution_count": null,
   "metadata": {},
   "outputs": [],
   "source": [
    "blob = bucket.blob(\"logo_288_path_6.png\")"
   ]
  },
  {
   "cell_type": "code",
   "execution_count": null,
   "metadata": {},
   "outputs": [],
   "source": [
    "blob.upload_from_filename(fileName)"
   ]
  },
  {
   "cell_type": "code",
   "execution_count": null,
   "metadata": {},
   "outputs": [],
   "source": [
    "for image in list_files_cut:\n",
    "    fileName = image\n",
    "    blob = bucket.blob(fileName)\n",
    "    blob.upload_from_filename(fileName)"
   ]
  },
  {
   "cell_type": "code",
   "execution_count": null,
   "metadata": {},
   "outputs": [],
   "source": [
    "\n",
    "\n",
    "# Put your local file path\n",
    "fileName = \"myImage.jpg\"\n",
    "bucket = storage.bucket()\n",
    "blob = bucket.blob(fileName)\n",
    "blob.upload_from_filename(fileName)"
   ]
  },
  {
   "cell_type": "code",
   "execution_count": null,
   "metadata": {},
   "outputs": [],
   "source": [
    "\n",
    "# Opt : if you want to make public access from the URL\n",
    "blob.make_public()\n",
    "\n",
    "print(\"your file url\", blob.public_url)"
   ]
  },
  {
   "cell_type": "code",
   "execution_count": null,
   "metadata": {},
   "outputs": [],
   "source": [
    "import sys\n",
    "import requests\n",
    "import firebase_admin\n",
    "from firebase_admin import credentials\n",
    "from firebase_admin import storage"
   ]
  },
  {
   "cell_type": "code",
   "execution_count": null,
   "metadata": {},
   "outputs": [],
   "source": []
  }
 ],
 "metadata": {
  "kernelspec": {
   "display_name": "Python 3",
   "language": "python",
   "name": "python3"
  },
  "language_info": {
   "codemirror_mode": {
    "name": "ipython",
    "version": 3
   },
   "file_extension": ".py",
   "mimetype": "text/x-python",
   "name": "python",
   "nbconvert_exporter": "python",
   "pygments_lexer": "ipython3",
   "version": "3.7.9"
  }
 },
 "nbformat": 4,
 "nbformat_minor": 1
}
