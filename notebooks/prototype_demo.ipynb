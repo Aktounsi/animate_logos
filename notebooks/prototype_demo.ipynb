{
 "cells": [
  {
   "cell_type": "markdown",
   "metadata": {},
   "source": [
    "## Prototype Demo"
   ]
  },
  {
   "cell_type": "code",
   "execution_count": 1,
   "metadata": {},
   "outputs": [],
   "source": [
    "import os\n",
    "os.chdir(\"../src/preprocessing\") # Note: Change current working directory to load preprocessing functions. Please don't change paths in code\n",
    "from create_embedding import preprocess_folder, train_embedding_model, apply_embedding_model, combine_embeddings, encode_logo, decode_z\n",
    "from deepsvg.svglib.svg import SVG\n",
    "from deepsvg import utils\n",
    "os.chdir(\"../..\")"
   ]
  },
  {
   "cell_type": "code",
   "execution_count": 2,
   "metadata": {},
   "outputs": [],
   "source": [
    "import pandas as pd\n",
    "import numpy as np\n",
    "import torch\n",
    "#from IPython.display import SVG, display, display_svg\n",
    "#from src.models.train_model_head import *\n",
    "#from src.models.insert_animation import *"
   ]
  },
  {
   "cell_type": "markdown",
   "metadata": {},
   "source": [
    "### 1 Preprocessing"
   ]
  },
  {
   "cell_type": "markdown",
   "metadata": {},
   "source": [
    "#### 1.1 Simplify SVGs\n",
    "Creates simplified SVGs and its tensors on SVG and path level"
   ]
  },
  {
   "cell_type": "code",
   "execution_count": 4,
   "metadata": {},
   "outputs": [
    {
     "name": "stderr",
     "output_type": "stream",
     "text": [
      "100%|████████████████████████████████████████████████████████████████████████████████| 419/419 [01:51<00:00,  3.77it/s]\n"
     ]
    }
   ],
   "source": [
    "preprocess_folder(data_folder=\"data/svgs\")"
   ]
  },
  {
   "cell_type": "code",
   "execution_count": 5,
   "metadata": {},
   "outputs": [
    {
     "name": "stderr",
     "output_type": "stream",
     "text": [
      "100%|██████████████████████████████████████████████████████████████████████████████| 5561/5561 [02:26<00:00, 37.93it/s]\n"
     ]
    }
   ],
   "source": [
    "preprocess_folder(data_folder=\"data/decomposed_svgs\")"
   ]
  },
  {
   "cell_type": "markdown",
   "metadata": {},
   "source": [
    "#### 1.2 Train Embedding Model"
   ]
  },
  {
   "cell_type": "code",
   "execution_count": 3,
   "metadata": {},
   "outputs": [
    {
     "name": "stdout",
     "output_type": "stream",
     "text": [
      "Parameters\n",
      "  batch_size = 20\n",
      "  ckpt_every = 1000\n",
      "  collate_fn = None\n",
      "  data_dir = data/svgs_tensors/\n",
      "  dataloader_module = deepsvg.svgtensor_dataset\n",
      "  filter_category = None\n",
      "  filter_labels = None\n",
      "  filter_platform = None\n",
      "  filter_uni = None\n",
      "  grad_clip = 1.0\n",
      "  learning_rate = 0.001\n",
      "  loader_num_workers = 4\n",
      "  log_every = 20\n",
      "  max_num_groups = 8\n",
      "  max_seq_len = 30\n",
      "  max_total_len = 50\n",
      "  meta_filepath = data/svgs_meta.csv\n",
      "  model_args = ['commands', 'args', 'commands', 'args']\n",
      "  model_cfg = <configs.deepsvg.hierarchical_ordered.ModelConfig object at 0x000001591A5B9348>\n",
      "  nb_augmentations = 1\n",
      "  num_epochs = 1\n",
      "  num_gpus = 1\n",
      "  num_steps = None\n",
      "  optimizer_starts = [0]\n",
      "  pretrained_path = ./models/hierarchical_ordered.pth.tar\n",
      "  stats_to_print = {'train': ['lr', 'time']}\n",
      "  train_ratio = 1.0\n",
      "  val_every = 10\n",
      "  warmup_steps = 500\n",
      "Loading dataset\n",
      "Loading pretrained model ./models/hierarchical_ordered.pth.tar\n",
      "#Parameters: 10,304,596\n",
      "Epoch 1\n"
     ]
    }
   ],
   "source": [
    "model = train_embedding_model(data_folder=\"data/svgs\", num_epochs=1, batch_size=20, save=False)"
   ]
  },
  {
   "cell_type": "markdown",
   "metadata": {},
   "source": [
    "#### 1.3 Apply Hierarchical Generative Network\n",
    "Apply hierarchical generative network to produce latent vector z"
   ]
  },
  {
   "cell_type": "code",
   "execution_count": 6,
   "metadata": {},
   "outputs": [],
   "source": [
    "model = \"models/20210301_1813_model_batch60_epoch30_decomposed_svgs.pth.tar\""
   ]
  },
  {
   "cell_type": "code",
   "execution_count": 7,
   "metadata": {},
   "outputs": [
    {
     "name": "stderr",
     "output_type": "stream",
     "text": [
      "100%|████████████████████████████████████████████████████████████████████████████████| 180/180 [00:05<00:00, 35.52it/s]\n"
     ]
    }
   ],
   "source": [
    "svgs_embedding = apply_embedding_model(model_path=model, data_folder=\"data/svgs\", save=False)"
   ]
  },
  {
   "cell_type": "code",
   "execution_count": 8,
   "metadata": {},
   "outputs": [
    {
     "name": "stderr",
     "output_type": "stream",
     "text": [
      "100%|██████████████████████████████████████████████████████████████████████████████| 3092/3092 [02:17<00:00, 22.55it/s]\n"
     ]
    }
   ],
   "source": [
    "decomposed_svgs_embedding = apply_embedding_model(model_path=model, data_folder=\"data/decomposed_svgs\", save=False)"
   ]
  },
  {
   "cell_type": "code",
   "execution_count": 9,
   "metadata": {},
   "outputs": [
    {
     "name": "stderr",
     "output_type": "stream",
     "text": [
      "WARNING:py.warnings:C:\\Users\\sarah\\PycharmProjects\\animate_logos\\src\\preprocessing\\create_embedding.py:223: SettingWithCopyWarning: \n",
      "A value is trying to be set on a copy of a slice from a DataFrame.\n",
      "Try using .loc[row_indexer,col_indexer] = value instead\n",
      "\n",
      "See the caveats in the documentation: https://pandas.pydata.org/pandas-docs/stable/user_guide/indexing.html#returning-a-view-versus-a-copy\n",
      "  combined_embedding[col] = merged_embeddings[str(col) + \"_x\"] + merged_embeddings[str(col) + \"_y\"]\n",
      "\n"
     ]
    }
   ],
   "source": [
    "combined_embedding = combine_embeddings(df_svg_embedding=svgs_embedding, df_decomposed_svg_embedding=decomposed_svgs_embedding, model_path=model, save=False)"
   ]
  },
  {
   "cell_type": "code",
   "execution_count": 9,
   "metadata": {},
   "outputs": [
    {
     "data": {
      "text/html": [
       "<div>\n",
       "<style scoped>\n",
       "    .dataframe tbody tr th:only-of-type {\n",
       "        vertical-align: middle;\n",
       "    }\n",
       "\n",
       "    .dataframe tbody tr th {\n",
       "        vertical-align: top;\n",
       "    }\n",
       "\n",
       "    .dataframe thead th {\n",
       "        text-align: right;\n",
       "    }\n",
       "</style>\n",
       "<table border=\"1\" class=\"dataframe\">\n",
       "  <thead>\n",
       "    <tr style=\"text-align: right;\">\n",
       "      <th></th>\n",
       "      <th>filename</th>\n",
       "      <th>animation_id</th>\n",
       "      <th>0</th>\n",
       "      <th>1</th>\n",
       "      <th>2</th>\n",
       "      <th>3</th>\n",
       "      <th>4</th>\n",
       "      <th>5</th>\n",
       "      <th>6</th>\n",
       "      <th>7</th>\n",
       "      <th>...</th>\n",
       "      <th>246</th>\n",
       "      <th>247</th>\n",
       "      <th>248</th>\n",
       "      <th>249</th>\n",
       "      <th>250</th>\n",
       "      <th>251</th>\n",
       "      <th>252</th>\n",
       "      <th>253</th>\n",
       "      <th>254</th>\n",
       "      <th>255</th>\n",
       "    </tr>\n",
       "  </thead>\n",
       "  <tbody>\n",
       "    <tr>\n",
       "      <th>0</th>\n",
       "      <td>Ableton</td>\n",
       "      <td>0</td>\n",
       "      <td>3.517644</td>\n",
       "      <td>-2.221145</td>\n",
       "      <td>2.426589</td>\n",
       "      <td>-0.335582</td>\n",
       "      <td>0.408024</td>\n",
       "      <td>0.467482</td>\n",
       "      <td>0.596992</td>\n",
       "      <td>0.929539</td>\n",
       "      <td>...</td>\n",
       "      <td>-2.618715</td>\n",
       "      <td>-1.132390</td>\n",
       "      <td>-0.681460</td>\n",
       "      <td>-0.026908</td>\n",
       "      <td>1.300111</td>\n",
       "      <td>2.522139</td>\n",
       "      <td>0.318490</td>\n",
       "      <td>-2.306422</td>\n",
       "      <td>2.755535</td>\n",
       "      <td>0.575454</td>\n",
       "    </tr>\n",
       "    <tr>\n",
       "      <th>1</th>\n",
       "      <td>A&amp;O Hotels and Hostels</td>\n",
       "      <td>0</td>\n",
       "      <td>3.611988</td>\n",
       "      <td>-2.384859</td>\n",
       "      <td>2.050283</td>\n",
       "      <td>-0.208244</td>\n",
       "      <td>0.158463</td>\n",
       "      <td>0.833749</td>\n",
       "      <td>0.663469</td>\n",
       "      <td>0.539528</td>\n",
       "      <td>...</td>\n",
       "      <td>-1.935898</td>\n",
       "      <td>-1.652914</td>\n",
       "      <td>-1.100277</td>\n",
       "      <td>0.516891</td>\n",
       "      <td>1.920528</td>\n",
       "      <td>2.103320</td>\n",
       "      <td>-0.123224</td>\n",
       "      <td>-3.474483</td>\n",
       "      <td>2.698898</td>\n",
       "      <td>1.025379</td>\n",
       "    </tr>\n",
       "    <tr>\n",
       "      <th>2</th>\n",
       "      <td>A&amp;O Hotels and Hostels</td>\n",
       "      <td>1</td>\n",
       "      <td>3.286057</td>\n",
       "      <td>-2.079230</td>\n",
       "      <td>2.122104</td>\n",
       "      <td>-0.263052</td>\n",
       "      <td>0.309977</td>\n",
       "      <td>0.845806</td>\n",
       "      <td>0.622541</td>\n",
       "      <td>0.677685</td>\n",
       "      <td>...</td>\n",
       "      <td>-1.833238</td>\n",
       "      <td>-1.330910</td>\n",
       "      <td>-1.147234</td>\n",
       "      <td>0.456843</td>\n",
       "      <td>1.758519</td>\n",
       "      <td>2.075548</td>\n",
       "      <td>-0.184199</td>\n",
       "      <td>-3.333424</td>\n",
       "      <td>2.771929</td>\n",
       "      <td>0.691892</td>\n",
       "    </tr>\n",
       "    <tr>\n",
       "      <th>3</th>\n",
       "      <td>Ableton</td>\n",
       "      <td>1</td>\n",
       "      <td>3.180732</td>\n",
       "      <td>-2.104532</td>\n",
       "      <td>2.313095</td>\n",
       "      <td>-0.427705</td>\n",
       "      <td>0.344866</td>\n",
       "      <td>0.330177</td>\n",
       "      <td>0.190357</td>\n",
       "      <td>0.675591</td>\n",
       "      <td>...</td>\n",
       "      <td>-2.678052</td>\n",
       "      <td>-1.195949</td>\n",
       "      <td>-0.732671</td>\n",
       "      <td>0.005957</td>\n",
       "      <td>1.622082</td>\n",
       "      <td>2.330484</td>\n",
       "      <td>0.286646</td>\n",
       "      <td>-2.836176</td>\n",
       "      <td>2.841082</td>\n",
       "      <td>0.335738</td>\n",
       "    </tr>\n",
       "    <tr>\n",
       "      <th>4</th>\n",
       "      <td>Ableton</td>\n",
       "      <td>2</td>\n",
       "      <td>3.436753</td>\n",
       "      <td>-2.154513</td>\n",
       "      <td>2.390192</td>\n",
       "      <td>-0.140887</td>\n",
       "      <td>0.303902</td>\n",
       "      <td>0.268003</td>\n",
       "      <td>0.399324</td>\n",
       "      <td>0.608917</td>\n",
       "      <td>...</td>\n",
       "      <td>-2.541381</td>\n",
       "      <td>-1.345490</td>\n",
       "      <td>-0.582850</td>\n",
       "      <td>-0.167250</td>\n",
       "      <td>1.611613</td>\n",
       "      <td>2.456892</td>\n",
       "      <td>-0.015959</td>\n",
       "      <td>-2.740299</td>\n",
       "      <td>2.744766</td>\n",
       "      <td>0.580454</td>\n",
       "    </tr>\n",
       "    <tr>\n",
       "      <th>...</th>\n",
       "      <td>...</td>\n",
       "      <td>...</td>\n",
       "      <td>...</td>\n",
       "      <td>...</td>\n",
       "      <td>...</td>\n",
       "      <td>...</td>\n",
       "      <td>...</td>\n",
       "      <td>...</td>\n",
       "      <td>...</td>\n",
       "      <td>...</td>\n",
       "      <td>...</td>\n",
       "      <td>...</td>\n",
       "      <td>...</td>\n",
       "      <td>...</td>\n",
       "      <td>...</td>\n",
       "      <td>...</td>\n",
       "      <td>...</td>\n",
       "      <td>...</td>\n",
       "      <td>...</td>\n",
       "      <td>...</td>\n",
       "      <td>...</td>\n",
       "    </tr>\n",
       "    <tr>\n",
       "      <th>2969</th>\n",
       "      <td>Öger Group</td>\n",
       "      <td>7</td>\n",
       "      <td>3.354184</td>\n",
       "      <td>-2.581339</td>\n",
       "      <td>2.127755</td>\n",
       "      <td>-0.112889</td>\n",
       "      <td>-0.028587</td>\n",
       "      <td>0.637631</td>\n",
       "      <td>0.197530</td>\n",
       "      <td>0.629679</td>\n",
       "      <td>...</td>\n",
       "      <td>-2.104873</td>\n",
       "      <td>-1.518951</td>\n",
       "      <td>-1.272587</td>\n",
       "      <td>0.146290</td>\n",
       "      <td>1.442890</td>\n",
       "      <td>2.158083</td>\n",
       "      <td>0.045911</td>\n",
       "      <td>-2.925663</td>\n",
       "      <td>2.616506</td>\n",
       "      <td>0.612828</td>\n",
       "    </tr>\n",
       "    <tr>\n",
       "      <th>2970</th>\n",
       "      <td>Öger Group</td>\n",
       "      <td>9</td>\n",
       "      <td>3.635494</td>\n",
       "      <td>-2.444565</td>\n",
       "      <td>2.422632</td>\n",
       "      <td>-0.083112</td>\n",
       "      <td>0.000461</td>\n",
       "      <td>0.757297</td>\n",
       "      <td>0.247601</td>\n",
       "      <td>0.587927</td>\n",
       "      <td>...</td>\n",
       "      <td>-1.965577</td>\n",
       "      <td>-1.417324</td>\n",
       "      <td>-0.959245</td>\n",
       "      <td>0.488662</td>\n",
       "      <td>1.492060</td>\n",
       "      <td>2.141334</td>\n",
       "      <td>0.428038</td>\n",
       "      <td>-2.733085</td>\n",
       "      <td>2.914678</td>\n",
       "      <td>0.380336</td>\n",
       "    </tr>\n",
       "    <tr>\n",
       "      <th>2971</th>\n",
       "      <td>Öger Group</td>\n",
       "      <td>8</td>\n",
       "      <td>4.040693</td>\n",
       "      <td>-2.761114</td>\n",
       "      <td>1.882030</td>\n",
       "      <td>-0.342164</td>\n",
       "      <td>0.140492</td>\n",
       "      <td>0.530168</td>\n",
       "      <td>0.030529</td>\n",
       "      <td>0.715658</td>\n",
       "      <td>...</td>\n",
       "      <td>-2.049555</td>\n",
       "      <td>-1.428372</td>\n",
       "      <td>-1.490032</td>\n",
       "      <td>0.676304</td>\n",
       "      <td>1.297831</td>\n",
       "      <td>1.748343</td>\n",
       "      <td>0.291577</td>\n",
       "      <td>-2.504542</td>\n",
       "      <td>2.731264</td>\n",
       "      <td>0.852913</td>\n",
       "    </tr>\n",
       "    <tr>\n",
       "      <th>2972</th>\n",
       "      <td>ÖRAG</td>\n",
       "      <td>1</td>\n",
       "      <td>3.081293</td>\n",
       "      <td>-2.530689</td>\n",
       "      <td>1.961947</td>\n",
       "      <td>-0.046195</td>\n",
       "      <td>0.150372</td>\n",
       "      <td>0.695613</td>\n",
       "      <td>0.368793</td>\n",
       "      <td>0.271956</td>\n",
       "      <td>...</td>\n",
       "      <td>-1.744570</td>\n",
       "      <td>-1.753945</td>\n",
       "      <td>-1.067059</td>\n",
       "      <td>0.510447</td>\n",
       "      <td>1.468020</td>\n",
       "      <td>2.085278</td>\n",
       "      <td>0.002981</td>\n",
       "      <td>-3.034999</td>\n",
       "      <td>2.755673</td>\n",
       "      <td>0.798450</td>\n",
       "    </tr>\n",
       "    <tr>\n",
       "      <th>2973</th>\n",
       "      <td>ÖRAG</td>\n",
       "      <td>0</td>\n",
       "      <td>3.529468</td>\n",
       "      <td>-2.460280</td>\n",
       "      <td>1.811950</td>\n",
       "      <td>-0.159491</td>\n",
       "      <td>-0.057241</td>\n",
       "      <td>0.698869</td>\n",
       "      <td>0.497636</td>\n",
       "      <td>0.187869</td>\n",
       "      <td>...</td>\n",
       "      <td>-1.753650</td>\n",
       "      <td>-1.707359</td>\n",
       "      <td>-1.072528</td>\n",
       "      <td>0.614429</td>\n",
       "      <td>1.446634</td>\n",
       "      <td>2.101563</td>\n",
       "      <td>0.178425</td>\n",
       "      <td>-2.849682</td>\n",
       "      <td>2.986915</td>\n",
       "      <td>1.005611</td>\n",
       "    </tr>\n",
       "  </tbody>\n",
       "</table>\n",
       "<p>2974 rows × 258 columns</p>\n",
       "</div>"
      ],
      "text/plain": [
       "                    filename animation_id         0         1         2  \\\n",
       "0                    Ableton            0  3.517644 -2.221145  2.426589   \n",
       "1     A&O Hotels and Hostels            0  3.611988 -2.384859  2.050283   \n",
       "2     A&O Hotels and Hostels            1  3.286057 -2.079230  2.122104   \n",
       "3                    Ableton            1  3.180732 -2.104532  2.313095   \n",
       "4                    Ableton            2  3.436753 -2.154513  2.390192   \n",
       "...                      ...          ...       ...       ...       ...   \n",
       "2969              Öger Group            7  3.354184 -2.581339  2.127755   \n",
       "2970              Öger Group            9  3.635494 -2.444565  2.422632   \n",
       "2971              Öger Group            8  4.040693 -2.761114  1.882030   \n",
       "2972                    ÖRAG            1  3.081293 -2.530689  1.961947   \n",
       "2973                    ÖRAG            0  3.529468 -2.460280  1.811950   \n",
       "\n",
       "             3         4         5         6         7  ...       246  \\\n",
       "0    -0.335582  0.408024  0.467482  0.596992  0.929539  ... -2.618715   \n",
       "1    -0.208244  0.158463  0.833749  0.663469  0.539528  ... -1.935898   \n",
       "2    -0.263052  0.309977  0.845806  0.622541  0.677685  ... -1.833238   \n",
       "3    -0.427705  0.344866  0.330177  0.190357  0.675591  ... -2.678052   \n",
       "4    -0.140887  0.303902  0.268003  0.399324  0.608917  ... -2.541381   \n",
       "...        ...       ...       ...       ...       ...  ...       ...   \n",
       "2969 -0.112889 -0.028587  0.637631  0.197530  0.629679  ... -2.104873   \n",
       "2970 -0.083112  0.000461  0.757297  0.247601  0.587927  ... -1.965577   \n",
       "2971 -0.342164  0.140492  0.530168  0.030529  0.715658  ... -2.049555   \n",
       "2972 -0.046195  0.150372  0.695613  0.368793  0.271956  ... -1.744570   \n",
       "2973 -0.159491 -0.057241  0.698869  0.497636  0.187869  ... -1.753650   \n",
       "\n",
       "           247       248       249       250       251       252       253  \\\n",
       "0    -1.132390 -0.681460 -0.026908  1.300111  2.522139  0.318490 -2.306422   \n",
       "1    -1.652914 -1.100277  0.516891  1.920528  2.103320 -0.123224 -3.474483   \n",
       "2    -1.330910 -1.147234  0.456843  1.758519  2.075548 -0.184199 -3.333424   \n",
       "3    -1.195949 -0.732671  0.005957  1.622082  2.330484  0.286646 -2.836176   \n",
       "4    -1.345490 -0.582850 -0.167250  1.611613  2.456892 -0.015959 -2.740299   \n",
       "...        ...       ...       ...       ...       ...       ...       ...   \n",
       "2969 -1.518951 -1.272587  0.146290  1.442890  2.158083  0.045911 -2.925663   \n",
       "2970 -1.417324 -0.959245  0.488662  1.492060  2.141334  0.428038 -2.733085   \n",
       "2971 -1.428372 -1.490032  0.676304  1.297831  1.748343  0.291577 -2.504542   \n",
       "2972 -1.753945 -1.067059  0.510447  1.468020  2.085278  0.002981 -3.034999   \n",
       "2973 -1.707359 -1.072528  0.614429  1.446634  2.101563  0.178425 -2.849682   \n",
       "\n",
       "           254       255  \n",
       "0     2.755535  0.575454  \n",
       "1     2.698898  1.025379  \n",
       "2     2.771929  0.691892  \n",
       "3     2.841082  0.335738  \n",
       "4     2.744766  0.580454  \n",
       "...        ...       ...  \n",
       "2969  2.616506  0.612828  \n",
       "2970  2.914678  0.380336  \n",
       "2971  2.731264  0.852913  \n",
       "2972  2.755673  0.798450  \n",
       "2973  2.986915  1.005611  \n",
       "\n",
       "[2974 rows x 258 columns]"
      ]
     },
     "execution_count": 9,
     "metadata": {},
     "output_type": "execute_result"
    }
   ],
   "source": [
    "combined_embedding"
   ]
  },
  {
   "cell_type": "markdown",
   "metadata": {},
   "source": [
    "##### Test Hierarchical Generative Network"
   ]
  },
  {
   "cell_type": "code",
   "execution_count": 30,
   "metadata": {},
   "outputs": [
    {
     "data": {
      "text/plain": [
       "torch.Size([15, 14])"
      ]
     },
     "execution_count": 30,
     "metadata": {},
     "output_type": "execute_result"
    }
   ],
   "source": [
    "SVG.load_svg(\"data/decomposed_svgs/Bayer_2.svg\").to_tensor(concat_groups=False)[0].shape#.draw()."
   ]
  },
  {
   "cell_type": "code",
   "execution_count": 4,
   "metadata": {},
   "outputs": [],
   "source": [
    "from src.preprocessing.create_embedding import _load_model"
   ]
  },
  {
   "cell_type": "code",
   "execution_count": 18,
   "metadata": {},
   "outputs": [
    {
     "data": {
      "text/plain": [
       "(tensor([[0, 1, 2, 2, 2, 2, 2, 2, 2, 2, 2, 2, 2, 2, 1, 2, 2, 2, 2, 2, 0, 0, 0, 0,\n",
       "          0, 0, 0]]),\n",
       " tensor([[[ -1,  -1,  -1,  -1,  -1,  -1,  -1,  -1,  -1,   0, 144],\n",
       "          [ -1,  -1,  -1,  -1,  -1,  -1,  -1,  -1,  -1,   0,  87],\n",
       "          [ -1,  -1,  -1,  -1,  -1,  20,  94,  38, 122,  41, 127],\n",
       "          [ -1,  -1,  -1,  -1,  -1,  10, 145,  20, 145,  22, 141],\n",
       "          [ -1,  -1,  -1,  -1,  -1,  20, 176,  52, 182,  58, 184],\n",
       "          [ -1,  -1,  -1,  -1,  -1,  67, 182,  75, 190,  78, 196],\n",
       "          [ -1,  -1,  -1,  -1,  -1, 127, 182, 138, 195, 148, 193],\n",
       "          [ -1,  -1,  -1,  -1,  -1, 155, 192, 164, 195, 179, 187],\n",
       "          [ -1,  -1,  -1,  -1,  -1, 192, 158, 210, 156, 212, 148],\n",
       "          [ -1,  -1,  -1,  -1,  -1, 221, 146, 224, 138, 228, 130],\n",
       "          [ -1,  -1,  -1,  -1,  -1, 241, 138, 238, 131, 242, 125],\n",
       "          [ -1,  -1,  -1,  -1,  -1, 217,  49, 215,  54, 215,  48],\n",
       "          [ -1,  -1,  -1,  -1,  -1, 230,  52, 235,  55, 242,  59],\n",
       "          [ -1,  -1,  -1,  -1,  -1, 245,  80, 255,  84, 255, 108],\n",
       "          [ -1,  -1,  -1,  -1,  -1,  -1,  -1,  -1,  -1, 255, 164],\n",
       "          [ -1,  -1,  -1,  -1,  -1, 255, 200, 255, 211, 174, 218],\n",
       "          [ -1,  -1,  -1,  -1,  -1, 255, 186, 160, 232, 154, 230],\n",
       "          [ -1,  -1,  -1,  -1,  -1, 132, 255,  71, 255,  87, 242],\n",
       "          [ -1,  -1,  -1,  -1,  -1,  65, 232,  65, 230,  12, 205],\n",
       "          [ -1,  -1,  -1,  -1,  -1,   0, 221,   0, 207,   6, 204],\n",
       "          [ -1,  -1,  -1,  -1,  -1,  -1,  -1,  -1,  -1,  -1,  -1],\n",
       "          [ -1,  -1,  -1,  -1,  -1,  -1,  -1,  -1,  -1,  -1,  -1],\n",
       "          [ -1,  -1,  -1,  -1,  -1,  -1,  -1,  -1,  -1,  -1,  -1],\n",
       "          [ -1,  -1,  -1,  -1,  -1,  -1,  -1,  -1,  -1,  -1,  -1],\n",
       "          [ -1,  -1,  -1,  -1,  -1,  -1,  -1,  -1,  -1,  -1,  -1],\n",
       "          [ -1,  -1,  -1,  -1,  -1,  -1,  -1,  -1,  -1,  -1,  -1],\n",
       "          [ -1,  -1,  -1,  -1,  -1,  -1,  -1,  -1,  -1,  -1,  -1]]]))"
      ]
     },
     "execution_count": 18,
     "metadata": {},
     "output_type": "execute_result"
    }
   ],
   "source": [
    "dataset, model, device, cfg = _load_model(model_path=\"models/hierarchical_ordered.pth.tar\",\n",
    "                                          cfg_module=\"configs.deepsvg.hierarchical_ordered\",\n",
    "                                          data_folder=\"data/svgs\")\n",
    "model_hierarchical = \"models/hierarchical_ordered.pth.tar\"\n",
    "z = encode_logo(\"Bayer_2\", model_path=model_hierarchical, data_folder=\"data/decomposed_svgs\")\n",
    "model.greedy_sample(z=z)"
   ]
  },
  {
   "cell_type": "code",
   "execution_count": 16,
   "metadata": {},
   "outputs": [],
   "source": [
    "#Decoder.embedding(z=z)"
   ]
  },
  {
   "cell_type": "code",
   "execution_count": 15,
   "metadata": {},
   "outputs": [],
   "source": [
    "#model.decoder(z=z, None, None, label=None, hierarch_logits=None, return_hierarch=False)"
   ]
  },
  {
   "cell_type": "code",
   "execution_count": 31,
   "metadata": {},
   "outputs": [],
   "source": [
    "res = model.forward(commands_enc=None, args_enc=None, commands_dec=None, args_dec=None, label=None, z=z, hierarch_logits=None, encode_mode=False, return_tgt=False)"
   ]
  },
  {
   "cell_type": "code",
   "execution_count": 32,
   "metadata": {},
   "outputs": [],
   "source": [
    "#res"
   ]
  },
  {
   "cell_type": "code",
   "execution_count": 37,
   "metadata": {},
   "outputs": [
    {
     "data": {
      "text/plain": [
       "torch.Size([1, 8, 31, 7])"
      ]
     },
     "execution_count": 37,
     "metadata": {},
     "output_type": "execute_result"
    }
   ],
   "source": [
    "res['command_logits'].shape"
   ]
  },
  {
   "cell_type": "code",
   "execution_count": 39,
   "metadata": {},
   "outputs": [
    {
     "data": {
      "text/plain": [
       "torch.Size([1, 8, 31, 11, 257])"
      ]
     },
     "execution_count": 39,
     "metadata": {},
     "output_type": "execute_result"
    }
   ],
   "source": [
    "res['args_logits'].shape"
   ]
  },
  {
   "cell_type": "code",
   "execution_count": 35,
   "metadata": {},
   "outputs": [
    {
     "data": {
      "text/plain": [
       "torch.Size([1, 8, 1, 2])"
      ]
     },
     "execution_count": 35,
     "metadata": {},
     "output_type": "execute_result"
    }
   ],
   "source": [
    "res['visibility_logits'].shape"
   ]
  },
  {
   "cell_type": "code",
   "execution_count": 11,
   "metadata": {},
   "outputs": [
    {
     "data": {
      "text/plain": [
       "SVG[Bbox(0.0 0.0 24.0 24.0)](\n",
       "\tSVGPathGroup(SVGPath(M[P(0.0, 0.0), P(10.40625, 3.46875)] L[P(10.40625, 3.46875), P(12.5625, 3.28125)] C[P(12.5625, 3.28125), P(13.03125, 3.5625), P(13.59375, 3.75), P(13.875, 4.125)] C[P(13.875, 4.125), P(13.96875, 4.40625), P(13.875, 4.96875), P(13.5, 5.25)] C[P(13.5, 5.25), P(13.78125, 5.8125), P(13.40625, 6.1875), P(12.5625, 6.5625)] L[P(12.5625, 6.5625), P(10.78125, 5.625)] L[P(10.78125, 5.625), P(10.40625, 3.46875)])),\n",
       "\tSVGPathGroup(SVGPath(M[P(10.40625, 3.46875), P(83.99994659423828, 83.99994659423828)] M[P(83.99994659423828, 83.99994659423828), P(83.99994659423828, 83.99994659423828)])),\n",
       "\tSVGPathGroup(SVGPath(M[P(-0.09375, -0.09375), P(83.99994659423828, 83.99994659423828)] M[P(83.99994659423828, 83.99994659423828), P(83.99994659423828, 83.99994659423828)])),\n",
       "\tSVGPathGroup(SVGPath(M[P(-0.09375, -0.09375), P(83.99994659423828, 83.99994659423828)] M[P(83.99994659423828, 83.99994659423828), P(83.99994659423828, 83.99994659423828)])),\n",
       "\tSVGPathGroup(SVGPath(M[P(-0.09375, -0.09375), P(83.99994659423828, 83.99994659423828)] M[P(83.99994659423828, 83.99994659423828), P(83.99994659423828, 83.99994659423828)])),\n",
       "\tSVGPathGroup(SVGPath(M[P(-0.09375, -0.09375), P(83.99994659423828, 83.99994659423828)] M[P(83.99994659423828, 83.99994659423828), P(83.99994659423828, 83.99994659423828)])),\n",
       "\tSVGPathGroup(SVGPath(M[P(-0.09375, -0.09375), P(83.99994659423828, 83.99994659423828)] M[P(83.99994659423828, 83.99994659423828), P(83.99994659423828, 83.99994659423828)])),\n",
       "\tSVGPathGroup(SVGPath(M[P(-0.09375, -0.09375), P(83.99994659423828, 83.99994659423828)] M[P(83.99994659423828, 83.99994659423828), P(83.99994659423828, 83.99994659423828)]))\n",
       ")"
      ]
     },
     "execution_count": 11,
     "metadata": {},
     "output_type": "execute_result"
    }
   ],
   "source": [
    "model = \"models/hierarchical_ordered.pth.tar\"\n",
    "utils.set_seed(42) # Reproducibility\n",
    "z = encode_logo(\"Bayer_0\", model_path=model, data_folder=\"data/decomposed_svgs\")\n",
    "decode_z(z, model_path=model, data_folder=\"data/decomposed_svgs\", do_display=False, return_svg=True, return_png=False)"
   ]
  },
  {
   "cell_type": "code",
   "execution_count": 12,
   "metadata": {},
   "outputs": [
    {
     "data": {
      "image/svg+xml": [
       "<svg height=\"200px\" viewBox=\"0.0 0.0 24.0 24.0\" width=\"200px\" xmlns=\"http://www.w3.org/2000/svg\"><path d=\"M10.40625 3.46875 L12.5625 3.28125 C13.03125 3.5625 13.59375 3.75 13.875 4.125 C13.96875 4.40625 13.875 4.96875 13.5 5.25 C13.78125 5.8125 13.40625 6.1875 12.5625 6.5625 L10.78125 5.625 L10.40625 3.46875\" fill=\"none\" filling=\"0\" stroke=\"deepskyblue\" stroke-opacity=\"1.0\" stroke-width=\".3\"/>\n",
       "<path d=\"M83.99994659423828 83.99994659423828 M83.99994659423828 83.99994659423828\" fill=\"none\" filling=\"0\" stroke=\"lime\" stroke-opacity=\"1.0\" stroke-width=\".3\"/>\n",
       "<path d=\"M83.99994659423828 83.99994659423828 M83.99994659423828 83.99994659423828\" fill=\"none\" filling=\"0\" stroke=\"deeppink\" stroke-opacity=\"1.0\" stroke-width=\".3\"/>\n",
       "<path d=\"M83.99994659423828 83.99994659423828 M83.99994659423828 83.99994659423828\" fill=\"none\" filling=\"0\" stroke=\"gold\" stroke-opacity=\"1.0\" stroke-width=\".3\"/>\n",
       "<path d=\"M83.99994659423828 83.99994659423828 M83.99994659423828 83.99994659423828\" fill=\"none\" filling=\"0\" stroke=\"coral\" stroke-opacity=\"1.0\" stroke-width=\".3\"/>\n",
       "<path d=\"M83.99994659423828 83.99994659423828 M83.99994659423828 83.99994659423828\" fill=\"none\" filling=\"0\" stroke=\"darkviolet\" stroke-opacity=\"1.0\" stroke-width=\".3\"/>\n",
       "<path d=\"M83.99994659423828 83.99994659423828 M83.99994659423828 83.99994659423828\" fill=\"none\" filling=\"0\" stroke=\"royalblue\" stroke-opacity=\"1.0\" stroke-width=\".3\"/>\n",
       "<path d=\"M83.99994659423828 83.99994659423828 M83.99994659423828 83.99994659423828\" fill=\"none\" filling=\"0\" stroke=\"darkmagenta\" stroke-opacity=\"1.0\" stroke-width=\".3\"/></svg>"
      ],
      "text/plain": [
       "<IPython.core.display.SVG object>"
      ]
     },
     "metadata": {},
     "output_type": "display_data"
    }
   ],
   "source": [
    "decode_z(z, model_path=model, data_folder=\"data/decomposed_svgs\", do_display=True, return_svg=False, return_png=False)"
   ]
  },
  {
   "cell_type": "markdown",
   "metadata": {},
   "source": [
    "### 2 Model"
   ]
  },
  {
   "cell_type": "markdown",
   "metadata": {},
   "source": [
    "#### 2.1 Load ambeddings for training data"
   ]
  },
  {
   "cell_type": "code",
   "execution_count": 3,
   "metadata": {},
   "outputs": [],
   "source": [
    "combined_embedding = pd.read_pickle('data/combined_embedding.pkl')"
   ]
  },
  {
   "cell_type": "code",
   "execution_count": 4,
   "metadata": {},
   "outputs": [
    {
     "data": {
      "text/html": [
       "<div>\n",
       "<style scoped>\n",
       "    .dataframe tbody tr th:only-of-type {\n",
       "        vertical-align: middle;\n",
       "    }\n",
       "\n",
       "    .dataframe tbody tr th {\n",
       "        vertical-align: top;\n",
       "    }\n",
       "\n",
       "    .dataframe thead th {\n",
       "        text-align: right;\n",
       "    }\n",
       "</style>\n",
       "<table border=\"1\" class=\"dataframe\">\n",
       "  <thead>\n",
       "    <tr style=\"text-align: right;\">\n",
       "      <th></th>\n",
       "      <th>filename</th>\n",
       "      <th>animation_id</th>\n",
       "      <th>0</th>\n",
       "      <th>1</th>\n",
       "      <th>2</th>\n",
       "      <th>3</th>\n",
       "      <th>4</th>\n",
       "      <th>5</th>\n",
       "      <th>6</th>\n",
       "      <th>7</th>\n",
       "      <th>...</th>\n",
       "      <th>246</th>\n",
       "      <th>247</th>\n",
       "      <th>248</th>\n",
       "      <th>249</th>\n",
       "      <th>250</th>\n",
       "      <th>251</th>\n",
       "      <th>252</th>\n",
       "      <th>253</th>\n",
       "      <th>254</th>\n",
       "      <th>255</th>\n",
       "    </tr>\n",
       "  </thead>\n",
       "  <tbody>\n",
       "    <tr>\n",
       "      <th>0</th>\n",
       "      <td>Ableton</td>\n",
       "      <td>1</td>\n",
       "      <td>0.999088</td>\n",
       "      <td>-3.647312</td>\n",
       "      <td>1.943437</td>\n",
       "      <td>-1.427582</td>\n",
       "      <td>0.235763</td>\n",
       "      <td>0.147010</td>\n",
       "      <td>-3.427875</td>\n",
       "      <td>-1.415471</td>\n",
       "      <td>...</td>\n",
       "      <td>-4.861924</td>\n",
       "      <td>-6.955129</td>\n",
       "      <td>0.178722</td>\n",
       "      <td>1.480048</td>\n",
       "      <td>1.658698</td>\n",
       "      <td>-2.688116</td>\n",
       "      <td>-1.818139</td>\n",
       "      <td>0.483364</td>\n",
       "      <td>-1.021382</td>\n",
       "      <td>0.807942</td>\n",
       "    </tr>\n",
       "    <tr>\n",
       "      <th>1</th>\n",
       "      <td>Ableton</td>\n",
       "      <td>0</td>\n",
       "      <td>0.716675</td>\n",
       "      <td>-2.136357</td>\n",
       "      <td>2.035006</td>\n",
       "      <td>-2.235287</td>\n",
       "      <td>-0.249549</td>\n",
       "      <td>-2.589223</td>\n",
       "      <td>-2.964693</td>\n",
       "      <td>-2.085697</td>\n",
       "      <td>...</td>\n",
       "      <td>-5.107700</td>\n",
       "      <td>-6.145383</td>\n",
       "      <td>0.806620</td>\n",
       "      <td>-0.387984</td>\n",
       "      <td>0.471549</td>\n",
       "      <td>-2.912267</td>\n",
       "      <td>-2.603213</td>\n",
       "      <td>-0.113537</td>\n",
       "      <td>-0.046964</td>\n",
       "      <td>2.062963</td>\n",
       "    </tr>\n",
       "    <tr>\n",
       "      <th>2</th>\n",
       "      <td>A&amp;O Hotels and Hostels</td>\n",
       "      <td>1</td>\n",
       "      <td>0.392774</td>\n",
       "      <td>-1.993486</td>\n",
       "      <td>0.977245</td>\n",
       "      <td>-1.300846</td>\n",
       "      <td>-0.815418</td>\n",
       "      <td>0.189957</td>\n",
       "      <td>-1.640209</td>\n",
       "      <td>-1.261180</td>\n",
       "      <td>...</td>\n",
       "      <td>-3.632322</td>\n",
       "      <td>-5.625988</td>\n",
       "      <td>-0.048256</td>\n",
       "      <td>2.022904</td>\n",
       "      <td>1.145446</td>\n",
       "      <td>-2.707033</td>\n",
       "      <td>-1.062037</td>\n",
       "      <td>0.436135</td>\n",
       "      <td>1.144496</td>\n",
       "      <td>0.864589</td>\n",
       "    </tr>\n",
       "    <tr>\n",
       "      <th>3</th>\n",
       "      <td>A&amp;O Hotels and Hostels</td>\n",
       "      <td>0</td>\n",
       "      <td>-1.267531</td>\n",
       "      <td>0.664335</td>\n",
       "      <td>-0.586723</td>\n",
       "      <td>-0.603000</td>\n",
       "      <td>-2.813056</td>\n",
       "      <td>-0.324393</td>\n",
       "      <td>-0.162084</td>\n",
       "      <td>-2.029147</td>\n",
       "      <td>...</td>\n",
       "      <td>-3.073321</td>\n",
       "      <td>-2.453578</td>\n",
       "      <td>0.825134</td>\n",
       "      <td>-1.391940</td>\n",
       "      <td>-0.481152</td>\n",
       "      <td>-2.813143</td>\n",
       "      <td>-1.524138</td>\n",
       "      <td>1.068881</td>\n",
       "      <td>0.523363</td>\n",
       "      <td>1.911017</td>\n",
       "    </tr>\n",
       "    <tr>\n",
       "      <th>4</th>\n",
       "      <td>Ableton</td>\n",
       "      <td>4</td>\n",
       "      <td>0.484945</td>\n",
       "      <td>-2.718677</td>\n",
       "      <td>1.177793</td>\n",
       "      <td>-1.981081</td>\n",
       "      <td>-0.394796</td>\n",
       "      <td>-0.214796</td>\n",
       "      <td>-4.011641</td>\n",
       "      <td>-2.098473</td>\n",
       "      <td>...</td>\n",
       "      <td>-5.154762</td>\n",
       "      <td>-7.863921</td>\n",
       "      <td>0.268913</td>\n",
       "      <td>1.604839</td>\n",
       "      <td>2.163260</td>\n",
       "      <td>-2.689683</td>\n",
       "      <td>-3.152629</td>\n",
       "      <td>-0.002783</td>\n",
       "      <td>-1.194627</td>\n",
       "      <td>1.738602</td>\n",
       "    </tr>\n",
       "    <tr>\n",
       "      <th>...</th>\n",
       "      <td>...</td>\n",
       "      <td>...</td>\n",
       "      <td>...</td>\n",
       "      <td>...</td>\n",
       "      <td>...</td>\n",
       "      <td>...</td>\n",
       "      <td>...</td>\n",
       "      <td>...</td>\n",
       "      <td>...</td>\n",
       "      <td>...</td>\n",
       "      <td>...</td>\n",
       "      <td>...</td>\n",
       "      <td>...</td>\n",
       "      <td>...</td>\n",
       "      <td>...</td>\n",
       "      <td>...</td>\n",
       "      <td>...</td>\n",
       "      <td>...</td>\n",
       "      <td>...</td>\n",
       "      <td>...</td>\n",
       "      <td>...</td>\n",
       "    </tr>\n",
       "    <tr>\n",
       "      <th>2969</th>\n",
       "      <td>Öger Group</td>\n",
       "      <td>9</td>\n",
       "      <td>0.501243</td>\n",
       "      <td>-1.818034</td>\n",
       "      <td>1.759739</td>\n",
       "      <td>2.331190</td>\n",
       "      <td>-1.661857</td>\n",
       "      <td>0.447471</td>\n",
       "      <td>-2.610717</td>\n",
       "      <td>-2.168237</td>\n",
       "      <td>...</td>\n",
       "      <td>-3.709549</td>\n",
       "      <td>-4.900559</td>\n",
       "      <td>-0.274134</td>\n",
       "      <td>-3.110418</td>\n",
       "      <td>-0.009820</td>\n",
       "      <td>-3.104049</td>\n",
       "      <td>-2.826110</td>\n",
       "      <td>1.584878</td>\n",
       "      <td>-3.025648</td>\n",
       "      <td>1.297592</td>\n",
       "    </tr>\n",
       "    <tr>\n",
       "      <th>2970</th>\n",
       "      <td>Öger Group</td>\n",
       "      <td>7</td>\n",
       "      <td>0.100549</td>\n",
       "      <td>-1.405265</td>\n",
       "      <td>1.535983</td>\n",
       "      <td>2.383574</td>\n",
       "      <td>-1.841391</td>\n",
       "      <td>1.079986</td>\n",
       "      <td>-2.301652</td>\n",
       "      <td>-2.281266</td>\n",
       "      <td>...</td>\n",
       "      <td>-3.049530</td>\n",
       "      <td>-5.041844</td>\n",
       "      <td>-0.579861</td>\n",
       "      <td>-2.501549</td>\n",
       "      <td>0.332780</td>\n",
       "      <td>-2.951898</td>\n",
       "      <td>-3.131474</td>\n",
       "      <td>0.866903</td>\n",
       "      <td>-2.807621</td>\n",
       "      <td>1.140946</td>\n",
       "    </tr>\n",
       "    <tr>\n",
       "      <th>2971</th>\n",
       "      <td>Öger Group</td>\n",
       "      <td>8</td>\n",
       "      <td>0.582206</td>\n",
       "      <td>-2.319556</td>\n",
       "      <td>1.587112</td>\n",
       "      <td>2.120214</td>\n",
       "      <td>-1.307429</td>\n",
       "      <td>1.662620</td>\n",
       "      <td>-2.815449</td>\n",
       "      <td>-2.224535</td>\n",
       "      <td>...</td>\n",
       "      <td>-2.598483</td>\n",
       "      <td>-4.649100</td>\n",
       "      <td>0.037339</td>\n",
       "      <td>-1.808706</td>\n",
       "      <td>0.583725</td>\n",
       "      <td>-2.538647</td>\n",
       "      <td>-2.944046</td>\n",
       "      <td>0.870587</td>\n",
       "      <td>-3.222914</td>\n",
       "      <td>0.853417</td>\n",
       "    </tr>\n",
       "    <tr>\n",
       "      <th>2972</th>\n",
       "      <td>ÖRAG</td>\n",
       "      <td>0</td>\n",
       "      <td>0.013261</td>\n",
       "      <td>1.916203</td>\n",
       "      <td>-0.021856</td>\n",
       "      <td>3.099442</td>\n",
       "      <td>-3.031816</td>\n",
       "      <td>1.833678</td>\n",
       "      <td>2.651020</td>\n",
       "      <td>0.025553</td>\n",
       "      <td>...</td>\n",
       "      <td>2.304443</td>\n",
       "      <td>-1.605999</td>\n",
       "      <td>-3.001702</td>\n",
       "      <td>0.152502</td>\n",
       "      <td>0.224020</td>\n",
       "      <td>-1.659434</td>\n",
       "      <td>-1.756564</td>\n",
       "      <td>0.024562</td>\n",
       "      <td>3.419873</td>\n",
       "      <td>1.353659</td>\n",
       "    </tr>\n",
       "    <tr>\n",
       "      <th>2973</th>\n",
       "      <td>ÖRAG</td>\n",
       "      <td>1</td>\n",
       "      <td>0.474992</td>\n",
       "      <td>1.106436</td>\n",
       "      <td>0.761179</td>\n",
       "      <td>2.085388</td>\n",
       "      <td>-2.298010</td>\n",
       "      <td>1.602547</td>\n",
       "      <td>2.086565</td>\n",
       "      <td>0.377890</td>\n",
       "      <td>...</td>\n",
       "      <td>1.416323</td>\n",
       "      <td>-3.736632</td>\n",
       "      <td>-2.998158</td>\n",
       "      <td>2.102253</td>\n",
       "      <td>1.147294</td>\n",
       "      <td>-1.950621</td>\n",
       "      <td>-1.510977</td>\n",
       "      <td>-0.485337</td>\n",
       "      <td>4.218954</td>\n",
       "      <td>1.119054</td>\n",
       "    </tr>\n",
       "  </tbody>\n",
       "</table>\n",
       "<p>2974 rows × 258 columns</p>\n",
       "</div>"
      ],
      "text/plain": [
       "                    filename animation_id         0         1         2  \\\n",
       "0                    Ableton            1  0.999088 -3.647312  1.943437   \n",
       "1                    Ableton            0  0.716675 -2.136357  2.035006   \n",
       "2     A&O Hotels and Hostels            1  0.392774 -1.993486  0.977245   \n",
       "3     A&O Hotels and Hostels            0 -1.267531  0.664335 -0.586723   \n",
       "4                    Ableton            4  0.484945 -2.718677  1.177793   \n",
       "...                      ...          ...       ...       ...       ...   \n",
       "2969              Öger Group            9  0.501243 -1.818034  1.759739   \n",
       "2970              Öger Group            7  0.100549 -1.405265  1.535983   \n",
       "2971              Öger Group            8  0.582206 -2.319556  1.587112   \n",
       "2972                    ÖRAG            0  0.013261  1.916203 -0.021856   \n",
       "2973                    ÖRAG            1  0.474992  1.106436  0.761179   \n",
       "\n",
       "             3         4         5         6         7  ...       246  \\\n",
       "0    -1.427582  0.235763  0.147010 -3.427875 -1.415471  ... -4.861924   \n",
       "1    -2.235287 -0.249549 -2.589223 -2.964693 -2.085697  ... -5.107700   \n",
       "2    -1.300846 -0.815418  0.189957 -1.640209 -1.261180  ... -3.632322   \n",
       "3    -0.603000 -2.813056 -0.324393 -0.162084 -2.029147  ... -3.073321   \n",
       "4    -1.981081 -0.394796 -0.214796 -4.011641 -2.098473  ... -5.154762   \n",
       "...        ...       ...       ...       ...       ...  ...       ...   \n",
       "2969  2.331190 -1.661857  0.447471 -2.610717 -2.168237  ... -3.709549   \n",
       "2970  2.383574 -1.841391  1.079986 -2.301652 -2.281266  ... -3.049530   \n",
       "2971  2.120214 -1.307429  1.662620 -2.815449 -2.224535  ... -2.598483   \n",
       "2972  3.099442 -3.031816  1.833678  2.651020  0.025553  ...  2.304443   \n",
       "2973  2.085388 -2.298010  1.602547  2.086565  0.377890  ...  1.416323   \n",
       "\n",
       "           247       248       249       250       251       252       253  \\\n",
       "0    -6.955129  0.178722  1.480048  1.658698 -2.688116 -1.818139  0.483364   \n",
       "1    -6.145383  0.806620 -0.387984  0.471549 -2.912267 -2.603213 -0.113537   \n",
       "2    -5.625988 -0.048256  2.022904  1.145446 -2.707033 -1.062037  0.436135   \n",
       "3    -2.453578  0.825134 -1.391940 -0.481152 -2.813143 -1.524138  1.068881   \n",
       "4    -7.863921  0.268913  1.604839  2.163260 -2.689683 -3.152629 -0.002783   \n",
       "...        ...       ...       ...       ...       ...       ...       ...   \n",
       "2969 -4.900559 -0.274134 -3.110418 -0.009820 -3.104049 -2.826110  1.584878   \n",
       "2970 -5.041844 -0.579861 -2.501549  0.332780 -2.951898 -3.131474  0.866903   \n",
       "2971 -4.649100  0.037339 -1.808706  0.583725 -2.538647 -2.944046  0.870587   \n",
       "2972 -1.605999 -3.001702  0.152502  0.224020 -1.659434 -1.756564  0.024562   \n",
       "2973 -3.736632 -2.998158  2.102253  1.147294 -1.950621 -1.510977 -0.485337   \n",
       "\n",
       "           254       255  \n",
       "0    -1.021382  0.807942  \n",
       "1    -0.046964  2.062963  \n",
       "2     1.144496  0.864589  \n",
       "3     0.523363  1.911017  \n",
       "4    -1.194627  1.738602  \n",
       "...        ...       ...  \n",
       "2969 -3.025648  1.297592  \n",
       "2970 -2.807621  1.140946  \n",
       "2971 -3.222914  0.853417  \n",
       "2972  3.419873  1.353659  \n",
       "2973  4.218954  1.119054  \n",
       "\n",
       "[2974 rows x 258 columns]"
      ]
     },
     "execution_count": 4,
     "metadata": {},
     "output_type": "execute_result"
    }
   ],
   "source": [
    "combined_embedding"
   ]
  },
  {
   "cell_type": "code",
   "execution_count": 5,
   "metadata": {},
   "outputs": [],
   "source": [
    "# reduce to easy SVGs (<= 1 paths) in order to speed up training\n",
    "combined_embedding['animation_id'] = pd.to_numeric(combined_embedding['animation_id'])\n",
    "easy_logos = set(np.unique(combined_embedding['filename'])[combined_embedding.groupby(['filename']).max()['animation_id']<=1])\n",
    "emb_red = combined_embedding[combined_embedding['filename'].isin(easy_logos)].sort_values(['filename', 'animation_id'])\n",
    "emb_red.reset_index(drop=True, inplace=True)"
   ]
  },
  {
   "cell_type": "markdown",
   "metadata": {},
   "source": [
    "#### 2.2 Train model head using a genetic approach (multi-layer perceptron)"
   ]
  },
  {
   "cell_type": "code",
   "execution_count": null,
   "metadata": {},
   "outputs": [],
   "source": [
    "# does not work in notebook --> model trained in command line\n",
    "top_model = train_model_head(svg_dataset=emb_red, num_agents=50, top_parent_limit=10, generations=10)"
   ]
  },
  {
   "cell_type": "markdown",
   "metadata": {},
   "source": [
    "#### 2.3 Load best model"
   ]
  },
  {
   "cell_type": "code",
   "execution_count": 6,
   "metadata": {},
   "outputs": [
    {
     "data": {
      "text/plain": [
       "MLP(\n",
       "  (hidden): ModuleList(\n",
       "    (0): Linear(in_features=256, out_features=192, bias=True)\n",
       "  )\n",
       "  (out): Linear(in_features=192, out_features=21, bias=True)\n",
       ")"
      ]
     },
     "execution_count": 6,
     "metadata": {},
     "output_type": "execute_result"
    }
   ],
   "source": [
    "top_model = torch.load('models/best_model_head.pkl')\n",
    "top_model.eval()"
   ]
  },
  {
   "cell_type": "code",
   "execution_count": 7,
   "metadata": {},
   "outputs": [
    {
     "data": {
      "text/plain": [
       "OrderedDict([('hidden.0.weight',\n",
       "              tensor([[ 0.0076,  0.0289,  0.0170,  ...,  0.0203,  0.0292, -0.0056],\n",
       "                      [-0.0067, -0.0460,  0.0577,  ...,  0.0217, -0.0407, -0.0215],\n",
       "                      [ 0.0169,  0.0323, -0.0375,  ..., -0.0099,  0.0595,  0.0073],\n",
       "                      ...,\n",
       "                      [ 0.0548,  0.0456,  0.0066,  ...,  0.0304,  0.0248,  0.0197],\n",
       "                      [-0.0138, -0.0294,  0.0223,  ..., -0.0268,  0.0083,  0.0513],\n",
       "                      [ 0.0432,  0.0478, -0.0192,  ..., -0.0406, -0.0426,  0.0340]])),\n",
       "             ('hidden.0.bias',\n",
       "              tensor([-2.2902e-02, -3.3149e-02, -1.1399e-02, -5.9355e-02,  5.2337e-02,\n",
       "                      -3.6455e-02, -9.0248e-03, -2.7904e-02,  5.9884e-02,  5.2173e-02,\n",
       "                       3.2236e-02, -5.4138e-02,  2.0477e-02, -2.6128e-02,  3.4145e-02,\n",
       "                       2.5280e-02,  2.1688e-02, -9.1288e-03,  4.8009e-02,  1.2749e-02,\n",
       "                       3.5686e-02,  2.0622e-02,  4.2339e-02,  2.6160e-02,  2.1034e-02,\n",
       "                       4.1417e-02,  2.7349e-02, -5.4796e-02,  4.6288e-02,  2.7355e-02,\n",
       "                       4.7307e-02,  5.4281e-02,  5.2442e-03, -1.6643e-02,  3.9930e-02,\n",
       "                      -1.8155e-02, -3.8193e-03,  6.1362e-02, -2.1183e-02,  3.9219e-03,\n",
       "                      -1.3859e-03, -5.8614e-02, -4.3626e-02,  8.5691e-03, -6.2107e-02,\n",
       "                      -1.2501e-02, -6.1570e-02, -5.1763e-02,  2.1933e-02,  2.6699e-02,\n",
       "                       1.9383e-02,  3.7525e-02,  1.7864e-02,  6.1484e-02, -5.4604e-02,\n",
       "                      -1.6636e-02,  2.2499e-02, -4.0326e-02,  1.5243e-02,  5.8098e-02,\n",
       "                       6.1488e-03, -1.4784e-02, -5.1206e-02,  1.9656e-03,  1.5911e-02,\n",
       "                      -3.9712e-02, -1.1039e-02,  3.4275e-02,  4.1266e-02, -5.0326e-02,\n",
       "                       6.1141e-02,  9.4003e-03, -1.8786e-02, -4.6491e-02, -4.4835e-02,\n",
       "                       5.1493e-02, -4.6034e-03,  5.4137e-02, -4.4438e-02,  3.1016e-03,\n",
       "                      -3.1224e-02,  1.6245e-02, -4.7487e-02, -6.7286e-03,  4.9456e-02,\n",
       "                      -5.8681e-02,  2.6610e-02,  4.3519e-02, -8.6064e-03,  3.1110e-02,\n",
       "                      -5.7175e-03,  3.5888e-02,  4.6182e-02, -2.3764e-02,  2.1886e-02,\n",
       "                       1.6741e-02,  1.8144e-02,  5.6850e-02, -2.4495e-02,  3.9978e-02,\n",
       "                       4.4435e-02, -3.7914e-02, -1.4838e-02,  3.0329e-03, -2.8982e-02,\n",
       "                      -5.7961e-02,  4.5966e-02,  2.9304e-02,  2.2008e-03, -5.2391e-02,\n",
       "                      -2.1971e-02, -5.6528e-02, -4.0166e-02,  4.0047e-02,  2.0894e-02,\n",
       "                       3.4748e-02, -4.2047e-02,  1.6113e-02,  1.0735e-02,  2.6991e-02,\n",
       "                       3.4589e-02, -5.7179e-02, -4.1146e-02,  1.7518e-02, -9.2444e-03,\n",
       "                      -5.0795e-02,  2.4284e-02, -1.8590e-02, -1.9699e-02,  9.9986e-03,\n",
       "                       4.3477e-02, -2.2073e-02,  4.6385e-02,  2.9525e-02,  3.0389e-02,\n",
       "                      -1.6489e-02, -3.1420e-02, -5.0023e-02, -2.0520e-02, -4.7471e-02,\n",
       "                      -3.3482e-02, -1.9307e-02,  5.6095e-02,  3.9472e-02,  2.9592e-02,\n",
       "                      -1.1565e-02, -4.5312e-02, -1.2236e-03, -5.7535e-02,  2.5991e-02,\n",
       "                       9.1122e-03, -2.3555e-02, -3.0926e-02, -1.5388e-02,  3.7109e-03,\n",
       "                       6.0927e-02,  1.6107e-02, -5.9402e-02, -3.3645e-02, -3.8715e-02,\n",
       "                       5.3543e-02, -8.9695e-04,  2.8269e-02, -5.9469e-02,  4.1672e-02,\n",
       "                      -2.1892e-02,  1.0528e-03,  5.7928e-02, -1.3920e-02,  5.2783e-02,\n",
       "                      -2.8727e-02,  4.0036e-02,  3.1963e-05,  2.6749e-02,  1.6373e-02,\n",
       "                       8.3425e-03,  3.0438e-02, -1.1446e-02,  5.3361e-02, -1.1249e-02,\n",
       "                       1.1001e-02,  5.1530e-03, -7.5680e-03, -6.9952e-03, -1.3774e-02,\n",
       "                       7.8247e-03,  3.7733e-02, -5.8183e-02, -1.1053e-02, -3.6248e-02,\n",
       "                       4.2631e-02, -3.3115e-02])),\n",
       "             ('out.weight',\n",
       "              tensor([[-0.0282,  0.0715,  0.0650,  ...,  0.0610,  0.0115, -0.0534],\n",
       "                      [ 0.0041, -0.0369,  0.0107,  ...,  0.0668, -0.0209, -0.0553],\n",
       "                      [ 0.0654,  0.0076, -0.0054,  ..., -0.0661,  0.0405,  0.0103],\n",
       "                      ...,\n",
       "                      [-0.0262,  0.0035,  0.0077,  ..., -0.0657,  0.0270, -0.0406],\n",
       "                      [-0.0064,  0.0125,  0.0475,  ..., -0.0016,  0.0579, -0.0537],\n",
       "                      [-0.0653,  0.0167,  0.0092,  ..., -0.0595, -0.0349, -0.0081]])),\n",
       "             ('out.bias',\n",
       "              tensor([ 0.0560,  0.0090,  0.0222,  0.0061, -0.0350, -0.0419, -0.0330, -0.0257,\n",
       "                      -0.0105, -0.0062, -0.0204,  0.0313, -0.0265,  0.0080, -0.0149, -0.0487,\n",
       "                       0.0581, -0.0677,  0.0261, -0.0447,  0.0179]))])"
      ]
     },
     "execution_count": 7,
     "metadata": {},
     "output_type": "execute_result"
    }
   ],
   "source": [
    "top_model.state_dict()"
   ]
  },
  {
   "cell_type": "markdown",
   "metadata": {},
   "source": [
    "### 3 Predict Animation"
   ]
  },
  {
   "cell_type": "code",
   "execution_count": 101,
   "metadata": {},
   "outputs": [
    {
     "data": {
      "image/svg+xml": [
       "<svg height=\"762\" id=\"svg6234\" version=\"1.1\" viewBox=\"-3.0065139 -3.0065139 142.8255278 106.2301578\" width=\"1024\" xmlns=\"http://www.w3.org/2000/svg\" xmlns:svg=\"http://www.w3.org/2000/svg\">\n",
       "\t\n",
       "  \n",
       "\t<defs id=\"defs6236\"/>\n",
       "\t\n",
       "  \n",
       "\t<path animation_id=\"0\" d=\"m 58.55075,75.18075 19.13375,0 0,-15.94488 -19.13375,0 0,15.94488 z m 10e-4,-59.23588 19.13375,0 0,-15.94487 -19.13375,0 0,15.94487 z\" id=\"path5289\" style=\"fill:#bd1a2a;fill-opacity:1;fill-rule:nonzero;stroke:none\"/>\n",
       "\t\n",
       "  \n",
       "\t<path animation_id=\"1\" d=\"m 55.92725,7.8355 c -20.09425,0 -36.38475,13.30325 -36.38475,29.71437 0,16.40863 16.2905,29.71238 36.38475,29.71238 M 80.31,7.8355 c 20.09525,0 36.38675,13.30325 36.38675,29.71437 0,16.40863 -16.2915,29.71238 -36.38675,29.71238\" id=\"path5293\" style=\"fill:none;stroke:#0063a4;stroke-width:10.125;stroke-linecap:butt;stroke-linejoin:miter;stroke-miterlimit:4;stroke-opacity:1;stroke-dasharray:none\"/>\n",
       "\t\n",
       "  \n",
       "\t<path animation_id=\"2\" d=\"M 103.28463,99.93411 101.185,96.60647 c -0.84325,-1.27343 -1.3495,-2.09961 -1.85787,-2.97118 l -0.0474,0 c -0.45801,0.87157 -0.94088,1.6748 -1.76163,2.99316 l -1.95413,3.30566 -2.41362,0 4.97125,-7.61621 -4.77688,-7.43753 2.4365,0 2.1475,3.52884 c 0.603,0.98291 1.062,1.74219 1.496,2.54541 l 0.0724,0 c 0.458,-0.89258 0.86813,-1.58447 1.47063,-2.54541 l 2.19725,-3.52884 2.4365,0 -4.94625,7.32669 5.066,7.72705 -2.43662,0 m -23.90963,0 0,-15.05374 2.31537,0 5.188,7.61624 c 1.18313,1.76368 2.149,3.35059 2.8955,4.89111 l 0.0733,-0.022 C 89.6543,95.35498 89.60605,93.52393 89.60605,91.20117 l 0,-6.32083 1.9775,0 0,15.05374 -2.123,0 -5.16213,-7.63916 c -1.13525,-1.6748 -2.22075,-3.39355 -3.01812,-5.02445 l -0.0703,0.022 c 0.11962,1.89796 0.1435,3.70704 0.1435,6.20851 l 0,6.4331 -1.9785,0 m -4.92038,0 2.12257,0 0,-15.05375 -2.12257,0 0,15.05375 z M 63.935,84.88034 l 2.12362,0 0,13.42288 6.94876,0 0,1.63086 -9.07238,0 0,-15.05374 m -5.91062,8.79984 -1.61663,-4.33204 c -0.33787,-0.98388 -0.57963,-1.87742 -0.82087,-2.74805 l -0.0722,0 c -0.21675,0.87063 -0.48238,1.80909 -0.79588,2.7251 l -1.59225,4.35499 4.89788,0 z m -5.33301,1.51855 -1.68849,4.73535 -2.17188,0 5.52587,-15.05374 2.53325,0 5.54938,15.05374 -2.24425,0 -1.73675,-4.73535 -5.76713,0 m -7.55125,4.73535 2.12354,0 0,-15.05375 -2.12354,0 0,15.05375 z M 32.0645,98.41553 c 0.53025,0.0889 1.30225,0.0889 2.1225,0.0889 4.48775,0.0234 6.92487,-2.32275 6.92487,-6.3877 0.0239,-3.55126 -2.147,-5.8066 -6.587,-5.8066 -1.08537,0 -1.90575,0.0889 -2.46037,0.20113 l 0,11.90431 z M 29.94087,85.08059 c 1.30275,-0.17825 2.82275,-0.3125 4.48788,-0.3125 3.01562,0 5.163,0.64788 6.58687,1.87738 1.47163,1.22806 2.31638,2.96976 2.31638,5.40385 0,2.45751 -0.84475,4.4668 -2.34075,5.85205 -1.5445,1.40771 -4.05325,2.16699 -7.21437,2.16699 -1.5195,0 -2.75,-0.0449 -3.83601,-0.17822 l 0,-14.80955 m -2.581,7.79539 -6.29737,0 0,5.42724 7.04538,0 0,1.63086 -9.16838,0 0,-15.05374 8.80662,0 0,1.63088 -6.68362,0 0,4.75685 6.29737,0 0,1.60791 M 14.13862,93.32276 C 14.01812,91.24512 13.873,88.67676 13.873,86.82372 l -0.0478,0 c -0.57913,1.74171 -1.2305,3.66212 -2.05084,5.71779 l -2.87109,7.30322 -1.59277,0 -2.6543,-7.16895 C 3.88422,90.55419 3.25727,88.61084 2.79829,86.82372 l -0.0478,0 c -0.0483,1.87501 -0.16847,4.39942 -0.31396,6.65529 l -0.43409,6.45507 -2.00244,0 1.13428,-15.05374 2.67773,0 2.7749,7.2803 c 0.67579,1.85548 1.20607,3.53028 1.64063,5.09278 l 0.0483,0 c 0.43458,-1.51855 1.01319,-3.19336 1.73683,-5.09278 l 2.89555,-7.2803 2.67812,0 1.01325,15.05374 -2.07475,0 -0.38625,-6.61132\" id=\"path5311\" style=\"fill:#231f20;fill-opacity:1;fill-rule:nonzero;stroke:none\"/>\n",
       "\t\n",
       "  \n",
       "\t<path animation_id=\"3\" d=\"m 132.46875,84.72112 c -5.52625,0 -8.5,3.54249 -8.5,7.71875 0,2.43507 0.8985,4.48145 2.25,5.6875 1.64,1.47462 3.57125,1.96876 5.71875,1.96876 2.21875,0 3.93,-0.50001 4.75,-0.81251 l 0,-6.8125 -4.90625,0 0,0.875 3.75,0 0,5.3125 c -0.605,0.3125 -1.6925,0.53125 -3.40625,0.53125 -4.295,0 -6.96875,-2.53808 -6.96875,-6.78125 0,-4.08691 2.75625,-6.78125 7.21875,-6.78125 1.56875,0 2.62375,0.24663 3.46875,0.625 L 136.25,85.40862 c -0.6275,-0.28962 -2.045,-0.6875 -3.78125,-0.6875 z m -15.8125,0.15625 -5.90625,15.0625 1.1875,0 2,-5.28125 6.4375,0 2.0625,5.28125 1.1875,0 -5.875,-15.0625 -1.09375,0 z m 0.5,1.21875 0.0625,0 c 0.24163,0.84863 0.458,1.60648 0.84375,2.65625 l 1.96875,5.03125 -5.71875,0 2,-5.09375 c 0.33988,-0.95947 0.6015,-1.72225 0.84375,-2.59375 z\" id=\"path5315\" style=\"fill:#231f20;fill-opacity:1;stroke:#231f20;stroke-width:0.25;stroke-linecap:butt;stroke-linejoin:miter;stroke-miterlimit:4;stroke-opacity:1;stroke-dasharray:none\"/>\n",
       "\t\n",
       "\n",
       "</svg>"
      ],
      "text/plain": [
       "<IPython.core.display.SVG object>"
      ]
     },
     "metadata": {},
     "output_type": "display_data"
    }
   ],
   "source": [
    "logo = \"Medialinx\"\n",
    "display(SVG(\"data/svgs/{}.svg\".format(logo)))"
   ]
  },
  {
   "cell_type": "code",
   "execution_count": 102,
   "metadata": {},
   "outputs": [],
   "source": [
    "test_svg_emb = combined_embedding[combined_embedding['filename']==logo].reset_index(drop=True)"
   ]
  },
  {
   "cell_type": "code",
   "execution_count": 103,
   "metadata": {},
   "outputs": [],
   "source": [
    "filenames = test_svg_emb.pop('filename')\n",
    "animation_ids = test_svg_emb.pop('animation_id')"
   ]
  },
  {
   "cell_type": "code",
   "execution_count": 104,
   "metadata": {},
   "outputs": [
    {
     "data": {
      "text/html": [
       "<div>\n",
       "<style scoped>\n",
       "    .dataframe tbody tr th:only-of-type {\n",
       "        vertical-align: middle;\n",
       "    }\n",
       "\n",
       "    .dataframe tbody tr th {\n",
       "        vertical-align: top;\n",
       "    }\n",
       "\n",
       "    .dataframe thead th {\n",
       "        text-align: right;\n",
       "    }\n",
       "</style>\n",
       "<table border=\"1\" class=\"dataframe\">\n",
       "  <thead>\n",
       "    <tr style=\"text-align: right;\">\n",
       "      <th></th>\n",
       "      <th>0</th>\n",
       "      <th>1</th>\n",
       "      <th>2</th>\n",
       "      <th>3</th>\n",
       "      <th>4</th>\n",
       "      <th>5</th>\n",
       "      <th>6</th>\n",
       "      <th>7</th>\n",
       "      <th>8</th>\n",
       "      <th>9</th>\n",
       "      <th>...</th>\n",
       "      <th>246</th>\n",
       "      <th>247</th>\n",
       "      <th>248</th>\n",
       "      <th>249</th>\n",
       "      <th>250</th>\n",
       "      <th>251</th>\n",
       "      <th>252</th>\n",
       "      <th>253</th>\n",
       "      <th>254</th>\n",
       "      <th>255</th>\n",
       "    </tr>\n",
       "  </thead>\n",
       "  <tbody>\n",
       "    <tr>\n",
       "      <th>0</th>\n",
       "      <td>0.563757</td>\n",
       "      <td>-1.768812</td>\n",
       "      <td>1.506121</td>\n",
       "      <td>4.408497</td>\n",
       "      <td>-1.062406</td>\n",
       "      <td>3.181023</td>\n",
       "      <td>-1.300091</td>\n",
       "      <td>-2.521162</td>\n",
       "      <td>-1.283564</td>\n",
       "      <td>1.187977</td>\n",
       "      <td>...</td>\n",
       "      <td>0.250930</td>\n",
       "      <td>-1.042099</td>\n",
       "      <td>-1.188950</td>\n",
       "      <td>-1.877953</td>\n",
       "      <td>-0.523354</td>\n",
       "      <td>-1.410092</td>\n",
       "      <td>-2.927675</td>\n",
       "      <td>0.419966</td>\n",
       "      <td>-2.257641</td>\n",
       "      <td>-0.560514</td>\n",
       "    </tr>\n",
       "    <tr>\n",
       "      <th>1</th>\n",
       "      <td>0.298819</td>\n",
       "      <td>-1.786181</td>\n",
       "      <td>-0.038259</td>\n",
       "      <td>2.911652</td>\n",
       "      <td>-0.863827</td>\n",
       "      <td>2.861942</td>\n",
       "      <td>-0.474315</td>\n",
       "      <td>-2.679231</td>\n",
       "      <td>-0.489950</td>\n",
       "      <td>0.965575</td>\n",
       "      <td>...</td>\n",
       "      <td>-0.152078</td>\n",
       "      <td>-1.077933</td>\n",
       "      <td>0.105494</td>\n",
       "      <td>-0.155027</td>\n",
       "      <td>-0.165068</td>\n",
       "      <td>-1.519946</td>\n",
       "      <td>-2.285380</td>\n",
       "      <td>1.417801</td>\n",
       "      <td>-0.823834</td>\n",
       "      <td>-0.735331</td>\n",
       "    </tr>\n",
       "    <tr>\n",
       "      <th>2</th>\n",
       "      <td>1.358402</td>\n",
       "      <td>-2.766732</td>\n",
       "      <td>1.905443</td>\n",
       "      <td>1.412498</td>\n",
       "      <td>-0.009048</td>\n",
       "      <td>2.331789</td>\n",
       "      <td>-1.331299</td>\n",
       "      <td>-1.163686</td>\n",
       "      <td>-2.110078</td>\n",
       "      <td>1.019549</td>\n",
       "      <td>...</td>\n",
       "      <td>-0.956596</td>\n",
       "      <td>-4.502861</td>\n",
       "      <td>-1.355551</td>\n",
       "      <td>2.649507</td>\n",
       "      <td>1.290069</td>\n",
       "      <td>-1.755390</td>\n",
       "      <td>-1.528667</td>\n",
       "      <td>-0.197970</td>\n",
       "      <td>0.918779</td>\n",
       "      <td>-0.626989</td>\n",
       "    </tr>\n",
       "    <tr>\n",
       "      <th>3</th>\n",
       "      <td>0.959314</td>\n",
       "      <td>-2.771133</td>\n",
       "      <td>2.697232</td>\n",
       "      <td>-0.289001</td>\n",
       "      <td>0.271352</td>\n",
       "      <td>-0.834649</td>\n",
       "      <td>-1.263332</td>\n",
       "      <td>-3.151280</td>\n",
       "      <td>0.360092</td>\n",
       "      <td>0.024559</td>\n",
       "      <td>...</td>\n",
       "      <td>-3.257734</td>\n",
       "      <td>-2.721424</td>\n",
       "      <td>0.431391</td>\n",
       "      <td>-0.256923</td>\n",
       "      <td>-0.496558</td>\n",
       "      <td>-2.643723</td>\n",
       "      <td>-2.446285</td>\n",
       "      <td>0.514744</td>\n",
       "      <td>0.414599</td>\n",
       "      <td>0.025305</td>\n",
       "    </tr>\n",
       "  </tbody>\n",
       "</table>\n",
       "<p>4 rows × 256 columns</p>\n",
       "</div>"
      ],
      "text/plain": [
       "        0         1         2         3         4         5         6    \\\n",
       "0  0.563757 -1.768812  1.506121  4.408497 -1.062406  3.181023 -1.300091   \n",
       "1  0.298819 -1.786181 -0.038259  2.911652 -0.863827  2.861942 -0.474315   \n",
       "2  1.358402 -2.766732  1.905443  1.412498 -0.009048  2.331789 -1.331299   \n",
       "3  0.959314 -2.771133  2.697232 -0.289001  0.271352 -0.834649 -1.263332   \n",
       "\n",
       "        7         8         9    ...       246       247       248       249  \\\n",
       "0 -2.521162 -1.283564  1.187977  ...  0.250930 -1.042099 -1.188950 -1.877953   \n",
       "1 -2.679231 -0.489950  0.965575  ... -0.152078 -1.077933  0.105494 -0.155027   \n",
       "2 -1.163686 -2.110078  1.019549  ... -0.956596 -4.502861 -1.355551  2.649507   \n",
       "3 -3.151280  0.360092  0.024559  ... -3.257734 -2.721424  0.431391 -0.256923   \n",
       "\n",
       "        250       251       252       253       254       255  \n",
       "0 -0.523354 -1.410092 -2.927675  0.419966 -2.257641 -0.560514  \n",
       "1 -0.165068 -1.519946 -2.285380  1.417801 -0.823834 -0.735331  \n",
       "2  1.290069 -1.755390 -1.528667 -0.197970  0.918779 -0.626989  \n",
       "3 -0.496558 -2.643723 -2.446285  0.514744  0.414599  0.025305  \n",
       "\n",
       "[4 rows x 256 columns]"
      ]
     },
     "execution_count": 104,
     "metadata": {},
     "output_type": "execute_result"
    }
   ],
   "source": [
    "test_svg_emb"
   ]
  },
  {
   "cell_type": "code",
   "execution_count": 105,
   "metadata": {},
   "outputs": [],
   "source": [
    "test_svg_emb = torch.tensor(test_svg_emb.to_numpy())"
   ]
  },
  {
   "cell_type": "code",
   "execution_count": 106,
   "metadata": {},
   "outputs": [
    {
     "data": {
      "text/plain": [
       "array([[0.6916755 , 0.718863  , 0.5744563 , 0.53521705, 0.6188371 ,\n",
       "        0.5746964 , 0.43071625, 0.41253006, 0.56746906, 0.565687  ,\n",
       "        0.69197786, 0.35446313, 0.5562474 , 0.45815834, 0.53877103,\n",
       "        0.51349556, 0.52957934, 0.37370571, 0.24176486, 0.4433583 ,\n",
       "        0.5724084 ],\n",
       "       [0.627658  , 0.62473553, 0.47963265, 0.532212  , 0.6409525 ,\n",
       "        0.49489707, 0.44915137, 0.42713323, 0.58501184, 0.62406963,\n",
       "        0.67700595, 0.38695106, 0.5046298 , 0.4573637 , 0.5229219 ,\n",
       "        0.48041537, 0.55903167, 0.47319382, 0.3105838 , 0.45134267,\n",
       "        0.52149534],\n",
       "       [0.654592  , 0.5926371 , 0.38848054, 0.52791095, 0.6381642 ,\n",
       "        0.46610877, 0.4528762 , 0.45916906, 0.5977525 , 0.53880507,\n",
       "        0.6659711 , 0.44747415, 0.38919413, 0.51429784, 0.4554083 ,\n",
       "        0.56700903, 0.497769  , 0.5525225 , 0.45507595, 0.54293007,\n",
       "        0.5218376 ],\n",
       "       [0.5325052 , 0.453684  , 0.39282224, 0.5770776 , 0.64765495,\n",
       "        0.5656296 , 0.59188104, 0.5433104 , 0.53633463, 0.6539501 ,\n",
       "        0.6489057 , 0.45272654, 0.3753971 , 0.38768503, 0.56322396,\n",
       "        0.40441534, 0.4179318 , 0.43496874, 0.424531  , 0.42887974,\n",
       "        0.6289291 ]], dtype=float32)"
      ]
     },
     "execution_count": 106,
     "metadata": {},
     "output_type": "execute_result"
    }
   ],
   "source": [
    "model_output = top_model(test_svg_emb).detach().numpy()\n",
    "model_output"
   ]
  },
  {
   "cell_type": "code",
   "execution_count": 108,
   "metadata": {},
   "outputs": [
    {
     "data": {
      "text/plain": [
       "('scale', 5, 5, 1, 'freeze', 0, 1, 2, 1.5)"
      ]
     },
     "execution_count": 108,
     "metadata": {},
     "output_type": "execute_result"
    }
   ],
   "source": [
    "transform_binary_model_output(model_output[2])"
   ]
  },
  {
   "cell_type": "code",
   "execution_count": 109,
   "metadata": {},
   "outputs": [],
   "source": [
    "insert_animation('data/svgs/{}.svg'.format(logo),animation_ids[2],model_output[2])"
   ]
  },
  {
   "cell_type": "code",
   "execution_count": 110,
   "metadata": {},
   "outputs": [
    {
     "data": {
      "image/svg+xml": [
       "<svg height=\"762\" id=\"svg6234\" version=\"1.1\" viewBox=\"-3.0065139 -3.0065139 142.8255278 106.2301578\" width=\"1024\" xmlns=\"http://www.w3.org/2000/svg\" xmlns:svg=\"http://www.w3.org/2000/svg\">\n",
       "\t\n",
       "\t\n",
       "  \n",
       "\t\n",
       "\t<defs id=\"defs6236\"/>\n",
       "\t\n",
       "\t\n",
       "  \n",
       "\t\n",
       "\t<path animation_id=\"0\" d=\"m 58.55075,75.18075 19.13375,0 0,-15.94488 -19.13375,0 0,15.94488 z m 10e-4,-59.23588 19.13375,0 0,-15.94487 -19.13375,0 0,15.94487 z\" id=\"path5289\" style=\"fill:#bd1a2a;fill-opacity:1;fill-rule:nonzero;stroke:none\"/>\n",
       "\t\n",
       "\t\n",
       "  \n",
       "\t\n",
       "\t<path animation_id=\"1\" d=\"m 55.92725,7.8355 c -20.09425,0 -36.38475,13.30325 -36.38475,29.71437 0,16.40863 16.2905,29.71238 36.38475,29.71238 M 80.31,7.8355 c 20.09525,0 36.38675,13.30325 36.38675,29.71437 0,16.40863 -16.2915,29.71238 -36.38675,29.71238\" id=\"path5293\" style=\"fill:none;stroke:#0063a4;stroke-width:10.125;stroke-linecap:butt;stroke-linejoin:miter;stroke-miterlimit:4;stroke-opacity:1;stroke-dasharray:none\"/>\n",
       "\t\n",
       "\t\n",
       "  \n",
       "\t\n",
       "\t<path animation_id=\"2\" d=\"M 103.28463,99.93411 101.185,96.60647 c -0.84325,-1.27343 -1.3495,-2.09961 -1.85787,-2.97118 l -0.0474,0 c -0.45801,0.87157 -0.94088,1.6748 -1.76163,2.99316 l -1.95413,3.30566 -2.41362,0 4.97125,-7.61621 -4.77688,-7.43753 2.4365,0 2.1475,3.52884 c 0.603,0.98291 1.062,1.74219 1.496,2.54541 l 0.0724,0 c 0.458,-0.89258 0.86813,-1.58447 1.47063,-2.54541 l 2.19725,-3.52884 2.4365,0 -4.94625,7.32669 5.066,7.72705 -2.43662,0 m -23.90963,0 0,-15.05374 2.31537,0 5.188,7.61624 c 1.18313,1.76368 2.149,3.35059 2.8955,4.89111 l 0.0733,-0.022 C 89.6543,95.35498 89.60605,93.52393 89.60605,91.20117 l 0,-6.32083 1.9775,0 0,15.05374 -2.123,0 -5.16213,-7.63916 c -1.13525,-1.6748 -2.22075,-3.39355 -3.01812,-5.02445 l -0.0703,0.022 c 0.11962,1.89796 0.1435,3.70704 0.1435,6.20851 l 0,6.4331 -1.9785,0 m -4.92038,0 2.12257,0 0,-15.05375 -2.12257,0 0,15.05375 z M 63.935,84.88034 l 2.12362,0 0,13.42288 6.94876,0 0,1.63086 -9.07238,0 0,-15.05374 m -5.91062,8.79984 -1.61663,-4.33204 c -0.33787,-0.98388 -0.57963,-1.87742 -0.82087,-2.74805 l -0.0722,0 c -0.21675,0.87063 -0.48238,1.80909 -0.79588,2.7251 l -1.59225,4.35499 4.89788,0 z m -5.33301,1.51855 -1.68849,4.73535 -2.17188,0 5.52587,-15.05374 2.53325,0 5.54938,15.05374 -2.24425,0 -1.73675,-4.73535 -5.76713,0 m -7.55125,4.73535 2.12354,0 0,-15.05375 -2.12354,0 0,15.05375 z M 32.0645,98.41553 c 0.53025,0.0889 1.30225,0.0889 2.1225,0.0889 4.48775,0.0234 6.92487,-2.32275 6.92487,-6.3877 0.0239,-3.55126 -2.147,-5.8066 -6.587,-5.8066 -1.08537,0 -1.90575,0.0889 -2.46037,0.20113 l 0,11.90431 z M 29.94087,85.08059 c 1.30275,-0.17825 2.82275,-0.3125 4.48788,-0.3125 3.01562,0 5.163,0.64788 6.58687,1.87738 1.47163,1.22806 2.31638,2.96976 2.31638,5.40385 0,2.45751 -0.84475,4.4668 -2.34075,5.85205 -1.5445,1.40771 -4.05325,2.16699 -7.21437,2.16699 -1.5195,0 -2.75,-0.0449 -3.83601,-0.17822 l 0,-14.80955 m -2.581,7.79539 -6.29737,0 0,5.42724 7.04538,0 0,1.63086 -9.16838,0 0,-15.05374 8.80662,0 0,1.63088 -6.68362,0 0,4.75685 6.29737,0 0,1.60791 M 14.13862,93.32276 C 14.01812,91.24512 13.873,88.67676 13.873,86.82372 l -0.0478,0 c -0.57913,1.74171 -1.2305,3.66212 -2.05084,5.71779 l -2.87109,7.30322 -1.59277,0 -2.6543,-7.16895 C 3.88422,90.55419 3.25727,88.61084 2.79829,86.82372 l -0.0478,0 c -0.0483,1.87501 -0.16847,4.39942 -0.31396,6.65529 l -0.43409,6.45507 -2.00244,0 1.13428,-15.05374 2.67773,0 2.7749,7.2803 c 0.67579,1.85548 1.20607,3.53028 1.64063,5.09278 l 0.0483,0 c 0.43458,-1.51855 1.01319,-3.19336 1.73683,-5.09278 l 2.89555,-7.2803 2.67812,0 1.01325,15.05374 -2.07475,0 -0.38625,-6.61132\" id=\"path5311\" style=\"fill:#231f20;fill-opacity:1;fill-rule:nonzero;stroke:none\">\n",
       "\t\t<animateTransform attributeName=\"transform\" attributeType=\"XML\" begin=\"5\" dur=\"5\" fill=\"freeze\" from=\"0\" repeatCoutn=\"1\" to=\"1\" type=\"scale\"/>\n",
       "\t</path>\n",
       "\t\n",
       "\t\n",
       "  \n",
       "\t\n",
       "\t<path animation_id=\"3\" d=\"m 132.46875,84.72112 c -5.52625,0 -8.5,3.54249 -8.5,7.71875 0,2.43507 0.8985,4.48145 2.25,5.6875 1.64,1.47462 3.57125,1.96876 5.71875,1.96876 2.21875,0 3.93,-0.50001 4.75,-0.81251 l 0,-6.8125 -4.90625,0 0,0.875 3.75,0 0,5.3125 c -0.605,0.3125 -1.6925,0.53125 -3.40625,0.53125 -4.295,0 -6.96875,-2.53808 -6.96875,-6.78125 0,-4.08691 2.75625,-6.78125 7.21875,-6.78125 1.56875,0 2.62375,0.24663 3.46875,0.625 L 136.25,85.40862 c -0.6275,-0.28962 -2.045,-0.6875 -3.78125,-0.6875 z m -15.8125,0.15625 -5.90625,15.0625 1.1875,0 2,-5.28125 6.4375,0 2.0625,5.28125 1.1875,0 -5.875,-15.0625 -1.09375,0 z m 0.5,1.21875 0.0625,0 c 0.24163,0.84863 0.458,1.60648 0.84375,2.65625 l 1.96875,5.03125 -5.71875,0 2,-5.09375 c 0.33988,-0.95947 0.6015,-1.72225 0.84375,-2.59375 z\" id=\"path5315\" style=\"fill:#231f20;fill-opacity:1;stroke:#231f20;stroke-width:0.25;stroke-linecap:butt;stroke-linejoin:miter;stroke-miterlimit:4;stroke-opacity:1;stroke-dasharray:none\"/>\n",
       "\t\n",
       "\t\n",
       "\n",
       "\n",
       "</svg>"
      ],
      "text/plain": [
       "<IPython.core.display.SVG object>"
      ]
     },
     "metadata": {},
     "output_type": "display_data"
    }
   ],
   "source": [
    "display(SVG(\"data/animated_logos/{}.svg\".format(logo)))"
   ]
  },
  {
   "cell_type": "code",
   "execution_count": null,
   "metadata": {},
   "outputs": [],
   "source": []
  }
 ],
 "metadata": {
  "kernelspec": {
   "display_name": "Python 3",
   "language": "python",
   "name": "python3"
  },
  "language_info": {
   "codemirror_mode": {
    "name": "ipython",
    "version": 3
   },
   "file_extension": ".py",
   "mimetype": "text/x-python",
   "name": "python",
   "nbconvert_exporter": "python",
   "pygments_lexer": "ipython3",
   "version": "3.7.9"
  }
 },
 "nbformat": 4,
 "nbformat_minor": 4
}
