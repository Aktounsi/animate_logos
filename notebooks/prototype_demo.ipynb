{
 "cells": [
  {
   "cell_type": "markdown",
   "metadata": {},
   "source": [
    "## Prototype Demo"
   ]
  },
  {
   "cell_type": "code",
   "execution_count": 1,
   "metadata": {},
   "outputs": [],
   "source": [
    "import os\n",
    "os.chdir(\"..\")\n",
    "os.chdir(\"src/preprocessing\")"
   ]
  },
  {
   "cell_type": "code",
   "execution_count": 2,
   "metadata": {},
   "outputs": [],
   "source": [
    "from create_embedding import preprocessing_main, train_embedding_model, apply_embedding_model, combine_embeddings"
   ]
  },
  {
   "cell_type": "code",
   "execution_count": 3,
   "metadata": {},
   "outputs": [],
   "source": [
    "os.chdir(\"../..\")"
   ]
  },
  {
   "cell_type": "markdown",
   "metadata": {},
   "source": [
    "### 1 Preprocessing"
   ]
  },
  {
   "cell_type": "markdown",
   "metadata": {},
   "source": [
    "#### 1.1 Simplify SVGs\n",
    "Creates simplified SVGs and its tensors on SVG and path level"
   ]
  },
  {
   "cell_type": "code",
   "execution_count": 4,
   "metadata": {},
   "outputs": [
    {
     "name": "stderr",
     "output_type": "stream",
     "text": [
      "100%|████████████████████████████████████████████████████████████████████████████████| 419/419 [00:36<00:00, 11.43it/s]\n"
     ]
    }
   ],
   "source": [
    "preprocessing_main(data_folder=\"data/svgs\")"
   ]
  },
  {
   "cell_type": "code",
   "execution_count": 5,
   "metadata": {},
   "outputs": [
    {
     "name": "stderr",
     "output_type": "stream",
     "text": [
      "100%|██████████████████████████████████████████████████████████████████████████████| 5561/5561 [01:25<00:00, 64.69it/s]\n"
     ]
    }
   ],
   "source": [
    "preprocessing_main(data_folder=\"data/decomposed_svgs\")"
   ]
  },
  {
   "cell_type": "markdown",
   "metadata": {},
   "source": [
    "#### 1.2 Train Embedding Model"
   ]
  },
  {
   "cell_type": "code",
   "execution_count": 4,
   "metadata": {},
   "outputs": [
    {
     "name": "stdout",
     "output_type": "stream",
     "text": [
      "Parameters\n",
      "  batch_size = 10\n",
      "  ckpt_every = 1000\n",
      "  collate_fn = None\n",
      "  data_dir = data/svgs_tensors/\n",
      "  dataloader_module = deepsvg.svgtensor_dataset\n",
      "  filter_category = None\n",
      "  filter_labels = None\n",
      "  filter_platform = None\n",
      "  filter_uni = None\n",
      "  grad_clip = 1.0\n",
      "  learning_rate = 0.001\n",
      "  loader_num_workers = 4\n",
      "  log_every = 20\n",
      "  max_num_groups = 8\n",
      "  max_seq_len = 30\n",
      "  max_total_len = 50\n",
      "  meta_filepath = data/svgs_meta.csv\n",
      "  model_args = ['commands', 'args', 'commands', 'args']\n",
      "  model_cfg = <configs.deepsvg.hierarchical_ordered.ModelConfig object at 0x000001618F886F08>\n",
      "  nb_augmentations = 1\n",
      "  num_epochs = 5\n",
      "  num_gpus = 1\n",
      "  num_steps = None\n",
      "  optimizer_starts = [0]\n",
      "  pretrained_path = ./models/hierarchical_ordered.pth.tar\n",
      "  stats_to_print = {'train': ['lr', 'time']}\n",
      "  train_ratio = 1.0\n",
      "  val_every = 10\n",
      "  warmup_steps = 500\n",
      "Loading dataset\n",
      "Loading pretrained model ./models/hierarchical_ordered.pth.tar\n",
      "#Parameters: 10,304,596\n",
      "Epoch 1\n",
      "Epoch 2\n",
      "Epoch 3\n",
      "Epoch 4\n",
      "Epoch 5\n"
     ]
    }
   ],
   "source": [
    "model = train_embedding_model(data_folder=\"data/svgs\", num_epochs=5, batch_size=10)"
   ]
  },
  {
   "cell_type": "markdown",
   "metadata": {},
   "source": [
    "#### 1.3 Apply Hierarchical Generative Network\n",
    "Apply hierarchical generative network to produce latent vector z"
   ]
  },
  {
   "cell_type": "code",
   "execution_count": 4,
   "metadata": {},
   "outputs": [
    {
     "name": "stderr",
     "output_type": "stream",
     "text": [
      "100%|████████████████████████████████████████████████████████████████████████████████| 180/180 [00:04<00:00, 44.91it/s]\n"
     ]
    }
   ],
   "source": [
    "svgs_embedding = apply_embedding_model(model_path=\"models/hierarchical_ordered.pth.tar\", data_folder=\"data/svgs\")"
   ]
  },
  {
   "cell_type": "code",
   "execution_count": 5,
   "metadata": {},
   "outputs": [
    {
     "name": "stderr",
     "output_type": "stream",
     "text": [
      "100%|██████████████████████████████████████████████████████████████████████████████| 3092/3092 [01:25<00:00, 36.36it/s]\n"
     ]
    }
   ],
   "source": [
    "decomposed_svgs_embedding = apply_embedding_model(model_path=\"models/hierarchical_ordered.pth.tar\", data_folder=\"data/decomposed_svgs\")"
   ]
  },
  {
   "cell_type": "code",
   "execution_count": 6,
   "metadata": {},
   "outputs": [
    {
     "name": "stderr",
     "output_type": "stream",
     "text": [
      "WARNING:py.warnings:C:\\Users\\sarah\\PycharmProjects\\animate_logos\\src\\preprocessing\\create_embedding.py:216: SettingWithCopyWarning: \n",
      "A value is trying to be set on a copy of a slice from a DataFrame.\n",
      "Try using .loc[row_indexer,col_indexer] = value instead\n",
      "\n",
      "See the caveats in the documentation: https://pandas.pydata.org/pandas-docs/stable/user_guide/indexing.html#returning-a-view-versus-a-copy\n",
      "  combined_embedding[col] = merged_embeddings[str(col) + \"_x\"] + merged_embeddings[str(col) + \"_y\"]\n",
      "\n"
     ]
    }
   ],
   "source": [
    "combined_embedding = combine_embeddings(df_svg_embedding=svgs_embedding, df_decomposed_svg_embedding=decomposed_svgs_embedding)"
   ]
  },
  {
   "cell_type": "code",
   "execution_count": 7,
   "metadata": {},
   "outputs": [
    {
     "data": {
      "text/html": [
       "<div>\n",
       "<style scoped>\n",
       "    .dataframe tbody tr th:only-of-type {\n",
       "        vertical-align: middle;\n",
       "    }\n",
       "\n",
       "    .dataframe tbody tr th {\n",
       "        vertical-align: top;\n",
       "    }\n",
       "\n",
       "    .dataframe thead th {\n",
       "        text-align: right;\n",
       "    }\n",
       "</style>\n",
       "<table border=\"1\" class=\"dataframe\">\n",
       "  <thead>\n",
       "    <tr style=\"text-align: right;\">\n",
       "      <th></th>\n",
       "      <th>filename</th>\n",
       "      <th>animation_id</th>\n",
       "      <th>0</th>\n",
       "      <th>1</th>\n",
       "      <th>2</th>\n",
       "      <th>3</th>\n",
       "      <th>4</th>\n",
       "      <th>5</th>\n",
       "      <th>6</th>\n",
       "      <th>7</th>\n",
       "      <th>...</th>\n",
       "      <th>246</th>\n",
       "      <th>247</th>\n",
       "      <th>248</th>\n",
       "      <th>249</th>\n",
       "      <th>250</th>\n",
       "      <th>251</th>\n",
       "      <th>252</th>\n",
       "      <th>253</th>\n",
       "      <th>254</th>\n",
       "      <th>255</th>\n",
       "    </tr>\n",
       "  </thead>\n",
       "  <tbody>\n",
       "    <tr>\n",
       "      <th>0</th>\n",
       "      <td>Ableton</td>\n",
       "      <td>1</td>\n",
       "      <td>0.999088</td>\n",
       "      <td>-3.647312</td>\n",
       "      <td>1.943437</td>\n",
       "      <td>-1.427582</td>\n",
       "      <td>0.235763</td>\n",
       "      <td>0.147010</td>\n",
       "      <td>-3.427875</td>\n",
       "      <td>-1.415471</td>\n",
       "      <td>...</td>\n",
       "      <td>-4.861924</td>\n",
       "      <td>-6.955129</td>\n",
       "      <td>0.178722</td>\n",
       "      <td>1.480048</td>\n",
       "      <td>1.658698</td>\n",
       "      <td>-2.688116</td>\n",
       "      <td>-1.818139</td>\n",
       "      <td>0.483364</td>\n",
       "      <td>-1.021382</td>\n",
       "      <td>0.807942</td>\n",
       "    </tr>\n",
       "    <tr>\n",
       "      <th>1</th>\n",
       "      <td>Ableton</td>\n",
       "      <td>0</td>\n",
       "      <td>0.716675</td>\n",
       "      <td>-2.136357</td>\n",
       "      <td>2.035006</td>\n",
       "      <td>-2.235287</td>\n",
       "      <td>-0.249549</td>\n",
       "      <td>-2.589223</td>\n",
       "      <td>-2.964693</td>\n",
       "      <td>-2.085697</td>\n",
       "      <td>...</td>\n",
       "      <td>-5.107700</td>\n",
       "      <td>-6.145383</td>\n",
       "      <td>0.806620</td>\n",
       "      <td>-0.387984</td>\n",
       "      <td>0.471549</td>\n",
       "      <td>-2.912267</td>\n",
       "      <td>-2.603213</td>\n",
       "      <td>-0.113537</td>\n",
       "      <td>-0.046964</td>\n",
       "      <td>2.062963</td>\n",
       "    </tr>\n",
       "    <tr>\n",
       "      <th>2</th>\n",
       "      <td>A&amp;O Hotels and Hostels</td>\n",
       "      <td>1</td>\n",
       "      <td>0.392774</td>\n",
       "      <td>-1.993486</td>\n",
       "      <td>0.977245</td>\n",
       "      <td>-1.300846</td>\n",
       "      <td>-0.815418</td>\n",
       "      <td>0.189957</td>\n",
       "      <td>-1.640209</td>\n",
       "      <td>-1.261180</td>\n",
       "      <td>...</td>\n",
       "      <td>-3.632322</td>\n",
       "      <td>-5.625988</td>\n",
       "      <td>-0.048256</td>\n",
       "      <td>2.022904</td>\n",
       "      <td>1.145446</td>\n",
       "      <td>-2.707033</td>\n",
       "      <td>-1.062037</td>\n",
       "      <td>0.436135</td>\n",
       "      <td>1.144496</td>\n",
       "      <td>0.864589</td>\n",
       "    </tr>\n",
       "    <tr>\n",
       "      <th>3</th>\n",
       "      <td>A&amp;O Hotels and Hostels</td>\n",
       "      <td>0</td>\n",
       "      <td>-1.267531</td>\n",
       "      <td>0.664335</td>\n",
       "      <td>-0.586723</td>\n",
       "      <td>-0.603000</td>\n",
       "      <td>-2.813056</td>\n",
       "      <td>-0.324393</td>\n",
       "      <td>-0.162084</td>\n",
       "      <td>-2.029147</td>\n",
       "      <td>...</td>\n",
       "      <td>-3.073321</td>\n",
       "      <td>-2.453578</td>\n",
       "      <td>0.825134</td>\n",
       "      <td>-1.391940</td>\n",
       "      <td>-0.481152</td>\n",
       "      <td>-2.813143</td>\n",
       "      <td>-1.524138</td>\n",
       "      <td>1.068881</td>\n",
       "      <td>0.523363</td>\n",
       "      <td>1.911017</td>\n",
       "    </tr>\n",
       "    <tr>\n",
       "      <th>4</th>\n",
       "      <td>Ableton</td>\n",
       "      <td>4</td>\n",
       "      <td>0.484945</td>\n",
       "      <td>-2.718677</td>\n",
       "      <td>1.177793</td>\n",
       "      <td>-1.981081</td>\n",
       "      <td>-0.394796</td>\n",
       "      <td>-0.214796</td>\n",
       "      <td>-4.011641</td>\n",
       "      <td>-2.098473</td>\n",
       "      <td>...</td>\n",
       "      <td>-5.154762</td>\n",
       "      <td>-7.863921</td>\n",
       "      <td>0.268913</td>\n",
       "      <td>1.604839</td>\n",
       "      <td>2.163260</td>\n",
       "      <td>-2.689683</td>\n",
       "      <td>-3.152629</td>\n",
       "      <td>-0.002783</td>\n",
       "      <td>-1.194627</td>\n",
       "      <td>1.738602</td>\n",
       "    </tr>\n",
       "    <tr>\n",
       "      <th>...</th>\n",
       "      <td>...</td>\n",
       "      <td>...</td>\n",
       "      <td>...</td>\n",
       "      <td>...</td>\n",
       "      <td>...</td>\n",
       "      <td>...</td>\n",
       "      <td>...</td>\n",
       "      <td>...</td>\n",
       "      <td>...</td>\n",
       "      <td>...</td>\n",
       "      <td>...</td>\n",
       "      <td>...</td>\n",
       "      <td>...</td>\n",
       "      <td>...</td>\n",
       "      <td>...</td>\n",
       "      <td>...</td>\n",
       "      <td>...</td>\n",
       "      <td>...</td>\n",
       "      <td>...</td>\n",
       "      <td>...</td>\n",
       "      <td>...</td>\n",
       "    </tr>\n",
       "    <tr>\n",
       "      <th>2969</th>\n",
       "      <td>Öger Group</td>\n",
       "      <td>9</td>\n",
       "      <td>0.501243</td>\n",
       "      <td>-1.818034</td>\n",
       "      <td>1.759739</td>\n",
       "      <td>2.331190</td>\n",
       "      <td>-1.661857</td>\n",
       "      <td>0.447471</td>\n",
       "      <td>-2.610717</td>\n",
       "      <td>-2.168237</td>\n",
       "      <td>...</td>\n",
       "      <td>-3.709549</td>\n",
       "      <td>-4.900559</td>\n",
       "      <td>-0.274134</td>\n",
       "      <td>-3.110418</td>\n",
       "      <td>-0.009820</td>\n",
       "      <td>-3.104049</td>\n",
       "      <td>-2.826110</td>\n",
       "      <td>1.584878</td>\n",
       "      <td>-3.025648</td>\n",
       "      <td>1.297592</td>\n",
       "    </tr>\n",
       "    <tr>\n",
       "      <th>2970</th>\n",
       "      <td>Öger Group</td>\n",
       "      <td>7</td>\n",
       "      <td>0.100549</td>\n",
       "      <td>-1.405265</td>\n",
       "      <td>1.535983</td>\n",
       "      <td>2.383574</td>\n",
       "      <td>-1.841391</td>\n",
       "      <td>1.079986</td>\n",
       "      <td>-2.301652</td>\n",
       "      <td>-2.281266</td>\n",
       "      <td>...</td>\n",
       "      <td>-3.049530</td>\n",
       "      <td>-5.041844</td>\n",
       "      <td>-0.579861</td>\n",
       "      <td>-2.501549</td>\n",
       "      <td>0.332780</td>\n",
       "      <td>-2.951898</td>\n",
       "      <td>-3.131474</td>\n",
       "      <td>0.866903</td>\n",
       "      <td>-2.807621</td>\n",
       "      <td>1.140946</td>\n",
       "    </tr>\n",
       "    <tr>\n",
       "      <th>2971</th>\n",
       "      <td>Öger Group</td>\n",
       "      <td>8</td>\n",
       "      <td>0.582206</td>\n",
       "      <td>-2.319556</td>\n",
       "      <td>1.587112</td>\n",
       "      <td>2.120214</td>\n",
       "      <td>-1.307429</td>\n",
       "      <td>1.662620</td>\n",
       "      <td>-2.815449</td>\n",
       "      <td>-2.224535</td>\n",
       "      <td>...</td>\n",
       "      <td>-2.598483</td>\n",
       "      <td>-4.649100</td>\n",
       "      <td>0.037339</td>\n",
       "      <td>-1.808706</td>\n",
       "      <td>0.583725</td>\n",
       "      <td>-2.538647</td>\n",
       "      <td>-2.944046</td>\n",
       "      <td>0.870587</td>\n",
       "      <td>-3.222914</td>\n",
       "      <td>0.853417</td>\n",
       "    </tr>\n",
       "    <tr>\n",
       "      <th>2972</th>\n",
       "      <td>ÖRAG</td>\n",
       "      <td>0</td>\n",
       "      <td>0.013261</td>\n",
       "      <td>1.916203</td>\n",
       "      <td>-0.021856</td>\n",
       "      <td>3.099442</td>\n",
       "      <td>-3.031816</td>\n",
       "      <td>1.833678</td>\n",
       "      <td>2.651020</td>\n",
       "      <td>0.025553</td>\n",
       "      <td>...</td>\n",
       "      <td>2.304443</td>\n",
       "      <td>-1.605999</td>\n",
       "      <td>-3.001702</td>\n",
       "      <td>0.152502</td>\n",
       "      <td>0.224020</td>\n",
       "      <td>-1.659434</td>\n",
       "      <td>-1.756564</td>\n",
       "      <td>0.024562</td>\n",
       "      <td>3.419873</td>\n",
       "      <td>1.353659</td>\n",
       "    </tr>\n",
       "    <tr>\n",
       "      <th>2973</th>\n",
       "      <td>ÖRAG</td>\n",
       "      <td>1</td>\n",
       "      <td>0.474992</td>\n",
       "      <td>1.106436</td>\n",
       "      <td>0.761179</td>\n",
       "      <td>2.085388</td>\n",
       "      <td>-2.298010</td>\n",
       "      <td>1.602547</td>\n",
       "      <td>2.086565</td>\n",
       "      <td>0.377890</td>\n",
       "      <td>...</td>\n",
       "      <td>1.416323</td>\n",
       "      <td>-3.736632</td>\n",
       "      <td>-2.998158</td>\n",
       "      <td>2.102253</td>\n",
       "      <td>1.147294</td>\n",
       "      <td>-1.950621</td>\n",
       "      <td>-1.510977</td>\n",
       "      <td>-0.485337</td>\n",
       "      <td>4.218954</td>\n",
       "      <td>1.119054</td>\n",
       "    </tr>\n",
       "  </tbody>\n",
       "</table>\n",
       "<p>2974 rows × 258 columns</p>\n",
       "</div>"
      ],
      "text/plain": [
       "                    filename animation_id         0         1         2  \\\n",
       "0                    Ableton            1  0.999088 -3.647312  1.943437   \n",
       "1                    Ableton            0  0.716675 -2.136357  2.035006   \n",
       "2     A&O Hotels and Hostels            1  0.392774 -1.993486  0.977245   \n",
       "3     A&O Hotels and Hostels            0 -1.267531  0.664335 -0.586723   \n",
       "4                    Ableton            4  0.484945 -2.718677  1.177793   \n",
       "...                      ...          ...       ...       ...       ...   \n",
       "2969              Öger Group            9  0.501243 -1.818034  1.759739   \n",
       "2970              Öger Group            7  0.100549 -1.405265  1.535983   \n",
       "2971              Öger Group            8  0.582206 -2.319556  1.587112   \n",
       "2972                    ÖRAG            0  0.013261  1.916203 -0.021856   \n",
       "2973                    ÖRAG            1  0.474992  1.106436  0.761179   \n",
       "\n",
       "             3         4         5         6         7  ...       246  \\\n",
       "0    -1.427582  0.235763  0.147010 -3.427875 -1.415471  ... -4.861924   \n",
       "1    -2.235287 -0.249549 -2.589223 -2.964693 -2.085697  ... -5.107700   \n",
       "2    -1.300846 -0.815418  0.189957 -1.640209 -1.261180  ... -3.632322   \n",
       "3    -0.603000 -2.813056 -0.324393 -0.162084 -2.029147  ... -3.073321   \n",
       "4    -1.981081 -0.394796 -0.214796 -4.011641 -2.098473  ... -5.154762   \n",
       "...        ...       ...       ...       ...       ...  ...       ...   \n",
       "2969  2.331190 -1.661857  0.447471 -2.610717 -2.168237  ... -3.709549   \n",
       "2970  2.383574 -1.841391  1.079986 -2.301652 -2.281266  ... -3.049530   \n",
       "2971  2.120214 -1.307429  1.662620 -2.815449 -2.224535  ... -2.598483   \n",
       "2972  3.099442 -3.031816  1.833678  2.651020  0.025553  ...  2.304443   \n",
       "2973  2.085388 -2.298010  1.602547  2.086565  0.377890  ...  1.416323   \n",
       "\n",
       "           247       248       249       250       251       252       253  \\\n",
       "0    -6.955129  0.178722  1.480048  1.658698 -2.688116 -1.818139  0.483364   \n",
       "1    -6.145383  0.806620 -0.387984  0.471549 -2.912267 -2.603213 -0.113537   \n",
       "2    -5.625988 -0.048256  2.022904  1.145446 -2.707033 -1.062037  0.436135   \n",
       "3    -2.453578  0.825134 -1.391940 -0.481152 -2.813143 -1.524138  1.068881   \n",
       "4    -7.863921  0.268913  1.604839  2.163260 -2.689683 -3.152629 -0.002783   \n",
       "...        ...       ...       ...       ...       ...       ...       ...   \n",
       "2969 -4.900559 -0.274134 -3.110418 -0.009820 -3.104049 -2.826110  1.584878   \n",
       "2970 -5.041844 -0.579861 -2.501549  0.332780 -2.951898 -3.131474  0.866903   \n",
       "2971 -4.649100  0.037339 -1.808706  0.583725 -2.538647 -2.944046  0.870587   \n",
       "2972 -1.605999 -3.001702  0.152502  0.224020 -1.659434 -1.756564  0.024562   \n",
       "2973 -3.736632 -2.998158  2.102253  1.147294 -1.950621 -1.510977 -0.485337   \n",
       "\n",
       "           254       255  \n",
       "0    -1.021382  0.807942  \n",
       "1    -0.046964  2.062963  \n",
       "2     1.144496  0.864589  \n",
       "3     0.523363  1.911017  \n",
       "4    -1.194627  1.738602  \n",
       "...        ...       ...  \n",
       "2969 -3.025648  1.297592  \n",
       "2970 -2.807621  1.140946  \n",
       "2971 -3.222914  0.853417  \n",
       "2972  3.419873  1.353659  \n",
       "2973  4.218954  1.119054  \n",
       "\n",
       "[2974 rows x 258 columns]"
      ]
     },
     "execution_count": 7,
     "metadata": {},
     "output_type": "execute_result"
    }
   ],
   "source": [
    "combined_embedding"
   ]
  },
  {
   "cell_type": "markdown",
   "metadata": {},
   "source": [
    "### 2 Model"
   ]
  },
  {
   "cell_type": "code",
   "execution_count": null,
   "metadata": {},
   "outputs": [],
   "source": []
  },
  {
   "cell_type": "code",
   "execution_count": null,
   "metadata": {},
   "outputs": [],
   "source": []
  },
  {
   "cell_type": "code",
   "execution_count": null,
   "metadata": {},
   "outputs": [],
   "source": []
  }
 ],
 "metadata": {
  "kernelspec": {
   "display_name": "Python 3",
   "language": "python",
   "name": "python3"
  },
  "language_info": {
   "codemirror_mode": {
    "name": "ipython",
    "version": 3
   },
   "file_extension": ".py",
   "mimetype": "text/x-python",
   "name": "python",
   "nbconvert_exporter": "python",
   "pygments_lexer": "ipython3",
   "version": "3.7.9"
  }
 },
 "nbformat": 4,
 "nbformat_minor": 4
}
