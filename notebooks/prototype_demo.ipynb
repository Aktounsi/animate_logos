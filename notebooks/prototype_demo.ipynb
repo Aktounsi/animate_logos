{
 "cells": [
  {
   "cell_type": "markdown",
   "metadata": {},
   "source": [
    "## Prototype Demo"
   ]
  },
  {
   "cell_type": "code",
   "execution_count": 1,
   "metadata": {},
   "outputs": [],
   "source": [
    "import os\n",
    "os.chdir(\"..\")\n",
    "os.chdir(\"src/preprocessing\")"
   ]
  },
  {
   "cell_type": "code",
   "execution_count": 2,
   "metadata": {},
   "outputs": [],
   "source": [
    "from create_embedding import preprocess_folder, train_embedding_model, apply_embedding_model, combine_embeddings, encode_logo, decode_z\n",
    "from deepsvg.svglib.svg import SVG\n",
    "from deepsvg import utils"
   ]
  },
  {
   "cell_type": "code",
   "execution_count": 3,
   "metadata": {},
   "outputs": [],
   "source": [
    "os.chdir(\"../..\")"
   ]
  },
  {
   "cell_type": "markdown",
   "metadata": {},
   "source": [
    "### 1 Preprocessing"
   ]
  },
  {
   "cell_type": "markdown",
   "metadata": {},
   "source": [
    "#### 1.1 Simplify SVGs\n",
    "Creates simplified SVGs and its tensors on SVG and path level"
   ]
  },
  {
   "cell_type": "code",
   "execution_count": 4,
   "metadata": {},
   "outputs": [
    {
     "name": "stderr",
     "output_type": "stream",
     "text": [
      "100%|████████████████████████████████████████████████████████████████████████████████| 419/419 [01:03<00:00,  6.60it/s]\n"
     ]
    }
   ],
   "source": [
    "preprocess_folder(data_folder=\"data/svgs\")"
   ]
  },
  {
   "cell_type": "code",
   "execution_count": 5,
   "metadata": {},
   "outputs": [
    {
     "name": "stderr",
     "output_type": "stream",
     "text": [
      "100%|██████████████████████████████████████████████████████████████████████████████| 5561/5561 [02:26<00:00, 37.93it/s]\n"
     ]
    }
   ],
   "source": [
    "preprocess_folder(data_folder=\"data/decomposed_svgs\")"
   ]
  },
  {
   "cell_type": "markdown",
   "metadata": {},
   "source": [
    "#### 1.2 Train Embedding Model"
   ]
  },
  {
   "cell_type": "code",
   "execution_count": 6,
   "metadata": {},
   "outputs": [
    {
     "name": "stdout",
     "output_type": "stream",
     "text": [
      "Parameters\n",
      "  batch_size = 20\n",
      "  ckpt_every = 1000\n",
      "  collate_fn = None\n",
      "  data_dir = data/svgs_tensors/\n",
      "  dataloader_module = deepsvg.svgtensor_dataset\n",
      "  filter_category = None\n",
      "  filter_labels = None\n",
      "  filter_platform = None\n",
      "  filter_uni = None\n",
      "  grad_clip = 1.0\n",
      "  learning_rate = 0.001\n",
      "  loader_num_workers = 4\n",
      "  log_every = 20\n",
      "  max_num_groups = 8\n",
      "  max_seq_len = 30\n",
      "  max_total_len = 50\n",
      "  meta_filepath = data/svgs_meta.csv\n",
      "  model_args = ['commands', 'args', 'commands', 'args']\n",
      "  model_cfg = <configs.deepsvg.hierarchical_ordered.ModelConfig object at 0x000001F904340388>\n",
      "  nb_augmentations = 1\n",
      "  num_epochs = 1\n",
      "  num_gpus = 1\n",
      "  num_steps = None\n",
      "  optimizer_starts = [0]\n",
      "  pretrained_path = ./models/hierarchical_ordered.pth.tar\n",
      "  stats_to_print = {'train': ['lr', 'time']}\n",
      "  train_ratio = 1.0\n",
      "  val_every = 10\n",
      "  warmup_steps = 500\n",
      "Loading dataset\n",
      "Loading pretrained model ./models/hierarchical_ordered.pth.tar\n",
      "#Parameters: 10,304,596\n",
      "Epoch 1\n"
     ]
    }
   ],
   "source": [
    "model = train_embedding_model(data_folder=\"data/svgs\", num_epochs=1, batch_size=20, save=False)"
   ]
  },
  {
   "cell_type": "markdown",
   "metadata": {},
   "source": [
    "#### 1.3 Apply Hierarchical Generative Network\n",
    "Apply hierarchical generative network to produce latent vector z"
   ]
  },
  {
   "cell_type": "code",
   "execution_count": 4,
   "metadata": {},
   "outputs": [],
   "source": [
    "model = \"models/20210301_1813_model_batch60_epoch30_decomposed_svgs.pth.tar\""
   ]
  },
  {
   "cell_type": "code",
   "execution_count": 5,
   "metadata": {},
   "outputs": [
    {
     "name": "stderr",
     "output_type": "stream",
     "text": [
      "100%|████████████████████████████████████████████████████████████████████████████████| 180/180 [00:05<00:00, 32.01it/s]\n"
     ]
    }
   ],
   "source": [
    "svgs_embedding = apply_embedding_model(model_path=model, data_folder=\"data/svgs\", save=True)"
   ]
  },
  {
   "cell_type": "code",
   "execution_count": 6,
   "metadata": {},
   "outputs": [
    {
     "name": "stderr",
     "output_type": "stream",
     "text": [
      "100%|██████████████████████████████████████████████████████████████████████████████| 3092/3092 [02:12<00:00, 23.36it/s]\n"
     ]
    }
   ],
   "source": [
    "decomposed_svgs_embedding = apply_embedding_model(model_path=model, data_folder=\"data/decomposed_svgs\", save=True)"
   ]
  },
  {
   "cell_type": "code",
   "execution_count": 8,
   "metadata": {},
   "outputs": [
    {
     "name": "stderr",
     "output_type": "stream",
     "text": [
      "WARNING:py.warnings:C:\\Users\\sarah\\PycharmProjects\\animate_logos\\src\\preprocessing\\create_embedding.py:223: SettingWithCopyWarning: \n",
      "A value is trying to be set on a copy of a slice from a DataFrame.\n",
      "Try using .loc[row_indexer,col_indexer] = value instead\n",
      "\n",
      "See the caveats in the documentation: https://pandas.pydata.org/pandas-docs/stable/user_guide/indexing.html#returning-a-view-versus-a-copy\n",
      "  combined_embedding[col] = merged_embeddings[str(col) + \"_x\"] + merged_embeddings[str(col) + \"_y\"]\n",
      "\n"
     ]
    }
   ],
   "source": [
    "combined_embedding = combine_embeddings(df_svg_embedding=svgs_embedding, df_decomposed_svg_embedding=decomposed_svgs_embedding, model_path=model, save=True)"
   ]
  },
  {
   "cell_type": "code",
   "execution_count": 9,
   "metadata": {},
   "outputs": [
    {
     "data": {
      "text/html": [
       "<div>\n",
       "<style scoped>\n",
       "    .dataframe tbody tr th:only-of-type {\n",
       "        vertical-align: middle;\n",
       "    }\n",
       "\n",
       "    .dataframe tbody tr th {\n",
       "        vertical-align: top;\n",
       "    }\n",
       "\n",
       "    .dataframe thead th {\n",
       "        text-align: right;\n",
       "    }\n",
       "</style>\n",
       "<table border=\"1\" class=\"dataframe\">\n",
       "  <thead>\n",
       "    <tr style=\"text-align: right;\">\n",
       "      <th></th>\n",
       "      <th>filename</th>\n",
       "      <th>animation_id</th>\n",
       "      <th>0</th>\n",
       "      <th>1</th>\n",
       "      <th>2</th>\n",
       "      <th>3</th>\n",
       "      <th>4</th>\n",
       "      <th>5</th>\n",
       "      <th>6</th>\n",
       "      <th>7</th>\n",
       "      <th>...</th>\n",
       "      <th>246</th>\n",
       "      <th>247</th>\n",
       "      <th>248</th>\n",
       "      <th>249</th>\n",
       "      <th>250</th>\n",
       "      <th>251</th>\n",
       "      <th>252</th>\n",
       "      <th>253</th>\n",
       "      <th>254</th>\n",
       "      <th>255</th>\n",
       "    </tr>\n",
       "  </thead>\n",
       "  <tbody>\n",
       "    <tr>\n",
       "      <th>0</th>\n",
       "      <td>Ableton</td>\n",
       "      <td>0</td>\n",
       "      <td>3.517644</td>\n",
       "      <td>-2.221145</td>\n",
       "      <td>2.426589</td>\n",
       "      <td>-0.335582</td>\n",
       "      <td>0.408024</td>\n",
       "      <td>0.467482</td>\n",
       "      <td>0.596992</td>\n",
       "      <td>0.929539</td>\n",
       "      <td>...</td>\n",
       "      <td>-2.618715</td>\n",
       "      <td>-1.132390</td>\n",
       "      <td>-0.681460</td>\n",
       "      <td>-0.026908</td>\n",
       "      <td>1.300111</td>\n",
       "      <td>2.522139</td>\n",
       "      <td>0.318490</td>\n",
       "      <td>-2.306422</td>\n",
       "      <td>2.755535</td>\n",
       "      <td>0.575454</td>\n",
       "    </tr>\n",
       "    <tr>\n",
       "      <th>1</th>\n",
       "      <td>A&amp;O Hotels and Hostels</td>\n",
       "      <td>0</td>\n",
       "      <td>3.611988</td>\n",
       "      <td>-2.384859</td>\n",
       "      <td>2.050283</td>\n",
       "      <td>-0.208244</td>\n",
       "      <td>0.158463</td>\n",
       "      <td>0.833749</td>\n",
       "      <td>0.663469</td>\n",
       "      <td>0.539528</td>\n",
       "      <td>...</td>\n",
       "      <td>-1.935898</td>\n",
       "      <td>-1.652914</td>\n",
       "      <td>-1.100277</td>\n",
       "      <td>0.516891</td>\n",
       "      <td>1.920528</td>\n",
       "      <td>2.103320</td>\n",
       "      <td>-0.123224</td>\n",
       "      <td>-3.474483</td>\n",
       "      <td>2.698898</td>\n",
       "      <td>1.025379</td>\n",
       "    </tr>\n",
       "    <tr>\n",
       "      <th>2</th>\n",
       "      <td>A&amp;O Hotels and Hostels</td>\n",
       "      <td>1</td>\n",
       "      <td>3.286057</td>\n",
       "      <td>-2.079230</td>\n",
       "      <td>2.122104</td>\n",
       "      <td>-0.263052</td>\n",
       "      <td>0.309977</td>\n",
       "      <td>0.845806</td>\n",
       "      <td>0.622541</td>\n",
       "      <td>0.677685</td>\n",
       "      <td>...</td>\n",
       "      <td>-1.833238</td>\n",
       "      <td>-1.330910</td>\n",
       "      <td>-1.147234</td>\n",
       "      <td>0.456843</td>\n",
       "      <td>1.758519</td>\n",
       "      <td>2.075548</td>\n",
       "      <td>-0.184199</td>\n",
       "      <td>-3.333424</td>\n",
       "      <td>2.771929</td>\n",
       "      <td>0.691892</td>\n",
       "    </tr>\n",
       "    <tr>\n",
       "      <th>3</th>\n",
       "      <td>Ableton</td>\n",
       "      <td>1</td>\n",
       "      <td>3.180732</td>\n",
       "      <td>-2.104532</td>\n",
       "      <td>2.313095</td>\n",
       "      <td>-0.427705</td>\n",
       "      <td>0.344866</td>\n",
       "      <td>0.330177</td>\n",
       "      <td>0.190357</td>\n",
       "      <td>0.675591</td>\n",
       "      <td>...</td>\n",
       "      <td>-2.678052</td>\n",
       "      <td>-1.195949</td>\n",
       "      <td>-0.732671</td>\n",
       "      <td>0.005957</td>\n",
       "      <td>1.622082</td>\n",
       "      <td>2.330484</td>\n",
       "      <td>0.286646</td>\n",
       "      <td>-2.836176</td>\n",
       "      <td>2.841082</td>\n",
       "      <td>0.335738</td>\n",
       "    </tr>\n",
       "    <tr>\n",
       "      <th>4</th>\n",
       "      <td>Ableton</td>\n",
       "      <td>2</td>\n",
       "      <td>3.436753</td>\n",
       "      <td>-2.154513</td>\n",
       "      <td>2.390192</td>\n",
       "      <td>-0.140887</td>\n",
       "      <td>0.303902</td>\n",
       "      <td>0.268003</td>\n",
       "      <td>0.399324</td>\n",
       "      <td>0.608917</td>\n",
       "      <td>...</td>\n",
       "      <td>-2.541381</td>\n",
       "      <td>-1.345490</td>\n",
       "      <td>-0.582850</td>\n",
       "      <td>-0.167250</td>\n",
       "      <td>1.611613</td>\n",
       "      <td>2.456892</td>\n",
       "      <td>-0.015959</td>\n",
       "      <td>-2.740299</td>\n",
       "      <td>2.744766</td>\n",
       "      <td>0.580454</td>\n",
       "    </tr>\n",
       "    <tr>\n",
       "      <th>...</th>\n",
       "      <td>...</td>\n",
       "      <td>...</td>\n",
       "      <td>...</td>\n",
       "      <td>...</td>\n",
       "      <td>...</td>\n",
       "      <td>...</td>\n",
       "      <td>...</td>\n",
       "      <td>...</td>\n",
       "      <td>...</td>\n",
       "      <td>...</td>\n",
       "      <td>...</td>\n",
       "      <td>...</td>\n",
       "      <td>...</td>\n",
       "      <td>...</td>\n",
       "      <td>...</td>\n",
       "      <td>...</td>\n",
       "      <td>...</td>\n",
       "      <td>...</td>\n",
       "      <td>...</td>\n",
       "      <td>...</td>\n",
       "      <td>...</td>\n",
       "    </tr>\n",
       "    <tr>\n",
       "      <th>2969</th>\n",
       "      <td>Öger Group</td>\n",
       "      <td>7</td>\n",
       "      <td>3.354184</td>\n",
       "      <td>-2.581339</td>\n",
       "      <td>2.127755</td>\n",
       "      <td>-0.112889</td>\n",
       "      <td>-0.028587</td>\n",
       "      <td>0.637631</td>\n",
       "      <td>0.197530</td>\n",
       "      <td>0.629679</td>\n",
       "      <td>...</td>\n",
       "      <td>-2.104873</td>\n",
       "      <td>-1.518951</td>\n",
       "      <td>-1.272587</td>\n",
       "      <td>0.146290</td>\n",
       "      <td>1.442890</td>\n",
       "      <td>2.158083</td>\n",
       "      <td>0.045911</td>\n",
       "      <td>-2.925663</td>\n",
       "      <td>2.616506</td>\n",
       "      <td>0.612828</td>\n",
       "    </tr>\n",
       "    <tr>\n",
       "      <th>2970</th>\n",
       "      <td>Öger Group</td>\n",
       "      <td>9</td>\n",
       "      <td>3.635494</td>\n",
       "      <td>-2.444565</td>\n",
       "      <td>2.422632</td>\n",
       "      <td>-0.083112</td>\n",
       "      <td>0.000461</td>\n",
       "      <td>0.757297</td>\n",
       "      <td>0.247601</td>\n",
       "      <td>0.587927</td>\n",
       "      <td>...</td>\n",
       "      <td>-1.965577</td>\n",
       "      <td>-1.417324</td>\n",
       "      <td>-0.959245</td>\n",
       "      <td>0.488662</td>\n",
       "      <td>1.492060</td>\n",
       "      <td>2.141334</td>\n",
       "      <td>0.428038</td>\n",
       "      <td>-2.733085</td>\n",
       "      <td>2.914678</td>\n",
       "      <td>0.380336</td>\n",
       "    </tr>\n",
       "    <tr>\n",
       "      <th>2971</th>\n",
       "      <td>Öger Group</td>\n",
       "      <td>8</td>\n",
       "      <td>4.040693</td>\n",
       "      <td>-2.761114</td>\n",
       "      <td>1.882030</td>\n",
       "      <td>-0.342164</td>\n",
       "      <td>0.140492</td>\n",
       "      <td>0.530168</td>\n",
       "      <td>0.030529</td>\n",
       "      <td>0.715658</td>\n",
       "      <td>...</td>\n",
       "      <td>-2.049555</td>\n",
       "      <td>-1.428372</td>\n",
       "      <td>-1.490032</td>\n",
       "      <td>0.676304</td>\n",
       "      <td>1.297831</td>\n",
       "      <td>1.748343</td>\n",
       "      <td>0.291577</td>\n",
       "      <td>-2.504542</td>\n",
       "      <td>2.731264</td>\n",
       "      <td>0.852913</td>\n",
       "    </tr>\n",
       "    <tr>\n",
       "      <th>2972</th>\n",
       "      <td>ÖRAG</td>\n",
       "      <td>1</td>\n",
       "      <td>3.081293</td>\n",
       "      <td>-2.530689</td>\n",
       "      <td>1.961947</td>\n",
       "      <td>-0.046195</td>\n",
       "      <td>0.150372</td>\n",
       "      <td>0.695613</td>\n",
       "      <td>0.368793</td>\n",
       "      <td>0.271956</td>\n",
       "      <td>...</td>\n",
       "      <td>-1.744570</td>\n",
       "      <td>-1.753945</td>\n",
       "      <td>-1.067059</td>\n",
       "      <td>0.510447</td>\n",
       "      <td>1.468020</td>\n",
       "      <td>2.085278</td>\n",
       "      <td>0.002981</td>\n",
       "      <td>-3.034999</td>\n",
       "      <td>2.755673</td>\n",
       "      <td>0.798450</td>\n",
       "    </tr>\n",
       "    <tr>\n",
       "      <th>2973</th>\n",
       "      <td>ÖRAG</td>\n",
       "      <td>0</td>\n",
       "      <td>3.529468</td>\n",
       "      <td>-2.460280</td>\n",
       "      <td>1.811950</td>\n",
       "      <td>-0.159491</td>\n",
       "      <td>-0.057241</td>\n",
       "      <td>0.698869</td>\n",
       "      <td>0.497636</td>\n",
       "      <td>0.187869</td>\n",
       "      <td>...</td>\n",
       "      <td>-1.753650</td>\n",
       "      <td>-1.707359</td>\n",
       "      <td>-1.072528</td>\n",
       "      <td>0.614429</td>\n",
       "      <td>1.446634</td>\n",
       "      <td>2.101563</td>\n",
       "      <td>0.178425</td>\n",
       "      <td>-2.849682</td>\n",
       "      <td>2.986915</td>\n",
       "      <td>1.005611</td>\n",
       "    </tr>\n",
       "  </tbody>\n",
       "</table>\n",
       "<p>2974 rows × 258 columns</p>\n",
       "</div>"
      ],
      "text/plain": [
       "                    filename animation_id         0         1         2  \\\n",
       "0                    Ableton            0  3.517644 -2.221145  2.426589   \n",
       "1     A&O Hotels and Hostels            0  3.611988 -2.384859  2.050283   \n",
       "2     A&O Hotels and Hostels            1  3.286057 -2.079230  2.122104   \n",
       "3                    Ableton            1  3.180732 -2.104532  2.313095   \n",
       "4                    Ableton            2  3.436753 -2.154513  2.390192   \n",
       "...                      ...          ...       ...       ...       ...   \n",
       "2969              Öger Group            7  3.354184 -2.581339  2.127755   \n",
       "2970              Öger Group            9  3.635494 -2.444565  2.422632   \n",
       "2971              Öger Group            8  4.040693 -2.761114  1.882030   \n",
       "2972                    ÖRAG            1  3.081293 -2.530689  1.961947   \n",
       "2973                    ÖRAG            0  3.529468 -2.460280  1.811950   \n",
       "\n",
       "             3         4         5         6         7  ...       246  \\\n",
       "0    -0.335582  0.408024  0.467482  0.596992  0.929539  ... -2.618715   \n",
       "1    -0.208244  0.158463  0.833749  0.663469  0.539528  ... -1.935898   \n",
       "2    -0.263052  0.309977  0.845806  0.622541  0.677685  ... -1.833238   \n",
       "3    -0.427705  0.344866  0.330177  0.190357  0.675591  ... -2.678052   \n",
       "4    -0.140887  0.303902  0.268003  0.399324  0.608917  ... -2.541381   \n",
       "...        ...       ...       ...       ...       ...  ...       ...   \n",
       "2969 -0.112889 -0.028587  0.637631  0.197530  0.629679  ... -2.104873   \n",
       "2970 -0.083112  0.000461  0.757297  0.247601  0.587927  ... -1.965577   \n",
       "2971 -0.342164  0.140492  0.530168  0.030529  0.715658  ... -2.049555   \n",
       "2972 -0.046195  0.150372  0.695613  0.368793  0.271956  ... -1.744570   \n",
       "2973 -0.159491 -0.057241  0.698869  0.497636  0.187869  ... -1.753650   \n",
       "\n",
       "           247       248       249       250       251       252       253  \\\n",
       "0    -1.132390 -0.681460 -0.026908  1.300111  2.522139  0.318490 -2.306422   \n",
       "1    -1.652914 -1.100277  0.516891  1.920528  2.103320 -0.123224 -3.474483   \n",
       "2    -1.330910 -1.147234  0.456843  1.758519  2.075548 -0.184199 -3.333424   \n",
       "3    -1.195949 -0.732671  0.005957  1.622082  2.330484  0.286646 -2.836176   \n",
       "4    -1.345490 -0.582850 -0.167250  1.611613  2.456892 -0.015959 -2.740299   \n",
       "...        ...       ...       ...       ...       ...       ...       ...   \n",
       "2969 -1.518951 -1.272587  0.146290  1.442890  2.158083  0.045911 -2.925663   \n",
       "2970 -1.417324 -0.959245  0.488662  1.492060  2.141334  0.428038 -2.733085   \n",
       "2971 -1.428372 -1.490032  0.676304  1.297831  1.748343  0.291577 -2.504542   \n",
       "2972 -1.753945 -1.067059  0.510447  1.468020  2.085278  0.002981 -3.034999   \n",
       "2973 -1.707359 -1.072528  0.614429  1.446634  2.101563  0.178425 -2.849682   \n",
       "\n",
       "           254       255  \n",
       "0     2.755535  0.575454  \n",
       "1     2.698898  1.025379  \n",
       "2     2.771929  0.691892  \n",
       "3     2.841082  0.335738  \n",
       "4     2.744766  0.580454  \n",
       "...        ...       ...  \n",
       "2969  2.616506  0.612828  \n",
       "2970  2.914678  0.380336  \n",
       "2971  2.731264  0.852913  \n",
       "2972  2.755673  0.798450  \n",
       "2973  2.986915  1.005611  \n",
       "\n",
       "[2974 rows x 258 columns]"
      ]
     },
     "execution_count": 9,
     "metadata": {},
     "output_type": "execute_result"
    }
   ],
   "source": [
    "combined_embedding"
   ]
  },
  {
   "cell_type": "markdown",
   "metadata": {},
   "source": [
    "##### Test Hierarchical Generative Network"
   ]
  },
  {
   "cell_type": "code",
   "execution_count": 10,
   "metadata": {},
   "outputs": [
    {
     "data": {
      "image/svg+xml": [
       "<svg height=\"200px\" viewBox=\"0.0 0.0 76.0 76.0\" width=\"200px\" xmlns=\"http://www.w3.org/2000/svg\"><path d=\"M0.30000001192092896 40.400001525878906 C1.5 60.20000076293945 18.0 76.0 38.20000076293945 76.0 C58.400001525878906 76.0 74.9000015258789 60.20000076293945 76.10000610351562 40.400001525878906 C76.10000610351562 39.60000228881836 76.00000762939453 38.80000305175781 75.90000915527344 38.0 C75.10000610351562 31.399999618530273 72.60000610351562 25.299999237060547 68.80001068115234 20.200000762939453 C61.90000915527344 10.80000114440918 50.800010681152344 4.700000762939453 38.20001220703125 4.700000762939453 C55.800010681152344 4.700000762939453 70.20001220703125 18.400001525878906 71.40000915527344 35.599998474121094 C71.50000762939453 36.39999771118164 71.50000762939453 37.19999694824219 71.50000762939453 38.0 C71.50000762939453 38.79999923706055 71.50000762939453 39.599998474121094 71.40000915527344 40.400001525878906 C70.20001220703125 57.70000076293945 55.800010681152344 71.30000305175781 38.200008392333984 71.30000305175781 C25.600008010864258 71.30000305175781 14.500007629394531 65.20000457763672 7.600008010864258 55.80000305175781 C3.799999952316284 50.70000076293945 1.2999999523162842 44.599998474121094 0.5 38.0 C0.4000000059604645 37.20000076293945 0.30000001192092896 36.400001525878906 0.30000001192092896 35.70000076293945 C0.30000001192092896 36.5 0.20000001788139343 37.29999923706055 0.20000001788139343 38.10000228881836 C0.20000000298023224 38.79999923706055 0.20000000298023224 39.599998474121094 0.30000001192092896 40.400001525878906\" fill=\"black\" fill-opacity=\"1.0\" filling=\"0\"/></svg>"
      ],
      "text/plain": [
       "<IPython.core.display.SVG object>"
      ]
     },
     "metadata": {},
     "output_type": "display_data"
    }
   ],
   "source": [
    "SVG.load_svg(\"data/decomposed_svgs/Bayer_2.svg\").draw()"
   ]
  },
  {
   "cell_type": "code",
   "execution_count": 19,
   "metadata": {},
   "outputs": [
    {
     "data": {
      "image/svg+xml": [
       "<svg height=\"200px\" viewBox=\"0.0 0.0 24.0 24.0\" width=\"200px\" xmlns=\"http://www.w3.org/2000/svg\"><path d=\"M0.0 13.5 L0.0 8.15625 C1.875 8.8125 3.5625 11.4375 3.84375 11.90625 C0.9375 13.59375 1.875 13.59375 2.0625 13.21875 C1.875 16.5 4.875 17.0625 5.4375 17.25 C6.1875 17.0625 7.03125 17.8125 7.3125 18.375 C11.90625 17.0625 12.9375 18.28125 13.875 18.09375 C14.53125 18.0 15.375 18.28125 16.78125 17.53125 C18.0 14.8125 19.6875 14.625 19.875 13.875 C20.71875 13.6875 21.0 12.9375 21.375 12.1875 C22.59375 12.9375 22.3125 12.28125 22.6875 11.71875 C20.34375 4.59375 20.15625 5.0625 20.15625 4.5 C21.5625 4.875 22.03125 5.15625 22.6875 5.53125 C22.96875 7.5 23.90625 7.875 23.90625 10.125 L23.90625 15.375 C23.90625 18.75 23.90625 19.78125 16.40625 20.4375 C23.90625 17.4375 15.0 21.75 14.4375 21.5625 C12.375 23.90625 6.65625 23.90625 8.15625 22.6875 C6.09375 21.75 6.09375 21.5625 1.125 19.21875 C0.0 20.71875 0.0 19.40625 0.5625 19.125\" fill=\"none\" filling=\"0\" stroke=\"deepskyblue\" stroke-opacity=\"1.0\" stroke-width=\".3\"/>\n",
       "<path d=\"M83.99994659423828 83.99994659423828 M83.99994659423828 83.99994659423828\" fill=\"none\" filling=\"0\" stroke=\"lime\" stroke-opacity=\"1.0\" stroke-width=\".3\"/>\n",
       "<path d=\"M83.99994659423828 83.99994659423828 M83.99994659423828 83.99994659423828\" fill=\"none\" filling=\"0\" stroke=\"deeppink\" stroke-opacity=\"1.0\" stroke-width=\".3\"/>\n",
       "<path d=\"M83.99994659423828 83.99994659423828 M83.99994659423828 83.99994659423828\" fill=\"none\" filling=\"0\" stroke=\"gold\" stroke-opacity=\"1.0\" stroke-width=\".3\"/>\n",
       "<path d=\"M83.99994659423828 83.99994659423828 M83.99994659423828 83.99994659423828\" fill=\"none\" filling=\"0\" stroke=\"coral\" stroke-opacity=\"1.0\" stroke-width=\".3\"/>\n",
       "<path d=\"M83.99994659423828 83.99994659423828 M83.99994659423828 83.99994659423828\" fill=\"none\" filling=\"0\" stroke=\"darkviolet\" stroke-opacity=\"1.0\" stroke-width=\".3\"/>\n",
       "<path d=\"M83.99994659423828 83.99994659423828 M83.99994659423828 83.99994659423828\" fill=\"none\" filling=\"0\" stroke=\"royalblue\" stroke-opacity=\"1.0\" stroke-width=\".3\"/>\n",
       "<path d=\"M83.99994659423828 83.99994659423828 M83.99994659423828 83.99994659423828\" fill=\"none\" filling=\"0\" stroke=\"darkmagenta\" stroke-opacity=\"1.0\" stroke-width=\".3\"/></svg>"
      ],
      "text/plain": [
       "<IPython.core.display.SVG object>"
      ]
     },
     "metadata": {},
     "output_type": "display_data"
    }
   ],
   "source": [
    "model = \"models/hierarchical_ordered.pth.tar\"\n",
    "utils.set_seed(42) # Reproducibility\n",
    "z = encode_logo(\"Bayer_2\", model_path=model, data_folder=\"data/decomposed_svgs\")\n",
    "decode_z(z, model_path=model, data_folder=\"data/decomposed_svgs\", do_display=True, return_svg=False, return_png=False)"
   ]
  },
  {
   "cell_type": "code",
   "execution_count": null,
   "metadata": {},
   "outputs": [],
   "source": []
  },
  {
   "cell_type": "code",
   "execution_count": null,
   "metadata": {},
   "outputs": [],
   "source": []
  },
  {
   "cell_type": "markdown",
   "metadata": {},
   "source": [
    "### 2 Model"
   ]
  },
  {
   "cell_type": "code",
   "execution_count": null,
   "metadata": {},
   "outputs": [],
   "source": []
  },
  {
   "cell_type": "code",
   "execution_count": null,
   "metadata": {},
   "outputs": [],
   "source": []
  },
  {
   "cell_type": "code",
   "execution_count": null,
   "metadata": {},
   "outputs": [],
   "source": []
  }
 ],
 "metadata": {
  "kernelspec": {
   "display_name": "Python 3",
   "language": "python",
   "name": "python3"
  },
  "language_info": {
   "codemirror_mode": {
    "name": "ipython",
    "version": 3
   },
   "file_extension": ".py",
   "mimetype": "text/x-python",
   "name": "python",
   "nbconvert_exporter": "python",
   "pygments_lexer": "ipython3",
   "version": "3.7.9"
  }
 },
 "nbformat": 4,
 "nbformat_minor": 4
}
