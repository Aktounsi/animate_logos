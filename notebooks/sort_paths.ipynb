{
 "cells": [
  {
   "cell_type": "code",
   "execution_count": 1,
   "metadata": {},
   "outputs": [],
   "source": [
    "import os\n",
    "import pandas as pd\n",
    "from matplotlib import image\n",
    "from skimage.metrics import mean_squared_error\n",
    "#os.chdir(\"../src/preprocessing\")\n",
    "#os.getcwd()"
   ]
  },
  {
   "cell_type": "code",
   "execution_count": 2,
   "metadata": {},
   "outputs": [],
   "source": [
    "#from deepsvg.svglib.svg import SVG\n",
    "#os.chdir(\"../..\")"
   ]
  },
  {
   "cell_type": "code",
   "execution_count": 3,
   "metadata": {},
   "outputs": [],
   "source": [
    "#from src.data.get_svg_meta_data import *"
   ]
  },
  {
   "cell_type": "code",
   "execution_count": 5,
   "metadata": {},
   "outputs": [
    {
     "name": "stderr",
     "output_type": "stream",
     "text": [
      "100%|██████████| 192/192 [00:04<00:00, 46.04it/s]\n"
     ]
    }
   ],
   "source": [
    "#svg_meta = get_svg_meta_data(\"data/svgs\")"
   ]
  },
  {
   "cell_type": "code",
   "execution_count": 2,
   "metadata": {},
   "outputs": [],
   "source": [
    "def sort_by_relevance(path_selection_folder):\n",
    "    nr_paths = len([name for name in os.listdir(path_selection_folder) if os.path.isfile(os.path.join(path_selection_folder, name))]) - 1\n",
    "    relevance_scores = []\n",
    "    img_origin = image.imread(os.path.join(path_selection_folder, \"original.png\"))\n",
    "    for i in range(nr_paths):\n",
    "        img_reduced = image.imread(os.path.join(path_selection_folder, \"withoud_id_{}.png\".format(i)))\n",
    "        relevance_scores.append(mean_squared_error(img_origin, img_reduced))\n",
    "    relevance_score_ordering = list(range(nr_paths))\n",
    "    relevance_score_ordering.sort(key=lambda x: relevance_scores[x], reverse=True)\n",
    "    return relevance_score_ordering"
   ]
  },
  {
   "cell_type": "code",
   "execution_count": 4,
   "metadata": {},
   "outputs": [],
   "source": [
    "res=sort_by_relevance(\"../data/path_selection/L_7sins_02\")"
   ]
  },
  {
   "cell_type": "code",
   "execution_count": 38,
   "metadata": {},
   "outputs": [
    {
     "data": {
      "text/plain": [
       "[0, 2, 6, 7, 4, 3, 5, 1]"
      ]
     },
     "execution_count": 38,
     "metadata": {},
     "output_type": "execute_result"
    }
   ],
   "source": [
    "res"
   ]
  }
 ],
 "metadata": {
  "kernelspec": {
   "display_name": "animate_logos",
   "language": "python",
   "name": "animate_logos"
  },
  "language_info": {
   "codemirror_mode": {
    "name": "ipython",
    "version": 3
   },
   "file_extension": ".py",
   "mimetype": "text/x-python",
   "name": "python",
   "nbconvert_exporter": "python",
   "pygments_lexer": "ipython3",
   "version": "3.8.8"
  }
 },
 "nbformat": 4,
 "nbformat_minor": 4
}
