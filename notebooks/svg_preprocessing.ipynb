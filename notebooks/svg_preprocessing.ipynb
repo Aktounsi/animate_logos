{
 "cells": [
  {
   "cell_type": "markdown",
   "metadata": {},
   "source": [
    "### Create Dataset"
   ]
  },
  {
   "cell_type": "code",
   "execution_count": 1,
   "metadata": {},
   "outputs": [],
   "source": [
    "import os\n",
    "os.chdir(\"..\")\n",
    "os.chdir(\"src/preprocessing\")"
   ]
  },
  {
   "cell_type": "code",
   "execution_count": 2,
   "metadata": {},
   "outputs": [],
   "source": [
    "from concurrent import futures\n",
    "from argparse import ArgumentParser\n",
    "import logging\n",
    "from tqdm import tqdm\n",
    "import glob\n",
    "import pandas as pd\n",
    "import pickle\n",
    "\n",
    "from deepsvg.svglib.svg import SVG\n",
    "from deepsvg.difflib.tensor import SVGTensor"
   ]
  },
  {
   "cell_type": "code",
   "execution_count": 3,
   "metadata": {},
   "outputs": [],
   "source": [
    "def save_tensor_as_pkl(tensor_data, file_path):\n",
    "    tensor_dict = {'tensors': tensor_data, 'fillings': [1]} # * tensor_data.shape[0]}\n",
    "    output = open(file_path, 'wb')\n",
    "    pickle.dump(tensor_dict, output)\n",
    "    output.close()"
   ]
  },
  {
   "cell_type": "code",
   "execution_count": 11,
   "metadata": {},
   "outputs": [],
   "source": [
    "def preprocess_svg(svg_file, output_folder, tensor_folder, meta_data, tensor_data):\n",
    "    filename = os.path.splitext(os.path.basename(svg_file))[0]\n",
    "\n",
    "    svg = SVG.load_svg(svg_file)\n",
    "    svg.fill_(False)\n",
    "    svg.normalize()\n",
    "    svg.zoom(0.9)\n",
    "    svg.canonicalize()\n",
    "    svg = svg.simplify_heuristic()\n",
    "\n",
    "    svg.save_svg(os.path.join(output_folder, f\"{filename}.svg\"))\n",
    "    \n",
    "    save_tensor_as_pkl(svg.to_tensor(), os.path.join(tensor_folder, f\"{filename}.pkl\"))\n",
    "\n",
    "    len_groups = [path_group.total_len() for path_group in svg.svg_path_groups]\n",
    "\n",
    "    meta_data[filename] = {\n",
    "        \"id\": filename,\n",
    "        \"total_len\": sum(len_groups),\n",
    "        \"nb_groups\": len(len_groups),\n",
    "        \"len_groups\": len_groups,\n",
    "        \"max_len_group\": max(len_groups)\n",
    "    }\n",
    "    \n",
    "    tensor_data[filename] = {\n",
    "        \"id\": filename,\n",
    "        \"tensor\": svg.to_tensor()\n",
    "    }"
   ]
  },
  {
   "cell_type": "code",
   "execution_count": 12,
   "metadata": {},
   "outputs": [],
   "source": [
    "def main(args):\n",
    "    with futures.ThreadPoolExecutor(max_workers=args.workers) as executor:\n",
    "        svg_files = glob.glob(os.path.join(args.data_folder, \"*.svg\"))\n",
    "        meta_data = {}\n",
    "        tensor_data = {}\n",
    "\n",
    "        with tqdm(total=len(svg_files)) as pbar:\n",
    "            preprocess_requests = [executor.submit(preprocess_svg, svg_file, args.output_folder, args.tensor_folder, meta_data, tensor_data)\n",
    "                                    for svg_file in svg_files]\n",
    "\n",
    "            for _ in futures.as_completed(preprocess_requests):\n",
    "                pbar.update(1)\n",
    "\n",
    "    df = pd.DataFrame(meta_data.values())\n",
    "    df.to_csv(args.output_meta_file, index=False)\n",
    "    \n",
    "    df_tensor = pd.DataFrame(tensor_data.values())\n",
    "    df_tensor.to_csv('data/svg_tensor_data.csv', index=False)\n",
    "\n",
    "    logging.info(\"SVG Preprocessing complete.\")"
   ]
  },
  {
   "cell_type": "code",
   "execution_count": 13,
   "metadata": {},
   "outputs": [
    {
     "data": {
      "text/plain": [
       "_StoreAction(option_strings=['--workers'], dest='workers', nargs=None, const=None, default=4, type=<class 'int'>, choices=None, help=None, metavar=None)"
      ]
     },
     "execution_count": 13,
     "metadata": {},
     "output_type": "execute_result"
    }
   ],
   "source": [
    "logging.basicConfig(level=logging.INFO)\n",
    "\n",
    "parser = ArgumentParser()\n",
    "parser.add_argument(\"--data_folder\", default=os.path.join(\"data\", \"svgs\"))\n",
    "parser.add_argument(\"--output_folder\", default=os.path.join(\"data\", \"svgs_simplified\"))\n",
    "parser.add_argument(\"--tensor_folder\", default=os.path.join(\"data\", \"svgs_tensors\"))\n",
    "parser.add_argument(\"--output_meta_file\", default=os.path.join(\"data\", \"svg_meta.csv\"))\n",
    "parser.add_argument(\"--workers\", default=4, type=int)"
   ]
  },
  {
   "cell_type": "code",
   "execution_count": 14,
   "metadata": {},
   "outputs": [],
   "source": [
    "args = parser.parse_args(\"--data_folder data/svgs/ --output_folder data/svgs_simplified/ --tensor_folder data/svgs_tensors/ --output_meta_file data/svg_meta.csv\".split())"
   ]
  },
  {
   "cell_type": "code",
   "execution_count": 15,
   "metadata": {},
   "outputs": [],
   "source": [
    "if not os.path.exists(args.output_folder): os.makedirs(args.output_folder)"
   ]
  },
  {
   "cell_type": "code",
   "execution_count": 16,
   "metadata": {},
   "outputs": [],
   "source": [
    "if not os.path.exists(args.tensor_folder): os.makedirs(args.tensor_folder)"
   ]
  },
  {
   "cell_type": "code",
   "execution_count": 17,
   "metadata": {},
   "outputs": [
    {
     "name": "stderr",
     "output_type": "stream",
     "text": [
      "100%|████████████████████████████████████████████████████████████████████████████████| 419/419 [00:47<00:00,  8.91it/s]\n",
      "INFO:root:SVG Preprocessing complete.\n"
     ]
    }
   ],
   "source": [
    "main(args)"
   ]
  },
  {
   "cell_type": "code",
   "execution_count": 11,
   "metadata": {},
   "outputs": [],
   "source": [
    "#svg = SVG.load_svg('data/svgs/Bayer.svg')"
   ]
  },
  {
   "cell_type": "code",
   "execution_count": 12,
   "metadata": {},
   "outputs": [],
   "source": [
    "#SVGTensor.from_data(svg.to_tensor())"
   ]
  },
  {
   "cell_type": "code",
   "execution_count": 13,
   "metadata": {},
   "outputs": [],
   "source": [
    "#save_tensor_as_pkl(SVGTensor.from_data(svg.to_tensor()), 'test.pkl')"
   ]
  },
  {
   "cell_type": "code",
   "execution_count": 6,
   "metadata": {},
   "outputs": [
    {
     "data": {
      "text/plain": [
       "{'tensors': tensor([[ 0.0000, -1.0000, -1.0000,  ..., -1.0000, 11.2039,  6.1470],\n",
       "         [ 1.0000, -1.0000, -1.0000,  ..., -1.0000, 11.2039,  6.1470],\n",
       "         [ 2.0000, -1.0000, -1.0000,  ...,  6.4180, 16.5470,  7.0207],\n",
       "         ...,\n",
       "         [ 2.0000, -1.0000, -1.0000,  ..., 10.8654,  7.0355, 10.8319],\n",
       "         [ 2.0000, -1.0000, -1.0000,  ..., 11.7787,  7.5396, 12.2521],\n",
       "         [ 1.0000, -1.0000, -1.0000,  ..., -1.0000,  7.5396, 12.2521]]),\n",
       " 'fillings': [1]}"
      ]
     },
     "execution_count": 6,
     "metadata": {},
     "output_type": "execute_result"
    }
   ],
   "source": [
    "with open('./data/svgs_tensors/Alfi.pkl', 'rb') as f:\n",
    "    data = pickle.load(f)\n",
    "\n",
    "data"
   ]
  },
  {
   "cell_type": "code",
   "execution_count": 13,
   "metadata": {},
   "outputs": [
    {
     "data": {
      "text/html": [
       "<div>\n",
       "<style scoped>\n",
       "    .dataframe tbody tr th:only-of-type {\n",
       "        vertical-align: middle;\n",
       "    }\n",
       "\n",
       "    .dataframe tbody tr th {\n",
       "        vertical-align: top;\n",
       "    }\n",
       "\n",
       "    .dataframe thead th {\n",
       "        text-align: right;\n",
       "    }\n",
       "</style>\n",
       "<table border=\"1\" class=\"dataframe\">\n",
       "  <thead>\n",
       "    <tr style=\"text-align: right;\">\n",
       "      <th></th>\n",
       "      <th>0</th>\n",
       "      <th>6</th>\n",
       "      <th>7</th>\n",
       "      <th>8</th>\n",
       "      <th>9</th>\n",
       "      <th>10</th>\n",
       "      <th>11</th>\n",
       "      <th>12</th>\n",
       "      <th>13</th>\n",
       "    </tr>\n",
       "  </thead>\n",
       "  <tbody>\n",
       "    <tr>\n",
       "      <th>0</th>\n",
       "      <td>0.0</td>\n",
       "      <td>0.000000</td>\n",
       "      <td>0.000000</td>\n",
       "      <td>-1.000000</td>\n",
       "      <td>-1.000000</td>\n",
       "      <td>-1.000000</td>\n",
       "      <td>-1.000000</td>\n",
       "      <td>11.203851</td>\n",
       "      <td>6.146964</td>\n",
       "    </tr>\n",
       "    <tr>\n",
       "      <th>1</th>\n",
       "      <td>1.0</td>\n",
       "      <td>11.203851</td>\n",
       "      <td>6.146964</td>\n",
       "      <td>-1.000000</td>\n",
       "      <td>-1.000000</td>\n",
       "      <td>-1.000000</td>\n",
       "      <td>-1.000000</td>\n",
       "      <td>11.203851</td>\n",
       "      <td>6.146964</td>\n",
       "    </tr>\n",
       "    <tr>\n",
       "      <th>2</th>\n",
       "      <td>2.0</td>\n",
       "      <td>11.203851</td>\n",
       "      <td>6.146964</td>\n",
       "      <td>12.840675</td>\n",
       "      <td>6.225605</td>\n",
       "      <td>14.800165</td>\n",
       "      <td>6.418000</td>\n",
       "      <td>16.546961</td>\n",
       "      <td>7.020661</td>\n",
       "    </tr>\n",
       "    <tr>\n",
       "      <th>3</th>\n",
       "      <td>2.0</td>\n",
       "      <td>16.546961</td>\n",
       "      <td>7.020661</td>\n",
       "      <td>18.293758</td>\n",
       "      <td>7.623322</td>\n",
       "      <td>19.827860</td>\n",
       "      <td>8.636251</td>\n",
       "      <td>20.613907</td>\n",
       "      <td>10.355960</td>\n",
       "    </tr>\n",
       "    <tr>\n",
       "      <th>4</th>\n",
       "      <td>2.0</td>\n",
       "      <td>20.613907</td>\n",
       "      <td>10.355960</td>\n",
       "      <td>21.813976</td>\n",
       "      <td>12.981462</td>\n",
       "      <td>20.365112</td>\n",
       "      <td>14.844210</td>\n",
       "      <td>18.178247</td>\n",
       "      <td>16.056341</td>\n",
       "    </tr>\n",
       "    <tr>\n",
       "      <th>...</th>\n",
       "      <td>...</td>\n",
       "      <td>...</td>\n",
       "      <td>...</td>\n",
       "      <td>...</td>\n",
       "      <td>...</td>\n",
       "      <td>...</td>\n",
       "      <td>...</td>\n",
       "      <td>...</td>\n",
       "      <td>...</td>\n",
       "    </tr>\n",
       "    <tr>\n",
       "      <th>91</th>\n",
       "      <td>1.0</td>\n",
       "      <td>7.539608</td>\n",
       "      <td>12.252069</td>\n",
       "      <td>-1.000000</td>\n",
       "      <td>-1.000000</td>\n",
       "      <td>-1.000000</td>\n",
       "      <td>-1.000000</td>\n",
       "      <td>7.539608</td>\n",
       "      <td>12.252069</td>\n",
       "    </tr>\n",
       "    <tr>\n",
       "      <th>92</th>\n",
       "      <td>2.0</td>\n",
       "      <td>7.539608</td>\n",
       "      <td>12.252069</td>\n",
       "      <td>7.408699</td>\n",
       "      <td>12.598938</td>\n",
       "      <td>7.369522</td>\n",
       "      <td>12.996221</td>\n",
       "      <td>7.146880</td>\n",
       "      <td>13.292677</td>\n",
       "    </tr>\n",
       "    <tr>\n",
       "      <th>93</th>\n",
       "      <td>2.0</td>\n",
       "      <td>7.146880</td>\n",
       "      <td>13.292677</td>\n",
       "      <td>5.869326</td>\n",
       "      <td>14.993793</td>\n",
       "      <td>5.320243</td>\n",
       "      <td>10.865399</td>\n",
       "      <td>7.035508</td>\n",
       "      <td>10.831860</td>\n",
       "    </tr>\n",
       "    <tr>\n",
       "      <th>94</th>\n",
       "      <td>2.0</td>\n",
       "      <td>7.035508</td>\n",
       "      <td>10.831860</td>\n",
       "      <td>7.537752</td>\n",
       "      <td>10.822039</td>\n",
       "      <td>7.371574</td>\n",
       "      <td>11.778666</td>\n",
       "      <td>7.539608</td>\n",
       "      <td>12.252069</td>\n",
       "    </tr>\n",
       "    <tr>\n",
       "      <th>95</th>\n",
       "      <td>1.0</td>\n",
       "      <td>7.539608</td>\n",
       "      <td>12.252069</td>\n",
       "      <td>-1.000000</td>\n",
       "      <td>-1.000000</td>\n",
       "      <td>-1.000000</td>\n",
       "      <td>-1.000000</td>\n",
       "      <td>7.539608</td>\n",
       "      <td>12.252069</td>\n",
       "    </tr>\n",
       "  </tbody>\n",
       "</table>\n",
       "<p>96 rows × 9 columns</p>\n",
       "</div>"
      ],
      "text/plain": [
       "     0          6          7          8          9          10         11  \\\n",
       "0   0.0   0.000000   0.000000  -1.000000  -1.000000  -1.000000  -1.000000   \n",
       "1   1.0  11.203851   6.146964  -1.000000  -1.000000  -1.000000  -1.000000   \n",
       "2   2.0  11.203851   6.146964  12.840675   6.225605  14.800165   6.418000   \n",
       "3   2.0  16.546961   7.020661  18.293758   7.623322  19.827860   8.636251   \n",
       "4   2.0  20.613907  10.355960  21.813976  12.981462  20.365112  14.844210   \n",
       "..  ...        ...        ...        ...        ...        ...        ...   \n",
       "91  1.0   7.539608  12.252069  -1.000000  -1.000000  -1.000000  -1.000000   \n",
       "92  2.0   7.539608  12.252069   7.408699  12.598938   7.369522  12.996221   \n",
       "93  2.0   7.146880  13.292677   5.869326  14.993793   5.320243  10.865399   \n",
       "94  2.0   7.035508  10.831860   7.537752  10.822039   7.371574  11.778666   \n",
       "95  1.0   7.539608  12.252069  -1.000000  -1.000000  -1.000000  -1.000000   \n",
       "\n",
       "           12         13  \n",
       "0   11.203851   6.146964  \n",
       "1   11.203851   6.146964  \n",
       "2   16.546961   7.020661  \n",
       "3   20.613907  10.355960  \n",
       "4   18.178247  16.056341  \n",
       "..        ...        ...  \n",
       "91   7.539608  12.252069  \n",
       "92   7.146880  13.292677  \n",
       "93   7.035508  10.831860  \n",
       "94   7.539608  12.252069  \n",
       "95   7.539608  12.252069  \n",
       "\n",
       "[96 rows x 9 columns]"
      ]
     },
     "execution_count": 13,
     "metadata": {},
     "output_type": "execute_result"
    }
   ],
   "source": [
    "pd.DataFrame(data['tensors'].numpy()).drop([1, 2, 3, 4, 5], axis=1)"
   ]
  },
  {
   "cell_type": "code",
   "execution_count": null,
   "metadata": {},
   "outputs": [],
   "source": []
  }
 ],
 "metadata": {
  "kernelspec": {
   "display_name": "Python 3",
   "language": "python",
   "name": "python3"
  },
  "language_info": {
   "codemirror_mode": {
    "name": "ipython",
    "version": 3
   },
   "file_extension": ".py",
   "mimetype": "text/x-python",
   "name": "python",
   "nbconvert_exporter": "python",
   "pygments_lexer": "ipython3",
   "version": "3.7.9"
  }
 },
 "nbformat": 4,
 "nbformat_minor": 4
}
