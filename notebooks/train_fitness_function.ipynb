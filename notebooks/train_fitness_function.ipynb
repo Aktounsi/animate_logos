{
 "cells": [
  {
   "cell_type": "markdown",
   "metadata": {
    "pycharm": {
     "name": "#%% md\n"
    }
   },
   "source": [
    "## Training: Fitness Function"
   ]
  },
  {
   "cell_type": "code",
   "execution_count": 1,
   "metadata": {
    "collapsed": false,
    "jupyter": {
     "outputs_hidden": false
    },
    "pycharm": {
     "name": "#%%\n"
    }
   },
   "outputs": [],
   "source": [
    "import torch\n",
    "import torch.nn as nn\n",
    "import numpy as np\n",
    "import random\n",
    "import matplotlib.pyplot as plt\n",
    "import os\n",
    "os.chdir(\"..\")\n",
    "from sklearn.preprocessing import StandardScaler\n",
    "from src.models.surrogate_model import *\n",
    "from src.data.ff_dataloader import *\n",
    "from src.preprocessing.transform_into_model_data_ff import *"
   ]
  },
  {
   "cell_type": "markdown",
   "metadata": {},
   "source": [
    "#### Set seeds"
   ]
  },
  {
   "cell_type": "code",
   "execution_count": 5,
   "metadata": {
    "collapsed": false,
    "jupyter": {
     "outputs_hidden": false
    },
    "pycharm": {
     "name": "#%%\n"
    }
   },
   "outputs": [],
   "source": [
    "# Set seeds in order to reproduce results\n",
    "torch.manual_seed(73)\n",
    "random.seed(73)\n",
    "np.random.seed(73)"
   ]
  },
  {
   "cell_type": "markdown",
   "metadata": {
    "pycharm": {
     "name": "#%% md\n"
    }
   },
   "source": [
    "#### Load dataset"
   ]
  },
  {
   "cell_type": "code",
   "execution_count": 6,
   "metadata": {
    "collapsed": false,
    "jupyter": {
     "outputs_hidden": false
    },
    "pycharm": {
     "name": "#%%\n"
    }
   },
   "outputs": [],
   "source": [
    "# Replace by true labeled dataset if available\n",
    "train_dataset = DatasetFF(train=True, path=\"data/fitness_function\")\n",
    "test_dataset = DatasetFF(train=False, path=\"data/fitness_function\")"
   ]
  },
  {
   "cell_type": "code",
   "execution_count": 7,
   "metadata": {
    "collapsed": false,
    "jupyter": {
     "outputs_hidden": false
    },
    "pycharm": {
     "name": "#%%\n"
    }
   },
   "outputs": [
    {
     "data": {
      "text/plain": "tensor([[ 0.7136, -0.2095,  1.6897,  ..., -0.6123,  0.1137,  0.4600],\n        [-0.7682, -0.8701,  1.0598,  ..., -1.7936,  2.8253,  0.7330],\n        [ 0.1352, -0.1229,  0.5693,  ..., -0.7866,  2.4842,  1.3139],\n        ...,\n        [-1.6477,  0.2251, -1.4394,  ..., -0.0105, -1.1899, -0.0193],\n        [ 0.7345, -1.0400,  0.2120,  ...,  0.8149, -0.7182,  1.0322],\n        [-1.1228, -2.5455,  1.1063,  ...,  0.7117, -0.2163,  0.4367]])"
     },
     "execution_count": 7,
     "metadata": {},
     "output_type": "execute_result"
    }
   ],
   "source": [
    "train_dataset.X"
   ]
  },
  {
   "cell_type": "code",
   "execution_count": 8,
   "metadata": {
    "collapsed": false,
    "jupyter": {
     "outputs_hidden": false
    },
    "pycharm": {
     "name": "#%%\n"
    }
   },
   "outputs": [
    {
     "data": {
      "text/plain": "tensor([[1., 1., 0., 0.],\n        [1., 0., 0., 0.],\n        [0., 0., 0., 0.],\n        ...,\n        [1., 1., 0., 0.],\n        [1., 1., 0., 0.],\n        [1., 1., 0., 0.]])"
     },
     "execution_count": 8,
     "metadata": {},
     "output_type": "execute_result"
    }
   ],
   "source": [
    "train_dataset.y"
   ]
  },
  {
   "cell_type": "markdown",
   "metadata": {
    "pycharm": {
     "name": "#%% md\n"
    }
   },
   "source": [
    "#### Scale training and test data"
   ]
  },
  {
   "cell_type": "code",
   "execution_count": 9,
   "metadata": {
    "collapsed": false,
    "jupyter": {
     "outputs_hidden": false
    },
    "pycharm": {
     "name": "#%%\n"
    }
   },
   "outputs": [],
   "source": [
    "scaler = StandardScaler()\n",
    "\n",
    "# only scale numeric variables that are not one-hot encoded\n",
    "scaler.fit(train_dataset.X[:, 6:])\n",
    "train_dataset.scale(scaler)\n",
    "test_dataset.scale(scaler)"
   ]
  },
  {
   "cell_type": "code",
   "execution_count": 10,
   "metadata": {},
   "outputs": [
    {
     "data": {
      "text/plain": "tensor([[ 0.7136, -0.2095,  1.6897,  ..., -0.6082,  0.1170,  0.4695],\n        [-0.7682, -0.8701,  1.0598,  ..., -1.7828,  2.8180,  0.7479],\n        [ 0.1352, -0.1229,  0.5693,  ..., -0.7815,  2.4782,  1.3405],\n        ...,\n        [-1.6477,  0.2251, -1.4394,  ..., -0.0098, -1.1815, -0.0196],\n        [ 0.7345, -1.0400,  0.2120,  ...,  0.8109, -0.7117,  1.0531],\n        [-1.1228, -2.5455,  1.1063,  ...,  0.7083, -0.2117,  0.4456]])"
     },
     "execution_count": 10,
     "metadata": {},
     "output_type": "execute_result"
    }
   ],
   "source": [
    "train_dataset.X"
   ]
  },
  {
   "cell_type": "markdown",
   "metadata": {
    "pycharm": {
     "name": "#%% md\n"
    }
   },
   "source": [
    "#### Build model and switch to GPU if available"
   ]
  },
  {
   "cell_type": "code",
   "execution_count": 11,
   "metadata": {
    "collapsed": false,
    "jupyter": {
     "outputs_hidden": false
    },
    "pycharm": {
     "name": "#%%\n"
    }
   },
   "outputs": [
    {
     "name": "stdout",
     "output_type": "stream",
     "text": [
      "cpu\n"
     ]
    },
    {
     "data": {
      "text/plain": "FitnessFunction(\n  (hidden): ModuleList(\n    (0): Linear(in_features=36, out_features=28, bias=True)\n  )\n  (out): Linear(in_features=28, out_features=4, bias=True)\n)"
     },
     "execution_count": 11,
     "metadata": {},
     "output_type": "execute_result"
    }
   ],
   "source": [
    "fitness_function = FitnessFunction()\n",
    "\n",
    "device = torch.device(\"cuda:0\" if torch.cuda.is_available() else \"cpu\")\n",
    "print(device)\n",
    "fitness_function.to(device)"
   ]
  },
  {
   "cell_type": "code",
   "execution_count": 12,
   "metadata": {},
   "outputs": [
    {
     "data": {
      "text/plain": "tensor([0.4357, 0.5010, 0.5098, 0.6045], grad_fn=<SigmoidBackward>)"
     },
     "execution_count": 12,
     "metadata": {},
     "output_type": "execute_result"
    }
   ],
   "source": [
    "fitness_function(test_dataset.X[0])"
   ]
  },
  {
   "cell_type": "markdown",
   "metadata": {
    "pycharm": {
     "name": "#%% md\n"
    }
   },
   "source": [
    "#### Define loss function and optimizer"
   ]
  },
  {
   "cell_type": "code",
   "execution_count": 13,
   "metadata": {
    "collapsed": false,
    "jupyter": {
     "outputs_hidden": false
    },
    "pycharm": {
     "name": "#%%\n"
    }
   },
   "outputs": [],
   "source": [
    "criterion = nn.MSELoss()\n",
    "optimizer = torch.optim.Adam(fitness_function.parameters())"
   ]
  },
  {
   "cell_type": "markdown",
   "metadata": {
    "pycharm": {
     "name": "#%% md\n"
    }
   },
   "source": [
    "#### Define Data loaders"
   ]
  },
  {
   "cell_type": "code",
   "execution_count": 14,
   "metadata": {
    "collapsed": false,
    "jupyter": {
     "outputs_hidden": false
    },
    "pycharm": {
     "name": "#%%\n"
    }
   },
   "outputs": [],
   "source": [
    "# Useful because it automatically generates batches in the training loop and takes care of shuffling\n",
    "\n",
    "batch_size = 128\n",
    "train_loader = torch.utils.data.DataLoader(dataset=train_dataset,\n",
    "                                           batch_size=batch_size,\n",
    "                                           shuffle=True)\n",
    "\n",
    "test_loader = torch.utils.data.DataLoader(dataset=test_dataset,\n",
    "                                          batch_size=batch_size,\n",
    "                                          shuffle=False)"
   ]
  },
  {
   "cell_type": "markdown",
   "metadata": {
    "pycharm": {
     "name": "#%% md\n"
    }
   },
   "source": [
    "#### Model training"
   ]
  },
  {
   "cell_type": "code",
   "execution_count": 15,
   "metadata": {
    "collapsed": false,
    "jupyter": {
     "outputs_hidden": false
    },
    "pycharm": {
     "name": "#%%\n"
    }
   },
   "outputs": [
    {
     "name": "stdout",
     "output_type": "stream",
     "text": [
      "Epoch 1/100, Train Loss: 0.2426, Test Loss: 0.2291\n",
      "Epoch 2/100, Train Loss: 0.2192, Test Loss: 0.2132\n",
      "Epoch 3/100, Train Loss: 0.2075, Test Loss: 0.2055\n",
      "Epoch 4/100, Train Loss: 0.2026, Test Loss: 0.2023\n",
      "Epoch 5/100, Train Loss: 0.2003, Test Loss: 0.2011\n",
      "Epoch 6/100, Train Loss: 0.1995, Test Loss: 0.2008\n",
      "Epoch 7/100, Train Loss: 0.1974, Test Loss: 0.2006\n",
      "Epoch 8/100, Train Loss: 0.1979, Test Loss: 0.2005\n",
      "Epoch 9/100, Train Loss: 0.1960, Test Loss: 0.2005\n",
      "Epoch 10/100, Train Loss: 0.1967, Test Loss: 0.2007\n",
      "Epoch 11/100, Train Loss: 0.1949, Test Loss: 0.2006\n",
      "Epoch 12/100, Train Loss: 0.1965, Test Loss: 0.2008\n",
      "Epoch 13/100, Train Loss: 0.1957, Test Loss: 0.2009\n",
      "Epoch 14/100, Train Loss: 0.1955, Test Loss: 0.2008\n",
      "Epoch 15/100, Train Loss: 0.1952, Test Loss: 0.2010\n",
      "Epoch 16/100, Train Loss: 0.1942, Test Loss: 0.2011\n",
      "Epoch 17/100, Train Loss: 0.1954, Test Loss: 0.2012\n",
      "Epoch 18/100, Train Loss: 0.1942, Test Loss: 0.2011\n",
      "Epoch 19/100, Train Loss: 0.1957, Test Loss: 0.2013\n",
      "Epoch 20/100, Train Loss: 0.1942, Test Loss: 0.2014\n",
      "Epoch 21/100, Train Loss: 0.1936, Test Loss: 0.2014\n",
      "Epoch 22/100, Train Loss: 0.1946, Test Loss: 0.2015\n",
      "Epoch 23/100, Train Loss: 0.1937, Test Loss: 0.2017\n",
      "Epoch 24/100, Train Loss: 0.1925, Test Loss: 0.2019\n",
      "Epoch 25/100, Train Loss: 0.1921, Test Loss: 0.2019\n",
      "Epoch 26/100, Train Loss: 0.1920, Test Loss: 0.2020\n",
      "Epoch 27/100, Train Loss: 0.1916, Test Loss: 0.2020\n",
      "Epoch 28/100, Train Loss: 0.1917, Test Loss: 0.2025\n",
      "Epoch 29/100, Train Loss: 0.1912, Test Loss: 0.2022\n",
      "Epoch 30/100, Train Loss: 0.1905, Test Loss: 0.2026\n",
      "Epoch 31/100, Train Loss: 0.1905, Test Loss: 0.2031\n",
      "Epoch 32/100, Train Loss: 0.1892, Test Loss: 0.2033\n",
      "Epoch 33/100, Train Loss: 0.1893, Test Loss: 0.2037\n",
      "Epoch 34/100, Train Loss: 0.1888, Test Loss: 0.2036\n",
      "Epoch 35/100, Train Loss: 0.1889, Test Loss: 0.2038\n",
      "Epoch 36/100, Train Loss: 0.1879, Test Loss: 0.2041\n",
      "Epoch 37/100, Train Loss: 0.1885, Test Loss: 0.2043\n",
      "Epoch 38/100, Train Loss: 0.1887, Test Loss: 0.2044\n",
      "Epoch 39/100, Train Loss: 0.1872, Test Loss: 0.2049\n",
      "Epoch 40/100, Train Loss: 0.1874, Test Loss: 0.2049\n",
      "Epoch 41/100, Train Loss: 0.1863, Test Loss: 0.2052\n",
      "Epoch 42/100, Train Loss: 0.1850, Test Loss: 0.2055\n",
      "Epoch 43/100, Train Loss: 0.1856, Test Loss: 0.2054\n",
      "Epoch 44/100, Train Loss: 0.1858, Test Loss: 0.2060\n",
      "Epoch 45/100, Train Loss: 0.1856, Test Loss: 0.2063\n",
      "Epoch 46/100, Train Loss: 0.1858, Test Loss: 0.2067\n",
      "Epoch 47/100, Train Loss: 0.1855, Test Loss: 0.2068\n",
      "Epoch 48/100, Train Loss: 0.1849, Test Loss: 0.2071\n",
      "Epoch 49/100, Train Loss: 0.1857, Test Loss: 0.2074\n",
      "Epoch 50/100, Train Loss: 0.1841, Test Loss: 0.2071\n",
      "Epoch 51/100, Train Loss: 0.1840, Test Loss: 0.2075\n",
      "Epoch 52/100, Train Loss: 0.1840, Test Loss: 0.2080\n",
      "Epoch 53/100, Train Loss: 0.1831, Test Loss: 0.2081\n",
      "Epoch 54/100, Train Loss: 0.1837, Test Loss: 0.2084\n",
      "Epoch 55/100, Train Loss: 0.1844, Test Loss: 0.2085\n",
      "Epoch 56/100, Train Loss: 0.1820, Test Loss: 0.2091\n",
      "Epoch 57/100, Train Loss: 0.1818, Test Loss: 0.2093\n",
      "Epoch 58/100, Train Loss: 0.1820, Test Loss: 0.2094\n",
      "Epoch 59/100, Train Loss: 0.1820, Test Loss: 0.2097\n",
      "Epoch 60/100, Train Loss: 0.1820, Test Loss: 0.2103\n",
      "Epoch 61/100, Train Loss: 0.1813, Test Loss: 0.2108\n",
      "Epoch 62/100, Train Loss: 0.1811, Test Loss: 0.2113\n",
      "Epoch 63/100, Train Loss: 0.1812, Test Loss: 0.2109\n",
      "Epoch 64/100, Train Loss: 0.1808, Test Loss: 0.2118\n",
      "Epoch 65/100, Train Loss: 0.1801, Test Loss: 0.2116\n",
      "Epoch 66/100, Train Loss: 0.1807, Test Loss: 0.2118\n",
      "Epoch 67/100, Train Loss: 0.1805, Test Loss: 0.2124\n",
      "Epoch 68/100, Train Loss: 0.1792, Test Loss: 0.2127\n",
      "Epoch 69/100, Train Loss: 0.1805, Test Loss: 0.2131\n",
      "Epoch 70/100, Train Loss: 0.1793, Test Loss: 0.2131\n",
      "Epoch 71/100, Train Loss: 0.1795, Test Loss: 0.2131\n",
      "Epoch 72/100, Train Loss: 0.1787, Test Loss: 0.2133\n",
      "Epoch 73/100, Train Loss: 0.1773, Test Loss: 0.2133\n",
      "Epoch 74/100, Train Loss: 0.1789, Test Loss: 0.2139\n",
      "Epoch 75/100, Train Loss: 0.1802, Test Loss: 0.2142\n",
      "Epoch 76/100, Train Loss: 0.1786, Test Loss: 0.2144\n",
      "Epoch 77/100, Train Loss: 0.1782, Test Loss: 0.2144\n",
      "Epoch 78/100, Train Loss: 0.1784, Test Loss: 0.2147\n",
      "Epoch 79/100, Train Loss: 0.1766, Test Loss: 0.2147\n",
      "Epoch 80/100, Train Loss: 0.1766, Test Loss: 0.2152\n",
      "Epoch 81/100, Train Loss: 0.1780, Test Loss: 0.2155\n",
      "Epoch 82/100, Train Loss: 0.1768, Test Loss: 0.2160\n",
      "Epoch 83/100, Train Loss: 0.1770, Test Loss: 0.2157\n",
      "Epoch 84/100, Train Loss: 0.1772, Test Loss: 0.2158\n",
      "Epoch 85/100, Train Loss: 0.1766, Test Loss: 0.2160\n",
      "Epoch 86/100, Train Loss: 0.1766, Test Loss: 0.2162\n",
      "Epoch 87/100, Train Loss: 0.1768, Test Loss: 0.2162\n",
      "Epoch 88/100, Train Loss: 0.1776, Test Loss: 0.2168\n",
      "Epoch 89/100, Train Loss: 0.1760, Test Loss: 0.2164\n",
      "Epoch 90/100, Train Loss: 0.1767, Test Loss: 0.2177\n",
      "Epoch 91/100, Train Loss: 0.1772, Test Loss: 0.2179\n",
      "Epoch 92/100, Train Loss: 0.1753, Test Loss: 0.2173\n",
      "Epoch 93/100, Train Loss: 0.1765, Test Loss: 0.2171\n",
      "Epoch 94/100, Train Loss: 0.1762, Test Loss: 0.2178\n",
      "Epoch 95/100, Train Loss: 0.1754, Test Loss: 0.2173\n",
      "Epoch 96/100, Train Loss: 0.1758, Test Loss: 0.2179\n",
      "Epoch 97/100, Train Loss: 0.1785, Test Loss: 0.2186\n",
      "Epoch 98/100, Train Loss: 0.1754, Test Loss: 0.2180\n",
      "Epoch 99/100, Train Loss: 0.1749, Test Loss: 0.2185\n",
      "Epoch 100/100, Train Loss: 0.1753, Test Loss: 0.2185\n"
     ]
    }
   ],
   "source": [
    "n_epochs = 100\n",
    "\n",
    "# Stuff to store\n",
    "train_losses = np.zeros(n_epochs)\n",
    "test_losses = np.zeros(n_epochs)\n",
    "\n",
    "for it in range(n_epochs):\n",
    "    train_loss = []\n",
    "    for inputs, targets in train_loader:\n",
    "        # move data to GPU\n",
    "        inputs, targets = inputs.to(device), targets.to(device)\n",
    "\n",
    "        # zero the parameter gradients\n",
    "        optimizer.zero_grad()\n",
    "        \n",
    "        # Forward pass\n",
    "        outputs = fitness_function(inputs)\n",
    "        loss = criterion(outputs, targets)\n",
    "\n",
    "        # Backward and optimize\n",
    "        loss.backward()\n",
    "        optimizer.step()\n",
    "\n",
    "        train_loss.append(loss.item())\n",
    "\n",
    "    # Get train loss and test loss\n",
    "    train_loss = np.mean(train_loss)\n",
    "\n",
    "    test_loss = []\n",
    "    for inputs, targets in test_loader:\n",
    "        inputs, targets = inputs.to(device), targets.to(device)\n",
    "        outputs = fitness_function(inputs)\n",
    "        loss = criterion(outputs, targets)\n",
    "        test_loss.append(loss.item())\n",
    "    test_loss = np.mean(test_loss)\n",
    "\n",
    "    # Save losses\n",
    "    train_losses[it] = train_loss\n",
    "    test_losses[it] = test_loss\n",
    "\n",
    "    if (it + 1) % 1 == 0:\n",
    "        print(f'Epoch {it + 1}/{n_epochs}, Train Loss: {train_loss:.4f}, Test Loss: {test_loss:.4f}')"
   ]
  },
  {
   "cell_type": "markdown",
   "metadata": {
    "pycharm": {
     "name": "#%% md\n"
    }
   },
   "source": [
    "#### Plot the train loss and test loss per iteration"
   ]
  },
  {
   "cell_type": "code",
   "execution_count": 16,
   "metadata": {
    "collapsed": false,
    "jupyter": {
     "outputs_hidden": false
    },
    "pycharm": {
     "name": "#%%\n"
    }
   },
   "outputs": [
    {
     "data": {
      "text/plain": "<Figure size 432x288 with 1 Axes>",
      "image/png": "[encoded data removed]"
     },
     "metadata": {
      "needs_background": "light"
     },
     "output_type": "display_data"
    }
   ],
   "source": [
    "plt.plot(train_losses, label='train loss')\n",
    "plt.plot(test_losses, label='test loss')\n",
    "plt.legend()\n",
    "plt.show()"
   ]
  },
  {
   "cell_type": "markdown",
   "metadata": {},
   "source": [
    "#### Save trained model"
   ]
  },
  {
   "cell_type": "code",
   "execution_count": 18,
   "metadata": {
    "collapsed": false,
    "jupyter": {
     "outputs_hidden": false
    },
    "pycharm": {
     "name": "#%%\n"
    }
   },
   "outputs": [],
   "source": [
    "torch.save(fitness_function.state_dict(), \"models/best_fitness_function_path.pth\")"
   ]
  },
  {
   "cell_type": "markdown",
   "metadata": {
    "pycharm": {
     "name": "#%% md\n"
    }
   },
   "source": [
    "#### Load model and make predictions"
   ]
  },
  {
   "cell_type": "code",
   "execution_count": 20,
   "metadata": {
    "collapsed": false,
    "jupyter": {
     "outputs_hidden": false
    },
    "pycharm": {
     "name": "#%%\n"
    }
   },
   "outputs": [
    {
     "data": {
      "text/plain": "FitnessFunction(\n  (hidden): ModuleList(\n    (0): Linear(in_features=36, out_features=28, bias=True)\n  )\n  (out): Linear(in_features=28, out_features=4, bias=True)\n)"
     },
     "execution_count": 20,
     "metadata": {},
     "output_type": "execute_result"
    }
   ],
   "source": [
    "model = FitnessFunction()\n",
    "model.load_state_dict(torch.load(\"models/best_fitness_function_path.pth\"))\n",
    "model.eval()"
   ]
  },
  {
   "cell_type": "code",
   "execution_count": 21,
   "metadata": {
    "collapsed": false,
    "jupyter": {
     "outputs_hidden": false
    },
    "pycharm": {
     "name": "#%%\n"
    }
   },
   "outputs": [],
   "source": [
    "random_input = torch.from_numpy(np.random.normal(size=[1, 36]).astype(np.float32))\n",
    "\n",
    "output = model(random_input)"
   ]
  },
  {
   "cell_type": "code",
   "execution_count": 22,
   "metadata": {
    "collapsed": false,
    "jupyter": {
     "outputs_hidden": false
    },
    "pycharm": {
     "name": "#%%\n"
    }
   },
   "outputs": [
    {
     "data": {
      "text/plain": "tensor([[0.6638, 0.5108, 0.2818, 0.0953]], grad_fn=<SigmoidBackward>)"
     },
     "execution_count": 22,
     "metadata": {},
     "output_type": "execute_result"
    }
   ],
   "source": [
    "output"
   ]
  },
  {
   "cell_type": "code",
   "execution_count": 23,
   "metadata": {
    "collapsed": false,
    "jupyter": {
     "outputs_hidden": false
    },
    "pycharm": {
     "name": "#%%\n"
    }
   },
   "outputs": [
    {
     "data": {
      "text/plain": "array([[2]])"
     },
     "execution_count": 23,
     "metadata": {},
     "output_type": "execute_result"
    }
   ],
   "source": [
    "decode_classes(output)"
   ]
  },
  {
   "cell_type": "code",
   "execution_count": null,
   "outputs": [],
   "source": [],
   "metadata": {
    "collapsed": false,
    "pycharm": {
     "name": "#%%\n"
    }
   }
  }
 ],
 "metadata": {
  "kernelspec": {
   "display_name": "animate_logos",
   "language": "python",
   "name": "animate_logos"
  },
  "language_info": {
   "codemirror_mode": {
    "name": "ipython",
    "version": 3
   },
   "file_extension": ".py",
   "mimetype": "text/x-python",
   "name": "python",
   "nbconvert_exporter": "python",
   "pygments_lexer": "ipython3",
   "version": "3.8.8"
  }
 },
 "nbformat": 4,
 "nbformat_minor": 4
}