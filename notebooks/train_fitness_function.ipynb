{
 "cells": [
  {
   "cell_type": "markdown",
   "metadata": {
    "pycharm": {
     "name": "#%% md\n"
    }
   },
   "source": [
    "## Training: Fitness Function"
   ]
  },
  {
   "cell_type": "code",
   "execution_count": 1,
   "metadata": {
    "collapsed": false,
    "jupyter": {
     "outputs_hidden": false
    },
    "pycharm": {
     "name": "#%%\n"
    }
   },
   "outputs": [],
   "source": [
    "import torch\n",
    "import torch.nn as nn\n",
    "import numpy as np\n",
    "import random\n",
    "import matplotlib.pyplot as plt\n",
    "import os\n",
    "os.chdir(\"..\")\n",
    "from sklearn.preprocessing import StandardScaler\n",
    "from src.models.surrogate_model import *\n",
    "from src.models.coral_loss import *\n",
    "from src.data.ff_dataloader import *\n",
    "from src.preprocessing.transform_into_model_data_ff import *\n",
    "import torch.nn.functional as F"
   ]
  },
  {
   "cell_type": "markdown",
   "metadata": {},
   "source": [
    "#### Set seeds"
   ]
  },
  {
   "cell_type": "code",
   "execution_count": 2,
   "metadata": {
    "collapsed": false,
    "jupyter": {
     "outputs_hidden": false
    },
    "pycharm": {
     "name": "#%%\n"
    }
   },
   "outputs": [],
   "source": [
    "# Set seeds in order to reproduce results\n",
    "torch.manual_seed(73)\n",
    "random.seed(73)\n",
    "np.random.seed(73)"
   ]
  },
  {
   "cell_type": "markdown",
   "metadata": {
    "pycharm": {
     "name": "#%% md\n"
    }
   },
   "source": [
    "#### Load dataset"
   ]
  },
  {
   "cell_type": "code",
   "execution_count": 3,
   "metadata": {
    "collapsed": false,
    "jupyter": {
     "outputs_hidden": false
    },
    "pycharm": {
     "name": "#%%\n"
    }
   },
   "outputs": [],
   "source": [
    "# Replace by true labeled dataset if available\n",
    "train_dataset = DatasetFF(train=True, path=\"data/fitness_function\")\n",
    "test_dataset = DatasetFF(train=False, path=\"data/fitness_function\")"
   ]
  },
  {
   "cell_type": "code",
   "execution_count": 4,
   "metadata": {
    "collapsed": false,
    "jupyter": {
     "outputs_hidden": false
    },
    "pycharm": {
     "name": "#%%\n"
    }
   },
   "outputs": [
    {
     "data": {
      "text/plain": "tensor([[ 0.7136, -0.2095,  1.6897,  ..., -0.6123,  0.1137,  0.4600],\n        [-0.7682, -0.8701,  1.0598,  ..., -1.7936,  2.8253,  0.7330],\n        [ 0.1352, -0.1229,  0.5693,  ..., -0.7866,  2.4842,  1.3139],\n        ...,\n        [-1.6477,  0.2251, -1.4394,  ..., -0.0105, -1.1899, -0.0193],\n        [ 0.7345, -1.0400,  0.2120,  ...,  0.8149, -0.7182,  1.0322],\n        [-1.1228, -2.5455,  1.1063,  ...,  0.7117, -0.2163,  0.4367]])"
     },
     "execution_count": 4,
     "metadata": {},
     "output_type": "execute_result"
    }
   ],
   "source": [
    "train_dataset.X"
   ]
  },
  {
   "cell_type": "code",
   "execution_count": 5,
   "metadata": {
    "collapsed": false,
    "jupyter": {
     "outputs_hidden": false
    },
    "pycharm": {
     "name": "#%%\n"
    }
   },
   "outputs": [
    {
     "data": {
      "text/plain": "tensor([[1., 1., 0., 0.],\n        [1., 0., 0., 0.],\n        [0., 0., 0., 0.],\n        ...,\n        [1., 1., 0., 0.],\n        [1., 1., 0., 0.],\n        [1., 1., 0., 0.]])"
     },
     "execution_count": 5,
     "metadata": {},
     "output_type": "execute_result"
    }
   ],
   "source": [
    "train_dataset.y"
   ]
  },
  {
   "cell_type": "markdown",
   "metadata": {
    "pycharm": {
     "name": "#%% md\n"
    }
   },
   "source": [
    "#### Scale training and test data"
   ]
  },
  {
   "cell_type": "code",
   "execution_count": 6,
   "metadata": {
    "collapsed": false,
    "jupyter": {
     "outputs_hidden": false
    },
    "pycharm": {
     "name": "#%%\n"
    }
   },
   "outputs": [],
   "source": [
    "scaler = StandardScaler()\n",
    "\n",
    "# only scale numeric variables that are not one-hot encoded\n",
    "scaler.fit(train_dataset.X[:, 6:])\n",
    "train_dataset.scale(scaler)\n",
    "test_dataset.scale(scaler)"
   ]
  },
  {
   "cell_type": "code",
   "execution_count": 7,
   "metadata": {},
   "outputs": [
    {
     "data": {
      "text/plain": "tensor([[ 0.7136, -0.2095,  1.6897,  ..., -0.6082,  0.1170,  0.4695],\n        [-0.7682, -0.8701,  1.0598,  ..., -1.7828,  2.8180,  0.7479],\n        [ 0.1352, -0.1229,  0.5693,  ..., -0.7815,  2.4782,  1.3405],\n        ...,\n        [-1.6477,  0.2251, -1.4394,  ..., -0.0098, -1.1815, -0.0196],\n        [ 0.7345, -1.0400,  0.2120,  ...,  0.8109, -0.7117,  1.0531],\n        [-1.1228, -2.5455,  1.1063,  ...,  0.7083, -0.2117,  0.4456]])"
     },
     "execution_count": 7,
     "metadata": {},
     "output_type": "execute_result"
    }
   ],
   "source": [
    "train_dataset.X"
   ]
  },
  {
   "cell_type": "markdown",
   "metadata": {
    "pycharm": {
     "name": "#%% md\n"
    }
   },
   "source": [
    "#### Build model and switch to GPU if available"
   ]
  },
  {
   "cell_type": "code",
   "execution_count": 8,
   "metadata": {
    "collapsed": false,
    "jupyter": {
     "outputs_hidden": false
    },
    "pycharm": {
     "name": "#%%\n"
    }
   },
   "outputs": [
    {
     "name": "stdout",
     "output_type": "stream",
     "text": [
      "cpu\n"
     ]
    },
    {
     "data": {
      "text/plain": "FitnessFunction(\n  (hidden): ModuleList(\n    (0): Linear(in_features=36, out_features=28, bias=True)\n    (1): Linear(in_features=28, out_features=28, bias=True)\n  )\n  (coral_weights): Linear(in_features=28, out_features=1, bias=False)\n)"
     },
     "execution_count": 8,
     "metadata": {},
     "output_type": "execute_result"
    }
   ],
   "source": [
    "fitness_function = OrdinalClassifierFNN(num_classes=5)\n",
    "\n",
    "device = torch.device(\"cuda:0\" if torch.cuda.is_available() else \"cpu\")\n",
    "print(device)\n",
    "fitness_function.to(device)"
   ]
  },
  {
   "cell_type": "code",
   "execution_count": 9,
   "metadata": {},
   "outputs": [
    {
     "data": {
      "text/plain": "tensor([0.9873, 0.7373, 0.4873, 0.2373], grad_fn=<AddBackward0>)"
     },
     "execution_count": 9,
     "metadata": {},
     "output_type": "execute_result"
    }
   ],
   "source": [
    "fitness_function(test_dataset.X[0])"
   ]
  },
  {
   "cell_type": "markdown",
   "metadata": {
    "pycharm": {
     "name": "#%% md\n"
    }
   },
   "source": [
    "#### Define loss function and optimizer"
   ]
  },
  {
   "cell_type": "code",
   "execution_count": 10,
   "metadata": {
    "collapsed": false,
    "jupyter": {
     "outputs_hidden": false
    },
    "pycharm": {
     "name": "#%%\n"
    }
   },
   "outputs": [],
   "source": [
    "#criterion = nn.MSELoss()\n",
    "report_measure = nn.L1Loss()\n",
    "optimizer = torch.optim.Adam(fitness_function.parameters())"
   ]
  },
  {
   "cell_type": "markdown",
   "metadata": {
    "pycharm": {
     "name": "#%% md\n"
    }
   },
   "source": [
    "#### Define Data loaders"
   ]
  },
  {
   "cell_type": "code",
   "execution_count": 11,
   "metadata": {
    "collapsed": false,
    "jupyter": {
     "outputs_hidden": false
    },
    "pycharm": {
     "name": "#%%\n"
    }
   },
   "outputs": [],
   "source": [
    "# Useful because it automatically generates batches in the training loop and takes care of shuffling\n",
    "\n",
    "batch_size = 128\n",
    "train_loader = torch.utils.data.DataLoader(dataset=train_dataset,\n",
    "                                           batch_size=batch_size,\n",
    "                                           shuffle=True)\n",
    "\n",
    "test_loader = torch.utils.data.DataLoader(dataset=test_dataset,\n",
    "                                          batch_size=batch_size,\n",
    "                                          shuffle=False)"
   ]
  },
  {
   "cell_type": "markdown",
   "metadata": {
    "pycharm": {
     "name": "#%% md\n"
    }
   },
   "source": [
    "#### Model training"
   ]
  },
  {
   "cell_type": "code",
   "execution_count": 12,
   "metadata": {
    "collapsed": false,
    "jupyter": {
     "outputs_hidden": false
    },
    "pycharm": {
     "name": "#%%\n"
    }
   },
   "outputs": [
    {
     "name": "stderr",
     "output_type": "stream",
     "text": [
      "/Users/jani/.conda/envs/animate_logos/lib/python3.8/site-packages/torch/nn/functional.py:1709: UserWarning: nn.functional.sigmoid is deprecated. Use torch.sigmoid instead.\n",
      "  warnings.warn(\"nn.functional.sigmoid is deprecated. Use torch.sigmoid instead.\")\n"
     ]
    },
    {
     "name": "stdout",
     "output_type": "stream",
     "text": [
      "Epoch 1/100, Train Loss: 2.6416, Test Loss: 2.5707, Train MAE: 0.4689, Test MAE: 0.4669\n",
      "Epoch 2/100, Train Loss: 2.5557, Test Loss: 2.5446, Train MAE: 0.4652, Test MAE: 0.4635\n",
      "Epoch 3/100, Train Loss: 2.5218, Test Loss: 2.5225, Train MAE: 0.4603, Test MAE: 0.4598\n",
      "Epoch 4/100, Train Loss: 2.4918, Test Loss: 2.5081, Train MAE: 0.4555, Test MAE: 0.4568\n",
      "Epoch 5/100, Train Loss: 2.4726, Test Loss: 2.4930, Train MAE: 0.4519, Test MAE: 0.4535\n",
      "Epoch 6/100, Train Loss: 2.4572, Test Loss: 2.4802, Train MAE: 0.4486, Test MAE: 0.4505\n",
      "Epoch 7/100, Train Loss: 2.4383, Test Loss: 2.4670, Train MAE: 0.4448, Test MAE: 0.4475\n",
      "Epoch 8/100, Train Loss: 2.4210, Test Loss: 2.4586, Train MAE: 0.4413, Test MAE: 0.4450\n",
      "Epoch 9/100, Train Loss: 2.4003, Test Loss: 2.4563, Train MAE: 0.4375, Test MAE: 0.4431\n",
      "Epoch 10/100, Train Loss: 2.3934, Test Loss: 2.4478, Train MAE: 0.4351, Test MAE: 0.4406\n",
      "Epoch 11/100, Train Loss: 2.3715, Test Loss: 2.4402, Train MAE: 0.4309, Test MAE: 0.4382\n",
      "Epoch 12/100, Train Loss: 2.3659, Test Loss: 2.4432, Train MAE: 0.4289, Test MAE: 0.4369\n",
      "Epoch 13/100, Train Loss: 2.3613, Test Loss: 2.4395, Train MAE: 0.4268, Test MAE: 0.4349\n",
      "Epoch 14/100, Train Loss: 2.3441, Test Loss: 2.4414, Train MAE: 0.4235, Test MAE: 0.4337\n",
      "Epoch 15/100, Train Loss: 2.3257, Test Loss: 2.4487, Train MAE: 0.4200, Test MAE: 0.4328\n",
      "Epoch 16/100, Train Loss: 2.3098, Test Loss: 2.4409, Train MAE: 0.4165, Test MAE: 0.4304\n",
      "Epoch 17/100, Train Loss: 2.2888, Test Loss: 2.4546, Train MAE: 0.4127, Test MAE: 0.4302\n",
      "Epoch 18/100, Train Loss: 2.2740, Test Loss: 2.4674, Train MAE: 0.4094, Test MAE: 0.4297\n",
      "Epoch 19/100, Train Loss: 2.2608, Test Loss: 2.4639, Train MAE: 0.4060, Test MAE: 0.4277\n",
      "Epoch 20/100, Train Loss: 2.2511, Test Loss: 2.4799, Train MAE: 0.4037, Test MAE: 0.4275\n",
      "Epoch 21/100, Train Loss: 2.2327, Test Loss: 2.4726, Train MAE: 0.4000, Test MAE: 0.4256\n",
      "Epoch 22/100, Train Loss: 2.2230, Test Loss: 2.4927, Train MAE: 0.3976, Test MAE: 0.4257\n",
      "Epoch 23/100, Train Loss: 2.2151, Test Loss: 2.4942, Train MAE: 0.3950, Test MAE: 0.4243\n",
      "Epoch 24/100, Train Loss: 2.2038, Test Loss: 2.5049, Train MAE: 0.3921, Test MAE: 0.4241\n",
      "Epoch 25/100, Train Loss: 2.1934, Test Loss: 2.5109, Train MAE: 0.3895, Test MAE: 0.4229\n",
      "Epoch 26/100, Train Loss: 2.1799, Test Loss: 2.5191, Train MAE: 0.3872, Test MAE: 0.4226\n",
      "Epoch 27/100, Train Loss: 2.1588, Test Loss: 2.5269, Train MAE: 0.3830, Test MAE: 0.4216\n",
      "Epoch 28/100, Train Loss: 2.1627, Test Loss: 2.5590, Train MAE: 0.3827, Test MAE: 0.4228\n",
      "Epoch 29/100, Train Loss: 2.1519, Test Loss: 2.5653, Train MAE: 0.3797, Test MAE: 0.4225\n",
      "Epoch 30/100, Train Loss: 2.1485, Test Loss: 2.5558, Train MAE: 0.3788, Test MAE: 0.4204\n",
      "Epoch 31/100, Train Loss: 2.1247, Test Loss: 2.5640, Train MAE: 0.3751, Test MAE: 0.4199\n",
      "Epoch 32/100, Train Loss: 2.1327, Test Loss: 2.5595, Train MAE: 0.3745, Test MAE: 0.4179\n",
      "Epoch 33/100, Train Loss: 2.1080, Test Loss: 2.5601, Train MAE: 0.3708, Test MAE: 0.4174\n",
      "Epoch 34/100, Train Loss: 2.1019, Test Loss: 2.5870, Train MAE: 0.3692, Test MAE: 0.4181\n",
      "Epoch 35/100, Train Loss: 2.1059, Test Loss: 2.5892, Train MAE: 0.3683, Test MAE: 0.4171\n",
      "Epoch 36/100, Train Loss: 2.0945, Test Loss: 2.5964, Train MAE: 0.3664, Test MAE: 0.4167\n",
      "Epoch 37/100, Train Loss: 2.0691, Test Loss: 2.6015, Train MAE: 0.3626, Test MAE: 0.4161\n",
      "Epoch 38/100, Train Loss: 2.0892, Test Loss: 2.6044, Train MAE: 0.3638, Test MAE: 0.4152\n",
      "Epoch 39/100, Train Loss: 2.0593, Test Loss: 2.6146, Train MAE: 0.3597, Test MAE: 0.4152\n",
      "Epoch 40/100, Train Loss: 2.0661, Test Loss: 2.6341, Train MAE: 0.3593, Test MAE: 0.4157\n",
      "Epoch 41/100, Train Loss: 2.0551, Test Loss: 2.6312, Train MAE: 0.3574, Test MAE: 0.4142\n",
      "Epoch 42/100, Train Loss: 2.0474, Test Loss: 2.6414, Train MAE: 0.3558, Test MAE: 0.4142\n",
      "Epoch 43/100, Train Loss: 2.0427, Test Loss: 2.6552, Train MAE: 0.3542, Test MAE: 0.4144\n",
      "Epoch 44/100, Train Loss: 2.0318, Test Loss: 2.6540, Train MAE: 0.3524, Test MAE: 0.4137\n",
      "Epoch 45/100, Train Loss: 2.0159, Test Loss: 2.6706, Train MAE: 0.3498, Test MAE: 0.4136\n",
      "Epoch 46/100, Train Loss: 2.0230, Test Loss: 2.6729, Train MAE: 0.3498, Test MAE: 0.4128\n",
      "Epoch 47/100, Train Loss: 2.0309, Test Loss: 2.6863, Train MAE: 0.3500, Test MAE: 0.4131\n",
      "Epoch 48/100, Train Loss: 2.0170, Test Loss: 2.6841, Train MAE: 0.3482, Test MAE: 0.4123\n",
      "Epoch 49/100, Train Loss: 2.0225, Test Loss: 2.6902, Train MAE: 0.3478, Test MAE: 0.4121\n",
      "Epoch 50/100, Train Loss: 1.9985, Test Loss: 2.6852, Train MAE: 0.3445, Test MAE: 0.4108\n",
      "Epoch 51/100, Train Loss: 1.9917, Test Loss: 2.7062, Train MAE: 0.3434, Test MAE: 0.4115\n",
      "Epoch 52/100, Train Loss: 1.9938, Test Loss: 2.7126, Train MAE: 0.3427, Test MAE: 0.4113\n",
      "Epoch 53/100, Train Loss: 1.9829, Test Loss: 2.7354, Train MAE: 0.3416, Test MAE: 0.4120\n",
      "Epoch 54/100, Train Loss: 1.9789, Test Loss: 2.7343, Train MAE: 0.3398, Test MAE: 0.4114\n",
      "Epoch 55/100, Train Loss: 1.9727, Test Loss: 2.7405, Train MAE: 0.3390, Test MAE: 0.4111\n",
      "Epoch 56/100, Train Loss: 1.9763, Test Loss: 2.7543, Train MAE: 0.3385, Test MAE: 0.4114\n",
      "Epoch 57/100, Train Loss: 1.9670, Test Loss: 2.7586, Train MAE: 0.3373, Test MAE: 0.4107\n",
      "Epoch 58/100, Train Loss: 1.9794, Test Loss: 2.7692, Train MAE: 0.3375, Test MAE: 0.4110\n",
      "Epoch 59/100, Train Loss: 1.9591, Test Loss: 2.7725, Train MAE: 0.3351, Test MAE: 0.4110\n",
      "Epoch 60/100, Train Loss: 1.9655, Test Loss: 2.7789, Train MAE: 0.3354, Test MAE: 0.4110\n",
      "Epoch 61/100, Train Loss: 1.9526, Test Loss: 2.7852, Train MAE: 0.3336, Test MAE: 0.4110\n",
      "Epoch 62/100, Train Loss: 1.9372, Test Loss: 2.7812, Train MAE: 0.3315, Test MAE: 0.4099\n",
      "Epoch 63/100, Train Loss: 1.9374, Test Loss: 2.8071, Train MAE: 0.3310, Test MAE: 0.4109\n",
      "Epoch 64/100, Train Loss: 1.9624, Test Loss: 2.8114, Train MAE: 0.3328, Test MAE: 0.4109\n",
      "Epoch 65/100, Train Loss: 1.9281, Test Loss: 2.8081, Train MAE: 0.3294, Test MAE: 0.4103\n",
      "Epoch 66/100, Train Loss: 1.9389, Test Loss: 2.8143, Train MAE: 0.3298, Test MAE: 0.4100\n",
      "Epoch 67/100, Train Loss: 1.9246, Test Loss: 2.8114, Train MAE: 0.3279, Test MAE: 0.4097\n",
      "Epoch 68/100, Train Loss: 1.9273, Test Loss: 2.8446, Train MAE: 0.3279, Test MAE: 0.4112\n",
      "Epoch 69/100, Train Loss: 1.9198, Test Loss: 2.8371, Train MAE: 0.3266, Test MAE: 0.4101\n",
      "Epoch 70/100, Train Loss: 1.9284, Test Loss: 2.8335, Train MAE: 0.3271, Test MAE: 0.4093\n",
      "Epoch 71/100, Train Loss: 1.9162, Test Loss: 2.8573, Train MAE: 0.3256, Test MAE: 0.4105\n",
      "Epoch 72/100, Train Loss: 1.9075, Test Loss: 2.8403, Train MAE: 0.3238, Test MAE: 0.4089\n",
      "Epoch 73/100, Train Loss: 1.9075, Test Loss: 2.8489, Train MAE: 0.3231, Test MAE: 0.4089\n",
      "Epoch 74/100, Train Loss: 1.9042, Test Loss: 2.8678, Train MAE: 0.3232, Test MAE: 0.4101\n",
      "Epoch 75/100, Train Loss: 1.8957, Test Loss: 2.8567, Train MAE: 0.3217, Test MAE: 0.4088\n",
      "Epoch 76/100, Train Loss: 1.8928, Test Loss: 2.8671, Train MAE: 0.3214, Test MAE: 0.4088\n",
      "Epoch 77/100, Train Loss: 1.8807, Test Loss: 2.8845, Train MAE: 0.3196, Test MAE: 0.4097\n",
      "Epoch 78/100, Train Loss: 1.8907, Test Loss: 2.9105, Train MAE: 0.3198, Test MAE: 0.4109\n",
      "Epoch 79/100, Train Loss: 1.8854, Test Loss: 2.8970, Train MAE: 0.3191, Test MAE: 0.4094\n",
      "Epoch 80/100, Train Loss: 1.8858, Test Loss: 2.9065, Train MAE: 0.3193, Test MAE: 0.4099\n",
      "Epoch 81/100, Train Loss: 1.8865, Test Loss: 2.9021, Train MAE: 0.3186, Test MAE: 0.4089\n",
      "Epoch 82/100, Train Loss: 1.8835, Test Loss: 2.9227, Train MAE: 0.3181, Test MAE: 0.4101\n",
      "Epoch 83/100, Train Loss: 1.8705, Test Loss: 2.9332, Train MAE: 0.3163, Test MAE: 0.4102\n",
      "Epoch 84/100, Train Loss: 1.8731, Test Loss: 2.9449, Train MAE: 0.3165, Test MAE: 0.4109\n",
      "Epoch 85/100, Train Loss: 1.8760, Test Loss: 2.9404, Train MAE: 0.3161, Test MAE: 0.4100\n",
      "Epoch 86/100, Train Loss: 1.8630, Test Loss: 2.9423, Train MAE: 0.3146, Test MAE: 0.4102\n",
      "Epoch 87/100, Train Loss: 1.8821, Test Loss: 2.9710, Train MAE: 0.3166, Test MAE: 0.4116\n",
      "Epoch 88/100, Train Loss: 1.8556, Test Loss: 2.9509, Train MAE: 0.3137, Test MAE: 0.4101\n",
      "Epoch 89/100, Train Loss: 1.8552, Test Loss: 2.9633, Train MAE: 0.3132, Test MAE: 0.4105\n",
      "Epoch 90/100, Train Loss: 1.8458, Test Loss: 2.9580, Train MAE: 0.3120, Test MAE: 0.4099\n",
      "Epoch 91/100, Train Loss: 1.8463, Test Loss: 2.9839, Train MAE: 0.3116, Test MAE: 0.4108\n",
      "Epoch 92/100, Train Loss: 1.8495, Test Loss: 2.9974, Train MAE: 0.3118, Test MAE: 0.4112\n",
      "Epoch 93/100, Train Loss: 1.8457, Test Loss: 3.0048, Train MAE: 0.3109, Test MAE: 0.4114\n",
      "Epoch 94/100, Train Loss: 1.8431, Test Loss: 3.0004, Train MAE: 0.3107, Test MAE: 0.4111\n",
      "Epoch 95/100, Train Loss: 1.8459, Test Loss: 3.0086, Train MAE: 0.3104, Test MAE: 0.4111\n",
      "Epoch 96/100, Train Loss: 1.8527, Test Loss: 3.0164, Train MAE: 0.3108, Test MAE: 0.4107\n",
      "Epoch 97/100, Train Loss: 1.8443, Test Loss: 3.0110, Train MAE: 0.3099, Test MAE: 0.4107\n",
      "Epoch 98/100, Train Loss: 1.8313, Test Loss: 3.0425, Train MAE: 0.3080, Test MAE: 0.4122\n",
      "Epoch 99/100, Train Loss: 1.8362, Test Loss: 3.0341, Train MAE: 0.3087, Test MAE: 0.4114\n",
      "Epoch 100/100, Train Loss: 1.8236, Test Loss: 3.0443, Train MAE: 0.3070, Test MAE: 0.4118\n"
     ]
    }
   ],
   "source": [
    "n_epochs = 100\n",
    "\n",
    "# Stuff to store\n",
    "train_losses = np.zeros(n_epochs)\n",
    "train_maes = np.zeros(n_epochs)\n",
    "\n",
    "test_losses = np.zeros(n_epochs)\n",
    "test_maes = np.zeros(n_epochs)\n",
    "\n",
    "for it in range(n_epochs):\n",
    "    train_loss = []\n",
    "    train_mae = []\n",
    "    for inputs, targets in train_loader:\n",
    "        # move data to GPU\n",
    "        inputs, targets = inputs.to(device), targets.to(device)\n",
    "\n",
    "        # zero the parameter gradients\n",
    "        optimizer.zero_grad()\n",
    "        \n",
    "        # Forward pass\n",
    "        outputs = fitness_function(inputs)\n",
    "        loss = coral_loss(outputs, targets)\n",
    "\n",
    "        # Backward and optimize\n",
    "        loss.backward()\n",
    "        optimizer.step()\n",
    "\n",
    "        train_loss.append(loss.item())\n",
    "        train_mae.append(report_measure(F.sigmoid(outputs), targets).item())\n",
    "\n",
    "    # Get train loss and test loss\n",
    "    train_loss = np.mean(train_loss)\n",
    "    train_mae = np.mean(train_mae)\n",
    "\n",
    "    test_loss = []\n",
    "    test_mae = []\n",
    "    for inputs, targets in test_loader:\n",
    "        inputs, targets = inputs.to(device), targets.to(device)\n",
    "        outputs = fitness_function(inputs)\n",
    "        loss = coral_loss(outputs, targets)\n",
    "        test_loss.append(loss.item())\n",
    "        test_mae.append(report_measure(F.sigmoid(outputs), targets).item())\n",
    "    test_loss = np.mean(test_loss)\n",
    "    test_mae = np.mean(test_mae)\n",
    "\n",
    "    # Save losses\n",
    "    train_losses[it] = train_loss\n",
    "    train_maes[it] = train_mae\n",
    "    test_losses[it] = test_loss\n",
    "    test_maes[it] = test_mae\n",
    "\n",
    "    if (it + 1) % 1 == 0:\n",
    "        print(f'Epoch {it + 1}/{n_epochs}, Train Loss: {train_loss:.4f}, Test Loss: {test_loss:.4f},'\n",
    "              f' Train MAE: {train_mae:.4f}, Test MAE: {test_mae:.4f}')"
   ]
  },
  {
   "cell_type": "markdown",
   "metadata": {
    "pycharm": {
     "name": "#%% md\n"
    }
   },
   "source": [
    "\n",
    "#### Plot the train loss and test loss per iteration"
   ]
  },
  {
   "cell_type": "code",
   "execution_count": 13,
   "metadata": {
    "collapsed": false,
    "jupyter": {
     "outputs_hidden": false
    },
    "pycharm": {
     "name": "#%%\n"
    }
   },
   "outputs": [
    {
     "data": {
      "text/plain": "<Figure size 432x288 with 1 Axes>",
      "image/png": "[encoded data removed]"
     },
     "metadata": {
      "needs_background": "light"
     },
     "output_type": "display_data"
    }
   ],
   "source": [
    "plt.plot(train_losses, label='train loss')\n",
    "plt.plot(test_losses, label='test loss')\n",
    "plt.legend()\n",
    "plt.show()"
   ]
  },
  {
   "cell_type": "markdown",
   "metadata": {},
   "source": [
    "#### Save trained model"
   ]
  },
  {
   "cell_type": "code",
   "execution_count": 18,
   "metadata": {
    "collapsed": false,
    "jupyter": {
     "outputs_hidden": false
    },
    "pycharm": {
     "name": "#%%\n"
    }
   },
   "outputs": [],
   "source": [
    "torch.save(fitness_function.state_dict(), \"models/best_fitness_function_path.pth\")"
   ]
  },
  {
   "cell_type": "markdown",
   "metadata": {
    "pycharm": {
     "name": "#%% md\n"
    }
   },
   "source": [
    "#### Load model and make predictions"
   ]
  },
  {
   "cell_type": "code",
   "execution_count": 20,
   "metadata": {
    "collapsed": false,
    "jupyter": {
     "outputs_hidden": false
    },
    "pycharm": {
     "name": "#%%\n"
    }
   },
   "outputs": [
    {
     "data": {
      "text/plain": "FitnessFunction(\n  (hidden): ModuleList(\n    (0): Linear(in_features=36, out_features=28, bias=True)\n  )\n  (out): Linear(in_features=28, out_features=4, bias=True)\n)"
     },
     "execution_count": 20,
     "metadata": {},
     "output_type": "execute_result"
    }
   ],
   "source": [
    "model = FitnessFunction()\n",
    "model.load_state_dict(torch.load(\"models/best_fitness_function_path.pth\"))\n",
    "model.eval()"
   ]
  },
  {
   "cell_type": "code",
   "execution_count": 21,
   "metadata": {
    "collapsed": false,
    "jupyter": {
     "outputs_hidden": false
    },
    "pycharm": {
     "name": "#%%\n"
    }
   },
   "outputs": [],
   "source": [
    "random_input = torch.from_numpy(np.random.normal(size=[1, 36]).astype(np.float32))\n",
    "\n",
    "output = model(random_input)"
   ]
  },
  {
   "cell_type": "code",
   "execution_count": 22,
   "metadata": {
    "collapsed": false,
    "jupyter": {
     "outputs_hidden": false
    },
    "pycharm": {
     "name": "#%%\n"
    }
   },
   "outputs": [
    {
     "data": {
      "text/plain": "tensor([[0.6638, 0.5108, 0.2818, 0.0953]], grad_fn=<SigmoidBackward>)"
     },
     "execution_count": 22,
     "metadata": {},
     "output_type": "execute_result"
    }
   ],
   "source": [
    "output"
   ]
  },
  {
   "cell_type": "code",
   "execution_count": 23,
   "metadata": {
    "collapsed": false,
    "jupyter": {
     "outputs_hidden": false
    },
    "pycharm": {
     "name": "#%%\n"
    }
   },
   "outputs": [
    {
     "data": {
      "text/plain": "array([[2]])"
     },
     "execution_count": 23,
     "metadata": {},
     "output_type": "execute_result"
    }
   ],
   "source": [
    "decode_classes(output)"
   ]
  },
  {
   "cell_type": "code",
   "execution_count": null,
   "outputs": [],
   "source": [],
   "metadata": {
    "collapsed": false,
    "pycharm": {
     "name": "#%%\n"
    }
   }
  }
 ],
 "metadata": {
  "kernelspec": {
   "display_name": "animate_logos",
   "language": "python",
   "name": "animate_logos"
  },
  "language_info": {
   "codemirror_mode": {
    "name": "ipython",
    "version": 3
   },
   "file_extension": ".py",
   "mimetype": "text/x-python",
   "name": "python",
   "nbconvert_exporter": "python",
   "pygments_lexer": "ipython3",
   "version": "3.8.8"
  }
 },
 "nbformat": 4,
 "nbformat_minor": 4
}