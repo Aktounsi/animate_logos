{
 "cells": [
  {
   "cell_type": "markdown",
   "metadata": {
    "pycharm": {
     "name": "#%% md\n"
    }
   },
   "source": [
    "## Training: Fitness Function"
   ]
  },
  {
   "cell_type": "code",
   "execution_count": 1,
   "metadata": {
    "collapsed": false,
    "jupyter": {
     "outputs_hidden": false
    },
    "pycharm": {
     "name": "#%%\n"
    }
   },
   "outputs": [],
   "source": [
    "import torch\n",
    "import torch.nn as nn\n",
    "import numpy as np\n",
    "import random\n",
    "import matplotlib.pyplot as plt\n",
    "import os\n",
    "os.chdir(\"..\")\n",
    "from sklearn.preprocessing import StandardScaler\n",
    "from src.models.surrogate_model import *\n",
    "from src.models.coral_loss import *\n",
    "from src.data.ff_dataloader import *\n",
    "from src.preprocessing.transform_into_model_data_ff import *\n",
    "import torch.nn.functional as F"
   ]
  },
  {
   "cell_type": "markdown",
   "metadata": {},
   "source": [
    "#### Set seeds"
   ]
  },
  {
   "cell_type": "code",
   "execution_count": 2,
   "metadata": {
    "collapsed": false,
    "jupyter": {
     "outputs_hidden": false
    },
    "pycharm": {
     "name": "#%%\n"
    }
   },
   "outputs": [],
   "source": [
    "# Set seeds in order to reproduce results\n",
    "torch.manual_seed(73)\n",
    "random.seed(73)\n",
    "np.random.seed(73)"
   ]
  },
  {
   "cell_type": "markdown",
   "metadata": {
    "pycharm": {
     "name": "#%% md\n"
    }
   },
   "source": [
    "#### Load dataset"
   ]
  },
  {
   "cell_type": "code",
   "execution_count": 3,
   "metadata": {
    "collapsed": false,
    "jupyter": {
     "outputs_hidden": false
    },
    "pycharm": {
     "name": "#%%\n"
    }
   },
   "outputs": [],
   "source": [
    "# Replace by true labeled dataset if available\n",
    "train_dataset = DatasetFF(train=True, path=\"data/fitness_function\")\n",
    "test_dataset = DatasetFF(train=False, path=\"data/fitness_function\")"
   ]
  },
  {
   "cell_type": "code",
   "execution_count": 4,
   "metadata": {
    "collapsed": false,
    "jupyter": {
     "outputs_hidden": false
    },
    "pycharm": {
     "name": "#%%\n"
    }
   },
   "outputs": [
    {
     "data": {
      "text/plain": "tensor([[ 0.7136, -0.2095,  1.6897,  ..., -0.6123,  0.1137,  0.4600],\n        [-0.7682, -0.8701,  1.0598,  ..., -1.7936,  2.8253,  0.7330],\n        [ 0.1352, -0.1229,  0.5693,  ..., -0.7866,  2.4842,  1.3139],\n        ...,\n        [-1.6477,  0.2251, -1.4394,  ..., -0.0105, -1.1899, -0.0193],\n        [ 0.7345, -1.0400,  0.2120,  ...,  0.8149, -0.7182,  1.0322],\n        [-1.1228, -2.5455,  1.1063,  ...,  0.7117, -0.2163,  0.4367]])"
     },
     "execution_count": 4,
     "metadata": {},
     "output_type": "execute_result"
    }
   ],
   "source": [
    "train_dataset.X"
   ]
  },
  {
   "cell_type": "code",
   "execution_count": 5,
   "metadata": {
    "collapsed": false,
    "jupyter": {
     "outputs_hidden": false
    },
    "pycharm": {
     "name": "#%%\n"
    }
   },
   "outputs": [
    {
     "data": {
      "text/plain": "tensor([[1., 1., 0., 0.],\n        [1., 0., 0., 0.],\n        [0., 0., 0., 0.],\n        ...,\n        [1., 1., 0., 0.],\n        [1., 1., 0., 0.],\n        [1., 1., 0., 0.]])"
     },
     "execution_count": 5,
     "metadata": {},
     "output_type": "execute_result"
    }
   ],
   "source": [
    "train_dataset.y"
   ]
  },
  {
   "cell_type": "markdown",
   "metadata": {
    "pycharm": {
     "name": "#%% md\n"
    }
   },
   "source": [
    "#### Scale training and test data"
   ]
  },
  {
   "cell_type": "code",
   "execution_count": 6,
   "metadata": {
    "collapsed": false,
    "jupyter": {
     "outputs_hidden": false
    },
    "pycharm": {
     "name": "#%%\n"
    }
   },
   "outputs": [],
   "source": [
    "scaler = StandardScaler()\n",
    "\n",
    "# only scale numeric variables that are not one-hot encoded\n",
    "scaler.fit(train_dataset.X[:, 6:])\n",
    "train_dataset.scale(scaler)\n",
    "test_dataset.scale(scaler)"
   ]
  },
  {
   "cell_type": "code",
   "execution_count": 7,
   "metadata": {},
   "outputs": [
    {
     "data": {
      "text/plain": "tensor([[ 0.7136, -0.2095,  1.6897,  ..., -0.6082,  0.1170,  0.4695],\n        [-0.7682, -0.8701,  1.0598,  ..., -1.7828,  2.8180,  0.7479],\n        [ 0.1352, -0.1229,  0.5693,  ..., -0.7815,  2.4782,  1.3405],\n        ...,\n        [-1.6477,  0.2251, -1.4394,  ..., -0.0098, -1.1815, -0.0196],\n        [ 0.7345, -1.0400,  0.2120,  ...,  0.8109, -0.7117,  1.0531],\n        [-1.1228, -2.5455,  1.1063,  ...,  0.7083, -0.2117,  0.4456]])"
     },
     "execution_count": 7,
     "metadata": {},
     "output_type": "execute_result"
    }
   ],
   "source": [
    "train_dataset.X"
   ]
  },
  {
   "cell_type": "markdown",
   "metadata": {
    "pycharm": {
     "name": "#%% md\n"
    }
   },
   "source": [
    "#### Build model and switch to GPU if available"
   ]
  },
  {
   "cell_type": "code",
   "execution_count": 8,
   "metadata": {
    "collapsed": false,
    "jupyter": {
     "outputs_hidden": false
    },
    "pycharm": {
     "name": "#%%\n"
    }
   },
   "outputs": [
    {
     "name": "stdout",
     "output_type": "stream",
     "text": [
      "cpu\n"
     ]
    },
    {
     "data": {
      "text/plain": "FitnessFunction(\n  (hidden): ModuleList(\n    (0): Linear(in_features=36, out_features=28, bias=True)\n  )\n  (coral_weights): Linear(in_features=28, out_features=1, bias=False)\n)"
     },
     "execution_count": 8,
     "metadata": {},
     "output_type": "execute_result"
    }
   ],
   "source": [
    "fitness_function = FitnessFunction(num_classes=5)\n",
    "\n",
    "device = torch.device(\"cuda:0\" if torch.cuda.is_available() else \"cpu\")\n",
    "print(device)\n",
    "fitness_function.to(device)"
   ]
  },
  {
   "cell_type": "code",
   "execution_count": 9,
   "metadata": {},
   "outputs": [
    {
     "data": {
      "text/plain": "tensor([0.8905, 0.6405, 0.3905, 0.1405], grad_fn=<AddBackward0>)"
     },
     "execution_count": 9,
     "metadata": {},
     "output_type": "execute_result"
    }
   ],
   "source": [
    "fitness_function(test_dataset.X[0])"
   ]
  },
  {
   "cell_type": "markdown",
   "metadata": {
    "pycharm": {
     "name": "#%% md\n"
    }
   },
   "source": [
    "#### Define loss function and optimizer"
   ]
  },
  {
   "cell_type": "code",
   "execution_count": 20,
   "metadata": {
    "collapsed": false,
    "jupyter": {
     "outputs_hidden": false
    },
    "pycharm": {
     "name": "#%%\n"
    }
   },
   "outputs": [],
   "source": [
    "#criterion = nn.MSELoss()\n",
    "report_measure = nn.L1Loss()\n",
    "optimizer = torch.optim.Adam(fitness_function.parameters())"
   ]
  },
  {
   "cell_type": "markdown",
   "metadata": {
    "pycharm": {
     "name": "#%% md\n"
    }
   },
   "source": [
    "#### Define Data loaders"
   ]
  },
  {
   "cell_type": "code",
   "execution_count": 11,
   "metadata": {
    "collapsed": false,
    "jupyter": {
     "outputs_hidden": false
    },
    "pycharm": {
     "name": "#%%\n"
    }
   },
   "outputs": [],
   "source": [
    "# Useful because it automatically generates batches in the training loop and takes care of shuffling\n",
    "\n",
    "batch_size = 128\n",
    "train_loader = torch.utils.data.DataLoader(dataset=train_dataset,\n",
    "                                           batch_size=batch_size,\n",
    "                                           shuffle=True)\n",
    "\n",
    "test_loader = torch.utils.data.DataLoader(dataset=test_dataset,\n",
    "                                          batch_size=batch_size,\n",
    "                                          shuffle=False)"
   ]
  },
  {
   "cell_type": "markdown",
   "metadata": {
    "pycharm": {
     "name": "#%% md\n"
    }
   },
   "source": [
    "#### Model training"
   ]
  },
  {
   "cell_type": "code",
   "execution_count": 22,
   "metadata": {
    "collapsed": false,
    "jupyter": {
     "outputs_hidden": false
    },
    "pycharm": {
     "name": "#%%\n"
    }
   },
   "outputs": [
    {
     "name": "stderr",
     "output_type": "stream",
     "text": [
      "/Users/jani/.conda/envs/animate_logos/lib/python3.8/site-packages/torch/nn/functional.py:1709: UserWarning: nn.functional.sigmoid is deprecated. Use torch.sigmoid instead.\n",
      "  warnings.warn(\"nn.functional.sigmoid is deprecated. Use torch.sigmoid instead.\")\n"
     ]
    },
    {
     "name": "stdout",
     "output_type": "stream",
     "text": [
      "Epoch 1/100, Train Loss: 1.9760, Test Loss: 2.7299, Train MAE: 0.3346, Test MAE: 0.4038\n",
      "Epoch 2/100, Train Loss: 1.9622, Test Loss: 2.7237, Train MAE: 0.3330, Test MAE: 0.4028\n",
      "Epoch 3/100, Train Loss: 1.9518, Test Loss: 2.7288, Train MAE: 0.3320, Test MAE: 0.4031\n",
      "Epoch 4/100, Train Loss: 1.9679, Test Loss: 2.7306, Train MAE: 0.3337, Test MAE: 0.4031\n",
      "Epoch 5/100, Train Loss: 1.9463, Test Loss: 2.7280, Train MAE: 0.3310, Test MAE: 0.4028\n",
      "Epoch 6/100, Train Loss: 1.9481, Test Loss: 2.7426, Train MAE: 0.3314, Test MAE: 0.4038\n",
      "Epoch 7/100, Train Loss: 1.9417, Test Loss: 2.7456, Train MAE: 0.3306, Test MAE: 0.4038\n",
      "Epoch 8/100, Train Loss: 1.9600, Test Loss: 2.7413, Train MAE: 0.3323, Test MAE: 0.4034\n",
      "Epoch 9/100, Train Loss: 1.9542, Test Loss: 2.7447, Train MAE: 0.3317, Test MAE: 0.4035\n",
      "Epoch 10/100, Train Loss: 1.9681, Test Loss: 2.7526, Train MAE: 0.3331, Test MAE: 0.4040\n",
      "Epoch 11/100, Train Loss: 1.9585, Test Loss: 2.7564, Train MAE: 0.3309, Test MAE: 0.4042\n",
      "Epoch 12/100, Train Loss: 1.9390, Test Loss: 2.7510, Train MAE: 0.3297, Test MAE: 0.4037\n",
      "Epoch 13/100, Train Loss: 1.9382, Test Loss: 2.7504, Train MAE: 0.3296, Test MAE: 0.4036\n",
      "Epoch 14/100, Train Loss: 1.9453, Test Loss: 2.7513, Train MAE: 0.3304, Test MAE: 0.4036\n",
      "Epoch 15/100, Train Loss: 1.9458, Test Loss: 2.7551, Train MAE: 0.3303, Test MAE: 0.4038\n",
      "Epoch 16/100, Train Loss: 1.9387, Test Loss: 2.7576, Train MAE: 0.3294, Test MAE: 0.4038\n",
      "Epoch 17/100, Train Loss: 1.9488, Test Loss: 2.7552, Train MAE: 0.3303, Test MAE: 0.4035\n",
      "Epoch 18/100, Train Loss: 1.9329, Test Loss: 2.7647, Train MAE: 0.3286, Test MAE: 0.4040\n",
      "Epoch 19/100, Train Loss: 1.9377, Test Loss: 2.7608, Train MAE: 0.3289, Test MAE: 0.4035\n",
      "Epoch 20/100, Train Loss: 1.9420, Test Loss: 2.7637, Train MAE: 0.3296, Test MAE: 0.4038\n",
      "Epoch 21/100, Train Loss: 1.9502, Test Loss: 2.7622, Train MAE: 0.3300, Test MAE: 0.4034\n",
      "Epoch 22/100, Train Loss: 1.9390, Test Loss: 2.7607, Train MAE: 0.3286, Test MAE: 0.4031\n",
      "Epoch 23/100, Train Loss: 1.9397, Test Loss: 2.7515, Train MAE: 0.3290, Test MAE: 0.4023\n",
      "Epoch 24/100, Train Loss: 1.9476, Test Loss: 2.7728, Train MAE: 0.3298, Test MAE: 0.4040\n",
      "Epoch 25/100, Train Loss: 1.9523, Test Loss: 2.7648, Train MAE: 0.3299, Test MAE: 0.4029\n",
      "Epoch 26/100, Train Loss: 1.9440, Test Loss: 2.7646, Train MAE: 0.3290, Test MAE: 0.4029\n",
      "Epoch 27/100, Train Loss: 1.9358, Test Loss: 2.7673, Train MAE: 0.3280, Test MAE: 0.4028\n",
      "Epoch 28/100, Train Loss: 1.9428, Test Loss: 2.7739, Train MAE: 0.3288, Test MAE: 0.4028\n",
      "Epoch 29/100, Train Loss: 1.9342, Test Loss: 2.7782, Train MAE: 0.3275, Test MAE: 0.4036\n",
      "Epoch 30/100, Train Loss: 1.9330, Test Loss: 2.7714, Train MAE: 0.3275, Test MAE: 0.4030\n",
      "Epoch 31/100, Train Loss: 1.9348, Test Loss: 2.7723, Train MAE: 0.3271, Test MAE: 0.4030\n",
      "Epoch 32/100, Train Loss: 1.9409, Test Loss: 2.7765, Train MAE: 0.3283, Test MAE: 0.4031\n",
      "Epoch 33/100, Train Loss: 1.9434, Test Loss: 2.7844, Train MAE: 0.3281, Test MAE: 0.4038\n",
      "Epoch 34/100, Train Loss: 1.9351, Test Loss: 2.7810, Train MAE: 0.3275, Test MAE: 0.4033\n",
      "Epoch 35/100, Train Loss: 1.9366, Test Loss: 2.7860, Train MAE: 0.3275, Test MAE: 0.4036\n",
      "Epoch 36/100, Train Loss: 1.9474, Test Loss: 2.7829, Train MAE: 0.3288, Test MAE: 0.4034\n",
      "Epoch 37/100, Train Loss: 1.9606, Test Loss: 2.7888, Train MAE: 0.3296, Test MAE: 0.4039\n",
      "Epoch 38/100, Train Loss: 1.9362, Test Loss: 2.7778, Train MAE: 0.3273, Test MAE: 0.4029\n",
      "Epoch 39/100, Train Loss: 1.9317, Test Loss: 2.7841, Train MAE: 0.3267, Test MAE: 0.4035\n",
      "Epoch 40/100, Train Loss: 1.9308, Test Loss: 2.7913, Train MAE: 0.3268, Test MAE: 0.4038\n",
      "Epoch 41/100, Train Loss: 1.9280, Test Loss: 2.7902, Train MAE: 0.3265, Test MAE: 0.4037\n",
      "Epoch 42/100, Train Loss: 1.9483, Test Loss: 2.7973, Train MAE: 0.3285, Test MAE: 0.4043\n",
      "Epoch 43/100, Train Loss: 1.9390, Test Loss: 2.7906, Train MAE: 0.3273, Test MAE: 0.4032\n",
      "Epoch 44/100, Train Loss: 1.9306, Test Loss: 2.8017, Train MAE: 0.3260, Test MAE: 0.4044\n",
      "Epoch 45/100, Train Loss: 1.9254, Test Loss: 2.7979, Train MAE: 0.3256, Test MAE: 0.4038\n",
      "Epoch 46/100, Train Loss: 1.9314, Test Loss: 2.7960, Train MAE: 0.3263, Test MAE: 0.4038\n",
      "Epoch 47/100, Train Loss: 1.9302, Test Loss: 2.7986, Train MAE: 0.3262, Test MAE: 0.4036\n",
      "Epoch 48/100, Train Loss: 1.9293, Test Loss: 2.8029, Train MAE: 0.3259, Test MAE: 0.4040\n",
      "Epoch 49/100, Train Loss: 1.9346, Test Loss: 2.8040, Train MAE: 0.3265, Test MAE: 0.4041\n",
      "Epoch 50/100, Train Loss: 1.9369, Test Loss: 2.8118, Train MAE: 0.3268, Test MAE: 0.4049\n",
      "Epoch 51/100, Train Loss: 1.9422, Test Loss: 2.8054, Train MAE: 0.3266, Test MAE: 0.4043\n",
      "Epoch 52/100, Train Loss: 1.9320, Test Loss: 2.8048, Train MAE: 0.3262, Test MAE: 0.4038\n",
      "Epoch 53/100, Train Loss: 1.9265, Test Loss: 2.8103, Train MAE: 0.3257, Test MAE: 0.4043\n",
      "Epoch 54/100, Train Loss: 1.9243, Test Loss: 2.8084, Train MAE: 0.3250, Test MAE: 0.4040\n",
      "Epoch 55/100, Train Loss: 1.9333, Test Loss: 2.8019, Train MAE: 0.3262, Test MAE: 0.4035\n",
      "Epoch 56/100, Train Loss: 1.9454, Test Loss: 2.8118, Train MAE: 0.3270, Test MAE: 0.4041\n",
      "Epoch 57/100, Train Loss: 1.9415, Test Loss: 2.8017, Train MAE: 0.3267, Test MAE: 0.4033\n",
      "Epoch 58/100, Train Loss: 1.9399, Test Loss: 2.8085, Train MAE: 0.3268, Test MAE: 0.4039\n",
      "Epoch 59/100, Train Loss: 1.9274, Test Loss: 2.8083, Train MAE: 0.3253, Test MAE: 0.4040\n",
      "Epoch 60/100, Train Loss: 1.9240, Test Loss: 2.8152, Train MAE: 0.3249, Test MAE: 0.4045\n",
      "Epoch 61/100, Train Loss: 1.9219, Test Loss: 2.8156, Train MAE: 0.3247, Test MAE: 0.4043\n",
      "Epoch 62/100, Train Loss: 1.9214, Test Loss: 2.8207, Train MAE: 0.3244, Test MAE: 0.4044\n",
      "Epoch 63/100, Train Loss: 1.9215, Test Loss: 2.8272, Train MAE: 0.3245, Test MAE: 0.4049\n",
      "Epoch 64/100, Train Loss: 1.9187, Test Loss: 2.8289, Train MAE: 0.3237, Test MAE: 0.4049\n",
      "Epoch 65/100, Train Loss: 1.9215, Test Loss: 2.8321, Train MAE: 0.3244, Test MAE: 0.4047\n",
      "Epoch 66/100, Train Loss: 1.9334, Test Loss: 2.8386, Train MAE: 0.3251, Test MAE: 0.4052\n",
      "Epoch 67/100, Train Loss: 1.9293, Test Loss: 2.8347, Train MAE: 0.3250, Test MAE: 0.4048\n",
      "Epoch 68/100, Train Loss: 1.9203, Test Loss: 2.8273, Train MAE: 0.3240, Test MAE: 0.4045\n",
      "Epoch 69/100, Train Loss: 1.9187, Test Loss: 2.8380, Train MAE: 0.3238, Test MAE: 0.4053\n",
      "Epoch 70/100, Train Loss: 1.9104, Test Loss: 2.8404, Train MAE: 0.3224, Test MAE: 0.4053\n",
      "Epoch 71/100, Train Loss: 1.9238, Test Loss: 2.8451, Train MAE: 0.3244, Test MAE: 0.4055\n",
      "Epoch 72/100, Train Loss: 1.9149, Test Loss: 2.8410, Train MAE: 0.3231, Test MAE: 0.4047\n",
      "Epoch 73/100, Train Loss: 1.9346, Test Loss: 2.8486, Train MAE: 0.3249, Test MAE: 0.4055\n",
      "Epoch 74/100, Train Loss: 1.9158, Test Loss: 2.8496, Train MAE: 0.3232, Test MAE: 0.4057\n",
      "Epoch 75/100, Train Loss: 1.9077, Test Loss: 2.8484, Train MAE: 0.3223, Test MAE: 0.4054\n",
      "Epoch 76/100, Train Loss: 1.9141, Test Loss: 2.8482, Train MAE: 0.3224, Test MAE: 0.4053\n",
      "Epoch 77/100, Train Loss: 1.9160, Test Loss: 2.8564, Train MAE: 0.3227, Test MAE: 0.4058\n",
      "Epoch 78/100, Train Loss: 1.9181, Test Loss: 2.8518, Train MAE: 0.3230, Test MAE: 0.4052\n",
      "Epoch 79/100, Train Loss: 1.9040, Test Loss: 2.8477, Train MAE: 0.3212, Test MAE: 0.4048\n",
      "Epoch 80/100, Train Loss: 1.9190, Test Loss: 2.8542, Train MAE: 0.3233, Test MAE: 0.4050\n",
      "Epoch 81/100, Train Loss: 1.9134, Test Loss: 2.8539, Train MAE: 0.3224, Test MAE: 0.4051\n",
      "Epoch 82/100, Train Loss: 1.9233, Test Loss: 2.8561, Train MAE: 0.3234, Test MAE: 0.4052\n",
      "Epoch 83/100, Train Loss: 1.9172, Test Loss: 2.8659, Train MAE: 0.3229, Test MAE: 0.4060\n",
      "Epoch 84/100, Train Loss: 1.9233, Test Loss: 2.8674, Train MAE: 0.3231, Test MAE: 0.4058\n",
      "Epoch 85/100, Train Loss: 1.9129, Test Loss: 2.8734, Train MAE: 0.3222, Test MAE: 0.4062\n",
      "Epoch 86/100, Train Loss: 1.9184, Test Loss: 2.8642, Train MAE: 0.3226, Test MAE: 0.4058\n",
      "Epoch 87/100, Train Loss: 1.9171, Test Loss: 2.8690, Train MAE: 0.3226, Test MAE: 0.4057\n",
      "Epoch 88/100, Train Loss: 1.9251, Test Loss: 2.8678, Train MAE: 0.3236, Test MAE: 0.4058\n",
      "Epoch 89/100, Train Loss: 1.9275, Test Loss: 2.8672, Train MAE: 0.3233, Test MAE: 0.4056\n",
      "Epoch 90/100, Train Loss: 1.9090, Test Loss: 2.8740, Train MAE: 0.3214, Test MAE: 0.4061\n",
      "Epoch 91/100, Train Loss: 1.9157, Test Loss: 2.8721, Train MAE: 0.3221, Test MAE: 0.4061\n",
      "Epoch 92/100, Train Loss: 1.9064, Test Loss: 2.8784, Train MAE: 0.3213, Test MAE: 0.4065\n",
      "Epoch 93/100, Train Loss: 1.8994, Test Loss: 2.8821, Train MAE: 0.3204, Test MAE: 0.4064\n",
      "Epoch 94/100, Train Loss: 1.9051, Test Loss: 2.8826, Train MAE: 0.3209, Test MAE: 0.4061\n",
      "Epoch 95/100, Train Loss: 1.9227, Test Loss: 2.8791, Train MAE: 0.3220, Test MAE: 0.4059\n",
      "Epoch 96/100, Train Loss: 1.9098, Test Loss: 2.8844, Train MAE: 0.3213, Test MAE: 0.4063\n",
      "Epoch 97/100, Train Loss: 1.9142, Test Loss: 2.8942, Train MAE: 0.3217, Test MAE: 0.4067\n",
      "Epoch 98/100, Train Loss: 1.9116, Test Loss: 2.8791, Train MAE: 0.3210, Test MAE: 0.4056\n",
      "Epoch 99/100, Train Loss: 1.9026, Test Loss: 2.8846, Train MAE: 0.3199, Test MAE: 0.4058\n",
      "Epoch 100/100, Train Loss: 1.9205, Test Loss: 2.8889, Train MAE: 0.3221, Test MAE: 0.4061\n"
     ]
    }
   ],
   "source": [
    "n_epochs = 100\n",
    "\n",
    "# Stuff to store\n",
    "train_losses = np.zeros(n_epochs)\n",
    "train_maes = np.zeros(n_epochs)\n",
    "\n",
    "test_losses = np.zeros(n_epochs)\n",
    "test_maes = np.zeros(n_epochs)\n",
    "\n",
    "for it in range(n_epochs):\n",
    "    train_loss = []\n",
    "    train_mae = []\n",
    "    for inputs, targets in train_loader:\n",
    "        # move data to GPU\n",
    "        inputs, targets = inputs.to(device), targets.to(device)\n",
    "\n",
    "        # zero the parameter gradients\n",
    "        optimizer.zero_grad()\n",
    "        \n",
    "        # Forward pass\n",
    "        outputs = fitness_function(inputs)\n",
    "        loss = coral_loss(outputs, targets)\n",
    "\n",
    "        # Backward and optimize\n",
    "        loss.backward()\n",
    "        optimizer.step()\n",
    "\n",
    "        train_loss.append(loss.item())\n",
    "        train_mae.append(report_measure(F.sigmoid(outputs), targets).item())\n",
    "\n",
    "    # Get train loss and test loss\n",
    "    train_loss = np.mean(train_loss)\n",
    "    train_mae = np.mean(train_mae)\n",
    "\n",
    "    test_loss = []\n",
    "    test_mae = []\n",
    "    for inputs, targets in test_loader:\n",
    "        inputs, targets = inputs.to(device), targets.to(device)\n",
    "        outputs = fitness_function(inputs)\n",
    "        loss = coral_loss(outputs, targets)\n",
    "        test_loss.append(loss.item())\n",
    "        test_mae.append(report_measure(F.sigmoid(outputs), targets).item())\n",
    "    test_loss = np.mean(test_loss)\n",
    "    test_mae = np.mean(test_mae)\n",
    "\n",
    "    # Save losses\n",
    "    train_losses[it] = train_loss\n",
    "    train_maes[it] = train_mae\n",
    "    test_losses[it] = test_loss\n",
    "    test_maes[it] = test_mae\n",
    "\n",
    "    if (it + 1) % 1 == 0:\n",
    "        print(f'Epoch {it + 1}/{n_epochs}, Train Loss: {train_loss:.4f}, Test Loss: {test_loss:.4f},'\n",
    "              f' Train MAE: {train_mae:.4f}, Test MAE: {test_mae:.4f}')"
   ]
  },
  {
   "cell_type": "markdown",
   "metadata": {
    "pycharm": {
     "name": "#%% md\n"
    }
   },
   "source": [
    "\n",
    "#### Plot the train loss and test loss per iteration"
   ]
  },
  {
   "cell_type": "code",
   "execution_count": 16,
   "metadata": {
    "collapsed": false,
    "jupyter": {
     "outputs_hidden": false
    },
    "pycharm": {
     "name": "#%%\n"
    }
   },
   "outputs": [
    {
     "data": {
      "text/plain": "<Figure size 432x288 with 1 Axes>",
      "image/png": "[encoded data removed]"
     },
     "metadata": {
      "needs_background": "light"
     },
     "output_type": "display_data"
    }
   ],
   "source": [
    "plt.plot(train_losses, label='train loss')\n",
    "plt.plot(test_losses, label='test loss')\n",
    "plt.legend()\n",
    "plt.show()"
   ]
  },
  {
   "cell_type": "markdown",
   "metadata": {},
   "source": [
    "#### Save trained model"
   ]
  },
  {
   "cell_type": "code",
   "execution_count": 18,
   "metadata": {
    "collapsed": false,
    "jupyter": {
     "outputs_hidden": false
    },
    "pycharm": {
     "name": "#%%\n"
    }
   },
   "outputs": [],
   "source": [
    "torch.save(fitness_function.state_dict(), \"models/best_fitness_function_path.pth\")"
   ]
  },
  {
   "cell_type": "markdown",
   "metadata": {
    "pycharm": {
     "name": "#%% md\n"
    }
   },
   "source": [
    "#### Load model and make predictions"
   ]
  },
  {
   "cell_type": "code",
   "execution_count": 20,
   "metadata": {
    "collapsed": false,
    "jupyter": {
     "outputs_hidden": false
    },
    "pycharm": {
     "name": "#%%\n"
    }
   },
   "outputs": [
    {
     "data": {
      "text/plain": "FitnessFunction(\n  (hidden): ModuleList(\n    (0): Linear(in_features=36, out_features=28, bias=True)\n  )\n  (out): Linear(in_features=28, out_features=4, bias=True)\n)"
     },
     "execution_count": 20,
     "metadata": {},
     "output_type": "execute_result"
    }
   ],
   "source": [
    "model = FitnessFunction()\n",
    "model.load_state_dict(torch.load(\"models/best_fitness_function_path.pth\"))\n",
    "model.eval()"
   ]
  },
  {
   "cell_type": "code",
   "execution_count": 21,
   "metadata": {
    "collapsed": false,
    "jupyter": {
     "outputs_hidden": false
    },
    "pycharm": {
     "name": "#%%\n"
    }
   },
   "outputs": [],
   "source": [
    "random_input = torch.from_numpy(np.random.normal(size=[1, 36]).astype(np.float32))\n",
    "\n",
    "output = model(random_input)"
   ]
  },
  {
   "cell_type": "code",
   "execution_count": 22,
   "metadata": {
    "collapsed": false,
    "jupyter": {
     "outputs_hidden": false
    },
    "pycharm": {
     "name": "#%%\n"
    }
   },
   "outputs": [
    {
     "data": {
      "text/plain": "tensor([[0.6638, 0.5108, 0.2818, 0.0953]], grad_fn=<SigmoidBackward>)"
     },
     "execution_count": 22,
     "metadata": {},
     "output_type": "execute_result"
    }
   ],
   "source": [
    "output"
   ]
  },
  {
   "cell_type": "code",
   "execution_count": 23,
   "metadata": {
    "collapsed": false,
    "jupyter": {
     "outputs_hidden": false
    },
    "pycharm": {
     "name": "#%%\n"
    }
   },
   "outputs": [
    {
     "data": {
      "text/plain": "array([[2]])"
     },
     "execution_count": 23,
     "metadata": {},
     "output_type": "execute_result"
    }
   ],
   "source": [
    "decode_classes(output)"
   ]
  },
  {
   "cell_type": "code",
   "execution_count": null,
   "outputs": [],
   "source": [],
   "metadata": {
    "collapsed": false,
    "pycharm": {
     "name": "#%%\n"
    }
   }
  }
 ],
 "metadata": {
  "kernelspec": {
   "display_name": "animate_logos",
   "language": "python",
   "name": "animate_logos"
  },
  "language_info": {
   "codemirror_mode": {
    "name": "ipython",
    "version": 3
   },
   "file_extension": ".py",
   "mimetype": "text/x-python",
   "name": "python",
   "nbconvert_exporter": "python",
   "pygments_lexer": "ipython3",
   "version": "3.8.8"
  }
 },
 "nbformat": 4,
 "nbformat_minor": 4
}