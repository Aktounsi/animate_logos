{
 "cells": [
  {
   "cell_type": "markdown",
   "metadata": {},
   "source": [
    "# Model One\n",
    "### Logistic Regression, Random Forest, Extra Trees Classifier"
   ]
  },
  {
   "cell_type": "markdown",
   "metadata": {},
   "source": [
    "This Notbook should predict whether a certain path in a model should be animated or not based on the embedding and additional features created.\n",
    "\n",
    "For training we are using self-labeled data."
   ]
  },
  {
   "cell_type": "code",
   "execution_count": 1,
   "metadata": {},
   "outputs": [],
   "source": [
    "import os\n",
    "os.chdir(\"..\")"
   ]
  },
  {
   "cell_type": "code",
   "execution_count": 2,
   "metadata": {},
   "outputs": [
    {
     "name": "stderr",
     "output_type": "stream",
     "text": [
      "C:\\Users\\sarah\\Anaconda3\\lib\\site-packages\\scipy\\__init__.py:137: UserWarning: NumPy 1.16.5 or above is required for this version of SciPy (detected version 1.16.1)\n",
      "  UserWarning)\n"
     ]
    }
   ],
   "source": [
    "import pickle\n",
    "import pandas as pd\n",
    "import numpy as np\n",
    "import seaborn as sn\n",
    "import matplotlib.pyplot as plt\n",
    "import statsmodels.api as sm\n",
    "from sklearn.linear_model import LogisticRegression\n",
    "from sklearn.feature_selection import RFE\n",
    "from sklearn.model_selection import train_test_split, RandomizedSearchCV\n",
    "from sklearn.metrics import classification_report, confusion_matrix\n",
    "from sklearn.ensemble import RandomForestClassifier, ExtraTreesClassifier, GradientBoostingClassifier\n",
    "import matplotlib.pyplot as plt\n",
    "from matplotlib import pyplot\n",
    "from pprint import pprint"
   ]
  },
  {
   "cell_type": "markdown",
   "metadata": {},
   "source": [
    "### 1. Load and map data"
   ]
  },
  {
   "cell_type": "markdown",
   "metadata": {},
   "source": [
    "Delete rows of logo_id (provided through filename) and order_id (not important)"
   ]
  },
  {
   "cell_type": "code",
   "execution_count": 3,
   "metadata": {},
   "outputs": [
    {
     "data": {
      "text/html": [
       "<div>\n",
       "<style scoped>\n",
       "    .dataframe tbody tr th:only-of-type {\n",
       "        vertical-align: middle;\n",
       "    }\n",
       "\n",
       "    .dataframe tbody tr th {\n",
       "        vertical-align: top;\n",
       "    }\n",
       "\n",
       "    .dataframe thead th {\n",
       "        text-align: right;\n",
       "    }\n",
       "</style>\n",
       "<table border=\"1\" class=\"dataframe\">\n",
       "  <thead>\n",
       "    <tr style=\"text-align: right;\">\n",
       "      <th></th>\n",
       "      <th>animation_id</th>\n",
       "      <th>animate</th>\n",
       "      <th>filename</th>\n",
       "    </tr>\n",
       "  </thead>\n",
       "  <tbody>\n",
       "    <tr>\n",
       "      <th>0</th>\n",
       "      <td>5</td>\n",
       "      <td>0.578947</td>\n",
       "      <td>logo_0</td>\n",
       "    </tr>\n",
       "    <tr>\n",
       "      <th>1</th>\n",
       "      <td>0</td>\n",
       "      <td>0.526316</td>\n",
       "      <td>logo_0</td>\n",
       "    </tr>\n",
       "    <tr>\n",
       "      <th>2</th>\n",
       "      <td>2</td>\n",
       "      <td>0.526316</td>\n",
       "      <td>logo_0</td>\n",
       "    </tr>\n",
       "    <tr>\n",
       "      <th>3</th>\n",
       "      <td>4</td>\n",
       "      <td>0.684211</td>\n",
       "      <td>logo_0</td>\n",
       "    </tr>\n",
       "    <tr>\n",
       "      <th>4</th>\n",
       "      <td>3</td>\n",
       "      <td>0.526316</td>\n",
       "      <td>logo_0</td>\n",
       "    </tr>\n",
       "  </tbody>\n",
       "</table>\n",
       "</div>"
      ],
      "text/plain": [
       "   animation_id   animate filename\n",
       "0             5  0.578947   logo_0\n",
       "1             0  0.526316   logo_0\n",
       "2             2  0.526316   logo_0\n",
       "3             4  0.684211   logo_0\n",
       "4             3  0.526316   logo_0"
      ]
     },
     "execution_count": 3,
     "metadata": {},
     "output_type": "execute_result"
    }
   ],
   "source": [
    "#target = pd.read_csv(\"data/model_1/model_1_path_label.pkl\")\n",
    "with open('data/model_1/model_1_path_label.pkl', 'rb') as f:\n",
    "    target = pickle.load(f)\n",
    "target[\"logo\"] = target[\"logo_id\"].apply(lambda row: \"logo_\" + str(row)) # set up logo numeration for labeling\n",
    "target = target.drop(['logo_id','order_id','filename'], axis = 1) # drop unnecessary attributes\n",
    "target['animation_id'] = target['animation_id'].astype(int) #transform animation_id to int for mapping with feature table\n",
    "target=target.rename(columns={\"logo\": \"filename\"}) # transform for feature mapping\n",
    "target.head()"
   ]
  },
  {
   "cell_type": "markdown",
   "metadata": {},
   "source": [
    "Load an match of training data"
   ]
  },
  {
   "cell_type": "code",
   "execution_count": 4,
   "metadata": {},
   "outputs": [
    {
     "data": {
      "text/html": [
       "<div>\n",
       "<style scoped>\n",
       "    .dataframe tbody tr th:only-of-type {\n",
       "        vertical-align: middle;\n",
       "    }\n",
       "\n",
       "    .dataframe tbody tr th {\n",
       "        vertical-align: top;\n",
       "    }\n",
       "\n",
       "    .dataframe thead th {\n",
       "        text-align: right;\n",
       "    }\n",
       "</style>\n",
       "<table border=\"1\" class=\"dataframe\">\n",
       "  <thead>\n",
       "    <tr style=\"text-align: right;\">\n",
       "      <th></th>\n",
       "      <th>filename</th>\n",
       "      <th>animation_id</th>\n",
       "      <th>emb_0</th>\n",
       "      <th>emb_1</th>\n",
       "      <th>emb_2</th>\n",
       "      <th>emb_3</th>\n",
       "      <th>emb_4</th>\n",
       "      <th>emb_5</th>\n",
       "      <th>emb_6</th>\n",
       "      <th>emb_7</th>\n",
       "      <th>...</th>\n",
       "      <th>diff_stroke_r</th>\n",
       "      <th>svg_stroke_g</th>\n",
       "      <th>diff_stroke_g</th>\n",
       "      <th>svg_stroke_b</th>\n",
       "      <th>diff_stroke_b</th>\n",
       "      <th>rel_width</th>\n",
       "      <th>rel_height</th>\n",
       "      <th>rel_x_position</th>\n",
       "      <th>rel_y_position</th>\n",
       "      <th>nr_paths_svg</th>\n",
       "    </tr>\n",
       "  </thead>\n",
       "  <tbody>\n",
       "    <tr>\n",
       "      <th>0</th>\n",
       "      <td>logo_0</td>\n",
       "      <td>1</td>\n",
       "      <td>13.535693</td>\n",
       "      <td>6.971131</td>\n",
       "      <td>-0.009867</td>\n",
       "      <td>-0.915823</td>\n",
       "      <td>-2.984741</td>\n",
       "      <td>5.383109</td>\n",
       "      <td>0.495110</td>\n",
       "      <td>-2.146576</td>\n",
       "      <td>...</td>\n",
       "      <td>0.0</td>\n",
       "      <td>0.0</td>\n",
       "      <td>0.0</td>\n",
       "      <td>0.0</td>\n",
       "      <td>0.0</td>\n",
       "      <td>0.400180</td>\n",
       "      <td>0.472019</td>\n",
       "      <td>0.700090</td>\n",
       "      <td>0.564323</td>\n",
       "      <td>10</td>\n",
       "    </tr>\n",
       "    <tr>\n",
       "      <th>1</th>\n",
       "      <td>logo_0</td>\n",
       "      <td>0</td>\n",
       "      <td>-1.000982</td>\n",
       "      <td>4.641413</td>\n",
       "      <td>1.455743</td>\n",
       "      <td>-0.487705</td>\n",
       "      <td>-1.037431</td>\n",
       "      <td>6.984421</td>\n",
       "      <td>-0.485484</td>\n",
       "      <td>-3.933893</td>\n",
       "      <td>...</td>\n",
       "      <td>0.0</td>\n",
       "      <td>0.0</td>\n",
       "      <td>0.0</td>\n",
       "      <td>0.0</td>\n",
       "      <td>0.0</td>\n",
       "      <td>0.500000</td>\n",
       "      <td>0.671553</td>\n",
       "      <td>0.250000</td>\n",
       "      <td>0.335776</td>\n",
       "      <td>10</td>\n",
       "    </tr>\n",
       "    <tr>\n",
       "      <th>2</th>\n",
       "      <td>logo_0</td>\n",
       "      <td>2</td>\n",
       "      <td>10.590673</td>\n",
       "      <td>0.533370</td>\n",
       "      <td>8.743198</td>\n",
       "      <td>0.241546</td>\n",
       "      <td>-2.132272</td>\n",
       "      <td>0.620374</td>\n",
       "      <td>1.687153</td>\n",
       "      <td>6.592582</td>\n",
       "      <td>...</td>\n",
       "      <td>0.0</td>\n",
       "      <td>0.0</td>\n",
       "      <td>0.0</td>\n",
       "      <td>0.0</td>\n",
       "      <td>0.0</td>\n",
       "      <td>0.787194</td>\n",
       "      <td>0.328324</td>\n",
       "      <td>0.499991</td>\n",
       "      <td>0.835838</td>\n",
       "      <td>10</td>\n",
       "    </tr>\n",
       "    <tr>\n",
       "      <th>3</th>\n",
       "      <td>logo_0</td>\n",
       "      <td>3</td>\n",
       "      <td>4.222565</td>\n",
       "      <td>-0.735711</td>\n",
       "      <td>5.308626</td>\n",
       "      <td>-0.090910</td>\n",
       "      <td>-4.875907</td>\n",
       "      <td>2.410124</td>\n",
       "      <td>0.314957</td>\n",
       "      <td>-1.771255</td>\n",
       "      <td>...</td>\n",
       "      <td>0.0</td>\n",
       "      <td>0.0</td>\n",
       "      <td>0.0</td>\n",
       "      <td>0.0</td>\n",
       "      <td>0.0</td>\n",
       "      <td>0.400206</td>\n",
       "      <td>0.472019</td>\n",
       "      <td>0.299897</td>\n",
       "      <td>0.564323</td>\n",
       "      <td>10</td>\n",
       "    </tr>\n",
       "    <tr>\n",
       "      <th>4</th>\n",
       "      <td>logo_0</td>\n",
       "      <td>4</td>\n",
       "      <td>1.776278</td>\n",
       "      <td>8.866785</td>\n",
       "      <td>-2.770646</td>\n",
       "      <td>-0.955766</td>\n",
       "      <td>-4.725605</td>\n",
       "      <td>5.412009</td>\n",
       "      <td>0.597616</td>\n",
       "      <td>2.331442</td>\n",
       "      <td>...</td>\n",
       "      <td>0.0</td>\n",
       "      <td>0.0</td>\n",
       "      <td>0.0</td>\n",
       "      <td>0.0</td>\n",
       "      <td>0.0</td>\n",
       "      <td>0.586900</td>\n",
       "      <td>0.315475</td>\n",
       "      <td>0.500106</td>\n",
       "      <td>0.170381</td>\n",
       "      <td>10</td>\n",
       "    </tr>\n",
       "  </tbody>\n",
       "</table>\n",
       "<p>5 rows × 38 columns</p>\n",
       "</div>"
      ],
      "text/plain": [
       "  filename  animation_id      emb_0     emb_1     emb_2     emb_3     emb_4  \\\n",
       "0   logo_0             1  13.535693  6.971131 -0.009867 -0.915823 -2.984741   \n",
       "1   logo_0             0  -1.000982  4.641413  1.455743 -0.487705 -1.037431   \n",
       "2   logo_0             2  10.590673  0.533370  8.743198  0.241546 -2.132272   \n",
       "3   logo_0             3   4.222565 -0.735711  5.308626 -0.090910 -4.875907   \n",
       "4   logo_0             4   1.776278  8.866785 -2.770646 -0.955766 -4.725605   \n",
       "\n",
       "      emb_5     emb_6     emb_7  ...  diff_stroke_r  svg_stroke_g  \\\n",
       "0  5.383109  0.495110 -2.146576  ...            0.0           0.0   \n",
       "1  6.984421 -0.485484 -3.933893  ...            0.0           0.0   \n",
       "2  0.620374  1.687153  6.592582  ...            0.0           0.0   \n",
       "3  2.410124  0.314957 -1.771255  ...            0.0           0.0   \n",
       "4  5.412009  0.597616  2.331442  ...            0.0           0.0   \n",
       "\n",
       "   diff_stroke_g  svg_stroke_b  diff_stroke_b  rel_width  rel_height  \\\n",
       "0            0.0           0.0            0.0   0.400180    0.472019   \n",
       "1            0.0           0.0            0.0   0.500000    0.671553   \n",
       "2            0.0           0.0            0.0   0.787194    0.328324   \n",
       "3            0.0           0.0            0.0   0.400206    0.472019   \n",
       "4            0.0           0.0            0.0   0.586900    0.315475   \n",
       "\n",
       "   rel_x_position  rel_y_position  nr_paths_svg  \n",
       "0        0.700090        0.564323            10  \n",
       "1        0.250000        0.335776            10  \n",
       "2        0.499991        0.835838            10  \n",
       "3        0.299897        0.564323            10  \n",
       "4        0.500106        0.170381            10  \n",
       "\n",
       "[5 rows x 38 columns]"
      ]
     },
     "execution_count": 4,
     "metadata": {},
     "output_type": "execute_result"
    }
   ],
   "source": [
    "X_train = pd.read_csv(\"data/model_1/model_1_train.csv\")\n",
    "X_train = X_train.drop(\"Unnamed: 0\", axis=1) # Delete unneccessary columnd which was copied as indice\n",
    "X_train.head()"
   ]
  },
  {
   "cell_type": "markdown",
   "metadata": {},
   "source": [
    "Merge dataframe based on the paths for which we have an annotation (df)"
   ]
  },
  {
   "cell_type": "code",
   "execution_count": 5,
   "metadata": {},
   "outputs": [
    {
     "data": {
      "text/html": [
       "<div>\n",
       "<style scoped>\n",
       "    .dataframe tbody tr th:only-of-type {\n",
       "        vertical-align: middle;\n",
       "    }\n",
       "\n",
       "    .dataframe tbody tr th {\n",
       "        vertical-align: top;\n",
       "    }\n",
       "\n",
       "    .dataframe thead th {\n",
       "        text-align: right;\n",
       "    }\n",
       "</style>\n",
       "<table border=\"1\" class=\"dataframe\">\n",
       "  <thead>\n",
       "    <tr style=\"text-align: right;\">\n",
       "      <th></th>\n",
       "      <th>animation_id</th>\n",
       "      <th>animate</th>\n",
       "      <th>filename</th>\n",
       "      <th>emb_0</th>\n",
       "      <th>emb_1</th>\n",
       "      <th>emb_2</th>\n",
       "      <th>emb_3</th>\n",
       "      <th>emb_4</th>\n",
       "      <th>emb_5</th>\n",
       "      <th>emb_6</th>\n",
       "      <th>...</th>\n",
       "      <th>diff_stroke_r</th>\n",
       "      <th>svg_stroke_g</th>\n",
       "      <th>diff_stroke_g</th>\n",
       "      <th>svg_stroke_b</th>\n",
       "      <th>diff_stroke_b</th>\n",
       "      <th>rel_width</th>\n",
       "      <th>rel_height</th>\n",
       "      <th>rel_x_position</th>\n",
       "      <th>rel_y_position</th>\n",
       "      <th>nr_paths_svg</th>\n",
       "    </tr>\n",
       "  </thead>\n",
       "  <tbody>\n",
       "    <tr>\n",
       "      <th>0</th>\n",
       "      <td>5</td>\n",
       "      <td>0.578947</td>\n",
       "      <td>logo_0</td>\n",
       "      <td>6.032914</td>\n",
       "      <td>13.505794</td>\n",
       "      <td>1.009270</td>\n",
       "      <td>-2.116762</td>\n",
       "      <td>-5.308783</td>\n",
       "      <td>-0.882996</td>\n",
       "      <td>0.776552</td>\n",
       "      <td>...</td>\n",
       "      <td>0.0</td>\n",
       "      <td>0.0</td>\n",
       "      <td>0.0</td>\n",
       "      <td>0.0</td>\n",
       "      <td>0.0</td>\n",
       "      <td>0.500000</td>\n",
       "      <td>0.671547</td>\n",
       "      <td>0.750000</td>\n",
       "      <td>0.335779</td>\n",
       "      <td>10.0</td>\n",
       "    </tr>\n",
       "    <tr>\n",
       "      <th>1</th>\n",
       "      <td>0</td>\n",
       "      <td>0.526316</td>\n",
       "      <td>logo_0</td>\n",
       "      <td>-1.000982</td>\n",
       "      <td>4.641413</td>\n",
       "      <td>1.455743</td>\n",
       "      <td>-0.487705</td>\n",
       "      <td>-1.037431</td>\n",
       "      <td>6.984421</td>\n",
       "      <td>-0.485484</td>\n",
       "      <td>...</td>\n",
       "      <td>0.0</td>\n",
       "      <td>0.0</td>\n",
       "      <td>0.0</td>\n",
       "      <td>0.0</td>\n",
       "      <td>0.0</td>\n",
       "      <td>0.500000</td>\n",
       "      <td>0.671553</td>\n",
       "      <td>0.250000</td>\n",
       "      <td>0.335776</td>\n",
       "      <td>10.0</td>\n",
       "    </tr>\n",
       "    <tr>\n",
       "      <th>2</th>\n",
       "      <td>2</td>\n",
       "      <td>0.526316</td>\n",
       "      <td>logo_0</td>\n",
       "      <td>10.590673</td>\n",
       "      <td>0.533370</td>\n",
       "      <td>8.743198</td>\n",
       "      <td>0.241546</td>\n",
       "      <td>-2.132272</td>\n",
       "      <td>0.620374</td>\n",
       "      <td>1.687153</td>\n",
       "      <td>...</td>\n",
       "      <td>0.0</td>\n",
       "      <td>0.0</td>\n",
       "      <td>0.0</td>\n",
       "      <td>0.0</td>\n",
       "      <td>0.0</td>\n",
       "      <td>0.787194</td>\n",
       "      <td>0.328324</td>\n",
       "      <td>0.499991</td>\n",
       "      <td>0.835838</td>\n",
       "      <td>10.0</td>\n",
       "    </tr>\n",
       "    <tr>\n",
       "      <th>3</th>\n",
       "      <td>4</td>\n",
       "      <td>0.684211</td>\n",
       "      <td>logo_0</td>\n",
       "      <td>1.776278</td>\n",
       "      <td>8.866785</td>\n",
       "      <td>-2.770646</td>\n",
       "      <td>-0.955766</td>\n",
       "      <td>-4.725605</td>\n",
       "      <td>5.412009</td>\n",
       "      <td>0.597616</td>\n",
       "      <td>...</td>\n",
       "      <td>0.0</td>\n",
       "      <td>0.0</td>\n",
       "      <td>0.0</td>\n",
       "      <td>0.0</td>\n",
       "      <td>0.0</td>\n",
       "      <td>0.586900</td>\n",
       "      <td>0.315475</td>\n",
       "      <td>0.500106</td>\n",
       "      <td>0.170381</td>\n",
       "      <td>10.0</td>\n",
       "    </tr>\n",
       "    <tr>\n",
       "      <th>4</th>\n",
       "      <td>3</td>\n",
       "      <td>0.526316</td>\n",
       "      <td>logo_0</td>\n",
       "      <td>4.222565</td>\n",
       "      <td>-0.735711</td>\n",
       "      <td>5.308626</td>\n",
       "      <td>-0.090910</td>\n",
       "      <td>-4.875907</td>\n",
       "      <td>2.410124</td>\n",
       "      <td>0.314957</td>\n",
       "      <td>...</td>\n",
       "      <td>0.0</td>\n",
       "      <td>0.0</td>\n",
       "      <td>0.0</td>\n",
       "      <td>0.0</td>\n",
       "      <td>0.0</td>\n",
       "      <td>0.400206</td>\n",
       "      <td>0.472019</td>\n",
       "      <td>0.299897</td>\n",
       "      <td>0.564323</td>\n",
       "      <td>10.0</td>\n",
       "    </tr>\n",
       "  </tbody>\n",
       "</table>\n",
       "<p>5 rows × 39 columns</p>\n",
       "</div>"
      ],
      "text/plain": [
       "   animation_id   animate filename      emb_0      emb_1     emb_2     emb_3  \\\n",
       "0             5  0.578947   logo_0   6.032914  13.505794  1.009270 -2.116762   \n",
       "1             0  0.526316   logo_0  -1.000982   4.641413  1.455743 -0.487705   \n",
       "2             2  0.526316   logo_0  10.590673   0.533370  8.743198  0.241546   \n",
       "3             4  0.684211   logo_0   1.776278   8.866785 -2.770646 -0.955766   \n",
       "4             3  0.526316   logo_0   4.222565  -0.735711  5.308626 -0.090910   \n",
       "\n",
       "      emb_4     emb_5     emb_6  ...  diff_stroke_r  svg_stroke_g  \\\n",
       "0 -5.308783 -0.882996  0.776552  ...            0.0           0.0   \n",
       "1 -1.037431  6.984421 -0.485484  ...            0.0           0.0   \n",
       "2 -2.132272  0.620374  1.687153  ...            0.0           0.0   \n",
       "3 -4.725605  5.412009  0.597616  ...            0.0           0.0   \n",
       "4 -4.875907  2.410124  0.314957  ...            0.0           0.0   \n",
       "\n",
       "   diff_stroke_g  svg_stroke_b  diff_stroke_b  rel_width  rel_height  \\\n",
       "0            0.0           0.0            0.0   0.500000    0.671547   \n",
       "1            0.0           0.0            0.0   0.500000    0.671553   \n",
       "2            0.0           0.0            0.0   0.787194    0.328324   \n",
       "3            0.0           0.0            0.0   0.586900    0.315475   \n",
       "4            0.0           0.0            0.0   0.400206    0.472019   \n",
       "\n",
       "   rel_x_position  rel_y_position  nr_paths_svg  \n",
       "0        0.750000        0.335779          10.0  \n",
       "1        0.250000        0.335776          10.0  \n",
       "2        0.499991        0.835838          10.0  \n",
       "3        0.500106        0.170381          10.0  \n",
       "4        0.299897        0.564323          10.0  \n",
       "\n",
       "[5 rows x 39 columns]"
      ]
     },
     "execution_count": 5,
     "metadata": {},
     "output_type": "execute_result"
    }
   ],
   "source": [
    "new_df = pd.merge(target, X_train,  how='left', left_on=['filename','animation_id'], right_on=['filename','animation_id'])\n",
    "new_df.head(5)"
   ]
  },
  {
   "cell_type": "markdown",
   "metadata": {},
   "source": [
    "Delete rows in which we have NaN embeddings"
   ]
  },
  {
   "cell_type": "code",
   "execution_count": 6,
   "metadata": {},
   "outputs": [],
   "source": [
    "new_df = new_df.dropna(axis=0,thresh=4)"
   ]
  },
  {
   "cell_type": "markdown",
   "metadata": {},
   "source": [
    "Load Test data set and drop same features"
   ]
  },
  {
   "cell_type": "code",
   "execution_count": 7,
   "metadata": {},
   "outputs": [
    {
     "data": {
      "text/html": [
       "<div>\n",
       "<style scoped>\n",
       "    .dataframe tbody tr th:only-of-type {\n",
       "        vertical-align: middle;\n",
       "    }\n",
       "\n",
       "    .dataframe tbody tr th {\n",
       "        vertical-align: top;\n",
       "    }\n",
       "\n",
       "    .dataframe thead th {\n",
       "        text-align: right;\n",
       "    }\n",
       "</style>\n",
       "<table border=\"1\" class=\"dataframe\">\n",
       "  <thead>\n",
       "    <tr style=\"text-align: right;\">\n",
       "      <th></th>\n",
       "      <th>filename</th>\n",
       "      <th>animation_id</th>\n",
       "      <th>emb_0</th>\n",
       "      <th>emb_1</th>\n",
       "      <th>emb_2</th>\n",
       "      <th>emb_3</th>\n",
       "      <th>emb_4</th>\n",
       "      <th>emb_5</th>\n",
       "      <th>emb_6</th>\n",
       "      <th>emb_7</th>\n",
       "      <th>...</th>\n",
       "      <th>diff_stroke_r</th>\n",
       "      <th>svg_stroke_g</th>\n",
       "      <th>diff_stroke_g</th>\n",
       "      <th>svg_stroke_b</th>\n",
       "      <th>diff_stroke_b</th>\n",
       "      <th>rel_width</th>\n",
       "      <th>rel_height</th>\n",
       "      <th>rel_x_position</th>\n",
       "      <th>rel_y_position</th>\n",
       "      <th>nr_paths_svg</th>\n",
       "    </tr>\n",
       "  </thead>\n",
       "  <tbody>\n",
       "    <tr>\n",
       "      <th>0</th>\n",
       "      <td>logo_147</td>\n",
       "      <td>10</td>\n",
       "      <td>0.288970</td>\n",
       "      <td>-7.284798</td>\n",
       "      <td>1.094182</td>\n",
       "      <td>-4.437811</td>\n",
       "      <td>-0.352077</td>\n",
       "      <td>-0.933593</td>\n",
       "      <td>-0.200254</td>\n",
       "      <td>0.931484</td>\n",
       "      <td>...</td>\n",
       "      <td>141.538462</td>\n",
       "      <td>22.076923</td>\n",
       "      <td>134.923077</td>\n",
       "      <td>34.769231</td>\n",
       "      <td>121.230769</td>\n",
       "      <td>0.017877</td>\n",
       "      <td>0.111550</td>\n",
       "      <td>0.168001</td>\n",
       "      <td>0.084745</td>\n",
       "      <td>13</td>\n",
       "    </tr>\n",
       "    <tr>\n",
       "      <th>1</th>\n",
       "      <td>logo_147</td>\n",
       "      <td>0</td>\n",
       "      <td>-2.807291</td>\n",
       "      <td>-11.223132</td>\n",
       "      <td>3.151704</td>\n",
       "      <td>2.541029</td>\n",
       "      <td>-0.119346</td>\n",
       "      <td>0.909742</td>\n",
       "      <td>2.923519</td>\n",
       "      <td>-1.477561</td>\n",
       "      <td>...</td>\n",
       "      <td>-15.461538</td>\n",
       "      <td>22.076923</td>\n",
       "      <td>-22.076923</td>\n",
       "      <td>34.769231</td>\n",
       "      <td>-34.769231</td>\n",
       "      <td>0.077887</td>\n",
       "      <td>0.707306</td>\n",
       "      <td>0.038944</td>\n",
       "      <td>0.562185</td>\n",
       "      <td>13</td>\n",
       "    </tr>\n",
       "    <tr>\n",
       "      <th>2</th>\n",
       "      <td>logo_147</td>\n",
       "      <td>1</td>\n",
       "      <td>0.869143</td>\n",
       "      <td>-11.525720</td>\n",
       "      <td>-0.201577</td>\n",
       "      <td>3.906369</td>\n",
       "      <td>-2.661400</td>\n",
       "      <td>-0.757390</td>\n",
       "      <td>-0.195925</td>\n",
       "      <td>-0.380663</td>\n",
       "      <td>...</td>\n",
       "      <td>-15.461538</td>\n",
       "      <td>22.076923</td>\n",
       "      <td>-22.076923</td>\n",
       "      <td>34.769231</td>\n",
       "      <td>-34.769231</td>\n",
       "      <td>0.026691</td>\n",
       "      <td>0.467979</td>\n",
       "      <td>0.161487</td>\n",
       "      <td>0.450085</td>\n",
       "      <td>13</td>\n",
       "    </tr>\n",
       "    <tr>\n",
       "      <th>3</th>\n",
       "      <td>logo_147</td>\n",
       "      <td>12</td>\n",
       "      <td>9.519546</td>\n",
       "      <td>-1.598271</td>\n",
       "      <td>-4.577534</td>\n",
       "      <td>-2.522939</td>\n",
       "      <td>-0.754545</td>\n",
       "      <td>-0.054362</td>\n",
       "      <td>-1.478206</td>\n",
       "      <td>-1.002636</td>\n",
       "      <td>...</td>\n",
       "      <td>6.538462</td>\n",
       "      <td>22.076923</td>\n",
       "      <td>42.923077</td>\n",
       "      <td>34.769231</td>\n",
       "      <td>113.230769</td>\n",
       "      <td>0.057923</td>\n",
       "      <td>0.271332</td>\n",
       "      <td>0.502114</td>\n",
       "      <td>0.135666</td>\n",
       "      <td>13</td>\n",
       "    </tr>\n",
       "    <tr>\n",
       "      <th>4</th>\n",
       "      <td>logo_147</td>\n",
       "      <td>2</td>\n",
       "      <td>-0.253583</td>\n",
       "      <td>-11.400860</td>\n",
       "      <td>-0.170891</td>\n",
       "      <td>5.689338</td>\n",
       "      <td>-0.972701</td>\n",
       "      <td>1.972220</td>\n",
       "      <td>-0.119872</td>\n",
       "      <td>0.083583</td>\n",
       "      <td>...</td>\n",
       "      <td>-15.461538</td>\n",
       "      <td>22.076923</td>\n",
       "      <td>-22.076923</td>\n",
       "      <td>34.769231</td>\n",
       "      <td>-34.769231</td>\n",
       "      <td>0.050151</td>\n",
       "      <td>0.477448</td>\n",
       "      <td>0.113555</td>\n",
       "      <td>0.445340</td>\n",
       "      <td>13</td>\n",
       "    </tr>\n",
       "  </tbody>\n",
       "</table>\n",
       "<p>5 rows × 38 columns</p>\n",
       "</div>"
      ],
      "text/plain": [
       "   filename  animation_id     emb_0      emb_1     emb_2     emb_3     emb_4  \\\n",
       "0  logo_147            10  0.288970  -7.284798  1.094182 -4.437811 -0.352077   \n",
       "1  logo_147             0 -2.807291 -11.223132  3.151704  2.541029 -0.119346   \n",
       "2  logo_147             1  0.869143 -11.525720 -0.201577  3.906369 -2.661400   \n",
       "3  logo_147            12  9.519546  -1.598271 -4.577534 -2.522939 -0.754545   \n",
       "4  logo_147             2 -0.253583 -11.400860 -0.170891  5.689338 -0.972701   \n",
       "\n",
       "      emb_5     emb_6     emb_7  ...  diff_stroke_r  svg_stroke_g  \\\n",
       "0 -0.933593 -0.200254  0.931484  ...     141.538462     22.076923   \n",
       "1  0.909742  2.923519 -1.477561  ...     -15.461538     22.076923   \n",
       "2 -0.757390 -0.195925 -0.380663  ...     -15.461538     22.076923   \n",
       "3 -0.054362 -1.478206 -1.002636  ...       6.538462     22.076923   \n",
       "4  1.972220 -0.119872  0.083583  ...     -15.461538     22.076923   \n",
       "\n",
       "   diff_stroke_g  svg_stroke_b  diff_stroke_b  rel_width  rel_height  \\\n",
       "0     134.923077     34.769231     121.230769   0.017877    0.111550   \n",
       "1     -22.076923     34.769231     -34.769231   0.077887    0.707306   \n",
       "2     -22.076923     34.769231     -34.769231   0.026691    0.467979   \n",
       "3      42.923077     34.769231     113.230769   0.057923    0.271332   \n",
       "4     -22.076923     34.769231     -34.769231   0.050151    0.477448   \n",
       "\n",
       "   rel_x_position  rel_y_position  nr_paths_svg  \n",
       "0        0.168001        0.084745            13  \n",
       "1        0.038944        0.562185            13  \n",
       "2        0.161487        0.450085            13  \n",
       "3        0.502114        0.135666            13  \n",
       "4        0.113555        0.445340            13  \n",
       "\n",
       "[5 rows x 38 columns]"
      ]
     },
     "execution_count": 7,
     "metadata": {},
     "output_type": "execute_result"
    }
   ],
   "source": [
    "X_test = pd.read_csv(\"data/model_1/model_1_test.csv\")\n",
    "X_test = X_test.drop(\"Unnamed: 0\",axis=1)\n",
    "X_test.head()"
   ]
  },
  {
   "cell_type": "code",
   "execution_count": 8,
   "metadata": {},
   "outputs": [
    {
     "data": {
      "text/html": [
       "<div>\n",
       "<style scoped>\n",
       "    .dataframe tbody tr th:only-of-type {\n",
       "        vertical-align: middle;\n",
       "    }\n",
       "\n",
       "    .dataframe tbody tr th {\n",
       "        vertical-align: top;\n",
       "    }\n",
       "\n",
       "    .dataframe thead th {\n",
       "        text-align: right;\n",
       "    }\n",
       "</style>\n",
       "<table border=\"1\" class=\"dataframe\">\n",
       "  <thead>\n",
       "    <tr style=\"text-align: right;\">\n",
       "      <th></th>\n",
       "      <th>animation_id</th>\n",
       "      <th>animate</th>\n",
       "      <th>filename</th>\n",
       "      <th>emb_0</th>\n",
       "      <th>emb_1</th>\n",
       "      <th>emb_2</th>\n",
       "      <th>emb_3</th>\n",
       "      <th>emb_4</th>\n",
       "      <th>emb_5</th>\n",
       "      <th>emb_6</th>\n",
       "      <th>...</th>\n",
       "      <th>diff_stroke_r</th>\n",
       "      <th>svg_stroke_g</th>\n",
       "      <th>diff_stroke_g</th>\n",
       "      <th>svg_stroke_b</th>\n",
       "      <th>diff_stroke_b</th>\n",
       "      <th>rel_width</th>\n",
       "      <th>rel_height</th>\n",
       "      <th>rel_x_position</th>\n",
       "      <th>rel_y_position</th>\n",
       "      <th>nr_paths_svg</th>\n",
       "    </tr>\n",
       "  </thead>\n",
       "  <tbody>\n",
       "    <tr>\n",
       "      <th>1150</th>\n",
       "      <td>11</td>\n",
       "      <td>1.0</td>\n",
       "      <td>logo_147</td>\n",
       "      <td>8.631416</td>\n",
       "      <td>-4.865439</td>\n",
       "      <td>-3.530718</td>\n",
       "      <td>7.273989</td>\n",
       "      <td>-0.570165</td>\n",
       "      <td>1.089548</td>\n",
       "      <td>-2.160627</td>\n",
       "      <td>...</td>\n",
       "      <td>6.538462</td>\n",
       "      <td>22.076923</td>\n",
       "      <td>42.923077</td>\n",
       "      <td>34.769231</td>\n",
       "      <td>113.230769</td>\n",
       "      <td>0.181234</td>\n",
       "      <td>0.799582</td>\n",
       "      <td>0.414369</td>\n",
       "      <td>0.600209</td>\n",
       "      <td>13.0</td>\n",
       "    </tr>\n",
       "    <tr>\n",
       "      <th>1151</th>\n",
       "      <td>3</td>\n",
       "      <td>0.0</td>\n",
       "      <td>logo_147</td>\n",
       "      <td>4.143114</td>\n",
       "      <td>-9.390166</td>\n",
       "      <td>-2.863680</td>\n",
       "      <td>9.640171</td>\n",
       "      <td>-2.305684</td>\n",
       "      <td>3.560657</td>\n",
       "      <td>0.598082</td>\n",
       "      <td>...</td>\n",
       "      <td>-15.461538</td>\n",
       "      <td>22.076923</td>\n",
       "      <td>-22.076923</td>\n",
       "      <td>34.769231</td>\n",
       "      <td>-34.769231</td>\n",
       "      <td>0.119033</td>\n",
       "      <td>0.477738</td>\n",
       "      <td>0.247479</td>\n",
       "      <td>0.445206</td>\n",
       "      <td>13.0</td>\n",
       "    </tr>\n",
       "    <tr>\n",
       "      <th>1152</th>\n",
       "      <td>5</td>\n",
       "      <td>0.0</td>\n",
       "      <td>logo_147</td>\n",
       "      <td>19.417316</td>\n",
       "      <td>7.030688</td>\n",
       "      <td>-7.839398</td>\n",
       "      <td>0.146505</td>\n",
       "      <td>0.820325</td>\n",
       "      <td>0.368229</td>\n",
       "      <td>2.514925</td>\n",
       "      <td>...</td>\n",
       "      <td>-15.461538</td>\n",
       "      <td>22.076923</td>\n",
       "      <td>-22.076923</td>\n",
       "      <td>34.769231</td>\n",
       "      <td>-34.769231</td>\n",
       "      <td>0.077890</td>\n",
       "      <td>0.707295</td>\n",
       "      <td>0.848451</td>\n",
       "      <td>0.562168</td>\n",
       "      <td>13.0</td>\n",
       "    </tr>\n",
       "    <tr>\n",
       "      <th>1153</th>\n",
       "      <td>4</td>\n",
       "      <td>0.0</td>\n",
       "      <td>logo_147</td>\n",
       "      <td>13.620035</td>\n",
       "      <td>-0.552860</td>\n",
       "      <td>-6.612630</td>\n",
       "      <td>0.734536</td>\n",
       "      <td>-0.983774</td>\n",
       "      <td>0.265629</td>\n",
       "      <td>2.682790</td>\n",
       "      <td>...</td>\n",
       "      <td>-15.461538</td>\n",
       "      <td>22.076923</td>\n",
       "      <td>-22.076923</td>\n",
       "      <td>34.769231</td>\n",
       "      <td>-34.769231</td>\n",
       "      <td>0.077891</td>\n",
       "      <td>0.707306</td>\n",
       "      <td>0.600244</td>\n",
       "      <td>0.562174</td>\n",
       "      <td>13.0</td>\n",
       "    </tr>\n",
       "    <tr>\n",
       "      <th>1154</th>\n",
       "      <td>0</td>\n",
       "      <td>0.0</td>\n",
       "      <td>logo_147</td>\n",
       "      <td>-2.807291</td>\n",
       "      <td>-11.223132</td>\n",
       "      <td>3.151704</td>\n",
       "      <td>2.541029</td>\n",
       "      <td>-0.119346</td>\n",
       "      <td>0.909742</td>\n",
       "      <td>2.923519</td>\n",
       "      <td>...</td>\n",
       "      <td>-15.461538</td>\n",
       "      <td>22.076923</td>\n",
       "      <td>-22.076923</td>\n",
       "      <td>34.769231</td>\n",
       "      <td>-34.769231</td>\n",
       "      <td>0.077887</td>\n",
       "      <td>0.707306</td>\n",
       "      <td>0.038944</td>\n",
       "      <td>0.562185</td>\n",
       "      <td>13.0</td>\n",
       "    </tr>\n",
       "  </tbody>\n",
       "</table>\n",
       "<p>5 rows × 39 columns</p>\n",
       "</div>"
      ],
      "text/plain": [
       "      animation_id  animate  filename      emb_0      emb_1     emb_2  \\\n",
       "1150            11      1.0  logo_147   8.631416  -4.865439 -3.530718   \n",
       "1151             3      0.0  logo_147   4.143114  -9.390166 -2.863680   \n",
       "1152             5      0.0  logo_147  19.417316   7.030688 -7.839398   \n",
       "1153             4      0.0  logo_147  13.620035  -0.552860 -6.612630   \n",
       "1154             0      0.0  logo_147  -2.807291 -11.223132  3.151704   \n",
       "\n",
       "         emb_3     emb_4     emb_5     emb_6  ...  diff_stroke_r  \\\n",
       "1150  7.273989 -0.570165  1.089548 -2.160627  ...       6.538462   \n",
       "1151  9.640171 -2.305684  3.560657  0.598082  ...     -15.461538   \n",
       "1152  0.146505  0.820325  0.368229  2.514925  ...     -15.461538   \n",
       "1153  0.734536 -0.983774  0.265629  2.682790  ...     -15.461538   \n",
       "1154  2.541029 -0.119346  0.909742  2.923519  ...     -15.461538   \n",
       "\n",
       "      svg_stroke_g  diff_stroke_g  svg_stroke_b  diff_stroke_b  rel_width  \\\n",
       "1150     22.076923      42.923077     34.769231     113.230769   0.181234   \n",
       "1151     22.076923     -22.076923     34.769231     -34.769231   0.119033   \n",
       "1152     22.076923     -22.076923     34.769231     -34.769231   0.077890   \n",
       "1153     22.076923     -22.076923     34.769231     -34.769231   0.077891   \n",
       "1154     22.076923     -22.076923     34.769231     -34.769231   0.077887   \n",
       "\n",
       "      rel_height  rel_x_position  rel_y_position  nr_paths_svg  \n",
       "1150    0.799582        0.414369        0.600209          13.0  \n",
       "1151    0.477738        0.247479        0.445206          13.0  \n",
       "1152    0.707295        0.848451        0.562168          13.0  \n",
       "1153    0.707306        0.600244        0.562174          13.0  \n",
       "1154    0.707306        0.038944        0.562185          13.0  \n",
       "\n",
       "[5 rows x 39 columns]"
      ]
     },
     "execution_count": 8,
     "metadata": {},
     "output_type": "execute_result"
    }
   ],
   "source": [
    "test_df = pd.merge(target, X_test,  how='left', left_on=['filename','animation_id'], right_on=['filename','animation_id'])\n",
    "test_df = test_df.dropna(axis=0, thresh=4)\n",
    "test_df.head()"
   ]
  },
  {
   "cell_type": "markdown",
   "metadata": {},
   "source": [
    "### 2. Feature Selection"
   ]
  },
  {
   "cell_type": "markdown",
   "metadata": {},
   "source": [
    "We want to take a look on the correlation matrix to identify features which can be excluded upfront."
   ]
  },
  {
   "cell_type": "code",
   "execution_count": 9,
   "metadata": {},
   "outputs": [
    {
     "name": "stderr",
     "output_type": "stream",
     "text": [
      "C:\\Users\\sarah\\Anaconda3\\lib\\site-packages\\ipykernel_launcher.py:4: UserWarning: Matplotlib is currently using module://ipykernel.pylab.backend_inline, which is a non-GUI backend, so cannot show the figure.\n",
      "  after removing the cwd from sys.path.\n"
     ]
    },
    {
     "data": {
      "image/png": "[encoded data removed]",
      "text/plain": [
       "<Figure size 1008x648 with 2 Axes>"
      ]
     },
     "metadata": {
      "needs_background": "light"
     },
     "output_type": "display_data"
    }
   ],
   "source": [
    "corrMatrix = new_df.corr()\n",
    "f = plt.figure(figsize=(14, 9))\n",
    "sn.heatmap(corrMatrix, annot=False)\n",
    "f.show()"
   ]
  },
  {
   "cell_type": "markdown",
   "metadata": {},
   "source": [
    "Since both _opacity_ and _stroke_opacity_ are always of value *one* we exclude them."
   ]
  },
  {
   "cell_type": "code",
   "execution_count": 10,
   "metadata": {},
   "outputs": [],
   "source": [
    "new_df = new_df.drop(['opacity','stroke_opacity'], axis=1, errors='ignore')\n",
    "test_df = test_df.drop(['opacity','stroke_opacity'], axis= 1, errors='ignore')"
   ]
  },
  {
   "cell_type": "markdown",
   "metadata": {},
   "source": [
    "Also exclude stroke attributes because they are mostly not given."
   ]
  },
  {
   "cell_type": "code",
   "execution_count": 11,
   "metadata": {},
   "outputs": [],
   "source": [
    "new_df = new_df.drop(['stroke_r','stroke_g', 'stroke_b', 'stroke_width'], axis= 1, errors='ignore')\n",
    "new_df = new_df.drop(['svg_stroke_r', 'diff_stroke_r'], axis= 1, errors='ignore')\n",
    "new_df = new_df.drop(['svg_stroke_g', 'diff_stroke_g'], axis= 1, errors='ignore')\n",
    "new_df = new_df.drop(['svg_stroke_b', 'diff_stroke_b'], axis= 1, errors='ignore')\n",
    "\n",
    "test_df = test_df.drop(['stroke_r','stroke_g', 'stroke_b', 'stroke_width'], axis= 1, errors='ignore')\n",
    "test_df = test_df.drop(['svg_stroke_r', 'diff_stroke_r'], axis= 1, errors='ignore')\n",
    "test_df = test_df.drop(['svg_stroke_g', 'diff_stroke_g'], axis= 1, errors='ignore')\n",
    "test_df = test_df.drop(['svg_stroke_b', 'diff_stroke_b'], axis= 1, errors='ignore')"
   ]
  },
  {
   "cell_type": "markdown",
   "metadata": {},
   "source": [
    "Check for features that have a to high correlation."
   ]
  },
  {
   "cell_type": "code",
   "execution_count": 12,
   "metadata": {},
   "outputs": [
    {
     "name": "stdout",
     "output_type": "stream",
     "text": [
      "The following features are correlated: svg_fill_b and svg_fill_g. Correlation = 0.82\n",
      "The following features are correlated: rel_x_position and emb_0. Correlation = 0.95\n",
      "The following features are correlated: rel_y_position and emb_0. Correlation = 0.85\n",
      "Drop the following features: {'rel_y_position', 'svg_fill_b', 'rel_x_position'}\n"
     ]
    }
   ],
   "source": [
    "correlated_features = set()\n",
    "correlation_matrix = new_df.corr()\n",
    "\n",
    "for i in range(len(correlation_matrix.columns)):\n",
    "    for j in range(i):\n",
    "        if abs(correlation_matrix.iloc[i, j]) > 0.8:\n",
    "            print(f\"The following features are correlated: {correlation_matrix.columns[i]} and {correlation_matrix.columns[j]}. Correlation = {round(abs(correlation_matrix.iloc[i, j]),2)}\")\n",
    "            colname = correlation_matrix.columns[i]\n",
    "            correlated_features.add(colname)\n",
    "\n",
    "print(f\"Drop the following features: {correlated_features}\")\n",
    "#corr_features = list(correlated_features)\n",
    "#test_df = test_df.drop(corr_features, axis=1, errors='ignore')\n",
    "#new_df = new_df.drop(corr_features, axis=1, errors='ignore')"
   ]
  },
  {
   "cell_type": "markdown",
   "metadata": {},
   "source": [
    "Animation ID is only an identifier and is excluded later. Only drop rel_x_position for logistic regression (is done later). Decision Trees are not affected by multicollinearity in features."
   ]
  },
  {
   "cell_type": "markdown",
   "metadata": {},
   "source": [
    "### 3. Preprocessing"
   ]
  },
  {
   "cell_type": "markdown",
   "metadata": {},
   "source": [
    "Add function that replaces animate decision with binary integrer values"
   ]
  },
  {
   "cell_type": "code",
   "execution_count": 13,
   "metadata": {},
   "outputs": [],
   "source": [
    "new_df['animate']=[0 if x < 0.5 else 1 for x in new_df['animate']]\n",
    "test_df['animate']=[0 if x < 0.5 else 1 for x in test_df['animate']]"
   ]
  },
  {
   "cell_type": "markdown",
   "metadata": {},
   "source": [
    "#### Perform split between features and target"
   ]
  },
  {
   "cell_type": "code",
   "execution_count": 14,
   "metadata": {},
   "outputs": [],
   "source": [
    "x_train = new_df.drop(['filename','animation_id','animate'], axis=1, errors='ignore')\n",
    "y_train = new_df['animate']\n",
    "x_test = test_df.drop(['filename','animation_id','animate'], axis=1, errors='ignore')\n",
    "y_test = test_df['animate']"
   ]
  },
  {
   "cell_type": "markdown",
   "metadata": {},
   "source": [
    "### 4. Implement models"
   ]
  },
  {
   "cell_type": "markdown",
   "metadata": {},
   "source": [
    "#### 4.1 Random Forest"
   ]
  },
  {
   "cell_type": "markdown",
   "metadata": {},
   "source": [
    "#### Randomized search on hyperparameters"
   ]
  },
  {
   "cell_type": "code",
   "execution_count": 25,
   "metadata": {},
   "outputs": [
    {
     "name": "stdout",
     "output_type": "stream",
     "text": [
      "{'bootstrap': [True, False],\n",
      " 'max_depth': [50, 70, 90, 110, None],\n",
      " 'max_features': ['auto', 'log2'],\n",
      " 'min_samples_leaf': [1, 2, 4],\n",
      " 'min_samples_split': [5, 10],\n",
      " 'n_estimators': [200, 225, 250, 275, 300]}\n"
     ]
    }
   ],
   "source": [
    "# Number of trees in random forest\n",
    "n_estimators = [int(x) for x in np.linspace(start=200, stop=300, num=5)]\n",
    "# Number of features to consider at every split\n",
    "max_features = ['auto', 'log2']\n",
    "# Maximum number of levels in tree\n",
    "max_depth = [int(x) for x in np.linspace(50, 110, num=4)]\n",
    "max_depth.append(None)\n",
    "# Minimum number of samples required to split a node\n",
    "min_samples_split = [5, 10]\n",
    "# Minimum number of samples required at each leaf node\n",
    "min_samples_leaf = [1, 2, 4]\n",
    "# Method of selecting samples for training each tree\n",
    "bootstrap = [True, False]\n",
    "# Create the random grid\n",
    "random_grid = {'n_estimators': n_estimators,\n",
    "               'max_features': max_features,\n",
    "               'max_depth': max_depth,\n",
    "               'min_samples_split': min_samples_split,\n",
    "               'min_samples_leaf': min_samples_leaf,\n",
    "               'bootstrap': bootstrap}\n",
    "pprint(random_grid)"
   ]
  },
  {
   "cell_type": "code",
   "execution_count": 26,
   "metadata": {},
   "outputs": [
    {
     "name": "stdout",
     "output_type": "stream",
     "text": [
      "Fitting 5 folds for each of 10 candidates, totalling 50 fits\n",
      "[CV] END bootstrap=True, max_depth=70, max_features=log2, min_samples_leaf=4, min_samples_split=5, n_estimators=200; total time=   0.6s\n",
      "[CV] END bootstrap=True, max_depth=70, max_features=log2, min_samples_leaf=4, min_samples_split=5, n_estimators=200; total time=   0.7s\n",
      "[CV] END bootstrap=True, max_depth=70, max_features=log2, min_samples_leaf=4, min_samples_split=5, n_estimators=200; total time=   0.7s\n",
      "[CV] END bootstrap=True, max_depth=70, max_features=log2, min_samples_leaf=4, min_samples_split=5, n_estimators=200; total time=   0.7s\n",
      "[CV] END bootstrap=True, max_depth=70, max_features=log2, min_samples_leaf=4, min_samples_split=5, n_estimators=200; total time=   0.8s\n",
      "[CV] END bootstrap=False, max_depth=70, max_features=log2, min_samples_leaf=4, min_samples_split=10, n_estimators=300; total time=   1.7s\n",
      "[CV] END bootstrap=False, max_depth=70, max_features=log2, min_samples_leaf=4, min_samples_split=10, n_estimators=300; total time=   1.6s\n",
      "[CV] END bootstrap=False, max_depth=70, max_features=log2, min_samples_leaf=4, min_samples_split=10, n_estimators=300; total time=   1.7s\n",
      "[CV] END bootstrap=False, max_depth=70, max_features=log2, min_samples_leaf=4, min_samples_split=10, n_estimators=300; total time=   1.8s\n",
      "[CV] END bootstrap=False, max_depth=70, max_features=log2, min_samples_leaf=4, min_samples_split=10, n_estimators=300; total time=   1.7s\n",
      "[CV] END bootstrap=False, max_depth=None, max_features=auto, min_samples_leaf=4, min_samples_split=10, n_estimators=200; total time=   1.1s\n",
      "[CV] END bootstrap=False, max_depth=None, max_features=auto, min_samples_leaf=4, min_samples_split=10, n_estimators=200; total time=   1.1s\n",
      "[CV] END bootstrap=False, max_depth=None, max_features=auto, min_samples_leaf=4, min_samples_split=10, n_estimators=200; total time=   1.1s\n",
      "[CV] END bootstrap=False, max_depth=None, max_features=auto, min_samples_leaf=4, min_samples_split=10, n_estimators=200; total time=   1.1s\n",
      "[CV] END bootstrap=False, max_depth=None, max_features=auto, min_samples_leaf=4, min_samples_split=10, n_estimators=200; total time=   1.1s\n",
      "[CV] END bootstrap=True, max_depth=70, max_features=auto, min_samples_leaf=2, min_samples_split=10, n_estimators=250; total time=   0.9s\n",
      "[CV] END bootstrap=True, max_depth=70, max_features=auto, min_samples_leaf=2, min_samples_split=10, n_estimators=250; total time=   0.9s\n",
      "[CV] END bootstrap=True, max_depth=70, max_features=auto, min_samples_leaf=2, min_samples_split=10, n_estimators=250; total time=   0.9s\n",
      "[CV] END bootstrap=True, max_depth=70, max_features=auto, min_samples_leaf=2, min_samples_split=10, n_estimators=250; total time=   0.9s\n",
      "[CV] END bootstrap=True, max_depth=70, max_features=auto, min_samples_leaf=2, min_samples_split=10, n_estimators=250; total time=   1.0s\n",
      "[CV] END bootstrap=True, max_depth=110, max_features=auto, min_samples_leaf=1, min_samples_split=5, n_estimators=225; total time=   0.8s\n",
      "[CV] END bootstrap=True, max_depth=110, max_features=auto, min_samples_leaf=1, min_samples_split=5, n_estimators=225; total time=   0.8s\n",
      "[CV] END bootstrap=True, max_depth=110, max_features=auto, min_samples_leaf=1, min_samples_split=5, n_estimators=225; total time=   0.8s\n",
      "[CV] END bootstrap=True, max_depth=110, max_features=auto, min_samples_leaf=1, min_samples_split=5, n_estimators=225; total time=   0.8s\n",
      "[CV] END bootstrap=True, max_depth=110, max_features=auto, min_samples_leaf=1, min_samples_split=5, n_estimators=225; total time=   0.8s\n",
      "[CV] END bootstrap=True, max_depth=None, max_features=log2, min_samples_leaf=2, min_samples_split=5, n_estimators=300; total time=   1.1s\n",
      "[CV] END bootstrap=True, max_depth=None, max_features=log2, min_samples_leaf=2, min_samples_split=5, n_estimators=300; total time=   1.1s\n",
      "[CV] END bootstrap=True, max_depth=None, max_features=log2, min_samples_leaf=2, min_samples_split=5, n_estimators=300; total time=   1.2s\n",
      "[CV] END bootstrap=True, max_depth=None, max_features=log2, min_samples_leaf=2, min_samples_split=5, n_estimators=300; total time=   1.2s\n",
      "[CV] END bootstrap=True, max_depth=None, max_features=log2, min_samples_leaf=2, min_samples_split=5, n_estimators=300; total time=   1.1s\n",
      "[CV] END bootstrap=True, max_depth=50, max_features=auto, min_samples_leaf=2, min_samples_split=5, n_estimators=200; total time=   0.7s\n",
      "[CV] END bootstrap=True, max_depth=50, max_features=auto, min_samples_leaf=2, min_samples_split=5, n_estimators=200; total time=   0.7s\n",
      "[CV] END bootstrap=True, max_depth=50, max_features=auto, min_samples_leaf=2, min_samples_split=5, n_estimators=200; total time=   0.7s\n",
      "[CV] END bootstrap=True, max_depth=50, max_features=auto, min_samples_leaf=2, min_samples_split=5, n_estimators=200; total time=   0.7s\n",
      "[CV] END bootstrap=True, max_depth=50, max_features=auto, min_samples_leaf=2, min_samples_split=5, n_estimators=200; total time=   0.7s\n",
      "[CV] END bootstrap=False, max_depth=90, max_features=log2, min_samples_leaf=2, min_samples_split=10, n_estimators=300; total time=   1.7s\n",
      "[CV] END bootstrap=False, max_depth=90, max_features=log2, min_samples_leaf=2, min_samples_split=10, n_estimators=300; total time=   1.6s\n",
      "[CV] END bootstrap=False, max_depth=90, max_features=log2, min_samples_leaf=2, min_samples_split=10, n_estimators=300; total time=   1.7s\n",
      "[CV] END bootstrap=False, max_depth=90, max_features=log2, min_samples_leaf=2, min_samples_split=10, n_estimators=300; total time=   1.8s\n",
      "[CV] END bootstrap=False, max_depth=90, max_features=log2, min_samples_leaf=2, min_samples_split=10, n_estimators=300; total time=   1.8s\n",
      "[CV] END bootstrap=True, max_depth=70, max_features=auto, min_samples_leaf=2, min_samples_split=10, n_estimators=275; total time=   1.0s\n",
      "[CV] END bootstrap=True, max_depth=70, max_features=auto, min_samples_leaf=2, min_samples_split=10, n_estimators=275; total time=   1.0s\n",
      "[CV] END bootstrap=True, max_depth=70, max_features=auto, min_samples_leaf=2, min_samples_split=10, n_estimators=275; total time=   1.0s\n",
      "[CV] END bootstrap=True, max_depth=70, max_features=auto, min_samples_leaf=2, min_samples_split=10, n_estimators=275; total time=   1.1s\n",
      "[CV] END bootstrap=True, max_depth=70, max_features=auto, min_samples_leaf=2, min_samples_split=10, n_estimators=275; total time=   1.1s\n",
      "[CV] END bootstrap=False, max_depth=50, max_features=log2, min_samples_leaf=2, min_samples_split=10, n_estimators=300; total time=   1.7s\n",
      "[CV] END bootstrap=False, max_depth=50, max_features=log2, min_samples_leaf=2, min_samples_split=10, n_estimators=300; total time=   1.6s\n",
      "[CV] END bootstrap=False, max_depth=50, max_features=log2, min_samples_leaf=2, min_samples_split=10, n_estimators=300; total time=   1.7s\n",
      "[CV] END bootstrap=False, max_depth=50, max_features=log2, min_samples_leaf=2, min_samples_split=10, n_estimators=300; total time=   1.7s\n",
      "[CV] END bootstrap=False, max_depth=50, max_features=log2, min_samples_leaf=2, min_samples_split=10, n_estimators=300; total time=   1.8s\n"
     ]
    },
    {
     "data": {
      "text/plain": [
       "RandomizedSearchCV(cv=5, estimator=RandomForestClassifier(),\n",
       "                   param_distributions={'bootstrap': [True, False],\n",
       "                                        'max_depth': [50, 70, 90, 110, None],\n",
       "                                        'max_features': ['auto', 'log2'],\n",
       "                                        'min_samples_leaf': [1, 2, 4],\n",
       "                                        'min_samples_split': [5, 10],\n",
       "                                        'n_estimators': [200, 225, 250, 275,\n",
       "                                                         300]},\n",
       "                   random_state=42, verbose=2)"
      ]
     },
     "execution_count": 26,
     "metadata": {},
     "output_type": "execute_result"
    }
   ],
   "source": [
    "# Use the random grid to search for best hyperparameters\n",
    "# First create the base model to tune\n",
    "rf = RandomForestClassifier()\n",
    "# Random search of parameters, using 5 fold cross validation, search across 100 different combinations\n",
    "rf_random = RandomizedSearchCV(estimator=rf, param_distributions=random_grid, n_iter=10, cv=5, verbose=2, random_state=42)\n",
    "# Fit the random search model\n",
    "rf_random.fit(x_train, y_train)"
   ]
  },
  {
   "cell_type": "code",
   "execution_count": 27,
   "metadata": {},
   "outputs": [
    {
     "data": {
      "text/plain": [
       "{'n_estimators': 200,\n",
       " 'min_samples_split': 5,\n",
       " 'min_samples_leaf': 2,\n",
       " 'max_features': 'auto',\n",
       " 'max_depth': 50,\n",
       " 'bootstrap': True}"
      ]
     },
     "execution_count": 27,
     "metadata": {},
     "output_type": "execute_result"
    }
   ],
   "source": [
    "rf_random.best_params_"
   ]
  },
  {
   "cell_type": "code",
   "execution_count": 29,
   "metadata": {},
   "outputs": [
    {
     "name": "stdout",
     "output_type": "stream",
     "text": [
      "Accuracy of random forest classifier on test set without hyperparameter optimization: 0.9290882778581766\n"
     ]
    }
   ],
   "source": [
    "base_model = RandomForestClassifier(n_estimators = 10, random_state = 42)\n",
    "base_model.fit(x_train, y_train)\n",
    "y_pred = base_model.predict(x_test)\n",
    "print(f'Accuracy of random forest classifier on test set without hyperparameter optimization: {base_model.score(x_test, y_test)}')"
   ]
  },
  {
   "cell_type": "code",
   "execution_count": 28,
   "metadata": {},
   "outputs": [
    {
     "name": "stdout",
     "output_type": "stream",
     "text": [
      "Accuracy of random forest classifier on test set with hyperparameter optimization: 0.9392185238784371\n"
     ]
    }
   ],
   "source": [
    "best_random = rf_random.best_estimator_\n",
    "best_random.fit(x_train, y_train)\n",
    "y_pred = best_random.predict(x_test)\n",
    "print(f'Accuracy of random forest classifier on test set with hyperparameter optimization: {best_random.score(x_test, y_test)}')"
   ]
  },
  {
   "cell_type": "code",
   "execution_count": 30,
   "metadata": {},
   "outputs": [],
   "source": [
    "# save model\n",
    "filename = 'models/model_1_random_forest.sav'\n",
    "pickle.dump(best_random, open(filename, 'wb'))"
   ]
  },
  {
   "cell_type": "code",
   "execution_count": 40,
   "metadata": {},
   "outputs": [],
   "source": [
    "# load model\n",
    "#loaded_model = pickle.load(open('models/model_1_random_forest.sav', 'rb'))\n",
    "#y_pred = loaded_model.predict(x_test)\n",
    "#result = loaded_model.score(x_test, y_test)\n",
    "#print(result)"
   ]
  },
  {
   "cell_type": "code",
   "execution_count": 19,
   "metadata": {},
   "outputs": [
    {
     "name": "stdout",
     "output_type": "stream",
     "text": [
      "              precision    recall  f1-score   support\n",
      "\n",
      "           0       0.93      0.96      0.95       267\n",
      "           1       0.87      0.80      0.83        91\n",
      "\n",
      "    accuracy                           0.92       358\n",
      "   macro avg       0.90      0.88      0.89       358\n",
      "weighted avg       0.92      0.92      0.92       358\n",
      "\n"
     ]
    }
   ],
   "source": [
    "print(classification_report(y_test, y_pred))"
   ]
  },
  {
   "cell_type": "code",
   "execution_count": null,
   "metadata": {},
   "outputs": [],
   "source": []
  },
  {
   "cell_type": "markdown",
   "metadata": {},
   "source": [
    "#### 4.2 Extra Trees Classifier"
   ]
  },
  {
   "cell_type": "code",
   "execution_count": 16,
   "metadata": {},
   "outputs": [
    {
     "data": {
      "text/plain": [
       "ExtraTreesClassifier(random_state=17)"
      ]
     },
     "execution_count": 16,
     "metadata": {},
     "output_type": "execute_result"
    }
   ],
   "source": [
    "et = ExtraTreesClassifier(random_state=17)\n",
    "et.fit(x_train, y_train)"
   ]
  },
  {
   "cell_type": "code",
   "execution_count": 17,
   "metadata": {},
   "outputs": [
    {
     "name": "stdout",
     "output_type": "stream",
     "text": [
      "Accuracy of extra trees classifier on test set: 0.94\n"
     ]
    }
   ],
   "source": [
    "# 0.94\n",
    "y_pred = et.predict(x_test)\n",
    "print('Accuracy of extra trees classifier on test set: {:.2f}'.format(et.score(x_test, y_test)))"
   ]
  },
  {
   "cell_type": "code",
   "execution_count": 18,
   "metadata": {},
   "outputs": [
    {
     "name": "stdout",
     "output_type": "stream",
     "text": [
      "              precision    recall  f1-score   support\n",
      "\n",
      "           0       0.97      0.96      0.96       525\n",
      "           1       0.88      0.89      0.88       166\n",
      "\n",
      "    accuracy                           0.94       691\n",
      "   macro avg       0.92      0.93      0.92       691\n",
      "weighted avg       0.94      0.94      0.94       691\n",
      "\n"
     ]
    }
   ],
   "source": [
    "print(classification_report(y_test, y_pred))"
   ]
  },
  {
   "cell_type": "code",
   "execution_count": 19,
   "metadata": {},
   "outputs": [
    {
     "name": "stdout",
     "output_type": "stream",
     "text": [
      "Feature ranking:\n",
      "1. feature 19: rel_width (9.17%)\n",
      "2. feature 10: fill_r (8.54%)\n",
      "3. feature 5: emb_5 (7.42%)\n",
      "4. feature 14: diff_fill_r (6.99%)\n",
      "5. feature 22: rel_y_position (6.7%)\n",
      "6. feature 16: diff_fill_g (6.39%)\n",
      "7. feature 11: fill_g (5.43%)\n",
      "8. feature 21: rel_x_position (4.94%)\n",
      "9. feature 12: fill_b (4.37%)\n",
      "10. feature 18: diff_fill_b (4.2%)\n",
      "11. feature 13: svg_fill_r (3.9%)\n",
      "12. feature 20: rel_height (3.8%)\n",
      "13. feature 17: svg_fill_b (3.73%)\n",
      "14. feature 23: nr_paths_svg (3.62%)\n",
      "15. feature 15: svg_fill_g (3.61%)\n",
      "16. feature 0: emb_0 (2.78%)\n",
      "17. feature 8: emb_8 (2.41%)\n",
      "18. feature 2: emb_2 (2.31%)\n",
      "19. feature 3: emb_3 (2.08%)\n",
      "20. feature 6: emb_6 (1.76%)\n",
      "21. feature 1: emb_1 (1.58%)\n",
      "22. feature 7: emb_7 (1.57%)\n",
      "23. feature 4: emb_4 (1.47%)\n",
      "24. feature 9: emb_9 (1.22%)\n"
     ]
    },
    {
     "data": {
      "image/png": "[encoded data removed]",
      "text/plain": [
       "<Figure size 432x288 with 1 Axes>"
      ]
     },
     "metadata": {
      "needs_background": "light"
     },
     "output_type": "display_data"
    }
   ],
   "source": [
    "importances = et.feature_importances_\n",
    "std = np.std([tree.feature_importances_ for tree in et.estimators_], axis=0)\n",
    "indices = np.argsort(importances)[::-1]\n",
    "\n",
    "# Print the feature ranking\n",
    "print(\"Feature ranking:\")\n",
    "\n",
    "for f in range(x_train.shape[1]):\n",
    "    print(f\"{f+1}. feature {indices[f]}: {x_train.columns[indices[f]]} ({round(importances[indices[f]]*100,2)}%)\")\n",
    "\n",
    "# Plot the impurity-based feature importances of the forest\n",
    "plt.figure()\n",
    "plt.title(\"Feature importances\")\n",
    "plt.bar(range(x_train.shape[1]), importances[indices], color=\"r\", yerr=std[indices], align=\"center\")\n",
    "plt.xticks(range(x_train.shape[1]), indices)\n",
    "plt.xlim([-1, x_train.shape[1]])\n",
    "plt.show()"
   ]
  },
  {
   "cell_type": "code",
   "execution_count": null,
   "metadata": {},
   "outputs": [],
   "source": []
  },
  {
   "cell_type": "markdown",
   "metadata": {},
   "source": [
    "#### 4.3 XGBoost"
   ]
  },
  {
   "cell_type": "code",
   "execution_count": 41,
   "metadata": {},
   "outputs": [
    {
     "name": "stdout",
     "output_type": "stream",
     "text": [
      "Accuracy of XGBoost on test set: 0.93\n"
     ]
    }
   ],
   "source": [
    "# 0.93\n",
    "xgb = GradientBoostingClassifier(n_estimators=100, learning_rate=1.0, max_depth=1, random_state=0).fit(x_train, y_train)\n",
    "y_pred = xgb.predict(x_test)\n",
    "print('Accuracy of XGBoost on test set: {:.2f}'.format(xgb.score(x_test, y_test)))"
   ]
  },
  {
   "cell_type": "code",
   "execution_count": 42,
   "metadata": {},
   "outputs": [
    {
     "name": "stdout",
     "output_type": "stream",
     "text": [
      "              precision    recall  f1-score   support\n",
      "\n",
      "           0       0.94      0.97      0.95       525\n",
      "           1       0.89      0.80      0.84       166\n",
      "\n",
      "    accuracy                           0.93       691\n",
      "   macro avg       0.91      0.88      0.90       691\n",
      "weighted avg       0.93      0.93      0.93       691\n",
      "\n"
     ]
    }
   ],
   "source": [
    "print(classification_report(y_test, y_pred))"
   ]
  },
  {
   "cell_type": "markdown",
   "metadata": {},
   "source": [
    "#### 4.4 Logistic Regression"
   ]
  },
  {
   "cell_type": "markdown",
   "metadata": {},
   "source": [
    "Features which are correlated to strong are ignored"
   ]
  },
  {
   "cell_type": "code",
   "execution_count": 21,
   "metadata": {},
   "outputs": [],
   "source": [
    "x_train_lr = x_train.drop(['rel_x_position'], axis=1, errors='ignore')\n",
    "x_test_lr = x_test.drop(['rel_x_position'], axis= 1, errors='ignore')"
   ]
  },
  {
   "cell_type": "markdown",
   "metadata": {},
   "source": [
    "Now we perform the actual regression"
   ]
  },
  {
   "cell_type": "code",
   "execution_count": 23,
   "metadata": {},
   "outputs": [
    {
     "data": {
      "text/plain": [
       "LogisticRegression(max_iter=200000)"
      ]
     },
     "execution_count": 23,
     "metadata": {},
     "output_type": "execute_result"
    }
   ],
   "source": [
    "logreg = LogisticRegression(solver='lbfgs', max_iter=200000)\n",
    "logreg.fit(x_train_lr, y_train)"
   ]
  },
  {
   "cell_type": "code",
   "execution_count": 25,
   "metadata": {},
   "outputs": [
    {
     "name": "stdout",
     "output_type": "stream",
     "text": [
      "Accuracy of logistic regression classifier on test set: 0.86\n"
     ]
    }
   ],
   "source": [
    "# 0.86\n",
    "y_pred = logreg.predict(x_test_lr)\n",
    "print('Accuracy of logistic regression classifier on test set: {:.2f}'.format(logreg.score(x_test_lr, y_test)))"
   ]
  },
  {
   "cell_type": "code",
   "execution_count": null,
   "metadata": {},
   "outputs": [],
   "source": [
    "print(classification_report(y_test, y_pred))"
   ]
  },
  {
   "cell_type": "markdown",
   "metadata": {},
   "source": [
    "### Result"
   ]
  },
  {
   "cell_type": "markdown",
   "metadata": {},
   "source": [
    "Extra Trees Classifier performed best"
   ]
  },
  {
   "cell_type": "code",
   "execution_count": 19,
   "metadata": {},
   "outputs": [],
   "source": [
    "# save model\n",
    "filename = 'models/model_1_extra_trees_classifier.sav'\n",
    "pickle.dump(et, open(filename, 'wb'))"
   ]
  },
  {
   "cell_type": "code",
   "execution_count": 23,
   "metadata": {},
   "outputs": [
    {
     "name": "stdout",
     "output_type": "stream",
     "text": [
      "0.9479015918958031\n"
     ]
    }
   ],
   "source": [
    "# load model\n",
    "loaded_model = pickle.load(open(filename, 'rb'))\n",
    "result = loaded_model.score(x_test, y_test)\n",
    "print(result)"
   ]
  },
  {
   "cell_type": "code",
   "execution_count": null,
   "metadata": {},
   "outputs": [],
   "source": []
  }
 ],
 "metadata": {
  "kernelspec": {
   "display_name": "Python 3",
   "language": "python",
   "name": "python3"
  },
  "language_info": {
   "codemirror_mode": {
    "name": "ipython",
    "version": 3
   },
   "file_extension": ".py",
   "mimetype": "text/x-python",
   "name": "python",
   "nbconvert_exporter": "python",
   "pygments_lexer": "ipython3",
   "version": "3.8.5"
  }
 },
 "nbformat": 4,
 "nbformat_minor": 4
}
