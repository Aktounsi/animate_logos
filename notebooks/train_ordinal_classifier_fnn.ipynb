{
 "cells": [
  {
   "cell_type": "markdown",
   "metadata": {
    "pycharm": {
     "name": "#%% md\n"
    }
   },
   "source": [
    "# Surrogate Model\n",
    "### Training of Feedforward Neural Network with special architecture for Ordinal Classification"
   ]
  },
  {
   "cell_type": "code",
   "execution_count": 1,
   "metadata": {
    "jupyter": {
     "outputs_hidden": false
    },
    "pycharm": {
     "name": "#%%\n"
    }
   },
   "outputs": [],
   "source": [
    "import torch\n",
    "import torch.nn as nn\n",
    "import numpy as np\n",
    "import random\n",
    "import matplotlib.pyplot as plt\n",
    "import os\n",
    "os.chdir(\"..\")\n",
    "from sklearn.preprocessing import StandardScaler\n",
    "from src.models.ordinal_classifier_fnn import *\n",
    "from src.models.coral_loss import *\n",
    "from src.data.ff_dataloader import *\n",
    "from src.preprocessing.transform_into_model_data_ff import *\n",
    "import torch.nn.functional as F\n",
    "from sklearn.metrics import mean_absolute_error"
   ]
  },
  {
   "cell_type": "markdown",
   "metadata": {},
   "source": [
    "### 1. Set seeds"
   ]
  },
  {
   "cell_type": "code",
   "execution_count": 2,
   "metadata": {
    "jupyter": {
     "outputs_hidden": false
    },
    "pycharm": {
     "name": "#%%\n"
    }
   },
   "outputs": [],
   "source": [
    "# Set seeds in order to reproduce results\n",
    "torch.manual_seed(73)\n",
    "random.seed(73)\n",
    "np.random.seed(73)"
   ]
  },
  {
   "cell_type": "markdown",
   "metadata": {
    "pycharm": {
     "name": "#%% md\n"
    }
   },
   "source": [
    "### 2. Load dataset"
   ]
  },
  {
   "cell_type": "code",
   "execution_count": 3,
   "metadata": {
    "jupyter": {
     "outputs_hidden": false
    },
    "pycharm": {
     "name": "#%%\n"
    }
   },
   "outputs": [
    {
     "data": {
      "text/plain": [
       "torch.Size([5309, 38])"
      ]
     },
     "execution_count": 3,
     "metadata": {},
     "output_type": "execute_result"
    }
   ],
   "source": [
    "# Replace by true labeled dataset if available\n",
    "train_dataset = DatasetFF(train=True, path=\"data/fitness_function\")\n",
    "test_dataset = DatasetFF(train=False, path=\"data/fitness_function\")\n",
    "train_dataset.X.shape"
   ]
  },
  {
   "cell_type": "code",
   "execution_count": 4,
   "metadata": {
    "jupyter": {
     "outputs_hidden": false
    },
    "pycharm": {
     "name": "#%%\n"
    }
   },
   "outputs": [
    {
     "data": {
      "text/plain": [
       "tensor([[ 0.0000,  0.0000,  0.0000,  ...,  0.0395,  0.0514, 24.0000],\n",
       "        [ 0.0000,  0.0000,  0.0000,  ...,  0.7143,  0.7070, 24.0000],\n",
       "        [ 0.0000,  0.0000,  0.0000,  ...,  0.7143,  0.7786, 24.0000],\n",
       "        ...,\n",
       "        [ 0.0000,  0.0000,  0.0000,  ...,  0.6105,  0.4907, 24.0000],\n",
       "        [ 0.0000,  1.0000,  0.0000,  ...,  0.8615,  0.5000, 24.0000],\n",
       "        [ 1.0000,  0.0000,  0.0000,  ...,  0.6105,  0.4907, 24.0000]])"
      ]
     },
     "execution_count": 4,
     "metadata": {},
     "output_type": "execute_result"
    }
   ],
   "source": [
    "train_dataset.X"
   ]
  },
  {
   "cell_type": "code",
   "execution_count": 5,
   "metadata": {
    "jupyter": {
     "outputs_hidden": false
    },
    "pycharm": {
     "name": "#%%\n"
    }
   },
   "outputs": [
    {
     "data": {
      "text/plain": [
       "tensor([[1., 1., 1., 0.],\n",
       "        [1., 1., 1., 0.],\n",
       "        [1., 1., 1., 0.],\n",
       "        ...,\n",
       "        [1., 1., 1., 0.],\n",
       "        [1., 1., 0., 0.],\n",
       "        [0., 0., 0., 0.]])"
      ]
     },
     "execution_count": 5,
     "metadata": {},
     "output_type": "execute_result"
    }
   ],
   "source": [
    "train_dataset.y"
   ]
  },
  {
   "cell_type": "markdown",
   "metadata": {
    "pycharm": {
     "name": "#%% md\n"
    }
   },
   "source": [
    "### 3. Scale training and test data"
   ]
  },
  {
   "cell_type": "code",
   "execution_count": 6,
   "metadata": {
    "jupyter": {
     "outputs_hidden": false
    },
    "pycharm": {
     "name": "#%%\n"
    }
   },
   "outputs": [],
   "source": [
    "scaler = StandardScaler()\n",
    "\n",
    "# only scale numeric variables that are not one-hot encoded\n",
    "scaler.fit(train_dataset.X[:, 6:])\n",
    "train_dataset.scale(scaler)\n",
    "test_dataset.scale(scaler)"
   ]
  },
  {
   "cell_type": "code",
   "execution_count": 7,
   "metadata": {},
   "outputs": [
    {
     "data": {
      "text/plain": [
       "tensor([[ 0.0000,  0.0000,  0.0000,  ..., -1.8314, -1.9453,  0.0352],\n",
       "        [ 0.0000,  0.0000,  0.0000,  ...,  0.8470,  0.9393,  0.0352],\n",
       "        [ 0.0000,  0.0000,  0.0000,  ...,  0.8470,  1.2542,  0.0352],\n",
       "        ...,\n",
       "        [ 0.0000,  0.0000,  0.0000,  ...,  0.4349, -0.0121,  0.0352],\n",
       "        [ 0.0000,  1.0000,  0.0000,  ...,  1.4314,  0.0286,  0.0352],\n",
       "        [ 1.0000,  0.0000,  0.0000,  ...,  0.4349, -0.0121,  0.0352]])"
      ]
     },
     "execution_count": 7,
     "metadata": {},
     "output_type": "execute_result"
    }
   ],
   "source": [
    "train_dataset.X"
   ]
  },
  {
   "cell_type": "markdown",
   "metadata": {},
   "source": [
    "### 4. Upscaling of class 4/\"Very Good\" (optional, was shown to not improve the performance^)"
   ]
  },
  {
   "cell_type": "code",
   "execution_count": 8,
   "metadata": {},
   "outputs": [],
   "source": [
    "# Get indices where data label equals 4\n",
    "#label_counts = {i: len(np.where(torch.sum(train_dataset.y, axis=1) == i)[0]) for i in range(5)}\n",
    "#i_class4 = np.where(torch.sum(train_dataset.y, axis=1) == 4)[0]\n",
    "# Calculate upsample size (mean of class sizes 0-3 - class size 4)\n",
    "#upsample_size = round(np.mean([label_counts[i] for i in range(4)])) - label_counts[4]\n",
    "# Get upsample indices\n",
    "#i_class4_upsampled = np.random.choice(i_class4, size=upsample_size, replace=True)"
   ]
  },
  {
   "cell_type": "code",
   "execution_count": 9,
   "metadata": {},
   "outputs": [],
   "source": [
    "# Create upsampled dataframe\n",
    "#train_dataset.y = torch.vstack([train_dataset.y, train_dataset.y[i_class4_upsampled]])\n",
    "#train_dataset.X = torch.vstack([train_dataset.X, train_dataset.X[i_class4_upsampled]])\n",
    "#train_dataset.X.shape"
   ]
  },
  {
   "cell_type": "markdown",
   "metadata": {},
   "source": [
    "### 5. Train model"
   ]
  },
  {
   "cell_type": "markdown",
   "metadata": {
    "pycharm": {
     "name": "#%% md\n"
    }
   },
   "source": [
    "#### 5.1 Build model and switch to GPU if available"
   ]
  },
  {
   "cell_type": "code",
   "execution_count": 10,
   "metadata": {
    "jupyter": {
     "outputs_hidden": false
    },
    "pycharm": {
     "name": "#%%\n"
    }
   },
   "outputs": [
    {
     "name": "stdout",
     "output_type": "stream",
     "text": [
      "cpu\n"
     ]
    },
    {
     "data": {
      "text/plain": [
       "OrdinalClassifierFNN(\n",
       "  (hidden): ModuleList(\n",
       "    (0): Linear(in_features=38, out_features=28, bias=True)\n",
       "  )\n",
       "  (coral_weights): Linear(in_features=28, out_features=1, bias=False)\n",
       ")"
      ]
     },
     "execution_count": 10,
     "metadata": {},
     "output_type": "execute_result"
    }
   ],
   "source": [
    "fitness_function = OrdinalClassifierFNN(num_classes=5, layer_sizes=[38,28])\n",
    "\n",
    "device = torch.device(\"cuda:0\" if torch.cuda.is_available() else \"cpu\")\n",
    "print(device)\n",
    "fitness_function.to(device)"
   ]
  },
  {
   "cell_type": "code",
   "execution_count": 11,
   "metadata": {},
   "outputs": [
    {
     "name": "stdout",
     "output_type": "stream",
     "text": [
      "tensor([[ 0.7780,  0.5280,  0.2780,  0.0280],\n",
      "        [ 0.7780,  0.5280,  0.2780,  0.0280],\n",
      "        [ 0.8071,  0.5571,  0.3071,  0.0571],\n",
      "        [ 0.7780,  0.5280,  0.2780,  0.0280],\n",
      "        [ 0.5706,  0.3206,  0.0706, -0.1794]], grad_fn=<AddBackward0>)\n"
     ]
    },
    {
     "data": {
      "text/plain": [
       "tensor([[0.6853, 0.6290, 0.5691, 0.5070],\n",
       "        [0.6853, 0.6290, 0.5691, 0.5070],\n",
       "        [0.6915, 0.6358, 0.5762, 0.5143],\n",
       "        [0.6853, 0.6290, 0.5691, 0.5070],\n",
       "        [0.6389, 0.5795, 0.5176, 0.4553]], grad_fn=<SigmoidBackward>)"
      ]
     },
     "execution_count": 11,
     "metadata": {},
     "output_type": "execute_result"
    }
   ],
   "source": [
    "res = fitness_function(test_dataset.X[:5])\n",
    "print(res)\n",
    "torch.sigmoid(res)"
   ]
  },
  {
   "cell_type": "markdown",
   "metadata": {
    "pycharm": {
     "name": "#%% md\n"
    }
   },
   "source": [
    "#### 5.2 Define optimizer and additional measure to report (optional)"
   ]
  },
  {
   "cell_type": "code",
   "execution_count": 12,
   "metadata": {
    "jupyter": {
     "outputs_hidden": false
    },
    "pycharm": {
     "name": "#%%\n"
    }
   },
   "outputs": [],
   "source": [
    "#criterion = nn.L1Loss()\n",
    "report_measure = nn.L1Loss()\n",
    "optimizer = torch.optim.Adam(fitness_function.parameters())"
   ]
  },
  {
   "cell_type": "markdown",
   "metadata": {
    "pycharm": {
     "name": "#%% md\n"
    }
   },
   "source": [
    "#### 5.3 Define Data loaders"
   ]
  },
  {
   "cell_type": "code",
   "execution_count": 13,
   "metadata": {
    "jupyter": {
     "outputs_hidden": false
    },
    "pycharm": {
     "name": "#%%\n"
    }
   },
   "outputs": [],
   "source": [
    "# Useful because it automatically generates batches in the training loop and takes care of shuffling\n",
    "\n",
    "batch_size = 128\n",
    "train_loader = torch.utils.data.DataLoader(dataset=train_dataset,\n",
    "                                           batch_size=batch_size,\n",
    "                                           shuffle=True)\n",
    "\n",
    "test_loader = torch.utils.data.DataLoader(dataset=test_dataset,\n",
    "                                          batch_size=batch_size,\n",
    "                                          shuffle=False)"
   ]
  },
  {
   "cell_type": "markdown",
   "metadata": {
    "pycharm": {
     "name": "#%% md\n"
    }
   },
   "source": [
    "#### 5.4 Actual Model training"
   ]
  },
  {
   "cell_type": "code",
   "execution_count": 14,
   "metadata": {
    "jupyter": {
     "outputs_hidden": false
    },
    "pycharm": {
     "name": "#%%\n"
    }
   },
   "outputs": [
    {
     "name": "stdout",
     "output_type": "stream",
     "text": [
      "Epoch 1/100, Train Loss: 2.5562, Test Loss: 2.3483 Train Binary MAE: 0.4620, Test Binary MAE: 0.4367, Train Accuracy: 0.1919, Test Accuracy: 0.3263, Train Label MAE:  1.4640, Test Label MAE:  0.9557\n",
      "Epoch 10/100, Train Loss: 2.0267, Test Loss: 2.0601 Train Binary MAE: 0.3702, Test Binary MAE: 0.3747, Train Accuracy: 0.3924, Test Accuracy: 0.3805, Train Label MAE:  0.8437, Test Label MAE:  0.8746\n",
      "Epoch 20/100, Train Loss: 1.8778, Test Loss: 1.9308 Train Binary MAE: 0.3388, Test Binary MAE: 0.3453, Train Accuracy: 0.4020, Test Accuracy: 0.3805, Train Label MAE:  0.7913, Test Label MAE:  0.8232\n",
      "Epoch 30/100, Train Loss: 1.7910, Test Loss: 1.8588 Train Binary MAE: 0.3177, Test Binary MAE: 0.3261, Train Accuracy: 0.3952, Test Accuracy: 0.3700, Train Label MAE:  0.7761, Test Label MAE:  0.8200\n",
      "Epoch 40/100, Train Loss: 1.7338, Test Loss: 1.8303 Train Binary MAE: 0.3028, Test Binary MAE: 0.3130, Train Accuracy: 0.3914, Test Accuracy: 0.3740, Train Label MAE:  0.7689, Test Label MAE:  0.8200\n",
      "Epoch 50/100, Train Loss: 1.6986, Test Loss: 1.8118 Train Binary MAE: 0.2920, Test Binary MAE: 0.3029, Train Accuracy: 0.3910, Test Accuracy: 0.3756, Train Label MAE:  0.7627, Test Label MAE:  0.8231\n",
      "Epoch 60/100, Train Loss: 1.6728, Test Loss: 1.7976 Train Binary MAE: 0.2835, Test Binary MAE: 0.2958, Train Accuracy: 0.3937, Test Accuracy: 0.3813, Train Label MAE:  0.7567, Test Label MAE:  0.8196\n",
      "Epoch 70/100, Train Loss: 1.6571, Test Loss: 1.8022 Train Binary MAE: 0.2781, Test Binary MAE: 0.2915, Train Accuracy: 0.3920, Test Accuracy: 0.3667, Train Label MAE:  0.7558, Test Label MAE:  0.8364\n",
      "Epoch 80/100, Train Loss: 1.6439, Test Loss: 1.7994 Train Binary MAE: 0.2733, Test Binary MAE: 0.2877, Train Accuracy: 0.3931, Test Accuracy: 0.3700, Train Label MAE:  0.7510, Test Label MAE:  0.8325\n",
      "Epoch 90/100, Train Loss: 1.6373, Test Loss: 1.8010 Train Binary MAE: 0.2696, Test Binary MAE: 0.2843, Train Accuracy: 0.3948, Test Accuracy: 0.3732, Train Label MAE:  0.7485, Test Label MAE:  0.8302\n",
      "Epoch 100/100, Train Loss: 1.6313, Test Loss: 1.8116 Train Binary MAE: 0.2673, Test Binary MAE: 0.2829, Train Accuracy: 0.3950, Test Accuracy: 0.3732, Train Label MAE:  0.7490, Test Label MAE:  0.8368\n"
     ]
    }
   ],
   "source": [
    "n_epochs = 100\n",
    "\n",
    "# Stuff to store\n",
    "train_losses = np.zeros(n_epochs)\n",
    "train_bin_maes = np.zeros(n_epochs)\n",
    "train_accuracies = np.zeros(n_epochs)\n",
    "train_label_maes = np.zeros(n_epochs)\n",
    "\n",
    "test_losses = np.zeros(n_epochs)\n",
    "test_bin_maes = np.zeros(n_epochs)\n",
    "test_accuracies = np.zeros(n_epochs)\n",
    "test_label_maes = np.zeros(n_epochs)\n",
    "\n",
    "\n",
    "for it in range(n_epochs):\n",
    "    train_loss = []\n",
    "    test_loss = []\n",
    "    train_bin_mae = []\n",
    "    test_bin_mae = []\n",
    "    train_label_mae = []\n",
    "    test_label_mae = []\n",
    "    correct_train = 0\n",
    "    correct_test = 0\n",
    "    for inputs, targets in train_loader:\n",
    "        # move data to GPU\n",
    "        inputs, targets = inputs.to(device), targets.to(device)\n",
    "\n",
    "        # zero the parameter gradients\n",
    "        optimizer.zero_grad()\n",
    "        \n",
    "        # Forward pass\n",
    "        outputs = fitness_function(inputs)\n",
    "        loss = coral_loss(outputs, targets)\n",
    "\n",
    "        # Backward and optimize\n",
    "        loss.backward()\n",
    "        optimizer.step()\n",
    "\n",
    "        # Store loss and other report measures\n",
    "        train_loss.append(loss.item())\n",
    "        train_bin_mae.append(report_measure(torch.sigmoid(outputs), targets).item())\n",
    "        train_label_mae.append(mean_absolute_error(decode_classes(targets), decode_classes(torch.sigmoid(outputs))))\n",
    "        \n",
    "        # Count correct predictions\n",
    "        correct_train += (decode_classes(torch.sigmoid(outputs)) == decode_classes(targets)).sum()\n",
    "        \n",
    "    # Get train loss and test loss\n",
    "    train_loss = np.mean(train_loss)\n",
    "    train_bin_mae = np.mean(train_bin_mae)\n",
    "    train_label_mae = np.mean(train_label_mae)\n",
    "    \n",
    "    # Get train accuracy\n",
    "    train_accuracy = correct_train / len(train_dataset.X)\n",
    "    \n",
    "    predicted_classes = []\n",
    "    for inputs, targets in test_loader:\n",
    "        inputs, targets = inputs.to(device), targets.to(device)\n",
    "        outputs = fitness_function(inputs)\n",
    "        loss = coral_loss(outputs, targets)\n",
    "        test_loss.append(loss.item())\n",
    "        test_bin_mae.append(report_measure(torch.sigmoid(outputs), targets).item())\n",
    "        test_label_mae.append(mean_absolute_error(decode_classes(targets), decode_classes(torch.sigmoid(outputs))))\n",
    "        correct_test += (decode_classes(torch.sigmoid(outputs)) == decode_classes(targets)).sum()\n",
    "    test_loss = np.mean(test_loss)\n",
    "    test_bin_mae = np.mean(test_bin_mae)\n",
    "    test_label_mae = np.mean(test_label_mae)\n",
    "    test_accuracy = correct_test / len(test_dataset.X)\n",
    "\n",
    "    # Save losses\n",
    "    train_losses[it] = train_loss\n",
    "    train_bin_maes[it] = train_bin_mae\n",
    "    test_losses[it] = test_loss\n",
    "    test_bin_maes[it] = test_bin_mae\n",
    "    train_label_maes[it] = train_label_mae\n",
    "    test_label_maes[it] = test_label_mae\n",
    "    train_accuracies[it] = train_accuracy\n",
    "    test_accuracies[it] = test_accuracy\n",
    "\n",
    "    if (it + 1) % 10 == 0 or it==0:\n",
    "        print(f'Epoch {it + 1}/{n_epochs}, Train Loss: {train_loss:.4f}, Test Loss: {test_loss:.4f}'\n",
    "              f' Train Binary MAE: {train_bin_mae:.4f}, Test Binary MAE: {test_bin_mae:.4f}, Train Accuracy: {train_accuracy:.4f}, Test Accuracy: {test_accuracy:.4f}, Train Label MAE:  {train_label_mae:.4f}, Test Label MAE:  {test_label_mae:.4f}')"
   ]
  },
  {
   "cell_type": "markdown",
   "metadata": {},
   "source": [
    "### 6. Evaluate model performance"
   ]
  },
  {
   "cell_type": "markdown",
   "metadata": {},
   "source": [
    "#### 6.1 Compute benchmark performance values"
   ]
  },
  {
   "cell_type": "code",
   "execution_count": 15,
   "metadata": {},
   "outputs": [
    {
     "data": {
      "text/plain": [
       "5309"
      ]
     },
     "metadata": {},
     "output_type": "display_data"
    },
    {
     "data": {
      "text/plain": [
       "{0: 1181, 1: 1202, 2: 1511, 3: 1097, 4: 318}"
      ]
     },
     "execution_count": 15,
     "metadata": {},
     "output_type": "execute_result"
    }
   ],
   "source": [
    "unique_train, counts_train = np.unique(decode_classes(train_dataset.y).flatten(), return_counts=True)\n",
    "display(len(train_dataset))\n",
    "dict(zip(unique_train, counts_train))"
   ]
  },
  {
   "cell_type": "code",
   "execution_count": 16,
   "metadata": {},
   "outputs": [
    {
     "data": {
      "text/plain": [
       "1238"
      ]
     },
     "metadata": {},
     "output_type": "display_data"
    },
    {
     "data": {
      "text/plain": [
       "{0: 238, 1: 205, 2: 348, 3: 375, 4: 72}"
      ]
     },
     "execution_count": 16,
     "metadata": {},
     "output_type": "execute_result"
    }
   ],
   "source": [
    "unique_test, counts_test = np.unique(decode_classes(test_dataset.y).flatten(), return_counts=True)\n",
    "display(len(test_dataset.y))\n",
    "dict(zip(unique_test, counts_test))"
   ]
  },
  {
   "cell_type": "code",
   "execution_count": 17,
   "metadata": {},
   "outputs": [
    {
     "name": "stdout",
     "output_type": "stream",
     "text": [
      "Test Benchmark Accuracy: 0.3029\n"
     ]
    }
   ],
   "source": [
    "# Accuracy for majority classifier\n",
    "print(f'Test Benchmark Accuracy: {375/1238 :.4f}')"
   ]
  },
  {
   "cell_type": "code",
   "execution_count": 18,
   "metadata": {},
   "outputs": [
    {
     "name": "stdout",
     "output_type": "stream",
     "text": [
      "Test Benchmark Label MAE: 0.9693\n"
     ]
    }
   ],
   "source": [
    "# Label MAE for constant prediction of class 2\n",
    "print(f'Test Benchmark Label MAE: {2*(238+72)/1238 + 1*(205+375)/1238 :.4f}')"
   ]
  },
  {
   "cell_type": "code",
   "execution_count": 19,
   "metadata": {},
   "outputs": [
    {
     "name": "stdout",
     "output_type": "stream",
     "text": [
      "Test Benchmark Binary MAE: 0.2423\n"
     ]
    }
   ],
   "source": [
    "# Binary MAE for constant prediction of class 2 (1,1,0,0)\n",
    "print(f'Test Benchmark Binary MAE: {(238*0.5 + 205*0.25 + 375*0.25 + 72*0.5)/1238 :.4f}')"
   ]
  },
  {
   "cell_type": "markdown",
   "metadata": {
    "pycharm": {
     "name": "#%% md\n"
    }
   },
   "source": [
    "#### 6.2 Plot the train loss and test loss per epoch"
   ]
  },
  {
   "cell_type": "code",
   "execution_count": 20,
   "metadata": {
    "jupyter": {
     "outputs_hidden": false
    },
    "pycharm": {
     "name": "#%%\n"
    }
   },
   "outputs": [
    {
     "data": {
      "image/png": "[encoded data removed]",
      "text/plain": [
       "<Figure size 432x288 with 1 Axes>"
      ]
     },
     "metadata": {
      "needs_background": "light"
     },
     "output_type": "display_data"
    }
   ],
   "source": [
    "plt.plot(train_losses, label='train loss')\n",
    "plt.plot(test_losses, label='test loss')\n",
    "plt.legend()\n",
    "plt.show()"
   ]
  },
  {
   "cell_type": "code",
   "execution_count": 21,
   "metadata": {},
   "outputs": [
    {
     "data": {
      "image/png": "[encoded data removed]",
      "text/plain": [
       "<Figure size 432x288 with 1 Axes>"
      ]
     },
     "metadata": {
      "needs_background": "light"
     },
     "output_type": "display_data"
    }
   ],
   "source": [
    "plt.plot(train_bin_maes, label='train binary MAE')\n",
    "plt.plot(test_bin_maes, label='test binary MAE')\n",
    "plt.hlines(0.2423, xmin=0, xmax=100, color='red')\n",
    "plt.legend()\n",
    "plt.show()"
   ]
  },
  {
   "cell_type": "code",
   "execution_count": 22,
   "metadata": {},
   "outputs": [
    {
     "data": {
      "image/png": "[encoded data removed]",
      "text/plain": [
       "<Figure size 432x288 with 1 Axes>"
      ]
     },
     "metadata": {
      "needs_background": "light"
     },
     "output_type": "display_data"
    }
   ],
   "source": [
    "plt.plot(train_label_maes, label='train label MAE')\n",
    "plt.plot(test_label_maes, label='test label MAE')\n",
    "plt.hlines(0.9693, xmin=0, xmax=100, color='red')\n",
    "plt.legend()\n",
    "plt.show()"
   ]
  },
  {
   "cell_type": "code",
   "execution_count": 23,
   "metadata": {},
   "outputs": [
    {
     "data": {
      "image/png": "[encoded data removed]",
      "text/plain": [
       "<Figure size 432x288 with 1 Axes>"
      ]
     },
     "metadata": {
      "needs_background": "light"
     },
     "output_type": "display_data"
    }
   ],
   "source": [
    "plt.plot(train_accuracies, label='train accuracy')\n",
    "plt.plot(test_accuracies, label='test accuracy')\n",
    "plt.hlines(0.3029, xmin=0, xmax=100, color='red')\n",
    "plt.legend()\n",
    "plt.show()"
   ]
  },
  {
   "cell_type": "markdown",
   "metadata": {},
   "source": [
    "### 7. Save and load trained model"
   ]
  },
  {
   "cell_type": "markdown",
   "metadata": {},
   "source": [
    "#### 7.1 Save model"
   ]
  },
  {
   "cell_type": "code",
   "execution_count": 32,
   "metadata": {
    "jupyter": {
     "outputs_hidden": false
    },
    "pycharm": {
     "name": "#%%\n"
    }
   },
   "outputs": [],
   "source": [
    "torch.save(fitness_function.state_dict(), \"models/sm_fnn.pth\")"
   ]
  },
  {
   "cell_type": "markdown",
   "metadata": {
    "pycharm": {
     "name": "#%% md\n"
    }
   },
   "source": [
    "#### 7.2. Load model and make predictions"
   ]
  },
  {
   "cell_type": "code",
   "execution_count": 33,
   "metadata": {
    "jupyter": {
     "outputs_hidden": false
    },
    "pycharm": {
     "name": "#%%\n"
    }
   },
   "outputs": [
    {
     "data": {
      "text/plain": [
       "OrdinalClassifierFNN(\n",
       "  (hidden): ModuleList(\n",
       "    (0): Linear(in_features=38, out_features=28, bias=True)\n",
       "  )\n",
       "  (coral_weights): Linear(in_features=28, out_features=1, bias=False)\n",
       ")"
      ]
     },
     "execution_count": 33,
     "metadata": {},
     "output_type": "execute_result"
    }
   ],
   "source": [
    "model = OrdinalClassifierFNN(num_classes=5, layer_sizes=[38,28])\n",
    "model.load_state_dict(torch.load(\"models/sm_fnn.pth\"))\n",
    "model.eval()"
   ]
  },
  {
   "cell_type": "code",
   "execution_count": 34,
   "metadata": {
    "jupyter": {
     "outputs_hidden": false
    },
    "pycharm": {
     "name": "#%%\n"
    }
   },
   "outputs": [],
   "source": [
    "inp = test_dataset.X[0:20]\n",
    "output = model(inp)"
   ]
  },
  {
   "cell_type": "code",
   "execution_count": 35,
   "metadata": {
    "jupyter": {
     "outputs_hidden": false
    },
    "pycharm": {
     "name": "#%%\n"
    }
   },
   "outputs": [
    {
     "data": {
      "text/plain": [
       "tensor([[ 1.0883, -0.2543, -1.7768, -3.6158],\n",
       "        [ 1.0883, -0.2543, -1.7768, -3.6158],\n",
       "        [-1.8299, -3.1724, -4.6949, -6.5339],\n",
       "        [ 1.0883, -0.2543, -1.7768, -3.6158],\n",
       "        [ 1.0155, -0.3270, -1.8495, -3.6885],\n",
       "        [ 0.9790, -0.3635, -1.8860, -3.7250],\n",
       "        [ 1.3780,  0.0355, -1.4871, -3.3261],\n",
       "        [ 2.6426,  1.3001, -0.2225, -2.0615],\n",
       "        [ 0.1850, -1.1575, -2.6800, -4.5190],\n",
       "        [ 2.5385,  1.1960, -0.3265, -2.1655],\n",
       "        [ 0.1653, -1.1772, -2.6997, -4.5387],\n",
       "        [ 2.6420,  1.2995, -0.2230, -2.0620],\n",
       "        [ 2.4489,  1.1064, -0.4161, -2.2551],\n",
       "        [ 0.8743, -0.4682, -1.9907, -3.8297],\n",
       "        [-1.3702, -2.7127, -4.2352, -6.0742],\n",
       "        [ 2.0184,  0.6759, -0.8466, -2.6856],\n",
       "        [-0.6775, -2.0200, -3.5425, -5.3816],\n",
       "        [ 2.0209,  0.6784, -0.8442, -2.6832],\n",
       "        [-1.3372, -2.6797, -4.2023, -6.0413],\n",
       "        [ 1.5923,  0.2498, -1.2728, -3.1118]], grad_fn=<AddBackward0>)"
      ]
     },
     "execution_count": 35,
     "metadata": {},
     "output_type": "execute_result"
    }
   ],
   "source": [
    "output"
   ]
  },
  {
   "cell_type": "code",
   "execution_count": null,
   "metadata": {},
   "outputs": [],
   "source": []
  }
 ],
 "metadata": {
  "kernelspec": {
   "display_name": "Python 3",
   "language": "python",
   "name": "python3"
  },
  "language_info": {
   "codemirror_mode": {
    "name": "ipython",
    "version": 3
   },
   "file_extension": ".py",
   "mimetype": "text/x-python",
   "name": "python",
   "nbconvert_exporter": "python",
   "pygments_lexer": "ipython3",
   "version": "3.8.5"
  }
 },
 "nbformat": 4,
 "nbformat_minor": 4
}
