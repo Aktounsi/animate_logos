{
 "cells": [
  {
   "cell_type": "markdown",
   "metadata": {
    "pycharm": {
     "name": "#%% md\n"
    }
   },
   "source": [
    "## Training: Fitness Function"
   ]
  },
  {
   "cell_type": "code",
   "execution_count": 1,
   "metadata": {
    "collapsed": false,
    "jupyter": {
     "outputs_hidden": false
    },
    "pycharm": {
     "name": "#%%\n"
    }
   },
   "outputs": [],
   "source": [
    "import torch\n",
    "import torch.nn as nn\n",
    "import numpy as np\n",
    "import random\n",
    "import matplotlib.pyplot as plt\n",
    "import os\n",
    "os.chdir(\"..\")\n",
    "from sklearn.preprocessing import StandardScaler\n",
    "from src.models.ordinal_classifier_fnn import *\n",
    "from src.models.coral_loss import *\n",
    "from src.data.ff_dataloader import *\n",
    "from src.preprocessing.transform_into_model_data_ff import *\n",
    "import torch.nn.functional as F"
   ]
  },
  {
   "cell_type": "markdown",
   "metadata": {},
   "source": [
    "#### Set seeds"
   ]
  },
  {
   "cell_type": "code",
   "execution_count": 2,
   "metadata": {
    "collapsed": false,
    "jupyter": {
     "outputs_hidden": false
    },
    "pycharm": {
     "name": "#%%\n"
    }
   },
   "outputs": [],
   "source": [
    "# Set seeds in order to reproduce results\n",
    "torch.manual_seed(73)\n",
    "random.seed(73)\n",
    "np.random.seed(73)"
   ]
  },
  {
   "cell_type": "markdown",
   "metadata": {
    "pycharm": {
     "name": "#%% md\n"
    }
   },
   "source": [
    "#### Load dataset"
   ]
  },
  {
   "cell_type": "code",
   "execution_count": 3,
   "metadata": {
    "collapsed": false,
    "jupyter": {
     "outputs_hidden": false
    },
    "pycharm": {
     "name": "#%%\n"
    }
   },
   "outputs": [],
   "source": [
    "# Replace by true labeled dataset if available\n",
    "train_dataset = DatasetFF(train=True, path=\"data/fitness_function\")\n",
    "test_dataset = DatasetFF(train=False, path=\"data/fitness_function\")"
   ]
  },
  {
   "cell_type": "code",
   "execution_count": 4,
   "metadata": {
    "collapsed": false,
    "jupyter": {
     "outputs_hidden": false
    },
    "pycharm": {
     "name": "#%%\n"
    }
   },
   "outputs": [
    {
     "data": {
      "text/plain": [
       "tensor([[ 0.0000,  0.0000,  0.0000,  ...,  0.0395,  0.0514, 24.0000],\n",
       "        [ 0.0000,  0.0000,  0.0000,  ...,  0.7143,  0.7070, 24.0000],\n",
       "        [ 0.0000,  0.0000,  0.0000,  ...,  0.7143,  0.7786, 24.0000],\n",
       "        ...,\n",
       "        [ 0.0000,  0.0000,  0.0000,  ...,  0.6105,  0.4907, 24.0000],\n",
       "        [ 0.0000,  1.0000,  0.0000,  ...,  0.8615,  0.5000, 24.0000],\n",
       "        [ 1.0000,  0.0000,  0.0000,  ...,  0.6105,  0.4907, 24.0000]])"
      ]
     },
     "execution_count": 4,
     "metadata": {},
     "output_type": "execute_result"
    }
   ],
   "source": [
    "train_dataset.X"
   ]
  },
  {
   "cell_type": "code",
   "execution_count": 5,
   "metadata": {
    "collapsed": false,
    "jupyter": {
     "outputs_hidden": false
    },
    "pycharm": {
     "name": "#%%\n"
    }
   },
   "outputs": [
    {
     "data": {
      "text/plain": [
       "tensor([[1., 1., 1., 0.],\n",
       "        [1., 1., 1., 0.],\n",
       "        [1., 1., 1., 0.],\n",
       "        ...,\n",
       "        [1., 1., 1., 0.],\n",
       "        [1., 1., 0., 0.],\n",
       "        [0., 0., 0., 0.]])"
      ]
     },
     "execution_count": 5,
     "metadata": {},
     "output_type": "execute_result"
    }
   ],
   "source": [
    "train_dataset.y"
   ]
  },
  {
   "cell_type": "markdown",
   "metadata": {
    "pycharm": {
     "name": "#%% md\n"
    }
   },
   "source": [
    "#### Scale training and test data"
   ]
  },
  {
   "cell_type": "code",
   "execution_count": 6,
   "metadata": {
    "collapsed": false,
    "jupyter": {
     "outputs_hidden": false
    },
    "pycharm": {
     "name": "#%%\n"
    }
   },
   "outputs": [],
   "source": [
    "scaler = StandardScaler()\n",
    "\n",
    "# only scale numeric variables that are not one-hot encoded\n",
    "scaler.fit(train_dataset.X[:, 6:])\n",
    "train_dataset.scale(scaler)\n",
    "test_dataset.scale(scaler)"
   ]
  },
  {
   "cell_type": "code",
   "execution_count": 7,
   "metadata": {},
   "outputs": [
    {
     "data": {
      "text/plain": [
       "tensor([[ 0.0000,  0.0000,  0.0000,  ..., -1.8314, -1.9453,  0.0352],\n",
       "        [ 0.0000,  0.0000,  0.0000,  ...,  0.8470,  0.9393,  0.0352],\n",
       "        [ 0.0000,  0.0000,  0.0000,  ...,  0.8470,  1.2542,  0.0352],\n",
       "        ...,\n",
       "        [ 0.0000,  0.0000,  0.0000,  ...,  0.4349, -0.0121,  0.0352],\n",
       "        [ 0.0000,  1.0000,  0.0000,  ...,  1.4314,  0.0286,  0.0352],\n",
       "        [ 1.0000,  0.0000,  0.0000,  ...,  0.4349, -0.0121,  0.0352]])"
      ]
     },
     "execution_count": 7,
     "metadata": {},
     "output_type": "execute_result"
    }
   ],
   "source": [
    "train_dataset.X"
   ]
  },
  {
   "cell_type": "code",
   "execution_count": 8,
   "metadata": {},
   "outputs": [
    {
     "data": {
      "text/plain": [
       "tensor([[1., 1., 1., 0.],\n",
       "        [1., 1., 1., 0.],\n",
       "        [1., 1., 1., 0.],\n",
       "        ...,\n",
       "        [1., 1., 1., 0.],\n",
       "        [1., 1., 0., 0.],\n",
       "        [0., 0., 0., 0.]])"
      ]
     },
     "execution_count": 8,
     "metadata": {},
     "output_type": "execute_result"
    }
   ],
   "source": [
    "train_dataset.y"
   ]
  },
  {
   "cell_type": "markdown",
   "metadata": {
    "pycharm": {
     "name": "#%% md\n"
    }
   },
   "source": [
    "#### Build model and switch to GPU if available"
   ]
  },
  {
   "cell_type": "code",
   "execution_count": 9,
   "metadata": {
    "collapsed": false,
    "jupyter": {
     "outputs_hidden": false
    },
    "pycharm": {
     "name": "#%%\n"
    }
   },
   "outputs": [
    {
     "name": "stdout",
     "output_type": "stream",
     "text": [
      "cpu\n"
     ]
    },
    {
     "data": {
      "text/plain": [
       "OrdinalClassifierFNN(\n",
       "  (hidden): ModuleList(\n",
       "    (0): Linear(in_features=38, out_features=28, bias=True)\n",
       "  )\n",
       "  (coral_weights): Linear(in_features=28, out_features=1, bias=False)\n",
       ")"
      ]
     },
     "execution_count": 9,
     "metadata": {},
     "output_type": "execute_result"
    }
   ],
   "source": [
    "fitness_function = OrdinalClassifierFNN(num_classes=5, layer_sizes=[38,28])\n",
    "\n",
    "device = torch.device(\"cuda:0\" if torch.cuda.is_available() else \"cpu\")\n",
    "print(device)\n",
    "fitness_function.to(device)"
   ]
  },
  {
   "cell_type": "code",
   "execution_count": 10,
   "metadata": {},
   "outputs": [
    {
     "data": {
      "text/plain": [
       "tensor([0.7780, 0.5280, 0.2780, 0.0280], grad_fn=<AddBackward0>)"
      ]
     },
     "execution_count": 10,
     "metadata": {},
     "output_type": "execute_result"
    }
   ],
   "source": [
    "fitness_function(test_dataset.X[0])"
   ]
  },
  {
   "cell_type": "markdown",
   "metadata": {
    "pycharm": {
     "name": "#%% md\n"
    }
   },
   "source": [
    "#### Define optimizer and additional measure to report (optional)"
   ]
  },
  {
   "cell_type": "code",
   "execution_count": 11,
   "metadata": {
    "collapsed": false,
    "jupyter": {
     "outputs_hidden": false
    },
    "pycharm": {
     "name": "#%%\n"
    }
   },
   "outputs": [],
   "source": [
    "#criterion = nn.L1Loss()\n",
    "report_measure = nn.L1Loss()\n",
    "optimizer = torch.optim.Adam(fitness_function.parameters())"
   ]
  },
  {
   "cell_type": "markdown",
   "metadata": {
    "pycharm": {
     "name": "#%% md\n"
    }
   },
   "source": [
    "#### Define Data loaders"
   ]
  },
  {
   "cell_type": "code",
   "execution_count": 12,
   "metadata": {
    "collapsed": false,
    "jupyter": {
     "outputs_hidden": false
    },
    "pycharm": {
     "name": "#%%\n"
    }
   },
   "outputs": [],
   "source": [
    "# Useful because it automatically generates batches in the training loop and takes care of shuffling\n",
    "\n",
    "batch_size = 128\n",
    "train_loader = torch.utils.data.DataLoader(dataset=train_dataset,\n",
    "                                           batch_size=batch_size,\n",
    "                                           shuffle=True)\n",
    "\n",
    "test_loader = torch.utils.data.DataLoader(dataset=test_dataset,\n",
    "                                          batch_size=batch_size,\n",
    "                                          shuffle=False)"
   ]
  },
  {
   "cell_type": "markdown",
   "metadata": {
    "pycharm": {
     "name": "#%% md\n"
    }
   },
   "source": [
    "#### Model training"
   ]
  },
  {
   "cell_type": "code",
   "execution_count": 13,
   "metadata": {
    "collapsed": false,
    "jupyter": {
     "outputs_hidden": false
    },
    "pycharm": {
     "name": "#%%\n"
    }
   },
   "outputs": [
    {
     "name": "stdout",
     "output_type": "stream",
     "text": [
      "Epoch 1/100, Train Loss: 2.5562, Test Loss: 2.3483 Train MAE: 0.4620, Test MAE: 0.4367, Train Accuracy: 0.1919, Test Accuracy: 0.3263\n",
      "Epoch 10/100, Train Loss: 2.0267, Test Loss: 2.0601 Train MAE: 0.3702, Test MAE: 0.3747, Train Accuracy: 0.3924, Test Accuracy: 0.3805\n",
      "Epoch 20/100, Train Loss: 1.8778, Test Loss: 1.9308 Train MAE: 0.3388, Test MAE: 0.3453, Train Accuracy: 0.4020, Test Accuracy: 0.3805\n",
      "Epoch 30/100, Train Loss: 1.7910, Test Loss: 1.8588 Train MAE: 0.3177, Test MAE: 0.3261, Train Accuracy: 0.3952, Test Accuracy: 0.3700\n",
      "Epoch 40/100, Train Loss: 1.7338, Test Loss: 1.8303 Train MAE: 0.3028, Test MAE: 0.3130, Train Accuracy: 0.3914, Test Accuracy: 0.3740\n",
      "Epoch 50/100, Train Loss: 1.6986, Test Loss: 1.8118 Train MAE: 0.2920, Test MAE: 0.3029, Train Accuracy: 0.3910, Test Accuracy: 0.3756\n",
      "Epoch 60/100, Train Loss: 1.6728, Test Loss: 1.7976 Train MAE: 0.2835, Test MAE: 0.2958, Train Accuracy: 0.3937, Test Accuracy: 0.3813\n",
      "Epoch 70/100, Train Loss: 1.6571, Test Loss: 1.8022 Train MAE: 0.2781, Test MAE: 0.2915, Train Accuracy: 0.3920, Test Accuracy: 0.3667\n",
      "Epoch 80/100, Train Loss: 1.6439, Test Loss: 1.7994 Train MAE: 0.2733, Test MAE: 0.2877, Train Accuracy: 0.3931, Test Accuracy: 0.3700\n",
      "Epoch 90/100, Train Loss: 1.6373, Test Loss: 1.8010 Train MAE: 0.2696, Test MAE: 0.2843, Train Accuracy: 0.3948, Test Accuracy: 0.3732\n",
      "Epoch 100/100, Train Loss: 1.6313, Test Loss: 1.8116 Train MAE: 0.2673, Test MAE: 0.2829, Train Accuracy: 0.3950, Test Accuracy: 0.3732\n"
     ]
    }
   ],
   "source": [
    "n_epochs = 100\n",
    "\n",
    "# Stuff to store\n",
    "train_losses = np.zeros(n_epochs)\n",
    "train_maes = np.zeros(n_epochs)\n",
    "train_accuracies = np.zeros(n_epochs)\n",
    "\n",
    "test_losses = np.zeros(n_epochs)\n",
    "test_maes = np.zeros(n_epochs)\n",
    "test_accuracies = np.zeros(n_epochs)\n",
    "\n",
    "for it in range(n_epochs):\n",
    "    train_loss = []\n",
    "    train_mae = []\n",
    "    test_loss = []\n",
    "    test_mae = []\n",
    "    correct_train = 0\n",
    "    correct_test = 0\n",
    "    for inputs, targets in train_loader:\n",
    "        # move data to GPU\n",
    "        inputs, targets = inputs.to(device), targets.to(device)\n",
    "\n",
    "        # zero the parameter gradients\n",
    "        optimizer.zero_grad()\n",
    "        \n",
    "        # Forward pass\n",
    "        outputs = fitness_function(inputs)\n",
    "        loss = coral_loss(outputs, targets)\n",
    "\n",
    "        # Backward and optimize\n",
    "        loss.backward()\n",
    "        optimizer.step()\n",
    "\n",
    "        # Store loss and other report measures\n",
    "        train_loss.append(loss.item())\n",
    "        train_mae.append(report_measure(torch.sigmoid(outputs), targets).item())\n",
    "        \n",
    "        # Count correct predictions\n",
    "        correct_train += (decode_classes(torch.sigmoid(outputs)) == decode_classes(targets)).sum()\n",
    "        \n",
    "    # Get train loss and test loss\n",
    "    train_loss = np.mean(train_loss)\n",
    "    train_mae = np.mean(train_mae)\n",
    "    \n",
    "    # Get train accuracy\n",
    "    train_accuracy = correct_train / len(train_dataset.X)\n",
    "\n",
    "    for inputs, targets in test_loader:\n",
    "        inputs, targets = inputs.to(device), targets.to(device)\n",
    "        outputs = fitness_function(inputs)\n",
    "        loss = coral_loss(outputs, targets)\n",
    "        test_loss.append(loss.item())\n",
    "        test_mae.append(report_measure(torch.sigmoid(outputs), targets).item())\n",
    "        correct_test += (decode_classes(torch.sigmoid(outputs)) == decode_classes(targets)).sum()\n",
    "    test_loss = np.mean(test_loss)\n",
    "    test_mae = np.mean(test_mae)\n",
    "    test_accuracy = correct_test / len(test_dataset.X)\n",
    "\n",
    "    # Save losses\n",
    "    train_losses[it] = train_loss\n",
    "    train_maes[it] = train_mae\n",
    "    test_losses[it] = test_loss\n",
    "    test_maes[it] = test_mae\n",
    "    train_accuracies[it] = train_accuracy\n",
    "    test_accuracies[it] = test_accuracy\n",
    "\n",
    "    if (it + 1) % 10 == 0 or it==0:\n",
    "        print(f'Epoch {it + 1}/{n_epochs}, Train Loss: {train_loss:.4f}, Test Loss: {test_loss:.4f}'\n",
    "              f' Train MAE: {train_mae:.4f}, Test MAE: {test_mae:.4f}, Train Accuracy: {train_accuracy:.4f}, Test Accuracy: {test_accuracy:.4f}')"
   ]
  },
  {
   "cell_type": "markdown",
   "metadata": {
    "pycharm": {
     "name": "#%% md\n"
    }
   },
   "source": [
    "\n",
    "#### Plot the train loss and test loss per iteration"
   ]
  },
  {
   "cell_type": "code",
   "execution_count": 14,
   "metadata": {
    "collapsed": false,
    "jupyter": {
     "outputs_hidden": false
    },
    "pycharm": {
     "name": "#%%\n"
    }
   },
   "outputs": [
    {
     "data": {
      "image/png": "[encoded data removed]",
      "text/plain": [
       "<Figure size 432x288 with 1 Axes>"
      ]
     },
     "metadata": {
      "needs_background": "light"
     },
     "output_type": "display_data"
    }
   ],
   "source": [
    "plt.plot(train_losses, label='train loss')\n",
    "plt.plot(test_losses, label='test loss')\n",
    "plt.legend()\n",
    "plt.show()"
   ]
  },
  {
   "cell_type": "code",
   "execution_count": 15,
   "metadata": {},
   "outputs": [
    {
     "data": {
      "image/png": "[encoded data removed]",
      "text/plain": [
       "<Figure size 432x288 with 1 Axes>"
      ]
     },
     "metadata": {
      "needs_background": "light"
     },
     "output_type": "display_data"
    }
   ],
   "source": [
    "plt.plot(train_maes, label='train MAE')\n",
    "plt.plot(test_maes, label='test MAE')\n",
    "plt.legend()\n",
    "plt.show()"
   ]
  },
  {
   "cell_type": "code",
   "execution_count": 16,
   "metadata": {},
   "outputs": [
    {
     "data": {
      "image/png": "[encoded data removed]",
      "text/plain": [
       "<Figure size 432x288 with 1 Axes>"
      ]
     },
     "metadata": {
      "needs_background": "light"
     },
     "output_type": "display_data"
    }
   ],
   "source": [
    "plt.plot(train_accuracies, label='train accuracy')\n",
    "plt.plot(test_accuracies, label='test accuracy')\n",
    "plt.legend()\n",
    "plt.show()"
   ]
  },
  {
   "cell_type": "markdown",
   "metadata": {},
   "source": [
    "#### Save trained model"
   ]
  },
  {
   "cell_type": "code",
   "execution_count": 123,
   "metadata": {
    "collapsed": false,
    "jupyter": {
     "outputs_hidden": false
    },
    "pycharm": {
     "name": "#%%\n"
    }
   },
   "outputs": [],
   "source": [
    "torch.save(fitness_function.state_dict(), \"models/best_fitness_function_path.pth\")"
   ]
  },
  {
   "cell_type": "markdown",
   "metadata": {
    "pycharm": {
     "name": "#%% md\n"
    }
   },
   "source": [
    "#### Load model and make predictions"
   ]
  },
  {
   "cell_type": "code",
   "execution_count": 124,
   "metadata": {
    "collapsed": false,
    "jupyter": {
     "outputs_hidden": false
    },
    "pycharm": {
     "name": "#%%\n"
    }
   },
   "outputs": [
    {
     "data": {
      "text/plain": [
       "OrdinalClassifierFNN(\n",
       "  (hidden): ModuleList(\n",
       "    (0): Linear(in_features=38, out_features=28, bias=True)\n",
       "  )\n",
       "  (coral_weights): Linear(in_features=28, out_features=1, bias=False)\n",
       ")"
      ]
     },
     "execution_count": 124,
     "metadata": {},
     "output_type": "execute_result"
    }
   ],
   "source": [
    "model = OrdinalClassifierFNN(num_classes=5, layer_sizes=[38,28])\n",
    "model.load_state_dict(torch.load(\"models/best_fitness_function_path.pth\"))\n",
    "model.eval()"
   ]
  },
  {
   "cell_type": "code",
   "execution_count": 125,
   "metadata": {
    "collapsed": false,
    "jupyter": {
     "outputs_hidden": false
    },
    "pycharm": {
     "name": "#%%\n"
    }
   },
   "outputs": [],
   "source": [
    "random_input = torch.from_numpy(np.random.normal(size=[1, 38]).astype(np.float32))\n",
    "\n",
    "output = model(random_input)"
   ]
  },
  {
   "cell_type": "code",
   "execution_count": 126,
   "metadata": {
    "collapsed": false,
    "jupyter": {
     "outputs_hidden": false
    },
    "pycharm": {
     "name": "#%%\n"
    }
   },
   "outputs": [
    {
     "data": {
      "text/plain": [
       "tensor([[-3.2854, -4.6950, -6.2608, -8.2393]], grad_fn=<AddBackward0>)"
      ]
     },
     "execution_count": 126,
     "metadata": {},
     "output_type": "execute_result"
    }
   ],
   "source": [
    "output"
   ]
  },
  {
   "cell_type": "code",
   "execution_count": 127,
   "metadata": {
    "collapsed": false,
    "jupyter": {
     "outputs_hidden": false
    },
    "pycharm": {
     "name": "#%%\n"
    }
   },
   "outputs": [
    {
     "data": {
      "text/plain": [
       "array([[0]])"
      ]
     },
     "execution_count": 127,
     "metadata": {},
     "output_type": "execute_result"
    }
   ],
   "source": [
    "decode_classes(output)"
   ]
  }
 ],
 "metadata": {
  "kernelspec": {
   "display_name": "animate_logos",
   "language": "python",
   "name": "animate_logos"
  },
  "language_info": {
   "codemirror_mode": {
    "name": "ipython",
    "version": 3
   },
   "file_extension": ".py",
   "mimetype": "text/x-python",
   "name": "python",
   "nbconvert_exporter": "python",
   "pygments_lexer": "ipython3",
   "version": "3.8.8"
  }
 },
 "nbformat": 4,
 "nbformat_minor": 4
}
