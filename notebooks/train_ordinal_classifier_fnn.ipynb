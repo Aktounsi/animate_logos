{
 "cells": [
  {
   "cell_type": "markdown",
   "metadata": {
    "pycharm": {
     "name": "#%% md\n"
    }
   },
   "source": [
    "# Surrogate Model\n",
    "### Training of Feedforward Neural Network with special architecture for Ordinal Classification"
   ]
  },
  {
   "cell_type": "code",
   "execution_count": 1,
   "metadata": {
    "collapsed": false,
    "jupyter": {
     "outputs_hidden": false
    },
    "pycharm": {
     "name": "#%%\n"
    }
   },
   "outputs": [],
   "source": [
    "import torch\n",
    "import torch.nn as nn\n",
    "import numpy as np\n",
    "import random\n",
    "import matplotlib.pyplot as plt\n",
    "import os\n",
    "os.chdir(\"..\")\n",
    "from sklearn.preprocessing import StandardScaler\n",
    "from src.models.ordinal_classifier_fnn import *\n",
    "from src.models.coral_loss import *\n",
    "from src.data.sm_dataloader import *\n",
    "from src.preprocessing.sm_label_transformer import *\n",
    "import torch.nn.functional as F\n",
    "from sklearn.metrics import mean_absolute_error\n",
    "from pickle import dump"
   ]
  },
  {
   "cell_type": "markdown",
   "metadata": {},
   "source": [
    "### 1. Set seeds"
   ]
  },
  {
   "cell_type": "code",
   "execution_count": 2,
   "metadata": {
    "collapsed": false,
    "jupyter": {
     "outputs_hidden": false
    },
    "pycharm": {
     "name": "#%%\n"
    }
   },
   "outputs": [],
   "source": [
    "# Set seeds in order to reproduce results\n",
    "torch.manual_seed(73)\n",
    "random.seed(73)\n",
    "np.random.seed(73)"
   ]
  },
  {
   "cell_type": "markdown",
   "metadata": {
    "pycharm": {
     "name": "#%% md\n"
    }
   },
   "source": [
    "### 2. Load dataset"
   ]
  },
  {
   "cell_type": "code",
   "execution_count": 3,
   "metadata": {
    "collapsed": false,
    "jupyter": {
     "outputs_hidden": false
    },
    "pycharm": {
     "name": "#%%\n"
    }
   },
   "outputs": [
    {
     "data": {
      "text/plain": [
       "torch.Size([5309, 38])"
      ]
     },
     "execution_count": 3,
     "metadata": {},
     "output_type": "execute_result"
    }
   ],
   "source": [
    "# Replace by true labeled dataset if available\n",
    "train_dataset = DatasetSM(train=True, augmented=False, path=\"data/surrogate_model\")\n",
    "test_dataset = DatasetSM(train=False, path=\"data/surrogate_model\")\n",
    "train_dataset.X.shape"
   ]
  },
  {
   "cell_type": "code",
   "execution_count": 4,
   "metadata": {
    "collapsed": false,
    "jupyter": {
     "outputs_hidden": false
    },
    "pycharm": {
     "name": "#%%\n"
    }
   },
   "outputs": [
    {
     "data": {
      "text/plain": [
       "tensor([[ 0.0000,  0.0000,  0.0000,  ...,  0.0395,  0.0514, 24.0000],\n",
       "        [ 0.0000,  0.0000,  0.0000,  ...,  0.7143,  0.7070, 24.0000],\n",
       "        [ 0.0000,  0.0000,  0.0000,  ...,  0.7143,  0.7786, 24.0000],\n",
       "        ...,\n",
       "        [ 0.0000,  0.0000,  0.0000,  ...,  0.6105,  0.4907, 24.0000],\n",
       "        [ 0.0000,  1.0000,  0.0000,  ...,  0.8615,  0.5000, 24.0000],\n",
       "        [ 1.0000,  0.0000,  0.0000,  ...,  0.6105,  0.4907, 24.0000]])"
      ]
     },
     "execution_count": 4,
     "metadata": {},
     "output_type": "execute_result"
    }
   ],
   "source": [
    "train_dataset.X"
   ]
  },
  {
   "cell_type": "code",
   "execution_count": 5,
   "metadata": {
    "collapsed": false,
    "jupyter": {
     "outputs_hidden": false
    },
    "pycharm": {
     "name": "#%%\n"
    }
   },
   "outputs": [
    {
     "data": {
      "text/plain": [
       "tensor([[1., 1., 1., 0.],\n",
       "        [1., 1., 1., 0.],\n",
       "        [1., 1., 1., 0.],\n",
       "        ...,\n",
       "        [1., 1., 1., 0.],\n",
       "        [1., 1., 0., 0.],\n",
       "        [0., 0., 0., 0.]])"
      ]
     },
     "execution_count": 5,
     "metadata": {},
     "output_type": "execute_result"
    }
   ],
   "source": [
    "train_dataset.y"
   ]
  },
  {
   "cell_type": "markdown",
   "metadata": {
    "pycharm": {
     "name": "#%% md\n"
    }
   },
   "source": [
    "### 3. Scale training and test data"
   ]
  },
  {
   "cell_type": "code",
   "execution_count": 6,
   "metadata": {
    "collapsed": false,
    "jupyter": {
     "outputs_hidden": false
    },
    "pycharm": {
     "name": "#%%\n"
    }
   },
   "outputs": [],
   "source": [
    "scaler = StandardScaler()\n",
    "\n",
    "# only scale numeric variables that are not one-hot encoded\n",
    "scaler.fit(train_dataset.X[:, 12:])\n",
    "train_dataset.scale(scaler)\n",
    "test_dataset.scale(scaler)"
   ]
  },
  {
   "cell_type": "code",
   "execution_count": 40,
   "metadata": {},
   "outputs": [
    {
     "data": {
      "text/plain": [
       "tensor([ 0.0000e+00,  0.0000e+00,  0.0000e+00,  1.0000e+00,  0.0000e+00,\n",
       "         0.0000e+00, -1.0000e+00, -1.0000e+00, -1.0000e+00, -1.0000e+00,\n",
       "         8.4872e-02,  8.3550e-01,  9.0731e-02,  9.1726e-01, -2.2292e-01,\n",
       "         1.0261e+00, -1.0310e+00,  3.8478e-01,  4.4583e-01,  3.7610e+00,\n",
       "         9.0707e-02, -1.5281e+00, -1.1364e+00, -1.0705e+00, -8.6565e-01,\n",
       "        -7.8171e-01, -9.8579e-01, -8.6640e-01, -6.1583e-01, -3.6518e-01,\n",
       "        -2.7900e-01, -7.6306e-01,  2.0780e+00,  4.8552e-01, -1.5957e-01,\n",
       "        -2.7360e-03, -1.3878e+00,  9.0921e-02])"
      ]
     },
     "execution_count": 40,
     "metadata": {},
     "output_type": "execute_result"
    }
   ],
   "source": [
    "#train_dataset.X\n",
    "train_dataset.X[2900]"
   ]
  },
  {
   "cell_type": "code",
   "execution_count": 104,
   "metadata": {},
   "outputs": [],
   "source": [
    "# save fitted scaler\n",
    "dump(scaler, open('models/sm_train_standard_scaler.pkl', 'wb'))"
   ]
  },
  {
   "cell_type": "code",
   "execution_count": 105,
   "metadata": {},
   "outputs": [],
   "source": [
    "#  save scaled dataset\n",
    "cols_X = [f'an_vec_{i}' for i in range(12)] + [f'emb_{i}' for i in range(10)] + ['_'.join(['fill', ch]) for ch in ['r','g','b']] + ['_'.join(['svg_fill', ch]) for ch in ['r','g','b']] + ['_'.join(['diff_fill', ch]) for ch in ['r','g','b']] + ['rel_height','rel_width','rel_x_position','rel_y_position','rel_x_position_to_animations','rel_y_position_to_animations','nr_paths_svg']\n",
    "cols_y = [f'rating_{i}' for i in range(4)]\n",
    "\n",
    "train_X_scaled = pd.DataFrame(train_dataset.X.numpy(), columns=cols_X)\n",
    "train_y_scaled = pd.DataFrame(train_dataset.y.numpy(), columns=cols_y)\n",
    "train_scaled = pd.concat([train_X_scaled, train_y_scaled], axis=1)\n",
    "\n",
    "test_X_scaled = pd.DataFrame(test_dataset.X.numpy(), columns=cols_X)\n",
    "test_y_scaled = pd.DataFrame(test_dataset.y.numpy(), columns=cols_y)\n",
    "test_scaled = pd.concat([test_X_scaled, test_y_scaled], axis=1)\n",
    "\n",
    "train_scaled.to_csv('data/surrogate_model/sm_train_data_scaled.csv', index=False)\n",
    "test_scaled.to_csv('data/surrogate_model/sm_test_data_scaled.csv', index=False)"
   ]
  },
  {
   "cell_type": "code",
   "execution_count": 106,
   "metadata": {},
   "outputs": [
    {
     "data": {
      "text/html": [
       "<div>\n",
       "<style scoped>\n",
       "    .dataframe tbody tr th:only-of-type {\n",
       "        vertical-align: middle;\n",
       "    }\n",
       "\n",
       "    .dataframe tbody tr th {\n",
       "        vertical-align: top;\n",
       "    }\n",
       "\n",
       "    .dataframe thead th {\n",
       "        text-align: right;\n",
       "    }\n",
       "</style>\n",
       "<table border=\"1\" class=\"dataframe\">\n",
       "  <thead>\n",
       "    <tr style=\"text-align: right;\">\n",
       "      <th></th>\n",
       "      <th>an_vec_0</th>\n",
       "      <th>an_vec_1</th>\n",
       "      <th>an_vec_2</th>\n",
       "      <th>an_vec_3</th>\n",
       "      <th>an_vec_4</th>\n",
       "      <th>an_vec_5</th>\n",
       "      <th>an_vec_6</th>\n",
       "      <th>an_vec_7</th>\n",
       "      <th>an_vec_8</th>\n",
       "      <th>an_vec_9</th>\n",
       "      <th>...</th>\n",
       "      <th>rel_width</th>\n",
       "      <th>rel_x_position</th>\n",
       "      <th>rel_y_position</th>\n",
       "      <th>rel_x_position_to_animations</th>\n",
       "      <th>rel_y_position_to_animations</th>\n",
       "      <th>nr_paths_svg</th>\n",
       "      <th>rating_0</th>\n",
       "      <th>rating_1</th>\n",
       "      <th>rating_2</th>\n",
       "      <th>rating_3</th>\n",
       "    </tr>\n",
       "  </thead>\n",
       "  <tbody>\n",
       "    <tr>\n",
       "      <th>0</th>\n",
       "      <td>0.0</td>\n",
       "      <td>0.0</td>\n",
       "      <td>0.0</td>\n",
       "      <td>1.0</td>\n",
       "      <td>0.0</td>\n",
       "      <td>0.0</td>\n",
       "      <td>-1.000000</td>\n",
       "      <td>-1.000000</td>\n",
       "      <td>-1.0</td>\n",
       "      <td>-1.000000</td>\n",
       "      <td>...</td>\n",
       "      <td>-0.861189</td>\n",
       "      <td>-1.566257</td>\n",
       "      <td>-1.881579</td>\n",
       "      <td>-1.831419</td>\n",
       "      <td>-1.945342</td>\n",
       "      <td>0.035163</td>\n",
       "      <td>1.0</td>\n",
       "      <td>1.0</td>\n",
       "      <td>1.0</td>\n",
       "      <td>0.0</td>\n",
       "    </tr>\n",
       "    <tr>\n",
       "      <th>1</th>\n",
       "      <td>0.0</td>\n",
       "      <td>0.0</td>\n",
       "      <td>0.0</td>\n",
       "      <td>0.0</td>\n",
       "      <td>0.0</td>\n",
       "      <td>1.0</td>\n",
       "      <td>-1.000000</td>\n",
       "      <td>-1.000000</td>\n",
       "      <td>-1.0</td>\n",
       "      <td>-1.000000</td>\n",
       "      <td>...</td>\n",
       "      <td>0.618456</td>\n",
       "      <td>0.412917</td>\n",
       "      <td>0.790924</td>\n",
       "      <td>0.846977</td>\n",
       "      <td>0.939290</td>\n",
       "      <td>0.035163</td>\n",
       "      <td>1.0</td>\n",
       "      <td>1.0</td>\n",
       "      <td>1.0</td>\n",
       "      <td>0.0</td>\n",
       "    </tr>\n",
       "    <tr>\n",
       "      <th>2</th>\n",
       "      <td>0.0</td>\n",
       "      <td>0.0</td>\n",
       "      <td>0.0</td>\n",
       "      <td>0.0</td>\n",
       "      <td>1.0</td>\n",
       "      <td>0.0</td>\n",
       "      <td>-1.000000</td>\n",
       "      <td>-1.000000</td>\n",
       "      <td>-1.0</td>\n",
       "      <td>-1.000000</td>\n",
       "      <td>...</td>\n",
       "      <td>0.618456</td>\n",
       "      <td>0.412917</td>\n",
       "      <td>1.082721</td>\n",
       "      <td>0.846977</td>\n",
       "      <td>1.254249</td>\n",
       "      <td>0.035163</td>\n",
       "      <td>1.0</td>\n",
       "      <td>1.0</td>\n",
       "      <td>1.0</td>\n",
       "      <td>0.0</td>\n",
       "    </tr>\n",
       "    <tr>\n",
       "      <th>3</th>\n",
       "      <td>1.0</td>\n",
       "      <td>0.0</td>\n",
       "      <td>0.0</td>\n",
       "      <td>0.0</td>\n",
       "      <td>0.0</td>\n",
       "      <td>0.0</td>\n",
       "      <td>0.134364</td>\n",
       "      <td>0.847434</td>\n",
       "      <td>-1.0</td>\n",
       "      <td>-1.000000</td>\n",
       "      <td>...</td>\n",
       "      <td>-0.861189</td>\n",
       "      <td>-1.566257</td>\n",
       "      <td>-1.881579</td>\n",
       "      <td>-1.831419</td>\n",
       "      <td>-1.945342</td>\n",
       "      <td>0.035163</td>\n",
       "      <td>0.0</td>\n",
       "      <td>0.0</td>\n",
       "      <td>0.0</td>\n",
       "      <td>0.0</td>\n",
       "    </tr>\n",
       "    <tr>\n",
       "      <th>4</th>\n",
       "      <td>0.0</td>\n",
       "      <td>0.0</td>\n",
       "      <td>1.0</td>\n",
       "      <td>0.0</td>\n",
       "      <td>0.0</td>\n",
       "      <td>0.0</td>\n",
       "      <td>-1.000000</td>\n",
       "      <td>-1.000000</td>\n",
       "      <td>-1.0</td>\n",
       "      <td>0.763775</td>\n",
       "      <td>...</td>\n",
       "      <td>0.618456</td>\n",
       "      <td>0.412917</td>\n",
       "      <td>0.790924</td>\n",
       "      <td>0.846977</td>\n",
       "      <td>0.939290</td>\n",
       "      <td>0.035163</td>\n",
       "      <td>1.0</td>\n",
       "      <td>1.0</td>\n",
       "      <td>0.0</td>\n",
       "      <td>0.0</td>\n",
       "    </tr>\n",
       "  </tbody>\n",
       "</table>\n",
       "<p>5 rows × 42 columns</p>\n",
       "</div>"
      ],
      "text/plain": [
       "   an_vec_0  an_vec_1  an_vec_2  an_vec_3  an_vec_4  an_vec_5  an_vec_6  \\\n",
       "0       0.0       0.0       0.0       1.0       0.0       0.0 -1.000000   \n",
       "1       0.0       0.0       0.0       0.0       0.0       1.0 -1.000000   \n",
       "2       0.0       0.0       0.0       0.0       1.0       0.0 -1.000000   \n",
       "3       1.0       0.0       0.0       0.0       0.0       0.0  0.134364   \n",
       "4       0.0       0.0       1.0       0.0       0.0       0.0 -1.000000   \n",
       "\n",
       "   an_vec_7  an_vec_8  an_vec_9  ...  rel_width  rel_x_position  \\\n",
       "0 -1.000000      -1.0 -1.000000  ...  -0.861189       -1.566257   \n",
       "1 -1.000000      -1.0 -1.000000  ...   0.618456        0.412917   \n",
       "2 -1.000000      -1.0 -1.000000  ...   0.618456        0.412917   \n",
       "3  0.847434      -1.0 -1.000000  ...  -0.861189       -1.566257   \n",
       "4 -1.000000      -1.0  0.763775  ...   0.618456        0.412917   \n",
       "\n",
       "   rel_y_position  rel_x_position_to_animations  rel_y_position_to_animations  \\\n",
       "0       -1.881579                     -1.831419                     -1.945342   \n",
       "1        0.790924                      0.846977                      0.939290   \n",
       "2        1.082721                      0.846977                      1.254249   \n",
       "3       -1.881579                     -1.831419                     -1.945342   \n",
       "4        0.790924                      0.846977                      0.939290   \n",
       "\n",
       "   nr_paths_svg  rating_0  rating_1  rating_2  rating_3  \n",
       "0      0.035163       1.0       1.0       1.0       0.0  \n",
       "1      0.035163       1.0       1.0       1.0       0.0  \n",
       "2      0.035163       1.0       1.0       1.0       0.0  \n",
       "3      0.035163       0.0       0.0       0.0       0.0  \n",
       "4      0.035163       1.0       1.0       0.0       0.0  \n",
       "\n",
       "[5 rows x 42 columns]"
      ]
     },
     "execution_count": 106,
     "metadata": {},
     "output_type": "execute_result"
    }
   ],
   "source": [
    "train_scaled.head()"
   ]
  },
  {
   "cell_type": "markdown",
   "metadata": {},
   "source": [
    "### 4. Upscaling of class 4/\"Very Good\" (optional, was shown to not improve the performance^)"
   ]
  },
  {
   "cell_type": "code",
   "execution_count": 107,
   "metadata": {},
   "outputs": [],
   "source": [
    "# Get indices where data label equals 4\n",
    "#label_counts = {i: len(np.where(torch.sum(train_dataset.y, axis=1) == i)[0]) for i in range(5)}\n",
    "#i_class4 = np.where(torch.sum(train_dataset.y, axis=1) == 4)[0]\n",
    "# Calculate upsample size (mean of class sizes 0-3 - class size 4)\n",
    "#upsample_size = round(np.mean([label_counts[i] for i in range(4)])) - label_counts[4]\n",
    "# Get upsample indices\n",
    "#i_class4_upsampled = np.random.choice(i_class4, size=upsample_size, replace=True)"
   ]
  },
  {
   "cell_type": "code",
   "execution_count": 108,
   "metadata": {},
   "outputs": [],
   "source": [
    "# Create upsampled dataframe\n",
    "#train_dataset.y = torch.vstack([train_dataset.y, train_dataset.y[i_class4_upsampled]])\n",
    "#train_dataset.X = torch.vstack([train_dataset.X, train_dataset.X[i_class4_upsampled]])\n",
    "#train_dataset.X.shape"
   ]
  },
  {
   "cell_type": "markdown",
   "metadata": {},
   "source": [
    "### 5. Train model"
   ]
  },
  {
   "cell_type": "markdown",
   "metadata": {
    "pycharm": {
     "name": "#%% md\n"
    }
   },
   "source": [
    "#### 5.1 Build model and switch to GPU if available"
   ]
  },
  {
   "cell_type": "code",
   "execution_count": 109,
   "metadata": {
    "collapsed": false,
    "jupyter": {
     "outputs_hidden": false
    },
    "pycharm": {
     "name": "#%%\n"
    }
   },
   "outputs": [
    {
     "name": "stdout",
     "output_type": "stream",
     "text": [
      "cpu\n"
     ]
    },
    {
     "data": {
      "text/plain": [
       "OrdinalClassifierFNN(\n",
       "  (hidden): ModuleList(\n",
       "    (0): Linear(in_features=38, out_features=28, bias=True)\n",
       "  )\n",
       "  (coral_weights): Linear(in_features=28, out_features=1, bias=False)\n",
       ")"
      ]
     },
     "execution_count": 109,
     "metadata": {},
     "output_type": "execute_result"
    }
   ],
   "source": [
    "fitness_function = OrdinalClassifierFNN(num_classes=5, layer_sizes=[38,28])\n",
    "\n",
    "device = torch.device(\"cuda:0\" if torch.cuda.is_available() else \"cpu\")\n",
    "print(device)\n",
    "fitness_function.to(device)"
   ]
  },
  {
   "cell_type": "code",
   "execution_count": 110,
   "metadata": {},
   "outputs": [
    {
     "name": "stdout",
     "output_type": "stream",
     "text": [
      "tensor([[ 0.6275,  0.3775,  0.1275, -0.1225],\n",
      "        [ 0.6275,  0.3775,  0.1275, -0.1225],\n",
      "        [ 0.5978,  0.3478,  0.0978, -0.1522],\n",
      "        [ 0.6275,  0.3775,  0.1275, -0.1225],\n",
      "        [ 0.5274,  0.2774,  0.0274, -0.2226]], grad_fn=<AddBackward0>)\n"
     ]
    },
    {
     "data": {
      "text/plain": [
       "tensor([[0.6519, 0.5933, 0.5318, 0.4694],\n",
       "        [0.6519, 0.5933, 0.5318, 0.4694],\n",
       "        [0.6452, 0.5861, 0.5244, 0.4620],\n",
       "        [0.6519, 0.5933, 0.5318, 0.4694],\n",
       "        [0.6289, 0.5689, 0.5068, 0.4446]], grad_fn=<SigmoidBackward>)"
      ]
     },
     "execution_count": 110,
     "metadata": {},
     "output_type": "execute_result"
    }
   ],
   "source": [
    "res = fitness_function(test_dataset.X[:5])\n",
    "print(res)\n",
    "torch.sigmoid(res)"
   ]
  },
  {
   "cell_type": "markdown",
   "metadata": {
    "pycharm": {
     "name": "#%% md\n"
    }
   },
   "source": [
    "#### 5.2 Define optimizer and additional measure to report (optional)"
   ]
  },
  {
   "cell_type": "code",
   "execution_count": 111,
   "metadata": {
    "collapsed": false,
    "jupyter": {
     "outputs_hidden": false
    },
    "pycharm": {
     "name": "#%%\n"
    }
   },
   "outputs": [],
   "source": [
    "#criterion = nn.L1Loss()\n",
    "report_measure = nn.L1Loss()\n",
    "optimizer = torch.optim.Adam(fitness_function.parameters())"
   ]
  },
  {
   "cell_type": "markdown",
   "metadata": {
    "pycharm": {
     "name": "#%% md\n"
    }
   },
   "source": [
    "#### 5.3 Define Data loaders"
   ]
  },
  {
   "cell_type": "code",
   "execution_count": 112,
   "metadata": {
    "collapsed": false,
    "jupyter": {
     "outputs_hidden": false
    },
    "pycharm": {
     "name": "#%%\n"
    }
   },
   "outputs": [],
   "source": [
    "# Useful because it automatically generates batches in the training loop and takes care of shuffling\n",
    "\n",
    "batch_size = 128\n",
    "train_loader = torch.utils.data.DataLoader(dataset=train_dataset,\n",
    "                                           batch_size=batch_size,\n",
    "                                           shuffle=True)\n",
    "\n",
    "test_loader = torch.utils.data.DataLoader(dataset=test_dataset,\n",
    "                                          batch_size=batch_size,\n",
    "                                          shuffle=False)"
   ]
  },
  {
   "cell_type": "markdown",
   "metadata": {
    "pycharm": {
     "name": "#%% md\n"
    }
   },
   "source": [
    "#### 5.4 Actual Model training"
   ]
  },
  {
   "cell_type": "code",
   "execution_count": 113,
   "metadata": {
    "collapsed": false,
    "jupyter": {
     "outputs_hidden": false
    },
    "pycharm": {
     "name": "#%%\n"
    }
   },
   "outputs": [
    {
     "name": "stdout",
     "output_type": "stream",
     "text": [
      "Epoch 1/100, Train Loss: 2.5212, Test Loss: 2.4017 Train Binary MAE: 0.4588, Test Binary MAE: 0.4415, Train Accuracy: 0.2283, Test Accuracy: 0.2859, Train Label MAE:  1.3272, Test Label MAE:  1.1213\n",
      "Epoch 10/100, Train Loss: 2.0259, Test Loss: 2.0652 Train Binary MAE: 0.3700, Test Binary MAE: 0.3760, Train Accuracy: 0.3950, Test Accuracy: 0.3732, Train Label MAE:  0.8490, Test Label MAE:  0.8762\n",
      "Epoch 20/100, Train Loss: 1.8757, Test Loss: 1.9387 Train Binary MAE: 0.3385, Test Binary MAE: 0.3466, Train Accuracy: 0.4006, Test Accuracy: 0.3700, Train Label MAE:  0.7974, Test Label MAE:  0.8322\n",
      "Epoch 30/100, Train Loss: 1.7886, Test Loss: 1.8650 Train Binary MAE: 0.3175, Test Binary MAE: 0.3267, Train Accuracy: 0.3956, Test Accuracy: 0.3708, Train Label MAE:  0.7802, Test Label MAE:  0.8189\n",
      "Epoch 40/100, Train Loss: 1.7334, Test Loss: 1.8409 Train Binary MAE: 0.3025, Test Binary MAE: 0.3138, Train Accuracy: 0.3908, Test Accuracy: 0.3691, Train Label MAE:  0.7731, Test Label MAE:  0.8247\n",
      "Epoch 50/100, Train Loss: 1.6981, Test Loss: 1.8059 Train Binary MAE: 0.2918, Test Binary MAE: 0.3029, Train Accuracy: 0.3897, Test Accuracy: 0.3659, Train Label MAE:  0.7657, Test Label MAE:  0.8177\n",
      "Epoch 60/100, Train Loss: 1.6727, Test Loss: 1.7829 Train Binary MAE: 0.2834, Test Binary MAE: 0.2946, Train Accuracy: 0.3920, Test Accuracy: 0.3732, Train Label MAE:  0.7616, Test Label MAE:  0.8080\n",
      "Epoch 70/100, Train Loss: 1.6558, Test Loss: 1.7947 Train Binary MAE: 0.2777, Test Binary MAE: 0.2906, Train Accuracy: 0.3907, Test Accuracy: 0.3691, Train Label MAE:  0.7589, Test Label MAE:  0.8201\n",
      "Epoch 80/100, Train Loss: 1.6424, Test Loss: 1.7993 Train Binary MAE: 0.2729, Test Binary MAE: 0.2874, Train Accuracy: 0.3890, Test Accuracy: 0.3667, Train Label MAE:  0.7578, Test Label MAE:  0.8225\n",
      "Epoch 90/100, Train Loss: 1.6350, Test Loss: 1.7931 Train Binary MAE: 0.2693, Test Binary MAE: 0.2837, Train Accuracy: 0.3903, Test Accuracy: 0.3627, Train Label MAE:  0.7532, Test Label MAE:  0.8248\n",
      "Epoch 100/100, Train Loss: 1.6291, Test Loss: 1.8022 Train Binary MAE: 0.2669, Test Binary MAE: 0.2820, Train Accuracy: 0.3922, Test Accuracy: 0.3578, Train Label MAE:  0.7488, Test Label MAE:  0.8310\n"
     ]
    }
   ],
   "source": [
    "n_epochs = 100\n",
    "\n",
    "# Stuff to store\n",
    "train_losses = np.zeros(n_epochs)\n",
    "train_bin_maes = np.zeros(n_epochs)\n",
    "train_accuracies = np.zeros(n_epochs)\n",
    "train_label_maes = np.zeros(n_epochs)\n",
    "\n",
    "test_losses = np.zeros(n_epochs)\n",
    "test_bin_maes = np.zeros(n_epochs)\n",
    "test_accuracies = np.zeros(n_epochs)\n",
    "test_label_maes = np.zeros(n_epochs)\n",
    "\n",
    "\n",
    "for it in range(n_epochs):\n",
    "    train_loss = []\n",
    "    test_loss = []\n",
    "    train_bin_mae = []\n",
    "    test_bin_mae = []\n",
    "    train_label_mae = []\n",
    "    test_label_mae = []\n",
    "    correct_train = 0\n",
    "    correct_test = 0\n",
    "    for inputs, targets in train_loader:\n",
    "        # move data to GPU\n",
    "        inputs, targets = inputs.to(device), targets.to(device)\n",
    "\n",
    "        # zero the parameter gradients\n",
    "        optimizer.zero_grad()\n",
    "        \n",
    "        # Forward pass\n",
    "        outputs = fitness_function(inputs)\n",
    "        loss = coral_loss(outputs, targets)\n",
    "\n",
    "        # Backward and optimize\n",
    "        loss.backward()\n",
    "        optimizer.step()\n",
    "\n",
    "        # Store loss and other report measures\n",
    "        train_loss.append(loss.item())\n",
    "        train_bin_mae.append(report_measure(torch.sigmoid(outputs), targets).item())\n",
    "        train_label_mae.append(mean_absolute_error(decode_classes(targets), decode_classes(torch.sigmoid(outputs))))\n",
    "        \n",
    "        # Count correct predictions\n",
    "        correct_train += (decode_classes(torch.sigmoid(outputs)) == decode_classes(targets)).sum()\n",
    "        \n",
    "    # Get train loss and test loss\n",
    "    train_loss = np.mean(train_loss)\n",
    "    train_bin_mae = np.mean(train_bin_mae)\n",
    "    train_label_mae = np.mean(train_label_mae)\n",
    "    \n",
    "    # Get train accuracy\n",
    "    train_accuracy = correct_train / len(train_dataset.X)\n",
    "    \n",
    "    predicted_classes = []\n",
    "    for inputs, targets in test_loader:\n",
    "        inputs, targets = inputs.to(device), targets.to(device)\n",
    "        outputs = fitness_function(inputs)\n",
    "        loss = coral_loss(outputs, targets)\n",
    "        test_loss.append(loss.item())\n",
    "        test_bin_mae.append(report_measure(torch.sigmoid(outputs), targets).item())\n",
    "        test_label_mae.append(mean_absolute_error(decode_classes(targets), decode_classes(torch.sigmoid(outputs))))\n",
    "        correct_test += (decode_classes(torch.sigmoid(outputs)) == decode_classes(targets)).sum()\n",
    "    test_loss = np.mean(test_loss)\n",
    "    test_bin_mae = np.mean(test_bin_mae)\n",
    "    test_label_mae = np.mean(test_label_mae)\n",
    "    test_accuracy = correct_test / len(test_dataset.X)\n",
    "\n",
    "    # Save losses\n",
    "    train_losses[it] = train_loss\n",
    "    train_bin_maes[it] = train_bin_mae\n",
    "    test_losses[it] = test_loss\n",
    "    test_bin_maes[it] = test_bin_mae\n",
    "    train_label_maes[it] = train_label_mae\n",
    "    test_label_maes[it] = test_label_mae\n",
    "    train_accuracies[it] = train_accuracy\n",
    "    test_accuracies[it] = test_accuracy\n",
    "\n",
    "    if (it + 1) % 10 == 0 or it==0:\n",
    "        print(f'Epoch {it + 1}/{n_epochs}, Train Loss: {train_loss:.4f}, Test Loss: {test_loss:.4f}'\n",
    "              f' Train Binary MAE: {train_bin_mae:.4f}, Test Binary MAE: {test_bin_mae:.4f}, Train Accuracy: {train_accuracy:.4f}, Test Accuracy: {test_accuracy:.4f}, Train Label MAE:  {train_label_mae:.4f}, Test Label MAE:  {test_label_mae:.4f}')"
   ]
  },
  {
   "cell_type": "markdown",
   "metadata": {},
   "source": [
    "### 6. Evaluate model performance"
   ]
  },
  {
   "cell_type": "markdown",
   "metadata": {},
   "source": [
    "#### 6.1 Compute benchmark performance values"
   ]
  },
  {
   "cell_type": "code",
   "execution_count": 114,
   "metadata": {},
   "outputs": [
    {
     "data": {
      "text/plain": [
       "5309"
      ]
     },
     "metadata": {},
     "output_type": "display_data"
    },
    {
     "data": {
      "text/plain": [
       "{0: 1181, 1: 1202, 2: 1511, 3: 1097, 4: 318}"
      ]
     },
     "execution_count": 114,
     "metadata": {},
     "output_type": "execute_result"
    }
   ],
   "source": [
    "unique_train, counts_train = np.unique(decode_classes(train_dataset.y).flatten(), return_counts=True)\n",
    "display(len(train_dataset))\n",
    "dict(zip(unique_train, counts_train))"
   ]
  },
  {
   "cell_type": "code",
   "execution_count": 115,
   "metadata": {},
   "outputs": [
    {
     "data": {
      "text/plain": [
       "1238"
      ]
     },
     "metadata": {},
     "output_type": "display_data"
    },
    {
     "data": {
      "text/plain": [
       "{0: 238, 1: 205, 2: 348, 3: 375, 4: 72}"
      ]
     },
     "execution_count": 115,
     "metadata": {},
     "output_type": "execute_result"
    }
   ],
   "source": [
    "unique_test, counts_test = np.unique(decode_classes(test_dataset.y).flatten(), return_counts=True)\n",
    "display(len(test_dataset.y))\n",
    "dict(zip(unique_test, counts_test))"
   ]
  },
  {
   "cell_type": "code",
   "execution_count": 116,
   "metadata": {},
   "outputs": [
    {
     "name": "stdout",
     "output_type": "stream",
     "text": [
      "Test Benchmark Accuracy: 0.3029\n"
     ]
    }
   ],
   "source": [
    "# Accuracy for majority classifier\n",
    "print(f'Test Benchmark Accuracy: {375/1238 :.4f}')"
   ]
  },
  {
   "cell_type": "code",
   "execution_count": 117,
   "metadata": {},
   "outputs": [
    {
     "name": "stdout",
     "output_type": "stream",
     "text": [
      "Test Benchmark Label MAE: 0.9693\n"
     ]
    }
   ],
   "source": [
    "# Label MAE for constant prediction of class 2\n",
    "print(f'Test Benchmark Label MAE: {2*(238+72)/1238 + 1*(205+375)/1238 :.4f}')"
   ]
  },
  {
   "cell_type": "code",
   "execution_count": 118,
   "metadata": {},
   "outputs": [
    {
     "name": "stdout",
     "output_type": "stream",
     "text": [
      "Test Benchmark Binary MAE: 0.2423\n"
     ]
    }
   ],
   "source": [
    "# Binary MAE for constant prediction of class 2 (1,1,0,0)\n",
    "print(f'Test Benchmark Binary MAE: {(238*0.5 + 205*0.25 + 375*0.25 + 72*0.5)/1238 :.4f}')"
   ]
  },
  {
   "cell_type": "markdown",
   "metadata": {
    "pycharm": {
     "name": "#%% md\n"
    }
   },
   "source": [
    "#### 6.2 Plot the train loss and test loss per epoch"
   ]
  },
  {
   "cell_type": "code",
   "execution_count": 119,
   "metadata": {
    "collapsed": false,
    "jupyter": {
     "outputs_hidden": false
    },
    "pycharm": {
     "name": "#%%\n"
    }
   },
   "outputs": [
    {
     "data": {
      "image/png": "[encoded data removed]",
      "text/plain": [
       "<Figure size 432x288 with 1 Axes>"
      ]
     },
     "metadata": {
      "needs_background": "light"
     },
     "output_type": "display_data"
    }
   ],
   "source": [
    "plt.plot(train_losses, label='train loss')\n",
    "plt.plot(test_losses, label='test loss')\n",
    "plt.legend()\n",
    "plt.show()"
   ]
  },
  {
   "cell_type": "code",
   "execution_count": 120,
   "metadata": {},
   "outputs": [
    {
     "data": {
      "image/png": "[encoded data removed]",
      "text/plain": [
       "<Figure size 432x288 with 1 Axes>"
      ]
     },
     "metadata": {
      "needs_background": "light"
     },
     "output_type": "display_data"
    }
   ],
   "source": [
    "plt.plot(train_bin_maes, label='train binary MAE')\n",
    "plt.plot(test_bin_maes, label='test binary MAE')\n",
    "plt.hlines(0.2423, xmin=0, xmax=100, color='red')\n",
    "plt.legend()\n",
    "plt.show()"
   ]
  },
  {
   "cell_type": "code",
   "execution_count": 121,
   "metadata": {},
   "outputs": [
    {
     "data": {
      "image/png": "[encoded data removed]",
      "text/plain": [
       "<Figure size 432x288 with 1 Axes>"
      ]
     },
     "metadata": {
      "needs_background": "light"
     },
     "output_type": "display_data"
    }
   ],
   "source": [
    "plt.plot(train_label_maes, label='train label MAE')\n",
    "plt.plot(test_label_maes, label='test label MAE')\n",
    "plt.hlines(0.9693, xmin=0, xmax=100, color='red')\n",
    "plt.legend()\n",
    "plt.show()"
   ]
  },
  {
   "cell_type": "code",
   "execution_count": 122,
   "metadata": {},
   "outputs": [
    {
     "data": {
      "image/png": "[encoded data removed]",
      "text/plain": [
       "<Figure size 432x288 with 1 Axes>"
      ]
     },
     "metadata": {
      "needs_background": "light"
     },
     "output_type": "display_data"
    }
   ],
   "source": [
    "plt.plot(train_accuracies, label='train accuracy')\n",
    "plt.plot(test_accuracies, label='test accuracy')\n",
    "plt.hlines(0.3029, xmin=0, xmax=100, color='red')\n",
    "plt.legend()\n",
    "plt.show()"
   ]
  },
  {
   "cell_type": "markdown",
   "metadata": {},
   "source": [
    "### 7. Save and load trained model"
   ]
  },
  {
   "cell_type": "markdown",
   "metadata": {},
   "source": [
    "#### 7.1 Save model"
   ]
  },
  {
   "cell_type": "code",
   "execution_count": 123,
   "metadata": {
    "collapsed": false,
    "jupyter": {
     "outputs_hidden": false
    },
    "pycharm": {
     "name": "#%%\n"
    }
   },
   "outputs": [],
   "source": [
    "torch.save(fitness_function.state_dict(), \"models/sm_fnn.pth\")"
   ]
  },
  {
   "cell_type": "markdown",
   "metadata": {
    "pycharm": {
     "name": "#%% md\n"
    }
   },
   "source": [
    "#### 7.2. Load model and make predictions"
   ]
  },
  {
   "cell_type": "code",
   "execution_count": 124,
   "metadata": {
    "collapsed": false,
    "jupyter": {
     "outputs_hidden": false
    },
    "pycharm": {
     "name": "#%%\n"
    }
   },
   "outputs": [
    {
     "data": {
      "text/plain": [
       "OrdinalClassifierFNN(\n",
       "  (hidden): ModuleList(\n",
       "    (0): Linear(in_features=38, out_features=28, bias=True)\n",
       "  )\n",
       "  (coral_weights): Linear(in_features=28, out_features=1, bias=False)\n",
       ")"
      ]
     },
     "execution_count": 124,
     "metadata": {},
     "output_type": "execute_result"
    }
   ],
   "source": [
    "model = OrdinalClassifierFNN(num_classes=5, layer_sizes=[38,28])\n",
    "model.load_state_dict(torch.load(\"models/sm_fnn.pth\"))\n",
    "model.eval()"
   ]
  },
  {
   "cell_type": "code",
   "execution_count": 125,
   "metadata": {
    "collapsed": false,
    "jupyter": {
     "outputs_hidden": false
    },
    "pycharm": {
     "name": "#%%\n"
    }
   },
   "outputs": [],
   "source": [
    "inp = test_dataset.X[0:1]\n",
    "output = model(inp)"
   ]
  },
  {
   "cell_type": "code",
   "execution_count": 126,
   "metadata": {
    "collapsed": false,
    "jupyter": {
     "outputs_hidden": false
    },
    "pycharm": {
     "name": "#%%\n"
    }
   },
   "outputs": [
    {
     "data": {
      "text/plain": [
       "tensor([[ 0.9084, -0.4368, -1.9579, -3.7928]], grad_fn=<AddBackward0>)"
      ]
     },
     "execution_count": 126,
     "metadata": {},
     "output_type": "execute_result"
    }
   ],
   "source": [
    "output"
   ]
  },
  {
   "cell_type": "code",
   "execution_count": 127,
   "metadata": {},
   "outputs": [
    {
     "data": {
      "text/plain": [
       "1"
      ]
     },
     "execution_count": 127,
     "metadata": {},
     "output_type": "execute_result"
    }
   ],
   "source": [
    "decode_classes(torch.sigmoid(output))[0][0]"
   ]
  }
 ],
 "metadata": {
  "kernelspec": {
   "display_name": "animate_logos",
   "language": "python",
   "name": "animate_logos"
  },
  "language_info": {
   "codemirror_mode": {
    "name": "ipython",
    "version": 3
   },
   "file_extension": ".py",
   "mimetype": "text/x-python",
   "name": "python",
   "nbconvert_exporter": "python",
   "pygments_lexer": "ipython3",
   "version": "3.8.8"
  }
 },
 "nbformat": 4,
 "nbformat_minor": 4
}
