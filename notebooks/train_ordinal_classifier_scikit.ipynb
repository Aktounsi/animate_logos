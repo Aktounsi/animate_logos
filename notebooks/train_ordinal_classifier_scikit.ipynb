{
 "cells": [
  {
   "cell_type": "markdown",
   "metadata": {},
   "source": [
    "# Surrogate Model\n",
    "### Training of Random Forest, Gradient Boosting, and Extra Trees Classifier wrapped in Ordinal Classifier Framework "
   ]
  },
  {
   "cell_type": "code",
   "execution_count": 1,
   "metadata": {},
   "outputs": [],
   "source": [
    "import os\n",
    "os.chdir(\"..\")\n",
    "import pickle\n",
    "import pandas as pd\n",
    "import numpy as np\n",
    "import random\n",
    "import copy\n",
    "from sklearn.linear_model import LogisticRegression\n",
    "from sklearn.model_selection import train_test_split, RandomizedSearchCV\n",
    "from sklearn.ensemble import RandomForestClassifier, ExtraTreesClassifier, GradientBoostingClassifier\n",
    "from src.preprocessing.sm_label_transformer import *\n",
    "from src.models.ordinal_classifier_scikit import *\n",
    "from pprint import pprint\n",
    "from sklearn.model_selection import cross_val_score\n",
    "from sklearn.metrics import mean_absolute_error\n",
    "from sklearn.metrics import accuracy_score\n",
    "from sklearn.metrics import classification_report, confusion_matrix\n",
    "from sklearn.model_selection import StratifiedKFold\n",
    "from sklearn.ensemble import IsolationForest"
   ]
  },
  {
   "cell_type": "markdown",
   "metadata": {},
   "source": [
    "### 1. Set seeds"
   ]
  },
  {
   "cell_type": "code",
   "execution_count": 2,
   "metadata": {},
   "outputs": [],
   "source": [
    "# Set seeds in order to reproduce results\n",
    "random.seed(73)\n",
    "np.random.seed(73)"
   ]
  },
  {
   "cell_type": "markdown",
   "metadata": {},
   "source": [
    "### 2. Load data"
   ]
  },
  {
   "cell_type": "code",
   "execution_count": 5,
   "metadata": {},
   "outputs": [
    {
     "data": {
      "text/html": [
       "<div>\n",
       "<style scoped>\n",
       "    .dataframe tbody tr th:only-of-type {\n",
       "        vertical-align: middle;\n",
       "    }\n",
       "\n",
       "    .dataframe tbody tr th {\n",
       "        vertical-align: top;\n",
       "    }\n",
       "\n",
       "    .dataframe thead th {\n",
       "        text-align: right;\n",
       "    }\n",
       "</style>\n",
       "<table border=\"1\" class=\"dataframe\">\n",
       "  <thead>\n",
       "    <tr style=\"text-align: right;\">\n",
       "      <th></th>\n",
       "      <th>an_vec_0</th>\n",
       "      <th>an_vec_1</th>\n",
       "      <th>an_vec_2</th>\n",
       "      <th>an_vec_3</th>\n",
       "      <th>an_vec_4</th>\n",
       "      <th>an_vec_5</th>\n",
       "      <th>an_vec_6</th>\n",
       "      <th>an_vec_7</th>\n",
       "      <th>an_vec_8</th>\n",
       "      <th>an_vec_9</th>\n",
       "      <th>...</th>\n",
       "      <th>rel_width</th>\n",
       "      <th>rel_x_position</th>\n",
       "      <th>rel_y_position</th>\n",
       "      <th>rel_x_position_to_animations</th>\n",
       "      <th>rel_y_position_to_animations</th>\n",
       "      <th>nr_paths_svg</th>\n",
       "      <th>rating_0</th>\n",
       "      <th>rating_1</th>\n",
       "      <th>rating_2</th>\n",
       "      <th>rating_3</th>\n",
       "    </tr>\n",
       "  </thead>\n",
       "  <tbody>\n",
       "    <tr>\n",
       "      <th>0</th>\n",
       "      <td>0.0</td>\n",
       "      <td>0.0</td>\n",
       "      <td>0.0</td>\n",
       "      <td>1.0</td>\n",
       "      <td>0.0</td>\n",
       "      <td>0.0</td>\n",
       "      <td>-1.000000</td>\n",
       "      <td>-1.000000</td>\n",
       "      <td>-1.0</td>\n",
       "      <td>-1.000000</td>\n",
       "      <td>...</td>\n",
       "      <td>0.054752</td>\n",
       "      <td>0.033838</td>\n",
       "      <td>0.042120</td>\n",
       "      <td>0.039501</td>\n",
       "      <td>0.051404</td>\n",
       "      <td>24.0</td>\n",
       "      <td>1.0</td>\n",
       "      <td>1.0</td>\n",
       "      <td>1.0</td>\n",
       "      <td>0.0</td>\n",
       "    </tr>\n",
       "    <tr>\n",
       "      <th>1</th>\n",
       "      <td>0.0</td>\n",
       "      <td>0.0</td>\n",
       "      <td>0.0</td>\n",
       "      <td>0.0</td>\n",
       "      <td>0.0</td>\n",
       "      <td>1.0</td>\n",
       "      <td>-1.000000</td>\n",
       "      <td>-1.000000</td>\n",
       "      <td>-1.0</td>\n",
       "      <td>-1.000000</td>\n",
       "      <td>...</td>\n",
       "      <td>0.395994</td>\n",
       "      <td>0.501511</td>\n",
       "      <td>0.579289</td>\n",
       "      <td>0.714309</td>\n",
       "      <td>0.706974</td>\n",
       "      <td>24.0</td>\n",
       "      <td>1.0</td>\n",
       "      <td>1.0</td>\n",
       "      <td>1.0</td>\n",
       "      <td>0.0</td>\n",
       "    </tr>\n",
       "    <tr>\n",
       "      <th>2</th>\n",
       "      <td>0.0</td>\n",
       "      <td>0.0</td>\n",
       "      <td>0.0</td>\n",
       "      <td>0.0</td>\n",
       "      <td>1.0</td>\n",
       "      <td>0.0</td>\n",
       "      <td>-1.000000</td>\n",
       "      <td>-1.000000</td>\n",
       "      <td>-1.0</td>\n",
       "      <td>-1.000000</td>\n",
       "      <td>...</td>\n",
       "      <td>0.395994</td>\n",
       "      <td>0.501511</td>\n",
       "      <td>0.637940</td>\n",
       "      <td>0.714309</td>\n",
       "      <td>0.778553</td>\n",
       "      <td>24.0</td>\n",
       "      <td>1.0</td>\n",
       "      <td>1.0</td>\n",
       "      <td>1.0</td>\n",
       "      <td>0.0</td>\n",
       "    </tr>\n",
       "    <tr>\n",
       "      <th>3</th>\n",
       "      <td>1.0</td>\n",
       "      <td>0.0</td>\n",
       "      <td>0.0</td>\n",
       "      <td>0.0</td>\n",
       "      <td>0.0</td>\n",
       "      <td>0.0</td>\n",
       "      <td>0.134364</td>\n",
       "      <td>0.847434</td>\n",
       "      <td>-1.0</td>\n",
       "      <td>-1.000000</td>\n",
       "      <td>...</td>\n",
       "      <td>0.054752</td>\n",
       "      <td>0.033838</td>\n",
       "      <td>0.042120</td>\n",
       "      <td>0.039501</td>\n",
       "      <td>0.051404</td>\n",
       "      <td>24.0</td>\n",
       "      <td>0.0</td>\n",
       "      <td>0.0</td>\n",
       "      <td>0.0</td>\n",
       "      <td>0.0</td>\n",
       "    </tr>\n",
       "    <tr>\n",
       "      <th>4</th>\n",
       "      <td>0.0</td>\n",
       "      <td>0.0</td>\n",
       "      <td>1.0</td>\n",
       "      <td>0.0</td>\n",
       "      <td>0.0</td>\n",
       "      <td>0.0</td>\n",
       "      <td>-1.000000</td>\n",
       "      <td>-1.000000</td>\n",
       "      <td>-1.0</td>\n",
       "      <td>0.763775</td>\n",
       "      <td>...</td>\n",
       "      <td>0.395994</td>\n",
       "      <td>0.501511</td>\n",
       "      <td>0.579289</td>\n",
       "      <td>0.714309</td>\n",
       "      <td>0.706974</td>\n",
       "      <td>24.0</td>\n",
       "      <td>1.0</td>\n",
       "      <td>1.0</td>\n",
       "      <td>0.0</td>\n",
       "      <td>0.0</td>\n",
       "    </tr>\n",
       "  </tbody>\n",
       "</table>\n",
       "<p>5 rows × 42 columns</p>\n",
       "</div>"
      ],
      "text/plain": [
       "   an_vec_0  an_vec_1  an_vec_2  an_vec_3  an_vec_4  an_vec_5  an_vec_6  \\\n",
       "0       0.0       0.0       0.0       1.0       0.0       0.0 -1.000000   \n",
       "1       0.0       0.0       0.0       0.0       0.0       1.0 -1.000000   \n",
       "2       0.0       0.0       0.0       0.0       1.0       0.0 -1.000000   \n",
       "3       1.0       0.0       0.0       0.0       0.0       0.0  0.134364   \n",
       "4       0.0       0.0       1.0       0.0       0.0       0.0 -1.000000   \n",
       "\n",
       "   an_vec_7  an_vec_8  an_vec_9  ...  rel_width  rel_x_position  \\\n",
       "0 -1.000000      -1.0 -1.000000  ...   0.054752        0.033838   \n",
       "1 -1.000000      -1.0 -1.000000  ...   0.395994        0.501511   \n",
       "2 -1.000000      -1.0 -1.000000  ...   0.395994        0.501511   \n",
       "3  0.847434      -1.0 -1.000000  ...   0.054752        0.033838   \n",
       "4 -1.000000      -1.0  0.763775  ...   0.395994        0.501511   \n",
       "\n",
       "   rel_y_position  rel_x_position_to_animations  rel_y_position_to_animations  \\\n",
       "0        0.042120                      0.039501                      0.051404   \n",
       "1        0.579289                      0.714309                      0.706974   \n",
       "2        0.637940                      0.714309                      0.778553   \n",
       "3        0.042120                      0.039501                      0.051404   \n",
       "4        0.579289                      0.714309                      0.706974   \n",
       "\n",
       "   nr_paths_svg  rating_0  rating_1  rating_2  rating_3  \n",
       "0          24.0       1.0       1.0       1.0       0.0  \n",
       "1          24.0       1.0       1.0       1.0       0.0  \n",
       "2          24.0       1.0       1.0       1.0       0.0  \n",
       "3          24.0       0.0       0.0       0.0       0.0  \n",
       "4          24.0       1.0       1.0       0.0       0.0  \n",
       "\n",
       "[5 rows x 42 columns]"
      ]
     },
     "execution_count": 5,
     "metadata": {},
     "output_type": "execute_result"
    }
   ],
   "source": [
    "train_dataset = pd.read_csv(\"data/surrogate_model/sm_train_data_augmented.csv\") # change if augmentation should not be applied\n",
    "test_dataset = pd.read_csv(\"data/surrogate_model/sm_test_data.csv\") \n",
    "train_dataset.head()"
   ]
  },
  {
   "cell_type": "markdown",
   "metadata": {},
   "source": [
    "We need to decode rating labels as orgininal labels are required here."
   ]
  },
  {
   "cell_type": "code",
   "execution_count": 6,
   "metadata": {},
   "outputs": [],
   "source": [
    "X_train = train_dataset.iloc[:,:-4]\n",
    "y_train = train_dataset.iloc[:,-4:]\n",
    "y_train = pd.Series(decode_classes(y_train.to_numpy()).flatten())\n",
    "\n",
    "X_test = test_dataset.iloc[:,:-4]\n",
    "y_test = test_dataset.iloc[:,-4:]\n",
    "y_test = pd.Series(decode_classes(y_test.to_numpy()).flatten())"
   ]
  },
  {
   "cell_type": "code",
   "execution_count": 7,
   "metadata": {},
   "outputs": [
    {
     "data": {
      "text/html": [
       "<div>\n",
       "<style scoped>\n",
       "    .dataframe tbody tr th:only-of-type {\n",
       "        vertical-align: middle;\n",
       "    }\n",
       "\n",
       "    .dataframe tbody tr th {\n",
       "        vertical-align: top;\n",
       "    }\n",
       "\n",
       "    .dataframe thead th {\n",
       "        text-align: right;\n",
       "    }\n",
       "</style>\n",
       "<table border=\"1\" class=\"dataframe\">\n",
       "  <thead>\n",
       "    <tr style=\"text-align: right;\">\n",
       "      <th></th>\n",
       "      <th>an_vec_0</th>\n",
       "      <th>an_vec_1</th>\n",
       "      <th>an_vec_2</th>\n",
       "      <th>an_vec_3</th>\n",
       "      <th>an_vec_4</th>\n",
       "      <th>an_vec_5</th>\n",
       "      <th>an_vec_6</th>\n",
       "      <th>an_vec_7</th>\n",
       "      <th>an_vec_8</th>\n",
       "      <th>an_vec_9</th>\n",
       "      <th>...</th>\n",
       "      <th>diff_fill_r</th>\n",
       "      <th>diff_fill_g</th>\n",
       "      <th>diff_fill_b</th>\n",
       "      <th>rel_height</th>\n",
       "      <th>rel_width</th>\n",
       "      <th>rel_x_position</th>\n",
       "      <th>rel_y_position</th>\n",
       "      <th>rel_x_position_to_animations</th>\n",
       "      <th>rel_y_position_to_animations</th>\n",
       "      <th>nr_paths_svg</th>\n",
       "    </tr>\n",
       "  </thead>\n",
       "  <tbody>\n",
       "    <tr>\n",
       "      <th>0</th>\n",
       "      <td>0.0</td>\n",
       "      <td>0.0</td>\n",
       "      <td>0.0</td>\n",
       "      <td>1.0</td>\n",
       "      <td>0.0</td>\n",
       "      <td>0.0</td>\n",
       "      <td>-1.000000</td>\n",
       "      <td>-1.000000</td>\n",
       "      <td>-1.0</td>\n",
       "      <td>-1.000000</td>\n",
       "      <td>...</td>\n",
       "      <td>-4.541667</td>\n",
       "      <td>-4.541667</td>\n",
       "      <td>-4.541667</td>\n",
       "      <td>0.084239</td>\n",
       "      <td>0.054752</td>\n",
       "      <td>0.033838</td>\n",
       "      <td>0.042120</td>\n",
       "      <td>0.039501</td>\n",
       "      <td>0.051404</td>\n",
       "      <td>24.0</td>\n",
       "    </tr>\n",
       "    <tr>\n",
       "      <th>1</th>\n",
       "      <td>0.0</td>\n",
       "      <td>0.0</td>\n",
       "      <td>0.0</td>\n",
       "      <td>0.0</td>\n",
       "      <td>0.0</td>\n",
       "      <td>1.0</td>\n",
       "      <td>-1.000000</td>\n",
       "      <td>-1.000000</td>\n",
       "      <td>-1.0</td>\n",
       "      <td>-1.000000</td>\n",
       "      <td>...</td>\n",
       "      <td>102.458333</td>\n",
       "      <td>102.458333</td>\n",
       "      <td>102.458333</td>\n",
       "      <td>0.362888</td>\n",
       "      <td>0.395994</td>\n",
       "      <td>0.501511</td>\n",
       "      <td>0.579289</td>\n",
       "      <td>0.714309</td>\n",
       "      <td>0.706974</td>\n",
       "      <td>24.0</td>\n",
       "    </tr>\n",
       "    <tr>\n",
       "      <th>2</th>\n",
       "      <td>0.0</td>\n",
       "      <td>0.0</td>\n",
       "      <td>0.0</td>\n",
       "      <td>0.0</td>\n",
       "      <td>1.0</td>\n",
       "      <td>0.0</td>\n",
       "      <td>-1.000000</td>\n",
       "      <td>-1.000000</td>\n",
       "      <td>-1.0</td>\n",
       "      <td>-1.000000</td>\n",
       "      <td>...</td>\n",
       "      <td>102.458333</td>\n",
       "      <td>102.458333</td>\n",
       "      <td>102.458333</td>\n",
       "      <td>0.362904</td>\n",
       "      <td>0.395994</td>\n",
       "      <td>0.501511</td>\n",
       "      <td>0.637940</td>\n",
       "      <td>0.714309</td>\n",
       "      <td>0.778553</td>\n",
       "      <td>24.0</td>\n",
       "    </tr>\n",
       "    <tr>\n",
       "      <th>3</th>\n",
       "      <td>1.0</td>\n",
       "      <td>0.0</td>\n",
       "      <td>0.0</td>\n",
       "      <td>0.0</td>\n",
       "      <td>0.0</td>\n",
       "      <td>0.0</td>\n",
       "      <td>0.134364</td>\n",
       "      <td>0.847434</td>\n",
       "      <td>-1.0</td>\n",
       "      <td>-1.000000</td>\n",
       "      <td>...</td>\n",
       "      <td>-4.541667</td>\n",
       "      <td>-4.541667</td>\n",
       "      <td>-4.541667</td>\n",
       "      <td>0.084239</td>\n",
       "      <td>0.054752</td>\n",
       "      <td>0.033838</td>\n",
       "      <td>0.042120</td>\n",
       "      <td>0.039501</td>\n",
       "      <td>0.051404</td>\n",
       "      <td>24.0</td>\n",
       "    </tr>\n",
       "    <tr>\n",
       "      <th>4</th>\n",
       "      <td>0.0</td>\n",
       "      <td>0.0</td>\n",
       "      <td>1.0</td>\n",
       "      <td>0.0</td>\n",
       "      <td>0.0</td>\n",
       "      <td>0.0</td>\n",
       "      <td>-1.000000</td>\n",
       "      <td>-1.000000</td>\n",
       "      <td>-1.0</td>\n",
       "      <td>0.763775</td>\n",
       "      <td>...</td>\n",
       "      <td>102.458333</td>\n",
       "      <td>102.458333</td>\n",
       "      <td>102.458333</td>\n",
       "      <td>0.362888</td>\n",
       "      <td>0.395994</td>\n",
       "      <td>0.501511</td>\n",
       "      <td>0.579289</td>\n",
       "      <td>0.714309</td>\n",
       "      <td>0.706974</td>\n",
       "      <td>24.0</td>\n",
       "    </tr>\n",
       "  </tbody>\n",
       "</table>\n",
       "<p>5 rows × 38 columns</p>\n",
       "</div>"
      ],
      "text/plain": [
       "   an_vec_0  an_vec_1  an_vec_2  an_vec_3  an_vec_4  an_vec_5  an_vec_6  \\\n",
       "0       0.0       0.0       0.0       1.0       0.0       0.0 -1.000000   \n",
       "1       0.0       0.0       0.0       0.0       0.0       1.0 -1.000000   \n",
       "2       0.0       0.0       0.0       0.0       1.0       0.0 -1.000000   \n",
       "3       1.0       0.0       0.0       0.0       0.0       0.0  0.134364   \n",
       "4       0.0       0.0       1.0       0.0       0.0       0.0 -1.000000   \n",
       "\n",
       "   an_vec_7  an_vec_8  an_vec_9  ...  diff_fill_r  diff_fill_g  diff_fill_b  \\\n",
       "0 -1.000000      -1.0 -1.000000  ...    -4.541667    -4.541667    -4.541667   \n",
       "1 -1.000000      -1.0 -1.000000  ...   102.458333   102.458333   102.458333   \n",
       "2 -1.000000      -1.0 -1.000000  ...   102.458333   102.458333   102.458333   \n",
       "3  0.847434      -1.0 -1.000000  ...    -4.541667    -4.541667    -4.541667   \n",
       "4 -1.000000      -1.0  0.763775  ...   102.458333   102.458333   102.458333   \n",
       "\n",
       "   rel_height  rel_width  rel_x_position  rel_y_position  \\\n",
       "0    0.084239   0.054752        0.033838        0.042120   \n",
       "1    0.362888   0.395994        0.501511        0.579289   \n",
       "2    0.362904   0.395994        0.501511        0.637940   \n",
       "3    0.084239   0.054752        0.033838        0.042120   \n",
       "4    0.362888   0.395994        0.501511        0.579289   \n",
       "\n",
       "   rel_x_position_to_animations  rel_y_position_to_animations  nr_paths_svg  \n",
       "0                      0.039501                      0.051404          24.0  \n",
       "1                      0.714309                      0.706974          24.0  \n",
       "2                      0.714309                      0.778553          24.0  \n",
       "3                      0.039501                      0.051404          24.0  \n",
       "4                      0.714309                      0.706974          24.0  \n",
       "\n",
       "[5 rows x 38 columns]"
      ]
     },
     "execution_count": 7,
     "metadata": {},
     "output_type": "execute_result"
    }
   ],
   "source": [
    "X_train.head()"
   ]
  },
  {
   "cell_type": "code",
   "execution_count": 8,
   "metadata": {},
   "outputs": [
    {
     "data": {
      "text/plain": [
       "0    3\n",
       "1    3\n",
       "2    3\n",
       "3    0\n",
       "4    2\n",
       "dtype: int64"
      ]
     },
     "execution_count": 8,
     "metadata": {},
     "output_type": "execute_result"
    }
   ],
   "source": [
    "y_train.head()"
   ]
  },
  {
   "cell_type": "markdown",
   "metadata": {},
   "source": [
    "### 3. Upscaling of class 4/\"Very Good\" (optional, was shown to not improve the performance^)"
   ]
  },
  {
   "cell_type": "code",
   "execution_count": 7,
   "metadata": {},
   "outputs": [],
   "source": [
    "#unique_train, counts_train = np.unique(y_train, return_counts=True)\n",
    "#label_counts = dict(zip(unique_train, counts_train))\n",
    "#label_counts"
   ]
  },
  {
   "cell_type": "code",
   "execution_count": 8,
   "metadata": {},
   "outputs": [],
   "source": [
    "# Get indices where data label equals 4\n",
    "#i_class4 = np.where(y_train == 4)[0]\n",
    "# Calculate upsample size (mean of class sizes 0-3 - class size 4)\n",
    "#upsample_size = round(np.mean([label_counts[i] for i in range(4)])) - label_counts[4]\n",
    "# Get upsample indices\n",
    "#i_class4_upsampled = np.random.choice(i_class4, size=upsample_size, replace=True)"
   ]
  },
  {
   "cell_type": "code",
   "execution_count": 9,
   "metadata": {},
   "outputs": [],
   "source": [
    "# Create upsampled dataframe\n",
    "#y_train = pd.concat([y_train, y_train[i_class4_upsampled]]).reset_index(drop=True)\n",
    "#X_train = pd.concat([X_train, X_train.iloc[i_class4_upsampled,:]]).reset_index(drop=True)"
   ]
  },
  {
   "cell_type": "code",
   "execution_count": 10,
   "metadata": {},
   "outputs": [],
   "source": [
    "#y_train"
   ]
  },
  {
   "cell_type": "markdown",
   "metadata": {},
   "source": [
    "### 4. Outlier removal (optional)"
   ]
  },
  {
   "cell_type": "code",
   "execution_count": 11,
   "metadata": {},
   "outputs": [],
   "source": [
    "# Use of Isolation Forest\n",
    "#ifo = IsolationForest(random_state=0).fit(X_train)\n",
    "#X_train[['anomaly']] = ifo.predict(X_train)\n",
    "#X_train.head()"
   ]
  },
  {
   "cell_type": "code",
   "execution_count": 12,
   "metadata": {},
   "outputs": [],
   "source": [
    "# remove outliers\n",
    "#out_ind = X_train[X_train['anomaly']==-1].index\n",
    "#X_train.drop(out_ind, inplace=True, axis=0)\n",
    "#y_train.drop(out_ind, inplace=True, axis=0)\n",
    "#X_train.reset_index(drop=True, inplace=True)\n",
    "#y_train.reset_index(drop=True, inplace=True)\n",
    "#X_train.drop('anomaly', axis=1, inplace=True)"
   ]
  },
  {
   "cell_type": "markdown",
   "metadata": {},
   "source": [
    "### 5. Train models"
   ]
  },
  {
   "cell_type": "markdown",
   "metadata": {},
   "source": [
    "#### 5.1 Random Forest"
   ]
  },
  {
   "cell_type": "markdown",
   "metadata": {},
   "source": [
    "##### Train Base Classifier"
   ]
  },
  {
   "cell_type": "code",
   "execution_count": 9,
   "metadata": {},
   "outputs": [],
   "source": [
    "rf_base = RandomForestOC(n_estimators=1000)\n",
    "rf_base.fit(X_train, y_train)"
   ]
  },
  {
   "cell_type": "code",
   "execution_count": 10,
   "metadata": {},
   "outputs": [],
   "source": [
    "y_pred_test = rf_base.predict(X_test)\n",
    "y_pred_train = rf_base.predict(X_train)"
   ]
  },
  {
   "cell_type": "code",
   "execution_count": 11,
   "metadata": {},
   "outputs": [
    {
     "name": "stdout",
     "output_type": "stream",
     "text": [
      "Label MAE of best random forest classifier on train set: 0.08916258500166437\n",
      "Label MAE of best random forest classifier on test set: 0.8796445880452343\n"
     ]
    }
   ],
   "source": [
    "print(f'Label MAE of best random forest classifier on train set: {mean_absolute_error(y_pred_train, y_train)}')\n",
    "print(f'Label MAE of best random forest classifier on test set: {mean_absolute_error(y_pred_test, y_test)}')"
   ]
  },
  {
   "cell_type": "code",
   "execution_count": 12,
   "metadata": {},
   "outputs": [
    {
     "name": "stdout",
     "output_type": "stream",
     "text": [
      "Accuracy of  best random forest classifier on train set: 0.9426030719482619\n",
      "Accuracy of best random forest classifier on test set: 0.41518578352180935\n"
     ]
    }
   ],
   "source": [
    "print(f'Accuracy of  best random forest classifier on train set: {accuracy_score(y_pred_train, y_train)}')\n",
    "print(f'Accuracy of best random forest classifier on test set: {accuracy_score(y_pred_test, y_test)}')"
   ]
  },
  {
   "cell_type": "code",
   "execution_count": 13,
   "metadata": {},
   "outputs": [
    {
     "name": "stdout",
     "output_type": "stream",
     "text": [
      "[[194  19  20   5   0]\n",
      " [ 56  52  70  27   0]\n",
      " [ 54  59 185  48   2]\n",
      " [ 55  58 177  83   2]\n",
      " [  7  14  35  16   0]]\n"
     ]
    }
   ],
   "source": [
    "print(confusion_matrix(y_test, y_pred_test))"
   ]
  },
  {
   "cell_type": "markdown",
   "metadata": {},
   "source": [
    "##### Define Grid for Random Search"
   ]
  },
  {
   "cell_type": "code",
   "execution_count": 13,
   "metadata": {},
   "outputs": [
    {
     "name": "stdout",
     "output_type": "stream",
     "text": [
      "{'bootstrap': [True, False],\n",
      " 'max_depth': [10, 20, 30, 40, 50, 60, 70, 80, 90, 100, 110, None],\n",
      " 'max_features': ['auto', 'log2'],\n",
      " 'min_samples_leaf': [1, 2, 4],\n",
      " 'min_samples_split': [2, 5, 10],\n",
      " 'n_estimators': [20, 240, 460, 680, 900, 1120, 1340, 1560, 1780, 2000]}\n"
     ]
    }
   ],
   "source": [
    "# Number of trees in random forest\n",
    "n_estimators = [int(x) for x in np.linspace(start=20, stop=2000, num=10)]\n",
    "# Number of features to consider at every split\n",
    "max_features = ['auto', 'log2']\n",
    "# Maximum number of levels in tree\n",
    "max_depth = [int(x) for x in np.linspace(10, 110, num=11)]\n",
    "max_depth.append(None)\n",
    "# Minimum number of samples required to split a node\n",
    "min_samples_split = [2, 5, 10]\n",
    "# Minimum number of samples required at each leaf node\n",
    "min_samples_leaf = [1, 2, 4]\n",
    "# Method of selecting samples for training each tree\n",
    "bootstrap = [True, False]\n",
    "# Create the random grid\n",
    "random_grid = {'n_estimators': n_estimators,\n",
    "               'max_features': max_features,\n",
    "               'max_depth': max_depth,\n",
    "               'min_samples_split': min_samples_split,\n",
    "               'min_samples_leaf': min_samples_leaf,\n",
    "               'bootstrap': bootstrap}\n",
    "pprint(random_grid)"
   ]
  },
  {
   "cell_type": "markdown",
   "metadata": {},
   "source": [
    "##### Perform Random Search"
   ]
  },
  {
   "cell_type": "code",
   "execution_count": 14,
   "metadata": {},
   "outputs": [
    {
     "name": "stdout",
     "output_type": "stream",
     "text": [
      "Fitting 5 folds for each of 50 candidates, totalling 250 fits\n",
      "[CV] END bootstrap=True, max_depth=30, max_features=log2, min_samples_leaf=1, min_samples_split=5, n_estimators=240; total time=   8.2s\n",
      "[CV] END bootstrap=True, max_depth=30, max_features=log2, min_samples_leaf=1, min_samples_split=5, n_estimators=240; total time=   7.7s\n",
      "[CV] END bootstrap=True, max_depth=30, max_features=log2, min_samples_leaf=1, min_samples_split=5, n_estimators=240; total time=   7.4s\n",
      "[CV] END bootstrap=True, max_depth=30, max_features=log2, min_samples_leaf=1, min_samples_split=5, n_estimators=240; total time=   7.1s\n",
      "[CV] END bootstrap=True, max_depth=30, max_features=log2, min_samples_leaf=1, min_samples_split=5, n_estimators=240; total time=   6.9s\n",
      "[CV] END bootstrap=True, max_depth=10, max_features=log2, min_samples_leaf=1, min_samples_split=5, n_estimators=2000; total time=  45.9s\n",
      "[CV] END bootstrap=True, max_depth=10, max_features=log2, min_samples_leaf=1, min_samples_split=5, n_estimators=2000; total time=  46.0s\n",
      "[CV] END bootstrap=True, max_depth=10, max_features=log2, min_samples_leaf=1, min_samples_split=5, n_estimators=2000; total time=  45.4s\n",
      "[CV] END bootstrap=True, max_depth=10, max_features=log2, min_samples_leaf=1, min_samples_split=5, n_estimators=2000; total time=  46.6s\n",
      "[CV] END bootstrap=True, max_depth=10, max_features=log2, min_samples_leaf=1, min_samples_split=5, n_estimators=2000; total time=  45.5s\n",
      "[CV] END bootstrap=False, max_depth=10, max_features=log2, min_samples_leaf=2, min_samples_split=5, n_estimators=1120; total time=  31.8s\n",
      "[CV] END bootstrap=False, max_depth=10, max_features=log2, min_samples_leaf=2, min_samples_split=5, n_estimators=1120; total time=  31.8s\n",
      "[CV] END bootstrap=False, max_depth=10, max_features=log2, min_samples_leaf=2, min_samples_split=5, n_estimators=1120; total time=  31.4s\n",
      "[CV] END bootstrap=False, max_depth=10, max_features=log2, min_samples_leaf=2, min_samples_split=5, n_estimators=1120; total time=  31.9s\n",
      "[CV] END bootstrap=False, max_depth=10, max_features=log2, min_samples_leaf=2, min_samples_split=5, n_estimators=1120; total time=  31.6s\n",
      "[CV] END bootstrap=False, max_depth=30, max_features=auto, min_samples_leaf=4, min_samples_split=2, n_estimators=2000; total time= 1.3min\n",
      "[CV] END bootstrap=False, max_depth=30, max_features=auto, min_samples_leaf=4, min_samples_split=2, n_estimators=2000; total time= 1.4min\n",
      "[CV] END bootstrap=False, max_depth=30, max_features=auto, min_samples_leaf=4, min_samples_split=2, n_estimators=2000; total time= 1.3min\n",
      "[CV] END bootstrap=False, max_depth=30, max_features=auto, min_samples_leaf=4, min_samples_split=2, n_estimators=2000; total time= 1.3min\n",
      "[CV] END bootstrap=False, max_depth=30, max_features=auto, min_samples_leaf=4, min_samples_split=2, n_estimators=2000; total time= 1.3min\n",
      "[CV] END bootstrap=True, max_depth=10, max_features=log2, min_samples_leaf=4, min_samples_split=2, n_estimators=1560; total time=  34.6s\n",
      "[CV] END bootstrap=True, max_depth=10, max_features=log2, min_samples_leaf=4, min_samples_split=2, n_estimators=1560; total time=  34.8s\n",
      "[CV] END bootstrap=True, max_depth=10, max_features=log2, min_samples_leaf=4, min_samples_split=2, n_estimators=1560; total time=  34.4s\n",
      "[CV] END bootstrap=True, max_depth=10, max_features=log2, min_samples_leaf=4, min_samples_split=2, n_estimators=1560; total time=  34.7s\n",
      "[CV] END bootstrap=True, max_depth=10, max_features=log2, min_samples_leaf=4, min_samples_split=2, n_estimators=1560; total time=  35.4s\n",
      "[CV] END bootstrap=False, max_depth=30, max_features=log2, min_samples_leaf=4, min_samples_split=5, n_estimators=680; total time=  23.6s\n",
      "[CV] END bootstrap=False, max_depth=30, max_features=log2, min_samples_leaf=4, min_samples_split=5, n_estimators=680; total time=  23.8s\n",
      "[CV] END bootstrap=False, max_depth=30, max_features=log2, min_samples_leaf=4, min_samples_split=5, n_estimators=680; total time=  23.1s\n",
      "[CV] END bootstrap=False, max_depth=30, max_features=log2, min_samples_leaf=4, min_samples_split=5, n_estimators=680; total time=  23.3s\n",
      "[CV] END bootstrap=False, max_depth=30, max_features=log2, min_samples_leaf=4, min_samples_split=5, n_estimators=680; total time=  23.4s\n",
      "[CV] END bootstrap=False, max_depth=100, max_features=log2, min_samples_leaf=2, min_samples_split=5, n_estimators=900; total time=  33.1s\n",
      "[CV] END bootstrap=False, max_depth=100, max_features=log2, min_samples_leaf=2, min_samples_split=5, n_estimators=900; total time=  34.2s\n",
      "[CV] END bootstrap=False, max_depth=100, max_features=log2, min_samples_leaf=2, min_samples_split=5, n_estimators=900; total time=  32.3s\n",
      "[CV] END bootstrap=False, max_depth=100, max_features=log2, min_samples_leaf=2, min_samples_split=5, n_estimators=900; total time=  33.8s\n",
      "[CV] END bootstrap=False, max_depth=100, max_features=log2, min_samples_leaf=2, min_samples_split=5, n_estimators=900; total time=  32.8s\n",
      "[CV] END bootstrap=False, max_depth=60, max_features=log2, min_samples_leaf=1, min_samples_split=5, n_estimators=460; total time=  17.4s\n",
      "[CV] END bootstrap=False, max_depth=60, max_features=log2, min_samples_leaf=1, min_samples_split=5, n_estimators=460; total time=  17.6s\n",
      "[CV] END bootstrap=False, max_depth=60, max_features=log2, min_samples_leaf=1, min_samples_split=5, n_estimators=460; total time=  17.0s\n",
      "[CV] END bootstrap=False, max_depth=60, max_features=log2, min_samples_leaf=1, min_samples_split=5, n_estimators=460; total time=  17.4s\n",
      "[CV] END bootstrap=False, max_depth=60, max_features=log2, min_samples_leaf=1, min_samples_split=5, n_estimators=460; total time=  17.4s\n",
      "[CV] END bootstrap=False, max_depth=50, max_features=auto, min_samples_leaf=1, min_samples_split=2, n_estimators=900; total time=  41.3s\n",
      "[CV] END bootstrap=False, max_depth=50, max_features=auto, min_samples_leaf=1, min_samples_split=2, n_estimators=900; total time=  41.9s\n",
      "[CV] END bootstrap=False, max_depth=50, max_features=auto, min_samples_leaf=1, min_samples_split=2, n_estimators=900; total time=  40.5s\n",
      "[CV] END bootstrap=False, max_depth=50, max_features=auto, min_samples_leaf=1, min_samples_split=2, n_estimators=900; total time=  41.4s\n",
      "[CV] END bootstrap=False, max_depth=50, max_features=auto, min_samples_leaf=1, min_samples_split=2, n_estimators=900; total time=  41.2s\n",
      "[CV] END bootstrap=False, max_depth=10, max_features=auto, min_samples_leaf=4, min_samples_split=5, n_estimators=1780; total time=  57.3s\n",
      "[CV] END bootstrap=False, max_depth=10, max_features=auto, min_samples_leaf=4, min_samples_split=5, n_estimators=1780; total time=  57.9s\n",
      "[CV] END bootstrap=False, max_depth=10, max_features=auto, min_samples_leaf=4, min_samples_split=5, n_estimators=1780; total time=  56.6s\n",
      "[CV] END bootstrap=False, max_depth=10, max_features=auto, min_samples_leaf=4, min_samples_split=5, n_estimators=1780; total time=  57.2s\n",
      "[CV] END bootstrap=False, max_depth=10, max_features=auto, min_samples_leaf=4, min_samples_split=5, n_estimators=1780; total time=  57.4s\n",
      "[CV] END bootstrap=True, max_depth=70, max_features=auto, min_samples_leaf=4, min_samples_split=10, n_estimators=240; total time=   7.1s\n",
      "[CV] END bootstrap=True, max_depth=70, max_features=auto, min_samples_leaf=4, min_samples_split=10, n_estimators=240; total time=   7.2s\n",
      "[CV] END bootstrap=True, max_depth=70, max_features=auto, min_samples_leaf=4, min_samples_split=10, n_estimators=240; total time=   7.0s\n",
      "[CV] END bootstrap=True, max_depth=70, max_features=auto, min_samples_leaf=4, min_samples_split=10, n_estimators=240; total time=   7.1s\n",
      "[CV] END bootstrap=True, max_depth=70, max_features=auto, min_samples_leaf=4, min_samples_split=10, n_estimators=240; total time=   7.2s\n",
      "[CV] END bootstrap=False, max_depth=90, max_features=log2, min_samples_leaf=1, min_samples_split=5, n_estimators=680; total time=  25.8s\n",
      "[CV] END bootstrap=False, max_depth=90, max_features=log2, min_samples_leaf=1, min_samples_split=5, n_estimators=680; total time=  26.0s\n",
      "[CV] END bootstrap=False, max_depth=90, max_features=log2, min_samples_leaf=1, min_samples_split=5, n_estimators=680; total time=  25.3s\n",
      "[CV] END bootstrap=False, max_depth=90, max_features=log2, min_samples_leaf=1, min_samples_split=5, n_estimators=680; total time=  25.6s\n",
      "[CV] END bootstrap=False, max_depth=90, max_features=log2, min_samples_leaf=1, min_samples_split=5, n_estimators=680; total time=  25.6s\n",
      "[CV] END bootstrap=False, max_depth=10, max_features=log2, min_samples_leaf=1, min_samples_split=10, n_estimators=2000; total time=  56.1s\n",
      "[CV] END bootstrap=False, max_depth=10, max_features=log2, min_samples_leaf=1, min_samples_split=10, n_estimators=2000; total time=  56.7s\n",
      "[CV] END bootstrap=False, max_depth=10, max_features=log2, min_samples_leaf=1, min_samples_split=10, n_estimators=2000; total time=  55.5s\n",
      "[CV] END bootstrap=False, max_depth=10, max_features=log2, min_samples_leaf=1, min_samples_split=10, n_estimators=2000; total time=  56.4s\n",
      "[CV] END bootstrap=False, max_depth=10, max_features=log2, min_samples_leaf=1, min_samples_split=10, n_estimators=2000; total time=  56.1s\n",
      "[CV] END bootstrap=False, max_depth=10, max_features=log2, min_samples_leaf=2, min_samples_split=5, n_estimators=1560; total time=  43.9s\n",
      "[CV] END bootstrap=False, max_depth=10, max_features=log2, min_samples_leaf=2, min_samples_split=5, n_estimators=1560; total time=  44.2s\n",
      "[CV] END bootstrap=False, max_depth=10, max_features=log2, min_samples_leaf=2, min_samples_split=5, n_estimators=1560; total time=  43.4s\n",
      "[CV] END bootstrap=False, max_depth=10, max_features=log2, min_samples_leaf=2, min_samples_split=5, n_estimators=1560; total time=  43.9s\n",
      "[CV] END bootstrap=False, max_depth=10, max_features=log2, min_samples_leaf=2, min_samples_split=5, n_estimators=1560; total time=  43.8s\n",
      "[CV] END bootstrap=False, max_depth=30, max_features=log2, min_samples_leaf=2, min_samples_split=10, n_estimators=680; total time=  23.9s\n",
      "[CV] END bootstrap=False, max_depth=30, max_features=log2, min_samples_leaf=2, min_samples_split=10, n_estimators=680; total time=  24.4s\n",
      "[CV] END bootstrap=False, max_depth=30, max_features=log2, min_samples_leaf=2, min_samples_split=10, n_estimators=680; total time=  23.5s\n",
      "[CV] END bootstrap=False, max_depth=30, max_features=log2, min_samples_leaf=2, min_samples_split=10, n_estimators=680; total time=  24.0s\n",
      "[CV] END bootstrap=False, max_depth=30, max_features=log2, min_samples_leaf=2, min_samples_split=10, n_estimators=680; total time=  23.9s\n",
      "[CV] END bootstrap=False, max_depth=50, max_features=auto, min_samples_leaf=4, min_samples_split=2, n_estimators=1780; total time= 1.2min\n",
      "[CV] END bootstrap=False, max_depth=50, max_features=auto, min_samples_leaf=4, min_samples_split=2, n_estimators=1780; total time= 1.2min\n",
      "[CV] END bootstrap=False, max_depth=50, max_features=auto, min_samples_leaf=4, min_samples_split=2, n_estimators=1780; total time= 1.2min\n",
      "[CV] END bootstrap=False, max_depth=50, max_features=auto, min_samples_leaf=4, min_samples_split=2, n_estimators=1780; total time= 1.2min\n",
      "[CV] END bootstrap=False, max_depth=50, max_features=auto, min_samples_leaf=4, min_samples_split=2, n_estimators=1780; total time= 1.2min\n",
      "[CV] END bootstrap=False, max_depth=70, max_features=auto, min_samples_leaf=2, min_samples_split=5, n_estimators=460; total time=  19.6s\n",
      "[CV] END bootstrap=False, max_depth=70, max_features=auto, min_samples_leaf=2, min_samples_split=5, n_estimators=460; total time=  19.8s\n",
      "[CV] END bootstrap=False, max_depth=70, max_features=auto, min_samples_leaf=2, min_samples_split=5, n_estimators=460; total time=  19.1s\n",
      "[CV] END bootstrap=False, max_depth=70, max_features=auto, min_samples_leaf=2, min_samples_split=5, n_estimators=460; total time=  19.5s\n",
      "[CV] END bootstrap=False, max_depth=70, max_features=auto, min_samples_leaf=2, min_samples_split=5, n_estimators=460; total time=  19.5s\n",
      "[CV] END bootstrap=True, max_depth=20, max_features=log2, min_samples_leaf=1, min_samples_split=2, n_estimators=900; total time=  26.3s\n",
      "[CV] END bootstrap=True, max_depth=20, max_features=log2, min_samples_leaf=1, min_samples_split=2, n_estimators=900; total time=  26.7s\n",
      "[CV] END bootstrap=True, max_depth=20, max_features=log2, min_samples_leaf=1, min_samples_split=2, n_estimators=900; total time=  26.2s\n",
      "[CV] END bootstrap=True, max_depth=20, max_features=log2, min_samples_leaf=1, min_samples_split=2, n_estimators=900; total time=  26.4s\n",
      "[CV] END bootstrap=True, max_depth=20, max_features=log2, min_samples_leaf=1, min_samples_split=2, n_estimators=900; total time=  26.4s\n",
      "[CV] END bootstrap=False, max_depth=110, max_features=auto, min_samples_leaf=2, min_samples_split=10, n_estimators=1780; total time= 1.2min\n",
      "[CV] END bootstrap=False, max_depth=110, max_features=auto, min_samples_leaf=2, min_samples_split=10, n_estimators=1780; total time= 1.3min\n",
      "[CV] END bootstrap=False, max_depth=110, max_features=auto, min_samples_leaf=2, min_samples_split=10, n_estimators=1780; total time= 1.2min\n",
      "[CV] END bootstrap=False, max_depth=110, max_features=auto, min_samples_leaf=2, min_samples_split=10, n_estimators=1780; total time= 1.2min\n",
      "[CV] END bootstrap=False, max_depth=110, max_features=auto, min_samples_leaf=2, min_samples_split=10, n_estimators=1780; total time= 1.2min\n",
      "[CV] END bootstrap=True, max_depth=80, max_features=auto, min_samples_leaf=1, min_samples_split=5, n_estimators=460; total time=  15.0s\n",
      "[CV] END bootstrap=True, max_depth=80, max_features=auto, min_samples_leaf=1, min_samples_split=5, n_estimators=460; total time=  15.2s\n",
      "[CV] END bootstrap=True, max_depth=80, max_features=auto, min_samples_leaf=1, min_samples_split=5, n_estimators=460; total time=  14.8s\n",
      "[CV] END bootstrap=True, max_depth=80, max_features=auto, min_samples_leaf=1, min_samples_split=5, n_estimators=460; total time=  15.0s\n",
      "[CV] END bootstrap=True, max_depth=80, max_features=auto, min_samples_leaf=1, min_samples_split=5, n_estimators=460; total time=  15.0s\n",
      "[CV] END bootstrap=False, max_depth=30, max_features=log2, min_samples_leaf=1, min_samples_split=10, n_estimators=1780; total time= 1.1min\n",
      "[CV] END bootstrap=False, max_depth=30, max_features=log2, min_samples_leaf=1, min_samples_split=10, n_estimators=1780; total time= 1.1min\n",
      "[CV] END bootstrap=False, max_depth=30, max_features=log2, min_samples_leaf=1, min_samples_split=10, n_estimators=1780; total time= 1.1min\n",
      "[CV] END bootstrap=False, max_depth=30, max_features=log2, min_samples_leaf=1, min_samples_split=10, n_estimators=1780; total time= 1.1min\n",
      "[CV] END bootstrap=False, max_depth=30, max_features=log2, min_samples_leaf=1, min_samples_split=10, n_estimators=1780; total time= 1.1min\n",
      "[CV] END bootstrap=False, max_depth=70, max_features=log2, min_samples_leaf=1, min_samples_split=5, n_estimators=1560; total time=  58.9s\n",
      "[CV] END bootstrap=False, max_depth=70, max_features=log2, min_samples_leaf=1, min_samples_split=5, n_estimators=1560; total time=  59.9s\n",
      "[CV] END bootstrap=False, max_depth=70, max_features=log2, min_samples_leaf=1, min_samples_split=5, n_estimators=1560; total time=  57.9s\n",
      "[CV] END bootstrap=False, max_depth=70, max_features=log2, min_samples_leaf=1, min_samples_split=5, n_estimators=1560; total time= 1.0min\n",
      "[CV] END bootstrap=False, max_depth=70, max_features=log2, min_samples_leaf=1, min_samples_split=5, n_estimators=1560; total time=  60.0s\n",
      "[CV] END bootstrap=True, max_depth=80, max_features=log2, min_samples_leaf=4, min_samples_split=5, n_estimators=1340; total time=  35.0s\n",
      "[CV] END bootstrap=True, max_depth=80, max_features=log2, min_samples_leaf=4, min_samples_split=5, n_estimators=1340; total time=  35.3s\n",
      "[CV] END bootstrap=True, max_depth=80, max_features=log2, min_samples_leaf=4, min_samples_split=5, n_estimators=1340; total time=  34.6s\n",
      "[CV] END bootstrap=True, max_depth=80, max_features=log2, min_samples_leaf=4, min_samples_split=5, n_estimators=1340; total time=  34.9s\n",
      "[CV] END bootstrap=True, max_depth=80, max_features=log2, min_samples_leaf=4, min_samples_split=5, n_estimators=1340; total time=  34.9s\n",
      "[CV] END bootstrap=True, max_depth=None, max_features=auto, min_samples_leaf=2, min_samples_split=2, n_estimators=1780; total time=  57.0s\n",
      "[CV] END bootstrap=True, max_depth=None, max_features=auto, min_samples_leaf=2, min_samples_split=2, n_estimators=1780; total time=  58.0s\n",
      "[CV] END bootstrap=True, max_depth=None, max_features=auto, min_samples_leaf=2, min_samples_split=2, n_estimators=1780; total time=  56.5s\n",
      "[CV] END bootstrap=True, max_depth=None, max_features=auto, min_samples_leaf=2, min_samples_split=2, n_estimators=1780; total time=  56.8s\n",
      "[CV] END bootstrap=True, max_depth=None, max_features=auto, min_samples_leaf=2, min_samples_split=2, n_estimators=1780; total time=  57.4s\n",
      "[CV] END bootstrap=False, max_depth=80, max_features=log2, min_samples_leaf=1, min_samples_split=5, n_estimators=1340; total time=  50.7s\n",
      "[CV] END bootstrap=False, max_depth=80, max_features=log2, min_samples_leaf=1, min_samples_split=5, n_estimators=1340; total time=  51.3s\n",
      "[CV] END bootstrap=False, max_depth=80, max_features=log2, min_samples_leaf=1, min_samples_split=5, n_estimators=1340; total time=  49.7s\n",
      "[CV] END bootstrap=False, max_depth=80, max_features=log2, min_samples_leaf=1, min_samples_split=5, n_estimators=1340; total time=  50.6s\n",
      "[CV] END bootstrap=False, max_depth=80, max_features=log2, min_samples_leaf=1, min_samples_split=5, n_estimators=1340; total time=  50.5s\n",
      "[CV] END bootstrap=False, max_depth=None, max_features=log2, min_samples_leaf=1, min_samples_split=2, n_estimators=240; total time=   9.5s\n",
      "[CV] END bootstrap=False, max_depth=None, max_features=log2, min_samples_leaf=1, min_samples_split=2, n_estimators=240; total time=   9.7s\n",
      "[CV] END bootstrap=False, max_depth=None, max_features=log2, min_samples_leaf=1, min_samples_split=2, n_estimators=240; total time=   9.4s\n",
      "[CV] END bootstrap=False, max_depth=None, max_features=log2, min_samples_leaf=1, min_samples_split=2, n_estimators=240; total time=   9.6s\n",
      "[CV] END bootstrap=False, max_depth=None, max_features=log2, min_samples_leaf=1, min_samples_split=2, n_estimators=240; total time=   9.5s\n",
      "[CV] END bootstrap=False, max_depth=40, max_features=auto, min_samples_leaf=1, min_samples_split=2, n_estimators=1340; total time= 1.0min\n",
      "[CV] END bootstrap=False, max_depth=40, max_features=auto, min_samples_leaf=1, min_samples_split=2, n_estimators=1340; total time= 1.0min\n",
      "[CV] END bootstrap=False, max_depth=40, max_features=auto, min_samples_leaf=1, min_samples_split=2, n_estimators=1340; total time= 1.0min\n",
      "[CV] END bootstrap=False, max_depth=40, max_features=auto, min_samples_leaf=1, min_samples_split=2, n_estimators=1340; total time= 1.0min\n",
      "[CV] END bootstrap=False, max_depth=40, max_features=auto, min_samples_leaf=1, min_samples_split=2, n_estimators=1340; total time= 1.0min\n",
      "[CV] END bootstrap=True, max_depth=20, max_features=log2, min_samples_leaf=2, min_samples_split=5, n_estimators=900; total time=  25.1s\n",
      "[CV] END bootstrap=True, max_depth=20, max_features=log2, min_samples_leaf=2, min_samples_split=5, n_estimators=900; total time=  25.1s\n",
      "[CV] END bootstrap=True, max_depth=20, max_features=log2, min_samples_leaf=2, min_samples_split=5, n_estimators=900; total time=  24.5s\n",
      "[CV] END bootstrap=True, max_depth=20, max_features=log2, min_samples_leaf=2, min_samples_split=5, n_estimators=900; total time=  24.8s\n",
      "[CV] END bootstrap=True, max_depth=20, max_features=log2, min_samples_leaf=2, min_samples_split=5, n_estimators=900; total time=  24.7s\n",
      "[CV] END bootstrap=False, max_depth=100, max_features=auto, min_samples_leaf=4, min_samples_split=10, n_estimators=2000; total time= 1.3min\n",
      "[CV] END bootstrap=False, max_depth=100, max_features=auto, min_samples_leaf=4, min_samples_split=10, n_estimators=2000; total time= 1.3min\n",
      "[CV] END bootstrap=False, max_depth=100, max_features=auto, min_samples_leaf=4, min_samples_split=10, n_estimators=2000; total time= 1.3min\n",
      "[CV] END bootstrap=False, max_depth=100, max_features=auto, min_samples_leaf=4, min_samples_split=10, n_estimators=2000; total time= 1.3min\n",
      "[CV] END bootstrap=False, max_depth=100, max_features=auto, min_samples_leaf=4, min_samples_split=10, n_estimators=2000; total time= 1.3min\n",
      "[CV] END bootstrap=True, max_depth=20, max_features=log2, min_samples_leaf=2, min_samples_split=2, n_estimators=1120; total time=  31.1s\n",
      "[CV] END bootstrap=True, max_depth=20, max_features=log2, min_samples_leaf=2, min_samples_split=2, n_estimators=1120; total time=  31.4s\n",
      "[CV] END bootstrap=True, max_depth=20, max_features=log2, min_samples_leaf=2, min_samples_split=2, n_estimators=1120; total time=  30.7s\n",
      "[CV] END bootstrap=True, max_depth=20, max_features=log2, min_samples_leaf=2, min_samples_split=2, n_estimators=1120; total time=  30.9s\n",
      "[CV] END bootstrap=True, max_depth=20, max_features=log2, min_samples_leaf=2, min_samples_split=2, n_estimators=1120; total time=  31.0s\n",
      "[CV] END bootstrap=False, max_depth=20, max_features=log2, min_samples_leaf=4, min_samples_split=10, n_estimators=1120; total time=  38.0s\n",
      "[CV] END bootstrap=False, max_depth=20, max_features=log2, min_samples_leaf=4, min_samples_split=10, n_estimators=1120; total time=  38.5s\n",
      "[CV] END bootstrap=False, max_depth=20, max_features=log2, min_samples_leaf=4, min_samples_split=10, n_estimators=1120; total time=  37.4s\n",
      "[CV] END bootstrap=False, max_depth=20, max_features=log2, min_samples_leaf=4, min_samples_split=10, n_estimators=1120; total time=  37.8s\n",
      "[CV] END bootstrap=False, max_depth=20, max_features=log2, min_samples_leaf=4, min_samples_split=10, n_estimators=1120; total time=  37.9s\n",
      "[CV] END bootstrap=False, max_depth=50, max_features=log2, min_samples_leaf=2, min_samples_split=2, n_estimators=680; total time=  25.0s\n",
      "[CV] END bootstrap=False, max_depth=50, max_features=log2, min_samples_leaf=2, min_samples_split=2, n_estimators=680; total time=  25.3s\n",
      "[CV] END bootstrap=False, max_depth=50, max_features=log2, min_samples_leaf=2, min_samples_split=2, n_estimators=680; total time=  24.6s\n",
      "[CV] END bootstrap=False, max_depth=50, max_features=log2, min_samples_leaf=2, min_samples_split=2, n_estimators=680; total time=  24.9s\n",
      "[CV] END bootstrap=False, max_depth=50, max_features=log2, min_samples_leaf=2, min_samples_split=2, n_estimators=680; total time=  24.9s\n",
      "[CV] END bootstrap=False, max_depth=100, max_features=log2, min_samples_leaf=1, min_samples_split=5, n_estimators=680; total time=  25.7s\n",
      "[CV] END bootstrap=False, max_depth=100, max_features=log2, min_samples_leaf=1, min_samples_split=5, n_estimators=680; total time=  26.1s\n",
      "[CV] END bootstrap=False, max_depth=100, max_features=log2, min_samples_leaf=1, min_samples_split=5, n_estimators=680; total time=  25.4s\n",
      "[CV] END bootstrap=False, max_depth=100, max_features=log2, min_samples_leaf=1, min_samples_split=5, n_estimators=680; total time=  25.7s\n",
      "[CV] END bootstrap=False, max_depth=100, max_features=log2, min_samples_leaf=1, min_samples_split=5, n_estimators=680; total time=  25.6s\n",
      "[CV] END bootstrap=True, max_depth=50, max_features=log2, min_samples_leaf=4, min_samples_split=10, n_estimators=680; total time=  17.7s\n",
      "[CV] END bootstrap=True, max_depth=50, max_features=log2, min_samples_leaf=4, min_samples_split=10, n_estimators=680; total time=  18.2s\n",
      "[CV] END bootstrap=True, max_depth=50, max_features=log2, min_samples_leaf=4, min_samples_split=10, n_estimators=680; total time=  17.4s\n",
      "[CV] END bootstrap=True, max_depth=50, max_features=log2, min_samples_leaf=4, min_samples_split=10, n_estimators=680; total time=  17.5s\n",
      "[CV] END bootstrap=True, max_depth=50, max_features=log2, min_samples_leaf=4, min_samples_split=10, n_estimators=680; total time=  17.8s\n",
      "[CV] END bootstrap=True, max_depth=90, max_features=log2, min_samples_leaf=4, min_samples_split=2, n_estimators=1780; total time=  46.7s\n",
      "[CV] END bootstrap=True, max_depth=90, max_features=log2, min_samples_leaf=4, min_samples_split=2, n_estimators=1780; total time=  47.3s\n",
      "[CV] END bootstrap=True, max_depth=90, max_features=log2, min_samples_leaf=4, min_samples_split=2, n_estimators=1780; total time=  46.3s\n",
      "[CV] END bootstrap=True, max_depth=90, max_features=log2, min_samples_leaf=4, min_samples_split=2, n_estimators=1780; total time=  46.3s\n",
      "[CV] END bootstrap=True, max_depth=90, max_features=log2, min_samples_leaf=4, min_samples_split=2, n_estimators=1780; total time=  46.1s\n",
      "[CV] END bootstrap=False, max_depth=20, max_features=log2, min_samples_leaf=2, min_samples_split=10, n_estimators=680; total time=  23.9s\n",
      "[CV] END bootstrap=False, max_depth=20, max_features=log2, min_samples_leaf=2, min_samples_split=10, n_estimators=680; total time=  24.1s\n",
      "[CV] END bootstrap=False, max_depth=20, max_features=log2, min_samples_leaf=2, min_samples_split=10, n_estimators=680; total time=  23.4s\n",
      "[CV] END bootstrap=False, max_depth=20, max_features=log2, min_samples_leaf=2, min_samples_split=10, n_estimators=680; total time=  23.8s\n",
      "[CV] END bootstrap=False, max_depth=20, max_features=log2, min_samples_leaf=2, min_samples_split=10, n_estimators=680; total time=  23.7s\n",
      "[CV] END bootstrap=True, max_depth=20, max_features=log2, min_samples_leaf=2, min_samples_split=5, n_estimators=1120; total time=  31.1s\n",
      "[CV] END bootstrap=True, max_depth=20, max_features=log2, min_samples_leaf=2, min_samples_split=5, n_estimators=1120; total time=  31.6s\n",
      "[CV] END bootstrap=True, max_depth=20, max_features=log2, min_samples_leaf=2, min_samples_split=5, n_estimators=1120; total time=  30.6s\n",
      "[CV] END bootstrap=True, max_depth=20, max_features=log2, min_samples_leaf=2, min_samples_split=5, n_estimators=1120; total time=  30.8s\n",
      "[CV] END bootstrap=True, max_depth=20, max_features=log2, min_samples_leaf=2, min_samples_split=5, n_estimators=1120; total time=  30.8s\n",
      "[CV] END bootstrap=True, max_depth=100, max_features=auto, min_samples_leaf=1, min_samples_split=2, n_estimators=680; total time=  23.1s\n",
      "[CV] END bootstrap=True, max_depth=100, max_features=auto, min_samples_leaf=1, min_samples_split=2, n_estimators=680; total time=  23.5s\n",
      "[CV] END bootstrap=True, max_depth=100, max_features=auto, min_samples_leaf=1, min_samples_split=2, n_estimators=680; total time=  22.8s\n",
      "[CV] END bootstrap=True, max_depth=100, max_features=auto, min_samples_leaf=1, min_samples_split=2, n_estimators=680; total time=  23.0s\n",
      "[CV] END bootstrap=True, max_depth=100, max_features=auto, min_samples_leaf=1, min_samples_split=2, n_estimators=680; total time=  23.1s\n",
      "[CV] END bootstrap=True, max_depth=None, max_features=auto, min_samples_leaf=2, min_samples_split=5, n_estimators=680; total time=  21.6s\n",
      "[CV] END bootstrap=True, max_depth=None, max_features=auto, min_samples_leaf=2, min_samples_split=5, n_estimators=680; total time=  21.9s\n",
      "[CV] END bootstrap=True, max_depth=None, max_features=auto, min_samples_leaf=2, min_samples_split=5, n_estimators=680; total time=  21.5s\n",
      "[CV] END bootstrap=True, max_depth=None, max_features=auto, min_samples_leaf=2, min_samples_split=5, n_estimators=680; total time=  21.6s\n",
      "[CV] END bootstrap=True, max_depth=None, max_features=auto, min_samples_leaf=2, min_samples_split=5, n_estimators=680; total time=  21.6s\n",
      "[CV] END bootstrap=True, max_depth=60, max_features=log2, min_samples_leaf=2, min_samples_split=2, n_estimators=900; total time=  25.1s\n",
      "[CV] END bootstrap=True, max_depth=60, max_features=log2, min_samples_leaf=2, min_samples_split=2, n_estimators=900; total time=  25.3s\n",
      "[CV] END bootstrap=True, max_depth=60, max_features=log2, min_samples_leaf=2, min_samples_split=2, n_estimators=900; total time=  24.9s\n",
      "[CV] END bootstrap=True, max_depth=60, max_features=log2, min_samples_leaf=2, min_samples_split=2, n_estimators=900; total time=  25.0s\n",
      "[CV] END bootstrap=True, max_depth=60, max_features=log2, min_samples_leaf=2, min_samples_split=2, n_estimators=900; total time=  25.0s\n",
      "[CV] END bootstrap=True, max_depth=10, max_features=auto, min_samples_leaf=4, min_samples_split=5, n_estimators=20; total time=   0.5s\n",
      "[CV] END bootstrap=True, max_depth=10, max_features=auto, min_samples_leaf=4, min_samples_split=5, n_estimators=20; total time=   0.5s\n",
      "[CV] END bootstrap=True, max_depth=10, max_features=auto, min_samples_leaf=4, min_samples_split=5, n_estimators=20; total time=   0.5s\n",
      "[CV] END bootstrap=True, max_depth=10, max_features=auto, min_samples_leaf=4, min_samples_split=5, n_estimators=20; total time=   0.5s\n",
      "[CV] END bootstrap=True, max_depth=10, max_features=auto, min_samples_leaf=4, min_samples_split=5, n_estimators=20; total time=   0.5s\n",
      "[CV] END bootstrap=True, max_depth=60, max_features=log2, min_samples_leaf=2, min_samples_split=10, n_estimators=460; total time=  12.4s\n",
      "[CV] END bootstrap=True, max_depth=60, max_features=log2, min_samples_leaf=2, min_samples_split=10, n_estimators=460; total time=  12.5s\n",
      "[CV] END bootstrap=True, max_depth=60, max_features=log2, min_samples_leaf=2, min_samples_split=10, n_estimators=460; total time=  12.3s\n",
      "[CV] END bootstrap=True, max_depth=60, max_features=log2, min_samples_leaf=2, min_samples_split=10, n_estimators=460; total time=  12.8s\n",
      "[CV] END bootstrap=True, max_depth=60, max_features=log2, min_samples_leaf=2, min_samples_split=10, n_estimators=460; total time=  12.3s\n",
      "[CV] END bootstrap=True, max_depth=90, max_features=log2, min_samples_leaf=4, min_samples_split=2, n_estimators=680; total time=  17.8s\n",
      "[CV] END bootstrap=True, max_depth=90, max_features=log2, min_samples_leaf=4, min_samples_split=2, n_estimators=680; total time=  17.9s\n",
      "[CV] END bootstrap=True, max_depth=90, max_features=log2, min_samples_leaf=4, min_samples_split=2, n_estimators=680; total time=  17.6s\n",
      "[CV] END bootstrap=True, max_depth=90, max_features=log2, min_samples_leaf=4, min_samples_split=2, n_estimators=680; total time=  17.7s\n",
      "[CV] END bootstrap=True, max_depth=90, max_features=log2, min_samples_leaf=4, min_samples_split=2, n_estimators=680; total time=  17.9s\n",
      "[CV] END bootstrap=True, max_depth=90, max_features=log2, min_samples_leaf=4, min_samples_split=10, n_estimators=240; total time=   6.2s\n",
      "[CV] END bootstrap=True, max_depth=90, max_features=log2, min_samples_leaf=4, min_samples_split=10, n_estimators=240; total time=   6.3s\n",
      "[CV] END bootstrap=True, max_depth=90, max_features=log2, min_samples_leaf=4, min_samples_split=10, n_estimators=240; total time=   6.2s\n",
      "[CV] END bootstrap=True, max_depth=90, max_features=log2, min_samples_leaf=4, min_samples_split=10, n_estimators=240; total time=   6.2s\n",
      "[CV] END bootstrap=True, max_depth=90, max_features=log2, min_samples_leaf=4, min_samples_split=10, n_estimators=240; total time=   6.2s\n",
      "[CV] END bootstrap=False, max_depth=90, max_features=auto, min_samples_leaf=2, min_samples_split=5, n_estimators=20; total time=   0.9s\n",
      "[CV] END bootstrap=False, max_depth=90, max_features=auto, min_samples_leaf=2, min_samples_split=5, n_estimators=20; total time=   0.9s\n",
      "[CV] END bootstrap=False, max_depth=90, max_features=auto, min_samples_leaf=2, min_samples_split=5, n_estimators=20; total time=   0.9s\n",
      "[CV] END bootstrap=False, max_depth=90, max_features=auto, min_samples_leaf=2, min_samples_split=5, n_estimators=20; total time=   0.9s\n",
      "[CV] END bootstrap=False, max_depth=90, max_features=auto, min_samples_leaf=2, min_samples_split=5, n_estimators=20; total time=   0.9s\n",
      "[CV] END bootstrap=True, max_depth=110, max_features=log2, min_samples_leaf=1, min_samples_split=2, n_estimators=900; total time=  26.8s\n",
      "[CV] END bootstrap=True, max_depth=110, max_features=log2, min_samples_leaf=1, min_samples_split=2, n_estimators=900; total time=  27.1s\n",
      "[CV] END bootstrap=True, max_depth=110, max_features=log2, min_samples_leaf=1, min_samples_split=2, n_estimators=900; total time=  26.5s\n",
      "[CV] END bootstrap=True, max_depth=110, max_features=log2, min_samples_leaf=1, min_samples_split=2, n_estimators=900; total time=  26.8s\n",
      "[CV] END bootstrap=True, max_depth=110, max_features=log2, min_samples_leaf=1, min_samples_split=2, n_estimators=900; total time=  26.7s\n",
      "[CV] END bootstrap=True, max_depth=90, max_features=auto, min_samples_leaf=2, min_samples_split=2, n_estimators=2000; total time= 1.1min\n",
      "[CV] END bootstrap=True, max_depth=90, max_features=auto, min_samples_leaf=2, min_samples_split=2, n_estimators=2000; total time= 1.1min\n",
      "[CV] END bootstrap=True, max_depth=90, max_features=auto, min_samples_leaf=2, min_samples_split=2, n_estimators=2000; total time= 1.1min\n",
      "[CV] END bootstrap=True, max_depth=90, max_features=auto, min_samples_leaf=2, min_samples_split=2, n_estimators=2000; total time= 1.1min\n",
      "[CV] END bootstrap=True, max_depth=90, max_features=auto, min_samples_leaf=2, min_samples_split=2, n_estimators=2000; total time= 1.1min\n",
      "[CV] END bootstrap=False, max_depth=80, max_features=log2, min_samples_leaf=4, min_samples_split=10, n_estimators=240; total time=   8.2s\n",
      "[CV] END bootstrap=False, max_depth=80, max_features=log2, min_samples_leaf=4, min_samples_split=10, n_estimators=240; total time=   8.3s\n",
      "[CV] END bootstrap=False, max_depth=80, max_features=log2, min_samples_leaf=4, min_samples_split=10, n_estimators=240; total time=   8.1s\n",
      "[CV] END bootstrap=False, max_depth=80, max_features=log2, min_samples_leaf=4, min_samples_split=10, n_estimators=240; total time=   8.2s\n",
      "[CV] END bootstrap=False, max_depth=80, max_features=log2, min_samples_leaf=4, min_samples_split=10, n_estimators=240; total time=   8.2s\n",
      "[CV] END bootstrap=False, max_depth=70, max_features=log2, min_samples_leaf=4, min_samples_split=2, n_estimators=1120; total time=  38.6s\n",
      "[CV] END bootstrap=False, max_depth=70, max_features=log2, min_samples_leaf=4, min_samples_split=2, n_estimators=1120; total time=  39.0s\n",
      "[CV] END bootstrap=False, max_depth=70, max_features=log2, min_samples_leaf=4, min_samples_split=2, n_estimators=1120; total time=  37.8s\n",
      "[CV] END bootstrap=False, max_depth=70, max_features=log2, min_samples_leaf=4, min_samples_split=2, n_estimators=1120; total time=  38.4s\n",
      "[CV] END bootstrap=False, max_depth=70, max_features=log2, min_samples_leaf=4, min_samples_split=2, n_estimators=1120; total time=  38.5s\n",
      "[CV] END bootstrap=False, max_depth=110, max_features=log2, min_samples_leaf=2, min_samples_split=2, n_estimators=460; total time=  17.0s\n",
      "[CV] END bootstrap=False, max_depth=110, max_features=log2, min_samples_leaf=2, min_samples_split=2, n_estimators=460; total time=  17.2s\n",
      "[CV] END bootstrap=False, max_depth=110, max_features=log2, min_samples_leaf=2, min_samples_split=2, n_estimators=460; total time=  16.6s\n",
      "[CV] END bootstrap=False, max_depth=110, max_features=log2, min_samples_leaf=2, min_samples_split=2, n_estimators=460; total time=  17.1s\n",
      "[CV] END bootstrap=False, max_depth=110, max_features=log2, min_samples_leaf=2, min_samples_split=2, n_estimators=460; total time=  17.0s\n"
     ]
    },
    {
     "data": {
      "text/plain": [
       "RandomizedSearchCV(cv=StratifiedKFold(n_splits=5, random_state=None, shuffle=False),\n",
       "                   estimator=<src.models.ordinal_classifier_scikit.RandomForestOC object at 0x7f8af21efc40>,\n",
       "                   n_iter=50,\n",
       "                   param_distributions={'bootstrap': [True, False],\n",
       "                                        'max_depth': [10, 20, 30, 40, 50, 60,\n",
       "                                                      70, 80, 90, 100, 110,\n",
       "                                                      None],\n",
       "                                        'max_features': ['auto', 'log2'],\n",
       "                                        'min_samples_leaf': [1, 2, 4],\n",
       "                                        'min_samples_split': [2, 5, 10],\n",
       "                                        'n_estimators': [20, 240, 460, 680, 900,\n",
       "                                                         1120, 1340, 1560, 1780,\n",
       "                                                         2000]},\n",
       "                   random_state=42, scoring='neg_mean_absolute_error',\n",
       "                   verbose=2)"
      ]
     },
     "execution_count": 14,
     "metadata": {},
     "output_type": "execute_result"
    }
   ],
   "source": [
    "# Use the random grid to search for best hyperparameters\n",
    "# Define stratified cross validation\n",
    "cross_val = StratifiedKFold(n_splits=5)\n",
    "# First create the base model to tune\n",
    "rf = RandomForestOC()\n",
    "# Random search of parameters, using 3 fold cross validation, search across 100 different combinations\n",
    "rf_random = RandomizedSearchCV(estimator = rf, param_distributions = random_grid, n_iter = 50, cv = cross_val, verbose=2, random_state=42, scoring = 'neg_mean_absolute_error')\n",
    "# Fit the random search model\n",
    "rf_random.fit(X_train, y_train)"
   ]
  },
  {
   "cell_type": "markdown",
   "metadata": {},
   "source": [
    "##### Get best parameters and best evaluation score"
   ]
  },
  {
   "cell_type": "code",
   "execution_count": 15,
   "metadata": {},
   "outputs": [
    {
     "data": {
      "text/plain": [
       "{'n_estimators': 1560,\n",
       " 'min_samples_split': 2,\n",
       " 'min_samples_leaf': 4,\n",
       " 'max_features': 'log2',\n",
       " 'max_depth': 10,\n",
       " 'bootstrap': True}"
      ]
     },
     "execution_count": 15,
     "metadata": {},
     "output_type": "execute_result"
    }
   ],
   "source": [
    "rf_random.best_params_"
   ]
  },
  {
   "cell_type": "code",
   "execution_count": 16,
   "metadata": {},
   "outputs": [
    {
     "data": {
      "text/plain": [
       "-0.8713451226590413"
      ]
     },
     "execution_count": 16,
     "metadata": {},
     "output_type": "execute_result"
    }
   ],
   "source": [
    "rf_random.best_score_"
   ]
  },
  {
   "cell_type": "markdown",
   "metadata": {},
   "source": [
    "##### Train best model on whole training data"
   ]
  },
  {
   "cell_type": "code",
   "execution_count": 17,
   "metadata": {},
   "outputs": [],
   "source": [
    "rf_best = rf_random.best_estimator_\n",
    "rf_best.fit(X_train, y_train)"
   ]
  },
  {
   "cell_type": "markdown",
   "metadata": {},
   "source": [
    "##### Evaluate best model on test data"
   ]
  },
  {
   "cell_type": "code",
   "execution_count": 18,
   "metadata": {},
   "outputs": [],
   "source": [
    "y_pred_test = rf_best.predict(X_test)\n",
    "y_pred_train = rf_best.predict(X_train)"
   ]
  },
  {
   "cell_type": "code",
   "execution_count": 19,
   "metadata": {},
   "outputs": [
    {
     "name": "stdout",
     "output_type": "stream",
     "text": [
      "Label MAE of best random forest classifier on train set: 0.5394612921454135\n",
      "Label MAE of best random forest classifier on test set: 0.8416801292407108\n"
     ]
    }
   ],
   "source": [
    "print(f'Label MAE of best random forest classifier on train set: {mean_absolute_error(y_pred_train, y_train)}')\n",
    "print(f'Label MAE of best random forest classifier on test set: {mean_absolute_error(y_pred_test, y_test)}')"
   ]
  },
  {
   "cell_type": "code",
   "execution_count": 20,
   "metadata": {},
   "outputs": [
    {
     "name": "stdout",
     "output_type": "stream",
     "text": [
      "Accuracy of  best random forest classifier on train set: 0.6389150499152383\n",
      "Accuracy of best random forest classifier on test set: 0.3974151857835218\n"
     ]
    }
   ],
   "source": [
    "print(f'Accuracy of  best random forest classifier on train set: {accuracy_score(y_pred_train, y_train)}')\n",
    "print(f'Accuracy of best random forest classifier on test set: {accuracy_score(y_pred_test, y_test)}')"
   ]
  },
  {
   "cell_type": "code",
   "execution_count": 21,
   "metadata": {},
   "outputs": [
    {
     "name": "stdout",
     "output_type": "stream",
     "text": [
      "              precision    recall  f1-score   support\n",
      "\n",
      "           0       0.55      0.78      0.64       238\n",
      "           1       0.11      0.03      0.05       205\n",
      "           2       0.34      0.73      0.47       348\n",
      "           3       0.46      0.13      0.20       375\n",
      "           4       0.00      0.00      0.00        72\n",
      "\n",
      "    accuracy                           0.40      1238\n",
      "   macro avg       0.29      0.33      0.27      1238\n",
      "weighted avg       0.36      0.40      0.32      1238\n",
      "\n"
     ]
    },
    {
     "name": "stderr",
     "output_type": "stream",
     "text": [
      "/Users/jani/.conda/envs/animate_logos/lib/python3.8/site-packages/sklearn/metrics/_classification.py:1245: UndefinedMetricWarning: Precision and F-score are ill-defined and being set to 0.0 in labels with no predicted samples. Use `zero_division` parameter to control this behavior.\n",
      "  _warn_prf(average, modifier, msg_start, len(result))\n",
      "/Users/jani/.conda/envs/animate_logos/lib/python3.8/site-packages/sklearn/metrics/_classification.py:1245: UndefinedMetricWarning: Precision and F-score are ill-defined and being set to 0.0 in labels with no predicted samples. Use `zero_division` parameter to control this behavior.\n",
      "  _warn_prf(average, modifier, msg_start, len(result))\n",
      "/Users/jani/.conda/envs/animate_logos/lib/python3.8/site-packages/sklearn/metrics/_classification.py:1245: UndefinedMetricWarning: Precision and F-score are ill-defined and being set to 0.0 in labels with no predicted samples. Use `zero_division` parameter to control this behavior.\n",
      "  _warn_prf(average, modifier, msg_start, len(result))\n"
     ]
    }
   ],
   "source": [
    "print(classification_report(y_test, y_pred_test))"
   ]
  },
  {
   "cell_type": "code",
   "execution_count": 22,
   "metadata": {},
   "outputs": [
    {
     "name": "stdout",
     "output_type": "stream",
     "text": [
      "[[185  13  36   4   0]\n",
      " [ 57   7 124  17   0]\n",
      " [ 47  19 253  29   0]\n",
      " [ 46  14 268  47   0]\n",
      " [  4   8  54   6   0]]\n"
     ]
    }
   ],
   "source": [
    "print(confusion_matrix(y_test, y_pred_test))"
   ]
  },
  {
   "cell_type": "markdown",
   "metadata": {},
   "source": [
    "##### Save best model"
   ]
  },
  {
   "cell_type": "code",
   "execution_count": 23,
   "metadata": {},
   "outputs": [],
   "source": [
    "filename = 'models/sm_random_forest.sav'\n",
    "pickle.dump(rf_best, open(filename, 'wb'))"
   ]
  },
  {
   "cell_type": "markdown",
   "metadata": {},
   "source": [
    "#### 5.2 Gradient Boosting Classifier"
   ]
  },
  {
   "cell_type": "markdown",
   "metadata": {},
   "source": [
    "##### Train Base Classifier"
   ]
  },
  {
   "cell_type": "code",
   "execution_count": 14,
   "metadata": {},
   "outputs": [],
   "source": [
    "gb_base = GradientBoostingOC(n_estimators=1000)\n",
    "gb_base.fit(X_train, y_train)"
   ]
  },
  {
   "cell_type": "code",
   "execution_count": 15,
   "metadata": {},
   "outputs": [],
   "source": [
    "y_pred_test = gb_base.predict(X_test)\n",
    "y_pred_train = gb_base.predict(X_train)"
   ]
  },
  {
   "cell_type": "code",
   "execution_count": 16,
   "metadata": {},
   "outputs": [
    {
     "name": "stdout",
     "output_type": "stream",
     "text": [
      "Label MAE of best random forest classifier on train set: 0.3367254743449522\n",
      "Label MAE of best random forest classifier on test set: 0.8521809369951535\n"
     ]
    }
   ],
   "source": [
    "print(f'Label MAE of best random forest classifier on train set: {mean_absolute_error(y_pred_train, y_train)}')\n",
    "print(f'Label MAE of best random forest classifier on test set: {mean_absolute_error(y_pred_test, y_test)}')"
   ]
  },
  {
   "cell_type": "code",
   "execution_count": 17,
   "metadata": {},
   "outputs": [
    {
     "name": "stdout",
     "output_type": "stream",
     "text": [
      "Accuracy of  best random forest classifier on train set: 0.7549574397260925\n",
      "Accuracy of best random forest classifier on test set: 0.41437802907915994\n"
     ]
    }
   ],
   "source": [
    "print(f'Accuracy of  best random forest classifier on train set: {accuracy_score(y_pred_train, y_train)}')\n",
    "print(f'Accuracy of best random forest classifier on test set: {accuracy_score(y_pred_test, y_test)}')"
   ]
  },
  {
   "cell_type": "code",
   "execution_count": 18,
   "metadata": {},
   "outputs": [
    {
     "name": "stdout",
     "output_type": "stream",
     "text": [
      "[[160  44  24   8   2]\n",
      " [ 35  60  66  43   1]\n",
      " [ 33  73 157  83   2]\n",
      " [ 31  70 136 136   2]\n",
      " [  4  15  30  23   0]]\n"
     ]
    }
   ],
   "source": [
    "print(confusion_matrix(y_test, y_pred_test))"
   ]
  },
  {
   "cell_type": "markdown",
   "metadata": {},
   "source": [
    "##### Define Grid for Random Search"
   ]
  },
  {
   "cell_type": "code",
   "execution_count": 24,
   "metadata": {},
   "outputs": [
    {
     "name": "stdout",
     "output_type": "stream",
     "text": [
      "{'learning_rate': [0.05, 0.1, 0.15, 0.2, 0.25, 0.3],\n",
      " 'max_depth': range(5, 16, 2),\n",
      " 'max_features': range(7, 20, 2),\n",
      " 'min_samples_leaf': range(30, 71, 10),\n",
      " 'min_samples_split': range(200, 1401, 200),\n",
      " 'n_estimators': [200, 400, 600, 800, 1000, 1200, 1400, 1600, 1800, 2000],\n",
      " 'subsample': [0.6, 0.7, 0.75, 0.8, 0.85, 0.9]}\n"
     ]
    }
   ],
   "source": [
    "# Number of trees in random forest\n",
    "n_estimators = [int(x) for x in np.linspace(start = 200, stop = 2000, num = 10)]\n",
    "\n",
    "# Boosting learning rate\n",
    "learning_rate = [0.05, 0.10, 0.15, 0.20, 0.25, 0.30]\n",
    "\n",
    "# Maximum number of levels in tree\n",
    "max_depth = range(5,16,2)\n",
    "\n",
    "min_samples_split = range(200,1401,200)\n",
    "\n",
    "min_samples_leaf = range(30,71,10)\n",
    "\n",
    "max_features = range(7,20,2)\n",
    "\n",
    "subsample = [0.6,0.7,0.75,0.8,0.85,0.9]\n",
    "\n",
    "\n",
    "random_grid = {'n_estimators': n_estimators,\n",
    "               'learning_rate': learning_rate,\n",
    "               'max_depth': max_depth,\n",
    "               'min_samples_split': min_samples_split,\n",
    "               'min_samples_leaf': min_samples_leaf,\n",
    "               'max_features': max_features,\n",
    "               'subsample': subsample}\n",
    "pprint(random_grid)"
   ]
  },
  {
   "cell_type": "markdown",
   "metadata": {},
   "source": [
    "##### Perform Random Search"
   ]
  },
  {
   "cell_type": "code",
   "execution_count": 25,
   "metadata": {},
   "outputs": [
    {
     "name": "stdout",
     "output_type": "stream",
     "text": [
      "Fitting 5 folds for each of 50 candidates, totalling 250 fits\n",
      "[CV] END learning_rate=0.1, max_depth=9, max_features=11, min_samples_leaf=30, min_samples_split=600, n_estimators=1400, subsample=0.75; total time=  42.5s\n",
      "[CV] END learning_rate=0.1, max_depth=9, max_features=11, min_samples_leaf=30, min_samples_split=600, n_estimators=1400, subsample=0.75; total time=  42.9s\n",
      "[CV] END learning_rate=0.1, max_depth=9, max_features=11, min_samples_leaf=30, min_samples_split=600, n_estimators=1400, subsample=0.75; total time=  42.4s\n",
      "[CV] END learning_rate=0.1, max_depth=9, max_features=11, min_samples_leaf=30, min_samples_split=600, n_estimators=1400, subsample=0.75; total time=  42.2s\n",
      "[CV] END learning_rate=0.1, max_depth=9, max_features=11, min_samples_leaf=30, min_samples_split=600, n_estimators=1400, subsample=0.75; total time=  43.4s\n",
      "[CV] END learning_rate=0.1, max_depth=9, max_features=19, min_samples_leaf=70, min_samples_split=200, n_estimators=1800, subsample=0.85; total time= 1.8min\n",
      "[CV] END learning_rate=0.1, max_depth=9, max_features=19, min_samples_leaf=70, min_samples_split=200, n_estimators=1800, subsample=0.85; total time= 1.8min\n",
      "[CV] END learning_rate=0.1, max_depth=9, max_features=19, min_samples_leaf=70, min_samples_split=200, n_estimators=1800, subsample=0.85; total time= 1.8min\n",
      "[CV] END learning_rate=0.1, max_depth=9, max_features=19, min_samples_leaf=70, min_samples_split=200, n_estimators=1800, subsample=0.85; total time= 1.8min\n",
      "[CV] END learning_rate=0.1, max_depth=9, max_features=19, min_samples_leaf=70, min_samples_split=200, n_estimators=1800, subsample=0.85; total time= 1.8min\n",
      "[CV] END learning_rate=0.25, max_depth=5, max_features=19, min_samples_leaf=40, min_samples_split=200, n_estimators=800, subsample=0.6; total time=  26.1s\n",
      "[CV] END learning_rate=0.25, max_depth=5, max_features=19, min_samples_leaf=40, min_samples_split=200, n_estimators=800, subsample=0.6; total time=  26.5s\n",
      "[CV] END learning_rate=0.25, max_depth=5, max_features=19, min_samples_leaf=40, min_samples_split=200, n_estimators=800, subsample=0.6; total time=  26.1s\n",
      "[CV] END learning_rate=0.25, max_depth=5, max_features=19, min_samples_leaf=40, min_samples_split=200, n_estimators=800, subsample=0.6; total time=  26.1s\n",
      "[CV] END learning_rate=0.25, max_depth=5, max_features=19, min_samples_leaf=40, min_samples_split=200, n_estimators=800, subsample=0.6; total time=  26.4s\n",
      "[CV] END learning_rate=0.15, max_depth=15, max_features=15, min_samples_leaf=50, min_samples_split=200, n_estimators=1400, subsample=0.75; total time= 1.2min\n",
      "[CV] END learning_rate=0.15, max_depth=15, max_features=15, min_samples_leaf=50, min_samples_split=200, n_estimators=1400, subsample=0.75; total time= 1.2min\n",
      "[CV] END learning_rate=0.15, max_depth=15, max_features=15, min_samples_leaf=50, min_samples_split=200, n_estimators=1400, subsample=0.75; total time= 1.2min\n",
      "[CV] END learning_rate=0.15, max_depth=15, max_features=15, min_samples_leaf=50, min_samples_split=200, n_estimators=1400, subsample=0.75; total time= 1.2min\n",
      "[CV] END learning_rate=0.15, max_depth=15, max_features=15, min_samples_leaf=50, min_samples_split=200, n_estimators=1400, subsample=0.75; total time= 1.2min\n",
      "[CV] END learning_rate=0.1, max_depth=7, max_features=13, min_samples_leaf=50, min_samples_split=800, n_estimators=1800, subsample=0.6; total time=  41.4s\n",
      "[CV] END learning_rate=0.1, max_depth=7, max_features=13, min_samples_leaf=50, min_samples_split=800, n_estimators=1800, subsample=0.6; total time=  41.8s\n",
      "[CV] END learning_rate=0.1, max_depth=7, max_features=13, min_samples_leaf=50, min_samples_split=800, n_estimators=1800, subsample=0.6; total time=  41.3s\n",
      "[CV] END learning_rate=0.1, max_depth=7, max_features=13, min_samples_leaf=50, min_samples_split=800, n_estimators=1800, subsample=0.6; total time=  41.4s\n",
      "[CV] END learning_rate=0.1, max_depth=7, max_features=13, min_samples_leaf=50, min_samples_split=800, n_estimators=1800, subsample=0.6; total time=  41.6s\n",
      "[CV] END learning_rate=0.05, max_depth=11, max_features=17, min_samples_leaf=30, min_samples_split=1000, n_estimators=1600, subsample=0.85; total time= 1.2min\n",
      "[CV] END learning_rate=0.05, max_depth=11, max_features=17, min_samples_leaf=30, min_samples_split=1000, n_estimators=1600, subsample=0.85; total time= 1.3min\n",
      "[CV] END learning_rate=0.05, max_depth=11, max_features=17, min_samples_leaf=30, min_samples_split=1000, n_estimators=1600, subsample=0.85; total time= 1.2min\n",
      "[CV] END learning_rate=0.05, max_depth=11, max_features=17, min_samples_leaf=30, min_samples_split=1000, n_estimators=1600, subsample=0.85; total time= 1.2min\n",
      "[CV] END learning_rate=0.05, max_depth=11, max_features=17, min_samples_leaf=30, min_samples_split=1000, n_estimators=1600, subsample=0.85; total time= 1.3min\n",
      "[CV] END learning_rate=0.1, max_depth=11, max_features=11, min_samples_leaf=40, min_samples_split=1400, n_estimators=2000, subsample=0.8; total time=  48.5s\n",
      "[CV] END learning_rate=0.1, max_depth=11, max_features=11, min_samples_leaf=40, min_samples_split=1400, n_estimators=2000, subsample=0.8; total time=  49.0s\n",
      "[CV] END learning_rate=0.1, max_depth=11, max_features=11, min_samples_leaf=40, min_samples_split=1400, n_estimators=2000, subsample=0.8; total time=  48.4s\n",
      "[CV] END learning_rate=0.1, max_depth=11, max_features=11, min_samples_leaf=40, min_samples_split=1400, n_estimators=2000, subsample=0.8; total time=  48.6s\n",
      "[CV] END learning_rate=0.1, max_depth=11, max_features=11, min_samples_leaf=40, min_samples_split=1400, n_estimators=2000, subsample=0.8; total time=  48.5s\n",
      "[CV] END learning_rate=0.3, max_depth=15, max_features=13, min_samples_leaf=40, min_samples_split=800, n_estimators=1200, subsample=0.6; total time=  31.0s\n",
      "[CV] END learning_rate=0.3, max_depth=15, max_features=13, min_samples_leaf=40, min_samples_split=800, n_estimators=1200, subsample=0.6; total time=  30.5s\n",
      "[CV] END learning_rate=0.3, max_depth=15, max_features=13, min_samples_leaf=40, min_samples_split=800, n_estimators=1200, subsample=0.6; total time=  30.4s\n",
      "[CV] END learning_rate=0.3, max_depth=15, max_features=13, min_samples_leaf=40, min_samples_split=800, n_estimators=1200, subsample=0.6; total time=  30.3s\n",
      "[CV] END learning_rate=0.3, max_depth=15, max_features=13, min_samples_leaf=40, min_samples_split=800, n_estimators=1200, subsample=0.6; total time=  30.2s\n",
      "[CV] END learning_rate=0.05, max_depth=15, max_features=19, min_samples_leaf=60, min_samples_split=600, n_estimators=800, subsample=0.6; total time=  28.8s\n",
      "[CV] END learning_rate=0.05, max_depth=15, max_features=19, min_samples_leaf=60, min_samples_split=600, n_estimators=800, subsample=0.6; total time=  29.1s\n",
      "[CV] END learning_rate=0.05, max_depth=15, max_features=19, min_samples_leaf=60, min_samples_split=600, n_estimators=800, subsample=0.6; total time=  29.5s\n",
      "[CV] END learning_rate=0.05, max_depth=15, max_features=19, min_samples_leaf=60, min_samples_split=600, n_estimators=800, subsample=0.6; total time=  28.8s\n",
      "[CV] END learning_rate=0.05, max_depth=15, max_features=19, min_samples_leaf=60, min_samples_split=600, n_estimators=800, subsample=0.6; total time=  28.7s\n",
      "[CV] END learning_rate=0.1, max_depth=15, max_features=19, min_samples_leaf=50, min_samples_split=400, n_estimators=200, subsample=0.8; total time=  11.8s\n",
      "[CV] END learning_rate=0.1, max_depth=15, max_features=19, min_samples_leaf=50, min_samples_split=400, n_estimators=200, subsample=0.8; total time=  12.0s\n",
      "[CV] END learning_rate=0.1, max_depth=15, max_features=19, min_samples_leaf=50, min_samples_split=400, n_estimators=200, subsample=0.8; total time=  11.8s\n",
      "[CV] END learning_rate=0.1, max_depth=15, max_features=19, min_samples_leaf=50, min_samples_split=400, n_estimators=200, subsample=0.8; total time=  11.8s\n",
      "[CV] END learning_rate=0.1, max_depth=15, max_features=19, min_samples_leaf=50, min_samples_split=400, n_estimators=200, subsample=0.8; total time=  11.9s\n",
      "[CV] END learning_rate=0.15, max_depth=7, max_features=7, min_samples_leaf=30, min_samples_split=800, n_estimators=2000, subsample=0.7; total time=  34.5s\n",
      "[CV] END learning_rate=0.15, max_depth=7, max_features=7, min_samples_leaf=30, min_samples_split=800, n_estimators=2000, subsample=0.7; total time=  34.9s\n",
      "[CV] END learning_rate=0.15, max_depth=7, max_features=7, min_samples_leaf=30, min_samples_split=800, n_estimators=2000, subsample=0.7; total time=  34.5s\n",
      "[CV] END learning_rate=0.15, max_depth=7, max_features=7, min_samples_leaf=30, min_samples_split=800, n_estimators=2000, subsample=0.7; total time=  34.7s\n",
      "[CV] END learning_rate=0.15, max_depth=7, max_features=7, min_samples_leaf=30, min_samples_split=800, n_estimators=2000, subsample=0.7; total time=  34.6s\n",
      "[CV] END learning_rate=0.2, max_depth=5, max_features=19, min_samples_leaf=50, min_samples_split=600, n_estimators=400, subsample=0.7; total time=  13.4s\n",
      "[CV] END learning_rate=0.2, max_depth=5, max_features=19, min_samples_leaf=50, min_samples_split=600, n_estimators=400, subsample=0.7; total time=  13.5s\n",
      "[CV] END learning_rate=0.2, max_depth=5, max_features=19, min_samples_leaf=50, min_samples_split=600, n_estimators=400, subsample=0.7; total time=  13.3s\n",
      "[CV] END learning_rate=0.2, max_depth=5, max_features=19, min_samples_leaf=50, min_samples_split=600, n_estimators=400, subsample=0.7; total time=  13.3s\n",
      "[CV] END learning_rate=0.2, max_depth=5, max_features=19, min_samples_leaf=50, min_samples_split=600, n_estimators=400, subsample=0.7; total time=  13.3s\n",
      "[CV] END learning_rate=0.05, max_depth=9, max_features=17, min_samples_leaf=50, min_samples_split=1200, n_estimators=1800, subsample=0.75; total time= 1.0min\n",
      "[CV] END learning_rate=0.05, max_depth=9, max_features=17, min_samples_leaf=50, min_samples_split=1200, n_estimators=1800, subsample=0.75; total time= 1.0min\n",
      "[CV] END learning_rate=0.05, max_depth=9, max_features=17, min_samples_leaf=50, min_samples_split=1200, n_estimators=1800, subsample=0.75; total time= 1.0min\n",
      "[CV] END learning_rate=0.05, max_depth=9, max_features=17, min_samples_leaf=50, min_samples_split=1200, n_estimators=1800, subsample=0.75; total time= 1.0min\n",
      "[CV] END learning_rate=0.05, max_depth=9, max_features=17, min_samples_leaf=50, min_samples_split=1200, n_estimators=1800, subsample=0.75; total time= 1.0min\n",
      "[CV] END learning_rate=0.2, max_depth=13, max_features=11, min_samples_leaf=70, min_samples_split=400, n_estimators=1000, subsample=0.7; total time=  29.4s\n",
      "[CV] END learning_rate=0.2, max_depth=13, max_features=11, min_samples_leaf=70, min_samples_split=400, n_estimators=1000, subsample=0.7; total time=  29.5s\n",
      "[CV] END learning_rate=0.2, max_depth=13, max_features=11, min_samples_leaf=70, min_samples_split=400, n_estimators=1000, subsample=0.7; total time=  29.2s\n",
      "[CV] END learning_rate=0.2, max_depth=13, max_features=11, min_samples_leaf=70, min_samples_split=400, n_estimators=1000, subsample=0.7; total time=  29.2s\n",
      "[CV] END learning_rate=0.2, max_depth=13, max_features=11, min_samples_leaf=70, min_samples_split=400, n_estimators=1000, subsample=0.7; total time=  29.3s\n",
      "[CV] END learning_rate=0.05, max_depth=13, max_features=11, min_samples_leaf=70, min_samples_split=600, n_estimators=800, subsample=0.75; total time=  23.2s\n",
      "[CV] END learning_rate=0.05, max_depth=13, max_features=11, min_samples_leaf=70, min_samples_split=600, n_estimators=800, subsample=0.75; total time=  23.4s\n",
      "[CV] END learning_rate=0.05, max_depth=13, max_features=11, min_samples_leaf=70, min_samples_split=600, n_estimators=800, subsample=0.75; total time=  23.0s\n",
      "[CV] END learning_rate=0.05, max_depth=13, max_features=11, min_samples_leaf=70, min_samples_split=600, n_estimators=800, subsample=0.75; total time=  22.8s\n",
      "[CV] END learning_rate=0.05, max_depth=13, max_features=11, min_samples_leaf=70, min_samples_split=600, n_estimators=800, subsample=0.75; total time=  23.1s\n",
      "[CV] END learning_rate=0.2, max_depth=11, max_features=19, min_samples_leaf=40, min_samples_split=600, n_estimators=1400, subsample=0.8; total time= 1.3min\n",
      "[CV] END learning_rate=0.2, max_depth=11, max_features=19, min_samples_leaf=40, min_samples_split=600, n_estimators=1400, subsample=0.8; total time= 1.3min\n",
      "[CV] END learning_rate=0.2, max_depth=11, max_features=19, min_samples_leaf=40, min_samples_split=600, n_estimators=1400, subsample=0.8; total time= 1.3min\n",
      "[CV] END learning_rate=0.2, max_depth=11, max_features=19, min_samples_leaf=40, min_samples_split=600, n_estimators=1400, subsample=0.8; total time= 1.3min\n",
      "[CV] END learning_rate=0.2, max_depth=11, max_features=19, min_samples_leaf=40, min_samples_split=600, n_estimators=1400, subsample=0.8; total time= 1.3min\n",
      "[CV] END learning_rate=0.2, max_depth=13, max_features=9, min_samples_leaf=60, min_samples_split=1200, n_estimators=400, subsample=0.8; total time=   8.4s\n",
      "[CV] END learning_rate=0.2, max_depth=13, max_features=9, min_samples_leaf=60, min_samples_split=1200, n_estimators=400, subsample=0.8; total time=   8.6s\n",
      "[CV] END learning_rate=0.2, max_depth=13, max_features=9, min_samples_leaf=60, min_samples_split=1200, n_estimators=400, subsample=0.8; total time=   8.4s\n",
      "[CV] END learning_rate=0.2, max_depth=13, max_features=9, min_samples_leaf=60, min_samples_split=1200, n_estimators=400, subsample=0.8; total time=   8.4s\n",
      "[CV] END learning_rate=0.2, max_depth=13, max_features=9, min_samples_leaf=60, min_samples_split=1200, n_estimators=400, subsample=0.8; total time=   8.4s\n",
      "[CV] END learning_rate=0.15, max_depth=7, max_features=13, min_samples_leaf=60, min_samples_split=1400, n_estimators=800, subsample=0.8; total time=  20.3s\n",
      "[CV] END learning_rate=0.15, max_depth=7, max_features=13, min_samples_leaf=60, min_samples_split=1400, n_estimators=800, subsample=0.8; total time=  20.4s\n",
      "[CV] END learning_rate=0.15, max_depth=7, max_features=13, min_samples_leaf=60, min_samples_split=1400, n_estimators=800, subsample=0.8; total time=  20.2s\n",
      "[CV] END learning_rate=0.15, max_depth=7, max_features=13, min_samples_leaf=60, min_samples_split=1400, n_estimators=800, subsample=0.8; total time=  20.3s\n",
      "[CV] END learning_rate=0.15, max_depth=7, max_features=13, min_samples_leaf=60, min_samples_split=1400, n_estimators=800, subsample=0.8; total time=  20.2s\n",
      "[CV] END learning_rate=0.1, max_depth=7, max_features=7, min_samples_leaf=40, min_samples_split=200, n_estimators=1200, subsample=0.9; total time=  29.5s\n",
      "[CV] END learning_rate=0.1, max_depth=7, max_features=7, min_samples_leaf=40, min_samples_split=200, n_estimators=1200, subsample=0.9; total time=  29.8s\n",
      "[CV] END learning_rate=0.1, max_depth=7, max_features=7, min_samples_leaf=40, min_samples_split=200, n_estimators=1200, subsample=0.9; total time=  29.3s\n",
      "[CV] END learning_rate=0.1, max_depth=7, max_features=7, min_samples_leaf=40, min_samples_split=200, n_estimators=1200, subsample=0.9; total time=  29.3s\n",
      "[CV] END learning_rate=0.1, max_depth=7, max_features=7, min_samples_leaf=40, min_samples_split=200, n_estimators=1200, subsample=0.9; total time=  29.5s\n",
      "[CV] END learning_rate=0.15, max_depth=13, max_features=7, min_samples_leaf=40, min_samples_split=600, n_estimators=2000, subsample=0.75; total time=  43.7s\n",
      "[CV] END learning_rate=0.15, max_depth=13, max_features=7, min_samples_leaf=40, min_samples_split=600, n_estimators=2000, subsample=0.75; total time=  44.3s\n",
      "[CV] END learning_rate=0.15, max_depth=13, max_features=7, min_samples_leaf=40, min_samples_split=600, n_estimators=2000, subsample=0.75; total time=  43.7s\n",
      "[CV] END learning_rate=0.15, max_depth=13, max_features=7, min_samples_leaf=40, min_samples_split=600, n_estimators=2000, subsample=0.75; total time=  43.8s\n",
      "[CV] END learning_rate=0.15, max_depth=13, max_features=7, min_samples_leaf=40, min_samples_split=600, n_estimators=2000, subsample=0.75; total time=  43.9s\n",
      "[CV] END learning_rate=0.15, max_depth=9, max_features=13, min_samples_leaf=70, min_samples_split=1400, n_estimators=1400, subsample=0.6; total time=  24.3s\n",
      "[CV] END learning_rate=0.15, max_depth=9, max_features=13, min_samples_leaf=70, min_samples_split=1400, n_estimators=1400, subsample=0.6; total time=  24.6s\n",
      "[CV] END learning_rate=0.15, max_depth=9, max_features=13, min_samples_leaf=70, min_samples_split=1400, n_estimators=1400, subsample=0.6; total time=  24.2s\n",
      "[CV] END learning_rate=0.15, max_depth=9, max_features=13, min_samples_leaf=70, min_samples_split=1400, n_estimators=1400, subsample=0.6; total time=  24.3s\n",
      "[CV] END learning_rate=0.15, max_depth=9, max_features=13, min_samples_leaf=70, min_samples_split=1400, n_estimators=1400, subsample=0.6; total time=  24.5s\n",
      "[CV] END learning_rate=0.15, max_depth=5, max_features=13, min_samples_leaf=70, min_samples_split=1400, n_estimators=1400, subsample=0.8; total time=  32.1s\n",
      "[CV] END learning_rate=0.15, max_depth=5, max_features=13, min_samples_leaf=70, min_samples_split=1400, n_estimators=1400, subsample=0.8; total time=  32.1s\n",
      "[CV] END learning_rate=0.15, max_depth=5, max_features=13, min_samples_leaf=70, min_samples_split=1400, n_estimators=1400, subsample=0.8; total time=  31.8s\n",
      "[CV] END learning_rate=0.15, max_depth=5, max_features=13, min_samples_leaf=70, min_samples_split=1400, n_estimators=1400, subsample=0.8; total time=  32.3s\n",
      "[CV] END learning_rate=0.15, max_depth=5, max_features=13, min_samples_leaf=70, min_samples_split=1400, n_estimators=1400, subsample=0.8; total time=  31.7s\n",
      "[CV] END learning_rate=0.2, max_depth=15, max_features=15, min_samples_leaf=50, min_samples_split=400, n_estimators=1800, subsample=0.7; total time= 1.3min\n",
      "[CV] END learning_rate=0.2, max_depth=15, max_features=15, min_samples_leaf=50, min_samples_split=400, n_estimators=1800, subsample=0.7; total time= 1.3min\n",
      "[CV] END learning_rate=0.2, max_depth=15, max_features=15, min_samples_leaf=50, min_samples_split=400, n_estimators=1800, subsample=0.7; total time= 1.3min\n",
      "[CV] END learning_rate=0.2, max_depth=15, max_features=15, min_samples_leaf=50, min_samples_split=400, n_estimators=1800, subsample=0.7; total time= 1.3min\n",
      "[CV] END learning_rate=0.2, max_depth=15, max_features=15, min_samples_leaf=50, min_samples_split=400, n_estimators=1800, subsample=0.7; total time= 1.3min\n",
      "[CV] END learning_rate=0.25, max_depth=13, max_features=15, min_samples_leaf=70, min_samples_split=800, n_estimators=1800, subsample=0.7; total time=  55.8s\n",
      "[CV] END learning_rate=0.25, max_depth=13, max_features=15, min_samples_leaf=70, min_samples_split=800, n_estimators=1800, subsample=0.7; total time=  56.5s\n",
      "[CV] END learning_rate=0.25, max_depth=13, max_features=15, min_samples_leaf=70, min_samples_split=800, n_estimators=1800, subsample=0.7; total time=  55.9s\n",
      "[CV] END learning_rate=0.25, max_depth=13, max_features=15, min_samples_leaf=70, min_samples_split=800, n_estimators=1800, subsample=0.7; total time=  55.9s\n",
      "[CV] END learning_rate=0.25, max_depth=13, max_features=15, min_samples_leaf=70, min_samples_split=800, n_estimators=1800, subsample=0.7; total time=  56.0s\n",
      "[CV] END learning_rate=0.15, max_depth=15, max_features=15, min_samples_leaf=40, min_samples_split=400, n_estimators=600, subsample=0.8; total time=  30.4s\n",
      "[CV] END learning_rate=0.15, max_depth=15, max_features=15, min_samples_leaf=40, min_samples_split=400, n_estimators=600, subsample=0.8; total time=  30.9s\n",
      "[CV] END learning_rate=0.15, max_depth=15, max_features=15, min_samples_leaf=40, min_samples_split=400, n_estimators=600, subsample=0.8; total time=  30.4s\n",
      "[CV] END learning_rate=0.15, max_depth=15, max_features=15, min_samples_leaf=40, min_samples_split=400, n_estimators=600, subsample=0.8; total time=  30.6s\n",
      "[CV] END learning_rate=0.15, max_depth=15, max_features=15, min_samples_leaf=40, min_samples_split=400, n_estimators=600, subsample=0.8; total time=  30.9s\n",
      "[CV] END learning_rate=0.3, max_depth=11, max_features=7, min_samples_leaf=50, min_samples_split=1000, n_estimators=1800, subsample=0.85; total time=  36.4s\n",
      "[CV] END learning_rate=0.3, max_depth=11, max_features=7, min_samples_leaf=50, min_samples_split=1000, n_estimators=1800, subsample=0.85; total time=  36.7s\n",
      "[CV] END learning_rate=0.3, max_depth=11, max_features=7, min_samples_leaf=50, min_samples_split=1000, n_estimators=1800, subsample=0.85; total time=  36.5s\n",
      "[CV] END learning_rate=0.3, max_depth=11, max_features=7, min_samples_leaf=50, min_samples_split=1000, n_estimators=1800, subsample=0.85; total time=  36.7s\n",
      "[CV] END learning_rate=0.3, max_depth=11, max_features=7, min_samples_leaf=50, min_samples_split=1000, n_estimators=1800, subsample=0.85; total time=  36.5s\n",
      "[CV] END learning_rate=0.3, max_depth=13, max_features=7, min_samples_leaf=30, min_samples_split=1400, n_estimators=1000, subsample=0.75; total time=  16.3s\n",
      "[CV] END learning_rate=0.3, max_depth=13, max_features=7, min_samples_leaf=30, min_samples_split=1400, n_estimators=1000, subsample=0.75; total time=  16.5s\n",
      "[CV] END learning_rate=0.3, max_depth=13, max_features=7, min_samples_leaf=30, min_samples_split=1400, n_estimators=1000, subsample=0.75; total time=  16.2s\n",
      "[CV] END learning_rate=0.3, max_depth=13, max_features=7, min_samples_leaf=30, min_samples_split=1400, n_estimators=1000, subsample=0.75; total time=  16.2s\n",
      "[CV] END learning_rate=0.3, max_depth=13, max_features=7, min_samples_leaf=30, min_samples_split=1400, n_estimators=1000, subsample=0.75; total time=  16.2s\n",
      "[CV] END learning_rate=0.1, max_depth=13, max_features=15, min_samples_leaf=60, min_samples_split=400, n_estimators=400, subsample=0.85; total time=  19.8s\n",
      "[CV] END learning_rate=0.1, max_depth=13, max_features=15, min_samples_leaf=60, min_samples_split=400, n_estimators=400, subsample=0.85; total time=  20.2s\n",
      "[CV] END learning_rate=0.1, max_depth=13, max_features=15, min_samples_leaf=60, min_samples_split=400, n_estimators=400, subsample=0.85; total time=  19.8s\n",
      "[CV] END learning_rate=0.1, max_depth=13, max_features=15, min_samples_leaf=60, min_samples_split=400, n_estimators=400, subsample=0.85; total time=  19.7s\n",
      "[CV] END learning_rate=0.1, max_depth=13, max_features=15, min_samples_leaf=60, min_samples_split=400, n_estimators=400, subsample=0.85; total time=  20.0s\n",
      "[CV] END learning_rate=0.25, max_depth=9, max_features=9, min_samples_leaf=30, min_samples_split=1400, n_estimators=800, subsample=0.8; total time=  16.8s\n",
      "[CV] END learning_rate=0.25, max_depth=9, max_features=9, min_samples_leaf=30, min_samples_split=1400, n_estimators=800, subsample=0.8; total time=  17.0s\n",
      "[CV] END learning_rate=0.25, max_depth=9, max_features=9, min_samples_leaf=30, min_samples_split=1400, n_estimators=800, subsample=0.8; total time=  16.8s\n",
      "[CV] END learning_rate=0.25, max_depth=9, max_features=9, min_samples_leaf=30, min_samples_split=1400, n_estimators=800, subsample=0.8; total time=  16.6s\n",
      "[CV] END learning_rate=0.25, max_depth=9, max_features=9, min_samples_leaf=30, min_samples_split=1400, n_estimators=800, subsample=0.8; total time=  16.7s\n",
      "[CV] END learning_rate=0.1, max_depth=13, max_features=9, min_samples_leaf=30, min_samples_split=1400, n_estimators=1600, subsample=0.7; total time=  29.4s\n",
      "[CV] END learning_rate=0.1, max_depth=13, max_features=9, min_samples_leaf=30, min_samples_split=1400, n_estimators=1600, subsample=0.7; total time=  29.2s\n",
      "[CV] END learning_rate=0.1, max_depth=13, max_features=9, min_samples_leaf=30, min_samples_split=1400, n_estimators=1600, subsample=0.7; total time=  29.0s\n",
      "[CV] END learning_rate=0.1, max_depth=13, max_features=9, min_samples_leaf=30, min_samples_split=1400, n_estimators=1600, subsample=0.7; total time=  28.9s\n",
      "[CV] END learning_rate=0.1, max_depth=13, max_features=9, min_samples_leaf=30, min_samples_split=1400, n_estimators=1600, subsample=0.7; total time=  28.9s\n",
      "[CV] END learning_rate=0.3, max_depth=15, max_features=17, min_samples_leaf=70, min_samples_split=1200, n_estimators=2000, subsample=0.7; total time=  57.3s\n",
      "[CV] END learning_rate=0.3, max_depth=15, max_features=17, min_samples_leaf=70, min_samples_split=1200, n_estimators=2000, subsample=0.7; total time=  57.9s\n",
      "[CV] END learning_rate=0.3, max_depth=15, max_features=17, min_samples_leaf=70, min_samples_split=1200, n_estimators=2000, subsample=0.7; total time=  57.6s\n",
      "[CV] END learning_rate=0.3, max_depth=15, max_features=17, min_samples_leaf=70, min_samples_split=1200, n_estimators=2000, subsample=0.7; total time=  57.2s\n",
      "[CV] END learning_rate=0.3, max_depth=15, max_features=17, min_samples_leaf=70, min_samples_split=1200, n_estimators=2000, subsample=0.7; total time=  57.8s\n",
      "[CV] END learning_rate=0.3, max_depth=5, max_features=17, min_samples_leaf=50, min_samples_split=200, n_estimators=1000, subsample=0.75; total time=  34.6s\n",
      "[CV] END learning_rate=0.3, max_depth=5, max_features=17, min_samples_leaf=50, min_samples_split=200, n_estimators=1000, subsample=0.75; total time=  35.0s\n",
      "[CV] END learning_rate=0.3, max_depth=5, max_features=17, min_samples_leaf=50, min_samples_split=200, n_estimators=1000, subsample=0.75; total time=  34.5s\n",
      "[CV] END learning_rate=0.3, max_depth=5, max_features=17, min_samples_leaf=50, min_samples_split=200, n_estimators=1000, subsample=0.75; total time=  34.5s\n",
      "[CV] END learning_rate=0.3, max_depth=5, max_features=17, min_samples_leaf=50, min_samples_split=200, n_estimators=1000, subsample=0.75; total time=  34.6s\n",
      "[CV] END learning_rate=0.05, max_depth=13, max_features=13, min_samples_leaf=40, min_samples_split=800, n_estimators=1000, subsample=0.7; total time=  30.6s\n",
      "[CV] END learning_rate=0.05, max_depth=13, max_features=13, min_samples_leaf=40, min_samples_split=800, n_estimators=1000, subsample=0.7; total time=  31.2s\n",
      "[CV] END learning_rate=0.05, max_depth=13, max_features=13, min_samples_leaf=40, min_samples_split=800, n_estimators=1000, subsample=0.7; total time=  30.6s\n",
      "[CV] END learning_rate=0.05, max_depth=13, max_features=13, min_samples_leaf=40, min_samples_split=800, n_estimators=1000, subsample=0.7; total time=  30.2s\n",
      "[CV] END learning_rate=0.05, max_depth=13, max_features=13, min_samples_leaf=40, min_samples_split=800, n_estimators=1000, subsample=0.7; total time=  30.7s\n",
      "[CV] END learning_rate=0.1, max_depth=9, max_features=17, min_samples_leaf=70, min_samples_split=800, n_estimators=800, subsample=0.8; total time=  32.0s\n",
      "[CV] END learning_rate=0.1, max_depth=9, max_features=17, min_samples_leaf=70, min_samples_split=800, n_estimators=800, subsample=0.8; total time=  32.6s\n",
      "[CV] END learning_rate=0.1, max_depth=9, max_features=17, min_samples_leaf=70, min_samples_split=800, n_estimators=800, subsample=0.8; total time=  32.0s\n",
      "[CV] END learning_rate=0.1, max_depth=9, max_features=17, min_samples_leaf=70, min_samples_split=800, n_estimators=800, subsample=0.8; total time=  31.9s\n",
      "[CV] END learning_rate=0.1, max_depth=9, max_features=17, min_samples_leaf=70, min_samples_split=800, n_estimators=800, subsample=0.8; total time=  31.9s\n",
      "[CV] END learning_rate=0.05, max_depth=15, max_features=17, min_samples_leaf=40, min_samples_split=800, n_estimators=2000, subsample=0.6; total time= 1.1min\n",
      "[CV] END learning_rate=0.05, max_depth=15, max_features=17, min_samples_leaf=40, min_samples_split=800, n_estimators=2000, subsample=0.6; total time= 1.1min\n",
      "[CV] END learning_rate=0.05, max_depth=15, max_features=17, min_samples_leaf=40, min_samples_split=800, n_estimators=2000, subsample=0.6; total time= 1.1min\n",
      "[CV] END learning_rate=0.05, max_depth=15, max_features=17, min_samples_leaf=40, min_samples_split=800, n_estimators=2000, subsample=0.6; total time= 1.1min\n",
      "[CV] END learning_rate=0.05, max_depth=15, max_features=17, min_samples_leaf=40, min_samples_split=800, n_estimators=2000, subsample=0.6; total time= 1.1min\n",
      "[CV] END learning_rate=0.2, max_depth=11, max_features=15, min_samples_leaf=70, min_samples_split=1000, n_estimators=400, subsample=0.85; total time=  14.6s\n",
      "[CV] END learning_rate=0.2, max_depth=11, max_features=15, min_samples_leaf=70, min_samples_split=1000, n_estimators=400, subsample=0.85; total time=  14.9s\n",
      "[CV] END learning_rate=0.2, max_depth=11, max_features=15, min_samples_leaf=70, min_samples_split=1000, n_estimators=400, subsample=0.85; total time=  14.7s\n",
      "[CV] END learning_rate=0.2, max_depth=11, max_features=15, min_samples_leaf=70, min_samples_split=1000, n_estimators=400, subsample=0.85; total time=  14.6s\n",
      "[CV] END learning_rate=0.2, max_depth=11, max_features=15, min_samples_leaf=70, min_samples_split=1000, n_estimators=400, subsample=0.85; total time=  14.8s\n",
      "[CV] END learning_rate=0.2, max_depth=13, max_features=11, min_samples_leaf=60, min_samples_split=400, n_estimators=1000, subsample=0.8; total time=  35.5s\n",
      "[CV] END learning_rate=0.2, max_depth=13, max_features=11, min_samples_leaf=60, min_samples_split=400, n_estimators=1000, subsample=0.8; total time=  35.8s\n",
      "[CV] END learning_rate=0.2, max_depth=13, max_features=11, min_samples_leaf=60, min_samples_split=400, n_estimators=1000, subsample=0.8; total time=  35.3s\n",
      "[CV] END learning_rate=0.2, max_depth=13, max_features=11, min_samples_leaf=60, min_samples_split=400, n_estimators=1000, subsample=0.8; total time=  35.3s\n",
      "[CV] END learning_rate=0.2, max_depth=13, max_features=11, min_samples_leaf=60, min_samples_split=400, n_estimators=1000, subsample=0.8; total time=  35.5s\n",
      "[CV] END learning_rate=0.2, max_depth=5, max_features=15, min_samples_leaf=40, min_samples_split=400, n_estimators=2000, subsample=0.85; total time= 1.1min\n",
      "[CV] END learning_rate=0.2, max_depth=5, max_features=15, min_samples_leaf=40, min_samples_split=400, n_estimators=2000, subsample=0.85; total time= 1.1min\n",
      "[CV] END learning_rate=0.2, max_depth=5, max_features=15, min_samples_leaf=40, min_samples_split=400, n_estimators=2000, subsample=0.85; total time= 1.1min\n",
      "[CV] END learning_rate=0.2, max_depth=5, max_features=15, min_samples_leaf=40, min_samples_split=400, n_estimators=2000, subsample=0.85; total time= 1.1min\n",
      "[CV] END learning_rate=0.2, max_depth=5, max_features=15, min_samples_leaf=40, min_samples_split=400, n_estimators=2000, subsample=0.85; total time= 1.1min\n",
      "[CV] END learning_rate=0.2, max_depth=13, max_features=13, min_samples_leaf=60, min_samples_split=1000, n_estimators=1400, subsample=0.6; total time=  30.9s\n",
      "[CV] END learning_rate=0.2, max_depth=13, max_features=13, min_samples_leaf=60, min_samples_split=1000, n_estimators=1400, subsample=0.6; total time=  30.1s\n",
      "[CV] END learning_rate=0.2, max_depth=13, max_features=13, min_samples_leaf=60, min_samples_split=1000, n_estimators=1400, subsample=0.6; total time=  30.0s\n",
      "[CV] END learning_rate=0.2, max_depth=13, max_features=13, min_samples_leaf=60, min_samples_split=1000, n_estimators=1400, subsample=0.6; total time=  29.8s\n",
      "[CV] END learning_rate=0.2, max_depth=13, max_features=13, min_samples_leaf=60, min_samples_split=1000, n_estimators=1400, subsample=0.6; total time=  30.0s\n",
      "[CV] END learning_rate=0.3, max_depth=15, max_features=19, min_samples_leaf=50, min_samples_split=800, n_estimators=2000, subsample=0.85; total time= 1.9min\n",
      "[CV] END learning_rate=0.3, max_depth=15, max_features=19, min_samples_leaf=50, min_samples_split=800, n_estimators=2000, subsample=0.85; total time= 1.9min\n",
      "[CV] END learning_rate=0.3, max_depth=15, max_features=19, min_samples_leaf=50, min_samples_split=800, n_estimators=2000, subsample=0.85; total time= 1.9min\n",
      "[CV] END learning_rate=0.3, max_depth=15, max_features=19, min_samples_leaf=50, min_samples_split=800, n_estimators=2000, subsample=0.85; total time= 1.9min\n",
      "[CV] END learning_rate=0.3, max_depth=15, max_features=19, min_samples_leaf=50, min_samples_split=800, n_estimators=2000, subsample=0.85; total time= 1.9min\n",
      "[CV] END learning_rate=0.3, max_depth=11, max_features=11, min_samples_leaf=30, min_samples_split=800, n_estimators=600, subsample=0.6; total time=  13.9s\n",
      "[CV] END learning_rate=0.3, max_depth=11, max_features=11, min_samples_leaf=30, min_samples_split=800, n_estimators=600, subsample=0.6; total time=  13.8s\n",
      "[CV] END learning_rate=0.3, max_depth=11, max_features=11, min_samples_leaf=30, min_samples_split=800, n_estimators=600, subsample=0.6; total time=  13.8s\n",
      "[CV] END learning_rate=0.3, max_depth=11, max_features=11, min_samples_leaf=30, min_samples_split=800, n_estimators=600, subsample=0.6; total time=  13.8s\n",
      "[CV] END learning_rate=0.3, max_depth=11, max_features=11, min_samples_leaf=30, min_samples_split=800, n_estimators=600, subsample=0.6; total time=  13.7s\n",
      "[CV] END learning_rate=0.15, max_depth=15, max_features=13, min_samples_leaf=40, min_samples_split=800, n_estimators=1400, subsample=0.85; total time=  55.5s\n",
      "[CV] END learning_rate=0.15, max_depth=15, max_features=13, min_samples_leaf=40, min_samples_split=800, n_estimators=1400, subsample=0.85; total time=  56.2s\n",
      "[CV] END learning_rate=0.15, max_depth=15, max_features=13, min_samples_leaf=40, min_samples_split=800, n_estimators=1400, subsample=0.85; total time=  55.8s\n",
      "[CV] END learning_rate=0.15, max_depth=15, max_features=13, min_samples_leaf=40, min_samples_split=800, n_estimators=1400, subsample=0.85; total time=  55.7s\n",
      "[CV] END learning_rate=0.15, max_depth=15, max_features=13, min_samples_leaf=40, min_samples_split=800, n_estimators=1400, subsample=0.85; total time=  55.7s\n",
      "[CV] END learning_rate=0.3, max_depth=9, max_features=9, min_samples_leaf=40, min_samples_split=1200, n_estimators=1200, subsample=0.85; total time=  27.9s\n",
      "[CV] END learning_rate=0.3, max_depth=9, max_features=9, min_samples_leaf=40, min_samples_split=1200, n_estimators=1200, subsample=0.85; total time=  28.1s\n",
      "[CV] END learning_rate=0.3, max_depth=9, max_features=9, min_samples_leaf=40, min_samples_split=1200, n_estimators=1200, subsample=0.85; total time=  27.8s\n",
      "[CV] END learning_rate=0.3, max_depth=9, max_features=9, min_samples_leaf=40, min_samples_split=1200, n_estimators=1200, subsample=0.85; total time=  27.7s\n",
      "[CV] END learning_rate=0.3, max_depth=9, max_features=9, min_samples_leaf=40, min_samples_split=1200, n_estimators=1200, subsample=0.85; total time=  28.7s\n",
      "[CV] END learning_rate=0.2, max_depth=15, max_features=17, min_samples_leaf=50, min_samples_split=200, n_estimators=600, subsample=0.9; total time=  44.5s\n",
      "[CV] END learning_rate=0.2, max_depth=15, max_features=17, min_samples_leaf=50, min_samples_split=200, n_estimators=600, subsample=0.9; total time=  44.8s\n",
      "[CV] END learning_rate=0.2, max_depth=15, max_features=17, min_samples_leaf=50, min_samples_split=200, n_estimators=600, subsample=0.9; total time=  44.2s\n",
      "[CV] END learning_rate=0.2, max_depth=15, max_features=17, min_samples_leaf=50, min_samples_split=200, n_estimators=600, subsample=0.9; total time=  44.5s\n",
      "[CV] END learning_rate=0.2, max_depth=15, max_features=17, min_samples_leaf=50, min_samples_split=200, n_estimators=600, subsample=0.9; total time=  44.6s\n",
      "[CV] END learning_rate=0.2, max_depth=5, max_features=13, min_samples_leaf=30, min_samples_split=200, n_estimators=1400, subsample=0.6; total time=  34.5s\n",
      "[CV] END learning_rate=0.2, max_depth=5, max_features=13, min_samples_leaf=30, min_samples_split=200, n_estimators=1400, subsample=0.6; total time=  34.4s\n",
      "[CV] END learning_rate=0.2, max_depth=5, max_features=13, min_samples_leaf=30, min_samples_split=200, n_estimators=1400, subsample=0.6; total time=  34.1s\n",
      "[CV] END learning_rate=0.2, max_depth=5, max_features=13, min_samples_leaf=30, min_samples_split=200, n_estimators=1400, subsample=0.6; total time=  33.9s\n",
      "[CV] END learning_rate=0.2, max_depth=5, max_features=13, min_samples_leaf=30, min_samples_split=200, n_estimators=1400, subsample=0.6; total time=  35.5s\n",
      "[CV] END learning_rate=0.15, max_depth=13, max_features=11, min_samples_leaf=40, min_samples_split=400, n_estimators=1800, subsample=0.8; total time= 1.2min\n",
      "[CV] END learning_rate=0.15, max_depth=13, max_features=11, min_samples_leaf=40, min_samples_split=400, n_estimators=1800, subsample=0.8; total time= 1.2min\n",
      "[CV] END learning_rate=0.15, max_depth=13, max_features=11, min_samples_leaf=40, min_samples_split=400, n_estimators=1800, subsample=0.8; total time= 1.2min\n",
      "[CV] END learning_rate=0.15, max_depth=13, max_features=11, min_samples_leaf=40, min_samples_split=400, n_estimators=1800, subsample=0.8; total time= 1.2min\n",
      "[CV] END learning_rate=0.15, max_depth=13, max_features=11, min_samples_leaf=40, min_samples_split=400, n_estimators=1800, subsample=0.8; total time= 1.2min\n",
      "[CV] END learning_rate=0.15, max_depth=13, max_features=11, min_samples_leaf=30, min_samples_split=800, n_estimators=1800, subsample=0.7; total time=  49.6s\n",
      "[CV] END learning_rate=0.15, max_depth=13, max_features=11, min_samples_leaf=30, min_samples_split=800, n_estimators=1800, subsample=0.7; total time=  49.9s\n",
      "[CV] END learning_rate=0.15, max_depth=13, max_features=11, min_samples_leaf=30, min_samples_split=800, n_estimators=1800, subsample=0.7; total time=  50.0s\n",
      "[CV] END learning_rate=0.15, max_depth=13, max_features=11, min_samples_leaf=30, min_samples_split=800, n_estimators=1800, subsample=0.7; total time=  49.5s\n",
      "[CV] END learning_rate=0.15, max_depth=13, max_features=11, min_samples_leaf=30, min_samples_split=800, n_estimators=1800, subsample=0.7; total time=  49.9s\n",
      "[CV] END learning_rate=0.15, max_depth=7, max_features=19, min_samples_leaf=60, min_samples_split=400, n_estimators=800, subsample=0.8; total time=  37.2s\n",
      "[CV] END learning_rate=0.15, max_depth=7, max_features=19, min_samples_leaf=60, min_samples_split=400, n_estimators=800, subsample=0.8; total time=  38.3s\n",
      "[CV] END learning_rate=0.15, max_depth=7, max_features=19, min_samples_leaf=60, min_samples_split=400, n_estimators=800, subsample=0.8; total time=  37.2s\n",
      "[CV] END learning_rate=0.15, max_depth=7, max_features=19, min_samples_leaf=60, min_samples_split=400, n_estimators=800, subsample=0.8; total time=  37.1s\n",
      "[CV] END learning_rate=0.15, max_depth=7, max_features=19, min_samples_leaf=60, min_samples_split=400, n_estimators=800, subsample=0.8; total time=  37.3s\n",
      "[CV] END learning_rate=0.25, max_depth=13, max_features=11, min_samples_leaf=60, min_samples_split=200, n_estimators=1800, subsample=0.9; total time= 1.4min\n",
      "[CV] END learning_rate=0.25, max_depth=13, max_features=11, min_samples_leaf=60, min_samples_split=200, n_estimators=1800, subsample=0.9; total time= 1.4min\n",
      "[CV] END learning_rate=0.25, max_depth=13, max_features=11, min_samples_leaf=60, min_samples_split=200, n_estimators=1800, subsample=0.9; total time= 1.4min\n",
      "[CV] END learning_rate=0.25, max_depth=13, max_features=11, min_samples_leaf=60, min_samples_split=200, n_estimators=1800, subsample=0.9; total time= 1.4min\n",
      "[CV] END learning_rate=0.25, max_depth=13, max_features=11, min_samples_leaf=60, min_samples_split=200, n_estimators=1800, subsample=0.9; total time= 1.4min\n",
      "[CV] END learning_rate=0.05, max_depth=13, max_features=15, min_samples_leaf=50, min_samples_split=400, n_estimators=1800, subsample=0.6; total time= 1.0min\n",
      "[CV] END learning_rate=0.05, max_depth=13, max_features=15, min_samples_leaf=50, min_samples_split=400, n_estimators=1800, subsample=0.6; total time= 1.0min\n",
      "[CV] END learning_rate=0.05, max_depth=13, max_features=15, min_samples_leaf=50, min_samples_split=400, n_estimators=1800, subsample=0.6; total time= 1.0min\n",
      "[CV] END learning_rate=0.05, max_depth=13, max_features=15, min_samples_leaf=50, min_samples_split=400, n_estimators=1800, subsample=0.6; total time= 1.0min\n",
      "[CV] END learning_rate=0.05, max_depth=13, max_features=15, min_samples_leaf=50, min_samples_split=400, n_estimators=1800, subsample=0.6; total time= 1.0min\n"
     ]
    },
    {
     "data": {
      "text/plain": [
       "RandomizedSearchCV(cv=StratifiedKFold(n_splits=5, random_state=None, shuffle=False),\n",
       "                   estimator=<src.models.ordinal_classifier_scikit.GradientBoostingOC object at 0x7f8af2c1c0a0>,\n",
       "                   n_iter=50,\n",
       "                   param_distributions={'learning_rate': [0.05, 0.1, 0.15, 0.2,\n",
       "                                                          0.25, 0.3],\n",
       "                                        'max_depth': range(5, 16, 2),\n",
       "                                        'max_features': range(7, 20, 2),\n",
       "                                        'min_samples_leaf': range(30, 71, 10),\n",
       "                                        'min_samples_split': range(200, 1401, 200),\n",
       "                                        'n_estimators': [200, 400, 600, 800,\n",
       "                                                         1000, 1200, 1400, 1600,\n",
       "                                                         1800, 2000],\n",
       "                                        'subsample': [0.6, 0.7, 0.75, 0.8, 0.85,\n",
       "                                                      0.9]},\n",
       "                   random_state=42, scoring='neg_mean_absolute_error',\n",
       "                   verbose=2)"
      ]
     },
     "execution_count": 25,
     "metadata": {},
     "output_type": "execute_result"
    }
   ],
   "source": [
    "# Use the random grid to search for best hyperparameters\n",
    "# Define stratified cross validation\n",
    "cross_val = StratifiedKFold(n_splits=5)\n",
    "# First create the base model to tune\n",
    "gb = GradientBoostingOC()\n",
    "# Random search of parameters, using 3 fold cross validation, search across 100 different combinations\n",
    "gb_random = RandomizedSearchCV(estimator = gb, param_distributions = random_grid, n_iter = 50, cv = cross_val, verbose=2, random_state=42, scoring = 'neg_mean_absolute_error')\n",
    "# Fit the random search model\n",
    "gb_random.fit(X_train, y_train)"
   ]
  },
  {
   "cell_type": "markdown",
   "metadata": {},
   "source": [
    "##### Get best parameters and best evaluation score"
   ]
  },
  {
   "cell_type": "code",
   "execution_count": 26,
   "metadata": {},
   "outputs": [
    {
     "data": {
      "text/plain": [
       "{'subsample': 0.9,\n",
       " 'n_estimators': 1200,\n",
       " 'min_samples_split': 200,\n",
       " 'min_samples_leaf': 40,\n",
       " 'max_features': 7,\n",
       " 'max_depth': 7,\n",
       " 'learning_rate': 0.1}"
      ]
     },
     "execution_count": 26,
     "metadata": {},
     "output_type": "execute_result"
    }
   ],
   "source": [
    "gb_random.best_params_"
   ]
  },
  {
   "cell_type": "code",
   "execution_count": 27,
   "metadata": {},
   "outputs": [
    {
     "data": {
      "text/plain": [
       "-0.8950723387487554"
      ]
     },
     "execution_count": 27,
     "metadata": {},
     "output_type": "execute_result"
    }
   ],
   "source": [
    "gb_random.best_score_"
   ]
  },
  {
   "cell_type": "markdown",
   "metadata": {},
   "source": [
    "##### Train best model on whole training data"
   ]
  },
  {
   "cell_type": "code",
   "execution_count": 28,
   "metadata": {},
   "outputs": [],
   "source": [
    "gb_best = gb_random.best_estimator_\n",
    "gb_best.fit(X_train, y_train)"
   ]
  },
  {
   "cell_type": "markdown",
   "metadata": {},
   "source": [
    "##### Evaluate best model on test data"
   ]
  },
  {
   "cell_type": "code",
   "execution_count": 29,
   "metadata": {},
   "outputs": [],
   "source": [
    "y_pred_test = gb_best.predict(X_test)\n",
    "y_pred_train = gb_best.predict(X_train)"
   ]
  },
  {
   "cell_type": "code",
   "execution_count": 30,
   "metadata": {},
   "outputs": [
    {
     "name": "stdout",
     "output_type": "stream",
     "text": [
      "Label MAE of best gradient boosting classifier on train set: 0.11000188359389716\n",
      "Label MAE of best gradient boosting classifier on test set: 0.8852988691437803\n"
     ]
    }
   ],
   "source": [
    "print(f'Label MAE of best gradient boosting classifier on train set: {mean_absolute_error(y_pred_train, y_train)}')\n",
    "print(f'Label MAE of best gradient boosting classifier on test set: {mean_absolute_error(y_pred_test, y_test)}')"
   ]
  },
  {
   "cell_type": "code",
   "execution_count": 31,
   "metadata": {},
   "outputs": [
    {
     "name": "stdout",
     "output_type": "stream",
     "text": [
      "Accuracy of  best gradient boosting classifier on train set: 0.9248446035034846\n",
      "Accuracy of best gradient boosting classifier on test set: 0.3764135702746365\n"
     ]
    }
   ],
   "source": [
    "print(f'Accuracy of  best gradient boosting classifier on train set: {accuracy_score(y_pred_train, y_train)}')\n",
    "print(f'Accuracy of best gradient boosting classifier on test set: {accuracy_score(y_pred_test, y_test)}')"
   ]
  },
  {
   "cell_type": "code",
   "execution_count": 32,
   "metadata": {},
   "outputs": [
    {
     "name": "stdout",
     "output_type": "stream",
     "text": [
      "              precision    recall  f1-score   support\n",
      "\n",
      "           0       0.57      0.49      0.53       238\n",
      "           1       0.22      0.41      0.29       205\n",
      "           2       0.37      0.45      0.40       348\n",
      "           3       0.49      0.29      0.36       375\n",
      "           4       0.00      0.00      0.00        72\n",
      "\n",
      "    accuracy                           0.38      1238\n",
      "   macro avg       0.33      0.33      0.32      1238\n",
      "weighted avg       0.40      0.38      0.37      1238\n",
      "\n"
     ]
    },
    {
     "name": "stderr",
     "output_type": "stream",
     "text": [
      "/Users/jani/.conda/envs/animate_logos/lib/python3.8/site-packages/sklearn/metrics/_classification.py:1245: UndefinedMetricWarning: Precision and F-score are ill-defined and being set to 0.0 in labels with no predicted samples. Use `zero_division` parameter to control this behavior.\n",
      "  _warn_prf(average, modifier, msg_start, len(result))\n",
      "/Users/jani/.conda/envs/animate_logos/lib/python3.8/site-packages/sklearn/metrics/_classification.py:1245: UndefinedMetricWarning: Precision and F-score are ill-defined and being set to 0.0 in labels with no predicted samples. Use `zero_division` parameter to control this behavior.\n",
      "  _warn_prf(average, modifier, msg_start, len(result))\n",
      "/Users/jani/.conda/envs/animate_logos/lib/python3.8/site-packages/sklearn/metrics/_classification.py:1245: UndefinedMetricWarning: Precision and F-score are ill-defined and being set to 0.0 in labels with no predicted samples. Use `zero_division` parameter to control this behavior.\n",
      "  _warn_prf(average, modifier, msg_start, len(result))\n"
     ]
    }
   ],
   "source": [
    "print(classification_report(y_test, y_pred_test))"
   ]
  },
  {
   "cell_type": "code",
   "execution_count": 33,
   "metadata": {},
   "outputs": [
    {
     "name": "stdout",
     "output_type": "stream",
     "text": [
      "[[117  82  29  10   0]\n",
      " [ 36  85  60  24   0]\n",
      " [ 28 101 155  64   0]\n",
      " [ 23  93 150 109   0]\n",
      " [  2  24  30  16   0]]\n"
     ]
    }
   ],
   "source": [
    "print(confusion_matrix(y_test, y_pred_test))"
   ]
  },
  {
   "cell_type": "markdown",
   "metadata": {},
   "source": [
    "##### Save best model"
   ]
  },
  {
   "cell_type": "code",
   "execution_count": 34,
   "metadata": {},
   "outputs": [],
   "source": [
    "filename = 'models/sm_gradient_boosting.sav'\n",
    "pickle.dump(gb_best, open(filename, 'wb'))"
   ]
  },
  {
   "cell_type": "markdown",
   "metadata": {},
   "source": [
    "#### 5.3 Extra Trees Classifier"
   ]
  },
  {
   "cell_type": "markdown",
   "metadata": {},
   "source": [
    "##### Train Base Classifier"
   ]
  },
  {
   "cell_type": "code",
   "execution_count": 19,
   "metadata": {},
   "outputs": [],
   "source": [
    "et_base = ExtraTreesOC(n_estimators=1000)\n",
    "et_base.fit(X_train, y_train)"
   ]
  },
  {
   "cell_type": "code",
   "execution_count": 20,
   "metadata": {},
   "outputs": [],
   "source": [
    "y_pred_test = et_base.predict(X_test)\n",
    "y_pred_train = et_base.predict(X_train)"
   ]
  },
  {
   "cell_type": "code",
   "execution_count": 21,
   "metadata": {},
   "outputs": [
    {
     "name": "stdout",
     "output_type": "stream",
     "text": [
      "Label MAE of best random forest classifier on train set: 0.09477388368443578\n",
      "Label MAE of best random forest classifier on test set: 0.901453957996769\n"
     ]
    }
   ],
   "source": [
    "print(f'Label MAE of best random forest classifier on train set: {mean_absolute_error(y_pred_train, y_train)}')\n",
    "print(f'Label MAE of best random forest classifier on test set: {mean_absolute_error(y_pred_test, y_test)}')"
   ]
  },
  {
   "cell_type": "code",
   "execution_count": 22,
   "metadata": {},
   "outputs": [
    {
     "name": "stdout",
     "output_type": "stream",
     "text": [
      "Accuracy of  best random forest classifier on train set: 0.9426030719482619\n",
      "Accuracy of best random forest classifier on test set: 0.39095315024232635\n"
     ]
    }
   ],
   "source": [
    "print(f'Accuracy of  best random forest classifier on train set: {accuracy_score(y_pred_train, y_train)}')\n",
    "print(f'Accuracy of best random forest classifier on test set: {accuracy_score(y_pred_test, y_test)}')"
   ]
  },
  {
   "cell_type": "code",
   "execution_count": 23,
   "metadata": {},
   "outputs": [
    {
     "name": "stdout",
     "output_type": "stream",
     "text": [
      "[[181  27  26   3   1]\n",
      " [ 54  44  87  20   0]\n",
      " [ 51  58 188  51   0]\n",
      " [ 50  63 190  71   1]\n",
      " [  8  16  37  11   0]]\n"
     ]
    }
   ],
   "source": [
    "print(confusion_matrix(y_test, y_pred_test))"
   ]
  },
  {
   "cell_type": "markdown",
   "metadata": {},
   "source": [
    "##### Define Grid for Random Search"
   ]
  },
  {
   "cell_type": "code",
   "execution_count": 35,
   "metadata": {},
   "outputs": [
    {
     "name": "stdout",
     "output_type": "stream",
     "text": [
      "{'bootstrap': [True, False],\n",
      " 'max_depth': [10, 20, 30, 40, 50, 60, 70, 80, 90, 100, 110, None],\n",
      " 'max_features': ['auto', 'log2'],\n",
      " 'min_samples_leaf': [1, 2, 4],\n",
      " 'min_samples_split': [2, 5, 10],\n",
      " 'n_estimators': [20, 240, 460, 680, 900, 1120, 1340, 1560, 1780, 2000]}\n"
     ]
    }
   ],
   "source": [
    "# Number of trees in random forest\n",
    "n_estimators = [int(x) for x in np.linspace(start=20, stop=2000, num=10)]\n",
    "# Number of features to consider at every split\n",
    "max_features = ['auto', 'log2']\n",
    "# Maximum number of levels in tree\n",
    "max_depth = [int(x) for x in np.linspace(10, 110, num=11)]\n",
    "max_depth.append(None)\n",
    "# Minimum number of samples required to split a node\n",
    "min_samples_split = [2, 5, 10]\n",
    "# Minimum number of samples required at each leaf node\n",
    "min_samples_leaf = [1, 2, 4]\n",
    "# Method of selecting samples for training each tree\n",
    "bootstrap = [True, False]\n",
    "# Create the random grid\n",
    "random_grid = {'n_estimators': n_estimators,\n",
    "               'max_features': max_features,\n",
    "               'max_depth': max_depth,\n",
    "               'min_samples_split': min_samples_split,\n",
    "               'min_samples_leaf': min_samples_leaf,\n",
    "               'bootstrap': bootstrap}\n",
    "pprint(random_grid)"
   ]
  },
  {
   "cell_type": "markdown",
   "metadata": {},
   "source": [
    "##### Perform Random Search"
   ]
  },
  {
   "cell_type": "code",
   "execution_count": 36,
   "metadata": {},
   "outputs": [
    {
     "name": "stdout",
     "output_type": "stream",
     "text": [
      "Fitting 5 folds for each of 50 candidates, totalling 250 fits\n",
      "[CV] END bootstrap=True, max_depth=30, max_features=log2, min_samples_leaf=1, min_samples_split=5, n_estimators=240; total time=   3.0s\n",
      "[CV] END bootstrap=True, max_depth=30, max_features=log2, min_samples_leaf=1, min_samples_split=5, n_estimators=240; total time=   3.0s\n",
      "[CV] END bootstrap=True, max_depth=30, max_features=log2, min_samples_leaf=1, min_samples_split=5, n_estimators=240; total time=   3.0s\n",
      "[CV] END bootstrap=True, max_depth=30, max_features=log2, min_samples_leaf=1, min_samples_split=5, n_estimators=240; total time=   3.0s\n",
      "[CV] END bootstrap=True, max_depth=30, max_features=log2, min_samples_leaf=1, min_samples_split=5, n_estimators=240; total time=   3.0s\n",
      "[CV] END bootstrap=True, max_depth=10, max_features=log2, min_samples_leaf=1, min_samples_split=5, n_estimators=2000; total time=  18.6s\n",
      "[CV] END bootstrap=True, max_depth=10, max_features=log2, min_samples_leaf=1, min_samples_split=5, n_estimators=2000; total time=  18.5s\n",
      "[CV] END bootstrap=True, max_depth=10, max_features=log2, min_samples_leaf=1, min_samples_split=5, n_estimators=2000; total time=  18.6s\n",
      "[CV] END bootstrap=True, max_depth=10, max_features=log2, min_samples_leaf=1, min_samples_split=5, n_estimators=2000; total time=  18.6s\n",
      "[CV] END bootstrap=True, max_depth=10, max_features=log2, min_samples_leaf=1, min_samples_split=5, n_estimators=2000; total time=  18.5s\n",
      "[CV] END bootstrap=False, max_depth=10, max_features=log2, min_samples_leaf=2, min_samples_split=5, n_estimators=1120; total time=  10.5s\n",
      "[CV] END bootstrap=False, max_depth=10, max_features=log2, min_samples_leaf=2, min_samples_split=5, n_estimators=1120; total time=  10.6s\n",
      "[CV] END bootstrap=False, max_depth=10, max_features=log2, min_samples_leaf=2, min_samples_split=5, n_estimators=1120; total time=  10.6s\n",
      "[CV] END bootstrap=False, max_depth=10, max_features=log2, min_samples_leaf=2, min_samples_split=5, n_estimators=1120; total time=  10.6s\n",
      "[CV] END bootstrap=False, max_depth=10, max_features=log2, min_samples_leaf=2, min_samples_split=5, n_estimators=1120; total time=  10.5s\n",
      "[CV] END bootstrap=False, max_depth=30, max_features=auto, min_samples_leaf=4, min_samples_split=2, n_estimators=2000; total time=  26.9s\n",
      "[CV] END bootstrap=False, max_depth=30, max_features=auto, min_samples_leaf=4, min_samples_split=2, n_estimators=2000; total time=  26.4s\n",
      "[CV] END bootstrap=False, max_depth=30, max_features=auto, min_samples_leaf=4, min_samples_split=2, n_estimators=2000; total time=  26.7s\n",
      "[CV] END bootstrap=False, max_depth=30, max_features=auto, min_samples_leaf=4, min_samples_split=2, n_estimators=2000; total time=  26.6s\n",
      "[CV] END bootstrap=False, max_depth=30, max_features=auto, min_samples_leaf=4, min_samples_split=2, n_estimators=2000; total time=  26.5s\n",
      "[CV] END bootstrap=True, max_depth=10, max_features=log2, min_samples_leaf=4, min_samples_split=2, n_estimators=1560; total time=  14.3s\n",
      "[CV] END bootstrap=True, max_depth=10, max_features=log2, min_samples_leaf=4, min_samples_split=2, n_estimators=1560; total time=  14.0s\n",
      "[CV] END bootstrap=True, max_depth=10, max_features=log2, min_samples_leaf=4, min_samples_split=2, n_estimators=1560; total time=  14.0s\n",
      "[CV] END bootstrap=True, max_depth=10, max_features=log2, min_samples_leaf=4, min_samples_split=2, n_estimators=1560; total time=  14.0s\n",
      "[CV] END bootstrap=True, max_depth=10, max_features=log2, min_samples_leaf=4, min_samples_split=2, n_estimators=1560; total time=  14.0s\n",
      "[CV] END bootstrap=False, max_depth=30, max_features=log2, min_samples_leaf=4, min_samples_split=5, n_estimators=680; total time=   8.3s\n",
      "[CV] END bootstrap=False, max_depth=30, max_features=log2, min_samples_leaf=4, min_samples_split=5, n_estimators=680; total time=   8.2s\n",
      "[CV] END bootstrap=False, max_depth=30, max_features=log2, min_samples_leaf=4, min_samples_split=5, n_estimators=680; total time=   8.3s\n",
      "[CV] END bootstrap=False, max_depth=30, max_features=log2, min_samples_leaf=4, min_samples_split=5, n_estimators=680; total time=   8.4s\n",
      "[CV] END bootstrap=False, max_depth=30, max_features=log2, min_samples_leaf=4, min_samples_split=5, n_estimators=680; total time=   8.3s\n",
      "[CV] END bootstrap=False, max_depth=100, max_features=log2, min_samples_leaf=2, min_samples_split=5, n_estimators=900; total time=  12.5s\n",
      "[CV] END bootstrap=False, max_depth=100, max_features=log2, min_samples_leaf=2, min_samples_split=5, n_estimators=900; total time=  12.5s\n",
      "[CV] END bootstrap=False, max_depth=100, max_features=log2, min_samples_leaf=2, min_samples_split=5, n_estimators=900; total time=  12.5s\n",
      "[CV] END bootstrap=False, max_depth=100, max_features=log2, min_samples_leaf=2, min_samples_split=5, n_estimators=900; total time=  12.5s\n",
      "[CV] END bootstrap=False, max_depth=100, max_features=log2, min_samples_leaf=2, min_samples_split=5, n_estimators=900; total time=  12.5s\n",
      "[CV] END bootstrap=False, max_depth=60, max_features=log2, min_samples_leaf=1, min_samples_split=5, n_estimators=460; total time=   6.8s\n",
      "[CV] END bootstrap=False, max_depth=60, max_features=log2, min_samples_leaf=1, min_samples_split=5, n_estimators=460; total time=   6.8s\n",
      "[CV] END bootstrap=False, max_depth=60, max_features=log2, min_samples_leaf=1, min_samples_split=5, n_estimators=460; total time=   6.8s\n",
      "[CV] END bootstrap=False, max_depth=60, max_features=log2, min_samples_leaf=1, min_samples_split=5, n_estimators=460; total time=   6.8s\n",
      "[CV] END bootstrap=False, max_depth=60, max_features=log2, min_samples_leaf=1, min_samples_split=5, n_estimators=460; total time=   6.7s\n",
      "[CV] END bootstrap=False, max_depth=50, max_features=auto, min_samples_leaf=1, min_samples_split=2, n_estimators=900; total time=  16.0s\n",
      "[CV] END bootstrap=False, max_depth=50, max_features=auto, min_samples_leaf=1, min_samples_split=2, n_estimators=900; total time=  16.0s\n",
      "[CV] END bootstrap=False, max_depth=50, max_features=auto, min_samples_leaf=1, min_samples_split=2, n_estimators=900; total time=  16.2s\n",
      "[CV] END bootstrap=False, max_depth=50, max_features=auto, min_samples_leaf=1, min_samples_split=2, n_estimators=900; total time=  16.1s\n",
      "[CV] END bootstrap=False, max_depth=50, max_features=auto, min_samples_leaf=1, min_samples_split=2, n_estimators=900; total time=  16.0s\n",
      "[CV] END bootstrap=False, max_depth=10, max_features=auto, min_samples_leaf=4, min_samples_split=5, n_estimators=1780; total time=  17.8s\n",
      "[CV] END bootstrap=False, max_depth=10, max_features=auto, min_samples_leaf=4, min_samples_split=5, n_estimators=1780; total time=  17.6s\n",
      "[CV] END bootstrap=False, max_depth=10, max_features=auto, min_samples_leaf=4, min_samples_split=5, n_estimators=1780; total time=  17.7s\n",
      "[CV] END bootstrap=False, max_depth=10, max_features=auto, min_samples_leaf=4, min_samples_split=5, n_estimators=1780; total time=  17.7s\n",
      "[CV] END bootstrap=False, max_depth=10, max_features=auto, min_samples_leaf=4, min_samples_split=5, n_estimators=1780; total time=  17.6s\n",
      "[CV] END bootstrap=True, max_depth=70, max_features=auto, min_samples_leaf=4, min_samples_split=10, n_estimators=240; total time=   2.7s\n",
      "[CV] END bootstrap=True, max_depth=70, max_features=auto, min_samples_leaf=4, min_samples_split=10, n_estimators=240; total time=   2.7s\n",
      "[CV] END bootstrap=True, max_depth=70, max_features=auto, min_samples_leaf=4, min_samples_split=10, n_estimators=240; total time=   2.7s\n",
      "[CV] END bootstrap=True, max_depth=70, max_features=auto, min_samples_leaf=4, min_samples_split=10, n_estimators=240; total time=   2.7s\n",
      "[CV] END bootstrap=True, max_depth=70, max_features=auto, min_samples_leaf=4, min_samples_split=10, n_estimators=240; total time=   2.7s\n",
      "[CV] END bootstrap=False, max_depth=90, max_features=log2, min_samples_leaf=1, min_samples_split=5, n_estimators=680; total time=  10.0s\n",
      "[CV] END bootstrap=False, max_depth=90, max_features=log2, min_samples_leaf=1, min_samples_split=5, n_estimators=680; total time=   9.9s\n",
      "[CV] END bootstrap=False, max_depth=90, max_features=log2, min_samples_leaf=1, min_samples_split=5, n_estimators=680; total time=  10.0s\n",
      "[CV] END bootstrap=False, max_depth=90, max_features=log2, min_samples_leaf=1, min_samples_split=5, n_estimators=680; total time=  10.0s\n",
      "[CV] END bootstrap=False, max_depth=90, max_features=log2, min_samples_leaf=1, min_samples_split=5, n_estimators=680; total time=   9.9s\n",
      "[CV] END bootstrap=False, max_depth=10, max_features=log2, min_samples_leaf=1, min_samples_split=10, n_estimators=2000; total time=  18.4s\n",
      "[CV] END bootstrap=False, max_depth=10, max_features=log2, min_samples_leaf=1, min_samples_split=10, n_estimators=2000; total time=  18.4s\n",
      "[CV] END bootstrap=False, max_depth=10, max_features=log2, min_samples_leaf=1, min_samples_split=10, n_estimators=2000; total time=  18.5s\n",
      "[CV] END bootstrap=False, max_depth=10, max_features=log2, min_samples_leaf=1, min_samples_split=10, n_estimators=2000; total time=  18.3s\n",
      "[CV] END bootstrap=False, max_depth=10, max_features=log2, min_samples_leaf=1, min_samples_split=10, n_estimators=2000; total time=  18.3s\n",
      "[CV] END bootstrap=False, max_depth=10, max_features=log2, min_samples_leaf=2, min_samples_split=5, n_estimators=1560; total time=  14.6s\n",
      "[CV] END bootstrap=False, max_depth=10, max_features=log2, min_samples_leaf=2, min_samples_split=5, n_estimators=1560; total time=  14.6s\n",
      "[CV] END bootstrap=False, max_depth=10, max_features=log2, min_samples_leaf=2, min_samples_split=5, n_estimators=1560; total time=  14.6s\n",
      "[CV] END bootstrap=False, max_depth=10, max_features=log2, min_samples_leaf=2, min_samples_split=5, n_estimators=1560; total time=  14.7s\n",
      "[CV] END bootstrap=False, max_depth=10, max_features=log2, min_samples_leaf=2, min_samples_split=5, n_estimators=1560; total time=  14.6s\n",
      "[CV] END bootstrap=False, max_depth=30, max_features=log2, min_samples_leaf=2, min_samples_split=10, n_estimators=680; total time=   8.6s\n",
      "[CV] END bootstrap=False, max_depth=30, max_features=log2, min_samples_leaf=2, min_samples_split=10, n_estimators=680; total time=   8.5s\n",
      "[CV] END bootstrap=False, max_depth=30, max_features=log2, min_samples_leaf=2, min_samples_split=10, n_estimators=680; total time=   8.6s\n",
      "[CV] END bootstrap=False, max_depth=30, max_features=log2, min_samples_leaf=2, min_samples_split=10, n_estimators=680; total time=   8.6s\n",
      "[CV] END bootstrap=False, max_depth=30, max_features=log2, min_samples_leaf=2, min_samples_split=10, n_estimators=680; total time=   8.5s\n",
      "[CV] END bootstrap=False, max_depth=50, max_features=auto, min_samples_leaf=4, min_samples_split=2, n_estimators=1780; total time=  23.8s\n",
      "[CV] END bootstrap=False, max_depth=50, max_features=auto, min_samples_leaf=4, min_samples_split=2, n_estimators=1780; total time=  23.6s\n",
      "[CV] END bootstrap=False, max_depth=50, max_features=auto, min_samples_leaf=4, min_samples_split=2, n_estimators=1780; total time=  23.7s\n",
      "[CV] END bootstrap=False, max_depth=50, max_features=auto, min_samples_leaf=4, min_samples_split=2, n_estimators=1780; total time=  23.7s\n",
      "[CV] END bootstrap=False, max_depth=50, max_features=auto, min_samples_leaf=4, min_samples_split=2, n_estimators=1780; total time=  23.6s\n",
      "[CV] END bootstrap=False, max_depth=70, max_features=auto, min_samples_leaf=2, min_samples_split=5, n_estimators=460; total time=   7.0s\n",
      "[CV] END bootstrap=False, max_depth=70, max_features=auto, min_samples_leaf=2, min_samples_split=5, n_estimators=460; total time=   6.9s\n",
      "[CV] END bootstrap=False, max_depth=70, max_features=auto, min_samples_leaf=2, min_samples_split=5, n_estimators=460; total time=   7.0s\n",
      "[CV] END bootstrap=False, max_depth=70, max_features=auto, min_samples_leaf=2, min_samples_split=5, n_estimators=460; total time=   7.1s\n",
      "[CV] END bootstrap=False, max_depth=70, max_features=auto, min_samples_leaf=2, min_samples_split=5, n_estimators=460; total time=   7.0s\n",
      "[CV] END bootstrap=True, max_depth=20, max_features=log2, min_samples_leaf=1, min_samples_split=2, n_estimators=900; total time=  12.0s\n",
      "[CV] END bootstrap=True, max_depth=20, max_features=log2, min_samples_leaf=1, min_samples_split=2, n_estimators=900; total time=  12.0s\n",
      "[CV] END bootstrap=True, max_depth=20, max_features=log2, min_samples_leaf=1, min_samples_split=2, n_estimators=900; total time=  12.1s\n",
      "[CV] END bootstrap=True, max_depth=20, max_features=log2, min_samples_leaf=1, min_samples_split=2, n_estimators=900; total time=  12.1s\n",
      "[CV] END bootstrap=True, max_depth=20, max_features=log2, min_samples_leaf=1, min_samples_split=2, n_estimators=900; total time=  12.1s\n",
      "[CV] END bootstrap=False, max_depth=110, max_features=auto, min_samples_leaf=2, min_samples_split=10, n_estimators=1780; total time=  24.3s\n",
      "[CV] END bootstrap=False, max_depth=110, max_features=auto, min_samples_leaf=2, min_samples_split=10, n_estimators=1780; total time=  24.4s\n",
      "[CV] END bootstrap=False, max_depth=110, max_features=auto, min_samples_leaf=2, min_samples_split=10, n_estimators=1780; total time=  24.4s\n",
      "[CV] END bootstrap=False, max_depth=110, max_features=auto, min_samples_leaf=2, min_samples_split=10, n_estimators=1780; total time=  24.3s\n",
      "[CV] END bootstrap=False, max_depth=110, max_features=auto, min_samples_leaf=2, min_samples_split=10, n_estimators=1780; total time=  24.4s\n",
      "[CV] END bootstrap=True, max_depth=80, max_features=auto, min_samples_leaf=1, min_samples_split=5, n_estimators=460; total time=   6.0s\n",
      "[CV] END bootstrap=True, max_depth=80, max_features=auto, min_samples_leaf=1, min_samples_split=5, n_estimators=460; total time=   6.1s\n",
      "[CV] END bootstrap=True, max_depth=80, max_features=auto, min_samples_leaf=1, min_samples_split=5, n_estimators=460; total time=   6.0s\n",
      "[CV] END bootstrap=True, max_depth=80, max_features=auto, min_samples_leaf=1, min_samples_split=5, n_estimators=460; total time=   6.0s\n",
      "[CV] END bootstrap=True, max_depth=80, max_features=auto, min_samples_leaf=1, min_samples_split=5, n_estimators=460; total time=   6.0s\n",
      "[CV] END bootstrap=False, max_depth=30, max_features=log2, min_samples_leaf=1, min_samples_split=10, n_estimators=1780; total time=  23.2s\n",
      "[CV] END bootstrap=False, max_depth=30, max_features=log2, min_samples_leaf=1, min_samples_split=10, n_estimators=1780; total time=  23.2s\n",
      "[CV] END bootstrap=False, max_depth=30, max_features=log2, min_samples_leaf=1, min_samples_split=10, n_estimators=1780; total time=  23.2s\n",
      "[CV] END bootstrap=False, max_depth=30, max_features=log2, min_samples_leaf=1, min_samples_split=10, n_estimators=1780; total time=  23.2s\n",
      "[CV] END bootstrap=False, max_depth=30, max_features=log2, min_samples_leaf=1, min_samples_split=10, n_estimators=1780; total time=  23.0s\n",
      "[CV] END bootstrap=False, max_depth=70, max_features=log2, min_samples_leaf=1, min_samples_split=5, n_estimators=1560; total time=  23.1s\n",
      "[CV] END bootstrap=False, max_depth=70, max_features=log2, min_samples_leaf=1, min_samples_split=5, n_estimators=1560; total time=  22.7s\n",
      "[CV] END bootstrap=False, max_depth=70, max_features=log2, min_samples_leaf=1, min_samples_split=5, n_estimators=1560; total time=  22.9s\n",
      "[CV] END bootstrap=False, max_depth=70, max_features=log2, min_samples_leaf=1, min_samples_split=5, n_estimators=1560; total time=  22.9s\n",
      "[CV] END bootstrap=False, max_depth=70, max_features=log2, min_samples_leaf=1, min_samples_split=5, n_estimators=1560; total time=  22.8s\n",
      "[CV] END bootstrap=True, max_depth=80, max_features=log2, min_samples_leaf=4, min_samples_split=5, n_estimators=1340; total time=  14.2s\n",
      "[CV] END bootstrap=True, max_depth=80, max_features=log2, min_samples_leaf=4, min_samples_split=5, n_estimators=1340; total time=  14.4s\n",
      "[CV] END bootstrap=True, max_depth=80, max_features=log2, min_samples_leaf=4, min_samples_split=5, n_estimators=1340; total time=  14.3s\n",
      "[CV] END bootstrap=True, max_depth=80, max_features=log2, min_samples_leaf=4, min_samples_split=5, n_estimators=1340; total time=  14.3s\n",
      "[CV] END bootstrap=True, max_depth=80, max_features=log2, min_samples_leaf=4, min_samples_split=5, n_estimators=1340; total time=  14.2s\n",
      "[CV] END bootstrap=True, max_depth=None, max_features=auto, min_samples_leaf=2, min_samples_split=2, n_estimators=1780; total time=  23.1s\n",
      "[CV] END bootstrap=True, max_depth=None, max_features=auto, min_samples_leaf=2, min_samples_split=2, n_estimators=1780; total time=  22.8s\n",
      "[CV] END bootstrap=True, max_depth=None, max_features=auto, min_samples_leaf=2, min_samples_split=2, n_estimators=1780; total time=  23.2s\n",
      "[CV] END bootstrap=True, max_depth=None, max_features=auto, min_samples_leaf=2, min_samples_split=2, n_estimators=1780; total time=  23.2s\n",
      "[CV] END bootstrap=True, max_depth=None, max_features=auto, min_samples_leaf=2, min_samples_split=2, n_estimators=1780; total time=  23.4s\n",
      "[CV] END bootstrap=False, max_depth=80, max_features=log2, min_samples_leaf=1, min_samples_split=5, n_estimators=1340; total time=  19.6s\n",
      "[CV] END bootstrap=False, max_depth=80, max_features=log2, min_samples_leaf=1, min_samples_split=5, n_estimators=1340; total time=  19.5s\n",
      "[CV] END bootstrap=False, max_depth=80, max_features=log2, min_samples_leaf=1, min_samples_split=5, n_estimators=1340; total time=  19.7s\n",
      "[CV] END bootstrap=False, max_depth=80, max_features=log2, min_samples_leaf=1, min_samples_split=5, n_estimators=1340; total time=  20.4s\n",
      "[CV] END bootstrap=False, max_depth=80, max_features=log2, min_samples_leaf=1, min_samples_split=5, n_estimators=1340; total time=  19.5s\n",
      "[CV] END bootstrap=False, max_depth=None, max_features=log2, min_samples_leaf=1, min_samples_split=2, n_estimators=240; total time=   4.0s\n",
      "[CV] END bootstrap=False, max_depth=None, max_features=log2, min_samples_leaf=1, min_samples_split=2, n_estimators=240; total time=   4.0s\n",
      "[CV] END bootstrap=False, max_depth=None, max_features=log2, min_samples_leaf=1, min_samples_split=2, n_estimators=240; total time=   4.0s\n",
      "[CV] END bootstrap=False, max_depth=None, max_features=log2, min_samples_leaf=1, min_samples_split=2, n_estimators=240; total time=   4.1s\n",
      "[CV] END bootstrap=False, max_depth=None, max_features=log2, min_samples_leaf=1, min_samples_split=2, n_estimators=240; total time=   4.0s\n",
      "[CV] END bootstrap=False, max_depth=40, max_features=auto, min_samples_leaf=1, min_samples_split=2, n_estimators=1340; total time=  24.0s\n",
      "[CV] END bootstrap=False, max_depth=40, max_features=auto, min_samples_leaf=1, min_samples_split=2, n_estimators=1340; total time=  23.8s\n",
      "[CV] END bootstrap=False, max_depth=40, max_features=auto, min_samples_leaf=1, min_samples_split=2, n_estimators=1340; total time=  24.0s\n",
      "[CV] END bootstrap=False, max_depth=40, max_features=auto, min_samples_leaf=1, min_samples_split=2, n_estimators=1340; total time=  24.0s\n",
      "[CV] END bootstrap=False, max_depth=40, max_features=auto, min_samples_leaf=1, min_samples_split=2, n_estimators=1340; total time=  23.8s\n",
      "[CV] END bootstrap=True, max_depth=20, max_features=log2, min_samples_leaf=2, min_samples_split=5, n_estimators=900; total time=  10.7s\n",
      "[CV] END bootstrap=True, max_depth=20, max_features=log2, min_samples_leaf=2, min_samples_split=5, n_estimators=900; total time=  10.6s\n",
      "[CV] END bootstrap=True, max_depth=20, max_features=log2, min_samples_leaf=2, min_samples_split=5, n_estimators=900; total time=  10.7s\n",
      "[CV] END bootstrap=True, max_depth=20, max_features=log2, min_samples_leaf=2, min_samples_split=5, n_estimators=900; total time=  10.7s\n",
      "[CV] END bootstrap=True, max_depth=20, max_features=log2, min_samples_leaf=2, min_samples_split=5, n_estimators=900; total time=  10.7s\n",
      "[CV] END bootstrap=False, max_depth=100, max_features=auto, min_samples_leaf=4, min_samples_split=10, n_estimators=2000; total time=  26.0s\n",
      "[CV] END bootstrap=False, max_depth=100, max_features=auto, min_samples_leaf=4, min_samples_split=10, n_estimators=2000; total time=  25.8s\n",
      "[CV] END bootstrap=False, max_depth=100, max_features=auto, min_samples_leaf=4, min_samples_split=10, n_estimators=2000; total time=  26.0s\n",
      "[CV] END bootstrap=False, max_depth=100, max_features=auto, min_samples_leaf=4, min_samples_split=10, n_estimators=2000; total time=  25.9s\n",
      "[CV] END bootstrap=False, max_depth=100, max_features=auto, min_samples_leaf=4, min_samples_split=10, n_estimators=2000; total time=  25.9s\n",
      "[CV] END bootstrap=True, max_depth=20, max_features=log2, min_samples_leaf=2, min_samples_split=2, n_estimators=1120; total time=  13.4s\n",
      "[CV] END bootstrap=True, max_depth=20, max_features=log2, min_samples_leaf=2, min_samples_split=2, n_estimators=1120; total time=  13.4s\n",
      "[CV] END bootstrap=True, max_depth=20, max_features=log2, min_samples_leaf=2, min_samples_split=2, n_estimators=1120; total time=  14.4s\n",
      "[CV] END bootstrap=True, max_depth=20, max_features=log2, min_samples_leaf=2, min_samples_split=2, n_estimators=1120; total time=  13.8s\n",
      "[CV] END bootstrap=True, max_depth=20, max_features=log2, min_samples_leaf=2, min_samples_split=2, n_estimators=1120; total time=  13.5s\n",
      "[CV] END bootstrap=False, max_depth=20, max_features=log2, min_samples_leaf=4, min_samples_split=10, n_estimators=1120; total time=  13.2s\n",
      "[CV] END bootstrap=False, max_depth=20, max_features=log2, min_samples_leaf=4, min_samples_split=10, n_estimators=1120; total time=  13.2s\n",
      "[CV] END bootstrap=False, max_depth=20, max_features=log2, min_samples_leaf=4, min_samples_split=10, n_estimators=1120; total time=  13.4s\n",
      "[CV] END bootstrap=False, max_depth=20, max_features=log2, min_samples_leaf=4, min_samples_split=10, n_estimators=1120; total time=  13.2s\n",
      "[CV] END bootstrap=False, max_depth=20, max_features=log2, min_samples_leaf=4, min_samples_split=10, n_estimators=1120; total time=  13.3s\n",
      "[CV] END bootstrap=False, max_depth=50, max_features=log2, min_samples_leaf=2, min_samples_split=2, n_estimators=680; total time=   9.7s\n",
      "[CV] END bootstrap=False, max_depth=50, max_features=log2, min_samples_leaf=2, min_samples_split=2, n_estimators=680; total time=   9.6s\n",
      "[CV] END bootstrap=False, max_depth=50, max_features=log2, min_samples_leaf=2, min_samples_split=2, n_estimators=680; total time=   9.7s\n",
      "[CV] END bootstrap=False, max_depth=50, max_features=log2, min_samples_leaf=2, min_samples_split=2, n_estimators=680; total time=   9.7s\n",
      "[CV] END bootstrap=False, max_depth=50, max_features=log2, min_samples_leaf=2, min_samples_split=2, n_estimators=680; total time=   9.6s\n",
      "[CV] END bootstrap=False, max_depth=100, max_features=log2, min_samples_leaf=1, min_samples_split=5, n_estimators=680; total time=   9.9s\n",
      "[CV] END bootstrap=False, max_depth=100, max_features=log2, min_samples_leaf=1, min_samples_split=5, n_estimators=680; total time=  10.0s\n",
      "[CV] END bootstrap=False, max_depth=100, max_features=log2, min_samples_leaf=1, min_samples_split=5, n_estimators=680; total time=   9.9s\n",
      "[CV] END bootstrap=False, max_depth=100, max_features=log2, min_samples_leaf=1, min_samples_split=5, n_estimators=680; total time=  10.0s\n",
      "[CV] END bootstrap=False, max_depth=100, max_features=log2, min_samples_leaf=1, min_samples_split=5, n_estimators=680; total time=   9.9s\n",
      "[CV] END bootstrap=True, max_depth=50, max_features=log2, min_samples_leaf=4, min_samples_split=10, n_estimators=680; total time=   7.1s\n",
      "[CV] END bootstrap=True, max_depth=50, max_features=log2, min_samples_leaf=4, min_samples_split=10, n_estimators=680; total time=   7.1s\n",
      "[CV] END bootstrap=True, max_depth=50, max_features=log2, min_samples_leaf=4, min_samples_split=10, n_estimators=680; total time=   7.2s\n",
      "[CV] END bootstrap=True, max_depth=50, max_features=log2, min_samples_leaf=4, min_samples_split=10, n_estimators=680; total time=   7.1s\n",
      "[CV] END bootstrap=True, max_depth=50, max_features=log2, min_samples_leaf=4, min_samples_split=10, n_estimators=680; total time=   7.1s\n",
      "[CV] END bootstrap=True, max_depth=90, max_features=log2, min_samples_leaf=4, min_samples_split=2, n_estimators=1780; total time=  18.9s\n",
      "[CV] END bootstrap=True, max_depth=90, max_features=log2, min_samples_leaf=4, min_samples_split=2, n_estimators=1780; total time=  18.8s\n",
      "[CV] END bootstrap=True, max_depth=90, max_features=log2, min_samples_leaf=4, min_samples_split=2, n_estimators=1780; total time=  19.0s\n",
      "[CV] END bootstrap=True, max_depth=90, max_features=log2, min_samples_leaf=4, min_samples_split=2, n_estimators=1780; total time=  19.0s\n",
      "[CV] END bootstrap=True, max_depth=90, max_features=log2, min_samples_leaf=4, min_samples_split=2, n_estimators=1780; total time=  18.9s\n",
      "[CV] END bootstrap=False, max_depth=20, max_features=log2, min_samples_leaf=2, min_samples_split=10, n_estimators=680; total time=   8.4s\n",
      "[CV] END bootstrap=False, max_depth=20, max_features=log2, min_samples_leaf=2, min_samples_split=10, n_estimators=680; total time=   8.5s\n",
      "[CV] END bootstrap=False, max_depth=20, max_features=log2, min_samples_leaf=2, min_samples_split=10, n_estimators=680; total time=   8.5s\n",
      "[CV] END bootstrap=False, max_depth=20, max_features=log2, min_samples_leaf=2, min_samples_split=10, n_estimators=680; total time=   8.5s\n",
      "[CV] END bootstrap=False, max_depth=20, max_features=log2, min_samples_leaf=2, min_samples_split=10, n_estimators=680; total time=   8.4s\n",
      "[CV] END bootstrap=True, max_depth=20, max_features=log2, min_samples_leaf=2, min_samples_split=5, n_estimators=1120; total time=  13.2s\n",
      "[CV] END bootstrap=True, max_depth=20, max_features=log2, min_samples_leaf=2, min_samples_split=5, n_estimators=1120; total time=  13.2s\n",
      "[CV] END bootstrap=True, max_depth=20, max_features=log2, min_samples_leaf=2, min_samples_split=5, n_estimators=1120; total time=  13.3s\n",
      "[CV] END bootstrap=True, max_depth=20, max_features=log2, min_samples_leaf=2, min_samples_split=5, n_estimators=1120; total time=  13.2s\n",
      "[CV] END bootstrap=True, max_depth=20, max_features=log2, min_samples_leaf=2, min_samples_split=5, n_estimators=1120; total time=  13.2s\n",
      "[CV] END bootstrap=True, max_depth=100, max_features=auto, min_samples_leaf=1, min_samples_split=2, n_estimators=680; total time=   9.8s\n",
      "[CV] END bootstrap=True, max_depth=100, max_features=auto, min_samples_leaf=1, min_samples_split=2, n_estimators=680; total time=   9.9s\n",
      "[CV] END bootstrap=True, max_depth=100, max_features=auto, min_samples_leaf=1, min_samples_split=2, n_estimators=680; total time=  10.0s\n",
      "[CV] END bootstrap=True, max_depth=100, max_features=auto, min_samples_leaf=1, min_samples_split=2, n_estimators=680; total time=   9.9s\n",
      "[CV] END bootstrap=True, max_depth=100, max_features=auto, min_samples_leaf=1, min_samples_split=2, n_estimators=680; total time=   9.8s\n",
      "[CV] END bootstrap=True, max_depth=None, max_features=auto, min_samples_leaf=2, min_samples_split=5, n_estimators=680; total time=   8.6s\n",
      "[CV] END bootstrap=True, max_depth=None, max_features=auto, min_samples_leaf=2, min_samples_split=5, n_estimators=680; total time=   8.6s\n",
      "[CV] END bootstrap=True, max_depth=None, max_features=auto, min_samples_leaf=2, min_samples_split=5, n_estimators=680; total time=   8.7s\n",
      "[CV] END bootstrap=True, max_depth=None, max_features=auto, min_samples_leaf=2, min_samples_split=5, n_estimators=680; total time=   8.6s\n",
      "[CV] END bootstrap=True, max_depth=None, max_features=auto, min_samples_leaf=2, min_samples_split=5, n_estimators=680; total time=   8.6s\n",
      "[CV] END bootstrap=True, max_depth=60, max_features=log2, min_samples_leaf=2, min_samples_split=2, n_estimators=900; total time=  10.8s\n",
      "[CV] END bootstrap=True, max_depth=60, max_features=log2, min_samples_leaf=2, min_samples_split=2, n_estimators=900; total time=  10.9s\n",
      "[CV] END bootstrap=True, max_depth=60, max_features=log2, min_samples_leaf=2, min_samples_split=2, n_estimators=900; total time=  10.9s\n",
      "[CV] END bootstrap=True, max_depth=60, max_features=log2, min_samples_leaf=2, min_samples_split=2, n_estimators=900; total time=  11.0s\n",
      "[CV] END bootstrap=True, max_depth=60, max_features=log2, min_samples_leaf=2, min_samples_split=2, n_estimators=900; total time=  10.9s\n",
      "[CV] END bootstrap=True, max_depth=10, max_features=auto, min_samples_leaf=4, min_samples_split=5, n_estimators=20; total time=   0.2s\n",
      "[CV] END bootstrap=True, max_depth=10, max_features=auto, min_samples_leaf=4, min_samples_split=5, n_estimators=20; total time=   0.2s\n",
      "[CV] END bootstrap=True, max_depth=10, max_features=auto, min_samples_leaf=4, min_samples_split=5, n_estimators=20; total time=   0.2s\n",
      "[CV] END bootstrap=True, max_depth=10, max_features=auto, min_samples_leaf=4, min_samples_split=5, n_estimators=20; total time=   0.2s\n",
      "[CV] END bootstrap=True, max_depth=10, max_features=auto, min_samples_leaf=4, min_samples_split=5, n_estimators=20; total time=   0.2s\n",
      "[CV] END bootstrap=True, max_depth=60, max_features=log2, min_samples_leaf=2, min_samples_split=10, n_estimators=460; total time=   5.1s\n",
      "[CV] END bootstrap=True, max_depth=60, max_features=log2, min_samples_leaf=2, min_samples_split=10, n_estimators=460; total time=   5.0s\n",
      "[CV] END bootstrap=True, max_depth=60, max_features=log2, min_samples_leaf=2, min_samples_split=10, n_estimators=460; total time=   5.1s\n",
      "[CV] END bootstrap=True, max_depth=60, max_features=log2, min_samples_leaf=2, min_samples_split=10, n_estimators=460; total time=   5.4s\n",
      "[CV] END bootstrap=True, max_depth=60, max_features=log2, min_samples_leaf=2, min_samples_split=10, n_estimators=460; total time=   5.2s\n",
      "[CV] END bootstrap=True, max_depth=90, max_features=log2, min_samples_leaf=4, min_samples_split=2, n_estimators=680; total time=   7.4s\n",
      "[CV] END bootstrap=True, max_depth=90, max_features=log2, min_samples_leaf=4, min_samples_split=2, n_estimators=680; total time=   7.2s\n",
      "[CV] END bootstrap=True, max_depth=90, max_features=log2, min_samples_leaf=4, min_samples_split=2, n_estimators=680; total time=   7.3s\n",
      "[CV] END bootstrap=True, max_depth=90, max_features=log2, min_samples_leaf=4, min_samples_split=2, n_estimators=680; total time=   7.3s\n",
      "[CV] END bootstrap=True, max_depth=90, max_features=log2, min_samples_leaf=4, min_samples_split=2, n_estimators=680; total time=   7.2s\n",
      "[CV] END bootstrap=True, max_depth=90, max_features=log2, min_samples_leaf=4, min_samples_split=10, n_estimators=240; total time=   2.6s\n",
      "[CV] END bootstrap=True, max_depth=90, max_features=log2, min_samples_leaf=4, min_samples_split=10, n_estimators=240; total time=   2.5s\n",
      "[CV] END bootstrap=True, max_depth=90, max_features=log2, min_samples_leaf=4, min_samples_split=10, n_estimators=240; total time=   2.5s\n",
      "[CV] END bootstrap=True, max_depth=90, max_features=log2, min_samples_leaf=4, min_samples_split=10, n_estimators=240; total time=   2.6s\n",
      "[CV] END bootstrap=True, max_depth=90, max_features=log2, min_samples_leaf=4, min_samples_split=10, n_estimators=240; total time=   2.5s\n",
      "[CV] END bootstrap=False, max_depth=90, max_features=auto, min_samples_leaf=2, min_samples_split=5, n_estimators=20; total time=   0.3s\n",
      "[CV] END bootstrap=False, max_depth=90, max_features=auto, min_samples_leaf=2, min_samples_split=5, n_estimators=20; total time=   0.3s\n",
      "[CV] END bootstrap=False, max_depth=90, max_features=auto, min_samples_leaf=2, min_samples_split=5, n_estimators=20; total time=   0.3s\n",
      "[CV] END bootstrap=False, max_depth=90, max_features=auto, min_samples_leaf=2, min_samples_split=5, n_estimators=20; total time=   0.3s\n",
      "[CV] END bootstrap=False, max_depth=90, max_features=auto, min_samples_leaf=2, min_samples_split=5, n_estimators=20; total time=   0.3s\n",
      "[CV] END bootstrap=True, max_depth=110, max_features=log2, min_samples_leaf=1, min_samples_split=2, n_estimators=900; total time=  12.3s\n",
      "[CV] END bootstrap=True, max_depth=110, max_features=log2, min_samples_leaf=1, min_samples_split=2, n_estimators=900; total time=  12.3s\n",
      "[CV] END bootstrap=True, max_depth=110, max_features=log2, min_samples_leaf=1, min_samples_split=2, n_estimators=900; total time=  12.4s\n",
      "[CV] END bootstrap=True, max_depth=110, max_features=log2, min_samples_leaf=1, min_samples_split=2, n_estimators=900; total time=  12.4s\n",
      "[CV] END bootstrap=True, max_depth=110, max_features=log2, min_samples_leaf=1, min_samples_split=2, n_estimators=900; total time=  12.3s\n",
      "[CV] END bootstrap=True, max_depth=90, max_features=auto, min_samples_leaf=2, min_samples_split=2, n_estimators=2000; total time=  25.9s\n",
      "[CV] END bootstrap=True, max_depth=90, max_features=auto, min_samples_leaf=2, min_samples_split=2, n_estimators=2000; total time=  25.7s\n",
      "[CV] END bootstrap=True, max_depth=90, max_features=auto, min_samples_leaf=2, min_samples_split=2, n_estimators=2000; total time=  25.8s\n",
      "[CV] END bootstrap=True, max_depth=90, max_features=auto, min_samples_leaf=2, min_samples_split=2, n_estimators=2000; total time=  26.0s\n",
      "[CV] END bootstrap=True, max_depth=90, max_features=auto, min_samples_leaf=2, min_samples_split=2, n_estimators=2000; total time=  25.7s\n",
      "[CV] END bootstrap=False, max_depth=80, max_features=log2, min_samples_leaf=4, min_samples_split=10, n_estimators=240; total time=   2.9s\n",
      "[CV] END bootstrap=False, max_depth=80, max_features=log2, min_samples_leaf=4, min_samples_split=10, n_estimators=240; total time=   2.9s\n",
      "[CV] END bootstrap=False, max_depth=80, max_features=log2, min_samples_leaf=4, min_samples_split=10, n_estimators=240; total time=   2.9s\n",
      "[CV] END bootstrap=False, max_depth=80, max_features=log2, min_samples_leaf=4, min_samples_split=10, n_estimators=240; total time=   2.9s\n",
      "[CV] END bootstrap=False, max_depth=80, max_features=log2, min_samples_leaf=4, min_samples_split=10, n_estimators=240; total time=   2.9s\n",
      "[CV] END bootstrap=False, max_depth=70, max_features=log2, min_samples_leaf=4, min_samples_split=2, n_estimators=1120; total time=  13.6s\n",
      "[CV] END bootstrap=False, max_depth=70, max_features=log2, min_samples_leaf=4, min_samples_split=2, n_estimators=1120; total time=  13.5s\n",
      "[CV] END bootstrap=False, max_depth=70, max_features=log2, min_samples_leaf=4, min_samples_split=2, n_estimators=1120; total time=  13.7s\n",
      "[CV] END bootstrap=False, max_depth=70, max_features=log2, min_samples_leaf=4, min_samples_split=2, n_estimators=1120; total time=  13.6s\n",
      "[CV] END bootstrap=False, max_depth=70, max_features=log2, min_samples_leaf=4, min_samples_split=2, n_estimators=1120; total time=  13.6s\n",
      "[CV] END bootstrap=False, max_depth=110, max_features=log2, min_samples_leaf=2, min_samples_split=2, n_estimators=460; total time=   6.6s\n",
      "[CV] END bootstrap=False, max_depth=110, max_features=log2, min_samples_leaf=2, min_samples_split=2, n_estimators=460; total time=   6.5s\n",
      "[CV] END bootstrap=False, max_depth=110, max_features=log2, min_samples_leaf=2, min_samples_split=2, n_estimators=460; total time=   6.7s\n",
      "[CV] END bootstrap=False, max_depth=110, max_features=log2, min_samples_leaf=2, min_samples_split=2, n_estimators=460; total time=   6.6s\n",
      "[CV] END bootstrap=False, max_depth=110, max_features=log2, min_samples_leaf=2, min_samples_split=2, n_estimators=460; total time=   6.5s\n"
     ]
    },
    {
     "data": {
      "text/plain": [
       "RandomizedSearchCV(cv=StratifiedKFold(n_splits=5, random_state=None, shuffle=False),\n",
       "                   estimator=<src.models.ordinal_classifier_scikit.ExtraTreesOC object at 0x7f8a9fe01100>,\n",
       "                   n_iter=50,\n",
       "                   param_distributions={'bootstrap': [True, False],\n",
       "                                        'max_depth': [10, 20, 30, 40, 50, 60,\n",
       "                                                      70, 80, 90, 100, 110,\n",
       "                                                      None],\n",
       "                                        'max_features': ['auto', 'log2'],\n",
       "                                        'min_samples_leaf': [1, 2, 4],\n",
       "                                        'min_samples_split': [2, 5, 10],\n",
       "                                        'n_estimators': [20, 240, 460, 680, 900,\n",
       "                                                         1120, 1340, 1560, 1780,\n",
       "                                                         2000]},\n",
       "                   random_state=42, scoring='neg_mean_absolute_error',\n",
       "                   verbose=2)"
      ]
     },
     "execution_count": 36,
     "metadata": {},
     "output_type": "execute_result"
    }
   ],
   "source": [
    "# Use the random grid to search for best hyperparameters\n",
    "# Define stratified cross validation\n",
    "cross_val = StratifiedKFold(n_splits=5)\n",
    "# First create the base model to tune\n",
    "et = ExtraTreesOC()\n",
    "# Random search of parameters, using 3 fold cross validation, search across 100 different combinations\n",
    "et_random = RandomizedSearchCV(estimator = et, param_distributions = random_grid, n_iter = 50, cv = cross_val, verbose=2, random_state=42, scoring = 'neg_mean_absolute_error')\n",
    "# Fit the random search model\n",
    "et_random.fit(X_train, y_train)"
   ]
  },
  {
   "cell_type": "markdown",
   "metadata": {},
   "source": [
    "##### Get best parameters and best evaluation score"
   ]
  },
  {
   "cell_type": "code",
   "execution_count": 37,
   "metadata": {},
   "outputs": [
    {
     "data": {
      "text/plain": [
       "{'n_estimators': 1120,\n",
       " 'min_samples_split': 5,\n",
       " 'min_samples_leaf': 2,\n",
       " 'max_features': 'log2',\n",
       " 'max_depth': 10,\n",
       " 'bootstrap': False}"
      ]
     },
     "execution_count": 37,
     "metadata": {},
     "output_type": "execute_result"
    }
   ],
   "source": [
    "et_random.best_params_"
   ]
  },
  {
   "cell_type": "code",
   "execution_count": 38,
   "metadata": {},
   "outputs": [
    {
     "data": {
      "text/plain": [
       "-0.8607996932858353"
      ]
     },
     "execution_count": 38,
     "metadata": {},
     "output_type": "execute_result"
    }
   ],
   "source": [
    "et_random.best_score_"
   ]
  },
  {
   "cell_type": "markdown",
   "metadata": {},
   "source": [
    "##### Train best model on whole training data"
   ]
  },
  {
   "cell_type": "code",
   "execution_count": 39,
   "metadata": {},
   "outputs": [],
   "source": [
    "et_best = et_random.best_estimator_\n",
    "et_best.fit(X_train, y_train)"
   ]
  },
  {
   "cell_type": "markdown",
   "metadata": {},
   "source": [
    "##### Evaluate best model on test data"
   ]
  },
  {
   "cell_type": "code",
   "execution_count": 40,
   "metadata": {},
   "outputs": [],
   "source": [
    "y_pred_test = et_best.predict(X_test)\n",
    "y_pred_train = et_best.predict(X_train)"
   ]
  },
  {
   "cell_type": "code",
   "execution_count": 41,
   "metadata": {},
   "outputs": [
    {
     "name": "stdout",
     "output_type": "stream",
     "text": [
      "Label MAE of best extra trees classifier on train set: 0.5763797325296666\n",
      "Label MAE of best extra trees classifier on test set: 0.8416801292407108\n"
     ]
    }
   ],
   "source": [
    "print(f'Label MAE of best extra trees classifier on train set: {mean_absolute_error(y_pred_train, y_train)}')\n",
    "print(f'Label MAE of best extra trees classifier on test set: {mean_absolute_error(y_pred_test, y_test)}')"
   ]
  },
  {
   "cell_type": "code",
   "execution_count": 42,
   "metadata": {},
   "outputs": [
    {
     "name": "stdout",
     "output_type": "stream",
     "text": [
      "Accuracy of  best extra trees classifier on train set: 0.6123563759653419\n",
      "Accuracy of best extra trees classifier on test set: 0.401453957996769\n"
     ]
    }
   ],
   "source": [
    "print(f'Accuracy of  best extra trees classifier on train set: {accuracy_score(y_pred_train, y_train)}')\n",
    "print(f'Accuracy of best extra trees classifier on test set: {accuracy_score(y_pred_test, y_test)}')"
   ]
  },
  {
   "cell_type": "code",
   "execution_count": 43,
   "metadata": {},
   "outputs": [
    {
     "name": "stdout",
     "output_type": "stream",
     "text": [
      "              precision    recall  f1-score   support\n",
      "\n",
      "           0       0.53      0.77      0.63       238\n",
      "           1       0.12      0.02      0.03       205\n",
      "           2       0.34      0.76      0.47       348\n",
      "           3       0.50      0.12      0.20       375\n",
      "           4       0.00      0.00      0.00        72\n",
      "\n",
      "    accuracy                           0.40      1238\n",
      "   macro avg       0.30      0.33      0.27      1238\n",
      "weighted avg       0.37      0.40      0.32      1238\n",
      "\n"
     ]
    },
    {
     "name": "stderr",
     "output_type": "stream",
     "text": [
      "/Users/jani/.conda/envs/animate_logos/lib/python3.8/site-packages/sklearn/metrics/_classification.py:1245: UndefinedMetricWarning: Precision and F-score are ill-defined and being set to 0.0 in labels with no predicted samples. Use `zero_division` parameter to control this behavior.\n",
      "  _warn_prf(average, modifier, msg_start, len(result))\n",
      "/Users/jani/.conda/envs/animate_logos/lib/python3.8/site-packages/sklearn/metrics/_classification.py:1245: UndefinedMetricWarning: Precision and F-score are ill-defined and being set to 0.0 in labels with no predicted samples. Use `zero_division` parameter to control this behavior.\n",
      "  _warn_prf(average, modifier, msg_start, len(result))\n",
      "/Users/jani/.conda/envs/animate_logos/lib/python3.8/site-packages/sklearn/metrics/_classification.py:1245: UndefinedMetricWarning: Precision and F-score are ill-defined and being set to 0.0 in labels with no predicted samples. Use `zero_division` parameter to control this behavior.\n",
      "  _warn_prf(average, modifier, msg_start, len(result))\n"
     ]
    }
   ],
   "source": [
    "print(classification_report(y_test, y_pred_test))"
   ]
  },
  {
   "cell_type": "code",
   "execution_count": 44,
   "metadata": {},
   "outputs": [
    {
     "name": "stdout",
     "output_type": "stream",
     "text": [
      "[[183   7  45   3   0]\n",
      " [ 56   4 134  11   0]\n",
      " [ 47  11 264  26   0]\n",
      " [ 52   6 271  46   0]\n",
      " [  6   4  56   6   0]]\n"
     ]
    }
   ],
   "source": [
    "print(confusion_matrix(y_test, y_pred_test))"
   ]
  },
  {
   "cell_type": "markdown",
   "metadata": {},
   "source": [
    "##### Save best model"
   ]
  },
  {
   "cell_type": "code",
   "execution_count": 45,
   "metadata": {},
   "outputs": [],
   "source": [
    "filename = 'models/sm_extra_trees.sav'\n",
    "pickle.dump(et_best, open(filename, 'wb'))"
   ]
  }
 ],
 "metadata": {
  "kernelspec": {
   "display_name": "animate_logos",
   "language": "python",
   "name": "animate_logos"
  },
  "language_info": {
   "codemirror_mode": {
    "name": "ipython",
    "version": 3
   },
   "file_extension": ".py",
   "mimetype": "text/x-python",
   "name": "python",
   "nbconvert_exporter": "python",
   "pygments_lexer": "ipython3",
   "version": "3.8.8"
  }
 },
 "nbformat": 4,
 "nbformat_minor": 4
}
