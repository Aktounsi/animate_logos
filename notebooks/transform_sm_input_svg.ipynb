{
 "cells": [
  {
   "cell_type": "code",
   "execution_count": 1,
   "metadata": {},
   "outputs": [],
   "source": [
    "import os\n",
    "os.chdir(\"..\")\n",
    "from src.preprocessing.transform_into_model_data_ff import *\n",
    "import pickle\n",
    "import pandas as pd"
   ]
  },
  {
   "cell_type": "markdown",
   "metadata": {},
   "source": [
    "### Load training and test data"
   ]
  },
  {
   "cell_type": "code",
   "execution_count": 2,
   "metadata": {},
   "outputs": [],
   "source": [
    "with open('data/animation_label/surrogate_model_train.pkl', 'rb') as f:\n",
    "    sm_train = pickle.load(f)\n",
    "    \n",
    "with open('data/animation_label/surrogate_model_test.pkl', 'rb') as f:\n",
    "    sm_test = pickle.load(f)"
   ]
  },
  {
   "cell_type": "markdown",
   "metadata": {},
   "source": [
    "### Encode ratings"
   ]
  },
  {
   "cell_type": "code",
   "execution_count": 3,
   "metadata": {},
   "outputs": [
    {
     "data": {
      "text/html": [
       "<div>\n",
       "<style scoped>\n",
       "    .dataframe tbody tr th:only-of-type {\n",
       "        vertical-align: middle;\n",
       "    }\n",
       "\n",
       "    .dataframe tbody tr th {\n",
       "        vertical-align: top;\n",
       "    }\n",
       "\n",
       "    .dataframe thead th {\n",
       "        text-align: right;\n",
       "    }\n",
       "</style>\n",
       "<table border=\"1\" class=\"dataframe\">\n",
       "  <thead>\n",
       "    <tr style=\"text-align: right;\">\n",
       "      <th></th>\n",
       "      <th>rating</th>\n",
       "      <th>file</th>\n",
       "      <th>logo</th>\n",
       "      <th>0_x</th>\n",
       "      <th>1_x</th>\n",
       "      <th>2_x</th>\n",
       "      <th>3_x</th>\n",
       "      <th>4_x</th>\n",
       "      <th>5_x</th>\n",
       "      <th>6_x</th>\n",
       "      <th>...</th>\n",
       "      <th>emb_22</th>\n",
       "      <th>emb_23</th>\n",
       "      <th>emb_24</th>\n",
       "      <th>emb_25</th>\n",
       "      <th>emb_26</th>\n",
       "      <th>emb_27</th>\n",
       "      <th>emb_28</th>\n",
       "      <th>emb_29</th>\n",
       "      <th>emb_30</th>\n",
       "      <th>emb_31</th>\n",
       "    </tr>\n",
       "  </thead>\n",
       "  <tbody>\n",
       "    <tr>\n",
       "      <th>0</th>\n",
       "      <td>1.0</td>\n",
       "      <td>logo_0_animation_0</td>\n",
       "      <td>logo_0</td>\n",
       "      <td>0.0</td>\n",
       "      <td>0.0</td>\n",
       "      <td>0.0</td>\n",
       "      <td>0.0</td>\n",
       "      <td>1.0</td>\n",
       "      <td>0.0</td>\n",
       "      <td>0.844422</td>\n",
       "      <td>...</td>\n",
       "      <td>-0.233472</td>\n",
       "      <td>0.151296</td>\n",
       "      <td>-0.273250</td>\n",
       "      <td>0.005558</td>\n",
       "      <td>-1.396540</td>\n",
       "      <td>-0.691423</td>\n",
       "      <td>-0.463657</td>\n",
       "      <td>1.063568</td>\n",
       "      <td>-0.531747</td>\n",
       "      <td>-0.125945</td>\n",
       "    </tr>\n",
       "    <tr>\n",
       "      <th>1</th>\n",
       "      <td>1.0</td>\n",
       "      <td>logo_0_animation_1</td>\n",
       "      <td>logo_0</td>\n",
       "      <td>0.0</td>\n",
       "      <td>0.0</td>\n",
       "      <td>0.0</td>\n",
       "      <td>0.0</td>\n",
       "      <td>0.0</td>\n",
       "      <td>0.0</td>\n",
       "      <td>-1.000000</td>\n",
       "      <td>...</td>\n",
       "      <td>-0.233458</td>\n",
       "      <td>0.151287</td>\n",
       "      <td>-0.273240</td>\n",
       "      <td>0.005559</td>\n",
       "      <td>-1.396550</td>\n",
       "      <td>-0.691419</td>\n",
       "      <td>-0.463666</td>\n",
       "      <td>1.063567</td>\n",
       "      <td>-0.531751</td>\n",
       "      <td>-0.125942</td>\n",
       "    </tr>\n",
       "    <tr>\n",
       "      <th>2</th>\n",
       "      <td>3.0</td>\n",
       "      <td>logo_0_animation_2</td>\n",
       "      <td>logo_0</td>\n",
       "      <td>0.0</td>\n",
       "      <td>0.0</td>\n",
       "      <td>0.0</td>\n",
       "      <td>0.0</td>\n",
       "      <td>0.0</td>\n",
       "      <td>0.0</td>\n",
       "      <td>-1.000000</td>\n",
       "      <td>...</td>\n",
       "      <td>-0.233473</td>\n",
       "      <td>0.151303</td>\n",
       "      <td>-0.273241</td>\n",
       "      <td>0.005558</td>\n",
       "      <td>-1.396537</td>\n",
       "      <td>-0.691423</td>\n",
       "      <td>-0.463662</td>\n",
       "      <td>1.063561</td>\n",
       "      <td>-0.531750</td>\n",
       "      <td>-0.125936</td>\n",
       "    </tr>\n",
       "    <tr>\n",
       "      <th>3</th>\n",
       "      <td>0.0</td>\n",
       "      <td>logo_0_animation_3</td>\n",
       "      <td>logo_0</td>\n",
       "      <td>0.0</td>\n",
       "      <td>0.0</td>\n",
       "      <td>0.0</td>\n",
       "      <td>0.0</td>\n",
       "      <td>1.0</td>\n",
       "      <td>0.0</td>\n",
       "      <td>0.237965</td>\n",
       "      <td>...</td>\n",
       "      <td>-0.233462</td>\n",
       "      <td>0.151294</td>\n",
       "      <td>-0.273250</td>\n",
       "      <td>0.005565</td>\n",
       "      <td>-1.396538</td>\n",
       "      <td>-0.691428</td>\n",
       "      <td>-0.463663</td>\n",
       "      <td>1.063564</td>\n",
       "      <td>-0.531744</td>\n",
       "      <td>-0.125942</td>\n",
       "    </tr>\n",
       "    <tr>\n",
       "      <th>4</th>\n",
       "      <td>1.0</td>\n",
       "      <td>logo_0_animation_4</td>\n",
       "      <td>logo_0</td>\n",
       "      <td>0.0</td>\n",
       "      <td>0.0</td>\n",
       "      <td>0.0</td>\n",
       "      <td>1.0</td>\n",
       "      <td>0.0</td>\n",
       "      <td>0.0</td>\n",
       "      <td>0.236048</td>\n",
       "      <td>...</td>\n",
       "      <td>-0.233454</td>\n",
       "      <td>0.151289</td>\n",
       "      <td>-0.273249</td>\n",
       "      <td>0.005551</td>\n",
       "      <td>-1.396529</td>\n",
       "      <td>-0.691423</td>\n",
       "      <td>-0.463668</td>\n",
       "      <td>1.063562</td>\n",
       "      <td>-0.531749</td>\n",
       "      <td>-0.125946</td>\n",
       "    </tr>\n",
       "  </tbody>\n",
       "</table>\n",
       "<p>5 rows × 123 columns</p>\n",
       "</div>"
      ],
      "text/plain": [
       "   rating                file    logo  0_x  1_x  2_x  3_x  4_x  5_x       6_x  \\\n",
       "0     1.0  logo_0_animation_0  logo_0  0.0  0.0  0.0  0.0  1.0  0.0  0.844422   \n",
       "1     1.0  logo_0_animation_1  logo_0  0.0  0.0  0.0  0.0  0.0  0.0 -1.000000   \n",
       "2     3.0  logo_0_animation_2  logo_0  0.0  0.0  0.0  0.0  0.0  0.0 -1.000000   \n",
       "3     0.0  logo_0_animation_3  logo_0  0.0  0.0  0.0  0.0  1.0  0.0  0.237965   \n",
       "4     1.0  logo_0_animation_4  logo_0  0.0  0.0  0.0  1.0  0.0  0.0  0.236048   \n",
       "\n",
       "   ...    emb_22    emb_23    emb_24    emb_25    emb_26    emb_27    emb_28  \\\n",
       "0  ... -0.233472  0.151296 -0.273250  0.005558 -1.396540 -0.691423 -0.463657   \n",
       "1  ... -0.233458  0.151287 -0.273240  0.005559 -1.396550 -0.691419 -0.463666   \n",
       "2  ... -0.233473  0.151303 -0.273241  0.005558 -1.396537 -0.691423 -0.463662   \n",
       "3  ... -0.233462  0.151294 -0.273250  0.005565 -1.396538 -0.691428 -0.463663   \n",
       "4  ... -0.233454  0.151289 -0.273249  0.005551 -1.396529 -0.691423 -0.463668   \n",
       "\n",
       "     emb_29    emb_30    emb_31  \n",
       "0  1.063568 -0.531747 -0.125945  \n",
       "1  1.063567 -0.531751 -0.125942  \n",
       "2  1.063561 -0.531750 -0.125936  \n",
       "3  1.063564 -0.531744 -0.125942  \n",
       "4  1.063562 -0.531749 -0.125946  \n",
       "\n",
       "[5 rows x 123 columns]"
      ]
     },
     "execution_count": 3,
     "metadata": {},
     "output_type": "execute_result"
    }
   ],
   "source": [
    "sm_train.head()"
   ]
  },
  {
   "cell_type": "code",
   "execution_count": 4,
   "metadata": {},
   "outputs": [],
   "source": [
    "ratings_train = np.array(sm_train[\"rating\"])\n",
    "ratings_test = np.array(sm_test[\"rating\"])"
   ]
  },
  {
   "cell_type": "code",
   "execution_count": 5,
   "metadata": {},
   "outputs": [],
   "source": [
    "ratings_train = pd.DataFrame(encode_classes(ratings_train.reshape(-1,1)), columns=['rating_0','rating_1','rating_2','rating_3'])\n",
    "ratings_test = pd.DataFrame(encode_classes(ratings_test.reshape(-1,1)), columns=['rating_0','rating_1','rating_2','rating_3'])"
   ]
  },
  {
   "cell_type": "code",
   "execution_count": 6,
   "metadata": {},
   "outputs": [],
   "source": [
    "sm_train = pd.concat([sm_train, ratings_train], axis=1)\n",
    "sm_test = pd.concat([sm_test, ratings_test], axis=1)"
   ]
  },
  {
   "cell_type": "markdown",
   "metadata": {},
   "source": [
    "### Drop unnecessary columns and nan rows"
   ]
  },
  {
   "cell_type": "code",
   "execution_count": 7,
   "metadata": {},
   "outputs": [],
   "source": [
    "sm_train.drop(['rating', 'file', 'logo'], axis=1, inplace=True)\n",
    "sm_test.drop(['rating', 'file', 'logo'], axis=1, inplace=True)"
   ]
  },
  {
   "cell_type": "code",
   "execution_count": 31,
   "metadata": {},
   "outputs": [],
   "source": [
    "sm_train.dropna(inplace=True)\n",
    "sm_test.dropna(inplace=True)"
   ]
  },
  {
   "cell_type": "code",
   "execution_count": 33,
   "metadata": {},
   "outputs": [],
   "source": [
    "sm_train.reset_index(drop=True, inplace=True)\n",
    "sm_test.reset_index(drop=True, inplace=True)"
   ]
  },
  {
   "cell_type": "code",
   "execution_count": 36,
   "metadata": {},
   "outputs": [
    {
     "data": {
      "text/plain": [
       "6832"
      ]
     },
     "execution_count": 36,
     "metadata": {},
     "output_type": "execute_result"
    }
   ],
   "source": [
    "len(sm_train)"
   ]
  },
  {
   "cell_type": "markdown",
   "metadata": {},
   "source": [
    "### Save data"
   ]
  },
  {
   "cell_type": "code",
   "execution_count": 37,
   "metadata": {},
   "outputs": [],
   "source": [
    "sm_train.to_csv('data/fitness_function/train_ff.csv', index=False)\n",
    "sm_test.to_csv('data/fitness_function/test_ff.csv', index=False)"
   ]
  },
  {
   "cell_type": "code",
   "execution_count": 23,
   "metadata": {},
   "outputs": [
    {
     "data": {
      "text/plain": [
       "2119"
      ]
     },
     "execution_count": 23,
     "metadata": {},
     "output_type": "execute_result"
    }
   ],
   "source": [
    "len(sm_test)"
   ]
  },
  {
   "cell_type": "code",
   "execution_count": null,
   "metadata": {},
   "outputs": [],
   "source": []
  }
 ],
 "metadata": {
  "kernelspec": {
   "display_name": "animate_logos",
   "language": "python",
   "name": "animate_logos"
  },
  "language_info": {
   "codemirror_mode": {
    "name": "ipython",
    "version": 3
   },
   "file_extension": ".py",
   "mimetype": "text/x-python",
   "name": "python",
   "nbconvert_exporter": "python",
   "pygments_lexer": "ipython3",
   "version": "3.8.8"
  }
 },
 "nbformat": 4,
 "nbformat_minor": 4
}
